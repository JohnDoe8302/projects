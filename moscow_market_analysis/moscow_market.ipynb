{
 "cells": [
  {
   "cell_type": "markdown",
   "id": "e06910dd",
   "metadata": {
    "id": "e06910dd"
   },
   "source": [
    "# Исследование рынка общественного питания Москвы\n",
    "\n",
    "- Автор: Нарыжный В.В.\n",
    "- Дата: 12.04.2025"
   ]
  },
  {
   "cell_type": "markdown",
   "id": "4149134c",
   "metadata": {
    "id": "4149134c"
   },
   "source": [
    "### Цели и задачи проекта\n",
    "\n",
    "**Цель:** Провести исследовательский анализ рынка Москвы для выбора подходящего инвесторам места.   \n",
    "\n",
    "**Задачи:**\n",
    "1. Загрузка данных и знакомство с ними.\n",
    "2. Предобработка данных.\n",
    "3. Исследовательский анализ данных.\n",
    "4. Итоговый вывод и рекомендации."
   ]
  },
  {
   "cell_type": "markdown",
   "id": "728986ea",
   "metadata": {
    "id": "728986ea"
   },
   "source": [
    "### Описание данных\n",
    "\n",
    "Для анализа поступили данные о заведениях общественного питания. Данные состоят из двух датасетов:\n",
    "\n",
    "- `rest_info.csv` — содержит информацию о заведениях общественного питания;\n",
    "- `rest_price.csv` —  содержит информацию о среднем чеке в заведениях общественного питания.\n",
    "\n",
    "### Описание датасета `rest_info.csv`\n",
    "\n",
    " - `name` — название заведения;\n",
    " - `address` — адрес заведения;\n",
    " - `district` — административный район, в котором находится заведение, например Центральный административный округ;\n",
    " - `category` — категория заведения, например «кафе», «пиццерия» или «кофейня»;\n",
    " - `hours` — информация о днях и часах работы;\n",
    " - `rating` — рейтинг заведения по оценкам пользователей в Яндекс Картах (высшая оценка — 5.0);\n",
    " - `chain` — число, выраженное 0 или 1, которое показывает, является ли заведение сетевым (для маленьких сетей могут встречаться ошибки): `0` — заведение не является сетевым; `1` — заведение является сетевым.\n",
    " - `seats` — количество посадочных мест.\n",
    "\n",
    "### Описание датасета `rest_price.csv`\n",
    "\n",
    " - `price` — категория цен в заведении, например «средние», «ниже среднего», «выше среднего» и так далее;\n",
    " - `avg_bill` — строка, которая хранит среднюю стоимость заказа в виде диапазона, например:\n",
    "«Средний счёт: 1000–1500 ₽»;\n",
    "«Цена чашки капучино: 130–220 ₽»;\n",
    "«Цена бокала пива: 400–600 ₽».\n",
    "и так далее;\n",
    " - `middle_avg_bill` — число с оценкой среднего чека, которое указано только для значений из столбца avg_bill, начинающихся с подстроки «Средний счёт»:\n",
    "Если в строке указан ценовой диапазон из двух значений, в столбец войдёт медиана этих двух значений.\n",
    "Если в строке указано одно число — цена без диапазона, то в столбец войдёт это число.\n",
    "Если значения нет или оно не начинается с подстроки «Средний счёт», то в столбец ничего не войдёт.\n",
    " - `middle_coffee_cup` — число с оценкой одной чашки капучино, которое указано только для значений из столбца avg_bill, начинающихся с подстроки «Цена одной чашки капучино»:\n",
    "Если в строке указан ценовой диапазон из двух значений, в столбец войдёт медиана этих двух значений.\n",
    "Если в строке указано одно число — цена без диапазона, то в столбец войдёт это число.\n",
    "Если значения нет или оно не начинается с подстроки «Цена одной чашки капучино», то в столбец ничего не войдёт."
   ]
  },
  {
   "cell_type": "markdown",
   "id": "4fecaf95",
   "metadata": {
    "id": "4fecaf95"
   },
   "source": [
    "### Содержимое проекта\n",
    "\n",
    "1. Загрузка данных и знакомство с ними.\n",
    "2. Предобработка данных.\n",
    "3. Исследовательский анализ данных.\n",
    "4. Итоговые выводы.\n",
    "\n",
    "---"
   ]
  },
  {
   "cell_type": "markdown",
   "id": "6f7d21d6",
   "metadata": {
    "id": "6f7d21d6"
   },
   "source": [
    "## 1. Загрузка данных и знакомство с ними\n",
    "\n",
    "- Начнём с загрузки библиотек и датасетов `rest_price.csv` и `rest_info.csv`. Будем использовать pandas и библиотеки визуализации данных matplotlib и seaborn, а также phik для построения матрицы корреляции. Данные датасетов сохраним в двух переменных: `price_df` и `info_df`."
   ]
  },
  {
   "cell_type": "code",
   "execution_count": 1,
   "id": "91d28e73",
   "metadata": {
    "id": "05faf34b"
   },
   "outputs": [
    {
     "name": "stdout",
     "output_type": "stream",
     "text": [
      "Collecting phik\n",
      "  Downloading phik-0.12.4-cp39-cp39-manylinux_2_17_x86_64.manylinux2014_x86_64.whl (686 kB)\n",
      "\u001b[K     |████████████████████████████████| 686 kB 1.4 MB/s eta 0:00:01\n",
      "\u001b[?25hRequirement already satisfied: scipy>=1.5.2 in /opt/conda/lib/python3.9/site-packages (from phik) (1.9.1)\n",
      "Requirement already satisfied: numpy>=1.18.0 in /opt/conda/lib/python3.9/site-packages (from phik) (1.21.1)\n",
      "Requirement already satisfied: pandas>=0.25.1 in /opt/conda/lib/python3.9/site-packages (from phik) (1.2.4)\n",
      "Requirement already satisfied: matplotlib>=2.2.3 in /opt/conda/lib/python3.9/site-packages (from phik) (3.3.4)\n",
      "Requirement already satisfied: joblib>=0.14.1 in /opt/conda/lib/python3.9/site-packages (from phik) (1.1.0)\n",
      "Requirement already satisfied: cycler>=0.10 in /opt/conda/lib/python3.9/site-packages (from matplotlib>=2.2.3->phik) (0.11.0)\n",
      "Requirement already satisfied: kiwisolver>=1.0.1 in /opt/conda/lib/python3.9/site-packages (from matplotlib>=2.2.3->phik) (1.4.4)\n",
      "Requirement already satisfied: pyparsing!=2.0.4,!=2.1.2,!=2.1.6,>=2.0.3 in /opt/conda/lib/python3.9/site-packages (from matplotlib>=2.2.3->phik) (2.4.7)\n",
      "Requirement already satisfied: pillow>=6.2.0 in /opt/conda/lib/python3.9/site-packages (from matplotlib>=2.2.3->phik) (8.4.0)\n",
      "Requirement already satisfied: python-dateutil>=2.1 in /opt/conda/lib/python3.9/site-packages (from matplotlib>=2.2.3->phik) (2.8.1)\n",
      "Requirement already satisfied: pytz>=2017.3 in /opt/conda/lib/python3.9/site-packages (from pandas>=0.25.1->phik) (2021.1)\n",
      "Requirement already satisfied: six>=1.5 in /opt/conda/lib/python3.9/site-packages (from python-dateutil>=2.1->matplotlib>=2.2.3->phik) (1.16.0)\n",
      "Installing collected packages: phik\n",
      "Successfully installed phik-0.12.4\n"
     ]
    }
   ],
   "source": [
    "!pip install phik"
   ]
  },
  {
   "cell_type": "code",
   "execution_count": 2,
   "id": "ce87c1db",
   "metadata": {
    "id": "ce87c1db"
   },
   "outputs": [],
   "source": [
    "# Импортируем библиотеки\n",
    "import pandas as pd\n",
    "\n",
    "# Загружаем библиотеки для визуализации данных\n",
    "import matplotlib.pyplot as plt\n",
    "import seaborn as sns\n",
    "\n",
    "# Загружаем библиотеку для расчёта коэффициента корреляции phi_k\n",
    "from phik import phik_matrix"
   ]
  },
  {
   "cell_type": "code",
   "execution_count": 3,
   "id": "90fee493",
   "metadata": {
    "id": "90fee493"
   },
   "outputs": [],
   "source": [
    "# Выгружаем данные в переменные price_df и info_df\n",
    "info_df = pd.read_csv('https://code.s3.yandex.net/datasets/rest_info.csv')\n",
    "price_df = pd.read_csv('https://code.s3.yandex.net/datasets/rest_price.csv')"
   ]
  },
  {
   "cell_type": "markdown",
   "id": "18b5dfff",
   "metadata": {
    "id": "18b5dfff"
   },
   "source": [
    "Познакомимся с данными датасета `rest_info.csv` — выведем первые строки методом `head()`, а информацию о датафрейме методом `info()`:"
   ]
  },
  {
   "cell_type": "code",
   "execution_count": 4,
   "id": "f68a7419",
   "metadata": {
    "id": "f68a7419"
   },
   "outputs": [
    {
     "data": {
      "text/html": [
       "<div>\n",
       "<style scoped>\n",
       "    .dataframe tbody tr th:only-of-type {\n",
       "        vertical-align: middle;\n",
       "    }\n",
       "\n",
       "    .dataframe tbody tr th {\n",
       "        vertical-align: top;\n",
       "    }\n",
       "\n",
       "    .dataframe thead th {\n",
       "        text-align: right;\n",
       "    }\n",
       "</style>\n",
       "<table border=\"1\" class=\"dataframe\">\n",
       "  <thead>\n",
       "    <tr style=\"text-align: right;\">\n",
       "      <th></th>\n",
       "      <th>id</th>\n",
       "      <th>name</th>\n",
       "      <th>category</th>\n",
       "      <th>address</th>\n",
       "      <th>district</th>\n",
       "      <th>hours</th>\n",
       "      <th>rating</th>\n",
       "      <th>chain</th>\n",
       "      <th>seats</th>\n",
       "    </tr>\n",
       "  </thead>\n",
       "  <tbody>\n",
       "    <tr>\n",
       "      <th>0</th>\n",
       "      <td>0c3e3439a8c64ea5bf6ecd6ca6ae19f0</td>\n",
       "      <td>WoWфли</td>\n",
       "      <td>кафе</td>\n",
       "      <td>Москва, улица Дыбенко, 7/1</td>\n",
       "      <td>Северный административный округ</td>\n",
       "      <td>ежедневно, 10:00–22:00</td>\n",
       "      <td>5.0</td>\n",
       "      <td>0</td>\n",
       "      <td>NaN</td>\n",
       "    </tr>\n",
       "    <tr>\n",
       "      <th>1</th>\n",
       "      <td>045780ada3474c57a2112e505d74b633</td>\n",
       "      <td>Четыре комнаты</td>\n",
       "      <td>ресторан</td>\n",
       "      <td>Москва, улица Дыбенко, 36, корп. 1</td>\n",
       "      <td>Северный административный округ</td>\n",
       "      <td>ежедневно, 10:00–22:00</td>\n",
       "      <td>4.5</td>\n",
       "      <td>0</td>\n",
       "      <td>4.0</td>\n",
       "    </tr>\n",
       "    <tr>\n",
       "      <th>2</th>\n",
       "      <td>1070b6b59144425896c65889347fcff6</td>\n",
       "      <td>Хазри</td>\n",
       "      <td>кафе</td>\n",
       "      <td>Москва, Клязьминская улица, 15</td>\n",
       "      <td>Северный административный округ</td>\n",
       "      <td>пн-чт 11:00–02:00; пт,сб 11:00–05:00; вс 11:00...</td>\n",
       "      <td>4.6</td>\n",
       "      <td>0</td>\n",
       "      <td>45.0</td>\n",
       "    </tr>\n",
       "    <tr>\n",
       "      <th>3</th>\n",
       "      <td>03ac7cd772104f65b58b349dc59f03ee</td>\n",
       "      <td>Dormouse Coffee Shop</td>\n",
       "      <td>кофейня</td>\n",
       "      <td>Москва, улица Маршала Федоренко, 12</td>\n",
       "      <td>Северный административный округ</td>\n",
       "      <td>ежедневно, 09:00–22:00</td>\n",
       "      <td>5.0</td>\n",
       "      <td>0</td>\n",
       "      <td>NaN</td>\n",
       "    </tr>\n",
       "    <tr>\n",
       "      <th>4</th>\n",
       "      <td>a163aada139c4c7f87b0b1c0b466a50f</td>\n",
       "      <td>Иль Марко</td>\n",
       "      <td>пиццерия</td>\n",
       "      <td>Москва, Правобережная улица, 1Б</td>\n",
       "      <td>Северный административный округ</td>\n",
       "      <td>ежедневно, 10:00–22:00</td>\n",
       "      <td>5.0</td>\n",
       "      <td>1</td>\n",
       "      <td>148.0</td>\n",
       "    </tr>\n",
       "  </tbody>\n",
       "</table>\n",
       "</div>"
      ],
      "text/plain": [
       "                                 id                  name  category  \\\n",
       "0  0c3e3439a8c64ea5bf6ecd6ca6ae19f0                WoWфли      кафе   \n",
       "1  045780ada3474c57a2112e505d74b633        Четыре комнаты  ресторан   \n",
       "2  1070b6b59144425896c65889347fcff6                 Хазри      кафе   \n",
       "3  03ac7cd772104f65b58b349dc59f03ee  Dormouse Coffee Shop   кофейня   \n",
       "4  a163aada139c4c7f87b0b1c0b466a50f             Иль Марко  пиццерия   \n",
       "\n",
       "                               address                         district  \\\n",
       "0           Москва, улица Дыбенко, 7/1  Северный административный округ   \n",
       "1   Москва, улица Дыбенко, 36, корп. 1  Северный административный округ   \n",
       "2       Москва, Клязьминская улица, 15  Северный административный округ   \n",
       "3  Москва, улица Маршала Федоренко, 12  Северный административный округ   \n",
       "4      Москва, Правобережная улица, 1Б  Северный административный округ   \n",
       "\n",
       "                                               hours  rating  chain  seats  \n",
       "0                             ежедневно, 10:00–22:00     5.0      0    NaN  \n",
       "1                             ежедневно, 10:00–22:00     4.5      0    4.0  \n",
       "2  пн-чт 11:00–02:00; пт,сб 11:00–05:00; вс 11:00...     4.6      0   45.0  \n",
       "3                             ежедневно, 09:00–22:00     5.0      0    NaN  \n",
       "4                             ежедневно, 10:00–22:00     5.0      1  148.0  "
      ]
     },
     "execution_count": 4,
     "metadata": {},
     "output_type": "execute_result"
    }
   ],
   "source": [
    "# Выводим первые строки датафрейма на экран\n",
    "info_df.head()"
   ]
  },
  {
   "cell_type": "code",
   "execution_count": 5,
   "id": "dd415c80",
   "metadata": {
    "id": "dd415c80"
   },
   "outputs": [
    {
     "name": "stdout",
     "output_type": "stream",
     "text": [
      "<class 'pandas.core.frame.DataFrame'>\n",
      "RangeIndex: 8406 entries, 0 to 8405\n",
      "Data columns (total 9 columns):\n",
      " #   Column    Non-Null Count  Dtype  \n",
      "---  ------    --------------  -----  \n",
      " 0   id        8406 non-null   object \n",
      " 1   name      8406 non-null   object \n",
      " 2   category  8406 non-null   object \n",
      " 3   address   8406 non-null   object \n",
      " 4   district  8406 non-null   object \n",
      " 5   hours     7870 non-null   object \n",
      " 6   rating    8406 non-null   float64\n",
      " 7   chain     8406 non-null   int64  \n",
      " 8   seats     4795 non-null   float64\n",
      "dtypes: float64(2), int64(1), object(6)\n",
      "memory usage: 591.2+ KB\n"
     ]
    }
   ],
   "source": [
    "# Выводим информацию о датафрейме\n",
    "info_df.info()"
   ]
  },
  {
   "cell_type": "code",
   "execution_count": 6,
   "id": "b0e1ce29",
   "metadata": {},
   "outputs": [
    {
     "data": {
      "text/html": [
       "<div>\n",
       "<style scoped>\n",
       "    .dataframe tbody tr th:only-of-type {\n",
       "        vertical-align: middle;\n",
       "    }\n",
       "\n",
       "    .dataframe tbody tr th {\n",
       "        vertical-align: top;\n",
       "    }\n",
       "\n",
       "    .dataframe thead th {\n",
       "        text-align: right;\n",
       "    }\n",
       "</style>\n",
       "<table border=\"1\" class=\"dataframe\">\n",
       "  <thead>\n",
       "    <tr style=\"text-align: right;\">\n",
       "      <th></th>\n",
       "      <th>id</th>\n",
       "      <th>price</th>\n",
       "      <th>avg_bill</th>\n",
       "      <th>middle_avg_bill</th>\n",
       "      <th>middle_coffee_cup</th>\n",
       "    </tr>\n",
       "  </thead>\n",
       "  <tbody>\n",
       "    <tr>\n",
       "      <th>0</th>\n",
       "      <td>045780ada3474c57a2112e505d74b633</td>\n",
       "      <td>выше среднего</td>\n",
       "      <td>Средний счёт:1500–1600 ₽</td>\n",
       "      <td>1550.0</td>\n",
       "      <td>NaN</td>\n",
       "    </tr>\n",
       "    <tr>\n",
       "      <th>1</th>\n",
       "      <td>1070b6b59144425896c65889347fcff6</td>\n",
       "      <td>средние</td>\n",
       "      <td>Средний счёт:от 1000 ₽</td>\n",
       "      <td>1000.0</td>\n",
       "      <td>NaN</td>\n",
       "    </tr>\n",
       "    <tr>\n",
       "      <th>2</th>\n",
       "      <td>03ac7cd772104f65b58b349dc59f03ee</td>\n",
       "      <td>NaN</td>\n",
       "      <td>Цена чашки капучино:155–185 ₽</td>\n",
       "      <td>NaN</td>\n",
       "      <td>170.0</td>\n",
       "    </tr>\n",
       "    <tr>\n",
       "      <th>3</th>\n",
       "      <td>a163aada139c4c7f87b0b1c0b466a50f</td>\n",
       "      <td>средние</td>\n",
       "      <td>Средний счёт:400–600 ₽</td>\n",
       "      <td>500.0</td>\n",
       "      <td>NaN</td>\n",
       "    </tr>\n",
       "    <tr>\n",
       "      <th>4</th>\n",
       "      <td>8a343546b24e4a499ad96eb7d0797a8a</td>\n",
       "      <td>средние</td>\n",
       "      <td>NaN</td>\n",
       "      <td>NaN</td>\n",
       "      <td>NaN</td>\n",
       "    </tr>\n",
       "  </tbody>\n",
       "</table>\n",
       "</div>"
      ],
      "text/plain": [
       "                                 id          price  \\\n",
       "0  045780ada3474c57a2112e505d74b633  выше среднего   \n",
       "1  1070b6b59144425896c65889347fcff6        средние   \n",
       "2  03ac7cd772104f65b58b349dc59f03ee            NaN   \n",
       "3  a163aada139c4c7f87b0b1c0b466a50f        средние   \n",
       "4  8a343546b24e4a499ad96eb7d0797a8a        средние   \n",
       "\n",
       "                        avg_bill  middle_avg_bill  middle_coffee_cup  \n",
       "0       Средний счёт:1500–1600 ₽           1550.0                NaN  \n",
       "1         Средний счёт:от 1000 ₽           1000.0                NaN  \n",
       "2  Цена чашки капучино:155–185 ₽              NaN              170.0  \n",
       "3         Средний счёт:400–600 ₽            500.0                NaN  \n",
       "4                            NaN              NaN                NaN  "
      ]
     },
     "execution_count": 6,
     "metadata": {},
     "output_type": "execute_result"
    }
   ],
   "source": [
    "# Выводим первые строки датафрейма на экран\n",
    "price_df.head()"
   ]
  },
  {
   "cell_type": "code",
   "execution_count": 7,
   "id": "ffbb16cd",
   "metadata": {},
   "outputs": [
    {
     "name": "stdout",
     "output_type": "stream",
     "text": [
      "<class 'pandas.core.frame.DataFrame'>\n",
      "RangeIndex: 4058 entries, 0 to 4057\n",
      "Data columns (total 5 columns):\n",
      " #   Column             Non-Null Count  Dtype  \n",
      "---  ------             --------------  -----  \n",
      " 0   id                 4058 non-null   object \n",
      " 1   price              3315 non-null   object \n",
      " 2   avg_bill           3816 non-null   object \n",
      " 3   middle_avg_bill    3149 non-null   float64\n",
      " 4   middle_coffee_cup  535 non-null    float64\n",
      "dtypes: float64(2), object(3)\n",
      "memory usage: 158.6+ KB\n"
     ]
    }
   ],
   "source": [
    "# Выводим информацию о датафрейме\n",
    "price_df.info()"
   ]
  },
  {
   "cell_type": "markdown",
   "id": "2c614a62",
   "metadata": {
    "id": "2c614a62"
   },
   "source": [
    "---\n",
    "\n",
    "### Промежуточный вывод\n",
    "\n",
    "Сделаем промежуточный вывод о полученных данных: данные какого объёма нам предоставили, соответствуют ли данные описанию, встречаются ли в них пропуски, используются ли верные типы данных. Отметим другие особенности данных, которые мы обнаружили на этой стадии и на которые стоит обратить внимание при предобработке."
   ]
  },
  {
   "cell_type": "markdown",
   "id": "47e9efa6",
   "metadata": {
    "id": "3593b7d5"
   },
   "source": [
    "Датасет `rest_info.csv` содержит 9 столбцов и 8406 строк, в которых представлена информация о заведениях общественного питания.\n",
    "\n",
    "Изучим типы данных и их корректность:\n",
    "- **Числовые значения с плавающей запятой (float64).** Один столбец, `seats`, содержит количество посадочных мест и представлен типом `float64`. Логичнее было бы использовать целочисленный тип (int).\n",
    "\n",
    "- **Пропуски в данных.** \n",
    "   - В столбце `hours` пропущено 536 значений. В столбце `seats` пропущено 3611 значений.Так как пропуски могут повлиять на анализ, их нужно будет обработать.\n",
    "- **Названия столбцов.**    \n",
    "   - После анализа типов данных видно, что большинство столбцов корректно представлены. Названия столбцов в целом отражают содержимое данных."
   ]
  },
  {
   "cell_type": "markdown",
   "id": "f0a005f2",
   "metadata": {
    "id": "c2cc7f38"
   },
   "source": [
    "Датасет `rest_price.csv` содержит 5 столбцов и 4058 строк, в которых представлена информация о среднем чеке в заведениях общественного питания.\n",
    "\n",
    "Изучим типы данных и их корректность:\n",
    "- **Типы данных.** \n",
    " - Типы данных представленны корректно\n",
    "\n",
    "- **Пропуски в данных.** \n",
    "   - В столбце `price ` пропущено 743 значений. В столбце `avg_bill ` пропущено 242 значений.В столбце `middle_avg_bill` пропущено 909 значений.В столбце `middle_coffee_cup` пропущено 3523 значений. Так как пропуски могут повлиять на анализ, их нужно будет обработать.\n",
    "- **Названия столбцов.**    \n",
    "   - После анализа типов данных видно, что большинство столбцов корректно представлены. Названия столбцов в целом отражают содержимое данных."
   ]
  },
  {
   "cell_type": "markdown",
   "id": "8a8d1491",
   "metadata": {
    "id": "8a8d1491"
   },
   "source": [
    "### Подготовка единого датафрейма\n",
    "\n",
    "- Объединим данные двух датасетов в один, с которым мы и продолжим работу."
   ]
  },
  {
   "cell_type": "code",
   "execution_count": 8,
   "id": "3408e303",
   "metadata": {
    "id": "3408e303"
   },
   "outputs": [],
   "source": [
    "# Объединим два датасета в один с которым продолжим работу\n",
    "df = pd.merge(info_df,price_df,on='id',how='left')"
   ]
  },
  {
   "cell_type": "code",
   "execution_count": 9,
   "id": "5695950b",
   "metadata": {
    "id": "5695950b"
   },
   "outputs": [
    {
     "data": {
      "text/html": [
       "<div>\n",
       "<style scoped>\n",
       "    .dataframe tbody tr th:only-of-type {\n",
       "        vertical-align: middle;\n",
       "    }\n",
       "\n",
       "    .dataframe tbody tr th {\n",
       "        vertical-align: top;\n",
       "    }\n",
       "\n",
       "    .dataframe thead th {\n",
       "        text-align: right;\n",
       "    }\n",
       "</style>\n",
       "<table border=\"1\" class=\"dataframe\">\n",
       "  <thead>\n",
       "    <tr style=\"text-align: right;\">\n",
       "      <th></th>\n",
       "      <th>id</th>\n",
       "      <th>name</th>\n",
       "      <th>category</th>\n",
       "      <th>address</th>\n",
       "      <th>district</th>\n",
       "      <th>hours</th>\n",
       "      <th>rating</th>\n",
       "      <th>chain</th>\n",
       "      <th>seats</th>\n",
       "      <th>price</th>\n",
       "      <th>avg_bill</th>\n",
       "      <th>middle_avg_bill</th>\n",
       "      <th>middle_coffee_cup</th>\n",
       "    </tr>\n",
       "  </thead>\n",
       "  <tbody>\n",
       "    <tr>\n",
       "      <th>0</th>\n",
       "      <td>0c3e3439a8c64ea5bf6ecd6ca6ae19f0</td>\n",
       "      <td>WoWфли</td>\n",
       "      <td>кафе</td>\n",
       "      <td>Москва, улица Дыбенко, 7/1</td>\n",
       "      <td>Северный административный округ</td>\n",
       "      <td>ежедневно, 10:00–22:00</td>\n",
       "      <td>5.0</td>\n",
       "      <td>0</td>\n",
       "      <td>NaN</td>\n",
       "      <td>NaN</td>\n",
       "      <td>NaN</td>\n",
       "      <td>NaN</td>\n",
       "      <td>NaN</td>\n",
       "    </tr>\n",
       "    <tr>\n",
       "      <th>1</th>\n",
       "      <td>045780ada3474c57a2112e505d74b633</td>\n",
       "      <td>Четыре комнаты</td>\n",
       "      <td>ресторан</td>\n",
       "      <td>Москва, улица Дыбенко, 36, корп. 1</td>\n",
       "      <td>Северный административный округ</td>\n",
       "      <td>ежедневно, 10:00–22:00</td>\n",
       "      <td>4.5</td>\n",
       "      <td>0</td>\n",
       "      <td>4.0</td>\n",
       "      <td>выше среднего</td>\n",
       "      <td>Средний счёт:1500–1600 ₽</td>\n",
       "      <td>1550.0</td>\n",
       "      <td>NaN</td>\n",
       "    </tr>\n",
       "    <tr>\n",
       "      <th>2</th>\n",
       "      <td>1070b6b59144425896c65889347fcff6</td>\n",
       "      <td>Хазри</td>\n",
       "      <td>кафе</td>\n",
       "      <td>Москва, Клязьминская улица, 15</td>\n",
       "      <td>Северный административный округ</td>\n",
       "      <td>пн-чт 11:00–02:00; пт,сб 11:00–05:00; вс 11:00...</td>\n",
       "      <td>4.6</td>\n",
       "      <td>0</td>\n",
       "      <td>45.0</td>\n",
       "      <td>средние</td>\n",
       "      <td>Средний счёт:от 1000 ₽</td>\n",
       "      <td>1000.0</td>\n",
       "      <td>NaN</td>\n",
       "    </tr>\n",
       "    <tr>\n",
       "      <th>3</th>\n",
       "      <td>03ac7cd772104f65b58b349dc59f03ee</td>\n",
       "      <td>Dormouse Coffee Shop</td>\n",
       "      <td>кофейня</td>\n",
       "      <td>Москва, улица Маршала Федоренко, 12</td>\n",
       "      <td>Северный административный округ</td>\n",
       "      <td>ежедневно, 09:00–22:00</td>\n",
       "      <td>5.0</td>\n",
       "      <td>0</td>\n",
       "      <td>NaN</td>\n",
       "      <td>NaN</td>\n",
       "      <td>Цена чашки капучино:155–185 ₽</td>\n",
       "      <td>NaN</td>\n",
       "      <td>170.0</td>\n",
       "    </tr>\n",
       "    <tr>\n",
       "      <th>4</th>\n",
       "      <td>a163aada139c4c7f87b0b1c0b466a50f</td>\n",
       "      <td>Иль Марко</td>\n",
       "      <td>пиццерия</td>\n",
       "      <td>Москва, Правобережная улица, 1Б</td>\n",
       "      <td>Северный административный округ</td>\n",
       "      <td>ежедневно, 10:00–22:00</td>\n",
       "      <td>5.0</td>\n",
       "      <td>1</td>\n",
       "      <td>148.0</td>\n",
       "      <td>средние</td>\n",
       "      <td>Средний счёт:400–600 ₽</td>\n",
       "      <td>500.0</td>\n",
       "      <td>NaN</td>\n",
       "    </tr>\n",
       "  </tbody>\n",
       "</table>\n",
       "</div>"
      ],
      "text/plain": [
       "                                 id                  name  category  \\\n",
       "0  0c3e3439a8c64ea5bf6ecd6ca6ae19f0                WoWфли      кафе   \n",
       "1  045780ada3474c57a2112e505d74b633        Четыре комнаты  ресторан   \n",
       "2  1070b6b59144425896c65889347fcff6                 Хазри      кафе   \n",
       "3  03ac7cd772104f65b58b349dc59f03ee  Dormouse Coffee Shop   кофейня   \n",
       "4  a163aada139c4c7f87b0b1c0b466a50f             Иль Марко  пиццерия   \n",
       "\n",
       "                               address                         district  \\\n",
       "0           Москва, улица Дыбенко, 7/1  Северный административный округ   \n",
       "1   Москва, улица Дыбенко, 36, корп. 1  Северный административный округ   \n",
       "2       Москва, Клязьминская улица, 15  Северный административный округ   \n",
       "3  Москва, улица Маршала Федоренко, 12  Северный административный округ   \n",
       "4      Москва, Правобережная улица, 1Б  Северный административный округ   \n",
       "\n",
       "                                               hours  rating  chain  seats  \\\n",
       "0                             ежедневно, 10:00–22:00     5.0      0    NaN   \n",
       "1                             ежедневно, 10:00–22:00     4.5      0    4.0   \n",
       "2  пн-чт 11:00–02:00; пт,сб 11:00–05:00; вс 11:00...     4.6      0   45.0   \n",
       "3                             ежедневно, 09:00–22:00     5.0      0    NaN   \n",
       "4                             ежедневно, 10:00–22:00     5.0      1  148.0   \n",
       "\n",
       "           price                       avg_bill  middle_avg_bill  \\\n",
       "0            NaN                            NaN              NaN   \n",
       "1  выше среднего       Средний счёт:1500–1600 ₽           1550.0   \n",
       "2        средние         Средний счёт:от 1000 ₽           1000.0   \n",
       "3            NaN  Цена чашки капучино:155–185 ₽              NaN   \n",
       "4        средние         Средний счёт:400–600 ₽            500.0   \n",
       "\n",
       "   middle_coffee_cup  \n",
       "0                NaN  \n",
       "1                NaN  \n",
       "2                NaN  \n",
       "3              170.0  \n",
       "4                NaN  "
      ]
     },
     "execution_count": 9,
     "metadata": {},
     "output_type": "execute_result"
    }
   ],
   "source": [
    "# Выведем данные \n",
    "df.head()"
   ]
  },
  {
   "cell_type": "code",
   "execution_count": 10,
   "id": "6577c71c",
   "metadata": {
    "id": "6577c71c"
   },
   "outputs": [
    {
     "name": "stdout",
     "output_type": "stream",
     "text": [
      "<class 'pandas.core.frame.DataFrame'>\n",
      "Int64Index: 8406 entries, 0 to 8405\n",
      "Data columns (total 13 columns):\n",
      " #   Column             Non-Null Count  Dtype  \n",
      "---  ------             --------------  -----  \n",
      " 0   id                 8406 non-null   object \n",
      " 1   name               8406 non-null   object \n",
      " 2   category           8406 non-null   object \n",
      " 3   address            8406 non-null   object \n",
      " 4   district           8406 non-null   object \n",
      " 5   hours              7870 non-null   object \n",
      " 6   rating             8406 non-null   float64\n",
      " 7   chain              8406 non-null   int64  \n",
      " 8   seats              4795 non-null   float64\n",
      " 9   price              3315 non-null   object \n",
      " 10  avg_bill           3816 non-null   object \n",
      " 11  middle_avg_bill    3149 non-null   float64\n",
      " 12  middle_coffee_cup  535 non-null    float64\n",
      "dtypes: float64(4), int64(1), object(8)\n",
      "memory usage: 919.4+ KB\n"
     ]
    }
   ],
   "source": [
    "df.info()"
   ]
  },
  {
   "cell_type": "code",
   "execution_count": 11,
   "id": "e8a7deb1",
   "metadata": {},
   "outputs": [
    {
     "name": "stdout",
     "output_type": "stream",
     "text": [
      "Размер info_df до объединения: (8406, 9)\n",
      "Размер price_df до объединения: (4058, 5)\n",
      "Размер объединенного датафрейма: (8406, 13)\n"
     ]
    }
   ],
   "source": [
    "print(f'Размер info_df до объединения: {info_df.shape}')\n",
    "print(f'Размер price_df до объединения: {price_df.shape}')\n",
    "print(f'Размер объединенного датафрейма: {df.shape}')"
   ]
  },
  {
   "cell_type": "markdown",
   "id": "956e82e2",
   "metadata": {
    "id": "956e82e2"
   },
   "source": [
    "## 2. Предобработка данных\n",
    "\n",
    "Подготовим данные к исследовательскому анализу:\n",
    "\n",
    "- Изучим корректность типов данных и при необходимости проведем их преобразование."
   ]
  },
  {
   "cell_type": "markdown",
   "id": "bf65adf0",
   "metadata": {
    "id": "67956690"
   },
   "source": [
    "Из описания видно что в данных встречаются корректные типы данных для дальнейшего анализа"
   ]
  },
  {
   "cell_type": "markdown",
   "id": "4b7ee469",
   "metadata": {
    "id": "4b7ee469"
   },
   "source": [
    "- Изучим пропущенные значения в данных: посчитаем их количество в каждом столбце датафрейме, изучим данные с пропущенными значениями и предположм гипотезы их появления. Проведем обработку пропущенных значений."
   ]
  },
  {
   "cell_type": "markdown",
   "id": "096583be",
   "metadata": {
    "id": "3d8840ca"
   },
   "source": [
    "Посчитаем количество пропусков в каждом столбце в абсолютных и относительных значениях."
   ]
  },
  {
   "cell_type": "code",
   "execution_count": 12,
   "id": "2ea145ca",
   "metadata": {
    "id": "2ea145ca"
   },
   "outputs": [],
   "source": [
    "# Считаем количество пропусков\n",
    "missing_count = df.isna().sum()"
   ]
  },
  {
   "cell_type": "code",
   "execution_count": 13,
   "id": "d9e7c358",
   "metadata": {
    "id": "d9e7c358"
   },
   "outputs": [
    {
     "data": {
      "text/plain": [
       "id                      0\n",
       "name                    0\n",
       "category                0\n",
       "address                 0\n",
       "district                0\n",
       "hours                 536\n",
       "rating                  0\n",
       "chain                   0\n",
       "seats                3611\n",
       "price                5091\n",
       "avg_bill             4590\n",
       "middle_avg_bill      5257\n",
       "middle_coffee_cup    7871\n",
       "dtype: int64"
      ]
     },
     "execution_count": 13,
     "metadata": {},
     "output_type": "execute_result"
    }
   ],
   "source": [
    "# Выводим результат\n",
    "missing_count"
   ]
  },
  {
   "cell_type": "code",
   "execution_count": 14,
   "id": "7187bf55",
   "metadata": {},
   "outputs": [],
   "source": [
    "# Считаем количество пропусков в процентах\n",
    "missing_percent = round((df.isna().sum() / len(df)) * 100,2)"
   ]
  },
  {
   "cell_type": "code",
   "execution_count": 15,
   "id": "43fa4fdc",
   "metadata": {},
   "outputs": [
    {
     "data": {
      "text/plain": [
       "id                    0.00\n",
       "name                  0.00\n",
       "category              0.00\n",
       "address               0.00\n",
       "district              0.00\n",
       "hours                 6.38\n",
       "rating                0.00\n",
       "chain                 0.00\n",
       "seats                42.96\n",
       "price                60.56\n",
       "avg_bill             54.60\n",
       "middle_avg_bill      62.54\n",
       "middle_coffee_cup    93.64\n",
       "dtype: float64"
      ]
     },
     "execution_count": 15,
     "metadata": {},
     "output_type": "execute_result"
    }
   ],
   "source": [
    "# Выводим результат\n",
    "missing_percent"
   ]
  },
  {
   "cell_type": "markdown",
   "id": "b5036ffd",
   "metadata": {},
   "source": [
    "- **Столбцы с пропусками.**\n",
    "  - `hours` 536 пропусков (6,38%).\n",
    "\n",
    "  - `seats ` 3611 пропуска (42,96%).\n",
    "\n",
    "  - `price` 5091 пропусков (60,56%).\n",
    "\n",
    "  - `avg_bill` 4590 пропуска (54,60%).\n",
    "\n",
    "  - `middle_avg_bill` 5257 пропусков (62,54%).\n",
    "\n",
    "  - `middle_coffee_cup` 7871 пропусков (93,64%)."
   ]
  },
  {
   "cell_type": "markdown",
   "id": "c4fb6565",
   "metadata": {},
   "source": [
    " - Пропуски могут быть связаны с отсутствием данных или ошибками при их сборе.\n",
    " - Заменим пропуски в `hours` и `price` на `Нет информации`, медианным значением в `seats`,в `avg_bill` пропуски оставим так как  `middle_avg_bill` и `middle_coffee_cup` заполним индикатором"
   ]
  },
  {
   "cell_type": "code",
   "execution_count": 16,
   "id": "55839382",
   "metadata": {},
   "outputs": [],
   "source": [
    "# Заменим пропуски в hours и price на 'Нет информации' \n",
    "df['hours'] = df['hours'].fillna('Нет информации') \n",
    "df['price'] = df['price'].fillna('Нет информации')"
   ]
  },
  {
   "cell_type": "code",
   "execution_count": 17,
   "id": "57ee4fd3",
   "metadata": {},
   "outputs": [],
   "source": [
    "# Создаем таблицу с медианами по категориям\n",
    "median_table = df.groupby('category')['seats'].median().reset_index()\n",
    "median_table.columns = ['category', 'median_seats']\n",
    "\n",
    "# Объединяем таблицы\n",
    "df = df.merge(median_table, on='category', how='left')\n",
    "\n",
    "# Заполняем пропуски\n",
    "df['seats'] = df['seats'].fillna(df['median_seats'])"
   ]
  },
  {
   "cell_type": "code",
   "execution_count": 18,
   "id": "49ea685f",
   "metadata": {},
   "outputs": [],
   "source": [
    "# Для middle_avg_bill и middle_coffee_cup заполним индикатором\n",
    "df['middle_avg_bill'] = df['middle_avg_bill'].fillna(-1)\n",
    "df['middle_coffee_cup'] = df['middle_coffee_cup'].fillna(-1)"
   ]
  },
  {
   "cell_type": "code",
   "execution_count": 19,
   "id": "78d52406",
   "metadata": {},
   "outputs": [
    {
     "data": {
      "text/plain": [
       "id                      0\n",
       "name                    0\n",
       "category                0\n",
       "address                 0\n",
       "district                0\n",
       "hours                   0\n",
       "rating                  0\n",
       "chain                   0\n",
       "seats                   0\n",
       "price                   0\n",
       "avg_bill             4590\n",
       "middle_avg_bill         0\n",
       "middle_coffee_cup       0\n",
       "median_seats            0\n",
       "dtype: int64"
      ]
     },
     "execution_count": 19,
     "metadata": {},
     "output_type": "execute_result"
    }
   ],
   "source": [
    "# Проверяем результат\n",
    "df.isna().sum()"
   ]
  },
  {
   "cell_type": "markdown",
   "id": "c4d5f04d",
   "metadata": {
    "id": "c4d5f04d"
   },
   "source": [
    "- Проверим данные на явные и неявные дубликаты, например поля с названием и адресом заведения. Для оптимизации проверки нормализуем данные в текстовых столбцах, например с названием заведения."
   ]
  },
  {
   "cell_type": "code",
   "execution_count": 20,
   "id": "0769b681",
   "metadata": {
    "id": "0769b681"
   },
   "outputs": [],
   "source": [
    "# Проверяем дубликаты\n",
    "duplicates = df[df.duplicated(keep=False)]"
   ]
  },
  {
   "cell_type": "code",
   "execution_count": 21,
   "id": "95b15cd0",
   "metadata": {
    "id": "95b15cd0"
   },
   "outputs": [
    {
     "data": {
      "text/html": [
       "<div>\n",
       "<style scoped>\n",
       "    .dataframe tbody tr th:only-of-type {\n",
       "        vertical-align: middle;\n",
       "    }\n",
       "\n",
       "    .dataframe tbody tr th {\n",
       "        vertical-align: top;\n",
       "    }\n",
       "\n",
       "    .dataframe thead th {\n",
       "        text-align: right;\n",
       "    }\n",
       "</style>\n",
       "<table border=\"1\" class=\"dataframe\">\n",
       "  <thead>\n",
       "    <tr style=\"text-align: right;\">\n",
       "      <th></th>\n",
       "      <th>id</th>\n",
       "      <th>name</th>\n",
       "      <th>category</th>\n",
       "      <th>address</th>\n",
       "      <th>district</th>\n",
       "      <th>hours</th>\n",
       "      <th>rating</th>\n",
       "      <th>chain</th>\n",
       "      <th>seats</th>\n",
       "      <th>price</th>\n",
       "      <th>avg_bill</th>\n",
       "      <th>middle_avg_bill</th>\n",
       "      <th>middle_coffee_cup</th>\n",
       "      <th>median_seats</th>\n",
       "    </tr>\n",
       "  </thead>\n",
       "  <tbody>\n",
       "  </tbody>\n",
       "</table>\n",
       "</div>"
      ],
      "text/plain": [
       "Empty DataFrame\n",
       "Columns: [id, name, category, address, district, hours, rating, chain, seats, price, avg_bill, middle_avg_bill, middle_coffee_cup, median_seats]\n",
       "Index: []"
      ]
     },
     "execution_count": 21,
     "metadata": {},
     "output_type": "execute_result"
    }
   ],
   "source": [
    "# выводим результат\n",
    "duplicates.head()"
   ]
  },
  {
   "cell_type": "markdown",
   "id": "1db5dcf2",
   "metadata": {
    "id": "b52bae9a"
   },
   "source": [
    "В датафрейме нет полных дубликатов строк. Проверим неявные дубликаты,нормализуем данные в текстовых столбцах, например с названием и адресом заведения:"
   ]
  },
  {
   "cell_type": "code",
   "execution_count": 22,
   "id": "730bf7a0",
   "metadata": {},
   "outputs": [],
   "source": [
    "# Нормализуем данные в текстовых столбцах\n",
    "df['name_lower'] = df['name'].str.lower()\n",
    "df['address_lower'] = df['address'].str.lower()"
   ]
  },
  {
   "cell_type": "code",
   "execution_count": 23,
   "id": "28a2b2e5",
   "metadata": {},
   "outputs": [
    {
     "data": {
      "text/html": [
       "<div>\n",
       "<style scoped>\n",
       "    .dataframe tbody tr th:only-of-type {\n",
       "        vertical-align: middle;\n",
       "    }\n",
       "\n",
       "    .dataframe tbody tr th {\n",
       "        vertical-align: top;\n",
       "    }\n",
       "\n",
       "    .dataframe thead th {\n",
       "        text-align: right;\n",
       "    }\n",
       "</style>\n",
       "<table border=\"1\" class=\"dataframe\">\n",
       "  <thead>\n",
       "    <tr style=\"text-align: right;\">\n",
       "      <th></th>\n",
       "      <th>name_lower</th>\n",
       "      <th>address_lower</th>\n",
       "    </tr>\n",
       "  </thead>\n",
       "  <tbody>\n",
       "    <tr>\n",
       "      <th>0</th>\n",
       "      <td>wowфли</td>\n",
       "      <td>москва, улица дыбенко, 7/1</td>\n",
       "    </tr>\n",
       "    <tr>\n",
       "      <th>1</th>\n",
       "      <td>четыре комнаты</td>\n",
       "      <td>москва, улица дыбенко, 36, корп. 1</td>\n",
       "    </tr>\n",
       "    <tr>\n",
       "      <th>2</th>\n",
       "      <td>хазри</td>\n",
       "      <td>москва, клязьминская улица, 15</td>\n",
       "    </tr>\n",
       "    <tr>\n",
       "      <th>3</th>\n",
       "      <td>dormouse coffee shop</td>\n",
       "      <td>москва, улица маршала федоренко, 12</td>\n",
       "    </tr>\n",
       "    <tr>\n",
       "      <th>4</th>\n",
       "      <td>иль марко</td>\n",
       "      <td>москва, правобережная улица, 1б</td>\n",
       "    </tr>\n",
       "  </tbody>\n",
       "</table>\n",
       "</div>"
      ],
      "text/plain": [
       "             name_lower                        address_lower\n",
       "0                wowфли           москва, улица дыбенко, 7/1\n",
       "1        четыре комнаты   москва, улица дыбенко, 36, корп. 1\n",
       "2                 хазри       москва, клязьминская улица, 15\n",
       "3  dormouse coffee shop  москва, улица маршала федоренко, 12\n",
       "4             иль марко      москва, правобережная улица, 1б"
      ]
     },
     "execution_count": 23,
     "metadata": {},
     "output_type": "execute_result"
    }
   ],
   "source": [
    "# Проверим результат\n",
    "df[['name_lower','address_lower']].head()"
   ]
  },
  {
   "cell_type": "code",
   "execution_count": 24,
   "id": "b1a33b34",
   "metadata": {},
   "outputs": [],
   "source": [
    "# Проверяем дубликаты\n",
    "duplicates = df[df.duplicated(['name_lower', 'address_lower'], keep=False)]"
   ]
  },
  {
   "cell_type": "code",
   "execution_count": 25,
   "id": "5538bc53",
   "metadata": {},
   "outputs": [
    {
     "data": {
      "text/plain": [
       "'Количество дубликатов : 8'"
      ]
     },
     "execution_count": 25,
     "metadata": {},
     "output_type": "execute_result"
    }
   ],
   "source": [
    "# Выводим количество\n",
    "f'Количество дубликатов : {len(duplicates)}'"
   ]
  },
  {
   "cell_type": "code",
   "execution_count": 26,
   "id": "2724b968",
   "metadata": {},
   "outputs": [],
   "source": [
    "# Удаляем дубликаты\n",
    "df = df.drop_duplicates(['name_lower', 'address_lower'])"
   ]
  },
  {
   "cell_type": "code",
   "execution_count": 27,
   "id": "e5024d69",
   "metadata": {},
   "outputs": [
    {
     "data": {
      "text/plain": [
       "8402"
      ]
     },
     "execution_count": 27,
     "metadata": {},
     "output_type": "execute_result"
    }
   ],
   "source": [
    "# Проверяем результат\n",
    "len(df)"
   ]
  },
  {
   "cell_type": "markdown",
   "id": "e30acfd8",
   "metadata": {},
   "source": [
    "- Напишем промежуточный вывод: укажем количество найденных дубликатов и действия по их обработке."
   ]
  },
  {
   "cell_type": "markdown",
   "id": "7198e8c4",
   "metadata": {},
   "source": [
    "- **Неявные дубликаты.** \n",
    "  - Устранили. Нормализовали данные в текстовых столбцах\n",
    "- **Явные дубликаты.** \n",
    "  - Явных дубликатов нет\n",
    "  \n",
    "- Данные нормализовали.Нормализовали данные в текстовых столбцах,неявные дубликаты устранили"
   ]
  },
  {
   "cell_type": "markdown",
   "id": "4c0563f2",
   "metadata": {
    "id": "4c0563f2"
   },
   "source": [
    "- Для дальнейшей работы создадим столбец `is_24_7` с обозначением того, что заведение работает ежедневно и круглосуточно, то есть 24/7:\n",
    "  - логическое значение `True` — если заведение работает ежедневно и круглосуточно;\n",
    "  - логическое значение `False` — в противоположном случае."
   ]
  },
  {
   "cell_type": "code",
   "execution_count": 28,
   "id": "d8a8a963",
   "metadata": {
    "id": "d8a8a963"
   },
   "outputs": [
    {
     "data": {
      "text/plain": [
       "array(['Нет информации',\n",
       "       'вт 08:30–17:00; ср,чт 12:00–20:30; пт 08:30–17:00; сб 09:00–16:30',\n",
       "       'вт 13:00–21:00; ср 11:00–20:00; чт 13:00–21:00; пт-вс 11:00–20:00',\n",
       "       ..., 'чт 20:00–02:00; пт,сб 20:00–06:00',\n",
       "       'чт круглосуточно, перерыв 10:00–20:00; сб круглосуточно',\n",
       "       'чт-вс 20:00–06:00'], dtype=object)"
      ]
     },
     "execution_count": 28,
     "metadata": {},
     "output_type": "execute_result"
    }
   ],
   "source": [
    "# Проверим значения в столбце hours\n",
    "df['hours'].sort_values().unique()"
   ]
  },
  {
   "cell_type": "code",
   "execution_count": 29,
   "id": "42d1e685",
   "metadata": {
    "id": "42d1e685"
   },
   "outputs": [],
   "source": [
    "# Создадим новый столбец \n",
    "df['is_24_7'] = False"
   ]
  },
  {
   "cell_type": "code",
   "execution_count": 30,
   "id": "61304e83",
   "metadata": {
    "id": "61304e83"
   },
   "outputs": [],
   "source": [
    "# Проверяим условия True\n",
    "for i in df.index:\n",
    "    hours = str(df.loc[i, 'hours'])\n",
    "    \n",
    "    if ('круглосуточно' in hours or \n",
    "        ('ежедневно' in hours and \n",
    "         ('00:00-24:00' in hours))):\n",
    "        df.loc[i, 'is_24_7'] = True"
   ]
  },
  {
   "cell_type": "code",
   "execution_count": 31,
   "id": "98670717",
   "metadata": {},
   "outputs": [
    {
     "data": {
      "text/plain": [
       "'Всего круглосточных заведений: 772'"
      ]
     },
     "execution_count": 31,
     "metadata": {},
     "output_type": "execute_result"
    }
   ],
   "source": [
    "# Проверим количество круглосуточных заведений\n",
    "f\"Всего круглосточных заведений: {df['is_24_7'].sum()}\""
   ]
  },
  {
   "cell_type": "code",
   "execution_count": 32,
   "id": "8ecc8ee2",
   "metadata": {},
   "outputs": [
    {
     "data": {
      "text/plain": [
       "8401    False\n",
       "8402    False\n",
       "8403     True\n",
       "8404     True\n",
       "8405     True\n",
       "Name: is_24_7, dtype: bool"
      ]
     },
     "execution_count": 32,
     "metadata": {},
     "output_type": "execute_result"
    }
   ],
   "source": [
    "# Проверим результат\n",
    "df['is_24_7'].tail()"
   ]
  },
  {
   "cell_type": "markdown",
   "id": "562f30ab",
   "metadata": {
    "id": "562f30ab"
   },
   "source": [
    "---\n",
    "\n",
    "### Промежуточный вывод\n",
    "\n",
    "После предобработки данных напишем промежуточный вывод о проведённой работе. Отразим количество или долю отфильтрованных данных, если мы что-то удаляли."
   ]
  },
  {
   "cell_type": "markdown",
   "id": "cd429d26",
   "metadata": {
    "id": "4e587ce1"
   },
   "source": [
    "**В результате предобработки данных были выполнены следующие действия:**\n",
    "\n",
    "- Привели столбцы к корректному типу данных;\n",
    "- Изучили пропуски в данных. Пропуски обнаружились в столбцах:\n",
    " \n",
    "  - `hours` 536 пропусков (6,38%).Заменили на `Нет информации`\n",
    "\n",
    "  - `seats ` 3611 пропуска (42,96%). Заменили на медианнное значение\n",
    "\n",
    "  - `price` 5091 пропусков (60,56%).Заменили на `Нет информации`\n",
    "\n",
    "  - `avg_bill` 4590 пропуска (54,60%).Оставили без изменений\n",
    "\n",
    "  - `middle_avg_bill` 5257 пропусков (62,54%). Заменили на значение `-1`\n",
    "\n",
    "  - `middle_coffee_cup` 7871 пропусков (93,64%).Заменили на значение `-1`\n",
    "\n",
    "- Данные проверили на явные и неявные дубликаты — удалили 4 строки с незначительными различиями.\n",
    "- Добавили новый столбец `is_24_7`с обозначением того, что заведение работает ежедневно и круглосуточно, то есть 24/7. Всего таких заведений 772"
   ]
  },
  {
   "cell_type": "markdown",
   "id": "6953e84c",
   "metadata": {
    "id": "6953e84c"
   },
   "source": [
    "## 3. Исследовательский анализ данных\n",
    "Проведем исследовательский анализ исходных данных.\n",
    "\n",
    "При исследовании данных используем визуализации. Проверим, что для каждого случая подобран оптимальный тип визуализации с корректным оформлением. У графика должен быть заголовок, понятные подписи по осям, при необходимости легенда, а его размер является оптимальным для изучения.\n",
    "\n",
    "После исследования каждого пункта оставим небольшой комментарий с выводом или обсуждением результата. В конце шага обобщим результаты, выделив самые важные."
   ]
  },
  {
   "cell_type": "markdown",
   "id": "8555d840",
   "metadata": {
    "id": "8555d840"
   },
   "source": [
    "---\n",
    "\n",
    "### Задача 1\n",
    "\n",
    "Какие категории заведений представлены в данных? Исследуем количество объектов общественного питания по каждой категории. Результат сопроводим подходящей визуализацией."
   ]
  },
  {
   "cell_type": "code",
   "execution_count": 33,
   "id": "ef2bffe9",
   "metadata": {
    "id": "ef2bffe9"
   },
   "outputs": [
    {
     "data": {
      "text/plain": [
       "8"
      ]
     },
     "execution_count": 33,
     "metadata": {},
     "output_type": "execute_result"
    }
   ],
   "source": [
    "# Выводим количество уникальных категорий\n",
    "unique_categories = df['category'].nunique()\n",
    "unique_categories"
   ]
  },
  {
   "cell_type": "code",
   "execution_count": 34,
   "id": "71ab5e91",
   "metadata": {
    "id": "71ab5e91"
   },
   "outputs": [
    {
     "data": {
      "text/plain": [
       "кафе               2376\n",
       "ресторан           2042\n",
       "кофейня            1413\n",
       "бар,паб             764\n",
       "пиццерия            633\n",
       "быстрое питание     603\n",
       "столовая            315\n",
       "булочная            256\n",
       "Name: category, dtype: int64"
      ]
     },
     "execution_count": 34,
     "metadata": {},
     "output_type": "execute_result"
    }
   ],
   "source": [
    "# Выводим количество заведений по категориям\n",
    "categories_count = df['category'].value_counts()\n",
    "categories_count"
   ]
  },
  {
   "cell_type": "markdown",
   "id": "e3bbb6c7",
   "metadata": {
    "id": "63360b97"
   },
   "source": [
    " - Всего 8 категорий. Больше всего по количеству кафе и ресторанов.\n",
    "\n",
    "Визуализируем распределение по категориям. В качестве графика выберем столбчатую диаграмму."
   ]
  },
  {
   "cell_type": "code",
   "execution_count": 35,
   "id": "3bdbfd0b",
   "metadata": {},
   "outputs": [
    {
     "data": {
      "image/png": "[encoded data removed]",
      "text/plain": [
       "<Figure size 864x432 with 1 Axes>"
      ]
     },
     "metadata": {
      "needs_background": "light"
     },
     "output_type": "display_data"
    }
   ],
   "source": [
    "# Создаём контейнер графика matplotlib и задаём его размер\n",
    "plt.figure(figsize=(12, 6))\n",
    "\n",
    "# Строим диаграмму с помощью pandas \n",
    "df['category'].value_counts().sort_values().plot(\n",
    "                kind='barh',\n",
    "                alpha=0.75,\n",
    "                edgecolor='black',\n",
    "                rot=0, # Градус вращения подписи по оси Х\n",
    ")\n",
    "\n",
    "# Настраиваем оформление графика\n",
    "plt.title('Распределение количества заведений по категориям')\n",
    "plt.xlabel('Количество')\n",
    "plt.ylabel('Категория')\n",
    "\n",
    "# Выводим график\n",
    "plt.show()"
   ]
  },
  {
   "cell_type": "markdown",
   "id": "6821e1d0",
   "metadata": {
    "id": "6821e1d0"
   },
   "source": [
    "---\n",
    "\n",
    "### Задача 2\n",
    "\n",
    "Какие административные районы Москвы присутствуют в данных? Исследуем распределение количества заведений по административным районам Москвы, а также отдельно распределение заведений каждой категории в Центральном административном округе Москвы. Результат сопроводим подходящими визуализациями."
   ]
  },
  {
   "cell_type": "code",
   "execution_count": 36,
   "id": "e62f31be",
   "metadata": {
    "id": "e62f31be"
   },
   "outputs": [
    {
     "data": {
      "text/plain": [
       "array(['Северный административный округ',\n",
       "       'Северо-Восточный административный округ',\n",
       "       'Северо-Западный административный округ',\n",
       "       'Западный административный округ',\n",
       "       'Центральный административный округ',\n",
       "       'Восточный административный округ',\n",
       "       'Юго-Восточный административный округ',\n",
       "       'Южный административный округ',\n",
       "       'Юго-Западный административный округ'], dtype=object)"
      ]
     },
     "execution_count": 36,
     "metadata": {},
     "output_type": "execute_result"
    }
   ],
   "source": [
    "# Выводим уникальные адинистративные округа\n",
    "districts = df['district'].unique()\n",
    "districts"
   ]
  },
  {
   "cell_type": "code",
   "execution_count": 37,
   "id": "0a290cd1",
   "metadata": {
    "id": "0a290cd1"
   },
   "outputs": [],
   "source": [
    "# Сгруппируем по округам\n",
    "district_counts = df['district'].value_counts().sort_values()"
   ]
  },
  {
   "cell_type": "code",
   "execution_count": 38,
   "id": "41f1654a",
   "metadata": {
    "id": "41f1654a"
   },
   "outputs": [
    {
     "data": {
      "image/png": "[encoded data removed]",
      "text/plain": [
       "<Figure size 864x432 with 1 Axes>"
      ]
     },
     "metadata": {
      "needs_background": "light"
     },
     "output_type": "display_data"
    }
   ],
   "source": [
    "# Создаём контейнер графика matplotlib и задаём его размер\n",
    "plt.figure(figsize=(12, 6))\n",
    "\n",
    "# Строим диаграмму с помощью pandas \n",
    "district_counts.plot(kind='barh',  \n",
    "               alpha=0.7,\n",
    "               edgecolor='black')\n",
    "\n",
    "# Настраиваем оформление графика\n",
    "plt.title('Количество заведений по административным округам Москвы')\n",
    "plt.xlabel('Количество заведений')\n",
    "\n",
    "plt.show()"
   ]
  },
  {
   "cell_type": "markdown",
   "id": "96be9c6f",
   "metadata": {},
   "source": [
    "- Как и ожидалось в ЦАО наибольшее количество заведений "
   ]
  },
  {
   "cell_type": "markdown",
   "id": "14947e82",
   "metadata": {},
   "source": [
    "Теперь исследуем отдельно распределение заведений каждой категории в Центральном административном округе Москвы"
   ]
  },
  {
   "cell_type": "code",
   "execution_count": 39,
   "id": "dbf8e645",
   "metadata": {},
   "outputs": [],
   "source": [
    "# Отфильтруем только ЦАО\n",
    "central_district = df[df['district'] == 'Центральный административный округ']"
   ]
  },
  {
   "cell_type": "code",
   "execution_count": 40,
   "id": "15432a4f",
   "metadata": {},
   "outputs": [],
   "source": [
    "# Сгруппируем по ЦАО\n",
    "central_district_count = central_district['category'].value_counts().sort_values()"
   ]
  },
  {
   "cell_type": "code",
   "execution_count": 41,
   "id": "9cca0b62",
   "metadata": {},
   "outputs": [
    {
     "data": {
      "image/png": "[encoded data removed]",
      "text/plain": [
       "<Figure size 864x432 with 1 Axes>"
      ]
     },
     "metadata": {
      "needs_background": "light"
     },
     "output_type": "display_data"
    }
   ],
   "source": [
    "# Создаём контейнер графика matplotlib и задаём его размер\n",
    "plt.figure(figsize=(12, 6))\n",
    "\n",
    "# Строим диаграмму с помощью pandas \n",
    "central_district_count.plot(kind='barh',  \n",
    "               alpha=0.7,\n",
    "               edgecolor='black')\n",
    "\n",
    "# Настраиваем оформление графика\n",
    "plt.title('Распределение по категориям заведений в ЦАО')\n",
    "plt.xlabel('Количество заведений')\n",
    "plt.ylabel('Категория')\n",
    "\n",
    "plt.show()"
   ]
  },
  {
   "cell_type": "markdown",
   "id": "ad6772eb",
   "metadata": {},
   "source": [
    "Добавим график по относительным значениям по всем округам г.Москвы"
   ]
  },
  {
   "cell_type": "code",
   "execution_count": 42,
   "id": "f0ce44ce",
   "metadata": {},
   "outputs": [],
   "source": [
    "# Рассчитываем относительные значения по всем округам\n",
    "total = district_counts.sum()\n",
    "percent = round((district_counts / total * 100),2)"
   ]
  },
  {
   "cell_type": "code",
   "execution_count": 43,
   "id": "eae7f09a",
   "metadata": {},
   "outputs": [
    {
     "data": {
      "image/png": "[encoded data removed]",
      "text/plain": [
       "<Figure size 864x432 with 1 Axes>"
      ]
     },
     "metadata": {
      "needs_background": "light"
     },
     "output_type": "display_data"
    }
   ],
   "source": [
    "# Создаём контейнер графика matplotlib и задаём его размер\n",
    "plt.figure(figsize=(12, 6))\n",
    "\n",
    "\n",
    "# Строим диаграмму с помощью pandas \n",
    "ax = district_counts.plot(kind='barh', \n",
    "                         alpha=0.7,\n",
    "                         edgecolor='black')\n",
    "\n",
    "\n",
    "# Настраиваем оформление\n",
    "plt.title('Количество заведений по административным округам Москвы')\n",
    "plt.xlabel('Количество заведений')\n",
    "\n",
    "\n",
    "plt.show()"
   ]
  },
  {
   "cell_type": "markdown",
   "id": "c1e01f41",
   "metadata": {},
   "source": [
    "Выизуализируем данные по относительным долям в ЦАО г. Москвы"
   ]
  },
  {
   "cell_type": "code",
   "execution_count": 44,
   "id": "a07c6569",
   "metadata": {},
   "outputs": [],
   "source": [
    "# Рассчитываем относительные значения по ЦАО\n",
    "total_central  = district_counts.sum()\n",
    "percent_central  = round((district_counts / total * 100),2)"
   ]
  },
  {
   "cell_type": "code",
   "execution_count": 45,
   "id": "96068726",
   "metadata": {},
   "outputs": [
    {
     "data": {
      "image/png": "[encoded data removed]",
      "text/plain": [
       "<Figure size 864x432 with 1 Axes>"
      ]
     },
     "metadata": {
      "needs_background": "light"
     },
     "output_type": "display_data"
    }
   ],
   "source": [
    "# Создаём контейнер графика matplotlib и задаём его размер\n",
    "plt.figure(figsize=(12, 6))\n",
    "\n",
    "# Строим диаграмму с помощью pandas\n",
    "ax = central_district_count.plot(kind='barh',\n",
    "                                alpha=0.7,\n",
    "                                edgecolor='black')\n",
    "\n",
    "# Настраиваем оформление\n",
    "plt.title('Распределение по категориям заведений в ЦАО')\n",
    "plt.xlabel('Количество заведений')\n",
    "plt.ylabel('Категория')\n",
    "\n",
    "plt.show()"
   ]
  },
  {
   "cell_type": "markdown",
   "id": "029f871d",
   "metadata": {},
   "source": [
    " - **Результат:** Все округа Москвы предоставлены в данных.Центральный округ лидирует по количеству заведений. В Северо - Западном меньше всего заведений.В ЦАО преобладает количество ресторанов. Чуть меньше кафе\\кофеен\\баров."
   ]
  },
  {
   "cell_type": "markdown",
   "id": "7c824f58",
   "metadata": {
    "id": "7c824f58"
   },
   "source": [
    "---\n",
    "\n",
    "### Задача 3\n",
    "\n",
    "Изучим соотношение сетевых и несетевых заведений в целом по всем данным и в разрезе категорий заведения. Каких заведений больше — сетевых или несетевых? Какие категории заведений чаще являются сетевыми? Исследуем данные, ответим на вопросы и построим необходимые визуализации."
   ]
  },
  {
   "cell_type": "code",
   "execution_count": 46,
   "id": "ef442d1a",
   "metadata": {
    "id": "ef442d1a"
   },
   "outputs": [
    {
     "data": {
      "text/plain": [
       "0    5199\n",
       "1    3203\n",
       "Name: chain, dtype: int64"
      ]
     },
     "execution_count": 46,
     "metadata": {},
     "output_type": "execute_result"
    }
   ],
   "source": [
    "# Считаем количесво сетевых и несетевых заведений \n",
    "chain_count = df['chain'].value_counts()\n",
    "chain_count"
   ]
  },
  {
   "cell_type": "code",
   "execution_count": 47,
   "id": "ed731920",
   "metadata": {},
   "outputs": [],
   "source": [
    "# Посчитаем общее количество заведений\n",
    "total = sum(chain_count)"
   ]
  },
  {
   "cell_type": "code",
   "execution_count": 48,
   "id": "0de29fa2",
   "metadata": {
    "id": "0de29fa2"
   },
   "outputs": [
    {
     "data": {
      "text/plain": [
       "0    61.88\n",
       "1    38.12\n",
       "Name: chain, dtype: float64"
      ]
     },
     "execution_count": 48,
     "metadata": {},
     "output_type": "execute_result"
    }
   ],
   "source": [
    "# Посчитаем долю сетевых\\несетевых заведений\n",
    "chain_percent = round(chain_count / total * 100,2)\n",
    "chain_percent"
   ]
  },
  {
   "cell_type": "code",
   "execution_count": 49,
   "id": "a139bd72",
   "metadata": {
    "id": "a139bd72"
   },
   "outputs": [
    {
     "data": {
      "image/png": "[encoded data removed]",
      "text/plain": [
       "<Figure size 864x432 with 1 Axes>"
      ]
     },
     "metadata": {
      "needs_background": "light"
     },
     "output_type": "display_data"
    }
   ],
   "source": [
    "# Создаём контейнер графика matplotlib и задаём его размер\n",
    "plt.figure(figsize=(12, 6))\n",
    "\n",
    "# Строим диаграмму с помощью pandas \n",
    "chain_count.plot(kind='bar',  \n",
    "               alpha=0.7,\n",
    "               edgecolor='black',\n",
    "               rot = 0)\n",
    "\n",
    "# Настраиваем оформление графика\n",
    "plt.title('Распределение по сетевым\\несетевым заведениям')\n",
    "plt.xlabel('Сетевые и несетевые заведения')\n",
    "plt.ylabel('Количество заведений')\n",
    "\n",
    "plt.show()"
   ]
  },
  {
   "cell_type": "markdown",
   "id": "e299f880",
   "metadata": {},
   "source": [
    "Теперь посчитаем и визуализируем в разрезе категорий заведений"
   ]
  },
  {
   "cell_type": "code",
   "execution_count": 50,
   "id": "9fc7b496",
   "metadata": {},
   "outputs": [
    {
     "data": {
      "text/plain": [
       "category         chain\n",
       "бар,паб          0         596\n",
       "                 1         168\n",
       "булочная         1         157\n",
       "                 0          99\n",
       "быстрое питание  0         371\n",
       "                 1         232\n",
       "кафе             0        1597\n",
       "                 1         779\n",
       "кофейня          1         720\n",
       "                 0         693\n",
       "пиццерия         1         330\n",
       "                 0         303\n",
       "ресторан         0        1313\n",
       "                 1         729\n",
       "столовая         0         227\n",
       "                 1          88\n",
       "Name: chain, dtype: int64"
      ]
     },
     "execution_count": 50,
     "metadata": {},
     "output_type": "execute_result"
    }
   ],
   "source": [
    "grouped = df.groupby('category')['chain'].value_counts()\n",
    "grouped"
   ]
  },
  {
   "cell_type": "code",
   "execution_count": 51,
   "id": "16506849",
   "metadata": {},
   "outputs": [
    {
     "data": {
      "image/png": "[encoded data removed]",
      "text/plain": [
       "<Figure size 864x432 with 1 Axes>"
      ]
     },
     "metadata": {
      "needs_background": "light"
     },
     "output_type": "display_data"
    }
   ],
   "source": [
    "# Построим график столбчатой диаграммы\n",
    "grouped = df.groupby('category')['chain'].value_counts().unstack(fill_value=0)\n",
    "grouped.plot(kind='bar',\n",
    "               title=f'Распределение количества заведений в зависимости от категории',\n",
    "               legend=True,\n",
    "               ylabel='Количество заведений',\n",
    "               xlabel='Категория',\n",
    "               rot=0,\n",
    "               figsize=(12, 6))\n",
    "\n",
    "# Настраиваем оформление графика\n",
    "plt.grid()\n",
    "\n",
    "# Выводим график\n",
    "plt.show()"
   ]
  },
  {
   "cell_type": "markdown",
   "id": "c5454c8f",
   "metadata": {},
   "source": [
    "**Ответим на вопросы.**\n",
    " - В целом несетевых заведений больше чем сетевых. Несетевых 5199 заведений что составляет 61,88% от общего количества, а сетевых почти в 1,5 раза меньше 3203 что составляет 38,12% от общего количества заведений.\n",
    " - Категории заведений которые чаще являются сетевыми: В категории сетевых больше преобладают булочные,кофейни и пиццерии. Что явно видно на графике. Меньше всего бары и столовые. "
   ]
  },
  {
   "cell_type": "markdown",
   "id": "5913c3e3",
   "metadata": {
    "id": "5913c3e3"
   },
   "source": [
    "---\n",
    "\n",
    "### Задача 4\n",
    "\n",
    "Исследуем количество посадочных мест в заведениях. Встречаются ли в данных аномальные значения или выбросы? Если да, то с чем они могут быть связаны? Приведем для каждой категории заведений наиболее типичное для него количество посадочных мест. Результат сопроводим подходящими визуализациями.\n"
   ]
  },
  {
   "cell_type": "markdown",
   "id": "be0cded7",
   "metadata": {
    "id": "6cb238d2"
   },
   "source": [
    "Построим график распределения посадочных мест. Выберем гистограмму"
   ]
  },
  {
   "cell_type": "code",
   "execution_count": 52,
   "id": "062b55d8",
   "metadata": {
    "id": "062b55d8"
   },
   "outputs": [
    {
     "data": {
      "image/png": "[encoded data removed]",
      "text/plain": [
       "<Figure size 864x432 with 1 Axes>"
      ]
     },
     "metadata": {
      "needs_background": "light"
     },
     "output_type": "display_data"
    }
   ],
   "source": [
    "# Создаём контейнер графика matplotlib и задаём его размер\n",
    "plt.figure(figsize=(12, 6))\n",
    "\n",
    "# Строим гистограмму распределения мест\n",
    "sns.histplot(df['seats'], \n",
    "             bins=50, \n",
    "             kde=True)\n",
    "\n",
    "\n",
    "plt.title(\"Распределение количества посадочных мест\")\n",
    "plt.xlabel(\"Количество мест\")\n",
    "plt.ylabel(\"Частота\")\n",
    "\n",
    "plt.show()"
   ]
  },
  {
   "cell_type": "markdown",
   "id": "6b682503",
   "metadata": {
    "id": "ceadf25b"
   },
   "source": [
    " - Гистограмма показывает, что большинство заведений имеют менее 100 мест но есть и заведения с более 300 и даже более 1000 местами."
   ]
  },
  {
   "cell_type": "markdown",
   "id": "c17d3f4d",
   "metadata": {},
   "source": [
    "Построим график распределения посадочных мест по категориям. Столбчатую диаграмму"
   ]
  },
  {
   "cell_type": "code",
   "execution_count": 53,
   "id": "36d7d8e5",
   "metadata": {},
   "outputs": [
    {
     "data": {
      "image/png": "[encoded data removed]",
      "text/plain": [
       "<Figure size 864x432 with 1 Axes>"
      ]
     },
     "metadata": {
      "needs_background": "light"
     },
     "output_type": "display_data"
    }
   ],
   "source": [
    "# Создаём контейнер графика matplotlib и задаём его размер\n",
    "plt.figure(figsize=(12, 6))\n",
    "\n",
    "# Считаем медианы по категориям\n",
    "median_seats = df.groupby('category')['seats'].median().sort_values(ascending=False)\n",
    "\n",
    "# Визуализируем \n",
    "sns.barplot(x=median_seats.index, \n",
    "            y=median_seats.values,\n",
    "            palette='viridis')\n",
    "\n",
    "# Настраиваем оформление графика\n",
    "plt.title('Медианное количество посадочных мест по категориям заведений')\n",
    "plt.xlabel('Категория заведения')\n",
    "plt.ylabel('Медианное количество мест')\n",
    "plt.xticks(rotation=45)\n",
    "\n",
    "\n",
    "plt.show()"
   ]
  },
  {
   "cell_type": "markdown",
   "id": "db0174e9",
   "metadata": {},
   "source": [
    "- График показывает что лидируют по количеству посадочных мест рестораны. Далее идут пабы,кофейни и столовые. Мнешье всего посадочных мест в пиццериях и булочных."
   ]
  },
  {
   "cell_type": "markdown",
   "id": "8ed065ea",
   "metadata": {
    "id": "8ed065ea"
   },
   "source": [
    "---\n",
    "\n",
    "### Задача 5\n",
    "\n",
    "Исследуем рейтинг заведений. Визуализируем распределение средних рейтингов по категориям заведений. Сильно ли различаются усреднённые рейтинги для разных типов общепита?"
   ]
  },
  {
   "cell_type": "markdown",
   "id": "8a3a6a04",
   "metadata": {
    "id": "cc5206f8"
   },
   "source": [
    "Построим график распределения рейтингов. Выберем гистограмму"
   ]
  },
  {
   "cell_type": "code",
   "execution_count": 54,
   "id": "3e0ec5d7",
   "metadata": {
    "id": "3e0ec5d7"
   },
   "outputs": [
    {
     "data": {
      "image/png": "[encoded data removed]",
      "text/plain": [
       "<Figure size 864x432 with 1 Axes>"
      ]
     },
     "metadata": {
      "needs_background": "light"
     },
     "output_type": "display_data"
    }
   ],
   "source": [
    "# Создаём контейнер графика matplotlib и задаём его размер\n",
    "plt.figure(figsize=(12, 6))\n",
    "\n",
    "# Строим гистограмму по рейтингам\n",
    "sns.histplot(df['rating'], \n",
    "             bins=30, \n",
    "             kde=True)\n",
    "\n",
    "\n",
    "plt.title(\"Распределение рейтингов\")\n",
    "plt.xlabel(\"Рейтинг\")\n",
    "plt.ylabel(\"Количество заведений\")\n",
    "\n",
    "plt.show()"
   ]
  },
  {
   "cell_type": "markdown",
   "id": "61e8698a",
   "metadata": {
    "id": "766c86cb"
   },
   "source": [
    "- Гистограмма показывает что большинство заведений имеют рейтинг 4.0-4.8"
   ]
  },
  {
   "cell_type": "markdown",
   "id": "8f5d1dd9",
   "metadata": {},
   "source": [
    "Построим график распределения рейтингов по категориям. Выберем столбчатую диаграмму"
   ]
  },
  {
   "cell_type": "code",
   "execution_count": 55,
   "id": "52c6c52c",
   "metadata": {},
   "outputs": [
    {
     "data": {
      "image/png": "[encoded data removed]",
      "text/plain": [
       "<Figure size 864x432 with 1 Axes>"
      ]
     },
     "metadata": {
      "needs_background": "light"
     },
     "output_type": "display_data"
    }
   ],
   "source": [
    "# Создаём контейнер графика matplotlib и задаём его размер\n",
    "plt.figure(figsize=(12, 6))\n",
    "\n",
    "# Сортируем категории по среднему рейтингу\n",
    "category_order = df.groupby('category')['rating'].mean().sort_values(ascending=False).index\n",
    "\n",
    "# Создаем визуализацию\n",
    "sns.barplot(data=df,\n",
    "            x='category',\n",
    "            y='rating',\n",
    "            palette='viridis',\n",
    "            order=category_order) \n",
    "\n",
    "# Настраиваем оформление графика\n",
    "plt.title('Средний рейтинг по категориям заведений')\n",
    "plt.xlabel('Категория')\n",
    "plt.ylabel('Средний рейтинг')\n",
    "plt.xticks(rotation=45)\n",
    "plt.grid(axis='y')\n",
    "\n",
    "\n",
    "plt.show()"
   ]
  },
  {
   "cell_type": "markdown",
   "id": "716ba8c1",
   "metadata": {},
   "source": [
    "- График подтверждает что большинство заведений имеют рейтинг 4.0-4.8. "
   ]
  },
  {
   "cell_type": "markdown",
   "id": "dd9702d9",
   "metadata": {
    "id": "dd9702d9"
   },
   "source": [
    "---\n",
    "\n",
    "### Задача 6\n",
    "\n",
    "Изучим, с какими данными показывают самую сильную корреляцию рейтинги заведений? Построим и визуализируем матрицу корреляции рейтинга заведения с разными данными: его категория, положение (административный район Москвы), статус сетевого заведения, количество мест, ценовая категория и признак, является ли заведения круглосуточным. Выберем самую сильную связь и проверьте её."
   ]
  },
  {
   "cell_type": "code",
   "execution_count": 56,
   "id": "15400eb9",
   "metadata": {
    "id": "15400eb9"
   },
   "outputs": [],
   "source": [
    "# Выбираем нужные для анализа столбцы\n",
    "cols = ['rating', 'category', 'district', 'chain', 'seats', 'price', 'is_24_7']\n",
    "filter_cols = df[cols]"
   ]
  },
  {
   "cell_type": "code",
   "execution_count": 57,
   "id": "a44fe25f",
   "metadata": {
    "id": "8f0379af"
   },
   "outputs": [
    {
     "data": {
      "text/html": [
       "<div>\n",
       "<style scoped>\n",
       "    .dataframe tbody tr th:only-of-type {\n",
       "        vertical-align: middle;\n",
       "    }\n",
       "\n",
       "    .dataframe tbody tr th {\n",
       "        vertical-align: top;\n",
       "    }\n",
       "\n",
       "    .dataframe thead th {\n",
       "        text-align: right;\n",
       "    }\n",
       "</style>\n",
       "<table border=\"1\" class=\"dataframe\">\n",
       "  <thead>\n",
       "    <tr style=\"text-align: right;\">\n",
       "      <th></th>\n",
       "      <th>rating</th>\n",
       "      <th>category</th>\n",
       "      <th>district</th>\n",
       "      <th>chain</th>\n",
       "      <th>seats</th>\n",
       "      <th>price</th>\n",
       "      <th>is_24_7</th>\n",
       "    </tr>\n",
       "  </thead>\n",
       "  <tbody>\n",
       "    <tr>\n",
       "      <th>rating</th>\n",
       "      <td>1.000000</td>\n",
       "      <td>0.189716</td>\n",
       "      <td>0.200761</td>\n",
       "      <td>0.107833</td>\n",
       "      <td>0.134045</td>\n",
       "      <td>0.281253</td>\n",
       "      <td>0.144951</td>\n",
       "    </tr>\n",
       "    <tr>\n",
       "      <th>category</th>\n",
       "      <td>0.189716</td>\n",
       "      <td>1.000000</td>\n",
       "      <td>0.174584</td>\n",
       "      <td>0.266000</td>\n",
       "      <td>0.909136</td>\n",
       "      <td>0.329690</td>\n",
       "      <td>0.230250</td>\n",
       "    </tr>\n",
       "    <tr>\n",
       "      <th>district</th>\n",
       "      <td>0.200761</td>\n",
       "      <td>0.174584</td>\n",
       "      <td>1.000000</td>\n",
       "      <td>0.064473</td>\n",
       "      <td>0.632498</td>\n",
       "      <td>0.203032</td>\n",
       "      <td>0.065881</td>\n",
       "    </tr>\n",
       "    <tr>\n",
       "      <th>chain</th>\n",
       "      <td>0.107833</td>\n",
       "      <td>0.266000</td>\n",
       "      <td>0.064473</td>\n",
       "      <td>1.000000</td>\n",
       "      <td>0.165234</td>\n",
       "      <td>0.088834</td>\n",
       "      <td>0.050736</td>\n",
       "    </tr>\n",
       "    <tr>\n",
       "      <th>seats</th>\n",
       "      <td>0.134045</td>\n",
       "      <td>0.909136</td>\n",
       "      <td>0.632498</td>\n",
       "      <td>0.165234</td>\n",
       "      <td>1.000000</td>\n",
       "      <td>0.360710</td>\n",
       "      <td>0.174819</td>\n",
       "    </tr>\n",
       "    <tr>\n",
       "      <th>price</th>\n",
       "      <td>0.281253</td>\n",
       "      <td>0.329690</td>\n",
       "      <td>0.203032</td>\n",
       "      <td>0.088834</td>\n",
       "      <td>0.360710</td>\n",
       "      <td>1.000000</td>\n",
       "      <td>0.058342</td>\n",
       "    </tr>\n",
       "    <tr>\n",
       "      <th>is_24_7</th>\n",
       "      <td>0.144951</td>\n",
       "      <td>0.230250</td>\n",
       "      <td>0.065881</td>\n",
       "      <td>0.050736</td>\n",
       "      <td>0.174819</td>\n",
       "      <td>0.058342</td>\n",
       "      <td>1.000000</td>\n",
       "    </tr>\n",
       "  </tbody>\n",
       "</table>\n",
       "</div>"
      ],
      "text/plain": [
       "            rating  category  district     chain     seats     price   is_24_7\n",
       "rating    1.000000  0.189716  0.200761  0.107833  0.134045  0.281253  0.144951\n",
       "category  0.189716  1.000000  0.174584  0.266000  0.909136  0.329690  0.230250\n",
       "district  0.200761  0.174584  1.000000  0.064473  0.632498  0.203032  0.065881\n",
       "chain     0.107833  0.266000  0.064473  1.000000  0.165234  0.088834  0.050736\n",
       "seats     0.134045  0.909136  0.632498  0.165234  1.000000  0.360710  0.174819\n",
       "price     0.281253  0.329690  0.203032  0.088834  0.360710  1.000000  0.058342\n",
       "is_24_7   0.144951  0.230250  0.065881  0.050736  0.174819  0.058342  1.000000"
      ]
     },
     "execution_count": 57,
     "metadata": {},
     "output_type": "execute_result"
    }
   ],
   "source": [
    "# Вычисляем корреляционную матрицу с использованием phi_k\n",
    "correlation_matrix = filter_cols.phik_matrix(interval_cols=['rating'])\n",
    "correlation_matrix"
   ]
  },
  {
   "cell_type": "markdown",
   "id": "135ea4a8",
   "metadata": {
    "id": "1a65a84d"
   },
   "source": [
    "Для визуализации выберем тепловую карту `heatmap`"
   ]
  },
  {
   "cell_type": "code",
   "execution_count": 58,
   "id": "bf756941",
   "metadata": {},
   "outputs": [
    {
     "data": {
      "text/plain": [
       "<Figure size 720x576 with 0 Axes>"
      ]
     },
     "execution_count": 58,
     "metadata": {},
     "output_type": "execute_result"
    },
    {
     "data": {
      "text/plain": [
       "<Figure size 720x576 with 0 Axes>"
      ]
     },
     "metadata": {},
     "output_type": "display_data"
    }
   ],
   "source": [
    "# Создаём контейнер графика matplotlib и задаём его размер\n",
    "plt.figure(figsize=(10, 8))"
   ]
  },
  {
   "cell_type": "code",
   "execution_count": 59,
   "id": "6238205c",
   "metadata": {},
   "outputs": [
    {
     "data": {
      "image/png": "[encoded data removed]",
      "text/plain": [
       "<Figure size 432x288 with 2 Axes>"
      ]
     },
     "metadata": {
      "needs_background": "light"
     },
     "output_type": "display_data"
    }
   ],
   "source": [
    "# Создаем визуализацию\n",
    "sns.heatmap(correlation_matrix[['rating']].sort_values('rating', ascending=False),\n",
    "            annot=True, \n",
    "            cmap='coolwarm',\n",
    "            linewidths=0.5,\n",
    "            fmt=\".2f\")\n",
    "\n",
    "# Настраиваем оформление графика\n",
    "plt.title('Тепловая карта матрицы корреляций')\n",
    "\n",
    "plt.show()"
   ]
  },
  {
   "cell_type": "markdown",
   "id": "8d2b9d0b",
   "metadata": {},
   "source": [
    "- По графику видно что наибольшая корреляция с рейтингом у `price`: 0.281"
   ]
  },
  {
   "cell_type": "markdown",
   "id": "ee643f6b",
   "metadata": {},
   "source": [
    "Проверим эту связь. Визуализируем с помощью `boxplot`"
   ]
  },
  {
   "cell_type": "code",
   "execution_count": 60,
   "id": "19c622ef",
   "metadata": {},
   "outputs": [
    {
     "data": {
      "image/png": "[encoded data removed]",
      "text/plain": [
       "<Figure size 720x432 with 1 Axes>"
      ]
     },
     "metadata": {
      "needs_background": "light"
     },
     "output_type": "display_data"
    }
   ],
   "source": [
    "# Создаём контейнер графика matplotlib и задаём его размер\n",
    "plt.figure(figsize=(10, 6))\n",
    "\n",
    "\n",
    "# Создаем визуализацию\n",
    "sns.boxplot(data=df, x='price', y='rating', \n",
    "           flierprops = dict(markerfacecolor = 'y',\n",
    "            marker = 'o'))\n",
    "\n",
    "# Настраиваем оформление графика\n",
    "plt.title('Распределение рейтингов по ценовым категориям')\n",
    "plt.xlabel('Категория')\n",
    "plt.ylabel('Рейтинг')\n",
    "plt.grid()\n",
    "\n",
    "\n",
    "plt.show()"
   ]
  },
  {
   "cell_type": "markdown",
   "id": "8d2abb51",
   "metadata": {},
   "source": [
    " - Из графика видно что у дорогих заведений разброс рейтинга меньше.Недорогие заведения имеют более широкий разброс оценок.Сильная связь между ценовой категорией и рейтингом подтверждается ростом медианы рейтинга с увеличением цены."
   ]
  },
  {
   "cell_type": "markdown",
   "id": "bf917285",
   "metadata": {},
   "source": [
    "<div class=\"alert alert-block alert-success\">✔️\n",
    "    \n",
    "\n",
    "__Комментарий от ревьюера №1__\n",
    "\n",
    "Тут согласен"
   ]
  },
  {
   "cell_type": "markdown",
   "id": "370de703",
   "metadata": {
    "id": "370de703"
   },
   "source": [
    "---\n",
    "\n",
    "### Задача 7\n",
    "\n",
    "Сгруппируем данные по названиям заведений и найдем топ-15 популярных сетей в Москве. Для них посчитаем значения среднего рейтинга. Под популярностью понимается количество заведений этой сети в регионе. К какой категории заведений они относятся? Результат сопроводим подходящими визуализациями."
   ]
  },
  {
   "cell_type": "code",
   "execution_count": 61,
   "id": "5d828a9a",
   "metadata": {
    "id": "5d828a9a"
   },
   "outputs": [],
   "source": [
    "# Сгруппируем и посчитаем средний рейтинг\n",
    "top_chains = df[df['chain'] == 1].groupby('name').agg(\n",
    "    num_locations=('id', 'count'),\n",
    "    avg_rating=('rating', 'mean')\n",
    ")\n",
    "# Отсортируем top_chains\n",
    "top_chains = top_chains.sort_values('num_locations', ascending=False)"
   ]
  },
  {
   "cell_type": "code",
   "execution_count": 62,
   "id": "d013c598",
   "metadata": {
    "id": "d013c598"
   },
   "outputs": [
    {
     "data": {
      "text/html": [
       "<div>\n",
       "<style scoped>\n",
       "    .dataframe tbody tr th:only-of-type {\n",
       "        vertical-align: middle;\n",
       "    }\n",
       "\n",
       "    .dataframe tbody tr th {\n",
       "        vertical-align: top;\n",
       "    }\n",
       "\n",
       "    .dataframe thead th {\n",
       "        text-align: right;\n",
       "    }\n",
       "</style>\n",
       "<table border=\"1\" class=\"dataframe\">\n",
       "  <thead>\n",
       "    <tr style=\"text-align: right;\">\n",
       "      <th></th>\n",
       "      <th>num_locations</th>\n",
       "      <th>avg_rating</th>\n",
       "    </tr>\n",
       "    <tr>\n",
       "      <th>name</th>\n",
       "      <th></th>\n",
       "      <th></th>\n",
       "    </tr>\n",
       "  </thead>\n",
       "  <tbody>\n",
       "    <tr>\n",
       "      <th>Шоколадница</th>\n",
       "      <td>120</td>\n",
       "      <td>4.177500</td>\n",
       "    </tr>\n",
       "    <tr>\n",
       "      <th>Домино'с Пицца</th>\n",
       "      <td>76</td>\n",
       "      <td>4.169737</td>\n",
       "    </tr>\n",
       "    <tr>\n",
       "      <th>Додо Пицца</th>\n",
       "      <td>74</td>\n",
       "      <td>4.286486</td>\n",
       "    </tr>\n",
       "    <tr>\n",
       "      <th>One Price Coffee</th>\n",
       "      <td>71</td>\n",
       "      <td>4.064789</td>\n",
       "    </tr>\n",
       "    <tr>\n",
       "      <th>Яндекс Лавка</th>\n",
       "      <td>69</td>\n",
       "      <td>3.872464</td>\n",
       "    </tr>\n",
       "    <tr>\n",
       "      <th>Cofix</th>\n",
       "      <td>65</td>\n",
       "      <td>4.075385</td>\n",
       "    </tr>\n",
       "    <tr>\n",
       "      <th>Prime</th>\n",
       "      <td>50</td>\n",
       "      <td>4.116000</td>\n",
       "    </tr>\n",
       "    <tr>\n",
       "      <th>Хинкальная</th>\n",
       "      <td>44</td>\n",
       "      <td>4.322727</td>\n",
       "    </tr>\n",
       "    <tr>\n",
       "      <th>КОФЕПОРТ</th>\n",
       "      <td>42</td>\n",
       "      <td>4.147619</td>\n",
       "    </tr>\n",
       "    <tr>\n",
       "      <th>Кулинарная лавка братьев Караваевых</th>\n",
       "      <td>39</td>\n",
       "      <td>4.394872</td>\n",
       "    </tr>\n",
       "    <tr>\n",
       "      <th>Теремок</th>\n",
       "      <td>38</td>\n",
       "      <td>4.123684</td>\n",
       "    </tr>\n",
       "    <tr>\n",
       "      <th>Чайхана</th>\n",
       "      <td>37</td>\n",
       "      <td>3.924324</td>\n",
       "    </tr>\n",
       "    <tr>\n",
       "      <th>CofeFest</th>\n",
       "      <td>32</td>\n",
       "      <td>3.984375</td>\n",
       "    </tr>\n",
       "    <tr>\n",
       "      <th>Буханка</th>\n",
       "      <td>32</td>\n",
       "      <td>4.396875</td>\n",
       "    </tr>\n",
       "    <tr>\n",
       "      <th>Му-Му</th>\n",
       "      <td>27</td>\n",
       "      <td>4.229630</td>\n",
       "    </tr>\n",
       "  </tbody>\n",
       "</table>\n",
       "</div>"
      ],
      "text/plain": [
       "                                     num_locations  avg_rating\n",
       "name                                                          \n",
       "Шоколадница                                    120    4.177500\n",
       "Домино'с Пицца                                  76    4.169737\n",
       "Додо Пицца                                      74    4.286486\n",
       "One Price Coffee                                71    4.064789\n",
       "Яндекс Лавка                                    69    3.872464\n",
       "Cofix                                           65    4.075385\n",
       "Prime                                           50    4.116000\n",
       "Хинкальная                                      44    4.322727\n",
       "КОФЕПОРТ                                        42    4.147619\n",
       "Кулинарная лавка братьев Караваевых             39    4.394872\n",
       "Теремок                                         38    4.123684\n",
       "Чайхана                                         37    3.924324\n",
       "CofeFest                                        32    3.984375\n",
       "Буханка                                         32    4.396875\n",
       "Му-Му                                           27    4.229630"
      ]
     },
     "execution_count": 62,
     "metadata": {},
     "output_type": "execute_result"
    }
   ],
   "source": [
    "# Выведем топ-15\n",
    "top_15_chains = top_chains.head(15)\n",
    "top_15_chains"
   ]
  },
  {
   "cell_type": "markdown",
   "id": "2254c883",
   "metadata": {
    "id": "774348d5"
   },
   "source": [
    "Визуализируем это с помощью подходящего графика. Выберем "
   ]
  },
  {
   "cell_type": "code",
   "execution_count": 63,
   "id": "d47b1d64",
   "metadata": {},
   "outputs": [
    {
     "data": {
      "image/png": "[encoded data removed]",
      "text/plain": [
       "<Figure size 864x432 with 1 Axes>"
      ]
     },
     "metadata": {
      "needs_background": "light"
     },
     "output_type": "display_data"
    }
   ],
   "source": [
    "# Создаём контейнер графика matplotlib и задаём его размер\n",
    "plt.figure(figsize=(12, 6))\n",
    "\n",
    "# Создаем визуализацию\n",
    "sns.barplot(\n",
    "    x='num_locations', \n",
    "    y='name',\n",
    "    color = 'skyblue',\n",
    "    data=top_15_chains.reset_index()\n",
    ")\n",
    "# Настраиваем график\n",
    "plt.title('Топ-15 сетей по количеству заведений в Москве')\n",
    "plt.xlabel('Количество заведений')\n",
    "plt.ylabel('Название сети')\n",
    "\n",
    "plt.show()"
   ]
  },
  {
   "cell_type": "markdown",
   "id": "26bc24d4",
   "metadata": {},
   "source": [
    "- На графике видно лидеров по количеству заведений. Шоколадница опережает остальные сети. Далее идут пиццерии"
   ]
  },
  {
   "cell_type": "code",
   "execution_count": 64,
   "id": "5b19cdd3",
   "metadata": {},
   "outputs": [
    {
     "data": {
      "text/html": [
       "<div>\n",
       "<style scoped>\n",
       "    .dataframe tbody tr th:only-of-type {\n",
       "        vertical-align: middle;\n",
       "    }\n",
       "\n",
       "    .dataframe tbody tr th {\n",
       "        vertical-align: top;\n",
       "    }\n",
       "\n",
       "    .dataframe thead th {\n",
       "        text-align: right;\n",
       "    }\n",
       "</style>\n",
       "<table border=\"1\" class=\"dataframe\">\n",
       "  <thead>\n",
       "    <tr style=\"text-align: right;\">\n",
       "      <th></th>\n",
       "      <th>num_locations</th>\n",
       "      <th>avg_rating</th>\n",
       "      <th>category</th>\n",
       "    </tr>\n",
       "    <tr>\n",
       "      <th>name</th>\n",
       "      <th></th>\n",
       "      <th></th>\n",
       "      <th></th>\n",
       "    </tr>\n",
       "  </thead>\n",
       "  <tbody>\n",
       "    <tr>\n",
       "      <th>Шоколадница</th>\n",
       "      <td>120</td>\n",
       "      <td>4.177500</td>\n",
       "      <td>кофейня</td>\n",
       "    </tr>\n",
       "    <tr>\n",
       "      <th>Домино'с Пицца</th>\n",
       "      <td>76</td>\n",
       "      <td>4.169737</td>\n",
       "      <td>пиццерия</td>\n",
       "    </tr>\n",
       "    <tr>\n",
       "      <th>Додо Пицца</th>\n",
       "      <td>74</td>\n",
       "      <td>4.286486</td>\n",
       "      <td>пиццерия</td>\n",
       "    </tr>\n",
       "    <tr>\n",
       "      <th>One Price Coffee</th>\n",
       "      <td>71</td>\n",
       "      <td>4.064789</td>\n",
       "      <td>кофейня</td>\n",
       "    </tr>\n",
       "    <tr>\n",
       "      <th>Яндекс Лавка</th>\n",
       "      <td>69</td>\n",
       "      <td>3.872464</td>\n",
       "      <td>ресторан</td>\n",
       "    </tr>\n",
       "    <tr>\n",
       "      <th>Cofix</th>\n",
       "      <td>65</td>\n",
       "      <td>4.075385</td>\n",
       "      <td>кофейня</td>\n",
       "    </tr>\n",
       "    <tr>\n",
       "      <th>Prime</th>\n",
       "      <td>50</td>\n",
       "      <td>4.116000</td>\n",
       "      <td>ресторан</td>\n",
       "    </tr>\n",
       "    <tr>\n",
       "      <th>Хинкальная</th>\n",
       "      <td>44</td>\n",
       "      <td>4.322727</td>\n",
       "      <td>кафе</td>\n",
       "    </tr>\n",
       "    <tr>\n",
       "      <th>КОФЕПОРТ</th>\n",
       "      <td>42</td>\n",
       "      <td>4.147619</td>\n",
       "      <td>кофейня</td>\n",
       "    </tr>\n",
       "    <tr>\n",
       "      <th>Кулинарная лавка братьев Караваевых</th>\n",
       "      <td>39</td>\n",
       "      <td>4.394872</td>\n",
       "      <td>кафе</td>\n",
       "    </tr>\n",
       "    <tr>\n",
       "      <th>Теремок</th>\n",
       "      <td>38</td>\n",
       "      <td>4.123684</td>\n",
       "      <td>ресторан</td>\n",
       "    </tr>\n",
       "    <tr>\n",
       "      <th>Чайхана</th>\n",
       "      <td>37</td>\n",
       "      <td>3.924324</td>\n",
       "      <td>кафе</td>\n",
       "    </tr>\n",
       "    <tr>\n",
       "      <th>CofeFest</th>\n",
       "      <td>32</td>\n",
       "      <td>3.984375</td>\n",
       "      <td>кофейня</td>\n",
       "    </tr>\n",
       "    <tr>\n",
       "      <th>Буханка</th>\n",
       "      <td>32</td>\n",
       "      <td>4.396875</td>\n",
       "      <td>булочная</td>\n",
       "    </tr>\n",
       "    <tr>\n",
       "      <th>Му-Му</th>\n",
       "      <td>27</td>\n",
       "      <td>4.229630</td>\n",
       "      <td>кафе</td>\n",
       "    </tr>\n",
       "  </tbody>\n",
       "</table>\n",
       "</div>"
      ],
      "text/plain": [
       "                                     num_locations  avg_rating  category\n",
       "name                                                                    \n",
       "Шоколадница                                    120    4.177500   кофейня\n",
       "Домино'с Пицца                                  76    4.169737  пиццерия\n",
       "Додо Пицца                                      74    4.286486  пиццерия\n",
       "One Price Coffee                                71    4.064789   кофейня\n",
       "Яндекс Лавка                                    69    3.872464  ресторан\n",
       "Cofix                                           65    4.075385   кофейня\n",
       "Prime                                           50    4.116000  ресторан\n",
       "Хинкальная                                      44    4.322727      кафе\n",
       "КОФЕПОРТ                                        42    4.147619   кофейня\n",
       "Кулинарная лавка братьев Караваевых             39    4.394872      кафе\n",
       "Теремок                                         38    4.123684  ресторан\n",
       "Чайхана                                         37    3.924324      кафе\n",
       "CofeFest                                        32    3.984375   кофейня\n",
       "Буханка                                         32    4.396875  булочная\n",
       "Му-Му                                           27    4.229630      кафе"
      ]
     },
     "execution_count": 64,
     "metadata": {},
     "output_type": "execute_result"
    }
   ],
   "source": [
    "# Создаем таблицу\n",
    "result = pd.DataFrame({\n",
    "    'num_locations': top_15_chains['num_locations'],\n",
    "    'avg_rating': top_15_chains['avg_rating']\n",
    "})\n",
    "\n",
    "# Добавляем категорию\n",
    "for chain_name in result.index:\n",
    "    chain = df[df['name'] == chain_name]\n",
    "    counts = chain['category'].value_counts()\n",
    "    category = counts.index[0]\n",
    "    result.loc[chain_name, 'category'] = category\n",
    "\n",
    "\n",
    "# Выводим результат\n",
    "result"
   ]
  },
  {
   "cell_type": "markdown",
   "id": "6185f7f2",
   "metadata": {},
   "source": [
    "Создадим визуализацию со средним рейтингом для заведений. Выберем столбчатую диаграмму"
   ]
  },
  {
   "cell_type": "code",
   "execution_count": 65,
   "id": "c367ab86",
   "metadata": {},
   "outputs": [
    {
     "data": {
      "image/png": "[encoded data removed]",
      "text/plain": [
       "<Figure size 864x432 with 1 Axes>"
      ]
     },
     "metadata": {
      "needs_background": "light"
     },
     "output_type": "display_data"
    }
   ],
   "source": [
    "# Создаём контейнер графика matplotlib и задаём его размер\n",
    "plt.figure(figsize=(12, 6))\n",
    "\n",
    "# Сортируем данные \n",
    "result_sorted = result.reset_index().sort_values('avg_rating', ascending=False)\n",
    "\n",
    "# # Создаем визуализацию\n",
    "ax = sns.barplot(\n",
    "    data=result_sorted,\n",
    "    x='name',\n",
    "    y='avg_rating',\n",
    "    hue='category',\n",
    "    palette='viridis',\n",
    "    dodge=False\n",
    ")\n",
    "\n",
    "# Добавляем axhline со средним рейтингом\n",
    "mean_rating = result['avg_rating'].mean()\n",
    "ax.axhline(mean_rating, \n",
    "           color='red', \n",
    "           linestyle='--', \n",
    "           linewidth=1)\n",
    "\n",
    "\n",
    "# Настраиваем оформление\n",
    "plt.title('Средний рейтинг топ-15 сетевых заведений Москвы')\n",
    "plt.xlabel('Название сети')\n",
    "plt.ylabel('Средний рейтинг')\n",
    "plt.xticks(rotation=45)\n",
    "plt.legend(title='Категория')\n",
    "plt.grid(axis='y')\n",
    "\n",
    "\n",
    "plt.show()"
   ]
  },
  {
   "cell_type": "markdown",
   "id": "88e33625",
   "metadata": {},
   "source": [
    "Создадим визуализацию среднего рейтинга по категориям. Посмотрим каким образом распределяется рейтинг"
   ]
  },
  {
   "cell_type": "code",
   "execution_count": 66,
   "id": "67404bfb",
   "metadata": {},
   "outputs": [
    {
     "data": {
      "image/png": "[encoded data removed]",
      "text/plain": [
       "<Figure size 864x432 with 1 Axes>"
      ]
     },
     "metadata": {
      "needs_background": "light"
     },
     "output_type": "display_data"
    }
   ],
   "source": [
    "# Создаём контейнер графика matplotlib и задаём его размер\n",
    "plt.figure(figsize=(12, 6))\n",
    "\n",
    "# Сортируем данные \n",
    "result_sorted = result.reset_index().sort_values('avg_rating', ascending=False)\n",
    "\n",
    "# Создаем визуализацию\n",
    "ax = sns.barplot(\n",
    "    data=result_sorted,\n",
    "    x='category',\n",
    "    y='avg_rating',\n",
    "    palette='viridis',\n",
    "    dodge=False\n",
    ")\n",
    "\n",
    "# Добавляем axhline со средним рейтингом\n",
    "mean_rating = result['avg_rating'].mean()\n",
    "ax.axhline(mean_rating, \n",
    "           color='red', \n",
    "           linestyle='--', \n",
    "           linewidth=1)\n",
    "\n",
    "\n",
    "# Настраиваем оформление\n",
    "plt.title('Средний рейтинг топ-15 сетевых заведений Москвы по категориям')\n",
    "plt.xlabel('Категория')\n",
    "plt.ylabel('Средний рейтинг')\n",
    "plt.xticks(rotation=45)\n",
    "plt.grid(axis='y')\n",
    "\n",
    "\n",
    "plt.show()"
   ]
  },
  {
   "cell_type": "markdown",
   "id": "5a1528a8",
   "metadata": {},
   "source": [
    "- По графику видно что лидеры в рейтинге булочные,кафе и пиццерии.Рестораны показывают самый низкий рейтинг."
   ]
  },
  {
   "cell_type": "markdown",
   "id": "85a90a94",
   "metadata": {
    "id": "85a90a94"
   },
   "source": [
    "---\n",
    "\n",
    "### Задача 8\n",
    "\n",
    "Изучим вариацию среднего чека заведения (столбец `middle_avg_bill`) в зависимости от района Москвы. Проанализируем цены в Центральном административном округе и других. Как удалённость от центра влияет на цены в заведениях? Результат сопроводим подходящими визуализациями.\n"
   ]
  },
  {
   "cell_type": "code",
   "execution_count": 67,
   "id": "5fb4ffc6",
   "metadata": {
    "id": "5fb4ffc6"
   },
   "outputs": [],
   "source": [
    "# Отсортируем заполненые пропуски\n",
    "df = df[df['middle_avg_bill'] > 0]"
   ]
  },
  {
   "cell_type": "code",
   "execution_count": 68,
   "id": "b98066c1",
   "metadata": {
    "id": "b98066c1"
   },
   "outputs": [
    {
     "data": {
      "text/html": [
       "<div>\n",
       "<style scoped>\n",
       "    .dataframe tbody tr th:only-of-type {\n",
       "        vertical-align: middle;\n",
       "    }\n",
       "\n",
       "    .dataframe tbody tr th {\n",
       "        vertical-align: top;\n",
       "    }\n",
       "\n",
       "    .dataframe thead th {\n",
       "        text-align: right;\n",
       "    }\n",
       "</style>\n",
       "<table border=\"1\" class=\"dataframe\">\n",
       "  <thead>\n",
       "    <tr style=\"text-align: right;\">\n",
       "      <th></th>\n",
       "      <th>count</th>\n",
       "      <th>mean</th>\n",
       "      <th>std</th>\n",
       "      <th>min</th>\n",
       "      <th>25%</th>\n",
       "      <th>50%</th>\n",
       "      <th>75%</th>\n",
       "      <th>max</th>\n",
       "    </tr>\n",
       "    <tr>\n",
       "      <th>district</th>\n",
       "      <th></th>\n",
       "      <th></th>\n",
       "      <th></th>\n",
       "      <th></th>\n",
       "      <th></th>\n",
       "      <th></th>\n",
       "      <th></th>\n",
       "      <th></th>\n",
       "    </tr>\n",
       "  </thead>\n",
       "  <tbody>\n",
       "    <tr>\n",
       "      <th>Восточный административный округ</th>\n",
       "      <td>260.0</td>\n",
       "      <td>820.626923</td>\n",
       "      <td>850.903310</td>\n",
       "      <td>50.0</td>\n",
       "      <td>338.00</td>\n",
       "      <td>575.0</td>\n",
       "      <td>1100.0</td>\n",
       "      <td>10000.0</td>\n",
       "    </tr>\n",
       "    <tr>\n",
       "      <th>Западный административный округ</th>\n",
       "      <td>306.0</td>\n",
       "      <td>1053.225490</td>\n",
       "      <td>779.008536</td>\n",
       "      <td>50.0</td>\n",
       "      <td>427.50</td>\n",
       "      <td>1000.0</td>\n",
       "      <td>1500.0</td>\n",
       "      <td>5250.0</td>\n",
       "    </tr>\n",
       "    <tr>\n",
       "      <th>Северный административный округ</th>\n",
       "      <td>322.0</td>\n",
       "      <td>927.959627</td>\n",
       "      <td>912.609221</td>\n",
       "      <td>130.0</td>\n",
       "      <td>350.00</td>\n",
       "      <td>650.0</td>\n",
       "      <td>1250.0</td>\n",
       "      <td>11000.0</td>\n",
       "    </tr>\n",
       "    <tr>\n",
       "      <th>Северо-Восточный административный округ</th>\n",
       "      <td>301.0</td>\n",
       "      <td>716.611296</td>\n",
       "      <td>591.232153</td>\n",
       "      <td>50.0</td>\n",
       "      <td>325.00</td>\n",
       "      <td>500.0</td>\n",
       "      <td>950.0</td>\n",
       "      <td>4500.0</td>\n",
       "    </tr>\n",
       "    <tr>\n",
       "      <th>Северо-Западный административный округ</th>\n",
       "      <td>157.0</td>\n",
       "      <td>822.222930</td>\n",
       "      <td>595.055218</td>\n",
       "      <td>120.0</td>\n",
       "      <td>340.00</td>\n",
       "      <td>700.0</td>\n",
       "      <td>1100.0</td>\n",
       "      <td>2900.0</td>\n",
       "    </tr>\n",
       "    <tr>\n",
       "      <th>Центральный административный округ</th>\n",
       "      <td>1059.0</td>\n",
       "      <td>1192.182247</td>\n",
       "      <td>919.720051</td>\n",
       "      <td>67.0</td>\n",
       "      <td>500.00</td>\n",
       "      <td>1000.0</td>\n",
       "      <td>1500.0</td>\n",
       "      <td>7250.0</td>\n",
       "    </tr>\n",
       "    <tr>\n",
       "      <th>Юго-Восточный административный округ</th>\n",
       "      <td>194.0</td>\n",
       "      <td>654.097938</td>\n",
       "      <td>566.825663</td>\n",
       "      <td>30.0</td>\n",
       "      <td>281.25</td>\n",
       "      <td>450.0</td>\n",
       "      <td>887.5</td>\n",
       "      <td>3750.0</td>\n",
       "    </tr>\n",
       "    <tr>\n",
       "      <th>Юго-Западный административный округ</th>\n",
       "      <td>235.0</td>\n",
       "      <td>792.561702</td>\n",
       "      <td>559.173122</td>\n",
       "      <td>100.0</td>\n",
       "      <td>350.00</td>\n",
       "      <td>600.0</td>\n",
       "      <td>1100.0</td>\n",
       "      <td>2750.0</td>\n",
       "    </tr>\n",
       "    <tr>\n",
       "      <th>Южный административный округ</th>\n",
       "      <td>314.0</td>\n",
       "      <td>834.398089</td>\n",
       "      <td>2008.640596</td>\n",
       "      <td>100.0</td>\n",
       "      <td>350.00</td>\n",
       "      <td>500.0</td>\n",
       "      <td>1037.5</td>\n",
       "      <td>35000.0</td>\n",
       "    </tr>\n",
       "  </tbody>\n",
       "</table>\n",
       "</div>"
      ],
      "text/plain": [
       "                                          count         mean          std  \\\n",
       "district                                                                    \n",
       "Восточный административный округ          260.0   820.626923   850.903310   \n",
       "Западный административный округ           306.0  1053.225490   779.008536   \n",
       "Северный административный округ           322.0   927.959627   912.609221   \n",
       "Северо-Восточный административный округ   301.0   716.611296   591.232153   \n",
       "Северо-Западный административный округ    157.0   822.222930   595.055218   \n",
       "Центральный административный округ       1059.0  1192.182247   919.720051   \n",
       "Юго-Восточный административный округ      194.0   654.097938   566.825663   \n",
       "Юго-Западный административный округ       235.0   792.561702   559.173122   \n",
       "Южный административный округ              314.0   834.398089  2008.640596   \n",
       "\n",
       "                                           min     25%     50%     75%  \\\n",
       "district                                                                 \n",
       "Восточный административный округ          50.0  338.00   575.0  1100.0   \n",
       "Западный административный округ           50.0  427.50  1000.0  1500.0   \n",
       "Северный административный округ          130.0  350.00   650.0  1250.0   \n",
       "Северо-Восточный административный округ   50.0  325.00   500.0   950.0   \n",
       "Северо-Западный административный округ   120.0  340.00   700.0  1100.0   \n",
       "Центральный административный округ        67.0  500.00  1000.0  1500.0   \n",
       "Юго-Восточный административный округ      30.0  281.25   450.0   887.5   \n",
       "Юго-Западный административный округ      100.0  350.00   600.0  1100.0   \n",
       "Южный административный округ             100.0  350.00   500.0  1037.5   \n",
       "\n",
       "                                             max  \n",
       "district                                          \n",
       "Восточный административный округ         10000.0  \n",
       "Западный административный округ           5250.0  \n",
       "Северный административный округ          11000.0  \n",
       "Северо-Восточный административный округ   4500.0  \n",
       "Северо-Западный административный округ    2900.0  \n",
       "Центральный административный округ        7250.0  \n",
       "Юго-Восточный административный округ      3750.0  \n",
       "Юго-Западный административный округ       2750.0  \n",
       "Южный административный округ             35000.0  "
      ]
     },
     "execution_count": 68,
     "metadata": {},
     "output_type": "execute_result"
    }
   ],
   "source": [
    "# Выведем значения по округам\n",
    "district_stats = df.groupby('district')['middle_avg_bill'].describe()\n",
    "district_stats"
   ]
  },
  {
   "cell_type": "markdown",
   "id": "6ffa8249",
   "metadata": {
    "id": "9b5e00a5"
   },
   "source": [
    "Посмотрим распределение среднего чека по округам. Выберем в кчаестве визуализации `boxplot`"
   ]
  },
  {
   "cell_type": "code",
   "execution_count": 69,
   "id": "fada247e",
   "metadata": {},
   "outputs": [
    {
     "data": {
      "image/png": "[encoded data removed]",
      "text/plain": [
       "<Figure size 864x432 with 1 Axes>"
      ]
     },
     "metadata": {
      "needs_background": "light"
     },
     "output_type": "display_data"
    }
   ],
   "source": [
    "# Создаём контейнер графика matplotlib и задаём его размер\n",
    "plt.figure(figsize=(12, 6))\n",
    "\n",
    "\n",
    "# Создаем визуализацию\n",
    "sns.boxplot(\n",
    "    data=df,\n",
    "    x='middle_avg_bill',\n",
    "    y='district',\n",
    "    order=district_stats.index,\n",
    "    showfliers=False\n",
    ")\n",
    "# Настраиваем оформление\n",
    "plt.title('Распределение среднего чека по округам')\n",
    "plt.xlabel('Средний чек')\n",
    "plt.ylabel('Округ')\n",
    "plt.grid()\n",
    "\n",
    "\n",
    "plt.show()"
   ]
  },
  {
   "cell_type": "markdown",
   "id": "6c6a7cc4",
   "metadata": {},
   "source": [
    "Визуализируем сравнение среднего чека и медианы."
   ]
  },
  {
   "cell_type": "code",
   "execution_count": 70,
   "id": "735d5693",
   "metadata": {},
   "outputs": [
    {
     "data": {
      "image/png": "[encoded data removed]",
      "text/plain": [
       "<Figure size 864x432 with 1 Axes>"
      ]
     },
     "metadata": {
      "needs_background": "light"
     },
     "output_type": "display_data"
    }
   ],
   "source": [
    "# Создаем визуализацию\n",
    "district_stats[['mean', '50%']].plot(kind='bar',\n",
    "                                     rot = 45,\n",
    "                                    figsize=(12, 6))\n",
    "\n",
    "# Настраиваем оформление\n",
    "plt.title('Сравнение среднего чека и медианы по округам')\n",
    "plt.xlabel('Средний чек')\n",
    "plt.legend(['Среднее', 'Медиана'])\n",
    "plt.grid(True)\n",
    "\n",
    "\n",
    "plt.show()"
   ]
  },
  {
   "cell_type": "markdown",
   "id": "f9518318",
   "metadata": {},
   "source": [
    "- Самый дорогой средний чек (1192 рублей) медиана (1000 рублей) в ЦАО. Юго-Восточный округ самый бюджетный. У него средний чек (654 рубля) а  медиана (450 рублей)"
   ]
  },
  {
   "cell_type": "markdown",
   "id": "5450fd7d",
   "metadata": {},
   "source": [
    "Теперь посчитаем средний чек удалённости от центра."
   ]
  },
  {
   "cell_type": "code",
   "execution_count": 71,
   "id": "9c6db34e",
   "metadata": {},
   "outputs": [
    {
     "name": "stdout",
     "output_type": "stream",
     "text": [
      "Средний чек в ЦАО: 1192.0 руб.\n",
      "Средний чек в других округах: 840.0 руб.\n",
      "Разница: 352.0 руб. на 41.9% выше\n"
     ]
    }
   ],
   "source": [
    "# Отфильтруем данные\n",
    "central = df[df['district'] == 'Центральный административный округ']['middle_avg_bill']\n",
    "not_central = df[df['district'] != 'Центральный административный округ']['middle_avg_bill']\n",
    "\n",
    "# Рассчитываем средние значения\n",
    "central_avg = central.mean().round()\n",
    "not_central_avg = not_central.mean().round()\n",
    "\n",
    "print(f'Средний чек в ЦАО: {central_avg} руб.')\n",
    "print(f'Средний чек в других округах: {not_central_avg} руб.')\n",
    "\n",
    "# Посчитаем разницу \n",
    "diff_avg = round(central_avg - not_central_avg,2)\n",
    "perc_diff = round(((central_avg / not_central_avg)-1) * 100,2)\n",
    "\n",
    "print(f'Разница: {diff_avg} руб. на {perc_diff}% выше')"
   ]
  },
  {
   "cell_type": "markdown",
   "id": "e58b132e",
   "metadata": {},
   "source": [
    "Визуализируем данные с помощью столбчатой диаграммы"
   ]
  },
  {
   "cell_type": "code",
   "execution_count": 72,
   "id": "d013039c",
   "metadata": {},
   "outputs": [
    {
     "data": {
      "image/png": "[encoded data removed]",
      "text/plain": [
       "<Figure size 864x432 with 1 Axes>"
      ]
     },
     "metadata": {
      "needs_background": "light"
     },
     "output_type": "display_data"
    }
   ],
   "source": [
    "# Данные для графика\n",
    "data = {'ЦАО': central_avg, 'Другие округа': not_central_avg}\n",
    "\n",
    "# Создаём контейнер графика matplotlib и задаём его размер\n",
    "plt.figure(figsize=(12, 6))\n",
    "\n",
    "# Создаем визуализацию\n",
    "plt.bar(data.keys(), \n",
    "        data.values(), \n",
    "        color=['blue', 'orange'])\n",
    "\n",
    "# Настраиваем оформление\n",
    "plt.title('Сравнение среднего чека по удаленности')\n",
    "plt.ylabel('Средний чек')\n",
    "plt.grid(axis='y')\n",
    "\n",
    "\n",
    "plt.show()"
   ]
  },
  {
   "cell_type": "markdown",
   "id": "9f5f1680",
   "metadata": {},
   "source": [
    " - График показывает что средний чек в центре (1192 рубля) на 42 процента выше чем в отальных округах (840 руб.) что подвтерждает что удаленность от центра снижает цены в заведениях."
   ]
  },
  {
   "cell_type": "markdown",
   "id": "c150bd4f",
   "metadata": {
    "id": "c150bd4f"
   },
   "source": [
    "---\n"
   ]
  },
  {
   "cell_type": "markdown",
   "id": "480f3422",
   "metadata": {
    "id": "480f3422"
   },
   "source": [
    "## Итоговый вывод и рекомендации\n",
    " - По результатам проведённого исследовательского анализа данных сформулируем итоговый вывод и рекомендации для заказчика. Постараемся акцентировать внимание на ключевых моментах исследования.\n",
    " \n",
    "### Общий обзор проделанной работы.\n",
    "Был проведён анализ данных о заведениях общественного питания Москвы.\n",
    "\n",
    " - Распределение заведений по категориям и районам\n",
    "\n",
    " - Соотношение сетевых и несетевых заведений\n",
    "\n",
    " - Вместимость заведений и рейтинги\n",
    "\n",
    " - Влияние местоположения на средний чек\n",
    "\n",
    " - Взаимосвязи между ключевыми параметрами\n",
    "\n",
    " - Топ сетевых заведений\n",
    " \n",
    " ### Ответы на исследовательские вопросы, или главные выводы.\n",
    " \n",
    "  - Наибольшее число объектов — кафе (2376 заведений) и рестораны (2042 заведения).В ЦАО преобладают рестораны, в других округах  кафе.Центральный округ (ЦАО) лидирует по количеству заведений. Наименьшее число объектов — в Северо-Западном округе.\n",
    "\n",
    "- Несетевых заведений больше чем сетевых. Несетевых 5199 заведений что составляет 61,88% от общего количества, а сетевых почти в 1,5 раза меньше 3203 что составляет 38,12% от общего количества заведений.Категории заведений которые чаще являются сетевыми: В категории сетевых больше преобладают булочные,кофейни и пиццерии.Меньше всего бары и столовые.\n",
    "\n",
    "- Вместимость заведений. В данных присутсвует наличие сильных выбросов в категориях. Во всех категориях встречаются заведения с более 500 местами. Причины выбросов вероятнее всего ошибки в данных. График показывает что лидируют по количеству посадочных мест рестораны. Далее идут пабы,кофейни и столовые. Мнешье всего посадочных мест в пиццериях и булочных.. Из анализа следует что большинство заведений имеют рейтинг 4.0-4.8. В некоторых категориях более широкий разброс оценок.Видно различие в медианах по категориям. Среднии категории отличаются незначительно.Самая сильная корреляция у рейтингов с ценой.\n",
    "\n",
    "- В топе заведений находятся булочные,кафе и пиццерии.Рестораны показывают самый низкий рейтинг.\n",
    "\n",
    "- Самый дорогой средний чек (1192 рублей) медиана (1000 рублей) в ЦАО. Юго-Восточный округ самый бюджетный. У него средний чек (654 рубля) а  медиана (450 рублей).Средний чек в центре на 42 процента выше чем в отальных округах что подвтерждает что удаленность от центра снижает цены в заведениях.\n",
    "\n",
    "### Рекомендации\n",
    " - Для открытия нового заведения в ЦАО ориентироваться на рестораны, кафе — высокий спрос.В остальных округах развивать кафе и столовые со средними ценами. Для сетевых проектов: выбирать фастфуд или кофейни популярный формат. Делать акцент на рейтинг.Для повышения рейтинга улучшать соотношение цена/качество(сильная взаимосвязь). \n",
    "\n",
    "\n"
   ]
  },
  {
   "cell_type": "markdown",
   "id": "3f265f33",
   "metadata": {},
   "source": []
  },
  {
   "cell_type": "markdown",
   "id": "c407c610",
   "metadata": {},
   "source": []
  }
 ],
 "metadata": {
  "ExecuteTimeLog": [
   {
    "duration": 3100,
    "start_time": "2025-04-12T06:30:33.091Z"
   },
   {
    "duration": 1310,
    "start_time": "2025-04-12T06:30:36.193Z"
   },
   {
    "duration": 212,
    "start_time": "2025-04-12T06:30:37.505Z"
   },
   {
    "duration": 14,
    "start_time": "2025-04-12T06:30:37.718Z"
   },
   {
    "duration": 15,
    "start_time": "2025-04-12T06:30:37.734Z"
   },
   {
    "duration": 9,
    "start_time": "2025-04-12T06:30:37.750Z"
   },
   {
    "duration": 10,
    "start_time": "2025-04-12T06:30:37.760Z"
   },
   {
    "duration": 10,
    "start_time": "2025-04-12T06:30:37.771Z"
   },
   {
    "duration": 14,
    "start_time": "2025-04-12T06:30:37.782Z"
   },
   {
    "duration": 21,
    "start_time": "2025-04-12T06:30:37.798Z"
   },
   {
    "duration": 2251,
    "start_time": "2025-04-12T06:38:19.228Z"
   },
   {
    "duration": 1084,
    "start_time": "2025-04-12T06:38:21.482Z"
   },
   {
    "duration": 172,
    "start_time": "2025-04-12T06:38:22.568Z"
   },
   {
    "duration": 16,
    "start_time": "2025-04-12T06:38:22.742Z"
   },
   {
    "duration": 14,
    "start_time": "2025-04-12T06:38:22.761Z"
   },
   {
    "duration": 9,
    "start_time": "2025-04-12T06:38:22.777Z"
   },
   {
    "duration": 12,
    "start_time": "2025-04-12T06:38:22.788Z"
   },
   {
    "duration": 44,
    "start_time": "2025-04-12T06:38:22.801Z"
   },
   {
    "duration": 67,
    "start_time": "2025-04-12T06:38:22.847Z"
   },
   {
    "duration": 87,
    "start_time": "2025-04-12T06:38:22.916Z"
   },
   {
    "duration": 87,
    "start_time": "2025-04-12T06:38:23.005Z"
   },
   {
    "duration": 0,
    "start_time": "2025-04-12T06:38:23.094Z"
   },
   {
    "duration": 0,
    "start_time": "2025-04-12T06:38:23.095Z"
   },
   {
    "duration": 0,
    "start_time": "2025-04-12T06:38:23.096Z"
   },
   {
    "duration": 0,
    "start_time": "2025-04-12T06:38:23.097Z"
   },
   {
    "duration": 0,
    "start_time": "2025-04-12T06:38:23.098Z"
   },
   {
    "duration": 0,
    "start_time": "2025-04-12T06:38:23.100Z"
   },
   {
    "duration": 0,
    "start_time": "2025-04-12T06:38:23.101Z"
   },
   {
    "duration": 0,
    "start_time": "2025-04-12T06:38:23.102Z"
   },
   {
    "duration": 2251,
    "start_time": "2025-04-12T06:38:41.189Z"
   },
   {
    "duration": 1133,
    "start_time": "2025-04-12T06:38:43.442Z"
   },
   {
    "duration": 134,
    "start_time": "2025-04-12T06:38:44.577Z"
   },
   {
    "duration": 15,
    "start_time": "2025-04-12T06:38:44.713Z"
   },
   {
    "duration": 16,
    "start_time": "2025-04-12T06:38:44.730Z"
   },
   {
    "duration": 11,
    "start_time": "2025-04-12T06:38:44.747Z"
   },
   {
    "duration": 11,
    "start_time": "2025-04-12T06:38:44.760Z"
   },
   {
    "duration": 10,
    "start_time": "2025-04-12T06:38:44.773Z"
   },
   {
    "duration": 50,
    "start_time": "2025-04-12T06:38:44.785Z"
   },
   {
    "duration": 14,
    "start_time": "2025-04-12T06:38:44.837Z"
   },
   {
    "duration": 102,
    "start_time": "2025-04-12T06:38:44.853Z"
   },
   {
    "duration": 41,
    "start_time": "2025-04-12T06:38:44.957Z"
   },
   {
    "duration": 108,
    "start_time": "2025-04-12T06:38:45.000Z"
   },
   {
    "duration": 6,
    "start_time": "2025-04-12T06:38:45.111Z"
   },
   {
    "duration": 24,
    "start_time": "2025-04-12T06:38:45.118Z"
   },
   {
    "duration": 21,
    "start_time": "2025-04-12T06:38:45.144Z"
   },
   {
    "duration": 23,
    "start_time": "2025-04-12T06:38:45.166Z"
   },
   {
    "duration": 102,
    "start_time": "2025-04-12T06:38:45.190Z"
   },
   {
    "duration": 2262,
    "start_time": "2025-04-12T06:43:38.519Z"
   },
   {
    "duration": 1083,
    "start_time": "2025-04-12T06:43:40.783Z"
   },
   {
    "duration": 195,
    "start_time": "2025-04-12T06:43:41.868Z"
   },
   {
    "duration": 15,
    "start_time": "2025-04-12T06:43:42.065Z"
   },
   {
    "duration": 14,
    "start_time": "2025-04-12T06:43:42.083Z"
   },
   {
    "duration": 9,
    "start_time": "2025-04-12T06:43:42.098Z"
   },
   {
    "duration": 19,
    "start_time": "2025-04-12T06:43:42.109Z"
   },
   {
    "duration": 10,
    "start_time": "2025-04-12T06:43:42.135Z"
   },
   {
    "duration": 14,
    "start_time": "2025-04-12T06:43:42.147Z"
   },
   {
    "duration": 14,
    "start_time": "2025-04-12T06:43:42.162Z"
   },
   {
    "duration": 8,
    "start_time": "2025-04-12T06:43:42.177Z"
   },
   {
    "duration": 74,
    "start_time": "2025-04-12T06:43:42.186Z"
   },
   {
    "duration": 10,
    "start_time": "2025-04-12T06:43:42.261Z"
   },
   {
    "duration": 7,
    "start_time": "2025-04-12T06:43:42.273Z"
   },
   {
    "duration": 6,
    "start_time": "2025-04-12T06:43:42.281Z"
   },
   {
    "duration": 12,
    "start_time": "2025-04-12T06:43:42.288Z"
   },
   {
    "duration": 4,
    "start_time": "2025-04-12T06:43:42.302Z"
   },
   {
    "duration": 11,
    "start_time": "2025-04-12T06:43:42.307Z"
   },
   {
    "duration": 21,
    "start_time": "2025-04-12T06:43:42.320Z"
   },
   {
    "duration": 8,
    "start_time": "2025-04-12T06:43:42.343Z"
   },
   {
    "duration": 13,
    "start_time": "2025-04-12T06:43:42.352Z"
   },
   {
    "duration": 10,
    "start_time": "2025-04-12T06:43:42.367Z"
   },
   {
    "duration": 8,
    "start_time": "2025-04-12T06:43:42.379Z"
   },
   {
    "duration": 4,
    "start_time": "2025-04-12T06:43:42.389Z"
   },
   {
    "duration": 45,
    "start_time": "2025-04-12T06:43:42.395Z"
   },
   {
    "duration": 4,
    "start_time": "2025-04-12T06:43:42.441Z"
   },
   {
    "duration": 25,
    "start_time": "2025-04-12T06:43:42.447Z"
   },
   {
    "duration": 3,
    "start_time": "2025-04-12T06:43:42.474Z"
   },
   {
    "duration": 265,
    "start_time": "2025-04-12T06:43:42.479Z"
   },
   {
    "duration": 5,
    "start_time": "2025-04-12T06:43:42.745Z"
   },
   {
    "duration": 7,
    "start_time": "2025-04-12T06:43:42.751Z"
   },
   {
    "duration": 2325,
    "start_time": "2025-04-12T06:47:35.847Z"
   },
   {
    "duration": 1106,
    "start_time": "2025-04-12T06:47:38.174Z"
   },
   {
    "duration": 182,
    "start_time": "2025-04-12T06:47:39.281Z"
   },
   {
    "duration": 14,
    "start_time": "2025-04-12T06:47:39.465Z"
   },
   {
    "duration": 12,
    "start_time": "2025-04-12T06:47:39.480Z"
   },
   {
    "duration": 9,
    "start_time": "2025-04-12T06:47:39.493Z"
   },
   {
    "duration": 22,
    "start_time": "2025-04-12T06:47:39.503Z"
   },
   {
    "duration": 10,
    "start_time": "2025-04-12T06:47:39.527Z"
   },
   {
    "duration": 14,
    "start_time": "2025-04-12T06:47:39.538Z"
   },
   {
    "duration": 13,
    "start_time": "2025-04-12T06:47:39.554Z"
   },
   {
    "duration": 7,
    "start_time": "2025-04-12T06:47:39.568Z"
   },
   {
    "duration": 4,
    "start_time": "2025-04-12T06:47:39.576Z"
   },
   {
    "duration": 8,
    "start_time": "2025-04-12T06:47:39.582Z"
   },
   {
    "duration": 5,
    "start_time": "2025-04-12T06:47:39.591Z"
   },
   {
    "duration": 41,
    "start_time": "2025-04-12T06:47:39.597Z"
   },
   {
    "duration": 64,
    "start_time": "2025-04-12T06:47:39.640Z"
   },
   {
    "duration": 3,
    "start_time": "2025-04-12T06:47:39.706Z"
   },
   {
    "duration": 8,
    "start_time": "2025-04-12T06:47:39.711Z"
   },
   {
    "duration": 16,
    "start_time": "2025-04-12T06:47:39.721Z"
   },
   {
    "duration": 7,
    "start_time": "2025-04-12T06:47:39.738Z"
   },
   {
    "duration": 16,
    "start_time": "2025-04-12T06:47:39.747Z"
   },
   {
    "duration": 9,
    "start_time": "2025-04-12T06:47:39.765Z"
   },
   {
    "duration": 67,
    "start_time": "2025-04-12T06:47:39.776Z"
   },
   {
    "duration": 19,
    "start_time": "2025-04-12T06:47:39.844Z"
   },
   {
    "duration": 10,
    "start_time": "2025-04-12T06:47:39.864Z"
   },
   {
    "duration": 3,
    "start_time": "2025-04-12T06:47:39.875Z"
   },
   {
    "duration": 9,
    "start_time": "2025-04-12T06:47:39.880Z"
   },
   {
    "duration": 5,
    "start_time": "2025-04-12T06:47:39.892Z"
   },
   {
    "duration": 256,
    "start_time": "2025-04-12T06:47:39.899Z"
   },
   {
    "duration": 4,
    "start_time": "2025-04-12T06:47:40.156Z"
   },
   {
    "duration": 5,
    "start_time": "2025-04-12T06:47:40.161Z"
   },
   {
    "duration": 5,
    "start_time": "2025-04-12T06:47:40.168Z"
   },
   {
    "duration": 5,
    "start_time": "2025-04-12T06:47:40.175Z"
   },
   {
    "duration": 191,
    "start_time": "2025-04-12T06:47:40.181Z"
   },
   {
    "duration": 4,
    "start_time": "2025-04-12T06:47:40.374Z"
   },
   {
    "duration": 8,
    "start_time": "2025-04-12T06:47:40.379Z"
   },
   {
    "duration": 194,
    "start_time": "2025-04-12T06:47:40.388Z"
   },
   {
    "duration": 5,
    "start_time": "2025-04-12T06:47:40.584Z"
   },
   {
    "duration": 7,
    "start_time": "2025-04-12T06:47:40.590Z"
   },
   {
    "duration": 189,
    "start_time": "2025-04-12T06:47:40.599Z"
   },
   {
    "duration": 2280,
    "start_time": "2025-04-12T06:55:57.409Z"
   },
   {
    "duration": 1186,
    "start_time": "2025-04-12T06:55:59.691Z"
   },
   {
    "duration": 193,
    "start_time": "2025-04-12T06:56:00.878Z"
   },
   {
    "duration": 14,
    "start_time": "2025-04-12T06:56:01.073Z"
   },
   {
    "duration": 75,
    "start_time": "2025-04-12T06:56:01.088Z"
   },
   {
    "duration": 22,
    "start_time": "2025-04-12T06:56:01.164Z"
   },
   {
    "duration": 11,
    "start_time": "2025-04-12T06:56:01.188Z"
   },
   {
    "duration": 10,
    "start_time": "2025-04-12T06:56:01.200Z"
   },
   {
    "duration": 25,
    "start_time": "2025-04-12T06:56:01.211Z"
   },
   {
    "duration": 13,
    "start_time": "2025-04-12T06:56:01.238Z"
   },
   {
    "duration": 7,
    "start_time": "2025-04-12T06:56:01.252Z"
   },
   {
    "duration": 83,
    "start_time": "2025-04-12T06:56:01.261Z"
   },
   {
    "duration": 10,
    "start_time": "2025-04-12T06:56:01.346Z"
   },
   {
    "duration": 28,
    "start_time": "2025-04-12T06:56:01.358Z"
   },
   {
    "duration": 5,
    "start_time": "2025-04-12T06:56:01.388Z"
   },
   {
    "duration": 13,
    "start_time": "2025-04-12T06:56:01.394Z"
   },
   {
    "duration": 3,
    "start_time": "2025-04-12T06:56:01.408Z"
   },
   {
    "duration": 22,
    "start_time": "2025-04-12T06:56:01.413Z"
   },
   {
    "duration": 17,
    "start_time": "2025-04-12T06:56:01.437Z"
   },
   {
    "duration": 7,
    "start_time": "2025-04-12T06:56:01.455Z"
   },
   {
    "duration": 24,
    "start_time": "2025-04-12T06:56:01.464Z"
   },
   {
    "duration": 12,
    "start_time": "2025-04-12T06:56:01.489Z"
   },
   {
    "duration": 10,
    "start_time": "2025-04-12T06:56:01.503Z"
   },
   {
    "duration": 21,
    "start_time": "2025-04-12T06:56:01.514Z"
   },
   {
    "duration": 10,
    "start_time": "2025-04-12T06:56:01.537Z"
   },
   {
    "duration": 5,
    "start_time": "2025-04-12T06:56:01.549Z"
   },
   {
    "duration": 14,
    "start_time": "2025-04-12T06:56:01.556Z"
   },
   {
    "duration": 17,
    "start_time": "2025-04-12T06:56:01.574Z"
   },
   {
    "duration": 229,
    "start_time": "2025-04-12T06:56:01.593Z"
   },
   {
    "duration": 4,
    "start_time": "2025-04-12T06:56:01.824Z"
   },
   {
    "duration": 7,
    "start_time": "2025-04-12T06:56:01.835Z"
   },
   {
    "duration": 8,
    "start_time": "2025-04-12T06:56:01.844Z"
   },
   {
    "duration": 6,
    "start_time": "2025-04-12T06:56:01.853Z"
   },
   {
    "duration": 181,
    "start_time": "2025-04-12T06:56:01.860Z"
   },
   {
    "duration": 4,
    "start_time": "2025-04-12T06:56:02.043Z"
   },
   {
    "duration": 29,
    "start_time": "2025-04-12T06:56:02.049Z"
   },
   {
    "duration": 187,
    "start_time": "2025-04-12T06:56:02.080Z"
   },
   {
    "duration": 4,
    "start_time": "2025-04-12T06:56:02.269Z"
   },
   {
    "duration": 28,
    "start_time": "2025-04-12T06:56:02.275Z"
   },
   {
    "duration": 172,
    "start_time": "2025-04-12T06:56:02.305Z"
   },
   {
    "duration": 7,
    "start_time": "2025-04-12T06:56:02.479Z"
   },
   {
    "duration": 3,
    "start_time": "2025-04-12T06:56:02.488Z"
   },
   {
    "duration": 7,
    "start_time": "2025-04-12T06:56:02.493Z"
   },
   {
    "duration": 166,
    "start_time": "2025-04-12T06:56:02.501Z"
   },
   {
    "duration": 8,
    "start_time": "2025-04-12T06:56:02.668Z"
   },
   {
    "duration": 217,
    "start_time": "2025-04-12T06:56:02.677Z"
   },
   {
    "duration": 248,
    "start_time": "2025-04-12T06:56:02.895Z"
   },
   {
    "duration": 300,
    "start_time": "2025-04-12T06:56:03.145Z"
   },
   {
    "duration": 2275,
    "start_time": "2025-04-12T07:01:46.772Z"
   },
   {
    "duration": 1126,
    "start_time": "2025-04-12T07:01:49.049Z"
   },
   {
    "duration": 152,
    "start_time": "2025-04-12T07:01:50.177Z"
   },
   {
    "duration": 15,
    "start_time": "2025-04-12T07:01:50.331Z"
   },
   {
    "duration": 15,
    "start_time": "2025-04-12T07:01:50.349Z"
   },
   {
    "duration": 9,
    "start_time": "2025-04-12T07:01:50.366Z"
   },
   {
    "duration": 25,
    "start_time": "2025-04-12T07:01:50.377Z"
   },
   {
    "duration": 14,
    "start_time": "2025-04-12T07:01:50.404Z"
   },
   {
    "duration": 27,
    "start_time": "2025-04-12T07:01:50.420Z"
   },
   {
    "duration": 14,
    "start_time": "2025-04-12T07:01:50.448Z"
   },
   {
    "duration": 7,
    "start_time": "2025-04-12T07:01:50.464Z"
   },
   {
    "duration": 6,
    "start_time": "2025-04-12T07:01:50.472Z"
   },
   {
    "duration": 13,
    "start_time": "2025-04-12T07:01:50.479Z"
   },
   {
    "duration": 5,
    "start_time": "2025-04-12T07:01:50.495Z"
   },
   {
    "duration": 34,
    "start_time": "2025-04-12T07:01:50.501Z"
   },
   {
    "duration": 12,
    "start_time": "2025-04-12T07:01:50.537Z"
   },
   {
    "duration": 3,
    "start_time": "2025-04-12T07:01:50.551Z"
   },
   {
    "duration": 9,
    "start_time": "2025-04-12T07:01:50.555Z"
   },
   {
    "duration": 41,
    "start_time": "2025-04-12T07:01:50.566Z"
   },
   {
    "duration": 9,
    "start_time": "2025-04-12T07:01:50.609Z"
   },
   {
    "duration": 25,
    "start_time": "2025-04-12T07:01:50.619Z"
   },
   {
    "duration": 11,
    "start_time": "2025-04-12T07:01:50.645Z"
   },
   {
    "duration": 9,
    "start_time": "2025-04-12T07:01:50.658Z"
   },
   {
    "duration": 5,
    "start_time": "2025-04-12T07:01:50.668Z"
   },
   {
    "duration": 11,
    "start_time": "2025-04-12T07:01:50.674Z"
   },
   {
    "duration": 7,
    "start_time": "2025-04-12T07:01:50.686Z"
   },
   {
    "duration": 17,
    "start_time": "2025-04-12T07:01:50.695Z"
   },
   {
    "duration": 23,
    "start_time": "2025-04-12T07:01:50.713Z"
   },
   {
    "duration": 227,
    "start_time": "2025-04-12T07:01:50.737Z"
   },
   {
    "duration": 3,
    "start_time": "2025-04-12T07:01:50.966Z"
   },
   {
    "duration": 80,
    "start_time": "2025-04-12T07:01:50.971Z"
   },
   {
    "duration": 8,
    "start_time": "2025-04-12T07:01:51.053Z"
   },
   {
    "duration": 11,
    "start_time": "2025-04-12T07:01:51.062Z"
   },
   {
    "duration": 249,
    "start_time": "2025-04-12T07:01:51.075Z"
   },
   {
    "duration": 10,
    "start_time": "2025-04-12T07:01:51.326Z"
   },
   {
    "duration": 17,
    "start_time": "2025-04-12T07:01:51.338Z"
   },
   {
    "duration": 190,
    "start_time": "2025-04-12T07:01:51.357Z"
   },
   {
    "duration": 6,
    "start_time": "2025-04-12T07:01:51.549Z"
   },
   {
    "duration": 16,
    "start_time": "2025-04-12T07:01:51.556Z"
   },
   {
    "duration": 179,
    "start_time": "2025-04-12T07:01:51.573Z"
   },
   {
    "duration": 6,
    "start_time": "2025-04-12T07:01:51.757Z"
   },
   {
    "duration": 35,
    "start_time": "2025-04-12T07:01:51.764Z"
   },
   {
    "duration": 10,
    "start_time": "2025-04-12T07:01:51.801Z"
   },
   {
    "duration": 122,
    "start_time": "2025-04-12T07:01:51.813Z"
   },
   {
    "duration": 8,
    "start_time": "2025-04-12T07:01:51.937Z"
   },
   {
    "duration": 223,
    "start_time": "2025-04-12T07:01:51.947Z"
   },
   {
    "duration": 241,
    "start_time": "2025-04-12T07:01:52.171Z"
   },
   {
    "duration": 403,
    "start_time": "2025-04-12T07:01:52.413Z"
   },
   {
    "duration": 227,
    "start_time": "2025-04-12T07:01:52.818Z"
   },
   {
    "duration": 238,
    "start_time": "2025-04-12T07:01:53.046Z"
   },
   {
    "duration": 4,
    "start_time": "2025-04-12T07:01:53.286Z"
   },
   {
    "duration": 421,
    "start_time": "2025-04-12T07:01:53.291Z"
   },
   {
    "duration": 54,
    "start_time": "2025-04-12T07:01:53.714Z"
   },
   {
    "duration": 0,
    "start_time": "2025-04-12T07:01:53.769Z"
   },
   {
    "duration": 0,
    "start_time": "2025-04-12T07:01:53.771Z"
   },
   {
    "duration": 0,
    "start_time": "2025-04-12T07:01:53.771Z"
   },
   {
    "duration": 2299,
    "start_time": "2025-04-12T07:04:00.703Z"
   },
   {
    "duration": 1196,
    "start_time": "2025-04-12T07:04:03.005Z"
   },
   {
    "duration": 183,
    "start_time": "2025-04-12T07:04:04.202Z"
   },
   {
    "duration": 16,
    "start_time": "2025-04-12T07:04:04.387Z"
   },
   {
    "duration": 15,
    "start_time": "2025-04-12T07:04:04.406Z"
   },
   {
    "duration": 15,
    "start_time": "2025-04-12T07:04:04.422Z"
   },
   {
    "duration": 9,
    "start_time": "2025-04-12T07:04:04.439Z"
   },
   {
    "duration": 10,
    "start_time": "2025-04-12T07:04:04.450Z"
   },
   {
    "duration": 13,
    "start_time": "2025-04-12T07:04:04.462Z"
   },
   {
    "duration": 21,
    "start_time": "2025-04-12T07:04:04.477Z"
   },
   {
    "duration": 8,
    "start_time": "2025-04-12T07:04:04.499Z"
   },
   {
    "duration": 28,
    "start_time": "2025-04-12T07:04:04.508Z"
   },
   {
    "duration": 9,
    "start_time": "2025-04-12T07:04:04.538Z"
   },
   {
    "duration": 4,
    "start_time": "2025-04-12T07:04:04.550Z"
   },
   {
    "duration": 11,
    "start_time": "2025-04-12T07:04:04.556Z"
   },
   {
    "duration": 15,
    "start_time": "2025-04-12T07:04:04.569Z"
   },
   {
    "duration": 6,
    "start_time": "2025-04-12T07:04:04.585Z"
   },
   {
    "duration": 9,
    "start_time": "2025-04-12T07:04:04.593Z"
   },
   {
    "duration": 43,
    "start_time": "2025-04-12T07:04:04.603Z"
   },
   {
    "duration": 8,
    "start_time": "2025-04-12T07:04:04.648Z"
   },
   {
    "duration": 14,
    "start_time": "2025-04-12T07:04:04.658Z"
   },
   {
    "duration": 26,
    "start_time": "2025-04-12T07:04:04.674Z"
   },
   {
    "duration": 11,
    "start_time": "2025-04-12T07:04:04.702Z"
   },
   {
    "duration": 14,
    "start_time": "2025-04-12T07:04:04.714Z"
   },
   {
    "duration": 9,
    "start_time": "2025-04-12T07:04:04.735Z"
   },
   {
    "duration": 4,
    "start_time": "2025-04-12T07:04:04.746Z"
   },
   {
    "duration": 10,
    "start_time": "2025-04-12T07:04:04.752Z"
   },
   {
    "duration": 5,
    "start_time": "2025-04-12T07:04:04.764Z"
   },
   {
    "duration": 256,
    "start_time": "2025-04-12T07:04:04.771Z"
   },
   {
    "duration": 6,
    "start_time": "2025-04-12T07:04:05.029Z"
   },
   {
    "duration": 6,
    "start_time": "2025-04-12T07:04:05.037Z"
   },
   {
    "duration": 6,
    "start_time": "2025-04-12T07:04:05.044Z"
   },
   {
    "duration": 7,
    "start_time": "2025-04-12T07:04:05.052Z"
   },
   {
    "duration": 196,
    "start_time": "2025-04-12T07:04:05.060Z"
   },
   {
    "duration": 6,
    "start_time": "2025-04-12T07:04:05.258Z"
   },
   {
    "duration": 59,
    "start_time": "2025-04-12T07:04:05.266Z"
   },
   {
    "duration": 187,
    "start_time": "2025-04-12T07:04:05.327Z"
   },
   {
    "duration": 6,
    "start_time": "2025-04-12T07:04:05.516Z"
   },
   {
    "duration": 17,
    "start_time": "2025-04-12T07:04:05.524Z"
   },
   {
    "duration": 175,
    "start_time": "2025-04-12T07:04:05.543Z"
   },
   {
    "duration": 15,
    "start_time": "2025-04-12T07:04:05.722Z"
   },
   {
    "duration": 68,
    "start_time": "2025-04-12T07:04:05.738Z"
   },
   {
    "duration": 34,
    "start_time": "2025-04-12T07:04:05.808Z"
   },
   {
    "duration": 145,
    "start_time": "2025-04-12T07:04:05.844Z"
   },
   {
    "duration": 7,
    "start_time": "2025-04-12T07:04:05.991Z"
   },
   {
    "duration": 221,
    "start_time": "2025-04-12T07:04:06.000Z"
   },
   {
    "duration": 238,
    "start_time": "2025-04-12T07:04:06.222Z"
   },
   {
    "duration": 332,
    "start_time": "2025-04-12T07:04:06.461Z"
   },
   {
    "duration": 227,
    "start_time": "2025-04-12T07:04:06.795Z"
   },
   {
    "duration": 248,
    "start_time": "2025-04-12T07:04:07.023Z"
   },
   {
    "duration": 3,
    "start_time": "2025-04-12T07:04:07.273Z"
   },
   {
    "duration": 442,
    "start_time": "2025-04-12T07:04:07.278Z"
   },
   {
    "duration": 14,
    "start_time": "2025-04-12T07:04:07.721Z"
   },
   {
    "duration": 338,
    "start_time": "2025-04-12T07:04:07.737Z"
   },
   {
    "duration": 258,
    "start_time": "2025-04-12T07:04:08.077Z"
   },
   {
    "duration": 2407,
    "start_time": "2025-04-12T07:09:06.303Z"
   },
   {
    "duration": 1168,
    "start_time": "2025-04-12T07:09:08.713Z"
   },
   {
    "duration": 208,
    "start_time": "2025-04-12T07:09:09.883Z"
   },
   {
    "duration": 15,
    "start_time": "2025-04-12T07:09:10.093Z"
   },
   {
    "duration": 13,
    "start_time": "2025-04-12T07:09:10.109Z"
   },
   {
    "duration": 8,
    "start_time": "2025-04-12T07:09:10.124Z"
   },
   {
    "duration": 10,
    "start_time": "2025-04-12T07:09:10.134Z"
   },
   {
    "duration": 12,
    "start_time": "2025-04-12T07:09:10.146Z"
   },
   {
    "duration": 14,
    "start_time": "2025-04-12T07:09:10.159Z"
   },
   {
    "duration": 15,
    "start_time": "2025-04-12T07:09:10.175Z"
   },
   {
    "duration": 7,
    "start_time": "2025-04-12T07:09:10.192Z"
   },
   {
    "duration": 5,
    "start_time": "2025-04-12T07:09:10.201Z"
   },
   {
    "duration": 36,
    "start_time": "2025-04-12T07:09:10.207Z"
   },
   {
    "duration": 13,
    "start_time": "2025-04-12T07:09:10.245Z"
   },
   {
    "duration": 5,
    "start_time": "2025-04-12T07:09:10.260Z"
   },
   {
    "duration": 12,
    "start_time": "2025-04-12T07:09:10.266Z"
   },
   {
    "duration": 3,
    "start_time": "2025-04-12T07:09:10.280Z"
   },
   {
    "duration": 9,
    "start_time": "2025-04-12T07:09:10.285Z"
   },
   {
    "duration": 46,
    "start_time": "2025-04-12T07:09:10.296Z"
   },
   {
    "duration": 8,
    "start_time": "2025-04-12T07:09:10.344Z"
   },
   {
    "duration": 18,
    "start_time": "2025-04-12T07:09:10.353Z"
   },
   {
    "duration": 12,
    "start_time": "2025-04-12T07:09:10.373Z"
   },
   {
    "duration": 11,
    "start_time": "2025-04-12T07:09:10.386Z"
   },
   {
    "duration": 3,
    "start_time": "2025-04-12T07:09:10.399Z"
   },
   {
    "duration": 9,
    "start_time": "2025-04-12T07:09:10.436Z"
   },
   {
    "duration": 4,
    "start_time": "2025-04-12T07:09:10.447Z"
   },
   {
    "duration": 27,
    "start_time": "2025-04-12T07:09:10.452Z"
   },
   {
    "duration": 3,
    "start_time": "2025-04-12T07:09:10.483Z"
   },
   {
    "duration": 255,
    "start_time": "2025-04-12T07:09:10.488Z"
   },
   {
    "duration": 4,
    "start_time": "2025-04-12T07:09:10.744Z"
   },
   {
    "duration": 5,
    "start_time": "2025-04-12T07:09:10.750Z"
   },
   {
    "duration": 6,
    "start_time": "2025-04-12T07:09:10.756Z"
   },
   {
    "duration": 5,
    "start_time": "2025-04-12T07:09:10.764Z"
   },
   {
    "duration": 206,
    "start_time": "2025-04-12T07:09:10.770Z"
   },
   {
    "duration": 4,
    "start_time": "2025-04-12T07:09:10.978Z"
   },
   {
    "duration": 7,
    "start_time": "2025-04-12T07:09:10.984Z"
   },
   {
    "duration": 230,
    "start_time": "2025-04-12T07:09:10.992Z"
   },
   {
    "duration": 12,
    "start_time": "2025-04-12T07:09:11.224Z"
   },
   {
    "duration": 4,
    "start_time": "2025-04-12T07:09:11.238Z"
   },
   {
    "duration": 179,
    "start_time": "2025-04-12T07:09:11.243Z"
   },
   {
    "duration": 14,
    "start_time": "2025-04-12T07:09:11.424Z"
   },
   {
    "duration": 6,
    "start_time": "2025-04-12T07:09:11.440Z"
   },
   {
    "duration": 7,
    "start_time": "2025-04-12T07:09:11.448Z"
   },
   {
    "duration": 144,
    "start_time": "2025-04-12T07:09:11.457Z"
   },
   {
    "duration": 8,
    "start_time": "2025-04-12T07:09:11.602Z"
   },
   {
    "duration": 226,
    "start_time": "2025-04-12T07:09:11.612Z"
   },
   {
    "duration": 259,
    "start_time": "2025-04-12T07:09:11.840Z"
   },
   {
    "duration": 336,
    "start_time": "2025-04-12T07:09:12.101Z"
   },
   {
    "duration": 235,
    "start_time": "2025-04-12T07:09:12.439Z"
   },
   {
    "duration": 255,
    "start_time": "2025-04-12T07:09:12.676Z"
   },
   {
    "duration": 4,
    "start_time": "2025-04-12T07:09:12.933Z"
   },
   {
    "duration": 402,
    "start_time": "2025-04-12T07:09:12.938Z"
   },
   {
    "duration": 6,
    "start_time": "2025-04-12T07:09:13.342Z"
   },
   {
    "duration": 375,
    "start_time": "2025-04-12T07:09:13.351Z"
   },
   {
    "duration": 264,
    "start_time": "2025-04-12T07:09:13.735Z"
   },
   {
    "duration": 15,
    "start_time": "2025-04-12T07:09:14.001Z"
   },
   {
    "duration": 19,
    "start_time": "2025-04-12T07:09:14.017Z"
   },
   {
    "duration": 254,
    "start_time": "2025-04-12T07:09:14.038Z"
   },
   {
    "duration": 49,
    "start_time": "2025-04-12T07:09:14.293Z"
   },
   {
    "duration": 711,
    "start_time": "2025-04-12T07:09:14.344Z"
   },
   {
    "duration": 324,
    "start_time": "2025-04-12T07:09:15.057Z"
   },
   {
    "duration": 5,
    "start_time": "2025-04-12T07:09:15.383Z"
   },
   {
    "duration": 71,
    "start_time": "2025-04-12T07:09:15.389Z"
   },
   {
    "duration": 256,
    "start_time": "2025-04-12T07:09:15.461Z"
   },
   {
    "duration": 258,
    "start_time": "2025-04-12T07:09:15.718Z"
   },
   {
    "duration": 10,
    "start_time": "2025-04-12T07:09:15.977Z"
   },
   {
    "duration": 126,
    "start_time": "2025-04-12T07:09:15.989Z"
   },
   {
    "duration": 2345,
    "start_time": "2025-04-12T07:13:55.773Z"
   },
   {
    "duration": 1166,
    "start_time": "2025-04-12T07:13:58.120Z"
   },
   {
    "duration": 146,
    "start_time": "2025-04-12T07:13:59.288Z"
   },
   {
    "duration": 14,
    "start_time": "2025-04-12T07:13:59.437Z"
   },
   {
    "duration": 11,
    "start_time": "2025-04-12T07:13:59.452Z"
   },
   {
    "duration": 8,
    "start_time": "2025-04-12T07:13:59.465Z"
   },
   {
    "duration": 10,
    "start_time": "2025-04-12T07:13:59.474Z"
   },
   {
    "duration": 14,
    "start_time": "2025-04-12T07:13:59.485Z"
   },
   {
    "duration": 37,
    "start_time": "2025-04-12T07:13:59.500Z"
   },
   {
    "duration": 14,
    "start_time": "2025-04-12T07:13:59.540Z"
   },
   {
    "duration": 7,
    "start_time": "2025-04-12T07:13:59.555Z"
   },
   {
    "duration": 4,
    "start_time": "2025-04-12T07:13:59.564Z"
   },
   {
    "duration": 8,
    "start_time": "2025-04-12T07:13:59.570Z"
   },
   {
    "duration": 4,
    "start_time": "2025-04-12T07:13:59.580Z"
   },
   {
    "duration": 4,
    "start_time": "2025-04-12T07:13:59.585Z"
   },
   {
    "duration": 52,
    "start_time": "2025-04-12T07:13:59.591Z"
   },
   {
    "duration": 3,
    "start_time": "2025-04-12T07:13:59.645Z"
   },
   {
    "duration": 9,
    "start_time": "2025-04-12T07:13:59.650Z"
   },
   {
    "duration": 18,
    "start_time": "2025-04-12T07:13:59.661Z"
   },
   {
    "duration": 8,
    "start_time": "2025-04-12T07:13:59.680Z"
   },
   {
    "duration": 15,
    "start_time": "2025-04-12T07:13:59.689Z"
   },
   {
    "duration": 32,
    "start_time": "2025-04-12T07:13:59.705Z"
   },
   {
    "duration": 73,
    "start_time": "2025-04-12T07:13:59.738Z"
   },
   {
    "duration": 4,
    "start_time": "2025-04-12T07:13:59.813Z"
   },
   {
    "duration": 8,
    "start_time": "2025-04-12T07:13:59.818Z"
   },
   {
    "duration": 3,
    "start_time": "2025-04-12T07:13:59.828Z"
   },
   {
    "duration": 10,
    "start_time": "2025-04-12T07:13:59.832Z"
   },
   {
    "duration": 3,
    "start_time": "2025-04-12T07:13:59.846Z"
   },
   {
    "duration": 260,
    "start_time": "2025-04-12T07:13:59.850Z"
   },
   {
    "duration": 3,
    "start_time": "2025-04-12T07:14:00.112Z"
   },
   {
    "duration": 35,
    "start_time": "2025-04-12T07:14:00.117Z"
   },
   {
    "duration": 26,
    "start_time": "2025-04-12T07:14:00.154Z"
   },
   {
    "duration": 14,
    "start_time": "2025-04-12T07:14:00.182Z"
   },
   {
    "duration": 184,
    "start_time": "2025-04-12T07:14:00.198Z"
   },
   {
    "duration": 5,
    "start_time": "2025-04-12T07:14:00.383Z"
   },
   {
    "duration": 7,
    "start_time": "2025-04-12T07:14:00.389Z"
   },
   {
    "duration": 205,
    "start_time": "2025-04-12T07:14:00.397Z"
   },
   {
    "duration": 5,
    "start_time": "2025-04-12T07:14:00.603Z"
   },
   {
    "duration": 28,
    "start_time": "2025-04-12T07:14:00.610Z"
   },
   {
    "duration": 164,
    "start_time": "2025-04-12T07:14:00.639Z"
   },
   {
    "duration": 5,
    "start_time": "2025-04-12T07:14:00.805Z"
   },
   {
    "duration": 16,
    "start_time": "2025-04-12T07:14:00.811Z"
   },
   {
    "duration": 10,
    "start_time": "2025-04-12T07:14:00.828Z"
   },
   {
    "duration": 126,
    "start_time": "2025-04-12T07:14:00.839Z"
   },
   {
    "duration": 8,
    "start_time": "2025-04-12T07:14:00.967Z"
   },
   {
    "duration": 213,
    "start_time": "2025-04-12T07:14:00.976Z"
   },
   {
    "duration": 245,
    "start_time": "2025-04-12T07:14:01.190Z"
   },
   {
    "duration": 306,
    "start_time": "2025-04-12T07:14:01.437Z"
   },
   {
    "duration": 222,
    "start_time": "2025-04-12T07:14:01.745Z"
   },
   {
    "duration": 233,
    "start_time": "2025-04-12T07:14:01.969Z"
   },
   {
    "duration": 5,
    "start_time": "2025-04-12T07:14:02.203Z"
   },
   {
    "duration": 347,
    "start_time": "2025-04-12T07:14:02.209Z"
   },
   {
    "duration": 5,
    "start_time": "2025-04-12T07:14:02.558Z"
   },
   {
    "duration": 317,
    "start_time": "2025-04-12T07:14:02.565Z"
   },
   {
    "duration": 260,
    "start_time": "2025-04-12T07:14:02.883Z"
   },
   {
    "duration": 14,
    "start_time": "2025-04-12T07:14:03.145Z"
   },
   {
    "duration": 75,
    "start_time": "2025-04-12T07:14:03.160Z"
   },
   {
    "duration": 229,
    "start_time": "2025-04-12T07:14:03.237Z"
   },
   {
    "duration": 38,
    "start_time": "2025-04-12T07:14:03.467Z"
   },
   {
    "duration": 736,
    "start_time": "2025-04-12T07:14:03.507Z"
   },
   {
    "duration": 336,
    "start_time": "2025-04-12T07:14:04.245Z"
   },
   {
    "duration": 5,
    "start_time": "2025-04-12T07:14:04.583Z"
   },
   {
    "duration": 48,
    "start_time": "2025-04-12T07:14:04.590Z"
   },
   {
    "duration": 255,
    "start_time": "2025-04-12T07:14:04.639Z"
   },
   {
    "duration": 250,
    "start_time": "2025-04-12T07:14:04.896Z"
   },
   {
    "duration": 9,
    "start_time": "2025-04-12T07:14:05.148Z"
   },
   {
    "duration": 170,
    "start_time": "2025-04-12T07:14:05.159Z"
   },
   {
    "duration": 3548,
    "start_time": "2025-04-12T12:18:33.415Z"
   },
   {
    "duration": 2231,
    "start_time": "2025-04-12T12:18:36.966Z"
   },
   {
    "duration": 178,
    "start_time": "2025-04-12T12:18:39.199Z"
   },
   {
    "duration": 17,
    "start_time": "2025-04-12T12:18:39.378Z"
   },
   {
    "duration": 14,
    "start_time": "2025-04-12T12:18:39.398Z"
   },
   {
    "duration": 9,
    "start_time": "2025-04-12T12:18:39.414Z"
   },
   {
    "duration": 36,
    "start_time": "2025-04-12T12:18:39.425Z"
   },
   {
    "duration": 11,
    "start_time": "2025-04-12T12:18:39.463Z"
   },
   {
    "duration": 33,
    "start_time": "2025-04-12T12:18:39.475Z"
   },
   {
    "duration": 15,
    "start_time": "2025-04-12T12:18:39.510Z"
   },
   {
    "duration": 8,
    "start_time": "2025-04-12T12:18:39.527Z"
   },
   {
    "duration": 6,
    "start_time": "2025-04-12T12:18:39.537Z"
   },
   {
    "duration": 23,
    "start_time": "2025-04-12T12:18:39.545Z"
   },
   {
    "duration": 8,
    "start_time": "2025-04-12T12:18:39.571Z"
   },
   {
    "duration": 14,
    "start_time": "2025-04-12T12:18:39.581Z"
   },
   {
    "duration": 105,
    "start_time": "2025-04-12T12:18:39.597Z"
   },
   {
    "duration": 11,
    "start_time": "2025-04-12T12:18:39.704Z"
   },
   {
    "duration": 26,
    "start_time": "2025-04-12T12:18:39.717Z"
   },
   {
    "duration": 20,
    "start_time": "2025-04-12T12:18:39.744Z"
   },
   {
    "duration": 8,
    "start_time": "2025-04-12T12:18:39.766Z"
   },
   {
    "duration": 103,
    "start_time": "2025-04-12T12:18:39.776Z"
   },
   {
    "duration": 16,
    "start_time": "2025-04-12T12:18:39.881Z"
   },
   {
    "duration": 26,
    "start_time": "2025-04-12T12:18:39.899Z"
   },
   {
    "duration": 26,
    "start_time": "2025-04-12T12:18:39.927Z"
   },
   {
    "duration": 17,
    "start_time": "2025-04-12T12:18:39.954Z"
   },
   {
    "duration": 12,
    "start_time": "2025-04-12T12:18:39.973Z"
   },
   {
    "duration": 42,
    "start_time": "2025-04-12T12:18:39.987Z"
   },
   {
    "duration": 16,
    "start_time": "2025-04-12T12:18:40.031Z"
   },
   {
    "duration": 274,
    "start_time": "2025-04-12T12:18:40.049Z"
   },
   {
    "duration": 4,
    "start_time": "2025-04-12T12:18:40.325Z"
   },
   {
    "duration": 29,
    "start_time": "2025-04-12T12:18:40.330Z"
   },
   {
    "duration": 6,
    "start_time": "2025-04-12T12:18:40.360Z"
   },
   {
    "duration": 6,
    "start_time": "2025-04-12T12:18:40.367Z"
   },
   {
    "duration": 178,
    "start_time": "2025-04-12T12:18:40.374Z"
   },
   {
    "duration": 9,
    "start_time": "2025-04-12T12:18:40.554Z"
   },
   {
    "duration": 8,
    "start_time": "2025-04-12T12:18:40.564Z"
   },
   {
    "duration": 201,
    "start_time": "2025-04-12T12:18:40.573Z"
   },
   {
    "duration": 6,
    "start_time": "2025-04-12T12:18:40.775Z"
   },
   {
    "duration": 102,
    "start_time": "2025-04-12T12:18:40.783Z"
   },
   {
    "duration": 276,
    "start_time": "2025-04-12T12:18:40.886Z"
   },
   {
    "duration": 5,
    "start_time": "2025-04-12T12:18:41.166Z"
   },
   {
    "duration": 26,
    "start_time": "2025-04-12T12:18:41.172Z"
   },
   {
    "duration": 33,
    "start_time": "2025-04-12T12:18:41.199Z"
   },
   {
    "duration": 153,
    "start_time": "2025-04-12T12:18:41.234Z"
   },
   {
    "duration": 8,
    "start_time": "2025-04-12T12:18:41.389Z"
   },
   {
    "duration": 232,
    "start_time": "2025-04-12T12:18:41.398Z"
   },
   {
    "duration": 253,
    "start_time": "2025-04-12T12:18:41.632Z"
   },
   {
    "duration": 328,
    "start_time": "2025-04-12T12:18:41.886Z"
   },
   {
    "duration": 233,
    "start_time": "2025-04-12T12:18:42.216Z"
   },
   {
    "duration": 247,
    "start_time": "2025-04-12T12:18:42.451Z"
   },
   {
    "duration": 5,
    "start_time": "2025-04-12T12:18:42.700Z"
   },
   {
    "duration": 389,
    "start_time": "2025-04-12T12:18:42.706Z"
   },
   {
    "duration": 6,
    "start_time": "2025-04-12T12:18:43.097Z"
   },
   {
    "duration": 372,
    "start_time": "2025-04-12T12:18:43.104Z"
   },
   {
    "duration": 276,
    "start_time": "2025-04-12T12:18:43.477Z"
   },
   {
    "duration": 19,
    "start_time": "2025-04-12T12:18:43.755Z"
   },
   {
    "duration": 111,
    "start_time": "2025-04-12T12:18:43.776Z"
   },
   {
    "duration": 265,
    "start_time": "2025-04-12T12:18:43.889Z"
   },
   {
    "duration": 38,
    "start_time": "2025-04-12T12:18:44.161Z"
   },
   {
    "duration": 766,
    "start_time": "2025-04-12T12:18:44.200Z"
   },
   {
    "duration": 363,
    "start_time": "2025-04-12T12:18:44.968Z"
   },
   {
    "duration": 7,
    "start_time": "2025-04-12T12:18:45.333Z"
   },
   {
    "duration": 92,
    "start_time": "2025-04-12T12:18:45.342Z"
   },
   {
    "duration": 268,
    "start_time": "2025-04-12T12:18:45.437Z"
   },
   {
    "duration": 275,
    "start_time": "2025-04-12T12:18:45.707Z"
   },
   {
    "duration": 11,
    "start_time": "2025-04-12T12:18:45.984Z"
   },
   {
    "duration": 134,
    "start_time": "2025-04-12T12:18:45.997Z"
   },
   {
    "duration": 2371,
    "start_time": "2025-04-12T12:19:20.015Z"
   },
   {
    "duration": 2193,
    "start_time": "2025-04-12T12:19:22.388Z"
   },
   {
    "duration": 173,
    "start_time": "2025-04-12T12:19:24.583Z"
   },
   {
    "duration": 15,
    "start_time": "2025-04-12T12:19:24.758Z"
   },
   {
    "duration": 24,
    "start_time": "2025-04-12T12:19:24.775Z"
   },
   {
    "duration": 10,
    "start_time": "2025-04-12T12:19:24.801Z"
   },
   {
    "duration": 15,
    "start_time": "2025-04-12T12:19:24.812Z"
   },
   {
    "duration": 39,
    "start_time": "2025-04-12T12:19:24.829Z"
   },
   {
    "duration": 13,
    "start_time": "2025-04-12T12:19:24.870Z"
   },
   {
    "duration": 90,
    "start_time": "2025-04-12T12:19:24.885Z"
   },
   {
    "duration": 8,
    "start_time": "2025-04-12T12:19:24.976Z"
   },
   {
    "duration": 8,
    "start_time": "2025-04-12T12:19:24.986Z"
   },
   {
    "duration": 24,
    "start_time": "2025-04-12T12:19:24.996Z"
   },
   {
    "duration": 41,
    "start_time": "2025-04-12T12:19:25.023Z"
   },
   {
    "duration": 17,
    "start_time": "2025-04-12T12:19:25.066Z"
   },
   {
    "duration": 33,
    "start_time": "2025-04-12T12:19:25.085Z"
   },
   {
    "duration": 22,
    "start_time": "2025-04-12T12:19:25.119Z"
   },
   {
    "duration": 24,
    "start_time": "2025-04-12T12:19:25.143Z"
   },
   {
    "duration": 19,
    "start_time": "2025-04-12T12:19:25.169Z"
   },
   {
    "duration": 8,
    "start_time": "2025-04-12T12:19:25.190Z"
   },
   {
    "duration": 17,
    "start_time": "2025-04-12T12:19:25.199Z"
   },
   {
    "duration": 35,
    "start_time": "2025-04-12T12:19:25.218Z"
   },
   {
    "duration": 22,
    "start_time": "2025-04-12T12:19:25.255Z"
   },
   {
    "duration": 9,
    "start_time": "2025-04-12T12:19:25.279Z"
   },
   {
    "duration": 25,
    "start_time": "2025-04-12T12:19:25.289Z"
   },
   {
    "duration": 24,
    "start_time": "2025-04-12T12:19:25.315Z"
   },
   {
    "duration": 29,
    "start_time": "2025-04-12T12:19:25.340Z"
   },
   {
    "duration": 12,
    "start_time": "2025-04-12T12:19:25.370Z"
   },
   {
    "duration": 260,
    "start_time": "2025-04-12T12:19:25.383Z"
   },
   {
    "duration": 17,
    "start_time": "2025-04-12T12:19:25.645Z"
   },
   {
    "duration": 5,
    "start_time": "2025-04-12T12:19:25.664Z"
   },
   {
    "duration": 11,
    "start_time": "2025-04-12T12:19:25.670Z"
   },
   {
    "duration": 9,
    "start_time": "2025-04-12T12:19:25.682Z"
   },
   {
    "duration": 189,
    "start_time": "2025-04-12T12:19:25.693Z"
   },
   {
    "duration": 5,
    "start_time": "2025-04-12T12:19:25.884Z"
   },
   {
    "duration": 6,
    "start_time": "2025-04-12T12:19:25.891Z"
   },
   {
    "duration": 201,
    "start_time": "2025-04-12T12:19:25.899Z"
   },
   {
    "duration": 5,
    "start_time": "2025-04-12T12:19:26.102Z"
   },
   {
    "duration": 20,
    "start_time": "2025-04-12T12:19:26.109Z"
   },
   {
    "duration": 194,
    "start_time": "2025-04-12T12:19:26.131Z"
   },
   {
    "duration": 6,
    "start_time": "2025-04-12T12:19:26.330Z"
   },
   {
    "duration": 30,
    "start_time": "2025-04-12T12:19:26.337Z"
   },
   {
    "duration": 11,
    "start_time": "2025-04-12T12:19:26.369Z"
   },
   {
    "duration": 131,
    "start_time": "2025-04-12T12:19:26.382Z"
   },
   {
    "duration": 8,
    "start_time": "2025-04-12T12:19:26.515Z"
   },
   {
    "duration": 249,
    "start_time": "2025-04-12T12:19:26.525Z"
   },
   {
    "duration": 261,
    "start_time": "2025-04-12T12:19:26.776Z"
   },
   {
    "duration": 378,
    "start_time": "2025-04-12T12:19:27.039Z"
   },
   {
    "duration": 260,
    "start_time": "2025-04-12T12:19:27.420Z"
   },
   {
    "duration": 261,
    "start_time": "2025-04-12T12:19:27.682Z"
   },
   {
    "duration": 4,
    "start_time": "2025-04-12T12:19:27.945Z"
   },
   {
    "duration": 422,
    "start_time": "2025-04-12T12:19:27.962Z"
   },
   {
    "duration": 6,
    "start_time": "2025-04-12T12:19:28.386Z"
   },
   {
    "duration": 327,
    "start_time": "2025-04-12T12:19:28.393Z"
   },
   {
    "duration": 307,
    "start_time": "2025-04-12T12:19:28.722Z"
   },
   {
    "duration": 42,
    "start_time": "2025-04-12T12:19:29.031Z"
   },
   {
    "duration": 109,
    "start_time": "2025-04-12T12:19:29.075Z"
   },
   {
    "duration": 246,
    "start_time": "2025-04-12T12:19:29.185Z"
   },
   {
    "duration": 55,
    "start_time": "2025-04-12T12:19:29.433Z"
   },
   {
    "duration": 908,
    "start_time": "2025-04-12T12:19:29.490Z"
   },
   {
    "duration": 318,
    "start_time": "2025-04-12T12:19:30.400Z"
   },
   {
    "duration": 156,
    "start_time": "2025-04-12T12:19:30.720Z"
   },
   {
    "duration": 202,
    "start_time": "2025-04-12T12:19:30.877Z"
   },
   {
    "duration": 284,
    "start_time": "2025-04-12T12:19:31.080Z"
   },
   {
    "duration": 280,
    "start_time": "2025-04-12T12:19:31.366Z"
   },
   {
    "duration": 15,
    "start_time": "2025-04-12T12:19:31.647Z"
   },
   {
    "duration": 197,
    "start_time": "2025-04-12T12:19:31.663Z"
   },
   {
    "duration": 3350,
    "start_time": "2025-04-12T16:49:05.061Z"
   },
   {
    "duration": 1420,
    "start_time": "2025-04-12T16:49:08.414Z"
   },
   {
    "duration": 177,
    "start_time": "2025-04-12T16:49:09.835Z"
   },
   {
    "duration": 15,
    "start_time": "2025-04-12T16:49:10.013Z"
   },
   {
    "duration": 35,
    "start_time": "2025-04-12T16:49:10.031Z"
   },
   {
    "duration": 82,
    "start_time": "2025-04-12T16:49:10.067Z"
   },
   {
    "duration": 13,
    "start_time": "2025-04-12T16:49:10.150Z"
   },
   {
    "duration": 11,
    "start_time": "2025-04-12T16:49:10.165Z"
   },
   {
    "duration": 15,
    "start_time": "2025-04-12T16:49:10.178Z"
   },
   {
    "duration": 15,
    "start_time": "2025-04-12T16:49:10.194Z"
   },
   {
    "duration": 7,
    "start_time": "2025-04-12T16:49:10.211Z"
   },
   {
    "duration": 5,
    "start_time": "2025-04-12T16:49:10.220Z"
   },
   {
    "duration": 38,
    "start_time": "2025-04-12T16:49:10.227Z"
   },
   {
    "duration": 4,
    "start_time": "2025-04-12T16:49:10.268Z"
   },
   {
    "duration": 6,
    "start_time": "2025-04-12T16:49:10.274Z"
   },
   {
    "duration": 11,
    "start_time": "2025-04-12T16:49:10.281Z"
   },
   {
    "duration": 5,
    "start_time": "2025-04-12T16:49:10.294Z"
   },
   {
    "duration": 9,
    "start_time": "2025-04-12T16:49:10.300Z"
   },
   {
    "duration": 58,
    "start_time": "2025-04-12T16:49:10.311Z"
   },
   {
    "duration": 8,
    "start_time": "2025-04-12T16:49:10.371Z"
   },
   {
    "duration": 17,
    "start_time": "2025-04-12T16:49:10.380Z"
   },
   {
    "duration": 11,
    "start_time": "2025-04-12T16:49:10.399Z"
   },
   {
    "duration": 9,
    "start_time": "2025-04-12T16:49:10.411Z"
   },
   {
    "duration": 4,
    "start_time": "2025-04-12T16:49:10.422Z"
   },
   {
    "duration": 41,
    "start_time": "2025-04-12T16:49:10.427Z"
   },
   {
    "duration": 4,
    "start_time": "2025-04-12T16:49:10.470Z"
   },
   {
    "duration": 10,
    "start_time": "2025-04-12T16:49:10.475Z"
   },
   {
    "duration": 3,
    "start_time": "2025-04-12T16:49:10.487Z"
   },
   {
    "duration": 271,
    "start_time": "2025-04-12T16:49:10.491Z"
   },
   {
    "duration": 4,
    "start_time": "2025-04-12T16:49:10.764Z"
   },
   {
    "duration": 8,
    "start_time": "2025-04-12T16:49:10.770Z"
   },
   {
    "duration": 8,
    "start_time": "2025-04-12T16:49:10.779Z"
   },
   {
    "duration": 13,
    "start_time": "2025-04-12T16:49:10.789Z"
   },
   {
    "duration": 194,
    "start_time": "2025-04-12T16:49:10.804Z"
   },
   {
    "duration": 5,
    "start_time": "2025-04-12T16:49:11.000Z"
   },
   {
    "duration": 4,
    "start_time": "2025-04-12T16:49:11.006Z"
   },
   {
    "duration": 203,
    "start_time": "2025-04-12T16:49:11.012Z"
   },
   {
    "duration": 4,
    "start_time": "2025-04-12T16:49:11.217Z"
   },
   {
    "duration": 26,
    "start_time": "2025-04-12T16:49:11.223Z"
   },
   {
    "duration": 163,
    "start_time": "2025-04-12T16:49:11.251Z"
   },
   {
    "duration": 5,
    "start_time": "2025-04-12T16:49:11.418Z"
   },
   {
    "duration": 4,
    "start_time": "2025-04-12T16:49:11.424Z"
   },
   {
    "duration": 7,
    "start_time": "2025-04-12T16:49:11.429Z"
   },
   {
    "duration": 152,
    "start_time": "2025-04-12T16:49:11.437Z"
   },
   {
    "duration": 8,
    "start_time": "2025-04-12T16:49:11.591Z"
   },
   {
    "duration": 327,
    "start_time": "2025-04-12T16:49:11.600Z"
   },
   {
    "duration": 253,
    "start_time": "2025-04-12T16:49:11.929Z"
   },
   {
    "duration": 320,
    "start_time": "2025-04-12T16:49:12.183Z"
   },
   {
    "duration": 6729,
    "start_time": "2025-04-12T16:49:12.504Z"
   },
   {
    "duration": 230,
    "start_time": "2025-04-12T16:49:19.235Z"
   },
   {
    "duration": 253,
    "start_time": "2025-04-12T16:49:19.467Z"
   },
   {
    "duration": 4,
    "start_time": "2025-04-12T16:49:19.722Z"
   },
   {
    "duration": 594,
    "start_time": "2025-04-12T16:49:19.728Z"
   },
   {
    "duration": 6,
    "start_time": "2025-04-12T16:49:20.324Z"
   },
   {
    "duration": 378,
    "start_time": "2025-04-12T16:49:20.332Z"
   },
   {
    "duration": 193,
    "start_time": "2025-04-12T16:49:20.712Z"
   },
   {
    "duration": 14,
    "start_time": "2025-04-12T16:49:20.906Z"
   },
   {
    "duration": 6,
    "start_time": "2025-04-12T16:49:20.922Z"
   },
   {
    "duration": 247,
    "start_time": "2025-04-12T16:49:20.930Z"
   },
   {
    "duration": 42,
    "start_time": "2025-04-12T16:49:21.179Z"
   },
   {
    "duration": 846,
    "start_time": "2025-04-12T16:49:21.223Z"
   },
   {
    "duration": 339,
    "start_time": "2025-04-12T16:49:22.070Z"
   },
   {
    "duration": 6,
    "start_time": "2025-04-12T16:49:22.411Z"
   },
   {
    "duration": 50,
    "start_time": "2025-04-12T16:49:22.419Z"
   },
   {
    "duration": 274,
    "start_time": "2025-04-12T16:49:22.470Z"
   },
   {
    "duration": 263,
    "start_time": "2025-04-12T16:49:22.746Z"
   },
   {
    "duration": 8,
    "start_time": "2025-04-12T16:49:23.011Z"
   },
   {
    "duration": 126,
    "start_time": "2025-04-12T16:49:23.021Z"
   },
   {
    "duration": 2360,
    "start_time": "2025-04-12T16:56:13.484Z"
   },
   {
    "duration": 1223,
    "start_time": "2025-04-12T16:56:15.847Z"
   },
   {
    "duration": 307,
    "start_time": "2025-04-12T16:56:17.072Z"
   },
   {
    "duration": 16,
    "start_time": "2025-04-12T16:56:17.381Z"
   },
   {
    "duration": 15,
    "start_time": "2025-04-12T16:56:17.398Z"
   },
   {
    "duration": 9,
    "start_time": "2025-04-12T16:56:17.415Z"
   },
   {
    "duration": 15,
    "start_time": "2025-04-12T16:56:17.426Z"
   },
   {
    "duration": 11,
    "start_time": "2025-04-12T16:56:17.459Z"
   },
   {
    "duration": 14,
    "start_time": "2025-04-12T16:56:17.472Z"
   },
   {
    "duration": 17,
    "start_time": "2025-04-12T16:56:17.488Z"
   },
   {
    "duration": 7,
    "start_time": "2025-04-12T16:56:17.507Z"
   },
   {
    "duration": 12,
    "start_time": "2025-04-12T16:56:17.515Z"
   },
   {
    "duration": 36,
    "start_time": "2025-04-12T16:56:17.528Z"
   },
   {
    "duration": 5,
    "start_time": "2025-04-12T16:56:17.566Z"
   },
   {
    "duration": 5,
    "start_time": "2025-04-12T16:56:17.573Z"
   },
   {
    "duration": 12,
    "start_time": "2025-04-12T16:56:17.580Z"
   },
   {
    "duration": 44,
    "start_time": "2025-04-12T16:56:17.593Z"
   },
   {
    "duration": 66,
    "start_time": "2025-04-12T16:56:17.639Z"
   },
   {
    "duration": 20,
    "start_time": "2025-04-12T16:56:17.707Z"
   },
   {
    "duration": 8,
    "start_time": "2025-04-12T16:56:17.728Z"
   },
   {
    "duration": 25,
    "start_time": "2025-04-12T16:56:17.738Z"
   },
   {
    "duration": 11,
    "start_time": "2025-04-12T16:56:17.764Z"
   },
   {
    "duration": 10,
    "start_time": "2025-04-12T16:56:17.777Z"
   },
   {
    "duration": 4,
    "start_time": "2025-04-12T16:56:17.789Z"
   },
   {
    "duration": 9,
    "start_time": "2025-04-12T16:56:17.795Z"
   },
   {
    "duration": 4,
    "start_time": "2025-04-12T16:56:17.806Z"
   },
   {
    "duration": 49,
    "start_time": "2025-04-12T16:56:17.812Z"
   },
   {
    "duration": 3,
    "start_time": "2025-04-12T16:56:17.867Z"
   },
   {
    "duration": 295,
    "start_time": "2025-04-12T16:56:17.872Z"
   },
   {
    "duration": 6,
    "start_time": "2025-04-12T16:56:18.168Z"
   },
   {
    "duration": 5,
    "start_time": "2025-04-12T16:56:18.176Z"
   },
   {
    "duration": 6,
    "start_time": "2025-04-12T16:56:18.182Z"
   },
   {
    "duration": 5,
    "start_time": "2025-04-12T16:56:18.190Z"
   },
   {
    "duration": 197,
    "start_time": "2025-04-12T16:56:18.197Z"
   },
   {
    "duration": 5,
    "start_time": "2025-04-12T16:56:18.395Z"
   },
   {
    "duration": 11,
    "start_time": "2025-04-12T16:56:18.401Z"
   },
   {
    "duration": 203,
    "start_time": "2025-04-12T16:56:18.413Z"
   },
   {
    "duration": 5,
    "start_time": "2025-04-12T16:56:18.617Z"
   },
   {
    "duration": 99,
    "start_time": "2025-04-12T16:56:18.623Z"
   },
   {
    "duration": 172,
    "start_time": "2025-04-12T16:56:18.723Z"
   },
   {
    "duration": 7,
    "start_time": "2025-04-12T16:56:18.897Z"
   },
   {
    "duration": 10,
    "start_time": "2025-04-12T16:56:18.905Z"
   },
   {
    "duration": 19,
    "start_time": "2025-04-12T16:56:18.917Z"
   },
   {
    "duration": 159,
    "start_time": "2025-04-12T16:56:18.938Z"
   },
   {
    "duration": 9,
    "start_time": "2025-04-12T16:56:19.099Z"
   },
   {
    "duration": 231,
    "start_time": "2025-04-12T16:56:19.110Z"
   },
   {
    "duration": 248,
    "start_time": "2025-04-12T16:56:19.342Z"
   },
   {
    "duration": 257,
    "start_time": "2025-04-12T16:56:19.592Z"
   },
   {
    "duration": 230,
    "start_time": "2025-04-12T16:56:19.850Z"
   },
   {
    "duration": 242,
    "start_time": "2025-04-12T16:56:20.082Z"
   },
   {
    "duration": 5,
    "start_time": "2025-04-12T16:56:20.325Z"
   },
   {
    "duration": 367,
    "start_time": "2025-04-12T16:56:20.331Z"
   },
   {
    "duration": 6,
    "start_time": "2025-04-12T16:56:20.699Z"
   },
   {
    "duration": 343,
    "start_time": "2025-04-12T16:56:20.706Z"
   },
   {
    "duration": 203,
    "start_time": "2025-04-12T16:56:21.051Z"
   },
   {
    "duration": 18,
    "start_time": "2025-04-12T16:56:21.255Z"
   },
   {
    "duration": 7,
    "start_time": "2025-04-12T16:56:21.275Z"
   },
   {
    "duration": 318,
    "start_time": "2025-04-12T16:56:21.283Z"
   },
   {
    "duration": 38,
    "start_time": "2025-04-12T16:56:21.603Z"
   },
   {
    "duration": 747,
    "start_time": "2025-04-12T16:56:21.642Z"
   },
   {
    "duration": 325,
    "start_time": "2025-04-12T16:56:22.391Z"
   },
   {
    "duration": 5,
    "start_time": "2025-04-12T16:56:22.717Z"
   },
   {
    "duration": 49,
    "start_time": "2025-04-12T16:56:22.723Z"
   },
   {
    "duration": 264,
    "start_time": "2025-04-12T16:56:22.773Z"
   },
   {
    "duration": 260,
    "start_time": "2025-04-12T16:56:23.038Z"
   },
   {
    "duration": 9,
    "start_time": "2025-04-12T16:56:23.300Z"
   },
   {
    "duration": 131,
    "start_time": "2025-04-12T16:56:23.311Z"
   },
   {
    "duration": 863,
    "start_time": "2025-04-12T17:05:56.470Z"
   },
   {
    "duration": 53,
    "start_time": "2025-04-12T17:06:56.058Z"
   },
   {
    "duration": 316,
    "start_time": "2025-04-12T17:15:58.028Z"
   },
   {
    "duration": 305,
    "start_time": "2025-04-12T17:32:08.623Z"
   },
   {
    "duration": 51,
    "start_time": "2025-04-12T17:34:01.056Z"
   },
   {
    "duration": 4,
    "start_time": "2025-04-12T17:45:19.748Z"
   },
   {
    "duration": 212,
    "start_time": "2025-04-12T17:45:20.742Z"
   },
   {
    "duration": 4,
    "start_time": "2025-04-12T17:48:33.497Z"
   },
   {
    "duration": 159,
    "start_time": "2025-04-12T17:48:34.331Z"
   },
   {
    "duration": 3,
    "start_time": "2025-04-12T17:53:11.363Z"
   },
   {
    "duration": 4,
    "start_time": "2025-04-12T17:54:53.321Z"
   },
   {
    "duration": 4,
    "start_time": "2025-04-12T17:55:28.152Z"
   },
   {
    "duration": 3,
    "start_time": "2025-04-12T17:56:17.203Z"
   },
   {
    "duration": 3758,
    "start_time": "2025-04-12T18:29:00.616Z"
   },
   {
    "duration": 2817,
    "start_time": "2025-04-12T18:29:04.377Z"
   },
   {
    "duration": 230,
    "start_time": "2025-04-12T18:29:07.196Z"
   },
   {
    "duration": 17,
    "start_time": "2025-04-12T18:29:07.427Z"
   },
   {
    "duration": 71,
    "start_time": "2025-04-12T18:29:07.447Z"
   },
   {
    "duration": 45,
    "start_time": "2025-04-12T18:29:07.520Z"
   },
   {
    "duration": 12,
    "start_time": "2025-04-12T18:29:07.567Z"
   },
   {
    "duration": 12,
    "start_time": "2025-04-12T18:29:07.580Z"
   },
   {
    "duration": 15,
    "start_time": "2025-04-12T18:29:07.594Z"
   },
   {
    "duration": 26,
    "start_time": "2025-04-12T18:29:07.611Z"
   },
   {
    "duration": 4,
    "start_time": "2025-04-12T18:29:07.639Z"
   },
   {
    "duration": 19,
    "start_time": "2025-04-12T18:29:07.645Z"
   },
   {
    "duration": 5,
    "start_time": "2025-04-12T18:29:07.666Z"
   },
   {
    "duration": 10,
    "start_time": "2025-04-12T18:29:07.674Z"
   },
   {
    "duration": 6,
    "start_time": "2025-04-12T18:29:07.685Z"
   },
   {
    "duration": 7,
    "start_time": "2025-04-12T18:29:07.693Z"
   },
   {
    "duration": 40,
    "start_time": "2025-04-12T18:29:07.701Z"
   },
   {
    "duration": 4,
    "start_time": "2025-04-12T18:29:07.742Z"
   },
   {
    "duration": 19,
    "start_time": "2025-04-12T18:29:07.748Z"
   },
   {
    "duration": 20,
    "start_time": "2025-04-12T18:29:07.769Z"
   },
   {
    "duration": 9,
    "start_time": "2025-04-12T18:29:07.790Z"
   },
   {
    "duration": 40,
    "start_time": "2025-04-12T18:29:07.801Z"
   },
   {
    "duration": 12,
    "start_time": "2025-04-12T18:29:07.844Z"
   },
   {
    "duration": 10,
    "start_time": "2025-04-12T18:29:07.858Z"
   },
   {
    "duration": 5,
    "start_time": "2025-04-12T18:29:07.870Z"
   },
   {
    "duration": 9,
    "start_time": "2025-04-12T18:29:07.877Z"
   },
   {
    "duration": 4,
    "start_time": "2025-04-12T18:29:07.888Z"
   },
   {
    "duration": 49,
    "start_time": "2025-04-12T18:29:07.894Z"
   },
   {
    "duration": 19,
    "start_time": "2025-04-12T18:29:07.945Z"
   },
   {
    "duration": 276,
    "start_time": "2025-04-12T18:29:07.966Z"
   },
   {
    "duration": 4,
    "start_time": "2025-04-12T18:29:08.244Z"
   },
   {
    "duration": 11,
    "start_time": "2025-04-12T18:29:08.250Z"
   },
   {
    "duration": 7,
    "start_time": "2025-04-12T18:29:08.263Z"
   },
   {
    "duration": 11,
    "start_time": "2025-04-12T18:29:08.271Z"
   },
   {
    "duration": 205,
    "start_time": "2025-04-12T18:29:08.284Z"
   },
   {
    "duration": 5,
    "start_time": "2025-04-12T18:29:08.491Z"
   },
   {
    "duration": 62,
    "start_time": "2025-04-12T18:29:08.498Z"
   },
   {
    "duration": 205,
    "start_time": "2025-04-12T18:29:08.562Z"
   },
   {
    "duration": 5,
    "start_time": "2025-04-12T18:29:08.769Z"
   },
   {
    "duration": 16,
    "start_time": "2025-04-12T18:29:08.776Z"
   },
   {
    "duration": 196,
    "start_time": "2025-04-12T18:29:08.797Z"
   },
   {
    "duration": 4,
    "start_time": "2025-04-12T18:29:08.995Z"
   },
   {
    "duration": 221,
    "start_time": "2025-04-12T18:29:09.001Z"
   },
   {
    "duration": 12,
    "start_time": "2025-04-12T18:29:09.225Z"
   },
   {
    "duration": 193,
    "start_time": "2025-04-12T18:29:09.239Z"
   },
   {
    "duration": 6,
    "start_time": "2025-04-12T18:29:09.438Z"
   },
   {
    "duration": 105,
    "start_time": "2025-04-12T18:29:09.446Z"
   },
   {
    "duration": 9,
    "start_time": "2025-04-12T18:29:09.553Z"
   },
   {
    "duration": 138,
    "start_time": "2025-04-12T18:29:09.564Z"
   },
   {
    "duration": 10,
    "start_time": "2025-04-12T18:29:09.703Z"
   },
   {
    "duration": 246,
    "start_time": "2025-04-12T18:29:09.714Z"
   },
   {
    "duration": 358,
    "start_time": "2025-04-12T18:29:09.962Z"
   },
   {
    "duration": 196,
    "start_time": "2025-04-12T18:29:10.322Z"
   },
   {
    "duration": 248,
    "start_time": "2025-04-12T18:29:10.520Z"
   },
   {
    "duration": 377,
    "start_time": "2025-04-12T18:29:10.770Z"
   },
   {
    "duration": 4,
    "start_time": "2025-04-12T18:29:11.149Z"
   },
   {
    "duration": 416,
    "start_time": "2025-04-12T18:29:11.155Z"
   },
   {
    "duration": 6,
    "start_time": "2025-04-12T18:29:11.573Z"
   },
   {
    "duration": 417,
    "start_time": "2025-04-12T18:29:11.581Z"
   },
   {
    "duration": 295,
    "start_time": "2025-04-12T18:29:12.000Z"
   },
   {
    "duration": 17,
    "start_time": "2025-04-12T18:29:12.297Z"
   },
   {
    "duration": 23,
    "start_time": "2025-04-12T18:29:12.316Z"
   },
   {
    "duration": 255,
    "start_time": "2025-04-12T18:29:12.341Z"
   },
   {
    "duration": 57,
    "start_time": "2025-04-12T18:29:12.599Z"
   },
   {
    "duration": 782,
    "start_time": "2025-04-12T18:29:12.658Z"
   },
   {
    "duration": 353,
    "start_time": "2025-04-12T18:29:13.442Z"
   },
   {
    "duration": 6,
    "start_time": "2025-04-12T18:29:13.796Z"
   },
   {
    "duration": 52,
    "start_time": "2025-04-12T18:29:13.804Z"
   },
   {
    "duration": 304,
    "start_time": "2025-04-12T18:29:13.858Z"
   },
   {
    "duration": 294,
    "start_time": "2025-04-12T18:29:14.164Z"
   },
   {
    "duration": 9,
    "start_time": "2025-04-12T18:29:14.460Z"
   },
   {
    "duration": 143,
    "start_time": "2025-04-12T18:29:14.471Z"
   }
  ],
  "colab": {
   "provenance": []
  },
  "kernelspec": {
   "display_name": "Python [conda env:base] *",
   "language": "python",
   "name": "conda-base-py"
  },
  "language_info": {
   "codemirror_mode": {
    "name": "ipython",
    "version": 3
   },
   "file_extension": ".py",
   "mimetype": "text/x-python",
   "name": "python",
   "nbconvert_exporter": "python",
   "pygments_lexer": "ipython3",
   "version": "3.12.7"
  },
  "toc": {
   "base_numbering": 1,
   "nav_menu": {},
   "number_sections": true,
   "sideBar": true,
   "skip_h1_title": true,
   "title_cell": "Table of Contents",
   "title_sidebar": "Contents",
   "toc_cell": false,
   "toc_position": {
    "height": "calc(100% - 180px)",
    "left": "10px",
    "top": "150px",
    "width": "165px"
   },
   "toc_section_display": true,
   "toc_window_display": true
  }
 },
 "nbformat": 4,
 "nbformat_minor": 5
}
