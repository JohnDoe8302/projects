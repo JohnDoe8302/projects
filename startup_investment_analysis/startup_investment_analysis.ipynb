{
 "cells": [
  {
   "cell_type": "markdown",
   "metadata": {
    "id": "4mJbK1knrJgz"
   },
   "source": [
    "# Проект: Исследование стартапов\n",
    "\n",
    "- Автор: Нарыжный В.В.\n",
    "- Дата: 22.04.2025"
   ]
  },
  {
   "cell_type": "markdown",
   "metadata": {
    "id": "P6j0r3worJg0"
   },
   "source": [
    "## Введение"
   ]
  },
  {
   "cell_type": "markdown",
   "metadata": {
    "id": "8lQtbsIUyFG6"
   },
   "source": [
    "**Описание проекта.** \n",
    "Финансовая компания, которая предоставляет льготные займы стартапам, хочет войти на инвестиционный рынок с прицелом на покупку, развитие и последующую перепродажу перспективных стартапов.Для разработки модели бизнеса нужна информация. Чтобы выработать общее понимание, какие данные могут быть полезны, проводится исследование на исторических данных.Заказчик — столкнулся с проблемами неполных данных о компаниях, сделках и образовании. Критических пропусках в информации о раундах финансирования.\n",
    " \n",
    "**Цель проекта :** \n",
    "Преобразовать данные для исследования. Проанализировать их и предоставить рекомендации заказчику\n",
    " \n",
    "**Задачи:**\n",
    "1. Загрузка данных и знакомство с ними.\n",
    "2. Предобработка данных.\n",
    "3. Исследовательский анализ данных.\n",
    "4. Итоговый вывод и рекомендации."
   ]
  },
  {
   "cell_type": "markdown",
   "metadata": {
    "id": "xqr6uttCrJg0"
   },
   "source": [
    "\n",
    "## Шаг 1. Знакомство с данными: загрузка и первичная предобработка\n",
    "\n",
    "Для анализа поступили данные о заведениях общественного питания. Данные состоят из двух датасетов:\n",
    "\n",
    "- `acquisition.csv` — содержит информацию о покупках одними компаниями других компаний;\n",
    "- `company_and_rounds.csv` —  содержит информацию о компаниях и раундах финансирования;\n",
    "- `people.csv` - содержит информацию о сотрудниках\n",
    "- `education.csv` - содержит информацию об образовании сотрудника\n",
    "- `degrees.csv` - содержит информацию о типе образования сотрудника\n",
    "\n",
    "Опциональные датасеты:\n",
    "- `fund.csv` - содержит информацию о фондах\n",
    "- `investment.csv` - содержит информацию о раундах инвестирования\n",
    "\n",
    "### Описание датасета `acquisition.csv`\n",
    "\n",
    " - `id` — идентификатор покупки.\n",
    " - `acquiring_company_id` — идентификатор покупающей компании.\n",
    " - `acquired_company_id` — идентификатор покупаемой компании.\n",
    " - `term_code` — варианты расчёта.\n",
    " - `price_amount` — сумма сделки.\n",
    " - `acquired_at` — дата сделки.\n",
    " \n",
    " ### Описание датасета `company_and_rounds.csv`\n",
    " \n",
    "- `company ID` — идентификатор компании.\n",
    "- `name` — название компании.\n",
    "- `category code` — категория области деятельности компании.\n",
    "- `status` — статус компании.\n",
    "- `founded at` — дата инвестирования.\n",
    "- `closed at` — дата закрытия компании.\n",
    "- `domain` — официальный сайт компании.\n",
    "- `network username` — ник компании в сети.\n",
    "- `country code` — код страны компании.\n",
    "- `investment rounds` — число инвестиционных раундов.\n",
    "- `funding rounds` — число раундов финансирования.\n",
    "- `funding total` — сумма финансирования.\n",
    "- `milestones` — вехи финансирования.\n",
    "- `funding round id` — идентификатор этапа финансирования.\n",
    "- `company id` — идентификатор компании.\n",
    "- `funded at` — дата финансирования.\n",
    "- `funding round type` — тип финансирования.\n",
    "- `raised amount` — сумма финансирования.\n",
    "- `pre money valuation` — предварительная денежная оценка.\n",
    "- `participants` — число участников.\n",
    "- `is first round` — является ли раунд первым.\n",
    "- `is last round` — является раунд последним.\n",
    "\n",
    "### Описание датасета `people.csv`\n",
    "\n",
    "- `id` — идентификатор сотрудника.\n",
    "- `first_name` — имя сотрудника.\n",
    "- `last_name` — фамилия сотрудника.\n",
    "- `company_id` — идентификатор компании.\n",
    "- `network_username` — ник в социальных сетях.\n",
    "\n",
    "### Описание датасета `education.csv`\n",
    "\n",
    "- `id` — идентификатор записи об образовании.\n",
    "- `person_id` — идентификатор работника.\n",
    "- `instituition` — название учебного заведения.\n",
    "- `graduated_at` — дата получения образования.\n",
    "\n",
    "### Описание датасета `degrees.csv`\n",
    "\n",
    "- `id` — идентификатор записи.\n",
    "- `object_id` — идентификатор сотрудника.\n",
    "- `degree_type` — тип образования.\n",
    "- `subject` — специальность.\n",
    "\n",
    "\n",
    "\n",
    "### 1.1. Вывод общей информации, исправление названия столбцов\n",
    "\n",
    "- Загрузим все данные по проекту.\n",
    "- Проверим названия столбцов.\n",
    "- Выведем информацию, которая необходима нам для принятия решений о предобработке, для каждого из датасетов."
   ]
  },
  {
   "cell_type": "markdown",
   "metadata": {
    "colab": {
     "base_uri": "https://localhost:8080/"
    },
    "id": "W_W4jRazrJg0",
    "outputId": "d2409aad-233f-4bb4-ec71-7da96594f9df",
    "vscode": {
     "languageId": "plaintext"
    }
   },
   "source": [
    "Начнём с загрузки библиотек и датасетов. Будем использовать pandas и библиотеки визуализации данных matplotlib и seaborn, а также phik для построения матрицы корреляции. Данные датасетов сохраним в переменных."
   ]
  },
  {
   "cell_type": "code",
   "execution_count": 1,
   "metadata": {
    "id": "2Tm4Pk__Felf"
   },
   "outputs": [
    {
     "name": "stdout",
     "output_type": "stream",
     "text": [
      "Requirement already satisfied: phik in /opt/conda/lib/python3.9/site-packages (0.12.4)\r\n",
      "Requirement already satisfied: scipy>=1.5.2 in /opt/conda/lib/python3.9/site-packages (from phik) (1.9.1)\r\n",
      "Requirement already satisfied: pandas>=0.25.1 in /opt/conda/lib/python3.9/site-packages (from phik) (1.2.4)\r\n",
      "Requirement already satisfied: numpy>=1.18.0 in /opt/conda/lib/python3.9/site-packages (from phik) (1.21.1)\r\n",
      "Requirement already satisfied: joblib>=0.14.1 in /opt/conda/lib/python3.9/site-packages (from phik) (1.1.0)\r\n",
      "Requirement already satisfied: matplotlib>=2.2.3 in /opt/conda/lib/python3.9/site-packages (from phik) (3.3.4)\r\n",
      "Requirement already satisfied: python-dateutil>=2.1 in /opt/conda/lib/python3.9/site-packages (from matplotlib>=2.2.3->phik) (2.8.1)\r\n",
      "Requirement already satisfied: kiwisolver>=1.0.1 in /opt/conda/lib/python3.9/site-packages (from matplotlib>=2.2.3->phik) (1.4.4)\r\n",
      "Requirement already satisfied: pillow>=6.2.0 in /opt/conda/lib/python3.9/site-packages (from matplotlib>=2.2.3->phik) (8.4.0)\r\n",
      "Requirement already satisfied: pyparsing!=2.0.4,!=2.1.2,!=2.1.6,>=2.0.3 in /opt/conda/lib/python3.9/site-packages (from matplotlib>=2.2.3->phik) (2.4.7)\r\n",
      "Requirement already satisfied: cycler>=0.10 in /opt/conda/lib/python3.9/site-packages (from matplotlib>=2.2.3->phik) (0.11.0)\r\n",
      "Requirement already satisfied: pytz>=2017.3 in /opt/conda/lib/python3.9/site-packages (from pandas>=0.25.1->phik) (2021.1)\r\n",
      "Requirement already satisfied: six>=1.5 in /opt/conda/lib/python3.9/site-packages (from python-dateutil>=2.1->matplotlib>=2.2.3->phik) (1.16.0)\r\n"
     ]
    }
   ],
   "source": [
    "!pip install phik"
   ]
  },
  {
   "cell_type": "code",
   "execution_count": 2,
   "metadata": {
    "id": "oNqJ2qpRFebv"
   },
   "outputs": [],
   "source": [
    "# Импортируем библиотеки\n",
    "import pandas as pd\n",
    "\n",
    "# Загружаем библиотеки для визуализации данных\n",
    "import matplotlib.pyplot as plt\n",
    "import seaborn as sns\n",
    "\n",
    "# Загружаем библиотеку для расчёта коэффициента корреляции phi_k\n",
    "from phik import phik_matrix"
   ]
  },
  {
   "cell_type": "code",
   "execution_count": 3,
   "metadata": {},
   "outputs": [],
   "source": [
    "# Загрузим все данные по проекту \n",
    "company_df = pd.read_csv('https://code.s3.yandex.net/datasets/company_and_rounds.csv')\n",
    "acquisition_df = pd.read_csv('https://code.s3.yandex.net/datasets/acquisition.csv')\n",
    "people_df = pd.read_csv('https://code.s3.yandex.net/datasets/people.csv')\n",
    "education_df = pd.read_csv('https://code.s3.yandex.net/datasets/education.csv')\n",
    "degrees_df = pd.read_csv('https://code.s3.yandex.net/datasets/degrees.csv')"
   ]
  },
  {
   "cell_type": "code",
   "execution_count": 4,
   "metadata": {},
   "outputs": [
    {
     "name": "stdout",
     "output_type": "stream",
     "text": [
      "\n",
      " Столбцы в таблице acquisition_df\n",
      "['id', 'acquiring_company_id', 'acquired_company_id', 'term_code', 'price_amount', 'acquired_at']\n",
      "\n",
      " Столбцы в таблице company_df\n",
      "['company  ID', 'name', 'category  code', 'status', 'founded  at', 'closed  at', 'domain', 'network  username', 'country  code', 'investment  rounds', 'funding  rounds', 'funding  total', 'milestones', 'funding  round  id', 'company  id', 'funded  at', 'funding  round  type', 'raised  amount', 'pre  money  valuation', 'participants', 'is  first  round', 'is  last  round']\n",
      "\n",
      " Столбцы в таблице education_df\n",
      "['id', 'person_id', 'instituition', 'graduated_at']\n",
      "\n",
      " Столбцы в таблице people_df\n",
      "['id', 'first_name', 'last_name', 'company_id', 'network_username']\n",
      "\n",
      " Столбцы в таблице degrees_df\n",
      "['id', 'object_id', 'degree_type', 'subject']\n"
     ]
    }
   ],
   "source": [
    "# Проверим названия столбцов\n",
    "def print_columns(df, name):\n",
    "    print(f'\\n Столбцы в таблице {name}')\n",
    "    print(df.columns.tolist())\n",
    "\n",
    "print_columns(acquisition_df, 'acquisition_df')\n",
    "print_columns(company_df, 'company_df')\n",
    "print_columns(education_df, 'education_df')\n",
    "print_columns(people_df, 'people_df')\n",
    "print_columns(degrees_df, 'degrees_df')"
   ]
  },
  {
   "cell_type": "markdown",
   "metadata": {},
   "source": [
    " - Видим проблемы в назвниях столбцов в таблице `company_df` : `company  ID` и `company  id` а также  столбцы не приведены к формату `snake_case`. "
   ]
  },
  {
   "cell_type": "code",
   "execution_count": 5,
   "metadata": {},
   "outputs": [
    {
     "name": "stdout",
     "output_type": "stream",
     "text": [
      "Index(['company_id', 'name', 'category_code', 'status', 'founded_at',\n",
      "       'closed_at', 'domain', 'network_username', 'country_code',\n",
      "       'investment_rounds', 'funding_rounds', 'funding_total', 'milestones',\n",
      "       'funding_round_id', 'company_id_2', 'funded_at', 'funding_round_type',\n",
      "       'raised_amount', 'pre_money_valuation', 'participants',\n",
      "       'is_first_round', 'is_last_round'],\n",
      "      dtype='object')\n"
     ]
    }
   ],
   "source": [
    "# Приведем к общему формату\n",
    "company_df.columns = [\n",
    "    'company_id', 'name', 'category_code', 'status', 'founded_at', \n",
    "    'closed_at', 'domain', 'network_username', 'country_code', \n",
    "    'investment_rounds', 'funding_rounds', 'funding_total', 'milestones', \n",
    "    'funding_round_id', 'company_id_2', 'funded_at', 'funding_round_type', \n",
    "    'raised_amount', 'pre_money_valuation', 'participants', \n",
    "    'is_first_round', 'is_last_round'\n",
    "]\n",
    "print(company_df.columns)"
   ]
  },
  {
   "cell_type": "code",
   "execution_count": 6,
   "metadata": {},
   "outputs": [
    {
     "name": "stdout",
     "output_type": "stream",
     "text": [
      "\n",
      " Информация о таблице acquisition_df\n",
      "Размер датасета: 9407 строк, 6 столбцов\n",
      "\n",
      " Типы данных в датасете:\n",
      "id                       int64\n",
      "acquiring_company_id     int64\n",
      "acquired_company_id      int64\n",
      "term_code               object\n",
      "price_amount             int64\n",
      "acquired_at             object\n",
      "dtype: object\n",
      "\n",
      " Пропуски в датасете:\n",
      "id                         0\n",
      "acquiring_company_id       0\n",
      "acquired_company_id        0\n",
      "term_code               7576\n",
      "price_amount               0\n",
      "acquired_at               29\n",
      "dtype: int64\n",
      "\n",
      " Пример данных датасета:\n",
      "   id  acquiring_company_id  acquired_company_id term_code  price_amount  \\\n",
      "0   1                    11                   10       NaN      20000000   \n",
      "1   7                    59                   72      cash      60000000   \n",
      "\n",
      "  acquired_at  \n",
      "0  2007-05-30  \n",
      "1  2007-07-01  \n",
      "\n",
      " Информация о таблице company_df\n",
      "Размер датасета: 217774 строк, 22 столбцов\n",
      "\n",
      " Типы данных в датасете:\n",
      "company_id             float64\n",
      "name                    object\n",
      "category_code           object\n",
      "status                  object\n",
      "founded_at              object\n",
      "closed_at               object\n",
      "domain                  object\n",
      "network_username        object\n",
      "country_code            object\n",
      "investment_rounds      float64\n",
      "funding_rounds         float64\n",
      "funding_total          float64\n",
      "milestones             float64\n",
      "funding_round_id       float64\n",
      "company_id_2           float64\n",
      "funded_at               object\n",
      "funding_round_type      object\n",
      "raised_amount          float64\n",
      "pre_money_valuation    float64\n",
      "participants           float64\n",
      "is_first_round         float64\n",
      "is_last_round          float64\n",
      "dtype: object\n",
      "\n",
      " Пропуски в датасете:\n",
      "company_id                302\n",
      "name                      302\n",
      "category_code           73888\n",
      "status                    302\n",
      "founded_at             107818\n",
      "closed_at              214325\n",
      "domain                  70615\n",
      "network_username       122240\n",
      "country_code           109167\n",
      "investment_rounds         302\n",
      "funding_rounds            302\n",
      "funding_total             302\n",
      "milestones                302\n",
      "funding_round_id       164846\n",
      "company_id_2           164846\n",
      "funded_at              165094\n",
      "funding_round_type     164846\n",
      "raised_amount          164846\n",
      "pre_money_valuation    164846\n",
      "participants           164846\n",
      "is_first_round         164846\n",
      "is_last_round          164846\n",
      "dtype: int64\n",
      "\n",
      " Пример данных датасета:\n",
      "   company_id      name category_code     status  founded_at closed_at  \\\n",
      "0         1.0  Wetpaint           web  operating  2005-10-17       NaN   \n",
      "1         1.0  Wetpaint           web  operating  2005-10-17       NaN   \n",
      "\n",
      "             domain network_username country_code  investment_rounds  ...  \\\n",
      "0  wetpaint-inc.com  BachelrWetpaint          USA                0.0  ...   \n",
      "1  wetpaint-inc.com  BachelrWetpaint          USA                0.0  ...   \n",
      "\n",
      "   milestones  funding_round_id  company_id_2   funded_at  funding_round_type  \\\n",
      "0         5.0             888.0           1.0  2005-10-01            series-a   \n",
      "1         5.0             889.0           1.0  2007-01-01            series-b   \n",
      "\n",
      "  raised_amount pre_money_valuation  participants  is_first_round  \\\n",
      "0     5250000.0                 0.0           2.0             0.0   \n",
      "1     9500000.0                 0.0           3.0             0.0   \n",
      "\n",
      "   is_last_round  \n",
      "0            1.0  \n",
      "1            0.0  \n",
      "\n",
      "[2 rows x 22 columns]\n",
      "\n",
      " Информация о таблице education_df\n",
      "Размер датасета: 109610 строк, 4 столбцов\n",
      "\n",
      " Типы данных в датасете:\n",
      "id               int64\n",
      "person_id        int64\n",
      "instituition    object\n",
      "graduated_at    object\n",
      "dtype: object\n",
      "\n",
      " Пропуски в датасете:\n",
      "id                  0\n",
      "person_id           0\n",
      "instituition       55\n",
      "graduated_at    51556\n",
      "dtype: int64\n",
      "\n",
      " Пример данных датасета:\n",
      "   id  person_id                      instituition graduated_at\n",
      "0   1       6117                               NaN          NaN\n",
      "1   2       6136  Washington University, St. Louis   1990-01-01\n",
      "\n",
      " Информация о таблице people_df\n",
      "Размер датасета: 226709 строк, 5 столбцов\n",
      "\n",
      " Типы данных в датасете:\n",
      "id                    int64\n",
      "first_name           object\n",
      "last_name            object\n",
      "company_id          float64\n",
      "network_username     object\n",
      "dtype: object\n",
      "\n",
      " Пропуски в датасете:\n",
      "id                       0\n",
      "first_name               5\n",
      "last_name                1\n",
      "company_id          192094\n",
      "network_username    187842\n",
      "dtype: int64\n",
      "\n",
      " Пример данных датасета:\n",
      "    id first_name   last_name  company_id network_username\n",
      "0   10       Mark  Zuckerberg         5.0              NaN\n",
      "1  100      Peter      Lester        27.0              NaN\n",
      "\n",
      " Информация о таблице degrees_df\n",
      "Размер датасета: 109610 строк, 4 столбцов\n",
      "\n",
      " Типы данных в датасете:\n",
      "id              int64\n",
      "object_id      object\n",
      "degree_type    object\n",
      "subject        object\n",
      "dtype: object\n",
      "\n",
      " Пропуски в датасете:\n",
      "id                 0\n",
      "object_id          0\n",
      "degree_type    11218\n",
      "subject        28312\n",
      "dtype: int64\n",
      "\n",
      " Пример данных датасета:\n",
      "   id object_id degree_type          subject\n",
      "0   1    p:6117         MBA              NaN\n",
      "1   2    p:6136          BA  English, French\n"
     ]
    }
   ],
   "source": [
    "# Выведем информацию, которая необходима нам для принятия решений о предобработке, для каждого из датасетов.\n",
    "def print_dataset(df, name):\n",
    "    print(f'\\n Информация о таблице {name}')\n",
    "    print(f'Размер датасета: {df.shape[0]} строк, {df.shape[1]} столбцов')\n",
    "    print('\\n Типы данных в датасете:')\n",
    "    print(df.dtypes)\n",
    "    print('\\n Пропуски в датасете:')\n",
    "    print(df.isnull().sum())\n",
    "    print('\\n Пример данных датасета:')\n",
    "    print(df.head(2))\n",
    "\n",
    "print_dataset(acquisition_df, 'acquisition_df')\n",
    "print_dataset(company_df, 'company_df')\n",
    "print_dataset(education_df, 'education_df')\n",
    "print_dataset(people_df, 'people_df')\n",
    "print_dataset(degrees_df, 'degrees_df')"
   ]
  },
  {
   "cell_type": "markdown",
   "metadata": {},
   "source": [
    "**Сделаем предварительные выводы:**\n",
    "\n",
    "Таблица `acquisition_df`\n",
    " - Пропуски: 7576 в `term_code`, 29 в `acquired_at`.\n",
    " - Типы данных: `acquired_at`сохранен как `object`.\n",
    " \n",
    "Таблица `company_df`\n",
    " - Пропуски: 214325 в `closed_at` (не все компании закрылись).164846 в столбцах `raised_amount`, `participants` и др.73888 в `category_code`.`\n",
    " - Дубликаты: `company_id` и `company_id_2`.\n",
    " - Типы данных: Все числовые поля как `float64`\n",
    " \n",
    "Таблица `education_df`\n",
    " - Пропуски: 51556 в `graduated_at`. 55 в `instituition`.\n",
    "\n",
    "Таблица `people_df`\n",
    " - Пропуски:192094 в `company_id`.187842 в `network_username`.\n",
    " - Типы данных: `company_id` как `float64` (нужно `int`).\n",
    " \n",
    "Таблица `degrees_df`\n",
    " - Пропуски: 11218 в `degree_type`.28312 в `subject`.\n",
    " - Типы данных: `object_id` как `object` и содержит `р:`\n"
   ]
  },
  {
   "cell_type": "markdown",
   "metadata": {
    "id": "mg2gEwh0rJg0"
   },
   "source": [
    "### 1.2. Смена типов и анализ пропусков\n",
    "\n",
    "- Обработаем типы данных в столбцах, которые хранят значения даты и времени, если это необходимо.\n",
    "- Оценим полноту данных — сделаем предварительный вывод, достаточно ли данных для решения задач проекта."
   ]
  },
  {
   "cell_type": "code",
   "execution_count": 7,
   "metadata": {
    "id": "FsL0A8RBrJg1",
    "vscode": {
     "languageId": "plaintext"
    }
   },
   "outputs": [],
   "source": [
    "# Приведем столбцы с датами к типу datetime в таблице acquisition_df\n",
    "acquisition_df['acquired_at'] = pd.to_datetime(acquisition_df['acquired_at'], errors='coerce')"
   ]
  },
  {
   "cell_type": "code",
   "execution_count": 8,
   "metadata": {
    "id": "46VskrGyFeJ-"
   },
   "outputs": [],
   "source": [
    "# Приведем столбцы с датами к типу datetime в таблице company_df\n",
    "date_columns = ['founded_at', 'closed_at', 'funded_at']\n",
    "for col in date_columns:\n",
    "    company_df[col] = pd.to_datetime(company_df[col], errors='coerce')"
   ]
  },
  {
   "cell_type": "code",
   "execution_count": 9,
   "metadata": {
    "id": "DEg1tl8DFeBn"
   },
   "outputs": [],
   "source": [
    "# Приведем столбцы с датами к типу datetime в таблице education_df\n",
    "education_df['graduated_at'] = pd.to_datetime(education_df['graduated_at'], errors='coerce')"
   ]
  },
  {
   "cell_type": "markdown",
   "metadata": {},
   "source": [
    "**Предварительный вывод по полноте данных:**\n",
    "Таблица company_df:\n",
    " - `category_code`  73888 пропусков. Без категорий сложно проанализировать цену в зависимости от категории стартапов.\n",
    " - `founded_at` 107818 пропусков. Невозможно рассчитать возраст компании на момент сделки.\n",
    " - В данных о раундах большое количество пропусков в `raised_amount`, `participants` и др. Ставит под сомнение анализ цены в зависимости от количества раундов финансирования.\n",
    "\n",
    "Таблица `people_df`:\n",
    " - `company_id` 192,094 пропусков. Невозможно связать многих сотрудников с компаниями.\n",
    "\n",
    "\n",
    "Таблицы `education_df`:\n",
    " - `graduated_at`  51556 пропусков. Часть данных об образовании неполная.\n",
    "\n",
    "\n",
    "Таблица `acquisition_df`:\n",
    " - `term_code` 7,576 пропусков. Непонятно как проводился расчет в сделакх."
   ]
  },
  {
   "cell_type": "markdown",
   "metadata": {
    "id": "u60cHsn6rJg1"
   },
   "source": [
    "## Шаг 2. Предобработка данных, предварительное исследование"
   ]
  },
  {
   "cell_type": "markdown",
   "metadata": {
    "id": "g2bHIIjcrJg1"
   },
   "source": [
    "\n",
    "### 2.1. Раунды финансирования по годам\n",
    "\n",
    "Задание выполним без объединения и дополнительной предобработки на основе датасета `company_and_rounds.csv`.\n",
    "\n",
    "- Составим сводную таблицу по годам, в которой на основании столбца `raised_amount` для каждого года укажем:\n",
    "    - типичный размер средств, выделяемый в рамках одного раунда;\n",
    "    - общее количество раундов финансирования за этот год\n",
    "    \n",
    "- Оставим в таблице информацию только для тех лет, для которых есть информация о более чем 50 раундах финансирования.\n",
    "- На основе получившейся таблицы построим график, который будет отражать динамику типичного размера средств, которые стартапы получали в рамках одного раунда финансирования.\n",
    "\n",
    "На основе полученных данных ответим на вопросы:\n",
    "\n",
    "- В каком году типичный размер собранных в рамках одного раунда средств был максимален?\n",
    "- Какая тенденция по количеству раундов и выделяемых в рамках каждого раунда средств наблюдалась в 2013 году?"
   ]
  },
  {
   "cell_type": "code",
   "execution_count": 10,
   "metadata": {
    "id": "Cf5IjfOQrJg1",
    "vscode": {
     "languageId": "plaintext"
    }
   },
   "outputs": [],
   "source": [
    "# Извлечем год из funded_at\n",
    "company_df['year'] = company_df['funded_at'].dt.year\n",
    "# Преобразуем в int\n",
    "company_df['year'] = company_df['funded_at'].dt.year.astype('Int64') "
   ]
  },
  {
   "cell_type": "code",
   "execution_count": 11,
   "metadata": {
    "id": "8Fbz6KmzFdYP"
   },
   "outputs": [
    {
     "data": {
      "text/html": [
       "<div>\n",
       "<style scoped>\n",
       "    .dataframe tbody tr th:only-of-type {\n",
       "        vertical-align: middle;\n",
       "    }\n",
       "\n",
       "    .dataframe tbody tr th {\n",
       "        vertical-align: top;\n",
       "    }\n",
       "\n",
       "    .dataframe thead th {\n",
       "        text-align: right;\n",
       "    }\n",
       "</style>\n",
       "<table border=\"1\" class=\"dataframe\">\n",
       "  <thead>\n",
       "    <tr style=\"text-align: right;\">\n",
       "      <th></th>\n",
       "      <th>raised_amount</th>\n",
       "      <th>year</th>\n",
       "    </tr>\n",
       "  </thead>\n",
       "  <tbody>\n",
       "    <tr>\n",
       "      <th>0</th>\n",
       "      <td>5250000.0</td>\n",
       "      <td>2005</td>\n",
       "    </tr>\n",
       "    <tr>\n",
       "      <th>1</th>\n",
       "      <td>9500000.0</td>\n",
       "      <td>2007</td>\n",
       "    </tr>\n",
       "    <tr>\n",
       "      <th>2</th>\n",
       "      <td>25000000.0</td>\n",
       "      <td>2008</td>\n",
       "    </tr>\n",
       "    <tr>\n",
       "      <th>15</th>\n",
       "      <td>5000000.0</td>\n",
       "      <td>2008</td>\n",
       "    </tr>\n",
       "    <tr>\n",
       "      <th>20</th>\n",
       "      <td>0.0</td>\n",
       "      <td>2008</td>\n",
       "    </tr>\n",
       "  </tbody>\n",
       "</table>\n",
       "</div>"
      ],
      "text/plain": [
       "    raised_amount  year\n",
       "0       5250000.0  2005\n",
       "1       9500000.0  2007\n",
       "2      25000000.0  2008\n",
       "15      5000000.0  2008\n",
       "20            0.0  2008"
      ]
     },
     "execution_count": 11,
     "metadata": {},
     "output_type": "execute_result"
    }
   ],
   "source": [
    "# Удаляим строки с пропусками в raised_amount и year\n",
    "rounds_df = company_df.dropna(subset=['raised_amount', 'year'])\n",
    "rounds_subset = rounds_df[['raised_amount', 'year']]\n",
    "rounds_subset.head()"
   ]
  },
  {
   "cell_type": "markdown",
   "metadata": {
    "id": "Z92DzKMMFdKW"
   },
   "source": [
    "Сгруппируем по году и посчитаем типичный размер раунда и общее количество. Возьмем за типичный размер медиану чтобы избежать выбросов."
   ]
  },
  {
   "cell_type": "code",
   "execution_count": 12,
   "metadata": {},
   "outputs": [],
   "source": [
    "# Группируем по году\n",
    "sum_rounds = rounds_df.groupby('year')['raised_amount'].agg(\n",
    "    median_rounds = 'median',\n",
    "    total_rounds = 'count'\n",
    ").reset_index()"
   ]
  },
  {
   "cell_type": "markdown",
   "metadata": {},
   "source": [
    "Оставим в таблице информацию только для тех лет, для которых есть информация о более чем 50 раундах финансирования."
   ]
  },
  {
   "cell_type": "code",
   "execution_count": 13,
   "metadata": {},
   "outputs": [
    {
     "data": {
      "text/html": [
       "<div>\n",
       "<style scoped>\n",
       "    .dataframe tbody tr th:only-of-type {\n",
       "        vertical-align: middle;\n",
       "    }\n",
       "\n",
       "    .dataframe tbody tr th {\n",
       "        vertical-align: top;\n",
       "    }\n",
       "\n",
       "    .dataframe thead th {\n",
       "        text-align: right;\n",
       "    }\n",
       "</style>\n",
       "<table border=\"1\" class=\"dataframe\">\n",
       "  <thead>\n",
       "    <tr style=\"text-align: right;\">\n",
       "      <th></th>\n",
       "      <th>year</th>\n",
       "      <th>median_rounds</th>\n",
       "      <th>total_rounds</th>\n",
       "    </tr>\n",
       "  </thead>\n",
       "  <tbody>\n",
       "    <tr>\n",
       "      <th>15</th>\n",
       "      <td>1999</td>\n",
       "      <td>2000000.0</td>\n",
       "      <td>76</td>\n",
       "    </tr>\n",
       "    <tr>\n",
       "      <th>16</th>\n",
       "      <td>2000</td>\n",
       "      <td>4200000.0</td>\n",
       "      <td>125</td>\n",
       "    </tr>\n",
       "    <tr>\n",
       "      <th>17</th>\n",
       "      <td>2001</td>\n",
       "      <td>3000000.0</td>\n",
       "      <td>96</td>\n",
       "    </tr>\n",
       "    <tr>\n",
       "      <th>18</th>\n",
       "      <td>2002</td>\n",
       "      <td>4200000.0</td>\n",
       "      <td>116</td>\n",
       "    </tr>\n",
       "    <tr>\n",
       "      <th>19</th>\n",
       "      <td>2003</td>\n",
       "      <td>3000000.0</td>\n",
       "      <td>159</td>\n",
       "    </tr>\n",
       "    <tr>\n",
       "      <th>20</th>\n",
       "      <td>2004</td>\n",
       "      <td>5000000.0</td>\n",
       "      <td>291</td>\n",
       "    </tr>\n",
       "    <tr>\n",
       "      <th>21</th>\n",
       "      <td>2005</td>\n",
       "      <td>5500000.0</td>\n",
       "      <td>1633</td>\n",
       "    </tr>\n",
       "    <tr>\n",
       "      <th>22</th>\n",
       "      <td>2006</td>\n",
       "      <td>5000000.0</td>\n",
       "      <td>2436</td>\n",
       "    </tr>\n",
       "    <tr>\n",
       "      <th>23</th>\n",
       "      <td>2007</td>\n",
       "      <td>3973320.0</td>\n",
       "      <td>3279</td>\n",
       "    </tr>\n",
       "    <tr>\n",
       "      <th>24</th>\n",
       "      <td>2008</td>\n",
       "      <td>3110000.0</td>\n",
       "      <td>3774</td>\n",
       "    </tr>\n",
       "    <tr>\n",
       "      <th>25</th>\n",
       "      <td>2009</td>\n",
       "      <td>2000000.0</td>\n",
       "      <td>4151</td>\n",
       "    </tr>\n",
       "    <tr>\n",
       "      <th>26</th>\n",
       "      <td>2010</td>\n",
       "      <td>1602500.0</td>\n",
       "      <td>6221</td>\n",
       "    </tr>\n",
       "    <tr>\n",
       "      <th>27</th>\n",
       "      <td>2011</td>\n",
       "      <td>1200000.0</td>\n",
       "      <td>9204</td>\n",
       "    </tr>\n",
       "    <tr>\n",
       "      <th>28</th>\n",
       "      <td>2012</td>\n",
       "      <td>1000000.0</td>\n",
       "      <td>9970</td>\n",
       "    </tr>\n",
       "    <tr>\n",
       "      <th>29</th>\n",
       "      <td>2013</td>\n",
       "      <td>1200000.0</td>\n",
       "      <td>11072</td>\n",
       "    </tr>\n",
       "  </tbody>\n",
       "</table>\n",
       "</div>"
      ],
      "text/plain": [
       "    year  median_rounds  total_rounds\n",
       "15  1999      2000000.0            76\n",
       "16  2000      4200000.0           125\n",
       "17  2001      3000000.0            96\n",
       "18  2002      4200000.0           116\n",
       "19  2003      3000000.0           159\n",
       "20  2004      5000000.0           291\n",
       "21  2005      5500000.0          1633\n",
       "22  2006      5000000.0          2436\n",
       "23  2007      3973320.0          3279\n",
       "24  2008      3110000.0          3774\n",
       "25  2009      2000000.0          4151\n",
       "26  2010      1602500.0          6221\n",
       "27  2011      1200000.0          9204\n",
       "28  2012      1000000.0          9970\n",
       "29  2013      1200000.0         11072"
      ]
     },
     "execution_count": 13,
     "metadata": {},
     "output_type": "execute_result"
    }
   ],
   "source": [
    "# Фильтруем годы с раундами более 50\n",
    "sum_rounds = sum_rounds[sum_rounds['total_rounds'] > 50]\n",
    "sum_rounds"
   ]
  },
  {
   "cell_type": "markdown",
   "metadata": {},
   "source": [
    "Построим линейный график, который будет отражать динамику типичного размера средств, которые стартапы получали в рамках одного раунда финансирования."
   ]
  },
  {
   "cell_type": "code",
   "execution_count": 14,
   "metadata": {},
   "outputs": [
    {
     "data": {
      "image/png": "[encoded data removed]",
      "text/plain": [
       "<Figure size 864x432 with 1 Axes>"
      ]
     },
     "metadata": {
      "needs_background": "light"
     },
     "output_type": "display_data"
    }
   ],
   "source": [
    "# Создаём контейнер графика matplotlib и задаём его размер\n",
    "plt.figure(figsize=(12, 6))\n",
    "\n",
    "# Строим график\n",
    "plt.plot(sum_rounds['year'], \n",
    "         sum_rounds['median_rounds'], \n",
    "         marker='o', \n",
    "         linestyle='-', \n",
    "         color='blue')\n",
    "\n",
    "# Настраиваем оформление\n",
    "plt.title('Динамика типичного размера средств по годам')\n",
    "plt.xlabel('Год')\n",
    "plt.ylabel('Медиана')\n",
    "plt.grid(True)\n",
    "\n",
    "plt.show()"
   ]
  },
  {
   "cell_type": "markdown",
   "metadata": {},
   "source": [
    "**Ответим на вопросы:**\n",
    " - Год с максимальным типичным размером раунда это 2005 год — медиана составила 5,5 млн. После 2005 года медиана снижалась хотя количество сделок увеличивалось.\n",
    " - Тенденция в 2013 году : Количество раундов 11,072. Размер рунда (медиана 1,2 млн) в 2 раза меньше чем в 2005 году."
   ]
  },
  {
   "cell_type": "markdown",
   "metadata": {
    "id": "45if1en1rJg2"
   },
   "source": [
    "\n",
    "### 2.2. Люди и их образование\n",
    "\n",
    "Заказчик хочет понять, зависит ли полнота сведений о сотрудниках (например, об их образовании) от размера компаний.\n",
    "\n",
    "- Оценим, насколько информация об образовании сотрудников полна. Используя датасеты `people.csv` и `education.csv`, разделим все компании на несколько групп по количеству сотрудников и оценим среднюю долю сотрудников без информации об образовании в каждой из групп. Обоснуем выбранные границы групп.\n",
    "- Оценим, возможно ли для выполнения задания присоединить к этим таблицам ещё и таблицу `degrees.csv`."
   ]
  },
  {
   "cell_type": "markdown",
   "metadata": {},
   "source": [
    "Оценим, насколько информация об образовании сотрудников полна. Проверим пропуски в таблицах"
   ]
  },
  {
   "cell_type": "code",
   "execution_count": 15,
   "metadata": {
    "id": "psPO7C4MrJg2",
    "vscode": {
     "languageId": "plaintext"
    }
   },
   "outputs": [
    {
     "name": "stdout",
     "output_type": "stream",
     "text": [
      "Пропуски в people_df:\n",
      "id                   0.00\n",
      "first_name           0.00\n",
      "last_name            0.00\n",
      "company_id          84.73\n",
      "network_username    82.86\n",
      "dtype: float64\n",
      "\n",
      "Пропуски в education_df:\n",
      "id               0.00\n",
      "person_id        0.00\n",
      "instituition     0.05\n",
      "graduated_at    47.04\n",
      "dtype: float64\n"
     ]
    }
   ],
   "source": [
    "# Пропуски в people_df\n",
    "print(\"Пропуски в people_df:\")\n",
    "print(round((people_df.isna().sum() / len(people_df)) * 100,2))\n",
    "\n",
    "# Пропуски в education_df\n",
    "print(\"\\nПропуски в education_df:\")\n",
    "print(round((education_df.isna().sum() / len(education_df)) * 100,2))"
   ]
  },
  {
   "cell_type": "markdown",
   "metadata": {
    "id": "4FC98Pd-FcmG"
   },
   "source": [
    " - В таблице `people_df`: 84.7% пропусков в стобце `company_id`. Это критично для связи с компаниями.В таблице `education_df`: 47% пропусков в стобце `graduated_at` но `person_id` заполнен."
   ]
  },
  {
   "cell_type": "markdown",
   "metadata": {},
   "source": [
    "Разделим компании на группы по размеру. Связжем сотрудников с их образованием"
   ]
  },
  {
   "cell_type": "code",
   "execution_count": 16,
   "metadata": {},
   "outputs": [],
   "source": [
    "# Объединим people_df и education_df:\n",
    "people_education = pd.merge(\n",
    "    people_df.dropna(subset=['company_id']),\n",
    "    education_df,\n",
    "    left_on='id',\n",
    "    right_on='person_id',\n",
    "    how='left'\n",
    ")"
   ]
  },
  {
   "cell_type": "code",
   "execution_count": 17,
   "metadata": {},
   "outputs": [],
   "source": [
    "# Посчитаем количество сотрудников на компанию\n",
    "company_size = people_education.groupby('company_id')['id_x'].count().reset_index(name='count')"
   ]
  },
  {
   "cell_type": "code",
   "execution_count": 18,
   "metadata": {},
   "outputs": [
    {
     "name": "stdout",
     "output_type": "stream",
     "text": [
      "Максимальное количество сотрудников в одной компании: 376\n"
     ]
    }
   ],
   "source": [
    "# Проверим максимальное количество сотрудников\n",
    "max_employees = company_size['count'].max()\n",
    "print(f\"Максимальное количество сотрудников в одной компании: {max_employees}\")"
   ]
  },
  {
   "cell_type": "code",
   "execution_count": 19,
   "metadata": {},
   "outputs": [],
   "source": [
    "# Выберем границы групп\n",
    "bins = [0, 10, 20, 377] \n",
    "labels = ['1-10', '11-20', '21+']\n",
    "company_size['size_group'] = pd.cut(company_size['count'], bins=bins, labels=labels)"
   ]
  },
  {
   "cell_type": "markdown",
   "metadata": {},
   "source": [
    "Обоснование границ: \n",
    "\n",
    " - 1-10 это маленькие компании.\n",
    "\n",
    " - 11-20 это малый бизнес.\n",
    "\n",
    " - 21+ это средние и крупные компании. Объединили в одну группу потому что компаний >50 сотрудниками очень мало"
   ]
  },
  {
   "cell_type": "code",
   "execution_count": 20,
   "metadata": {},
   "outputs": [],
   "source": [
    "# Добавим информацию о группе компании к данным о сотрудниках\n",
    "people_education = pd.merge(\n",
    "    people_education,\n",
    "    company_size[['company_id', 'size_group']],\n",
    "    on='company_id',\n",
    "    how='left'\n",
    ")"
   ]
  },
  {
   "cell_type": "code",
   "execution_count": 21,
   "metadata": {},
   "outputs": [],
   "source": [
    "# Создадим столбец если \"нет данных об образовании\"\n",
    "people_education['no_education'] = people_education['graduated_at'].isna()"
   ]
  },
  {
   "cell_type": "code",
   "execution_count": 22,
   "metadata": {},
   "outputs": [
    {
     "data": {
      "text/html": [
       "<div>\n",
       "<style scoped>\n",
       "    .dataframe tbody tr th:only-of-type {\n",
       "        vertical-align: middle;\n",
       "    }\n",
       "\n",
       "    .dataframe tbody tr th {\n",
       "        vertical-align: top;\n",
       "    }\n",
       "\n",
       "    .dataframe thead th {\n",
       "        text-align: right;\n",
       "    }\n",
       "</style>\n",
       "<table border=\"1\" class=\"dataframe\">\n",
       "  <thead>\n",
       "    <tr style=\"text-align: right;\">\n",
       "      <th></th>\n",
       "      <th>size_group</th>\n",
       "      <th>missing_education_rating</th>\n",
       "    </tr>\n",
       "  </thead>\n",
       "  <tbody>\n",
       "    <tr>\n",
       "      <th>0</th>\n",
       "      <td>1-10</td>\n",
       "      <td>0.528573</td>\n",
       "    </tr>\n",
       "    <tr>\n",
       "      <th>1</th>\n",
       "      <td>11-20</td>\n",
       "      <td>0.561383</td>\n",
       "    </tr>\n",
       "    <tr>\n",
       "      <th>2</th>\n",
       "      <td>21+</td>\n",
       "      <td>0.558140</td>\n",
       "    </tr>\n",
       "  </tbody>\n",
       "</table>\n",
       "</div>"
      ],
      "text/plain": [
       "  size_group  missing_education_rating\n",
       "0       1-10                  0.528573\n",
       "1      11-20                  0.561383\n",
       "2        21+                  0.558140"
      ]
     },
     "execution_count": 22,
     "metadata": {},
     "output_type": "execute_result"
    }
   ],
   "source": [
    "# Почитаем среднюю долю сотрудников без образования по группам компаний\n",
    "education_share = people_education.groupby('size_group')['no_education'].mean().reset_index()\n",
    "education_share.columns = ['size_group', 'missing_education_rating']\n",
    "education_share"
   ]
  },
  {
   "cell_type": "markdown",
   "metadata": {},
   "source": [
    " - Можно сделать вывод о том что четкой зависимости между размером компаии и полнотой данных об образовании нет. Во всех группах пропуски более 50 процентов"
   ]
  },
  {
   "cell_type": "markdown",
   "metadata": {},
   "source": [
    "Оценим, возможно ли для выполнения задания присоединить к этим таблицам ещё и таблицу `degrees.csv`.\n",
    "\n",
    "Присоединение таблицы `degrees.csv` не решит проблему пропусков тем более в ней так же есть свои пропуски в `degree_type` и `subject`. Если в `graduated_at` отсутствует какая то запись то запись в `degrees.csv` всё равно не подтвердит факт образования а лишь укажет на специальность."
   ]
  },
  {
   "cell_type": "markdown",
   "metadata": {
    "id": "Lz7qjM32xglW"
   },
   "source": [
    "### 2.3. Объединять или не объединять — вот в чём вопрос\n",
    "\n",
    "Некоторые названия столбцов встречаются в датасетах чаще других. В результате предварительной проверки датасетов было выяснено, что столбец `company_id` подходит для объединения данных.\n",
    "\n",
    "- Установим, подходит ли для объединения данных столбец `network_username`, который встречается в нескольких датасетах. Нам необходимо понимать, дублируется ли для разных датасетов информация в столбцах с таким названием, и если да — то насколько часто.\n",
    "- Оценим, можно ли использовать столбцы с именем `network_username` для объединения данных."
   ]
  },
  {
   "cell_type": "markdown",
   "metadata": {
    "id": "zyI3rt0rxg1O"
   },
   "source": [
    "Для начала проверим наличие столбца network_username во всех таблицах"
   ]
  },
  {
   "cell_type": "code",
   "execution_count": 23,
   "metadata": {
    "id": "RxOS5rwmFcNW"
   },
   "outputs": [
    {
     "name": "stdout",
     "output_type": "stream",
     "text": [
      "acquisition_df: нет\n",
      "company_df: уникальных значений — 79571\n",
      "education_df: нет\n",
      "people_df: уникальных значений — 38421\n",
      "degrees_df: нет\n"
     ]
    }
   ],
   "source": [
    "datasets = {\n",
    "    'acquisition_df': acquisition_df,\n",
    "    'company_df': company_df,\n",
    "    'education_df': education_df,\n",
    "    'people_df': people_df,\n",
    "    'degrees_df': degrees_df\n",
    "}\n",
    "\n",
    "for name, df in datasets.items():\n",
    "    if 'network_username' in df.columns:\n",
    "        print(f\"{name}: уникальных значений — {df['network_username'].nunique()}\")\n",
    "    else:\n",
    "        print(f'{name}: нет')"
   ]
  },
  {
   "cell_type": "markdown",
   "metadata": {
    "id": "_7gjdrGOFcB2"
   },
   "source": [
    "Сравним значения в таблицах `company_df` и `people_df`"
   ]
  },
  {
   "cell_type": "code",
   "execution_count": 24,
   "metadata": {},
   "outputs": [],
   "source": [
    "# Уникальные network_username в company_df\n",
    "company_names = set(company_df['network_username'].dropna().unique())"
   ]
  },
  {
   "cell_type": "code",
   "execution_count": 25,
   "metadata": {},
   "outputs": [],
   "source": [
    "# Уникальные network_username в people_df\n",
    "people_names = set(people_df['network_username'].dropna().unique())"
   ]
  },
  {
   "cell_type": "code",
   "execution_count": 26,
   "metadata": {},
   "outputs": [
    {
     "name": "stdout",
     "output_type": "stream",
     "text": [
      "Пересекающиеся network_username: 2199 из 79571 (company_df) и 38421 (people_df)\n"
     ]
    }
   ],
   "source": [
    "# Общие значения\n",
    "total_names = company_names & people_names\n",
    "print(f'Пересекающиеся network_username: {len(total_names)} из {len(company_names)} (company_df) и {len(people_names)} (people_df)')"
   ]
  },
  {
   "cell_type": "markdown",
   "metadata": {},
   "source": [
    "Как видим столбец network_username не подходит для объединения по причине слишкол малой доли общих значений между таблицами, а так же наличия пропусков в `people_df` - 83% в `company_df` - 56%"
   ]
  },
  {
   "cell_type": "markdown",
   "metadata": {
    "id": "EHcODomVrJg1"
   },
   "source": [
    "\n",
    "### 2.4. Проблемный датасет и причина возникновения пропусков\n",
    "\n",
    "Во время собственного анализа данных у заказчика больше всего вопросов возникло к датасету `company_and_rounds.csv`. В нём много пропусков как раз в информации о раундах, которая заказчику важна.\n",
    "\n",
    "- Любым удобным способом приведем данные в вид, который позволит в дальнейшем проводить анализ в разрезе отдельных компаний. Обратим внимание на структуру датасета, порядок и названия столбцов, проанализируем значения.\n",
    "\n",
    "По гипотезе заказчика данные по компаниям из этой таблицы раньше хранились иначе, более удобным для исследования образом.\n",
    "\n",
    "- Максимальным образом сохраняя данные, сохранив их связность и исключив возможные возникающие при этом ошибки, подготовим данные так, чтобы удобно было отобрать компании по параметрам и рассчитать показатели из расчёта на одну компанию без промежуточных агрегаций."
   ]
  },
  {
   "cell_type": "code",
   "execution_count": 27,
   "metadata": {
    "id": "oSk7xqu_FbaN"
   },
   "outputs": [
    {
     "data": {
      "text/html": [
       "<div>\n",
       "<style scoped>\n",
       "    .dataframe tbody tr th:only-of-type {\n",
       "        vertical-align: middle;\n",
       "    }\n",
       "\n",
       "    .dataframe tbody tr th {\n",
       "        vertical-align: top;\n",
       "    }\n",
       "\n",
       "    .dataframe thead th {\n",
       "        text-align: right;\n",
       "    }\n",
       "</style>\n",
       "<table border=\"1\" class=\"dataframe\">\n",
       "  <thead>\n",
       "    <tr style=\"text-align: right;\">\n",
       "      <th></th>\n",
       "      <th>company_id</th>\n",
       "      <th>name</th>\n",
       "      <th>category_code</th>\n",
       "      <th>status</th>\n",
       "      <th>founded_at</th>\n",
       "      <th>closed_at</th>\n",
       "      <th>domain</th>\n",
       "      <th>network_username</th>\n",
       "      <th>country_code</th>\n",
       "      <th>investment_rounds</th>\n",
       "      <th>...</th>\n",
       "      <th>funding_round_id</th>\n",
       "      <th>company_id_2</th>\n",
       "      <th>funded_at</th>\n",
       "      <th>funding_round_type</th>\n",
       "      <th>raised_amount</th>\n",
       "      <th>pre_money_valuation</th>\n",
       "      <th>participants</th>\n",
       "      <th>is_first_round</th>\n",
       "      <th>is_last_round</th>\n",
       "      <th>year</th>\n",
       "    </tr>\n",
       "  </thead>\n",
       "  <tbody>\n",
       "    <tr>\n",
       "      <th>0</th>\n",
       "      <td>1.0</td>\n",
       "      <td>Wetpaint</td>\n",
       "      <td>web</td>\n",
       "      <td>operating</td>\n",
       "      <td>2005-10-17</td>\n",
       "      <td>NaT</td>\n",
       "      <td>wetpaint-inc.com</td>\n",
       "      <td>BachelrWetpaint</td>\n",
       "      <td>USA</td>\n",
       "      <td>0.0</td>\n",
       "      <td>...</td>\n",
       "      <td>888.0</td>\n",
       "      <td>1.0</td>\n",
       "      <td>2005-10-01</td>\n",
       "      <td>series-a</td>\n",
       "      <td>5250000.0</td>\n",
       "      <td>0.0</td>\n",
       "      <td>2.0</td>\n",
       "      <td>0.0</td>\n",
       "      <td>1.0</td>\n",
       "      <td>2005</td>\n",
       "    </tr>\n",
       "    <tr>\n",
       "      <th>1</th>\n",
       "      <td>1.0</td>\n",
       "      <td>Wetpaint</td>\n",
       "      <td>web</td>\n",
       "      <td>operating</td>\n",
       "      <td>2005-10-17</td>\n",
       "      <td>NaT</td>\n",
       "      <td>wetpaint-inc.com</td>\n",
       "      <td>BachelrWetpaint</td>\n",
       "      <td>USA</td>\n",
       "      <td>0.0</td>\n",
       "      <td>...</td>\n",
       "      <td>889.0</td>\n",
       "      <td>1.0</td>\n",
       "      <td>2007-01-01</td>\n",
       "      <td>series-b</td>\n",
       "      <td>9500000.0</td>\n",
       "      <td>0.0</td>\n",
       "      <td>3.0</td>\n",
       "      <td>0.0</td>\n",
       "      <td>0.0</td>\n",
       "      <td>2007</td>\n",
       "    </tr>\n",
       "    <tr>\n",
       "      <th>2</th>\n",
       "      <td>1.0</td>\n",
       "      <td>Wetpaint</td>\n",
       "      <td>web</td>\n",
       "      <td>operating</td>\n",
       "      <td>2005-10-17</td>\n",
       "      <td>NaT</td>\n",
       "      <td>wetpaint-inc.com</td>\n",
       "      <td>BachelrWetpaint</td>\n",
       "      <td>USA</td>\n",
       "      <td>0.0</td>\n",
       "      <td>...</td>\n",
       "      <td>2312.0</td>\n",
       "      <td>1.0</td>\n",
       "      <td>2008-05-19</td>\n",
       "      <td>series-c+</td>\n",
       "      <td>25000000.0</td>\n",
       "      <td>0.0</td>\n",
       "      <td>4.0</td>\n",
       "      <td>1.0</td>\n",
       "      <td>0.0</td>\n",
       "      <td>2008</td>\n",
       "    </tr>\n",
       "    <tr>\n",
       "      <th>3</th>\n",
       "      <td>10.0</td>\n",
       "      <td>Flektor</td>\n",
       "      <td>games_video</td>\n",
       "      <td>acquired</td>\n",
       "      <td>NaT</td>\n",
       "      <td>NaT</td>\n",
       "      <td>flektor.com</td>\n",
       "      <td>NaN</td>\n",
       "      <td>USA</td>\n",
       "      <td>0.0</td>\n",
       "      <td>...</td>\n",
       "      <td>NaN</td>\n",
       "      <td>NaN</td>\n",
       "      <td>NaT</td>\n",
       "      <td>NaN</td>\n",
       "      <td>NaN</td>\n",
       "      <td>NaN</td>\n",
       "      <td>NaN</td>\n",
       "      <td>NaN</td>\n",
       "      <td>NaN</td>\n",
       "      <td>&lt;NA&gt;</td>\n",
       "    </tr>\n",
       "    <tr>\n",
       "      <th>4</th>\n",
       "      <td>100.0</td>\n",
       "      <td>There</td>\n",
       "      <td>games_video</td>\n",
       "      <td>acquired</td>\n",
       "      <td>NaT</td>\n",
       "      <td>NaT</td>\n",
       "      <td>there.com</td>\n",
       "      <td>NaN</td>\n",
       "      <td>USA</td>\n",
       "      <td>0.0</td>\n",
       "      <td>...</td>\n",
       "      <td>NaN</td>\n",
       "      <td>NaN</td>\n",
       "      <td>NaT</td>\n",
       "      <td>NaN</td>\n",
       "      <td>NaN</td>\n",
       "      <td>NaN</td>\n",
       "      <td>NaN</td>\n",
       "      <td>NaN</td>\n",
       "      <td>NaN</td>\n",
       "      <td>&lt;NA&gt;</td>\n",
       "    </tr>\n",
       "  </tbody>\n",
       "</table>\n",
       "<p>5 rows × 23 columns</p>\n",
       "</div>"
      ],
      "text/plain": [
       "   company_id      name category_code     status founded_at closed_at  \\\n",
       "0         1.0  Wetpaint           web  operating 2005-10-17       NaT   \n",
       "1         1.0  Wetpaint           web  operating 2005-10-17       NaT   \n",
       "2         1.0  Wetpaint           web  operating 2005-10-17       NaT   \n",
       "3        10.0   Flektor   games_video   acquired        NaT       NaT   \n",
       "4       100.0     There   games_video   acquired        NaT       NaT   \n",
       "\n",
       "             domain network_username country_code  investment_rounds  ...  \\\n",
       "0  wetpaint-inc.com  BachelrWetpaint          USA                0.0  ...   \n",
       "1  wetpaint-inc.com  BachelrWetpaint          USA                0.0  ...   \n",
       "2  wetpaint-inc.com  BachelrWetpaint          USA                0.0  ...   \n",
       "3       flektor.com              NaN          USA                0.0  ...   \n",
       "4         there.com              NaN          USA                0.0  ...   \n",
       "\n",
       "   funding_round_id  company_id_2  funded_at  funding_round_type  \\\n",
       "0             888.0           1.0 2005-10-01            series-a   \n",
       "1             889.0           1.0 2007-01-01            series-b   \n",
       "2            2312.0           1.0 2008-05-19           series-c+   \n",
       "3               NaN           NaN        NaT                 NaN   \n",
       "4               NaN           NaN        NaT                 NaN   \n",
       "\n",
       "   raised_amount pre_money_valuation participants  is_first_round  \\\n",
       "0      5250000.0                 0.0          2.0             0.0   \n",
       "1      9500000.0                 0.0          3.0             0.0   \n",
       "2     25000000.0                 0.0          4.0             1.0   \n",
       "3            NaN                 NaN          NaN             NaN   \n",
       "4            NaN                 NaN          NaN             NaN   \n",
       "\n",
       "   is_last_round  year  \n",
       "0            1.0  2005  \n",
       "1            0.0  2007  \n",
       "2            0.0  2008  \n",
       "3            NaN  <NA>  \n",
       "4            NaN  <NA>  \n",
       "\n",
       "[5 rows x 23 columns]"
      ]
     },
     "execution_count": 27,
     "metadata": {},
     "output_type": "execute_result"
    }
   ],
   "source": [
    "# Выводим первые строки датафрейма на экран\n",
    "company_df.head()"
   ]
  },
  {
   "cell_type": "code",
   "execution_count": 28,
   "metadata": {
    "id": "9BY9lTUcFbJ-"
   },
   "outputs": [],
   "source": [
    "# Удалим дубликаты в company_id и funding_round_id если они есть\n",
    "company_df = company_df.drop_duplicates(\n",
    "    subset=['company_id', 'funding_round_id'], \n",
    "    keep='first'\n",
    ")"
   ]
  },
  {
   "cell_type": "markdown",
   "metadata": {
    "id": "tJ6Sl6MKrJg1",
    "vscode": {
     "languageId": "plaintext"
    }
   },
   "source": [
    "Разделим на 2 связанные таблица `companies` и `rounds`"
   ]
  },
  {
   "cell_type": "code",
   "execution_count": 29,
   "metadata": {},
   "outputs": [
    {
     "data": {
      "text/html": [
       "<div>\n",
       "<style scoped>\n",
       "    .dataframe tbody tr th:only-of-type {\n",
       "        vertical-align: middle;\n",
       "    }\n",
       "\n",
       "    .dataframe tbody tr th {\n",
       "        vertical-align: top;\n",
       "    }\n",
       "\n",
       "    .dataframe thead th {\n",
       "        text-align: right;\n",
       "    }\n",
       "</style>\n",
       "<table border=\"1\" class=\"dataframe\">\n",
       "  <thead>\n",
       "    <tr style=\"text-align: right;\">\n",
       "      <th></th>\n",
       "      <th>company_id</th>\n",
       "      <th>name</th>\n",
       "      <th>category_code</th>\n",
       "      <th>status</th>\n",
       "      <th>founded_at</th>\n",
       "      <th>closed_at</th>\n",
       "      <th>domain</th>\n",
       "      <th>country_code</th>\n",
       "    </tr>\n",
       "  </thead>\n",
       "  <tbody>\n",
       "    <tr>\n",
       "      <th>0</th>\n",
       "      <td>1.0</td>\n",
       "      <td>Wetpaint</td>\n",
       "      <td>web</td>\n",
       "      <td>operating</td>\n",
       "      <td>2005-10-17</td>\n",
       "      <td>NaT</td>\n",
       "      <td>wetpaint-inc.com</td>\n",
       "      <td>USA</td>\n",
       "    </tr>\n",
       "    <tr>\n",
       "      <th>3</th>\n",
       "      <td>10.0</td>\n",
       "      <td>Flektor</td>\n",
       "      <td>games_video</td>\n",
       "      <td>acquired</td>\n",
       "      <td>NaT</td>\n",
       "      <td>NaT</td>\n",
       "      <td>flektor.com</td>\n",
       "      <td>USA</td>\n",
       "    </tr>\n",
       "    <tr>\n",
       "      <th>4</th>\n",
       "      <td>100.0</td>\n",
       "      <td>There</td>\n",
       "      <td>games_video</td>\n",
       "      <td>acquired</td>\n",
       "      <td>NaT</td>\n",
       "      <td>NaT</td>\n",
       "      <td>there.com</td>\n",
       "      <td>USA</td>\n",
       "    </tr>\n",
       "    <tr>\n",
       "      <th>5</th>\n",
       "      <td>10000.0</td>\n",
       "      <td>MYWEBBO</td>\n",
       "      <td>network_hosting</td>\n",
       "      <td>operating</td>\n",
       "      <td>2008-07-26</td>\n",
       "      <td>NaT</td>\n",
       "      <td>mywebbo.com</td>\n",
       "      <td>NaN</td>\n",
       "    </tr>\n",
       "    <tr>\n",
       "      <th>6</th>\n",
       "      <td>10001.0</td>\n",
       "      <td>THE Movie Streamer</td>\n",
       "      <td>games_video</td>\n",
       "      <td>operating</td>\n",
       "      <td>2008-07-26</td>\n",
       "      <td>NaT</td>\n",
       "      <td>themoviestreamer.com</td>\n",
       "      <td>NaN</td>\n",
       "    </tr>\n",
       "  </tbody>\n",
       "</table>\n",
       "</div>"
      ],
      "text/plain": [
       "   company_id                name    category_code     status founded_at  \\\n",
       "0         1.0            Wetpaint              web  operating 2005-10-17   \n",
       "3        10.0             Flektor      games_video   acquired        NaT   \n",
       "4       100.0               There      games_video   acquired        NaT   \n",
       "5     10000.0             MYWEBBO  network_hosting  operating 2008-07-26   \n",
       "6     10001.0  THE Movie Streamer      games_video  operating 2008-07-26   \n",
       "\n",
       "  closed_at                domain country_code  \n",
       "0       NaT      wetpaint-inc.com          USA  \n",
       "3       NaT           flektor.com          USA  \n",
       "4       NaT             there.com          USA  \n",
       "5       NaT           mywebbo.com          NaN  \n",
       "6       NaT  themoviestreamer.com          NaN  "
      ]
     },
     "execution_count": 29,
     "metadata": {},
     "output_type": "execute_result"
    }
   ],
   "source": [
    "#Таблица компаний\n",
    "companies = company_df[\n",
    "    ['company_id', 'name', 'category_code', 'status', \n",
    "     'founded_at', 'closed_at', 'domain', 'country_code']\n",
    "].drop_duplicates('company_id')\n",
    "companies.head()"
   ]
  },
  {
   "cell_type": "code",
   "execution_count": 30,
   "metadata": {},
   "outputs": [
    {
     "data": {
      "text/html": [
       "<div>\n",
       "<style scoped>\n",
       "    .dataframe tbody tr th:only-of-type {\n",
       "        vertical-align: middle;\n",
       "    }\n",
       "\n",
       "    .dataframe tbody tr th {\n",
       "        vertical-align: top;\n",
       "    }\n",
       "\n",
       "    .dataframe thead th {\n",
       "        text-align: right;\n",
       "    }\n",
       "</style>\n",
       "<table border=\"1\" class=\"dataframe\">\n",
       "  <thead>\n",
       "    <tr style=\"text-align: right;\">\n",
       "      <th></th>\n",
       "      <th>funding_round_id</th>\n",
       "      <th>company_id</th>\n",
       "      <th>funded_at</th>\n",
       "      <th>funding_round_type</th>\n",
       "      <th>raised_amount</th>\n",
       "      <th>participants</th>\n",
       "    </tr>\n",
       "  </thead>\n",
       "  <tbody>\n",
       "    <tr>\n",
       "      <th>0</th>\n",
       "      <td>888.0</td>\n",
       "      <td>1.0</td>\n",
       "      <td>2005-10-01</td>\n",
       "      <td>series-a</td>\n",
       "      <td>5250000.0</td>\n",
       "      <td>2.0</td>\n",
       "    </tr>\n",
       "    <tr>\n",
       "      <th>1</th>\n",
       "      <td>889.0</td>\n",
       "      <td>1.0</td>\n",
       "      <td>2007-01-01</td>\n",
       "      <td>series-b</td>\n",
       "      <td>9500000.0</td>\n",
       "      <td>3.0</td>\n",
       "    </tr>\n",
       "    <tr>\n",
       "      <th>2</th>\n",
       "      <td>2312.0</td>\n",
       "      <td>1.0</td>\n",
       "      <td>2008-05-19</td>\n",
       "      <td>series-c+</td>\n",
       "      <td>25000000.0</td>\n",
       "      <td>4.0</td>\n",
       "    </tr>\n",
       "    <tr>\n",
       "      <th>3</th>\n",
       "      <td>NaN</td>\n",
       "      <td>10.0</td>\n",
       "      <td>NaT</td>\n",
       "      <td>NaN</td>\n",
       "      <td>NaN</td>\n",
       "      <td>NaN</td>\n",
       "    </tr>\n",
       "    <tr>\n",
       "      <th>4</th>\n",
       "      <td>NaN</td>\n",
       "      <td>100.0</td>\n",
       "      <td>NaT</td>\n",
       "      <td>NaN</td>\n",
       "      <td>NaN</td>\n",
       "      <td>NaN</td>\n",
       "    </tr>\n",
       "  </tbody>\n",
       "</table>\n",
       "</div>"
      ],
      "text/plain": [
       "   funding_round_id  company_id  funded_at funding_round_type  raised_amount  \\\n",
       "0             888.0         1.0 2005-10-01           series-a      5250000.0   \n",
       "1             889.0         1.0 2007-01-01           series-b      9500000.0   \n",
       "2            2312.0         1.0 2008-05-19          series-c+     25000000.0   \n",
       "3               NaN        10.0        NaT                NaN            NaN   \n",
       "4               NaN       100.0        NaT                NaN            NaN   \n",
       "\n",
       "   participants  \n",
       "0           2.0  \n",
       "1           3.0  \n",
       "2           4.0  \n",
       "3           NaN  \n",
       "4           NaN  "
      ]
     },
     "execution_count": 30,
     "metadata": {},
     "output_type": "execute_result"
    }
   ],
   "source": [
    "# Таблица раундов\n",
    "rounds = company_df[\n",
    "    ['funding_round_id', 'company_id', 'funded_at', \n",
    "     'funding_round_type', 'raised_amount', 'participants']\n",
    "]\n",
    "rounds.head()"
   ]
  },
  {
   "cell_type": "markdown",
   "metadata": {},
   "source": [
    "Заполним пропуски для `category_code`(категория компании) значением `unknown` в таблице `companies` что позволит нам группировать по категориям"
   ]
  },
  {
   "cell_type": "code",
   "execution_count": 31,
   "metadata": {},
   "outputs": [
    {
     "data": {
      "text/html": [
       "<div>\n",
       "<style scoped>\n",
       "    .dataframe tbody tr th:only-of-type {\n",
       "        vertical-align: middle;\n",
       "    }\n",
       "\n",
       "    .dataframe tbody tr th {\n",
       "        vertical-align: top;\n",
       "    }\n",
       "\n",
       "    .dataframe thead th {\n",
       "        text-align: right;\n",
       "    }\n",
       "</style>\n",
       "<table border=\"1\" class=\"dataframe\">\n",
       "  <thead>\n",
       "    <tr style=\"text-align: right;\">\n",
       "      <th></th>\n",
       "      <th>company_id</th>\n",
       "      <th>name</th>\n",
       "      <th>category_code</th>\n",
       "      <th>status</th>\n",
       "      <th>founded_at</th>\n",
       "      <th>closed_at</th>\n",
       "      <th>domain</th>\n",
       "      <th>country_code</th>\n",
       "    </tr>\n",
       "  </thead>\n",
       "  <tbody>\n",
       "    <tr>\n",
       "      <th>0</th>\n",
       "      <td>1.0</td>\n",
       "      <td>Wetpaint</td>\n",
       "      <td>web</td>\n",
       "      <td>operating</td>\n",
       "      <td>2005-10-17</td>\n",
       "      <td>NaT</td>\n",
       "      <td>wetpaint-inc.com</td>\n",
       "      <td>USA</td>\n",
       "    </tr>\n",
       "    <tr>\n",
       "      <th>3</th>\n",
       "      <td>10.0</td>\n",
       "      <td>Flektor</td>\n",
       "      <td>games_video</td>\n",
       "      <td>acquired</td>\n",
       "      <td>NaT</td>\n",
       "      <td>NaT</td>\n",
       "      <td>flektor.com</td>\n",
       "      <td>USA</td>\n",
       "    </tr>\n",
       "    <tr>\n",
       "      <th>4</th>\n",
       "      <td>100.0</td>\n",
       "      <td>There</td>\n",
       "      <td>games_video</td>\n",
       "      <td>acquired</td>\n",
       "      <td>NaT</td>\n",
       "      <td>NaT</td>\n",
       "      <td>there.com</td>\n",
       "      <td>USA</td>\n",
       "    </tr>\n",
       "    <tr>\n",
       "      <th>5</th>\n",
       "      <td>10000.0</td>\n",
       "      <td>MYWEBBO</td>\n",
       "      <td>network_hosting</td>\n",
       "      <td>operating</td>\n",
       "      <td>2008-07-26</td>\n",
       "      <td>NaT</td>\n",
       "      <td>mywebbo.com</td>\n",
       "      <td>NaN</td>\n",
       "    </tr>\n",
       "    <tr>\n",
       "      <th>6</th>\n",
       "      <td>10001.0</td>\n",
       "      <td>THE Movie Streamer</td>\n",
       "      <td>games_video</td>\n",
       "      <td>operating</td>\n",
       "      <td>2008-07-26</td>\n",
       "      <td>NaT</td>\n",
       "      <td>themoviestreamer.com</td>\n",
       "      <td>NaN</td>\n",
       "    </tr>\n",
       "  </tbody>\n",
       "</table>\n",
       "</div>"
      ],
      "text/plain": [
       "   company_id                name    category_code     status founded_at  \\\n",
       "0         1.0            Wetpaint              web  operating 2005-10-17   \n",
       "3        10.0             Flektor      games_video   acquired        NaT   \n",
       "4       100.0               There      games_video   acquired        NaT   \n",
       "5     10000.0             MYWEBBO  network_hosting  operating 2008-07-26   \n",
       "6     10001.0  THE Movie Streamer      games_video  operating 2008-07-26   \n",
       "\n",
       "  closed_at                domain country_code  \n",
       "0       NaT      wetpaint-inc.com          USA  \n",
       "3       NaT           flektor.com          USA  \n",
       "4       NaT             there.com          USA  \n",
       "5       NaT           mywebbo.com          NaN  \n",
       "6       NaT  themoviestreamer.com          NaN  "
      ]
     },
     "execution_count": 31,
     "metadata": {},
     "output_type": "execute_result"
    }
   ],
   "source": [
    "companies['category_code'] = companies['category_code'].fillna('unknown')\n",
    "companies.head()"
   ]
  },
  {
   "cell_type": "markdown",
   "metadata": {},
   "source": [
    "Удалим пропуски в столбцах `funded_at`(дата раунда) и `raised_amount`(сумма) в таблице `rounds`"
   ]
  },
  {
   "cell_type": "code",
   "execution_count": 32,
   "metadata": {},
   "outputs": [
    {
     "data": {
      "text/html": [
       "<div>\n",
       "<style scoped>\n",
       "    .dataframe tbody tr th:only-of-type {\n",
       "        vertical-align: middle;\n",
       "    }\n",
       "\n",
       "    .dataframe tbody tr th {\n",
       "        vertical-align: top;\n",
       "    }\n",
       "\n",
       "    .dataframe thead th {\n",
       "        text-align: right;\n",
       "    }\n",
       "</style>\n",
       "<table border=\"1\" class=\"dataframe\">\n",
       "  <thead>\n",
       "    <tr style=\"text-align: right;\">\n",
       "      <th></th>\n",
       "      <th>funding_round_id</th>\n",
       "      <th>company_id</th>\n",
       "      <th>funded_at</th>\n",
       "      <th>funding_round_type</th>\n",
       "      <th>raised_amount</th>\n",
       "      <th>participants</th>\n",
       "    </tr>\n",
       "  </thead>\n",
       "  <tbody>\n",
       "    <tr>\n",
       "      <th>0</th>\n",
       "      <td>888.0</td>\n",
       "      <td>1.0</td>\n",
       "      <td>2005-10-01</td>\n",
       "      <td>series-a</td>\n",
       "      <td>5250000.0</td>\n",
       "      <td>2.0</td>\n",
       "    </tr>\n",
       "    <tr>\n",
       "      <th>1</th>\n",
       "      <td>889.0</td>\n",
       "      <td>1.0</td>\n",
       "      <td>2007-01-01</td>\n",
       "      <td>series-b</td>\n",
       "      <td>9500000.0</td>\n",
       "      <td>3.0</td>\n",
       "    </tr>\n",
       "    <tr>\n",
       "      <th>2</th>\n",
       "      <td>2312.0</td>\n",
       "      <td>1.0</td>\n",
       "      <td>2008-05-19</td>\n",
       "      <td>series-c+</td>\n",
       "      <td>25000000.0</td>\n",
       "      <td>4.0</td>\n",
       "    </tr>\n",
       "    <tr>\n",
       "      <th>15</th>\n",
       "      <td>1644.0</td>\n",
       "      <td>1001.0</td>\n",
       "      <td>2008-02-26</td>\n",
       "      <td>series-a</td>\n",
       "      <td>5000000.0</td>\n",
       "      <td>3.0</td>\n",
       "    </tr>\n",
       "    <tr>\n",
       "      <th>20</th>\n",
       "      <td>6682.0</td>\n",
       "      <td>10014.0</td>\n",
       "      <td>2008-09-01</td>\n",
       "      <td>angel</td>\n",
       "      <td>0.0</td>\n",
       "      <td>1.0</td>\n",
       "    </tr>\n",
       "  </tbody>\n",
       "</table>\n",
       "</div>"
      ],
      "text/plain": [
       "    funding_round_id  company_id  funded_at funding_round_type  raised_amount  \\\n",
       "0              888.0         1.0 2005-10-01           series-a      5250000.0   \n",
       "1              889.0         1.0 2007-01-01           series-b      9500000.0   \n",
       "2             2312.0         1.0 2008-05-19          series-c+     25000000.0   \n",
       "15            1644.0      1001.0 2008-02-26           series-a      5000000.0   \n",
       "20            6682.0     10014.0 2008-09-01              angel            0.0   \n",
       "\n",
       "    participants  \n",
       "0            2.0  \n",
       "1            3.0  \n",
       "2            4.0  \n",
       "15           3.0  \n",
       "20           1.0  "
      ]
     },
     "execution_count": 32,
     "metadata": {},
     "output_type": "execute_result"
    }
   ],
   "source": [
    "rounds = rounds.dropna(subset=['funded_at', 'raised_amount'])\n",
    "rounds.head()"
   ]
  },
  {
   "cell_type": "markdown",
   "metadata": {},
   "source": [
    "Подготовили таблицы сохранив их связность и исключили возможные возникающие при этом ошибки разделив на две таблицы(компании и раунды).Подготовили данные так, чтобы удобно было отобрать компании по параметрам и рассчитать показатели из расчёта на одну компанию без промежуточных агрегаций.Теперь можно отбирать компании по категориям и считать показатели в разрезе компании."
   ]
  },
  {
   "cell_type": "markdown",
   "metadata": {
    "id": "bmVYhphNrJg2"
   },
   "source": [
    "\n",
    "## Шаг 3. Исследовательский анализ объединённых таблиц\n"
   ]
  },
  {
   "cell_type": "markdown",
   "metadata": {
    "id": "3Di6tCT3rJg2"
   },
   "source": [
    "\n",
    "### 3.1. Объединение данных\n",
    "\n",
    "Объединим данные для ответа на вопросы заказчика, которые касаются интересующих его компаний. Заказчика прежде всего интересуют те компании, которые меняли или готовы менять владельцев. Получение инвестиций или финансирования, по мнению заказчика, означает интерес к покупке или продаже компании.\n",
    "\n",
    "В качестве основы для объединённой таблицы возьмем данные из обработанного датасета `company_and_rounds.csv` — выберем только те компании, у которых указаны значения `funding_rounds` или `investment_rounds` больше нуля, или те, у которых в колонке `status` указано `acquired`. В результирующей таблице должно получиться порядка 40 тысяч компаний.\n",
    "\n",
    "Проверим полноту и корректность получившейся таблицы. Далее будем работать только с этими данными."
   ]
  },
  {
   "cell_type": "markdown",
   "metadata": {},
   "source": [
    "Используем подготовленные таблицы `companies` и `rounds`"
   ]
  },
  {
   "cell_type": "code",
   "execution_count": 33,
   "metadata": {
    "id": "kuV1b5MXFg3_"
   },
   "outputs": [],
   "source": [
    "# Отбираем компании по критериям\n",
    "target_companies = companies[\n",
    "    (companies['company_id'].isin(rounds['company_id'])) |\n",
    "    (companies['status'] == 'acquired')                    \n",
    "]"
   ]
  },
  {
   "cell_type": "code",
   "execution_count": 34,
   "metadata": {
    "id": "93v3fEX5FgtP"
   },
   "outputs": [
    {
     "name": "stdout",
     "output_type": "stream",
     "text": [
      "Отобрано компаний: 38319\n"
     ]
    }
   ],
   "source": [
    "# Проверяем количество\n",
    "print(f'Отобрано компаний: {len(target_companies)}')"
   ]
  },
  {
   "cell_type": "markdown",
   "metadata": {},
   "source": [
    "Добавляем информацию о раундах\n"
   ]
  },
  {
   "cell_type": "code",
   "execution_count": 35,
   "metadata": {},
   "outputs": [],
   "source": [
    "# Посчитаем количество раундов и сумму привлеченных средств\n",
    "company_stats = rounds.groupby('company_id').agg(\n",
    "    total_rounds = ('funding_round_id', 'count'),\n",
    "    funding_total = ('raised_amount', 'sum')\n",
    ").reset_index()"
   ]
  },
  {
   "cell_type": "code",
   "execution_count": 36,
   "metadata": {},
   "outputs": [],
   "source": [
    "# Объединим с основными данными\n",
    "merged_df = pd.merge(\n",
    "    target_companies,\n",
    "    company_stats,\n",
    "    on ='company_id',\n",
    "    how ='left'\n",
    ")"
   ]
  },
  {
   "cell_type": "code",
   "execution_count": 37,
   "metadata": {},
   "outputs": [],
   "source": [
    "# Заполняем пропуски для acquired\n",
    "merged_df['total_rounds'] = merged_df['total_rounds'].fillna(0)\n",
    "merged_df['total_raised'] = merged_df['funding_total'].fillna(0)"
   ]
  },
  {
   "cell_type": "markdown",
   "metadata": {},
   "source": [
    "Проверим полноту и корректность получившейся таблицы."
   ]
  },
  {
   "cell_type": "code",
   "execution_count": 38,
   "metadata": {},
   "outputs": [
    {
     "name": "stdout",
     "output_type": "stream",
     "text": [
      "operating    68.9\n",
      "acquired     24.5\n",
      "closed        5.3\n",
      "ipo           1.3\n",
      "Name: status, dtype: float64\n"
     ]
    }
   ],
   "source": [
    "# Проверим распределение по статусам\n",
    "statuses = merged_df['status'].value_counts(normalize=True)\n",
    "print(round(statuses * 100,1))"
   ]
  },
  {
   "cell_type": "markdown",
   "metadata": {},
   "source": [
    "**Данные содержат:**\n",
    "\n",
    " - 68.9% operating (действующие компании)\n",
    "\n",
    " - 24.5% acquired (приобретенные компании)\n",
    "\n",
    " - 5.3% closed (закрытые компании)\n",
    "\n",
    " - 1.3% ipo (публичные компании)"
   ]
  },
  {
   "cell_type": "code",
   "execution_count": 39,
   "metadata": {},
   "outputs": [
    {
     "name": "stdout",
     "output_type": "stream",
     "text": [
      "founded_at      11282\n",
      "country_code     4680\n",
      "total_raised        0\n",
      "dtype: int64\n"
     ]
    }
   ],
   "source": [
    "# Проверим пропуски\n",
    "missing = merged_df[['founded_at', 'country_code', 'total_raised']].isna().sum()\n",
    "print(missing)"
   ]
  },
  {
   "cell_type": "markdown",
   "metadata": {},
   "source": [
    "**Пропуски:**\n",
    " - `founded_at` - 11282 пропуска.\n",
    " - `country_code` - 4680 пропусков\n",
    " - `total_raised` - без пропусков      "
   ]
  },
  {
   "cell_type": "markdown",
   "metadata": {},
   "source": [
    "Таблица готова к анализу."
   ]
  },
  {
   "cell_type": "markdown",
   "metadata": {
    "id": "DFHINkV3rJg2"
   },
   "source": [
    "\n",
    "### 3.2. Анализ выбросов\n",
    "\n",
    "Заказчика интересует обычный для рассматриваемого периода размер средств, который предоставлялся компаниям.\n",
    "\n",
    "- По предобработанному столбцу `funding_total` графическим способом оценим, какой размер общего финансирования для одной компании будет типичным, а какой — выбивающимся.\n",
    "- В процессе расчёта значений обратим внимание, например, на показатели, возвращаемые методом `.describe()`, — объясним их. Применимы ли к таким данным обычные способы нахождения типичных значений?"
   ]
  },
  {
   "cell_type": "code",
   "execution_count": 40,
   "metadata": {
    "id": "8jm75fKXrJg2",
    "vscode": {
     "languageId": "plaintext"
    }
   },
   "outputs": [
    {
     "data": {
      "text/plain": [
       "count    3.150700e+04\n",
       "mean     1.308173e+07\n",
       "std      6.389273e+07\n",
       "min      0.000000e+00\n",
       "25%      2.000000e+05\n",
       "50%      1.747668e+06\n",
       "75%      9.300000e+06\n",
       "max      5.700000e+09\n",
       "Name: funding_total, dtype: float64"
      ]
     },
     "execution_count": 40,
     "metadata": {},
     "output_type": "execute_result"
    }
   ],
   "source": [
    "# Показатели describe()\n",
    "merged_df['funding_total'].describe()"
   ]
  },
  {
   "cell_type": "markdown",
   "metadata": {
    "id": "S1jrfr7rFhcw"
   },
   "source": [
    "**Данные несимметричны.**\n",
    " - Средний показатель (13 млн) завышен из-за выбросов\n",
    " - Медиана (1,75 млн) типичный размер финансирования\n",
    " - Максимум (5,7 млрд) явный выброс\n",
    " - Стандартное отклонение (63 млн) огромный разброс\n",
    " \n",
    "Для построения графика найдем ключевые показатели - медиану, границу выбросов, отфильтруем данные"
   ]
  },
  {
   "cell_type": "code",
   "execution_count": 41,
   "metadata": {},
   "outputs": [
    {
     "data": {
      "text/plain": [
       "22950000.0"
      ]
     },
     "execution_count": 41,
     "metadata": {},
     "output_type": "execute_result"
    }
   ],
   "source": [
    "# Найдем границу выбросов с помощью IQR\n",
    "q3 = merged_df['funding_total'].quantile(0.75)  \n",
    "iqr = q3 - merged_df['funding_total'].quantile(0.25) \n",
    "upper_bound = q3 + 1.5 * iqr \n",
    "upper_bound"
   ]
  },
  {
   "cell_type": "code",
   "execution_count": 42,
   "metadata": {},
   "outputs": [
    {
     "data": {
      "text/plain": [
       "1747668.0"
      ]
     },
     "execution_count": 42,
     "metadata": {},
     "output_type": "execute_result"
    }
   ],
   "source": [
    "# Найдем медиану\n",
    "median_data = merged_df['funding_total'].median() \n",
    "median_data"
   ]
  },
  {
   "cell_type": "markdown",
   "metadata": {},
   "source": [
    "Построим графики распределения финансирования и для наглядности отфильтруем данные <= 30 млн"
   ]
  },
  {
   "cell_type": "code",
   "execution_count": 43,
   "metadata": {},
   "outputs": [],
   "source": [
    "# Фильтруем данные \n",
    "filtered_data = merged_df[merged_df['funding_total'] <= 30_000_000]"
   ]
  },
  {
   "cell_type": "code",
   "execution_count": 44,
   "metadata": {},
   "outputs": [
    {
     "data": {
      "image/png": "[encoded data removed]",
      "text/plain": [
       "<Figure size 864x432 with 1 Axes>"
      ]
     },
     "metadata": {
      "needs_background": "light"
     },
     "output_type": "display_data"
    }
   ],
   "source": [
    "# Создаём контейнер графика matplotlib и задаём его размер\n",
    "plt.figure(figsize = (12, 6))\n",
    "\n",
    "# # Строим диаграмму с помощью pandas \n",
    "plt.hist(\n",
    "    filtered_data['funding_total'], \n",
    "    bins = 50, \n",
    "    color ='lightblue', \n",
    "    edgecolor ='black'\n",
    ")\n",
    "\n",
    "# Разметка медианы и верней границы\n",
    "plt.axvline(median_data, color ='red', linestyle = '--', linewidth = 3, \n",
    "            label = f'Медиана')\n",
    "plt.axvline(upper_bound, color = 'orange', linestyle = '--', linewidth = 3, \n",
    "            label = f'Граница выбросов')\n",
    "\n",
    "# Настраиваем оформление графика\n",
    "plt.title('Распределение финансирования (0–30M $)')\n",
    "plt.xlabel('Сумма финансирования')\n",
    "plt.ylabel('Количество компаний')\n",
    "plt.legend()\n",
    "plt.grid(axis = 'y', linestyle = '--', alpha = 0.5)\n",
    "\n",
    "plt.show()"
   ]
  },
  {
   "cell_type": "code",
   "execution_count": 45,
   "metadata": {},
   "outputs": [
    {
     "data": {
      "image/png": "[encoded data removed]",
      "text/plain": [
       "<Figure size 864x432 with 1 Axes>"
      ]
     },
     "metadata": {
      "needs_background": "light"
     },
     "output_type": "display_data"
    }
   ],
   "source": [
    "# Создаём контейнер графика matplotlib и задаём его размер\n",
    "plt.figure(figsize=(12, 6))\n",
    "\n",
    "sns.boxplot(\n",
    "    x='funding_total',\n",
    "    data=filtered_data,\n",
    "    color='lightblue',\n",
    "    width=0.5,\n",
    "    linewidth=1,\n",
    "    flierprops={'marker': 'o','markerfacecolor': 'gray'}\n",
    ")\n",
    "\n",
    "# Разметка медианы и верней границы\n",
    "plt.axvline(median_data, color ='red', linestyle = '--', linewidth = 3, \n",
    "            label = f'Медиана')\n",
    "plt.axvline(upper_bound, color = 'orange', linestyle = '--', linewidth = 3, \n",
    "            label = f'Граница выбросов')\n",
    "\n",
    "\n",
    "# Настраиваем оформление графика\n",
    "plt.title('Распределение финансирования компаний')\n",
    "plt.xlabel('Сумма финансирования')\n",
    "plt.legend()\n",
    "plt.grid(axis = 'x', linestyle = '--', alpha = 0.3)\n",
    "\n",
    "plt.show()"
   ]
  },
  {
   "cell_type": "markdown",
   "metadata": {},
   "source": [
    "Оценим размер общего финансирования. \n",
    "\n",
    "**Типичный размер финансирования**\n",
    " - Медиана: 1.75M\n",
    " - IQR-диапазон: 0,2 млн - 9,3 млн типичный разброс для 50%  компаний\n",
    " \n",
    "**Выбивающийся размер финансирования**\n",
    " - Выбросы более 22 млн.Все что больше это исключительные случаи\n",
    " \n",
    "**Гистограмма:**\n",
    "- Пик в районе 0–2 млн.\n",
    "- Резкий спад после 10 млн.\n",
    "\n",
    "**Boxplot:**\n",
    " - Ящик компактный но усы тянутся далеко."
   ]
  },
  {
   "cell_type": "markdown",
   "metadata": {
    "id": "JqkRAQrIrJg2"
   },
   "source": [
    "\n",
    "### 3.3. Куплены забесплатно?\n",
    "\n",
    "- Исследуем компании, которые были проданы за ноль или за один доллар, и при этом известно, что у них был ненулевой общий объём финансирования.\n",
    "\n",
    "- Рассчитаем аналитически верхнюю и нижнюю границу выбросов для столбца `funding_total` и укажем, каким процентилям границы соответствуют."
   ]
  },
  {
   "cell_type": "markdown",
   "metadata": {},
   "source": [
    "Найдем компании, которые были проданы за ноль или за один доллар. Для этого нам потребуется столбец `price_amount` из таблицы `acquisition.csv`"
   ]
  },
  {
   "cell_type": "code",
   "execution_count": 46,
   "metadata": {
    "id": "wJHXCBwwrJg2",
    "vscode": {
     "languageId": "plaintext"
    }
   },
   "outputs": [],
   "source": [
    "# Нахйдем сделки за 0 или 1 доллар\n",
    "filtered_deals = acquisition_df[acquisition_df['price_amount'].isin([0, 1])]"
   ]
  },
  {
   "cell_type": "code",
   "execution_count": 47,
   "metadata": {},
   "outputs": [],
   "source": [
    "# Соединим с merged_df \n",
    "result_df = pd.merge(\n",
    "    filtered_deals,\n",
    "    merged_df,\n",
    "    left_on = 'acquired_company_id',\n",
    "    right_on = 'company_id',\n",
    "    how = 'inner'\n",
    ")"
   ]
  },
  {
   "cell_type": "code",
   "execution_count": 48,
   "metadata": {},
   "outputs": [],
   "source": [
    "# Фильтруем funding_total > 0\n",
    "filtered_companies = result_df[result_df['funding_total'] > 0]"
   ]
  },
  {
   "cell_type": "code",
   "execution_count": 49,
   "metadata": {},
   "outputs": [
    {
     "name": "stdout",
     "output_type": "stream",
     "text": [
      "Найдено компаний: 1615\n",
      "          name  price_amount  funding_total\n",
      "1       Reddit             0       100000.0\n",
      "12  Maya's Mom             0      1000000.0\n",
      "14     Glimpse             0      4000000.0\n",
      "16    Newsvine             0      1250000.0\n",
      "20   BeliefNet             0      7000000.0\n"
     ]
    }
   ],
   "source": [
    "# Выводим результат\n",
    "print(f'Найдено компаний: {len(filtered_companies)}')\n",
    "print(filtered_companies[['name', 'price_amount', 'funding_total']].head())"
   ]
  },
  {
   "cell_type": "markdown",
   "metadata": {
    "id": "9IDTHfYQFhuX"
   },
   "source": [
    "Теперь рассчитаем верхнюю и нижнюю границу выбросов с помощью IQR для столбца `funding_total` и укажем каким процентилям границы соответствуют."
   ]
  },
  {
   "cell_type": "code",
   "execution_count": 50,
   "metadata": {},
   "outputs": [
    {
     "data": {
      "text/plain": [
       "-18250000.0"
      ]
     },
     "execution_count": 50,
     "metadata": {},
     "output_type": "execute_result"
    }
   ],
   "source": [
    "# Рассчитываем квартили и IQR\n",
    "Q1 = filtered_companies['funding_total'].quantile(0.25)\n",
    "Q3 = filtered_companies['funding_total'].quantile(0.75)\n",
    "IQR = Q3 - Q1\n",
    "\n",
    "# Считаем границы выбросов\n",
    "lower_bound = Q1 - 1.5 * IQR\n",
    "upper_bound = Q3 + 1.5 * IQR\n",
    "lower_bound"
   ]
  },
  {
   "cell_type": "code",
   "execution_count": 51,
   "metadata": {},
   "outputs": [
    {
     "name": "stdout",
     "output_type": "stream",
     "text": [
      "Нижняя граница: -18250000.0 (процентиль: 0.0%)\n",
      "Верхняя граница: 35750000.0 (процентиль: 90.95975232198143%)\n"
     ]
    }
   ],
   "source": [
    "# Посчитаем процентили\n",
    "lower_percentile = (filtered_companies['funding_total'] <= lower_bound).mean() * 100\n",
    "upper_percentile = (filtered_companies['funding_total'] <= upper_bound).mean() * 100\n",
    "\n",
    "print(f'Нижняя граница: {lower_bound} (процентиль: {lower_percentile}%)')\n",
    "print(f'Верхняя граница: {upper_bound} (процентиль: {upper_percentile}%)')"
   ]
  },
  {
   "cell_type": "code",
   "execution_count": 52,
   "metadata": {},
   "outputs": [
    {
     "data": {
      "image/png": "[encoded data removed]",
      "text/plain": [
       "<Figure size 864x432 with 1 Axes>"
      ]
     },
     "metadata": {
      "needs_background": "light"
     },
     "output_type": "display_data"
    }
   ],
   "source": [
    "# Создаём контейнер графика matplotlib и задаём его размер\n",
    "plt.figure(figsize = (12, 6))\n",
    "\n",
    "# Строим график без выбросов для информативности\n",
    "sns.boxplot(x = filtered_companies['funding_total'], \n",
    "            showfliers = False,\n",
    "            color = 'lightblue')\n",
    "\n",
    "# Настраиваем оформление графика\n",
    "plt.title('Распределение funding_total')\n",
    "plt.axvline(lower_bound, color = 'red', linestyle = '--', linewidth = 3, label = f'Нижняя граница')\n",
    "plt.axvline(upper_bound, color = 'orange', linestyle = '--', linewidth = 3, label = f'Верхняя граница')\n",
    "plt.legend()\n",
    "\n",
    "\n",
    "plt.show()"
   ]
  },
  {
   "cell_type": "markdown",
   "metadata": {},
   "source": [
    "**Основное распределение:**\n",
    "\n",
    " - Медианное значение финансирования 6 млн (центральная линия ящика)\n",
    "\n",
    " - 50% компаний получили между Q1 и Q3 (границы ящика)\n",
    "\n",
    " - \"Усы\" показывают типичный диапазон значений без выбросов\n",
    "\n",
    "**Границы выбросов:**\n",
    "\n",
    " - Нижняя граница -18.25 млн. \n",
    "\n",
    " - Верхняя граница 35.75 млн\n",
    "\n",
    "Почему то компании с объемом финансирования более 35.75 млн проданы за 0 или 1 доллар. Возможно компании - банкроты либо поглощение дочерних компаний."
   ]
  },
  {
   "cell_type": "markdown",
   "metadata": {
    "id": "mEiWpROjrJg2"
   },
   "source": [
    "\n",
    "### 3.4. Цены стартапов по категориям\n",
    "\n",
    "Категории стартапов с типично высокими ценами покупки стартапов и значительным разбросом цен могут быть привлекательными для крупных инвесторов, которые готовы к высоким рискам ради потенциально больших доходов. Среди категорий стартапов выделим категории стартапов, характеризующиеся:\n",
    "\n",
    "- типично высокими ценами;\n",
    "- и наибольшим разбросом цен за стартап.\n",
    "\n",
    "Объясним, почему решили составить топ именно из такого числа категорий и почему рассчитывали именно так."
   ]
  },
  {
   "cell_type": "code",
   "execution_count": 53,
   "metadata": {
    "id": "jQ09dYUWrJg2",
    "vscode": {
     "languageId": "plaintext"
    }
   },
   "outputs": [
    {
     "data": {
      "text/plain": [
       "count    9.390000e+03\n",
       "mean     3.939881e+08\n",
       "std      2.684624e+10\n",
       "min      0.000000e+00\n",
       "25%      0.000000e+00\n",
       "50%      0.000000e+00\n",
       "75%      2.362550e+04\n",
       "max      2.600000e+12\n",
       "Name: price_amount, dtype: float64"
      ]
     },
     "execution_count": 53,
     "metadata": {},
     "output_type": "execute_result"
    }
   ],
   "source": [
    "# Объединим датасеты acquisition_df и merged_df\n",
    "full_df = pd.merge(\n",
    "    acquisition_df,\n",
    "    merged_df,\n",
    "    left_on='acquired_company_id',\n",
    "    right_on='company_id',\n",
    "    how='inner'\n",
    ")\n",
    "\n",
    "# Проверим распределение цен\n",
    "full_df['price_amount'].describe()"
   ]
  },
  {
   "cell_type": "markdown",
   "metadata": {},
   "source": [
    "Данные о ценах в столбце `price_amount` содержат аномальные значения - от 0 до 2.6 трлн. Прежде чем ответим на вопросы, очистим данные."
   ]
  },
  {
   "cell_type": "code",
   "execution_count": 54,
   "metadata": {},
   "outputs": [
    {
     "name": "stdout",
     "output_type": "stream",
     "text": [
      "Осталось сделок: 2263 из 9390\n"
     ]
    }
   ],
   "source": [
    "# Фильтруем диапазон цен\n",
    "filtered_df = full_df[\n",
    "    (full_df['price_amount'] > 1) & \n",
    "    (full_df['price_amount'] <= 1_000_000_000)\n",
    "]\n",
    "\n",
    "# Проверяем результат\n",
    "print(f'Осталось сделок: {len(filtered_df)} из {len(full_df)}')"
   ]
  },
  {
   "cell_type": "code",
   "execution_count": 55,
   "metadata": {},
   "outputs": [
    {
     "data": {
      "text/html": [
       "<div>\n",
       "<style scoped>\n",
       "    .dataframe tbody tr th:only-of-type {\n",
       "        vertical-align: middle;\n",
       "    }\n",
       "\n",
       "    .dataframe tbody tr th {\n",
       "        vertical-align: top;\n",
       "    }\n",
       "\n",
       "    .dataframe thead th {\n",
       "        text-align: right;\n",
       "    }\n",
       "</style>\n",
       "<table border=\"1\" class=\"dataframe\">\n",
       "  <thead>\n",
       "    <tr style=\"text-align: right;\">\n",
       "      <th></th>\n",
       "      <th>count</th>\n",
       "      <th>median_price</th>\n",
       "      <th>iqr</th>\n",
       "    </tr>\n",
       "    <tr>\n",
       "      <th>category_code</th>\n",
       "      <th></th>\n",
       "      <th></th>\n",
       "      <th></th>\n",
       "    </tr>\n",
       "  </thead>\n",
       "  <tbody>\n",
       "    <tr>\n",
       "      <th>sports</th>\n",
       "      <td>2</td>\n",
       "      <td>622500000</td>\n",
       "      <td>362500000.0</td>\n",
       "    </tr>\n",
       "    <tr>\n",
       "      <th>nanotech</th>\n",
       "      <td>1</td>\n",
       "      <td>584000000</td>\n",
       "      <td>0.0</td>\n",
       "    </tr>\n",
       "    <tr>\n",
       "      <th>analytics</th>\n",
       "      <td>3</td>\n",
       "      <td>200000000</td>\n",
       "      <td>91500000.0</td>\n",
       "    </tr>\n",
       "    <tr>\n",
       "      <th>fashion</th>\n",
       "      <td>3</td>\n",
       "      <td>195000000</td>\n",
       "      <td>86250000.0</td>\n",
       "    </tr>\n",
       "    <tr>\n",
       "      <th>cleantech</th>\n",
       "      <td>35</td>\n",
       "      <td>167000000</td>\n",
       "      <td>275750000.0</td>\n",
       "    </tr>\n",
       "    <tr>\n",
       "      <th>medical</th>\n",
       "      <td>4</td>\n",
       "      <td>165000000</td>\n",
       "      <td>278375000.0</td>\n",
       "    </tr>\n",
       "    <tr>\n",
       "      <th>security</th>\n",
       "      <td>32</td>\n",
       "      <td>149250000</td>\n",
       "      <td>275625000.0</td>\n",
       "    </tr>\n",
       "    <tr>\n",
       "      <th>ecommerce</th>\n",
       "      <td>49</td>\n",
       "      <td>135000000</td>\n",
       "      <td>336700000.0</td>\n",
       "    </tr>\n",
       "    <tr>\n",
       "      <th>biotech</th>\n",
       "      <td>235</td>\n",
       "      <td>135000000</td>\n",
       "      <td>370000000.0</td>\n",
       "    </tr>\n",
       "    <tr>\n",
       "      <th>finance</th>\n",
       "      <td>16</td>\n",
       "      <td>131500000</td>\n",
       "      <td>218512500.0</td>\n",
       "    </tr>\n",
       "  </tbody>\n",
       "</table>\n",
       "</div>"
      ],
      "text/plain": [
       "               count  median_price          iqr\n",
       "category_code                                  \n",
       "sports             2     622500000  362500000.0\n",
       "nanotech           1     584000000          0.0\n",
       "analytics          3     200000000   91500000.0\n",
       "fashion            3     195000000   86250000.0\n",
       "cleantech         35     167000000  275750000.0\n",
       "medical            4     165000000  278375000.0\n",
       "security          32     149250000  275625000.0\n",
       "ecommerce         49     135000000  336700000.0\n",
       "biotech          235     135000000  370000000.0\n",
       "finance           16     131500000  218512500.0"
      ]
     },
     "execution_count": 55,
     "metadata": {},
     "output_type": "execute_result"
    }
   ],
   "source": [
    "# Создаем пустую таблицу\n",
    "category_stats = pd.DataFrame()\n",
    "\n",
    "# Количество сделок по категориям\n",
    "category_stats['count'] = filtered_df.groupby('category_code').size()\n",
    "\n",
    "# Медианная цена\n",
    "category_stats['median_price'] = filtered_df.groupby('category_code')['price_amount'].median()\n",
    "\n",
    "# Разброс цен \n",
    "q75 = filtered_df.groupby('category_code')['price_amount'].quantile(0.75)\n",
    "q25 = filtered_df.groupby('category_code')['price_amount'].quantile(0.25)\n",
    "category_stats['iqr'] = q75 - q25\n",
    "\n",
    "# Сортируем по медиане\n",
    "category_stats = category_stats.sort_values('median_price', ascending=False)\n",
    "category_stats.head(10)"
   ]
  },
  {
   "cell_type": "code",
   "execution_count": 56,
   "metadata": {},
   "outputs": [
    {
     "name": "stdout",
     "output_type": "stream",
     "text": [
      "Топ-5 категорий по медианной цене:\n"
     ]
    },
    {
     "data": {
      "text/html": [
       "<div>\n",
       "<style scoped>\n",
       "    .dataframe tbody tr th:only-of-type {\n",
       "        vertical-align: middle;\n",
       "    }\n",
       "\n",
       "    .dataframe tbody tr th {\n",
       "        vertical-align: top;\n",
       "    }\n",
       "\n",
       "    .dataframe thead th {\n",
       "        text-align: right;\n",
       "    }\n",
       "</style>\n",
       "<table border=\"1\" class=\"dataframe\">\n",
       "  <thead>\n",
       "    <tr style=\"text-align: right;\">\n",
       "      <th></th>\n",
       "      <th>count</th>\n",
       "      <th>median_price</th>\n",
       "    </tr>\n",
       "    <tr>\n",
       "      <th>category_code</th>\n",
       "      <th></th>\n",
       "      <th></th>\n",
       "    </tr>\n",
       "  </thead>\n",
       "  <tbody>\n",
       "    <tr>\n",
       "      <th>sports</th>\n",
       "      <td>2</td>\n",
       "      <td>622500000</td>\n",
       "    </tr>\n",
       "    <tr>\n",
       "      <th>nanotech</th>\n",
       "      <td>1</td>\n",
       "      <td>584000000</td>\n",
       "    </tr>\n",
       "    <tr>\n",
       "      <th>analytics</th>\n",
       "      <td>3</td>\n",
       "      <td>200000000</td>\n",
       "    </tr>\n",
       "    <tr>\n",
       "      <th>fashion</th>\n",
       "      <td>3</td>\n",
       "      <td>195000000</td>\n",
       "    </tr>\n",
       "    <tr>\n",
       "      <th>cleantech</th>\n",
       "      <td>35</td>\n",
       "      <td>167000000</td>\n",
       "    </tr>\n",
       "  </tbody>\n",
       "</table>\n",
       "</div>"
      ],
      "text/plain": [
       "               count  median_price\n",
       "category_code                     \n",
       "sports             2     622500000\n",
       "nanotech           1     584000000\n",
       "analytics          3     200000000\n",
       "fashion            3     195000000\n",
       "cleantech         35     167000000"
      ]
     },
     "execution_count": 56,
     "metadata": {},
     "output_type": "execute_result"
    }
   ],
   "source": [
    "# Создаем отдельную таблицу для медианных цен\n",
    "median_top = category_stats[['count', 'median_price']].head(5)\n",
    "median_top = median_top.rename(columns={'median_price': 'median_price'})\n",
    "print('Топ-5 категорий по медианной цене:')\n",
    "median_top"
   ]
  },
  {
   "cell_type": "code",
   "execution_count": 57,
   "metadata": {},
   "outputs": [
    {
     "data": {
      "image/png": "[encoded data removed]",
      "text/plain": [
       "<Figure size 864x432 with 1 Axes>"
      ]
     },
     "metadata": {
      "needs_background": "light"
     },
     "output_type": "display_data"
    }
   ],
   "source": [
    "# Создаём контейнер графика  и задаём его размер\n",
    "plt.figure(figsize=(12, 6))\n",
    "\n",
    "# Строим диаграмму \n",
    "ax1 = sns.barplot(\n",
    "    x=median_top.index,\n",
    "    y='median_price',\n",
    "    data=median_top.reset_index(),\n",
    "    palette='viridis'\n",
    ")\n",
    "\n",
    "# Настраиваем оформление графика\n",
    "plt.title('Топ-5 категорий по медианной цене покупки')\n",
    "plt.ylabel('Медианная цена')\n",
    "plt.xlabel('Категория')\n",
    "plt.xticks(rotation=45)\n",
    "plt.grid(axis='y')\n",
    "\n",
    "plt.show()"
   ]
  },
  {
   "cell_type": "code",
   "execution_count": 58,
   "metadata": {},
   "outputs": [
    {
     "name": "stdout",
     "output_type": "stream",
     "text": [
      "Топ-5 категорий по разбросу цен:\n"
     ]
    },
    {
     "data": {
      "text/html": [
       "<div>\n",
       "<style scoped>\n",
       "    .dataframe tbody tr th:only-of-type {\n",
       "        vertical-align: middle;\n",
       "    }\n",
       "\n",
       "    .dataframe tbody tr th {\n",
       "        vertical-align: top;\n",
       "    }\n",
       "\n",
       "    .dataframe thead th {\n",
       "        text-align: right;\n",
       "    }\n",
       "</style>\n",
       "<table border=\"1\" class=\"dataframe\">\n",
       "  <thead>\n",
       "    <tr style=\"text-align: right;\">\n",
       "      <th></th>\n",
       "      <th>count</th>\n",
       "      <th>price_iqr</th>\n",
       "    </tr>\n",
       "    <tr>\n",
       "      <th>category_code</th>\n",
       "      <th></th>\n",
       "      <th></th>\n",
       "    </tr>\n",
       "  </thead>\n",
       "  <tbody>\n",
       "    <tr>\n",
       "      <th>biotech</th>\n",
       "      <td>235</td>\n",
       "      <td>370000000.0</td>\n",
       "    </tr>\n",
       "    <tr>\n",
       "      <th>sports</th>\n",
       "      <td>2</td>\n",
       "      <td>362500000.0</td>\n",
       "    </tr>\n",
       "    <tr>\n",
       "      <th>ecommerce</th>\n",
       "      <td>49</td>\n",
       "      <td>336700000.0</td>\n",
       "    </tr>\n",
       "    <tr>\n",
       "      <th>manufacturing</th>\n",
       "      <td>14</td>\n",
       "      <td>328975000.0</td>\n",
       "    </tr>\n",
       "    <tr>\n",
       "      <th>medical</th>\n",
       "      <td>4</td>\n",
       "      <td>278375000.0</td>\n",
       "    </tr>\n",
       "  </tbody>\n",
       "</table>\n",
       "</div>"
      ],
      "text/plain": [
       "               count    price_iqr\n",
       "category_code                    \n",
       "biotech          235  370000000.0\n",
       "sports             2  362500000.0\n",
       "ecommerce         49  336700000.0\n",
       "manufacturing     14  328975000.0\n",
       "medical            4  278375000.0"
      ]
     },
     "execution_count": 58,
     "metadata": {},
     "output_type": "execute_result"
    }
   ],
   "source": [
    "# Сортируем по IQR и берем первые 5 строк\n",
    "iqr_sorted = category_stats.sort_values('iqr', ascending=False)\n",
    "iqr_top = iqr_sorted[['count', 'iqr']].head(5)\n",
    "iqr_top = iqr_top.rename(columns={'iqr': 'price_iqr'})\n",
    "print('Топ-5 категорий по разбросу цен:')\n",
    "iqr_top"
   ]
  },
  {
   "cell_type": "code",
   "execution_count": 59,
   "metadata": {},
   "outputs": [
    {
     "data": {
      "image/png": "[encoded data removed]",
      "text/plain": [
       "<Figure size 864x432 with 1 Axes>"
      ]
     },
     "metadata": {
      "needs_background": "light"
     },
     "output_type": "display_data"
    }
   ],
   "source": [
    "# Создаём контейнер графика и задаём его размер\n",
    "plt.figure(figsize=(12, 6))\n",
    "\n",
    "# Строим диаграмму \n",
    "ax2 = sns.barplot(\n",
    "    x=iqr_top.index,\n",
    "    y='price_iqr',\n",
    "    data=iqr_top.reset_index(),\n",
    "    palette='viridis'\n",
    ")\n",
    "\n",
    "# Настраиваем оформление графика\n",
    "plt.title('Топ-5 категорий по разбросу цен')\n",
    "plt.ylabel('Разброс цен')\n",
    "plt.xlabel('Категория')\n",
    "plt.xticks(rotation=45)\n",
    "plt.grid(axis='y')\n",
    "\n",
    "plt.show()"
   ]
  },
  {
   "cell_type": "markdown",
   "metadata": {},
   "source": [
    "Объясним, почему решили составить топ именно из такого числа категорий и почему рассчитывали именно так.\n",
    "\n",
    " - Исключили нулевые цены и сделки более 1 млрд для устранения явных аномалий\n",
    " - Выбраны пять категорий для баланса между наглядностью и полнотой данных а также выбор позволяет выявить значимые тренды \n",
    " - Выбрали медиану вместо среднего потому что она устойчива к выбросам(в данных есть выбросы).IQR вместо стандартного отклонения  показывает типичный разброс между 25% и 75% цен\n",
    " "
   ]
  },
  {
   "cell_type": "markdown",
   "metadata": {
    "id": "ADOfyVY_rJg3"
   },
   "source": [
    "\n",
    "### 3.5. Сколько раундов продержится стартап перед покупкой\n",
    "\n",
    "- Необходимо проанализировать столбец `funding_rounds`. Исследуем значения столбца. Заказчика интересует типичное значение количества раундов для каждого возможного статуса стартапа.\n",
    "- Построим график, который отображает, сколько в среднем раундов финансирования проходило для стартапов из каждой группы. Сделаем выводы."
   ]
  },
  {
   "cell_type": "markdown",
   "metadata": {
    "id": "hgXMPC4WrJg3",
    "vscode": {
     "languageId": "plaintext"
    }
   },
   "source": [
    "Для начала сгруппируем компании по статусам и выведем количество, медиану, среднее и межквартильный разброс."
   ]
  },
  {
   "cell_type": "code",
   "execution_count": 60,
   "metadata": {
    "id": "pV3e7kw5Fj1Y"
   },
   "outputs": [
    {
     "data": {
      "text/html": [
       "<div>\n",
       "<style scoped>\n",
       "    .dataframe tbody tr th:only-of-type {\n",
       "        vertical-align: middle;\n",
       "    }\n",
       "\n",
       "    .dataframe tbody tr th {\n",
       "        vertical-align: top;\n",
       "    }\n",
       "\n",
       "    .dataframe thead th {\n",
       "        text-align: right;\n",
       "    }\n",
       "</style>\n",
       "<table border=\"1\" class=\"dataframe\">\n",
       "  <thead>\n",
       "    <tr style=\"text-align: right;\">\n",
       "      <th></th>\n",
       "      <th>Количество</th>\n",
       "      <th>Медиана</th>\n",
       "      <th>Среднее</th>\n",
       "      <th>IQR</th>\n",
       "    </tr>\n",
       "    <tr>\n",
       "      <th>status</th>\n",
       "      <th></th>\n",
       "      <th></th>\n",
       "      <th></th>\n",
       "      <th></th>\n",
       "    </tr>\n",
       "  </thead>\n",
       "  <tbody>\n",
       "    <tr>\n",
       "      <th>ipo</th>\n",
       "      <td>489</td>\n",
       "      <td>2.0</td>\n",
       "      <td>2.529652</td>\n",
       "      <td>2.0</td>\n",
       "    </tr>\n",
       "    <tr>\n",
       "      <th>acquired</th>\n",
       "      <td>2583</td>\n",
       "      <td>1.0</td>\n",
       "      <td>1.896245</td>\n",
       "      <td>1.0</td>\n",
       "    </tr>\n",
       "    <tr>\n",
       "      <th>closed</th>\n",
       "      <td>2027</td>\n",
       "      <td>1.0</td>\n",
       "      <td>1.389245</td>\n",
       "      <td>1.0</td>\n",
       "    </tr>\n",
       "    <tr>\n",
       "      <th>operating</th>\n",
       "      <td>26408</td>\n",
       "      <td>1.0</td>\n",
       "      <td>1.644615</td>\n",
       "      <td>1.0</td>\n",
       "    </tr>\n",
       "  </tbody>\n",
       "</table>\n",
       "</div>"
      ],
      "text/plain": [
       "           Количество  Медиана   Среднее  IQR\n",
       "status                                       \n",
       "ipo               489      2.0  2.529652  2.0\n",
       "acquired         2583      1.0  1.896245  1.0\n",
       "closed           2027      1.0  1.389245  1.0\n",
       "operating       26408      1.0  1.644615  1.0"
      ]
     },
     "execution_count": 60,
     "metadata": {},
     "output_type": "execute_result"
    }
   ],
   "source": [
    "# Отфильтруем компании с раундом более одного\n",
    "full_df = merged_df[merged_df['total_rounds'] >= 1]\n",
    "\n",
    "# Вычислим квантили\n",
    "q25 = full_df.groupby('status')['total_rounds'].quantile(0.25)\n",
    "q75 = full_df.groupby('status')['total_rounds'].quantile(0.75)\n",
    "\n",
    "# Подсчитаем показатели\n",
    "stats = pd.DataFrame({\n",
    "    'Количество': full_df.groupby('status').size(),\n",
    "    'Медиана': full_df.groupby('status')['total_rounds'].median(),\n",
    "    'Среднее': full_df.groupby('status')['total_rounds'].mean(),\n",
    "    'IQR': q75 - q25 \n",
    "}).sort_values('Медиана', ascending=False)\n",
    "stats"
   ]
  },
  {
   "cell_type": "code",
   "execution_count": 61,
   "metadata": {},
   "outputs": [
    {
     "data": {
      "image/png": "[encoded data removed]",
      "text/plain": [
       "<Figure size 864x432 with 1 Axes>"
      ]
     },
     "metadata": {
      "needs_background": "light"
     },
     "output_type": "display_data"
    }
   ],
   "source": [
    "# Создаём контейнер графика matplotlib и задаём его размер\n",
    "plt.figure(figsize = (12, 6))\n",
    "\n",
    "# Строим график\n",
    "sns.boxplot(\n",
    "    x ='status',\n",
    "    y ='total_rounds',\n",
    "    data = full_df,\n",
    "    order = stats.index,\n",
    "    palette = \"viridis\",\n",
    "    showfliers = False\n",
    ")\n",
    "\n",
    "# Настраиваем оформление графика\n",
    "plt.title('Распределение раундов по статусам')\n",
    "plt.xlabel('Статус компании')\n",
    "plt.ylabel('Количество раундов')\n",
    "plt.xticks(rotation=45)\n",
    "plt.grid(axis='y', linestyle='--')\n",
    "\n",
    "plt.show()"
   ]
  },
  {
   "cell_type": "markdown",
   "metadata": {},
   "source": [
    "**Типичное количество раундов:**\n",
    "\n",
    " - `ipo` 2 раунда\n",
    "\n",
    " - `acquired`  1 раунд\n",
    "\n",
    " - `operating`  1 раунд\n",
    "\n",
    " - `closed`  1 раунд\n",
    "\n",
    "**Разброс:**\n",
    "\n",
    " - ipo 2 раунда (от 1 до 3)\n",
    "\n",
    " - Остальные  1 раунд (от 1 до 2)"
   ]
  },
  {
   "cell_type": "markdown",
   "metadata": {
    "id": "VAFEZ2HBrJg3"
   },
   "source": [
    "\n",
    "## Шаг 4. Итоговый вывод и рекомендации\n",
    "\n",
    "**Отбор и объединение данных:**\n",
    "\n",
    " - Выделены компании с ненулевым финансированием (`funding_rounds > 0`) или статусом `acquired` (38319 стартапов).\n",
    "\n",
    " - Проверена корректность данных (пропуски, дубликаты, аномалии).\n",
    "\n",
    "**Анализ выбросов в финансировании:**\n",
    "\n",
    " - Определены типичные диапазоны `funding_total` (медиана, перцентили).\n",
    "\n",
    " - Выявлены аномалии: компании с высоким финансированием, но продажей за 0/1 (возможные ошибки или специфические сделки).\n",
    "\n",
    "**Категории стартапов с высокой ценой и разбросом:**\n",
    "\n",
    " - Найдены отрасли с самыми высокими средними ценами покупки (например `sports, nanotech, analytics`).\n",
    "\n",
    " - Выделены категории с максимальным разбросом цен (например `biotech, sports, ecommerce`) что указывает на высокие риски/доходы.\n",
    "\n",
    "**Анализ раундов финансирования:**\n",
    "\n",
    " - Компании с `ipo` (публичные) проходят достоверно больше раундов (медиана = 2.0).\n",
    "\n",
    " - `acquired` и `closed` почти идентичны по числу раундов.\n",
    "\n",
    " - Возможно, количество раундов не является ключевым фактором для продажи компании.\n",
    " \n",
    "Компании с финансированием чаще меняют владельцев (`acquired`) но не все сделки логичны например  продажи за 1млн при миллионных инвестициях.\n",
    "\n",
    "Связь между количеством раундов и статусом `acquired` есть, но требуется уточнение.Возможно раунды это не причина а следствие успешности.\n",
    " \n",
    "**Рекомендации:**\n",
    " - Проверить аномальные сделки (продажи за 0/1) на корректность.\n",
    "\n",
    " - Инвестировать в стартапы из топовых категорий (например `sports`).\n",
    "\n",
    " - Изучить причины разброса цен в отраслях."
   ]
  },
  {
   "cell_type": "code",
   "execution_count": null,
   "metadata": {},
   "outputs": [],
   "source": []
  }
 ],
 "metadata": {
  "ExecuteTimeLog": [
   {
    "duration": 3583,
    "start_time": "2025-04-21T06:51:24.718Z"
   },
   {
    "duration": 1337,
    "start_time": "2025-04-21T06:51:28.304Z"
   },
   {
    "duration": 1913,
    "start_time": "2025-04-21T06:51:29.643Z"
   },
   {
    "duration": 109,
    "start_time": "2025-04-21T06:51:31.557Z"
   },
   {
    "duration": 6,
    "start_time": "2025-04-21T06:52:28.000Z"
   },
   {
    "duration": 105,
    "start_time": "2025-04-21T06:55:04.064Z"
   },
   {
    "duration": 3,
    "start_time": "2025-04-21T06:56:05.333Z"
   },
   {
    "duration": 79,
    "start_time": "2025-04-21T06:56:38.441Z"
   },
   {
    "duration": 3,
    "start_time": "2025-04-21T06:56:55.944Z"
   },
   {
    "duration": 3,
    "start_time": "2025-04-21T06:57:43.522Z"
   },
   {
    "duration": 4,
    "start_time": "2025-04-21T06:58:04.441Z"
   },
   {
    "duration": 4,
    "start_time": "2025-04-21T06:58:22.450Z"
   },
   {
    "duration": 5,
    "start_time": "2025-04-21T06:59:23.930Z"
   },
   {
    "duration": 5,
    "start_time": "2025-04-21T07:00:22.323Z"
   },
   {
    "duration": 5,
    "start_time": "2025-04-21T07:07:48.348Z"
   },
   {
    "duration": 5,
    "start_time": "2025-04-21T07:07:57.092Z"
   },
   {
    "duration": 181,
    "start_time": "2025-04-21T07:09:30.556Z"
   },
   {
    "duration": 187,
    "start_time": "2025-04-21T07:12:49.917Z"
   },
   {
    "duration": 4,
    "start_time": "2025-04-21T07:20:34.743Z"
   },
   {
    "duration": 5,
    "start_time": "2025-04-21T07:29:04.354Z"
   },
   {
    "duration": 2554,
    "start_time": "2025-04-21T07:32:22.605Z"
   },
   {
    "duration": 1286,
    "start_time": "2025-04-21T07:32:25.162Z"
   },
   {
    "duration": 1991,
    "start_time": "2025-04-21T07:32:26.450Z"
   },
   {
    "duration": 6,
    "start_time": "2025-04-21T07:32:28.443Z"
   },
   {
    "duration": 5,
    "start_time": "2025-04-21T07:32:28.462Z"
   },
   {
    "duration": 196,
    "start_time": "2025-04-21T07:32:28.468Z"
   },
   {
    "duration": 13,
    "start_time": "2025-04-21T08:02:19.425Z"
   },
   {
    "duration": 1499,
    "start_time": "2025-04-21T08:02:46.762Z"
   },
   {
    "duration": 32,
    "start_time": "2025-04-21T08:02:56.995Z"
   },
   {
    "duration": 2534,
    "start_time": "2025-04-21T08:03:11.173Z"
   },
   {
    "duration": 1241,
    "start_time": "2025-04-21T08:03:13.710Z"
   },
   {
    "duration": 3415,
    "start_time": "2025-04-21T08:03:14.954Z"
   },
   {
    "duration": 6,
    "start_time": "2025-04-21T08:03:18.371Z"
   },
   {
    "duration": 9,
    "start_time": "2025-04-21T08:03:18.379Z"
   },
   {
    "duration": 205,
    "start_time": "2025-04-21T08:03:18.390Z"
   },
   {
    "duration": 8,
    "start_time": "2025-04-21T08:03:18.596Z"
   },
   {
    "duration": 193,
    "start_time": "2025-04-21T08:03:18.606Z"
   },
   {
    "duration": 23,
    "start_time": "2025-04-21T08:15:00.291Z"
   },
   {
    "duration": 2430,
    "start_time": "2025-04-21T08:23:20.318Z"
   },
   {
    "duration": 1300,
    "start_time": "2025-04-21T08:23:22.750Z"
   },
   {
    "duration": 2021,
    "start_time": "2025-04-21T08:23:24.052Z"
   },
   {
    "duration": 6,
    "start_time": "2025-04-21T08:23:26.075Z"
   },
   {
    "duration": 12,
    "start_time": "2025-04-21T08:23:26.083Z"
   },
   {
    "duration": 187,
    "start_time": "2025-04-21T08:23:26.097Z"
   },
   {
    "duration": 7,
    "start_time": "2025-04-21T08:23:26.286Z"
   },
   {
    "duration": 164,
    "start_time": "2025-04-21T08:23:26.295Z"
   },
   {
    "duration": 20,
    "start_time": "2025-04-21T08:23:26.461Z"
   },
   {
    "duration": 8,
    "start_time": "2025-04-21T08:48:44.808Z"
   },
   {
    "duration": 14,
    "start_time": "2025-04-21T08:49:19.287Z"
   },
   {
    "duration": 21,
    "start_time": "2025-04-21T08:49:51.632Z"
   },
   {
    "duration": 23,
    "start_time": "2025-04-21T08:49:59.223Z"
   },
   {
    "duration": 14,
    "start_time": "2025-04-21T08:50:12.559Z"
   },
   {
    "duration": 97,
    "start_time": "2025-04-21T08:51:28.216Z"
   },
   {
    "duration": 1127,
    "start_time": "2025-04-21T08:52:03.434Z"
   },
   {
    "duration": 39,
    "start_time": "2025-04-21T08:52:22.274Z"
   },
   {
    "duration": 40,
    "start_time": "2025-04-21T08:54:07.833Z"
   },
   {
    "duration": 30,
    "start_time": "2025-04-21T08:54:19.698Z"
   },
   {
    "duration": 23,
    "start_time": "2025-04-21T08:55:27.138Z"
   },
   {
    "duration": 24,
    "start_time": "2025-04-21T08:55:46.923Z"
   },
   {
    "duration": 25,
    "start_time": "2025-04-21T08:56:07.610Z"
   },
   {
    "duration": 2455,
    "start_time": "2025-04-21T08:56:40.822Z"
   },
   {
    "duration": 1263,
    "start_time": "2025-04-21T08:56:43.279Z"
   },
   {
    "duration": 2789,
    "start_time": "2025-04-21T08:56:44.544Z"
   },
   {
    "duration": 6,
    "start_time": "2025-04-21T08:56:47.336Z"
   },
   {
    "duration": 20,
    "start_time": "2025-04-21T08:56:47.345Z"
   },
   {
    "duration": 196,
    "start_time": "2025-04-21T08:56:47.367Z"
   },
   {
    "duration": 8,
    "start_time": "2025-04-21T08:56:47.564Z"
   },
   {
    "duration": 173,
    "start_time": "2025-04-21T08:56:47.573Z"
   },
   {
    "duration": 17,
    "start_time": "2025-04-21T08:56:47.748Z"
   },
   {
    "duration": 22,
    "start_time": "2025-04-21T08:56:47.767Z"
   },
   {
    "duration": 74,
    "start_time": "2025-04-21T08:56:47.791Z"
   },
   {
    "duration": 20,
    "start_time": "2025-04-21T09:07:33.276Z"
   },
   {
    "duration": 15,
    "start_time": "2025-04-21T09:09:24.203Z"
   },
   {
    "duration": 14,
    "start_time": "2025-04-21T09:09:42.147Z"
   },
   {
    "duration": 16,
    "start_time": "2025-04-21T09:10:39.646Z"
   },
   {
    "duration": 15,
    "start_time": "2025-04-21T09:10:47.403Z"
   },
   {
    "duration": 2596,
    "start_time": "2025-04-21T09:13:03.227Z"
   },
   {
    "duration": 1226,
    "start_time": "2025-04-21T09:13:05.825Z"
   },
   {
    "duration": 2737,
    "start_time": "2025-04-21T09:13:07.053Z"
   },
   {
    "duration": 6,
    "start_time": "2025-04-21T09:13:09.792Z"
   },
   {
    "duration": 9,
    "start_time": "2025-04-21T09:13:09.800Z"
   },
   {
    "duration": 203,
    "start_time": "2025-04-21T09:13:09.811Z"
   },
   {
    "duration": 7,
    "start_time": "2025-04-21T09:13:10.016Z"
   },
   {
    "duration": 183,
    "start_time": "2025-04-21T09:13:10.025Z"
   },
   {
    "duration": 19,
    "start_time": "2025-04-21T09:13:10.209Z"
   },
   {
    "duration": 35,
    "start_time": "2025-04-21T09:13:10.230Z"
   },
   {
    "duration": 29,
    "start_time": "2025-04-21T09:13:10.267Z"
   },
   {
    "duration": 16,
    "start_time": "2025-04-21T09:13:10.298Z"
   },
   {
    "duration": 2656,
    "start_time": "2025-04-21T09:15:11.814Z"
   },
   {
    "duration": 1381,
    "start_time": "2025-04-21T09:15:14.474Z"
   },
   {
    "duration": 2069,
    "start_time": "2025-04-21T09:15:15.857Z"
   },
   {
    "duration": 5,
    "start_time": "2025-04-21T09:15:17.929Z"
   },
   {
    "duration": 38,
    "start_time": "2025-04-21T09:15:17.937Z"
   },
   {
    "duration": 225,
    "start_time": "2025-04-21T09:15:17.977Z"
   },
   {
    "duration": 7,
    "start_time": "2025-04-21T09:15:18.204Z"
   },
   {
    "duration": 178,
    "start_time": "2025-04-21T09:15:18.214Z"
   },
   {
    "duration": 18,
    "start_time": "2025-04-21T09:15:18.394Z"
   },
   {
    "duration": 24,
    "start_time": "2025-04-21T09:15:18.414Z"
   },
   {
    "duration": 52,
    "start_time": "2025-04-21T09:15:18.439Z"
   },
   {
    "duration": 12,
    "start_time": "2025-04-21T09:15:18.493Z"
   },
   {
    "duration": 10,
    "start_time": "2025-04-21T09:15:18.506Z"
   },
   {
    "duration": 114,
    "start_time": "2025-04-21T09:18:05.385Z"
   },
   {
    "duration": 1024,
    "start_time": "2025-04-21T09:18:22.865Z"
   },
   {
    "duration": 1075,
    "start_time": "2025-04-21T09:19:23.371Z"
   },
   {
    "duration": 2606,
    "start_time": "2025-04-21T09:20:06.964Z"
   },
   {
    "duration": 1309,
    "start_time": "2025-04-21T09:20:09.573Z"
   },
   {
    "duration": 3003,
    "start_time": "2025-04-21T09:20:10.884Z"
   },
   {
    "duration": 6,
    "start_time": "2025-04-21T09:20:13.888Z"
   },
   {
    "duration": 11,
    "start_time": "2025-04-21T09:20:13.896Z"
   },
   {
    "duration": 197,
    "start_time": "2025-04-21T09:20:13.908Z"
   },
   {
    "duration": 7,
    "start_time": "2025-04-21T09:20:14.107Z"
   },
   {
    "duration": 186,
    "start_time": "2025-04-21T09:20:14.116Z"
   },
   {
    "duration": 18,
    "start_time": "2025-04-21T09:20:14.304Z"
   },
   {
    "duration": 21,
    "start_time": "2025-04-21T09:20:14.324Z"
   },
   {
    "duration": 44,
    "start_time": "2025-04-21T09:20:14.347Z"
   },
   {
    "duration": 10,
    "start_time": "2025-04-21T09:20:14.392Z"
   },
   {
    "duration": 11,
    "start_time": "2025-04-21T09:20:14.404Z"
   },
   {
    "duration": 208,
    "start_time": "2025-04-21T09:20:14.417Z"
   },
   {
    "duration": 169,
    "start_time": "2025-04-21T09:27:28.448Z"
   },
   {
    "duration": 162,
    "start_time": "2025-04-21T09:27:48.706Z"
   },
   {
    "duration": 182,
    "start_time": "2025-04-21T09:28:03.994Z"
   },
   {
    "duration": 170,
    "start_time": "2025-04-21T09:28:13.209Z"
   },
   {
    "duration": 175,
    "start_time": "2025-04-21T09:28:51.290Z"
   },
   {
    "duration": 189,
    "start_time": "2025-04-21T09:29:24.193Z"
   },
   {
    "duration": 259,
    "start_time": "2025-04-21T09:29:54.082Z"
   },
   {
    "duration": 161,
    "start_time": "2025-04-21T09:30:09.687Z"
   },
   {
    "duration": 7,
    "start_time": "2025-04-21T09:31:03.794Z"
   },
   {
    "duration": 2563,
    "start_time": "2025-04-21T09:32:01.433Z"
   },
   {
    "duration": 1250,
    "start_time": "2025-04-21T09:32:03.999Z"
   },
   {
    "duration": 4316,
    "start_time": "2025-04-21T09:32:05.251Z"
   },
   {
    "duration": 6,
    "start_time": "2025-04-21T09:32:09.569Z"
   },
   {
    "duration": 7,
    "start_time": "2025-04-21T09:32:09.577Z"
   },
   {
    "duration": 220,
    "start_time": "2025-04-21T09:32:09.586Z"
   },
   {
    "duration": 8,
    "start_time": "2025-04-21T09:32:09.808Z"
   },
   {
    "duration": 193,
    "start_time": "2025-04-21T09:32:09.818Z"
   },
   {
    "duration": 18,
    "start_time": "2025-04-21T09:32:10.013Z"
   },
   {
    "duration": 35,
    "start_time": "2025-04-21T09:32:10.033Z"
   },
   {
    "duration": 43,
    "start_time": "2025-04-21T09:32:10.069Z"
   },
   {
    "duration": 10,
    "start_time": "2025-04-21T09:32:10.114Z"
   },
   {
    "duration": 54,
    "start_time": "2025-04-21T09:32:10.126Z"
   },
   {
    "duration": 186,
    "start_time": "2025-04-21T09:32:10.183Z"
   },
   {
    "duration": 167,
    "start_time": "2025-04-21T09:32:38.555Z"
   },
   {
    "duration": 3505,
    "start_time": "2025-04-21T16:12:51.512Z"
   },
   {
    "duration": 1462,
    "start_time": "2025-04-21T16:12:55.020Z"
   },
   {
    "duration": 2121,
    "start_time": "2025-04-21T16:12:56.485Z"
   },
   {
    "duration": 5,
    "start_time": "2025-04-21T16:12:58.609Z"
   },
   {
    "duration": 23,
    "start_time": "2025-04-21T16:12:58.615Z"
   },
   {
    "duration": 185,
    "start_time": "2025-04-21T16:12:58.639Z"
   },
   {
    "duration": 8,
    "start_time": "2025-04-21T16:12:58.825Z"
   },
   {
    "duration": 174,
    "start_time": "2025-04-21T16:12:58.835Z"
   },
   {
    "duration": 19,
    "start_time": "2025-04-21T16:12:59.011Z"
   },
   {
    "duration": 24,
    "start_time": "2025-04-21T16:12:59.032Z"
   },
   {
    "duration": 47,
    "start_time": "2025-04-21T16:12:59.057Z"
   },
   {
    "duration": 11,
    "start_time": "2025-04-21T16:12:59.105Z"
   },
   {
    "duration": 46,
    "start_time": "2025-04-21T16:12:59.118Z"
   },
   {
    "duration": 178,
    "start_time": "2025-04-21T16:12:59.166Z"
   },
   {
    "duration": 45,
    "start_time": "2025-04-21T16:12:59.346Z"
   },
   {
    "duration": 38,
    "start_time": "2025-04-21T16:13:59.653Z"
   },
   {
    "duration": 39,
    "start_time": "2025-04-21T16:14:04.916Z"
   },
   {
    "duration": 48,
    "start_time": "2025-04-21T16:15:30.808Z"
   },
   {
    "duration": 57,
    "start_time": "2025-04-21T16:15:55.893Z"
   },
   {
    "duration": 2603,
    "start_time": "2025-04-21T16:28:49.804Z"
   },
   {
    "duration": 1299,
    "start_time": "2025-04-21T16:28:52.410Z"
   },
   {
    "duration": 2151,
    "start_time": "2025-04-21T16:28:53.711Z"
   },
   {
    "duration": 11,
    "start_time": "2025-04-21T16:28:55.864Z"
   },
   {
    "duration": 6,
    "start_time": "2025-04-21T16:28:55.878Z"
   },
   {
    "duration": 218,
    "start_time": "2025-04-21T16:28:55.886Z"
   },
   {
    "duration": 9,
    "start_time": "2025-04-21T16:28:56.106Z"
   },
   {
    "duration": 184,
    "start_time": "2025-04-21T16:28:56.117Z"
   },
   {
    "duration": 19,
    "start_time": "2025-04-21T16:28:56.303Z"
   },
   {
    "duration": 23,
    "start_time": "2025-04-21T16:28:56.323Z"
   },
   {
    "duration": 48,
    "start_time": "2025-04-21T16:28:56.347Z"
   },
   {
    "duration": 36,
    "start_time": "2025-04-21T16:28:56.397Z"
   },
   {
    "duration": 27,
    "start_time": "2025-04-21T16:28:56.435Z"
   },
   {
    "duration": 188,
    "start_time": "2025-04-21T16:28:56.464Z"
   },
   {
    "duration": 59,
    "start_time": "2025-04-21T16:28:56.654Z"
   },
   {
    "duration": 64,
    "start_time": "2025-04-21T16:28:56.715Z"
   },
   {
    "duration": 18,
    "start_time": "2025-04-21T16:28:56.781Z"
   },
   {
    "duration": 24,
    "start_time": "2025-04-21T16:29:31.201Z"
   },
   {
    "duration": 4,
    "start_time": "2025-04-21T16:35:44.621Z"
   },
   {
    "duration": 2596,
    "start_time": "2025-04-21T16:42:51.445Z"
   },
   {
    "duration": 1251,
    "start_time": "2025-04-21T16:42:54.043Z"
   },
   {
    "duration": 2390,
    "start_time": "2025-04-21T16:42:55.299Z"
   },
   {
    "duration": 6,
    "start_time": "2025-04-21T16:42:57.691Z"
   },
   {
    "duration": 10,
    "start_time": "2025-04-21T16:42:57.699Z"
   },
   {
    "duration": 205,
    "start_time": "2025-04-21T16:42:57.711Z"
   },
   {
    "duration": 8,
    "start_time": "2025-04-21T16:42:57.917Z"
   },
   {
    "duration": 189,
    "start_time": "2025-04-21T16:42:57.927Z"
   },
   {
    "duration": 21,
    "start_time": "2025-04-21T16:42:58.118Z"
   },
   {
    "duration": 35,
    "start_time": "2025-04-21T16:42:58.141Z"
   },
   {
    "duration": 34,
    "start_time": "2025-04-21T16:42:58.178Z"
   },
   {
    "duration": 13,
    "start_time": "2025-04-21T16:42:58.213Z"
   },
   {
    "duration": 10,
    "start_time": "2025-04-21T16:42:58.228Z"
   },
   {
    "duration": 204,
    "start_time": "2025-04-21T16:42:58.240Z"
   },
   {
    "duration": 61,
    "start_time": "2025-04-21T16:42:58.447Z"
   },
   {
    "duration": 40,
    "start_time": "2025-04-21T16:42:58.510Z"
   },
   {
    "duration": 24,
    "start_time": "2025-04-21T16:42:58.552Z"
   },
   {
    "duration": 26,
    "start_time": "2025-04-21T16:42:58.578Z"
   },
   {
    "duration": 16,
    "start_time": "2025-04-21T16:42:58.606Z"
   },
   {
    "duration": 9,
    "start_time": "2025-04-21T16:42:58.624Z"
   },
   {
    "duration": 8,
    "start_time": "2025-04-21T16:45:02.103Z"
   },
   {
    "duration": 51,
    "start_time": "2025-04-21T16:56:43.398Z"
   },
   {
    "duration": 2544,
    "start_time": "2025-04-21T16:58:38.713Z"
   },
   {
    "duration": 1288,
    "start_time": "2025-04-21T16:58:41.260Z"
   },
   {
    "duration": 2261,
    "start_time": "2025-04-21T16:58:42.549Z"
   },
   {
    "duration": 6,
    "start_time": "2025-04-21T16:58:44.812Z"
   },
   {
    "duration": 17,
    "start_time": "2025-04-21T16:58:44.820Z"
   },
   {
    "duration": 196,
    "start_time": "2025-04-21T16:58:44.838Z"
   },
   {
    "duration": 8,
    "start_time": "2025-04-21T16:58:45.036Z"
   },
   {
    "duration": 257,
    "start_time": "2025-04-21T16:58:45.046Z"
   },
   {
    "duration": 20,
    "start_time": "2025-04-21T16:58:45.305Z"
   },
   {
    "duration": 90,
    "start_time": "2025-04-21T16:58:45.327Z"
   },
   {
    "duration": 32,
    "start_time": "2025-04-21T16:58:45.419Z"
   },
   {
    "duration": 25,
    "start_time": "2025-04-21T16:58:45.453Z"
   },
   {
    "duration": 25,
    "start_time": "2025-04-21T16:58:45.480Z"
   },
   {
    "duration": 184,
    "start_time": "2025-04-21T16:58:45.508Z"
   },
   {
    "duration": 48,
    "start_time": "2025-04-21T16:58:45.694Z"
   },
   {
    "duration": 56,
    "start_time": "2025-04-21T16:58:45.744Z"
   },
   {
    "duration": 10,
    "start_time": "2025-04-21T16:58:45.802Z"
   },
   {
    "duration": 169,
    "start_time": "2025-04-21T16:58:45.814Z"
   },
   {
    "duration": 89,
    "start_time": "2025-04-21T16:58:45.984Z"
   },
   {
    "duration": 38,
    "start_time": "2025-04-21T16:58:46.074Z"
   },
   {
    "duration": 4,
    "start_time": "2025-04-21T16:58:46.114Z"
   },
   {
    "duration": 14,
    "start_time": "2025-04-21T16:58:46.120Z"
   },
   {
    "duration": 12,
    "start_time": "2025-04-21T17:00:18.529Z"
   },
   {
    "duration": 9,
    "start_time": "2025-04-21T17:04:42.896Z"
   },
   {
    "duration": 16,
    "start_time": "2025-04-21T17:09:12.772Z"
   },
   {
    "duration": 107,
    "start_time": "2025-04-21T17:10:28.612Z"
   },
   {
    "duration": 48,
    "start_time": "2025-04-21T17:10:42.532Z"
   },
   {
    "duration": 2596,
    "start_time": "2025-04-21T17:11:11.198Z"
   },
   {
    "duration": 1275,
    "start_time": "2025-04-21T17:11:13.797Z"
   },
   {
    "duration": 2816,
    "start_time": "2025-04-21T17:11:15.074Z"
   },
   {
    "duration": 5,
    "start_time": "2025-04-21T17:11:17.893Z"
   },
   {
    "duration": 27,
    "start_time": "2025-04-21T17:11:17.900Z"
   },
   {
    "duration": 198,
    "start_time": "2025-04-21T17:11:17.928Z"
   },
   {
    "duration": 8,
    "start_time": "2025-04-21T17:11:18.128Z"
   },
   {
    "duration": 173,
    "start_time": "2025-04-21T17:11:18.137Z"
   },
   {
    "duration": 19,
    "start_time": "2025-04-21T17:11:18.311Z"
   },
   {
    "duration": 39,
    "start_time": "2025-04-21T17:11:18.333Z"
   },
   {
    "duration": 33,
    "start_time": "2025-04-21T17:11:18.374Z"
   },
   {
    "duration": 13,
    "start_time": "2025-04-21T17:11:18.410Z"
   },
   {
    "duration": 12,
    "start_time": "2025-04-21T17:11:18.424Z"
   },
   {
    "duration": 196,
    "start_time": "2025-04-21T17:11:18.439Z"
   },
   {
    "duration": 55,
    "start_time": "2025-04-21T17:11:18.637Z"
   },
   {
    "duration": 70,
    "start_time": "2025-04-21T17:11:18.694Z"
   },
   {
    "duration": 11,
    "start_time": "2025-04-21T17:11:18.766Z"
   },
   {
    "duration": 10,
    "start_time": "2025-04-21T17:11:18.779Z"
   },
   {
    "duration": 36,
    "start_time": "2025-04-21T17:11:18.790Z"
   },
   {
    "duration": 43,
    "start_time": "2025-04-21T17:11:18.828Z"
   },
   {
    "duration": 19,
    "start_time": "2025-04-21T17:11:18.873Z"
   },
   {
    "duration": 28,
    "start_time": "2025-04-21T17:11:18.894Z"
   },
   {
    "duration": 7,
    "start_time": "2025-04-21T17:19:12.209Z"
   },
   {
    "duration": 3640,
    "start_time": "2025-04-22T04:57:45.023Z"
   },
   {
    "duration": 1483,
    "start_time": "2025-04-22T04:57:48.665Z"
   },
   {
    "duration": 2504,
    "start_time": "2025-04-22T04:57:50.153Z"
   },
   {
    "duration": 5,
    "start_time": "2025-04-22T04:57:52.660Z"
   },
   {
    "duration": 76,
    "start_time": "2025-04-22T04:57:52.666Z"
   },
   {
    "duration": 193,
    "start_time": "2025-04-22T04:57:52.746Z"
   },
   {
    "duration": 8,
    "start_time": "2025-04-22T04:57:52.940Z"
   },
   {
    "duration": 177,
    "start_time": "2025-04-22T04:57:52.950Z"
   },
   {
    "duration": 33,
    "start_time": "2025-04-22T04:57:53.129Z"
   },
   {
    "duration": 22,
    "start_time": "2025-04-22T04:57:53.164Z"
   },
   {
    "duration": 29,
    "start_time": "2025-04-22T04:57:53.187Z"
   },
   {
    "duration": 16,
    "start_time": "2025-04-22T04:57:53.236Z"
   },
   {
    "duration": 10,
    "start_time": "2025-04-22T04:57:53.255Z"
   },
   {
    "duration": 197,
    "start_time": "2025-04-22T04:57:53.266Z"
   },
   {
    "duration": 43,
    "start_time": "2025-04-22T04:57:53.464Z"
   },
   {
    "duration": 52,
    "start_time": "2025-04-22T04:57:53.509Z"
   },
   {
    "duration": 9,
    "start_time": "2025-04-22T04:57:53.562Z"
   },
   {
    "duration": 8,
    "start_time": "2025-04-22T04:57:53.573Z"
   },
   {
    "duration": 9,
    "start_time": "2025-04-22T04:57:53.582Z"
   },
   {
    "duration": 44,
    "start_time": "2025-04-22T04:57:53.593Z"
   },
   {
    "duration": 14,
    "start_time": "2025-04-22T04:57:53.640Z"
   },
   {
    "duration": 11,
    "start_time": "2025-04-22T04:57:53.657Z"
   },
   {
    "duration": 43,
    "start_time": "2025-04-22T04:57:53.670Z"
   },
   {
    "duration": 2597,
    "start_time": "2025-04-22T05:01:01.227Z"
   },
   {
    "duration": 1298,
    "start_time": "2025-04-22T05:01:03.826Z"
   },
   {
    "duration": 2124,
    "start_time": "2025-04-22T05:01:05.125Z"
   },
   {
    "duration": 6,
    "start_time": "2025-04-22T05:01:07.251Z"
   },
   {
    "duration": 11,
    "start_time": "2025-04-22T05:01:07.259Z"
   },
   {
    "duration": 204,
    "start_time": "2025-04-22T05:01:07.272Z"
   },
   {
    "duration": 7,
    "start_time": "2025-04-22T05:01:07.478Z"
   },
   {
    "duration": 178,
    "start_time": "2025-04-22T05:01:07.487Z"
   },
   {
    "duration": 17,
    "start_time": "2025-04-22T05:01:07.668Z"
   },
   {
    "duration": 24,
    "start_time": "2025-04-22T05:01:07.687Z"
   },
   {
    "duration": 46,
    "start_time": "2025-04-22T05:01:07.713Z"
   },
   {
    "duration": 10,
    "start_time": "2025-04-22T05:01:07.760Z"
   },
   {
    "duration": 10,
    "start_time": "2025-04-22T05:01:07.772Z"
   },
   {
    "duration": 201,
    "start_time": "2025-04-22T05:01:07.784Z"
   },
   {
    "duration": 55,
    "start_time": "2025-04-22T05:01:07.987Z"
   },
   {
    "duration": 38,
    "start_time": "2025-04-22T05:01:08.044Z"
   },
   {
    "duration": 10,
    "start_time": "2025-04-22T05:01:08.084Z"
   },
   {
    "duration": 5,
    "start_time": "2025-04-22T05:01:08.096Z"
   },
   {
    "duration": 44,
    "start_time": "2025-04-22T05:01:08.102Z"
   },
   {
    "duration": 32,
    "start_time": "2025-04-22T05:01:08.148Z"
   },
   {
    "duration": 70,
    "start_time": "2025-04-22T05:01:08.181Z"
   },
   {
    "duration": 16,
    "start_time": "2025-04-22T05:01:08.253Z"
   },
   {
    "duration": 63,
    "start_time": "2025-04-22T05:01:08.271Z"
   },
   {
    "duration": 0,
    "start_time": "2025-04-22T05:01:08.336Z"
   },
   {
    "duration": 48,
    "start_time": "2025-04-22T05:02:05.525Z"
   },
   {
    "duration": 59,
    "start_time": "2025-04-22T05:02:14.357Z"
   },
   {
    "duration": 51,
    "start_time": "2025-04-22T05:02:37.268Z"
   },
   {
    "duration": 49,
    "start_time": "2025-04-22T05:02:59.543Z"
   },
   {
    "duration": 61,
    "start_time": "2025-04-22T05:03:16.285Z"
   },
   {
    "duration": 2634,
    "start_time": "2025-04-22T05:12:40.352Z"
   },
   {
    "duration": 1241,
    "start_time": "2025-04-22T05:12:42.988Z"
   },
   {
    "duration": 2508,
    "start_time": "2025-04-22T05:12:44.230Z"
   },
   {
    "duration": 7,
    "start_time": "2025-04-22T05:12:46.747Z"
   },
   {
    "duration": 5,
    "start_time": "2025-04-22T05:12:46.757Z"
   },
   {
    "duration": 204,
    "start_time": "2025-04-22T05:12:46.764Z"
   },
   {
    "duration": 7,
    "start_time": "2025-04-22T05:12:46.970Z"
   },
   {
    "duration": 175,
    "start_time": "2025-04-22T05:12:46.978Z"
   },
   {
    "duration": 17,
    "start_time": "2025-04-22T05:12:47.155Z"
   },
   {
    "duration": 22,
    "start_time": "2025-04-22T05:12:47.174Z"
   },
   {
    "duration": 54,
    "start_time": "2025-04-22T05:12:47.198Z"
   },
   {
    "duration": 10,
    "start_time": "2025-04-22T05:12:47.254Z"
   },
   {
    "duration": 15,
    "start_time": "2025-04-22T05:12:47.265Z"
   },
   {
    "duration": 184,
    "start_time": "2025-04-22T05:12:47.282Z"
   },
   {
    "duration": 43,
    "start_time": "2025-04-22T05:12:47.467Z"
   },
   {
    "duration": 55,
    "start_time": "2025-04-22T05:12:47.511Z"
   },
   {
    "duration": 9,
    "start_time": "2025-04-22T05:12:47.568Z"
   },
   {
    "duration": 6,
    "start_time": "2025-04-22T05:12:47.578Z"
   },
   {
    "duration": 6,
    "start_time": "2025-04-22T05:12:47.586Z"
   },
   {
    "duration": 28,
    "start_time": "2025-04-22T05:12:47.593Z"
   },
   {
    "duration": 16,
    "start_time": "2025-04-22T05:12:47.622Z"
   },
   {
    "duration": 16,
    "start_time": "2025-04-22T05:12:47.644Z"
   },
   {
    "duration": 47,
    "start_time": "2025-04-22T05:12:47.662Z"
   },
   {
    "duration": 52,
    "start_time": "2025-04-22T05:12:47.711Z"
   },
   {
    "duration": 22,
    "start_time": "2025-04-22T05:12:47.765Z"
   },
   {
    "duration": 13,
    "start_time": "2025-04-22T05:12:47.788Z"
   },
   {
    "duration": 22,
    "start_time": "2025-04-22T05:14:36.766Z"
   },
   {
    "duration": 115,
    "start_time": "2025-04-22T05:16:17.910Z"
   },
   {
    "duration": 44,
    "start_time": "2025-04-22T05:16:30.925Z"
   },
   {
    "duration": 2440,
    "start_time": "2025-04-22T05:23:53.565Z"
   },
   {
    "duration": 1181,
    "start_time": "2025-04-22T05:23:56.007Z"
   },
   {
    "duration": 2127,
    "start_time": "2025-04-22T05:23:57.190Z"
   },
   {
    "duration": 5,
    "start_time": "2025-04-22T05:23:59.319Z"
   },
   {
    "duration": 23,
    "start_time": "2025-04-22T05:23:59.336Z"
   },
   {
    "duration": 201,
    "start_time": "2025-04-22T05:23:59.361Z"
   },
   {
    "duration": 7,
    "start_time": "2025-04-22T05:23:59.564Z"
   },
   {
    "duration": 171,
    "start_time": "2025-04-22T05:23:59.573Z"
   },
   {
    "duration": 18,
    "start_time": "2025-04-22T05:23:59.745Z"
   },
   {
    "duration": 22,
    "start_time": "2025-04-22T05:23:59.765Z"
   },
   {
    "duration": 27,
    "start_time": "2025-04-22T05:23:59.789Z"
   },
   {
    "duration": 10,
    "start_time": "2025-04-22T05:23:59.837Z"
   },
   {
    "duration": 9,
    "start_time": "2025-04-22T05:23:59.848Z"
   },
   {
    "duration": 172,
    "start_time": "2025-04-22T05:23:59.859Z"
   },
   {
    "duration": 45,
    "start_time": "2025-04-22T05:24:00.035Z"
   },
   {
    "duration": 95,
    "start_time": "2025-04-22T05:24:00.081Z"
   },
   {
    "duration": 105,
    "start_time": "2025-04-22T05:24:00.178Z"
   },
   {
    "duration": 135,
    "start_time": "2025-04-22T05:24:00.285Z"
   },
   {
    "duration": 25,
    "start_time": "2025-04-22T05:24:00.421Z"
   },
   {
    "duration": 61,
    "start_time": "2025-04-22T05:24:00.448Z"
   },
   {
    "duration": 4,
    "start_time": "2025-04-22T05:24:00.510Z"
   },
   {
    "duration": 27,
    "start_time": "2025-04-22T05:24:00.516Z"
   },
   {
    "duration": 43,
    "start_time": "2025-04-22T05:24:00.545Z"
   },
   {
    "duration": 52,
    "start_time": "2025-04-22T05:24:00.590Z"
   },
   {
    "duration": 22,
    "start_time": "2025-04-22T05:24:00.644Z"
   },
   {
    "duration": 16,
    "start_time": "2025-04-22T05:24:00.667Z"
   },
   {
    "duration": 173,
    "start_time": "2025-04-22T05:31:59.500Z"
   },
   {
    "duration": 24,
    "start_time": "2025-04-22T05:32:10.896Z"
   },
   {
    "duration": 4,
    "start_time": "2025-04-22T05:32:31.374Z"
   },
   {
    "duration": 78,
    "start_time": "2025-04-22T05:34:45.350Z"
   },
   {
    "duration": 97,
    "start_time": "2025-04-22T05:37:37.030Z"
   },
   {
    "duration": 375,
    "start_time": "2025-04-22T05:38:33.792Z"
   },
   {
    "duration": 9,
    "start_time": "2025-04-22T05:38:57.632Z"
   },
   {
    "duration": 60,
    "start_time": "2025-04-22T05:39:42.120Z"
   },
   {
    "duration": 2497,
    "start_time": "2025-04-22T05:44:04.685Z"
   },
   {
    "duration": 1232,
    "start_time": "2025-04-22T05:44:07.184Z"
   },
   {
    "duration": 2534,
    "start_time": "2025-04-22T05:44:08.417Z"
   },
   {
    "duration": 5,
    "start_time": "2025-04-22T05:44:10.953Z"
   },
   {
    "duration": 9,
    "start_time": "2025-04-22T05:44:10.960Z"
   },
   {
    "duration": 199,
    "start_time": "2025-04-22T05:44:10.970Z"
   },
   {
    "duration": 7,
    "start_time": "2025-04-22T05:44:11.171Z"
   },
   {
    "duration": 171,
    "start_time": "2025-04-22T05:44:11.180Z"
   },
   {
    "duration": 18,
    "start_time": "2025-04-22T05:44:11.353Z"
   },
   {
    "duration": 23,
    "start_time": "2025-04-22T05:44:11.373Z"
   },
   {
    "duration": 50,
    "start_time": "2025-04-22T05:44:11.397Z"
   },
   {
    "duration": 10,
    "start_time": "2025-04-22T05:44:11.449Z"
   },
   {
    "duration": 44,
    "start_time": "2025-04-22T05:44:11.461Z"
   },
   {
    "duration": 186,
    "start_time": "2025-04-22T05:44:11.508Z"
   },
   {
    "duration": 55,
    "start_time": "2025-04-22T05:44:11.695Z"
   },
   {
    "duration": 35,
    "start_time": "2025-04-22T05:44:11.752Z"
   },
   {
    "duration": 10,
    "start_time": "2025-04-22T05:44:11.789Z"
   },
   {
    "duration": 4,
    "start_time": "2025-04-22T05:44:11.800Z"
   },
   {
    "duration": 32,
    "start_time": "2025-04-22T05:44:11.805Z"
   },
   {
    "duration": 35,
    "start_time": "2025-04-22T05:44:11.838Z"
   },
   {
    "duration": 4,
    "start_time": "2025-04-22T05:44:11.874Z"
   },
   {
    "duration": 16,
    "start_time": "2025-04-22T05:44:11.880Z"
   },
   {
    "duration": 73,
    "start_time": "2025-04-22T05:44:11.898Z"
   },
   {
    "duration": 36,
    "start_time": "2025-04-22T05:44:11.972Z"
   },
   {
    "duration": 46,
    "start_time": "2025-04-22T05:44:12.009Z"
   },
   {
    "duration": 6,
    "start_time": "2025-04-22T05:44:12.057Z"
   },
   {
    "duration": 41,
    "start_time": "2025-04-22T05:44:12.064Z"
   },
   {
    "duration": 90,
    "start_time": "2025-04-22T05:44:12.106Z"
   },
   {
    "duration": 112,
    "start_time": "2025-04-22T05:44:12.198Z"
   },
   {
    "duration": 0,
    "start_time": "2025-04-22T05:44:12.312Z"
   },
   {
    "duration": 2495,
    "start_time": "2025-04-22T05:44:47.130Z"
   },
   {
    "duration": 1282,
    "start_time": "2025-04-22T05:44:49.629Z"
   },
   {
    "duration": 1944,
    "start_time": "2025-04-22T05:44:50.913Z"
   },
   {
    "duration": 7,
    "start_time": "2025-04-22T05:44:52.858Z"
   },
   {
    "duration": 18,
    "start_time": "2025-04-22T05:44:52.868Z"
   },
   {
    "duration": 204,
    "start_time": "2025-04-22T05:44:52.888Z"
   },
   {
    "duration": 7,
    "start_time": "2025-04-22T05:44:53.094Z"
   },
   {
    "duration": 172,
    "start_time": "2025-04-22T05:44:53.103Z"
   },
   {
    "duration": 20,
    "start_time": "2025-04-22T05:44:53.277Z"
   },
   {
    "duration": 52,
    "start_time": "2025-04-22T05:44:53.299Z"
   },
   {
    "duration": 31,
    "start_time": "2025-04-22T05:44:53.353Z"
   },
   {
    "duration": 11,
    "start_time": "2025-04-22T05:44:53.385Z"
   },
   {
    "duration": 35,
    "start_time": "2025-04-22T05:44:53.397Z"
   },
   {
    "duration": 172,
    "start_time": "2025-04-22T05:44:53.435Z"
   },
   {
    "duration": 58,
    "start_time": "2025-04-22T05:44:53.609Z"
   },
   {
    "duration": 37,
    "start_time": "2025-04-22T05:44:53.669Z"
   },
   {
    "duration": 29,
    "start_time": "2025-04-22T05:44:53.707Z"
   },
   {
    "duration": 6,
    "start_time": "2025-04-22T05:44:53.738Z"
   },
   {
    "duration": 10,
    "start_time": "2025-04-22T05:44:53.745Z"
   },
   {
    "duration": 31,
    "start_time": "2025-04-22T05:44:53.756Z"
   },
   {
    "duration": 4,
    "start_time": "2025-04-22T05:44:53.788Z"
   },
   {
    "duration": 19,
    "start_time": "2025-04-22T05:44:53.794Z"
   },
   {
    "duration": 65,
    "start_time": "2025-04-22T05:44:53.814Z"
   },
   {
    "duration": 34,
    "start_time": "2025-04-22T05:44:53.881Z"
   },
   {
    "duration": 22,
    "start_time": "2025-04-22T05:44:53.936Z"
   },
   {
    "duration": 5,
    "start_time": "2025-04-22T05:44:53.960Z"
   },
   {
    "duration": 79,
    "start_time": "2025-04-22T05:44:53.967Z"
   },
   {
    "duration": 90,
    "start_time": "2025-04-22T05:44:54.048Z"
   },
   {
    "duration": 71,
    "start_time": "2025-04-22T05:44:54.140Z"
   },
   {
    "duration": 26,
    "start_time": "2025-04-22T05:44:54.212Z"
   },
   {
    "duration": 65,
    "start_time": "2025-04-22T05:51:42.261Z"
   },
   {
    "duration": 26,
    "start_time": "2025-04-22T05:51:55.276Z"
   },
   {
    "duration": 20,
    "start_time": "2025-04-22T06:05:35.219Z"
   },
   {
    "duration": 13,
    "start_time": "2025-04-22T06:06:16.585Z"
   },
   {
    "duration": 53,
    "start_time": "2025-04-22T06:06:42.964Z"
   },
   {
    "duration": 14,
    "start_time": "2025-04-22T06:07:54.246Z"
   },
   {
    "duration": 2559,
    "start_time": "2025-04-22T06:10:05.864Z"
   },
   {
    "duration": 1315,
    "start_time": "2025-04-22T06:10:08.425Z"
   },
   {
    "duration": 2184,
    "start_time": "2025-04-22T06:10:09.742Z"
   },
   {
    "duration": 8,
    "start_time": "2025-04-22T06:10:11.928Z"
   },
   {
    "duration": 4,
    "start_time": "2025-04-22T06:10:11.939Z"
   },
   {
    "duration": 204,
    "start_time": "2025-04-22T06:10:11.945Z"
   },
   {
    "duration": 7,
    "start_time": "2025-04-22T06:10:12.151Z"
   },
   {
    "duration": 185,
    "start_time": "2025-04-22T06:10:12.160Z"
   },
   {
    "duration": 19,
    "start_time": "2025-04-22T06:10:12.347Z"
   },
   {
    "duration": 25,
    "start_time": "2025-04-22T06:10:12.368Z"
   },
   {
    "duration": 46,
    "start_time": "2025-04-22T06:10:12.395Z"
   },
   {
    "duration": 12,
    "start_time": "2025-04-22T06:10:12.442Z"
   },
   {
    "duration": 11,
    "start_time": "2025-04-22T06:10:12.456Z"
   },
   {
    "duration": 199,
    "start_time": "2025-04-22T06:10:12.469Z"
   },
   {
    "duration": 46,
    "start_time": "2025-04-22T06:10:12.670Z"
   },
   {
    "duration": 51,
    "start_time": "2025-04-22T06:10:12.717Z"
   },
   {
    "duration": 10,
    "start_time": "2025-04-22T06:10:12.769Z"
   },
   {
    "duration": 16,
    "start_time": "2025-04-22T06:10:12.780Z"
   },
   {
    "duration": 7,
    "start_time": "2025-04-22T06:10:12.797Z"
   },
   {
    "duration": 59,
    "start_time": "2025-04-22T06:10:12.806Z"
   },
   {
    "duration": 5,
    "start_time": "2025-04-22T06:10:12.867Z"
   },
   {
    "duration": 18,
    "start_time": "2025-04-22T06:10:12.873Z"
   },
   {
    "duration": 59,
    "start_time": "2025-04-22T06:10:12.893Z"
   },
   {
    "duration": 38,
    "start_time": "2025-04-22T06:10:12.954Z"
   },
   {
    "duration": 21,
    "start_time": "2025-04-22T06:10:12.994Z"
   },
   {
    "duration": 19,
    "start_time": "2025-04-22T06:10:13.017Z"
   },
   {
    "duration": 33,
    "start_time": "2025-04-22T06:10:13.038Z"
   },
   {
    "duration": 85,
    "start_time": "2025-04-22T06:10:13.073Z"
   },
   {
    "duration": 77,
    "start_time": "2025-04-22T06:10:13.160Z"
   },
   {
    "duration": 16,
    "start_time": "2025-04-22T06:10:13.239Z"
   },
   {
    "duration": 39,
    "start_time": "2025-04-22T06:10:13.257Z"
   },
   {
    "duration": 43,
    "start_time": "2025-04-22T06:10:13.298Z"
   },
   {
    "duration": 2569,
    "start_time": "2025-04-22T06:46:56.530Z"
   },
   {
    "duration": 1322,
    "start_time": "2025-04-22T06:46:59.102Z"
   },
   {
    "duration": 2916,
    "start_time": "2025-04-22T06:47:00.426Z"
   },
   {
    "duration": 7,
    "start_time": "2025-04-22T06:47:03.344Z"
   },
   {
    "duration": 12,
    "start_time": "2025-04-22T06:47:03.354Z"
   },
   {
    "duration": 220,
    "start_time": "2025-04-22T06:47:03.368Z"
   },
   {
    "duration": 8,
    "start_time": "2025-04-22T06:47:03.589Z"
   },
   {
    "duration": 184,
    "start_time": "2025-04-22T06:47:03.599Z"
   },
   {
    "duration": 19,
    "start_time": "2025-04-22T06:47:03.785Z"
   },
   {
    "duration": 36,
    "start_time": "2025-04-22T06:47:03.805Z"
   },
   {
    "duration": 30,
    "start_time": "2025-04-22T06:47:03.843Z"
   },
   {
    "duration": 14,
    "start_time": "2025-04-22T06:47:03.875Z"
   },
   {
    "duration": 40,
    "start_time": "2025-04-22T06:47:03.891Z"
   },
   {
    "duration": 159,
    "start_time": "2025-04-22T06:47:03.934Z"
   },
   {
    "duration": 54,
    "start_time": "2025-04-22T06:47:04.095Z"
   },
   {
    "duration": 37,
    "start_time": "2025-04-22T06:47:04.150Z"
   },
   {
    "duration": 10,
    "start_time": "2025-04-22T06:47:04.189Z"
   },
   {
    "duration": 9,
    "start_time": "2025-04-22T06:47:04.200Z"
   },
   {
    "duration": 26,
    "start_time": "2025-04-22T06:47:04.211Z"
   },
   {
    "duration": 49,
    "start_time": "2025-04-22T06:47:04.238Z"
   },
   {
    "duration": 5,
    "start_time": "2025-04-22T06:47:04.288Z"
   },
   {
    "duration": 32,
    "start_time": "2025-04-22T06:47:04.295Z"
   },
   {
    "duration": 50,
    "start_time": "2025-04-22T06:47:04.329Z"
   },
   {
    "duration": 69,
    "start_time": "2025-04-22T06:47:04.381Z"
   },
   {
    "duration": 23,
    "start_time": "2025-04-22T06:47:04.453Z"
   },
   {
    "duration": 28,
    "start_time": "2025-04-22T06:47:04.478Z"
   },
   {
    "duration": 50,
    "start_time": "2025-04-22T06:47:04.507Z"
   },
   {
    "duration": 81,
    "start_time": "2025-04-22T06:47:04.560Z"
   },
   {
    "duration": 67,
    "start_time": "2025-04-22T06:47:04.642Z"
   },
   {
    "duration": 42,
    "start_time": "2025-04-22T06:47:04.710Z"
   },
   {
    "duration": 78,
    "start_time": "2025-04-22T06:47:04.754Z"
   },
   {
    "duration": 36,
    "start_time": "2025-04-22T06:47:04.834Z"
   },
   {
    "duration": 4052,
    "start_time": "2025-04-23T05:02:53.573Z"
   },
   {
    "duration": 1584,
    "start_time": "2025-04-23T05:02:57.630Z"
   },
   {
    "duration": 2100,
    "start_time": "2025-04-23T05:02:59.218Z"
   },
   {
    "duration": 6,
    "start_time": "2025-04-23T05:03:01.322Z"
   },
   {
    "duration": 36,
    "start_time": "2025-04-23T05:03:01.332Z"
   },
   {
    "duration": 219,
    "start_time": "2025-04-23T05:03:01.372Z"
   },
   {
    "duration": 9,
    "start_time": "2025-04-23T05:03:01.595Z"
   },
   {
    "duration": 212,
    "start_time": "2025-04-23T05:03:01.607Z"
   },
   {
    "duration": 18,
    "start_time": "2025-04-23T05:03:01.823Z"
   },
   {
    "duration": 51,
    "start_time": "2025-04-23T05:03:01.846Z"
   },
   {
    "duration": 30,
    "start_time": "2025-04-23T05:03:01.901Z"
   },
   {
    "duration": 36,
    "start_time": "2025-04-23T05:03:01.935Z"
   },
   {
    "duration": 142,
    "start_time": "2025-04-23T05:03:01.977Z"
   },
   {
    "duration": 206,
    "start_time": "2025-04-23T05:03:02.121Z"
   },
   {
    "duration": 66,
    "start_time": "2025-04-23T05:03:02.329Z"
   },
   {
    "duration": 165,
    "start_time": "2025-04-23T05:03:02.396Z"
   },
   {
    "duration": 82,
    "start_time": "2025-04-23T05:03:02.564Z"
   },
   {
    "duration": 32,
    "start_time": "2025-04-23T05:03:02.648Z"
   },
   {
    "duration": 18,
    "start_time": "2025-04-23T05:03:02.682Z"
   },
   {
    "duration": 57,
    "start_time": "2025-04-23T05:03:02.702Z"
   },
   {
    "duration": 229,
    "start_time": "2025-04-23T05:03:02.764Z"
   },
   {
    "duration": 95,
    "start_time": "2025-04-23T05:03:02.994Z"
   },
   {
    "duration": 96,
    "start_time": "2025-04-23T05:03:03.093Z"
   },
   {
    "duration": 39,
    "start_time": "2025-04-23T05:03:03.191Z"
   },
   {
    "duration": 45,
    "start_time": "2025-04-23T05:03:03.231Z"
   },
   {
    "duration": 9,
    "start_time": "2025-04-23T05:03:03.279Z"
   },
   {
    "duration": 126,
    "start_time": "2025-04-23T05:03:03.290Z"
   },
   {
    "duration": 122,
    "start_time": "2025-04-23T05:03:03.417Z"
   },
   {
    "duration": 101,
    "start_time": "2025-04-23T05:03:03.540Z"
   },
   {
    "duration": 20,
    "start_time": "2025-04-23T05:03:03.643Z"
   },
   {
    "duration": 59,
    "start_time": "2025-04-23T05:03:03.666Z"
   },
   {
    "duration": 68,
    "start_time": "2025-04-23T05:03:03.727Z"
   },
   {
    "duration": 74,
    "start_time": "2025-04-23T05:03:03.797Z"
   },
   {
    "duration": 112,
    "start_time": "2025-04-23T05:05:39.936Z"
   },
   {
    "duration": 137,
    "start_time": "2025-04-23T05:05:52.412Z"
   },
   {
    "duration": 135,
    "start_time": "2025-04-23T05:06:35.516Z"
   },
   {
    "duration": 113,
    "start_time": "2025-04-23T05:06:58.933Z"
   },
   {
    "duration": 224,
    "start_time": "2025-04-23T05:18:30.213Z"
   },
   {
    "duration": 216,
    "start_time": "2025-04-23T05:18:44.034Z"
   },
   {
    "duration": 196,
    "start_time": "2025-04-23T05:18:57.801Z"
   },
   {
    "duration": 192,
    "start_time": "2025-04-23T05:19:33.289Z"
   },
   {
    "duration": 2658,
    "start_time": "2025-04-23T05:33:58.084Z"
   },
   {
    "duration": 1345,
    "start_time": "2025-04-23T05:34:00.745Z"
   },
   {
    "duration": 1996,
    "start_time": "2025-04-23T05:34:02.092Z"
   },
   {
    "duration": 6,
    "start_time": "2025-04-23T05:34:04.089Z"
   },
   {
    "duration": 64,
    "start_time": "2025-04-23T05:34:04.098Z"
   },
   {
    "duration": 266,
    "start_time": "2025-04-23T05:34:04.164Z"
   },
   {
    "duration": 9,
    "start_time": "2025-04-23T05:34:04.431Z"
   },
   {
    "duration": 340,
    "start_time": "2025-04-23T05:34:04.441Z"
   },
   {
    "duration": 19,
    "start_time": "2025-04-23T05:34:04.783Z"
   },
   {
    "duration": 56,
    "start_time": "2025-04-23T05:34:04.804Z"
   },
   {
    "duration": 32,
    "start_time": "2025-04-23T05:34:04.862Z"
   },
   {
    "duration": 11,
    "start_time": "2025-04-23T05:34:04.896Z"
   },
   {
    "duration": 17,
    "start_time": "2025-04-23T05:34:04.910Z"
   },
   {
    "duration": 439,
    "start_time": "2025-04-23T05:34:04.931Z"
   },
   {
    "duration": 48,
    "start_time": "2025-04-23T05:34:05.372Z"
   },
   {
    "duration": 62,
    "start_time": "2025-04-23T05:34:05.422Z"
   },
   {
    "duration": 10,
    "start_time": "2025-04-23T05:34:05.486Z"
   },
   {
    "duration": 27,
    "start_time": "2025-04-23T05:34:05.498Z"
   },
   {
    "duration": 25,
    "start_time": "2025-04-23T05:34:05.528Z"
   },
   {
    "duration": 57,
    "start_time": "2025-04-23T05:34:05.555Z"
   },
   {
    "duration": 16,
    "start_time": "2025-04-23T05:34:05.614Z"
   },
   {
    "duration": 36,
    "start_time": "2025-04-23T05:34:05.632Z"
   },
   {
    "duration": 59,
    "start_time": "2025-04-23T05:34:05.670Z"
   },
   {
    "duration": 45,
    "start_time": "2025-04-23T05:34:05.730Z"
   },
   {
    "duration": 22,
    "start_time": "2025-04-23T05:34:05.777Z"
   },
   {
    "duration": 21,
    "start_time": "2025-04-23T05:34:05.801Z"
   },
   {
    "duration": 70,
    "start_time": "2025-04-23T05:34:05.823Z"
   },
   {
    "duration": 198,
    "start_time": "2025-04-23T05:34:05.895Z"
   },
   {
    "duration": 174,
    "start_time": "2025-04-23T05:34:06.095Z"
   },
   {
    "duration": 52,
    "start_time": "2025-04-23T05:34:06.270Z"
   },
   {
    "duration": 39,
    "start_time": "2025-04-23T05:34:06.323Z"
   },
   {
    "duration": 31,
    "start_time": "2025-04-23T05:34:06.364Z"
   },
   {
    "duration": 136,
    "start_time": "2025-04-23T05:34:06.397Z"
   },
   {
    "duration": 0,
    "start_time": "2025-04-23T05:34:06.535Z"
   },
   {
    "duration": 2592,
    "start_time": "2025-04-23T05:34:38.712Z"
   },
   {
    "duration": 1269,
    "start_time": "2025-04-23T05:34:41.306Z"
   },
   {
    "duration": 3084,
    "start_time": "2025-04-23T05:34:42.577Z"
   },
   {
    "duration": 5,
    "start_time": "2025-04-23T05:34:45.663Z"
   },
   {
    "duration": 14,
    "start_time": "2025-04-23T05:34:45.671Z"
   },
   {
    "duration": 230,
    "start_time": "2025-04-23T05:34:45.687Z"
   },
   {
    "duration": 8,
    "start_time": "2025-04-23T05:34:45.919Z"
   },
   {
    "duration": 190,
    "start_time": "2025-04-23T05:34:45.929Z"
   },
   {
    "duration": 19,
    "start_time": "2025-04-23T05:34:46.121Z"
   },
   {
    "duration": 121,
    "start_time": "2025-04-23T05:34:46.142Z"
   },
   {
    "duration": 32,
    "start_time": "2025-04-23T05:34:46.265Z"
   },
   {
    "duration": 11,
    "start_time": "2025-04-23T05:34:46.299Z"
   },
   {
    "duration": 14,
    "start_time": "2025-04-23T05:34:46.312Z"
   },
   {
    "duration": 191,
    "start_time": "2025-04-23T05:34:46.329Z"
   },
   {
    "duration": 54,
    "start_time": "2025-04-23T05:34:46.522Z"
   },
   {
    "duration": 39,
    "start_time": "2025-04-23T05:34:46.577Z"
   },
   {
    "duration": 10,
    "start_time": "2025-04-23T05:34:46.618Z"
   },
   {
    "duration": 81,
    "start_time": "2025-04-23T05:34:46.630Z"
   },
   {
    "duration": 19,
    "start_time": "2025-04-23T05:34:46.713Z"
   },
   {
    "duration": 51,
    "start_time": "2025-04-23T05:34:46.734Z"
   },
   {
    "duration": 6,
    "start_time": "2025-04-23T05:34:46.787Z"
   },
   {
    "duration": 17,
    "start_time": "2025-04-23T05:34:46.794Z"
   },
   {
    "duration": 63,
    "start_time": "2025-04-23T05:34:46.813Z"
   },
   {
    "duration": 42,
    "start_time": "2025-04-23T05:34:46.878Z"
   },
   {
    "duration": 39,
    "start_time": "2025-04-23T05:34:46.922Z"
   },
   {
    "duration": 210,
    "start_time": "2025-04-23T05:34:46.963Z"
   },
   {
    "duration": 48,
    "start_time": "2025-04-23T05:34:47.175Z"
   },
   {
    "duration": 71,
    "start_time": "2025-04-23T05:34:47.225Z"
   },
   {
    "duration": 76,
    "start_time": "2025-04-23T05:34:47.298Z"
   },
   {
    "duration": 16,
    "start_time": "2025-04-23T05:34:47.375Z"
   },
   {
    "duration": 40,
    "start_time": "2025-04-23T05:34:47.393Z"
   },
   {
    "duration": 31,
    "start_time": "2025-04-23T05:34:47.435Z"
   },
   {
    "duration": 36,
    "start_time": "2025-04-23T05:34:47.468Z"
   },
   {
    "duration": 5,
    "start_time": "2025-04-23T05:34:47.508Z"
   },
   {
    "duration": 3,
    "start_time": "2025-04-23T05:36:48.221Z"
   },
   {
    "duration": 3,
    "start_time": "2025-04-23T05:46:52.906Z"
   },
   {
    "duration": 2637,
    "start_time": "2025-04-23T05:57:20.125Z"
   },
   {
    "duration": 1295,
    "start_time": "2025-04-23T05:57:22.764Z"
   },
   {
    "duration": 1924,
    "start_time": "2025-04-23T05:57:24.061Z"
   },
   {
    "duration": 5,
    "start_time": "2025-04-23T05:57:25.988Z"
   },
   {
    "duration": 18,
    "start_time": "2025-04-23T05:57:25.995Z"
   },
   {
    "duration": 232,
    "start_time": "2025-04-23T05:57:26.015Z"
   },
   {
    "duration": 20,
    "start_time": "2025-04-23T05:57:26.249Z"
   },
   {
    "duration": 186,
    "start_time": "2025-04-23T05:57:26.271Z"
   },
   {
    "duration": 20,
    "start_time": "2025-04-23T05:57:26.462Z"
   },
   {
    "duration": 30,
    "start_time": "2025-04-23T05:57:26.483Z"
   },
   {
    "duration": 62,
    "start_time": "2025-04-23T05:57:26.514Z"
   },
   {
    "duration": 146,
    "start_time": "2025-04-23T05:57:26.577Z"
   },
   {
    "duration": 90,
    "start_time": "2025-04-23T05:57:26.726Z"
   },
   {
    "duration": 173,
    "start_time": "2025-04-23T05:57:26.820Z"
   },
   {
    "duration": 47,
    "start_time": "2025-04-23T05:57:26.996Z"
   },
   {
    "duration": 40,
    "start_time": "2025-04-23T05:57:27.060Z"
   },
   {
    "duration": 204,
    "start_time": "2025-04-23T05:57:27.102Z"
   },
   {
    "duration": 10,
    "start_time": "2025-04-23T05:57:27.308Z"
   },
   {
    "duration": 16,
    "start_time": "2025-04-23T05:57:27.320Z"
   },
   {
    "duration": 34,
    "start_time": "2025-04-23T05:57:27.338Z"
   },
   {
    "duration": 5,
    "start_time": "2025-04-23T05:57:27.373Z"
   },
   {
    "duration": 49,
    "start_time": "2025-04-23T05:57:27.380Z"
   },
   {
    "duration": 81,
    "start_time": "2025-04-23T05:57:27.430Z"
   },
   {
    "duration": 55,
    "start_time": "2025-04-23T05:57:27.514Z"
   },
   {
    "duration": 23,
    "start_time": "2025-04-23T05:57:27.571Z"
   },
   {
    "duration": 6,
    "start_time": "2025-04-23T05:57:27.596Z"
   },
   {
    "duration": 59,
    "start_time": "2025-04-23T05:57:27.603Z"
   },
   {
    "duration": 72,
    "start_time": "2025-04-23T05:57:27.665Z"
   },
   {
    "duration": 92,
    "start_time": "2025-04-23T05:57:27.739Z"
   },
   {
    "duration": 29,
    "start_time": "2025-04-23T05:57:27.833Z"
   },
   {
    "duration": 32,
    "start_time": "2025-04-23T05:57:27.864Z"
   },
   {
    "duration": 28,
    "start_time": "2025-04-23T05:57:27.898Z"
   },
   {
    "duration": 46,
    "start_time": "2025-04-23T05:57:27.928Z"
   },
   {
    "duration": 4,
    "start_time": "2025-04-23T05:57:27.976Z"
   },
   {
    "duration": 31,
    "start_time": "2025-04-23T05:57:27.981Z"
   },
   {
    "duration": 70,
    "start_time": "2025-04-23T05:57:28.014Z"
   },
   {
    "duration": 5,
    "start_time": "2025-04-23T05:57:28.086Z"
   },
   {
    "duration": 44,
    "start_time": "2025-04-23T05:57:28.093Z"
   },
   {
    "duration": 4,
    "start_time": "2025-04-23T05:59:40.618Z"
   },
   {
    "duration": 2577,
    "start_time": "2025-04-23T06:03:26.939Z"
   },
   {
    "duration": 1246,
    "start_time": "2025-04-23T06:03:29.519Z"
   },
   {
    "duration": 2271,
    "start_time": "2025-04-23T06:03:30.767Z"
   },
   {
    "duration": 6,
    "start_time": "2025-04-23T06:03:33.040Z"
   },
   {
    "duration": 45,
    "start_time": "2025-04-23T06:03:33.048Z"
   },
   {
    "duration": 241,
    "start_time": "2025-04-23T06:03:33.095Z"
   },
   {
    "duration": 8,
    "start_time": "2025-04-23T06:03:33.338Z"
   },
   {
    "duration": 170,
    "start_time": "2025-04-23T06:03:33.361Z"
   },
   {
    "duration": 28,
    "start_time": "2025-04-23T06:03:33.533Z"
   },
   {
    "duration": 23,
    "start_time": "2025-04-23T06:03:33.563Z"
   },
   {
    "duration": 30,
    "start_time": "2025-04-23T06:03:33.588Z"
   },
   {
    "duration": 10,
    "start_time": "2025-04-23T06:03:33.620Z"
   },
   {
    "duration": 36,
    "start_time": "2025-04-23T06:03:33.631Z"
   },
   {
    "duration": 177,
    "start_time": "2025-04-23T06:03:33.669Z"
   },
   {
    "duration": 51,
    "start_time": "2025-04-23T06:03:33.848Z"
   },
   {
    "duration": 38,
    "start_time": "2025-04-23T06:03:33.900Z"
   },
   {
    "duration": 23,
    "start_time": "2025-04-23T06:03:33.940Z"
   },
   {
    "duration": 4,
    "start_time": "2025-04-23T06:03:33.965Z"
   },
   {
    "duration": 19,
    "start_time": "2025-04-23T06:03:33.970Z"
   },
   {
    "duration": 71,
    "start_time": "2025-04-23T06:03:33.991Z"
   },
   {
    "duration": 9,
    "start_time": "2025-04-23T06:03:34.064Z"
   },
   {
    "duration": 17,
    "start_time": "2025-04-23T06:03:34.074Z"
   },
   {
    "duration": 49,
    "start_time": "2025-04-23T06:03:34.092Z"
   },
   {
    "duration": 49,
    "start_time": "2025-04-23T06:03:34.142Z"
   },
   {
    "duration": 22,
    "start_time": "2025-04-23T06:03:34.193Z"
   },
   {
    "duration": 6,
    "start_time": "2025-04-23T06:03:34.216Z"
   },
   {
    "duration": 173,
    "start_time": "2025-04-23T06:03:34.223Z"
   },
   {
    "duration": 74,
    "start_time": "2025-04-23T06:03:34.400Z"
   },
   {
    "duration": 69,
    "start_time": "2025-04-23T06:03:34.476Z"
   },
   {
    "duration": 30,
    "start_time": "2025-04-23T06:03:34.547Z"
   },
   {
    "duration": 108,
    "start_time": "2025-04-23T06:03:34.578Z"
   },
   {
    "duration": 173,
    "start_time": "2025-04-23T06:03:34.688Z"
   },
   {
    "duration": 29,
    "start_time": "2025-04-23T06:03:34.863Z"
   },
   {
    "duration": 4,
    "start_time": "2025-04-23T06:03:34.894Z"
   },
   {
    "duration": 26,
    "start_time": "2025-04-23T06:03:34.900Z"
   },
   {
    "duration": 65,
    "start_time": "2025-04-23T06:03:34.928Z"
   },
   {
    "duration": 6,
    "start_time": "2025-04-23T06:03:34.995Z"
   },
   {
    "duration": 10,
    "start_time": "2025-04-23T06:03:35.003Z"
   },
   {
    "duration": 47,
    "start_time": "2025-04-23T06:03:35.015Z"
   },
   {
    "duration": 2621,
    "start_time": "2025-04-23T06:04:13.136Z"
   },
   {
    "duration": 1323,
    "start_time": "2025-04-23T06:04:15.760Z"
   },
   {
    "duration": 2076,
    "start_time": "2025-04-23T06:04:17.085Z"
   },
   {
    "duration": 5,
    "start_time": "2025-04-23T06:04:19.163Z"
   },
   {
    "duration": 142,
    "start_time": "2025-04-23T06:04:19.172Z"
   },
   {
    "duration": 212,
    "start_time": "2025-04-23T06:04:19.316Z"
   },
   {
    "duration": 7,
    "start_time": "2025-04-23T06:04:19.530Z"
   },
   {
    "duration": 185,
    "start_time": "2025-04-23T06:04:19.539Z"
   },
   {
    "duration": 21,
    "start_time": "2025-04-23T06:04:19.726Z"
   },
   {
    "duration": 36,
    "start_time": "2025-04-23T06:04:19.749Z"
   },
   {
    "duration": 34,
    "start_time": "2025-04-23T06:04:19.787Z"
   },
   {
    "duration": 38,
    "start_time": "2025-04-23T06:04:19.823Z"
   },
   {
    "duration": 12,
    "start_time": "2025-04-23T06:04:19.863Z"
   },
   {
    "duration": 189,
    "start_time": "2025-04-23T06:04:19.880Z"
   },
   {
    "duration": 49,
    "start_time": "2025-04-23T06:04:20.071Z"
   },
   {
    "duration": 60,
    "start_time": "2025-04-23T06:04:20.122Z"
   },
   {
    "duration": 10,
    "start_time": "2025-04-23T06:04:20.184Z"
   },
   {
    "duration": 4,
    "start_time": "2025-04-23T06:04:20.196Z"
   },
   {
    "duration": 6,
    "start_time": "2025-04-23T06:04:20.201Z"
   },
   {
    "duration": 57,
    "start_time": "2025-04-23T06:04:20.209Z"
   },
   {
    "duration": 5,
    "start_time": "2025-04-23T06:04:20.268Z"
   },
   {
    "duration": 138,
    "start_time": "2025-04-23T06:04:20.275Z"
   },
   {
    "duration": 57,
    "start_time": "2025-04-23T06:04:20.415Z"
   },
   {
    "duration": 41,
    "start_time": "2025-04-23T06:04:20.474Z"
   },
   {
    "duration": 24,
    "start_time": "2025-04-23T06:04:20.517Z"
   },
   {
    "duration": 66,
    "start_time": "2025-04-23T06:04:20.560Z"
   },
   {
    "duration": 146,
    "start_time": "2025-04-23T06:04:20.628Z"
   },
   {
    "duration": 178,
    "start_time": "2025-04-23T06:04:20.776Z"
   },
   {
    "duration": 75,
    "start_time": "2025-04-23T06:04:20.956Z"
   },
   {
    "duration": 32,
    "start_time": "2025-04-23T06:04:21.033Z"
   },
   {
    "duration": 63,
    "start_time": "2025-04-23T06:04:21.067Z"
   },
   {
    "duration": 190,
    "start_time": "2025-04-23T06:04:21.132Z"
   },
   {
    "duration": 33,
    "start_time": "2025-04-23T06:04:21.324Z"
   },
   {
    "duration": 3,
    "start_time": "2025-04-23T06:04:21.359Z"
   },
   {
    "duration": 23,
    "start_time": "2025-04-23T06:04:21.364Z"
   },
   {
    "duration": 35,
    "start_time": "2025-04-23T06:04:21.389Z"
   },
   {
    "duration": 5,
    "start_time": "2025-04-23T06:04:21.426Z"
   },
   {
    "duration": 21,
    "start_time": "2025-04-23T06:04:21.432Z"
   },
   {
    "duration": 19,
    "start_time": "2025-04-23T06:04:21.462Z"
   },
   {
    "duration": 10,
    "start_time": "2025-04-23T06:06:57.967Z"
   },
   {
    "duration": 67,
    "start_time": "2025-04-23T06:07:21.431Z"
   },
   {
    "duration": 10,
    "start_time": "2025-04-23T06:07:28.799Z"
   },
   {
    "duration": 11,
    "start_time": "2025-04-23T06:07:39.255Z"
   },
   {
    "duration": 90,
    "start_time": "2025-04-23T06:17:26.092Z"
   },
   {
    "duration": 109,
    "start_time": "2025-04-23T06:18:48.883Z"
   },
   {
    "duration": 26,
    "start_time": "2025-04-23T06:18:56.412Z"
   },
   {
    "duration": 17,
    "start_time": "2025-04-23T06:19:12.860Z"
   },
   {
    "duration": 63,
    "start_time": "2025-04-23T06:23:06.158Z"
   },
   {
    "duration": 20,
    "start_time": "2025-04-23T06:25:05.550Z"
   },
   {
    "duration": 18,
    "start_time": "2025-04-23T06:25:39.769Z"
   },
   {
    "duration": 4,
    "start_time": "2025-04-23T06:25:48.991Z"
   },
   {
    "duration": 5,
    "start_time": "2025-04-23T06:26:02.291Z"
   },
   {
    "duration": 14,
    "start_time": "2025-04-23T06:26:13.984Z"
   },
   {
    "duration": 1486,
    "start_time": "2025-04-23T06:44:09.110Z"
   },
   {
    "duration": 9,
    "start_time": "2025-04-23T06:44:57.138Z"
   },
   {
    "duration": 10,
    "start_time": "2025-04-23T07:13:54.177Z"
   },
   {
    "duration": 2679,
    "start_time": "2025-04-23T07:23:45.413Z"
   },
   {
    "duration": 1266,
    "start_time": "2025-04-23T07:23:48.094Z"
   },
   {
    "duration": 1873,
    "start_time": "2025-04-23T07:23:49.362Z"
   },
   {
    "duration": 6,
    "start_time": "2025-04-23T07:23:51.237Z"
   },
   {
    "duration": 27,
    "start_time": "2025-04-23T07:23:51.244Z"
   },
   {
    "duration": 199,
    "start_time": "2025-04-23T07:23:51.273Z"
   },
   {
    "duration": 8,
    "start_time": "2025-04-23T07:23:51.473Z"
   },
   {
    "duration": 184,
    "start_time": "2025-04-23T07:23:51.482Z"
   },
   {
    "duration": 20,
    "start_time": "2025-04-23T07:23:51.668Z"
   },
   {
    "duration": 31,
    "start_time": "2025-04-23T07:23:51.691Z"
   },
   {
    "duration": 43,
    "start_time": "2025-04-23T07:23:51.723Z"
   },
   {
    "duration": 11,
    "start_time": "2025-04-23T07:23:51.767Z"
   },
   {
    "duration": 27,
    "start_time": "2025-04-23T07:23:51.779Z"
   },
   {
    "duration": 174,
    "start_time": "2025-04-23T07:23:51.808Z"
   },
   {
    "duration": 48,
    "start_time": "2025-04-23T07:23:51.984Z"
   },
   {
    "duration": 126,
    "start_time": "2025-04-23T07:23:52.033Z"
   },
   {
    "duration": 11,
    "start_time": "2025-04-23T07:23:52.161Z"
   },
   {
    "duration": 39,
    "start_time": "2025-04-23T07:23:52.174Z"
   },
   {
    "duration": 15,
    "start_time": "2025-04-23T07:23:52.215Z"
   },
   {
    "duration": 30,
    "start_time": "2025-04-23T07:23:52.232Z"
   },
   {
    "duration": 5,
    "start_time": "2025-04-23T07:23:52.264Z"
   },
   {
    "duration": 25,
    "start_time": "2025-04-23T07:23:52.270Z"
   },
   {
    "duration": 68,
    "start_time": "2025-04-23T07:23:52.297Z"
   },
   {
    "duration": 37,
    "start_time": "2025-04-23T07:23:52.366Z"
   },
   {
    "duration": 22,
    "start_time": "2025-04-23T07:23:52.404Z"
   },
   {
    "duration": 27,
    "start_time": "2025-04-23T07:23:52.428Z"
   },
   {
    "duration": 38,
    "start_time": "2025-04-23T07:23:52.457Z"
   },
   {
    "duration": 85,
    "start_time": "2025-04-23T07:23:52.498Z"
   },
   {
    "duration": 79,
    "start_time": "2025-04-23T07:23:52.584Z"
   },
   {
    "duration": 122,
    "start_time": "2025-04-23T07:23:52.665Z"
   },
   {
    "duration": 31,
    "start_time": "2025-04-23T07:23:52.789Z"
   },
   {
    "duration": 21,
    "start_time": "2025-04-23T07:23:52.822Z"
   },
   {
    "duration": 32,
    "start_time": "2025-04-23T07:23:52.845Z"
   },
   {
    "duration": 58,
    "start_time": "2025-04-23T07:23:52.879Z"
   },
   {
    "duration": 25,
    "start_time": "2025-04-23T07:23:52.939Z"
   },
   {
    "duration": 36,
    "start_time": "2025-04-23T07:23:52.965Z"
   },
   {
    "duration": 5,
    "start_time": "2025-04-23T07:23:53.003Z"
   },
   {
    "duration": 30,
    "start_time": "2025-04-23T07:23:53.010Z"
   },
   {
    "duration": 146,
    "start_time": "2025-04-23T07:23:53.042Z"
   },
   {
    "duration": 10,
    "start_time": "2025-04-23T07:23:53.190Z"
   },
   {
    "duration": 274,
    "start_time": "2025-04-23T07:35:22.739Z"
   },
   {
    "duration": 431,
    "start_time": "2025-04-23T07:35:50.484Z"
   },
   {
    "duration": 10,
    "start_time": "2025-04-23T07:37:33.540Z"
   },
   {
    "duration": 13,
    "start_time": "2025-04-23T07:38:17.067Z"
   },
   {
    "duration": 11,
    "start_time": "2025-04-23T07:38:35.590Z"
   },
   {
    "duration": 3526,
    "start_time": "2025-04-23T15:39:27.142Z"
   },
   {
    "duration": 1471,
    "start_time": "2025-04-23T15:39:30.670Z"
   },
   {
    "duration": 3874,
    "start_time": "2025-04-23T15:39:32.144Z"
   },
   {
    "duration": 6,
    "start_time": "2025-04-23T15:39:36.020Z"
   },
   {
    "duration": 24,
    "start_time": "2025-04-23T15:39:36.028Z"
   },
   {
    "duration": 186,
    "start_time": "2025-04-23T15:39:36.054Z"
   },
   {
    "duration": 7,
    "start_time": "2025-04-23T15:39:36.242Z"
   },
   {
    "duration": 175,
    "start_time": "2025-04-23T15:39:36.250Z"
   },
   {
    "duration": 19,
    "start_time": "2025-04-23T15:39:36.427Z"
   },
   {
    "duration": 30,
    "start_time": "2025-04-23T15:39:36.447Z"
   },
   {
    "duration": 29,
    "start_time": "2025-04-23T15:39:36.478Z"
   },
   {
    "duration": 15,
    "start_time": "2025-04-23T15:39:36.509Z"
   },
   {
    "duration": 21,
    "start_time": "2025-04-23T15:39:36.525Z"
   },
   {
    "duration": 219,
    "start_time": "2025-04-23T15:39:36.549Z"
   },
   {
    "duration": 45,
    "start_time": "2025-04-23T15:39:36.770Z"
   },
   {
    "duration": 46,
    "start_time": "2025-04-23T15:39:36.817Z"
   },
   {
    "duration": 10,
    "start_time": "2025-04-23T15:39:36.864Z"
   },
   {
    "duration": 6,
    "start_time": "2025-04-23T15:39:36.876Z"
   },
   {
    "duration": 15,
    "start_time": "2025-04-23T15:39:36.883Z"
   },
   {
    "duration": 55,
    "start_time": "2025-04-23T15:39:36.900Z"
   },
   {
    "duration": 4,
    "start_time": "2025-04-23T15:39:36.957Z"
   },
   {
    "duration": 12,
    "start_time": "2025-04-23T15:39:36.962Z"
   },
   {
    "duration": 62,
    "start_time": "2025-04-23T15:39:36.976Z"
   },
   {
    "duration": 38,
    "start_time": "2025-04-23T15:39:37.039Z"
   },
   {
    "duration": 22,
    "start_time": "2025-04-23T15:39:37.079Z"
   },
   {
    "duration": 5,
    "start_time": "2025-04-23T15:39:37.103Z"
   },
   {
    "duration": 34,
    "start_time": "2025-04-23T15:39:37.138Z"
   },
   {
    "duration": 81,
    "start_time": "2025-04-23T15:39:37.173Z"
   },
   {
    "duration": 70,
    "start_time": "2025-04-23T15:39:37.256Z"
   },
   {
    "duration": 15,
    "start_time": "2025-04-23T15:39:37.337Z"
   },
   {
    "duration": 25,
    "start_time": "2025-04-23T15:39:37.354Z"
   },
   {
    "duration": 22,
    "start_time": "2025-04-23T15:39:37.381Z"
   },
   {
    "duration": 97,
    "start_time": "2025-04-23T15:39:37.405Z"
   },
   {
    "duration": 3,
    "start_time": "2025-04-23T15:39:37.504Z"
   },
   {
    "duration": 25,
    "start_time": "2025-04-23T15:39:37.509Z"
   },
   {
    "duration": 32,
    "start_time": "2025-04-23T15:39:37.536Z"
   },
   {
    "duration": 5,
    "start_time": "2025-04-23T15:39:37.570Z"
   },
   {
    "duration": 26,
    "start_time": "2025-04-23T15:39:37.576Z"
   },
   {
    "duration": 44,
    "start_time": "2025-04-23T15:39:37.604Z"
   },
   {
    "duration": 11,
    "start_time": "2025-04-23T15:39:37.650Z"
   },
   {
    "duration": 536,
    "start_time": "2025-04-23T15:39:37.664Z"
   },
   {
    "duration": 114,
    "start_time": "2025-04-23T15:40:38.149Z"
   },
   {
    "duration": 378,
    "start_time": "2025-04-23T15:48:46.744Z"
   },
   {
    "duration": 205,
    "start_time": "2025-04-23T15:49:23.313Z"
   },
   {
    "duration": 124,
    "start_time": "2025-04-23T15:51:29.531Z"
   },
   {
    "duration": 388,
    "start_time": "2025-04-23T16:00:54.044Z"
   },
   {
    "duration": 429,
    "start_time": "2025-04-23T16:01:05.478Z"
   },
   {
    "duration": 376,
    "start_time": "2025-04-23T16:01:15.761Z"
   },
   {
    "duration": 386,
    "start_time": "2025-04-23T16:01:41.124Z"
   },
   {
    "duration": 393,
    "start_time": "2025-04-23T16:02:05.534Z"
   },
   {
    "duration": 496,
    "start_time": "2025-04-23T16:02:13.463Z"
   },
   {
    "duration": 382,
    "start_time": "2025-04-23T16:02:28.728Z"
   },
   {
    "duration": 10,
    "start_time": "2025-04-23T16:06:08.753Z"
   },
   {
    "duration": 13,
    "start_time": "2025-04-23T16:10:54.187Z"
   },
   {
    "duration": 10,
    "start_time": "2025-04-23T16:11:28.930Z"
   },
   {
    "duration": 9,
    "start_time": "2025-04-23T16:13:03.483Z"
   },
   {
    "duration": 2,
    "start_time": "2025-04-23T16:15:31.151Z"
   },
   {
    "duration": 5,
    "start_time": "2025-04-23T16:18:01.084Z"
   },
   {
    "duration": 2527,
    "start_time": "2025-04-23T16:21:03.897Z"
   },
   {
    "duration": 1290,
    "start_time": "2025-04-23T16:21:06.427Z"
   },
   {
    "duration": 1928,
    "start_time": "2025-04-23T16:21:07.718Z"
   },
   {
    "duration": 6,
    "start_time": "2025-04-23T16:21:09.647Z"
   },
   {
    "duration": 36,
    "start_time": "2025-04-23T16:21:09.655Z"
   },
   {
    "duration": 185,
    "start_time": "2025-04-23T16:21:09.692Z"
   },
   {
    "duration": 7,
    "start_time": "2025-04-23T16:21:09.878Z"
   },
   {
    "duration": 167,
    "start_time": "2025-04-23T16:21:09.887Z"
   },
   {
    "duration": 19,
    "start_time": "2025-04-23T16:21:10.056Z"
   },
   {
    "duration": 21,
    "start_time": "2025-04-23T16:21:10.076Z"
   },
   {
    "duration": 49,
    "start_time": "2025-04-23T16:21:10.099Z"
   },
   {
    "duration": 10,
    "start_time": "2025-04-23T16:21:10.149Z"
   },
   {
    "duration": 14,
    "start_time": "2025-04-23T16:21:10.161Z"
   },
   {
    "duration": 177,
    "start_time": "2025-04-23T16:21:10.178Z"
   },
   {
    "duration": 45,
    "start_time": "2025-04-23T16:21:10.356Z"
   },
   {
    "duration": 55,
    "start_time": "2025-04-23T16:21:10.402Z"
   },
   {
    "duration": 9,
    "start_time": "2025-04-23T16:21:10.459Z"
   },
   {
    "duration": 13,
    "start_time": "2025-04-23T16:21:10.470Z"
   },
   {
    "duration": 7,
    "start_time": "2025-04-23T16:21:10.485Z"
   },
   {
    "duration": 29,
    "start_time": "2025-04-23T16:21:10.494Z"
   },
   {
    "duration": 43,
    "start_time": "2025-04-23T16:21:10.537Z"
   },
   {
    "duration": 14,
    "start_time": "2025-04-23T16:21:10.582Z"
   },
   {
    "duration": 43,
    "start_time": "2025-04-23T16:21:10.598Z"
   },
   {
    "duration": 37,
    "start_time": "2025-04-23T16:21:10.643Z"
   },
   {
    "duration": 23,
    "start_time": "2025-04-23T16:21:10.681Z"
   },
   {
    "duration": 5,
    "start_time": "2025-04-23T16:21:10.706Z"
   },
   {
    "duration": 57,
    "start_time": "2025-04-23T16:21:10.713Z"
   },
   {
    "duration": 140,
    "start_time": "2025-04-23T16:21:10.772Z"
   },
   {
    "duration": 66,
    "start_time": "2025-04-23T16:21:10.914Z"
   },
   {
    "duration": 15,
    "start_time": "2025-04-23T16:21:10.982Z"
   },
   {
    "duration": 42,
    "start_time": "2025-04-23T16:21:10.999Z"
   },
   {
    "duration": 22,
    "start_time": "2025-04-23T16:21:11.043Z"
   },
   {
    "duration": 25,
    "start_time": "2025-04-23T16:21:11.067Z"
   },
   {
    "duration": 3,
    "start_time": "2025-04-23T16:21:11.094Z"
   },
   {
    "duration": 48,
    "start_time": "2025-04-23T16:21:11.099Z"
   },
   {
    "duration": 33,
    "start_time": "2025-04-23T16:21:11.149Z"
   },
   {
    "duration": 4,
    "start_time": "2025-04-23T16:21:11.184Z"
   },
   {
    "duration": 18,
    "start_time": "2025-04-23T16:21:11.190Z"
   },
   {
    "duration": 35,
    "start_time": "2025-04-23T16:21:11.209Z"
   },
   {
    "duration": 11,
    "start_time": "2025-04-23T16:21:11.246Z"
   },
   {
    "duration": 8,
    "start_time": "2025-04-23T16:21:11.260Z"
   },
   {
    "duration": 6,
    "start_time": "2025-04-23T16:21:11.269Z"
   },
   {
    "duration": 9,
    "start_time": "2025-04-23T16:21:11.277Z"
   },
   {
    "duration": 333,
    "start_time": "2025-04-23T16:21:11.287Z"
   },
   {
    "duration": 197,
    "start_time": "2025-04-23T16:21:37.797Z"
   },
   {
    "duration": 404,
    "start_time": "2025-04-23T16:21:51.115Z"
   },
   {
    "duration": 406,
    "start_time": "2025-04-23T16:22:20.708Z"
   },
   {
    "duration": 527,
    "start_time": "2025-04-23T16:22:55.797Z"
   },
   {
    "duration": 368,
    "start_time": "2025-04-23T16:23:23.271Z"
   },
   {
    "duration": 354,
    "start_time": "2025-04-23T16:31:14.569Z"
   },
   {
    "duration": 381,
    "start_time": "2025-04-23T16:31:55.585Z"
   },
   {
    "duration": 348,
    "start_time": "2025-04-23T16:32:41.257Z"
   },
   {
    "duration": 375,
    "start_time": "2025-04-23T16:32:49.436Z"
   },
   {
    "duration": 226,
    "start_time": "2025-04-23T16:34:39.188Z"
   },
   {
    "duration": 125,
    "start_time": "2025-04-23T16:35:32.066Z"
   },
   {
    "duration": 124,
    "start_time": "2025-04-23T16:37:00.412Z"
   },
   {
    "duration": 126,
    "start_time": "2025-04-23T16:37:39.349Z"
   },
   {
    "duration": 124,
    "start_time": "2025-04-23T16:38:11.250Z"
   },
   {
    "duration": 124,
    "start_time": "2025-04-23T16:40:13.219Z"
   },
   {
    "duration": 58,
    "start_time": "2025-04-23T16:41:23.765Z"
   },
   {
    "duration": 125,
    "start_time": "2025-04-23T16:47:16.744Z"
   },
   {
    "duration": 57,
    "start_time": "2025-04-23T16:47:38.027Z"
   },
   {
    "duration": 55,
    "start_time": "2025-04-23T16:48:37.368Z"
   },
   {
    "duration": 132,
    "start_time": "2025-04-23T16:49:24.065Z"
   },
   {
    "duration": 135,
    "start_time": "2025-04-23T16:49:37.883Z"
   },
   {
    "duration": 123,
    "start_time": "2025-04-23T16:49:45.744Z"
   },
   {
    "duration": 128,
    "start_time": "2025-04-23T16:50:00.320Z"
   },
   {
    "duration": 114,
    "start_time": "2025-04-23T16:50:38.873Z"
   },
   {
    "duration": 317,
    "start_time": "2025-04-23T16:50:46.583Z"
   },
   {
    "duration": 265,
    "start_time": "2025-04-23T16:52:03.193Z"
   },
   {
    "duration": 289,
    "start_time": "2025-04-23T16:52:38.208Z"
   },
   {
    "duration": 1235,
    "start_time": "2025-04-23T17:13:20.951Z"
   },
   {
    "duration": 15,
    "start_time": "2025-04-23T17:13:53.763Z"
   },
   {
    "duration": 10,
    "start_time": "2025-04-23T17:14:08.554Z"
   },
   {
    "duration": 12,
    "start_time": "2025-04-23T17:15:27.026Z"
   },
   {
    "duration": 105,
    "start_time": "2025-04-23T17:18:21.203Z"
   },
   {
    "duration": 25,
    "start_time": "2025-04-23T17:18:50.925Z"
   },
   {
    "duration": 26,
    "start_time": "2025-04-23T17:19:39.963Z"
   },
   {
    "duration": 2606,
    "start_time": "2025-04-23T17:20:30.128Z"
   },
   {
    "duration": 1282,
    "start_time": "2025-04-23T17:20:32.736Z"
   },
   {
    "duration": 2146,
    "start_time": "2025-04-23T17:20:34.019Z"
   },
   {
    "duration": 6,
    "start_time": "2025-04-23T17:20:36.166Z"
   },
   {
    "duration": 40,
    "start_time": "2025-04-23T17:20:36.174Z"
   },
   {
    "duration": 201,
    "start_time": "2025-04-23T17:20:36.216Z"
   },
   {
    "duration": 20,
    "start_time": "2025-04-23T17:20:36.418Z"
   },
   {
    "duration": 201,
    "start_time": "2025-04-23T17:20:36.440Z"
   },
   {
    "duration": 20,
    "start_time": "2025-04-23T17:20:36.642Z"
   },
   {
    "duration": 66,
    "start_time": "2025-04-23T17:20:36.663Z"
   },
   {
    "duration": 30,
    "start_time": "2025-04-23T17:20:36.731Z"
   },
   {
    "duration": 11,
    "start_time": "2025-04-23T17:20:36.762Z"
   },
   {
    "duration": 11,
    "start_time": "2025-04-23T17:20:36.775Z"
   },
   {
    "duration": 192,
    "start_time": "2025-04-23T17:20:36.790Z"
   },
   {
    "duration": 58,
    "start_time": "2025-04-23T17:20:36.984Z"
   },
   {
    "duration": 127,
    "start_time": "2025-04-23T17:20:37.044Z"
   },
   {
    "duration": 10,
    "start_time": "2025-04-23T17:20:37.173Z"
   },
   {
    "duration": 23,
    "start_time": "2025-04-23T17:20:37.185Z"
   },
   {
    "duration": 14,
    "start_time": "2025-04-23T17:20:37.210Z"
   },
   {
    "duration": 37,
    "start_time": "2025-04-23T17:20:37.226Z"
   },
   {
    "duration": 12,
    "start_time": "2025-04-23T17:20:37.264Z"
   },
   {
    "duration": 26,
    "start_time": "2025-04-23T17:20:37.278Z"
   },
   {
    "duration": 49,
    "start_time": "2025-04-23T17:20:37.306Z"
   },
   {
    "duration": 37,
    "start_time": "2025-04-23T17:20:37.358Z"
   },
   {
    "duration": 44,
    "start_time": "2025-04-23T17:20:37.397Z"
   },
   {
    "duration": 6,
    "start_time": "2025-04-23T17:20:37.442Z"
   },
   {
    "duration": 37,
    "start_time": "2025-04-23T17:20:37.450Z"
   },
   {
    "duration": 100,
    "start_time": "2025-04-23T17:20:37.489Z"
   },
   {
    "duration": 80,
    "start_time": "2025-04-23T17:20:37.591Z"
   },
   {
    "duration": 16,
    "start_time": "2025-04-23T17:20:37.673Z"
   },
   {
    "duration": 52,
    "start_time": "2025-04-23T17:20:37.691Z"
   },
   {
    "duration": 23,
    "start_time": "2025-04-23T17:20:37.745Z"
   },
   {
    "duration": 26,
    "start_time": "2025-04-23T17:20:37.770Z"
   },
   {
    "duration": 41,
    "start_time": "2025-04-23T17:20:37.797Z"
   },
   {
    "duration": 72,
    "start_time": "2025-04-23T17:20:37.840Z"
   },
   {
    "duration": 33,
    "start_time": "2025-04-23T17:20:37.914Z"
   },
   {
    "duration": 5,
    "start_time": "2025-04-23T17:20:37.950Z"
   },
   {
    "duration": 9,
    "start_time": "2025-04-23T17:20:37.957Z"
   },
   {
    "duration": 34,
    "start_time": "2025-04-23T17:20:37.968Z"
   },
   {
    "duration": 11,
    "start_time": "2025-04-23T17:20:38.004Z"
   },
   {
    "duration": 8,
    "start_time": "2025-04-23T17:20:38.019Z"
   },
   {
    "duration": 11,
    "start_time": "2025-04-23T17:20:38.028Z"
   },
   {
    "duration": 6,
    "start_time": "2025-04-23T17:20:38.041Z"
   },
   {
    "duration": 436,
    "start_time": "2025-04-23T17:20:38.049Z"
   },
   {
    "duration": 357,
    "start_time": "2025-04-23T17:20:38.487Z"
   },
   {
    "duration": 12,
    "start_time": "2025-04-23T17:20:38.846Z"
   },
   {
    "duration": 105,
    "start_time": "2025-04-23T17:36:32.979Z"
   },
   {
    "duration": 15,
    "start_time": "2025-04-23T17:36:55.889Z"
   },
   {
    "duration": 36,
    "start_time": "2025-04-23T17:38:16.986Z"
   },
   {
    "duration": 18,
    "start_time": "2025-04-23T17:39:03.514Z"
   },
   {
    "duration": 2489,
    "start_time": "2025-04-23T17:41:10.457Z"
   },
   {
    "duration": 1273,
    "start_time": "2025-04-23T17:41:12.949Z"
   },
   {
    "duration": 1868,
    "start_time": "2025-04-23T17:41:14.223Z"
   },
   {
    "duration": 5,
    "start_time": "2025-04-23T17:41:16.093Z"
   },
   {
    "duration": 8,
    "start_time": "2025-04-23T17:41:16.100Z"
   },
   {
    "duration": 203,
    "start_time": "2025-04-23T17:41:16.109Z"
   },
   {
    "duration": 8,
    "start_time": "2025-04-23T17:41:16.314Z"
   },
   {
    "duration": 168,
    "start_time": "2025-04-23T17:41:16.324Z"
   },
   {
    "duration": 19,
    "start_time": "2025-04-23T17:41:16.494Z"
   },
   {
    "duration": 35,
    "start_time": "2025-04-23T17:41:16.514Z"
   },
   {
    "duration": 30,
    "start_time": "2025-04-23T17:41:16.551Z"
   },
   {
    "duration": 11,
    "start_time": "2025-04-23T17:41:16.583Z"
   },
   {
    "duration": 11,
    "start_time": "2025-04-23T17:41:16.596Z"
   },
   {
    "duration": 167,
    "start_time": "2025-04-23T17:41:16.637Z"
   },
   {
    "duration": 54,
    "start_time": "2025-04-23T17:41:16.806Z"
   },
   {
    "duration": 37,
    "start_time": "2025-04-23T17:41:16.862Z"
   },
   {
    "duration": 10,
    "start_time": "2025-04-23T17:41:16.900Z"
   },
   {
    "duration": 29,
    "start_time": "2025-04-23T17:41:16.912Z"
   },
   {
    "duration": 6,
    "start_time": "2025-04-23T17:41:16.942Z"
   },
   {
    "duration": 32,
    "start_time": "2025-04-23T17:41:16.949Z"
   },
   {
    "duration": 4,
    "start_time": "2025-04-23T17:41:16.983Z"
   },
   {
    "duration": 12,
    "start_time": "2025-04-23T17:41:16.989Z"
   },
   {
    "duration": 72,
    "start_time": "2025-04-23T17:41:17.003Z"
   },
   {
    "duration": 61,
    "start_time": "2025-04-23T17:41:17.077Z"
   },
   {
    "duration": 22,
    "start_time": "2025-04-23T17:41:17.140Z"
   },
   {
    "duration": 55,
    "start_time": "2025-04-23T17:41:17.164Z"
   },
   {
    "duration": 35,
    "start_time": "2025-04-23T17:41:17.221Z"
   },
   {
    "duration": 82,
    "start_time": "2025-04-23T17:41:17.258Z"
   },
   {
    "duration": 67,
    "start_time": "2025-04-23T17:41:17.342Z"
   },
   {
    "duration": 27,
    "start_time": "2025-04-23T17:41:17.411Z"
   },
   {
    "duration": 23,
    "start_time": "2025-04-23T17:41:17.440Z"
   },
   {
    "duration": 24,
    "start_time": "2025-04-23T17:41:17.465Z"
   },
   {
    "duration": 54,
    "start_time": "2025-04-23T17:41:17.490Z"
   },
   {
    "duration": 3,
    "start_time": "2025-04-23T17:41:17.546Z"
   },
   {
    "duration": 31,
    "start_time": "2025-04-23T17:41:17.550Z"
   },
   {
    "duration": 32,
    "start_time": "2025-04-23T17:41:17.583Z"
   },
   {
    "duration": 5,
    "start_time": "2025-04-23T17:41:17.616Z"
   },
   {
    "duration": 9,
    "start_time": "2025-04-23T17:41:17.638Z"
   },
   {
    "duration": 30,
    "start_time": "2025-04-23T17:41:17.649Z"
   },
   {
    "duration": 11,
    "start_time": "2025-04-23T17:41:17.680Z"
   },
   {
    "duration": 18,
    "start_time": "2025-04-23T17:41:17.694Z"
   },
   {
    "duration": 33,
    "start_time": "2025-04-23T17:41:17.713Z"
   },
   {
    "duration": 6,
    "start_time": "2025-04-23T17:41:17.748Z"
   },
   {
    "duration": 404,
    "start_time": "2025-04-23T17:41:17.755Z"
   },
   {
    "duration": 258,
    "start_time": "2025-04-23T17:41:18.161Z"
   },
   {
    "duration": 16,
    "start_time": "2025-04-23T17:41:18.421Z"
   },
   {
    "duration": 47,
    "start_time": "2025-04-23T17:41:18.439Z"
   },
   {
    "duration": 7,
    "start_time": "2025-04-23T17:41:18.488Z"
   },
   {
    "duration": 7,
    "start_time": "2025-04-23T17:41:18.497Z"
   },
   {
    "duration": 4,
    "start_time": "2025-04-23T17:54:02.955Z"
   },
   {
    "duration": 3,
    "start_time": "2025-04-23T17:54:10.372Z"
   },
   {
    "duration": 5,
    "start_time": "2025-04-23T17:54:41.075Z"
   },
   {
    "duration": 109,
    "start_time": "2025-04-23T17:55:01.259Z"
   },
   {
    "duration": 14,
    "start_time": "2025-04-23T17:55:24.123Z"
   },
   {
    "duration": 2557,
    "start_time": "2025-04-23T17:59:48.601Z"
   },
   {
    "duration": 1269,
    "start_time": "2025-04-23T17:59:51.161Z"
   },
   {
    "duration": 2131,
    "start_time": "2025-04-23T17:59:52.432Z"
   },
   {
    "duration": 6,
    "start_time": "2025-04-23T17:59:54.564Z"
   },
   {
    "duration": 6,
    "start_time": "2025-04-23T17:59:54.572Z"
   },
   {
    "duration": 236,
    "start_time": "2025-04-23T17:59:54.580Z"
   },
   {
    "duration": 7,
    "start_time": "2025-04-23T17:59:54.818Z"
   },
   {
    "duration": 167,
    "start_time": "2025-04-23T17:59:54.838Z"
   },
   {
    "duration": 19,
    "start_time": "2025-04-23T17:59:55.006Z"
   },
   {
    "duration": 78,
    "start_time": "2025-04-23T17:59:55.026Z"
   },
   {
    "duration": 32,
    "start_time": "2025-04-23T17:59:55.106Z"
   },
   {
    "duration": 11,
    "start_time": "2025-04-23T17:59:55.140Z"
   },
   {
    "duration": 11,
    "start_time": "2025-04-23T17:59:55.153Z"
   },
   {
    "duration": 182,
    "start_time": "2025-04-23T17:59:55.168Z"
   },
   {
    "duration": 45,
    "start_time": "2025-04-23T17:59:55.352Z"
   },
   {
    "duration": 52,
    "start_time": "2025-04-23T17:59:55.399Z"
   },
   {
    "duration": 10,
    "start_time": "2025-04-23T17:59:55.453Z"
   },
   {
    "duration": 4,
    "start_time": "2025-04-23T17:59:55.465Z"
   },
   {
    "duration": 13,
    "start_time": "2025-04-23T17:59:55.471Z"
   },
   {
    "duration": 40,
    "start_time": "2025-04-23T17:59:55.486Z"
   },
   {
    "duration": 12,
    "start_time": "2025-04-23T17:59:55.528Z"
   },
   {
    "duration": 17,
    "start_time": "2025-04-23T17:59:55.542Z"
   },
   {
    "duration": 48,
    "start_time": "2025-04-23T17:59:55.561Z"
   },
   {
    "duration": 58,
    "start_time": "2025-04-23T17:59:55.610Z"
   },
   {
    "duration": 22,
    "start_time": "2025-04-23T17:59:55.670Z"
   },
   {
    "duration": 6,
    "start_time": "2025-04-23T17:59:55.694Z"
   },
   {
    "duration": 56,
    "start_time": "2025-04-23T17:59:55.702Z"
   },
   {
    "duration": 77,
    "start_time": "2025-04-23T17:59:55.760Z"
   },
   {
    "duration": 69,
    "start_time": "2025-04-23T17:59:55.839Z"
   },
   {
    "duration": 33,
    "start_time": "2025-04-23T17:59:55.910Z"
   },
   {
    "duration": 92,
    "start_time": "2025-04-23T17:59:55.945Z"
   },
   {
    "duration": 24,
    "start_time": "2025-04-23T17:59:56.039Z"
   },
   {
    "duration": 27,
    "start_time": "2025-04-23T17:59:56.065Z"
   },
   {
    "duration": 4,
    "start_time": "2025-04-23T17:59:56.093Z"
   },
   {
    "duration": 51,
    "start_time": "2025-04-23T17:59:56.099Z"
   },
   {
    "duration": 36,
    "start_time": "2025-04-23T17:59:56.152Z"
   },
   {
    "duration": 6,
    "start_time": "2025-04-23T17:59:56.190Z"
   },
   {
    "duration": 19,
    "start_time": "2025-04-23T17:59:56.197Z"
   },
   {
    "duration": 36,
    "start_time": "2025-04-23T17:59:56.218Z"
   },
   {
    "duration": 11,
    "start_time": "2025-04-23T17:59:56.256Z"
   },
   {
    "duration": 9,
    "start_time": "2025-04-23T17:59:56.273Z"
   },
   {
    "duration": 7,
    "start_time": "2025-04-23T17:59:56.284Z"
   },
   {
    "duration": 48,
    "start_time": "2025-04-23T17:59:56.293Z"
   },
   {
    "duration": 373,
    "start_time": "2025-04-23T17:59:56.343Z"
   },
   {
    "duration": 292,
    "start_time": "2025-04-23T17:59:56.718Z"
   },
   {
    "duration": 5,
    "start_time": "2025-04-23T17:59:57.012Z"
   },
   {
    "duration": 39,
    "start_time": "2025-04-23T17:59:57.018Z"
   },
   {
    "duration": 7,
    "start_time": "2025-04-23T17:59:57.058Z"
   },
   {
    "duration": 8,
    "start_time": "2025-04-23T17:59:57.066Z"
   },
   {
    "duration": 124,
    "start_time": "2025-04-23T17:59:57.075Z"
   },
   {
    "duration": 0,
    "start_time": "2025-04-23T17:59:57.201Z"
   },
   {
    "duration": 6,
    "start_time": "2025-04-23T18:00:48.420Z"
   },
   {
    "duration": 6,
    "start_time": "2025-04-23T18:00:49.998Z"
   },
   {
    "duration": 6,
    "start_time": "2025-04-23T18:01:27.734Z"
   },
   {
    "duration": 5,
    "start_time": "2025-04-23T18:01:28.494Z"
   },
   {
    "duration": 5,
    "start_time": "2025-04-23T18:03:02.229Z"
   },
   {
    "duration": 5,
    "start_time": "2025-04-23T18:03:55.245Z"
   },
   {
    "duration": 304,
    "start_time": "2025-04-23T18:10:15.314Z"
   },
   {
    "duration": 2609,
    "start_time": "2025-04-23T18:10:33.635Z"
   },
   {
    "duration": 1276,
    "start_time": "2025-04-23T18:10:36.247Z"
   },
   {
    "duration": 2156,
    "start_time": "2025-04-23T18:10:37.525Z"
   },
   {
    "duration": 6,
    "start_time": "2025-04-23T18:10:39.683Z"
   },
   {
    "duration": 10,
    "start_time": "2025-04-23T18:10:39.691Z"
   },
   {
    "duration": 196,
    "start_time": "2025-04-23T18:10:39.703Z"
   },
   {
    "duration": 7,
    "start_time": "2025-04-23T18:10:39.901Z"
   },
   {
    "duration": 183,
    "start_time": "2025-04-23T18:10:39.911Z"
   },
   {
    "duration": 19,
    "start_time": "2025-04-23T18:10:40.096Z"
   },
   {
    "duration": 37,
    "start_time": "2025-04-23T18:10:40.117Z"
   },
   {
    "duration": 32,
    "start_time": "2025-04-23T18:10:40.156Z"
   },
   {
    "duration": 12,
    "start_time": "2025-04-23T18:10:40.190Z"
   },
   {
    "duration": 35,
    "start_time": "2025-04-23T18:10:40.204Z"
   },
   {
    "duration": 175,
    "start_time": "2025-04-23T18:10:40.243Z"
   },
   {
    "duration": 56,
    "start_time": "2025-04-23T18:10:40.420Z"
   },
   {
    "duration": 36,
    "start_time": "2025-04-23T18:10:40.478Z"
   },
   {
    "duration": 28,
    "start_time": "2025-04-23T18:10:40.516Z"
   },
   {
    "duration": 5,
    "start_time": "2025-04-23T18:10:40.546Z"
   },
   {
    "duration": 12,
    "start_time": "2025-04-23T18:10:40.553Z"
   },
   {
    "duration": 33,
    "start_time": "2025-04-23T18:10:40.567Z"
   },
   {
    "duration": 37,
    "start_time": "2025-04-23T18:10:40.601Z"
   },
   {
    "duration": 12,
    "start_time": "2025-04-23T18:10:40.640Z"
   },
   {
    "duration": 46,
    "start_time": "2025-04-23T18:10:40.655Z"
   },
   {
    "duration": 59,
    "start_time": "2025-04-23T18:10:40.703Z"
   },
   {
    "duration": 23,
    "start_time": "2025-04-23T18:10:40.764Z"
   },
   {
    "duration": 47,
    "start_time": "2025-04-23T18:10:40.789Z"
   },
   {
    "duration": 38,
    "start_time": "2025-04-23T18:10:40.839Z"
   },
   {
    "duration": 77,
    "start_time": "2025-04-23T18:10:40.878Z"
   },
   {
    "duration": 68,
    "start_time": "2025-04-23T18:10:40.957Z"
   },
   {
    "duration": 20,
    "start_time": "2025-04-23T18:10:41.038Z"
   },
   {
    "duration": 23,
    "start_time": "2025-04-23T18:10:41.060Z"
   },
   {
    "duration": 25,
    "start_time": "2025-04-23T18:10:41.085Z"
   },
   {
    "duration": 26,
    "start_time": "2025-04-23T18:10:41.137Z"
   },
   {
    "duration": 3,
    "start_time": "2025-04-23T18:10:41.165Z"
   },
   {
    "duration": 23,
    "start_time": "2025-04-23T18:10:41.170Z"
   },
   {
    "duration": 57,
    "start_time": "2025-04-23T18:10:41.195Z"
   },
   {
    "duration": 6,
    "start_time": "2025-04-23T18:10:41.253Z"
   },
   {
    "duration": 84,
    "start_time": "2025-04-23T18:10:41.261Z"
   },
   {
    "duration": 21,
    "start_time": "2025-04-23T18:10:41.346Z"
   },
   {
    "duration": 11,
    "start_time": "2025-04-23T18:10:41.369Z"
   },
   {
    "duration": 8,
    "start_time": "2025-04-23T18:10:41.383Z"
   },
   {
    "duration": 6,
    "start_time": "2025-04-23T18:10:41.393Z"
   },
   {
    "duration": 39,
    "start_time": "2025-04-23T18:10:41.401Z"
   },
   {
    "duration": 380,
    "start_time": "2025-04-23T18:10:41.442Z"
   },
   {
    "duration": 294,
    "start_time": "2025-04-23T18:10:41.825Z"
   },
   {
    "duration": 17,
    "start_time": "2025-04-23T18:10:42.121Z"
   },
   {
    "duration": 26,
    "start_time": "2025-04-23T18:10:42.140Z"
   },
   {
    "duration": 7,
    "start_time": "2025-04-23T18:10:42.168Z"
   },
   {
    "duration": 8,
    "start_time": "2025-04-23T18:10:42.177Z"
   },
   {
    "duration": 8,
    "start_time": "2025-04-23T18:10:42.187Z"
   },
   {
    "duration": 8,
    "start_time": "2025-04-23T18:10:42.197Z"
   },
   {
    "duration": 31,
    "start_time": "2025-04-23T18:10:42.207Z"
   },
   {
    "duration": 301,
    "start_time": "2025-04-23T18:10:42.239Z"
   },
   {
    "duration": 4,
    "start_time": "2025-04-23T18:11:10.670Z"
   },
   {
    "duration": 337,
    "start_time": "2025-04-23T18:11:11.239Z"
   },
   {
    "duration": 332,
    "start_time": "2025-04-23T18:11:32.680Z"
   },
   {
    "duration": 239,
    "start_time": "2025-04-23T18:12:11.480Z"
   },
   {
    "duration": 340,
    "start_time": "2025-04-23T18:12:19.021Z"
   },
   {
    "duration": 111,
    "start_time": "2025-04-23T18:13:59.216Z"
   },
   {
    "duration": 287,
    "start_time": "2025-04-23T18:15:49.307Z"
   },
   {
    "duration": 246,
    "start_time": "2025-04-23T18:18:28.368Z"
   },
   {
    "duration": 280,
    "start_time": "2025-04-23T18:18:49.449Z"
   },
   {
    "duration": 265,
    "start_time": "2025-04-23T18:19:04.467Z"
   },
   {
    "duration": 2624,
    "start_time": "2025-04-23T18:19:53.132Z"
   },
   {
    "duration": 1465,
    "start_time": "2025-04-23T18:19:55.758Z"
   },
   {
    "duration": 1946,
    "start_time": "2025-04-23T18:19:57.225Z"
   },
   {
    "duration": 6,
    "start_time": "2025-04-23T18:19:59.173Z"
   },
   {
    "duration": 22,
    "start_time": "2025-04-23T18:19:59.181Z"
   },
   {
    "duration": 187,
    "start_time": "2025-04-23T18:19:59.205Z"
   },
   {
    "duration": 7,
    "start_time": "2025-04-23T18:19:59.394Z"
   },
   {
    "duration": 170,
    "start_time": "2025-04-23T18:19:59.403Z"
   },
   {
    "duration": 18,
    "start_time": "2025-04-23T18:19:59.575Z"
   },
   {
    "duration": 27,
    "start_time": "2025-04-23T18:19:59.596Z"
   },
   {
    "duration": 42,
    "start_time": "2025-04-23T18:19:59.624Z"
   },
   {
    "duration": 10,
    "start_time": "2025-04-23T18:19:59.668Z"
   },
   {
    "duration": 10,
    "start_time": "2025-04-23T18:19:59.679Z"
   },
   {
    "duration": 186,
    "start_time": "2025-04-23T18:19:59.691Z"
   },
   {
    "duration": 45,
    "start_time": "2025-04-23T18:19:59.879Z"
   },
   {
    "duration": 38,
    "start_time": "2025-04-23T18:19:59.938Z"
   },
   {
    "duration": 10,
    "start_time": "2025-04-23T18:19:59.977Z"
   },
   {
    "duration": 3,
    "start_time": "2025-04-23T18:19:59.989Z"
   },
   {
    "duration": 88,
    "start_time": "2025-04-23T18:19:59.994Z"
   },
   {
    "duration": 55,
    "start_time": "2025-04-23T18:20:00.083Z"
   },
   {
    "duration": 16,
    "start_time": "2025-04-23T18:20:00.139Z"
   },
   {
    "duration": 21,
    "start_time": "2025-04-23T18:20:00.157Z"
   },
   {
    "duration": 94,
    "start_time": "2025-04-23T18:20:00.180Z"
   },
   {
    "duration": 40,
    "start_time": "2025-04-23T18:20:00.276Z"
   },
   {
    "duration": 48,
    "start_time": "2025-04-23T18:20:00.318Z"
   },
   {
    "duration": 16,
    "start_time": "2025-04-23T18:20:00.368Z"
   },
   {
    "duration": 61,
    "start_time": "2025-04-23T18:20:00.386Z"
   },
   {
    "duration": 75,
    "start_time": "2025-04-23T18:20:00.451Z"
   },
   {
    "duration": 68,
    "start_time": "2025-04-23T18:20:00.528Z"
   },
   {
    "duration": 16,
    "start_time": "2025-04-23T18:20:00.598Z"
   },
   {
    "duration": 53,
    "start_time": "2025-04-23T18:20:00.616Z"
   },
   {
    "duration": 38,
    "start_time": "2025-04-23T18:20:00.671Z"
   },
   {
    "duration": 33,
    "start_time": "2025-04-23T18:20:00.711Z"
   },
   {
    "duration": 3,
    "start_time": "2025-04-23T18:20:00.746Z"
   },
   {
    "duration": 25,
    "start_time": "2025-04-23T18:20:00.751Z"
   },
   {
    "duration": 34,
    "start_time": "2025-04-23T18:20:00.778Z"
   },
   {
    "duration": 45,
    "start_time": "2025-04-23T18:20:00.814Z"
   },
   {
    "duration": 18,
    "start_time": "2025-04-23T18:20:00.861Z"
   },
   {
    "duration": 33,
    "start_time": "2025-04-23T18:20:00.882Z"
   },
   {
    "duration": 41,
    "start_time": "2025-04-23T18:20:00.917Z"
   },
   {
    "duration": 37,
    "start_time": "2025-04-23T18:20:00.960Z"
   },
   {
    "duration": 8,
    "start_time": "2025-04-23T18:20:00.998Z"
   },
   {
    "duration": 31,
    "start_time": "2025-04-23T18:20:01.008Z"
   },
   {
    "duration": 376,
    "start_time": "2025-04-23T18:20:01.040Z"
   },
   {
    "duration": 303,
    "start_time": "2025-04-23T18:20:01.418Z"
   },
   {
    "duration": 14,
    "start_time": "2025-04-23T18:20:01.723Z"
   },
   {
    "duration": 47,
    "start_time": "2025-04-23T18:20:01.739Z"
   },
   {
    "duration": 7,
    "start_time": "2025-04-23T18:20:01.788Z"
   },
   {
    "duration": 44,
    "start_time": "2025-04-23T18:20:01.797Z"
   },
   {
    "duration": 8,
    "start_time": "2025-04-23T18:20:01.843Z"
   },
   {
    "duration": 6,
    "start_time": "2025-04-23T18:20:01.852Z"
   },
   {
    "duration": 318,
    "start_time": "2025-04-23T18:20:01.859Z"
   },
   {
    "duration": 8,
    "start_time": "2025-04-23T18:24:34.358Z"
   },
   {
    "duration": 7,
    "start_time": "2025-04-23T18:24:43.633Z"
   },
   {
    "duration": 8,
    "start_time": "2025-04-23T18:25:23.327Z"
   },
   {
    "duration": 8,
    "start_time": "2025-04-23T18:25:45.697Z"
   },
   {
    "duration": 7,
    "start_time": "2025-04-23T18:26:31.295Z"
   },
   {
    "duration": 6,
    "start_time": "2025-04-23T18:27:22.008Z"
   },
   {
    "duration": 9,
    "start_time": "2025-04-23T18:28:50.753Z"
   },
   {
    "duration": 2533,
    "start_time": "2025-04-23T18:38:31.897Z"
   },
   {
    "duration": 1278,
    "start_time": "2025-04-23T18:38:34.433Z"
   },
   {
    "duration": 2033,
    "start_time": "2025-04-23T18:38:35.713Z"
   },
   {
    "duration": 6,
    "start_time": "2025-04-23T18:38:37.748Z"
   },
   {
    "duration": 15,
    "start_time": "2025-04-23T18:38:37.756Z"
   },
   {
    "duration": 212,
    "start_time": "2025-04-23T18:38:37.773Z"
   },
   {
    "duration": 8,
    "start_time": "2025-04-23T18:38:37.987Z"
   },
   {
    "duration": 163,
    "start_time": "2025-04-23T18:38:37.996Z"
   },
   {
    "duration": 20,
    "start_time": "2025-04-23T18:38:38.160Z"
   },
   {
    "duration": 21,
    "start_time": "2025-04-23T18:38:38.183Z"
   },
   {
    "duration": 33,
    "start_time": "2025-04-23T18:38:38.206Z"
   },
   {
    "duration": 11,
    "start_time": "2025-04-23T18:38:38.240Z"
   },
   {
    "duration": 9,
    "start_time": "2025-04-23T18:38:38.253Z"
   },
   {
    "duration": 168,
    "start_time": "2025-04-23T18:38:38.264Z"
   },
   {
    "duration": 45,
    "start_time": "2025-04-23T18:38:38.437Z"
   },
   {
    "duration": 37,
    "start_time": "2025-04-23T18:38:38.483Z"
   },
   {
    "duration": 19,
    "start_time": "2025-04-23T18:38:38.521Z"
   },
   {
    "duration": 4,
    "start_time": "2025-04-23T18:38:38.542Z"
   },
   {
    "duration": 5,
    "start_time": "2025-04-23T18:38:38.548Z"
   },
   {
    "duration": 32,
    "start_time": "2025-04-23T18:38:38.555Z"
   },
   {
    "duration": 11,
    "start_time": "2025-04-23T18:38:38.588Z"
   },
   {
    "duration": 24,
    "start_time": "2025-04-23T18:38:38.600Z"
   },
   {
    "duration": 44,
    "start_time": "2025-04-23T18:38:38.626Z"
   },
   {
    "duration": 54,
    "start_time": "2025-04-23T18:38:38.671Z"
   },
   {
    "duration": 22,
    "start_time": "2025-04-23T18:38:38.727Z"
   },
   {
    "duration": 5,
    "start_time": "2025-04-23T18:38:38.751Z"
   },
   {
    "duration": 46,
    "start_time": "2025-04-23T18:38:38.757Z"
   },
   {
    "duration": 69,
    "start_time": "2025-04-23T18:38:38.806Z"
   },
   {
    "duration": 73,
    "start_time": "2025-04-23T18:38:38.877Z"
   },
   {
    "duration": 16,
    "start_time": "2025-04-23T18:38:38.952Z"
   },
   {
    "duration": 30,
    "start_time": "2025-04-23T18:38:38.969Z"
   },
   {
    "duration": 22,
    "start_time": "2025-04-23T18:38:39.001Z"
   },
   {
    "duration": 27,
    "start_time": "2025-04-23T18:38:39.024Z"
   },
   {
    "duration": 3,
    "start_time": "2025-04-23T18:38:39.053Z"
   },
   {
    "duration": 24,
    "start_time": "2025-04-23T18:38:39.057Z"
   },
   {
    "duration": 33,
    "start_time": "2025-04-23T18:38:39.083Z"
   },
   {
    "duration": 5,
    "start_time": "2025-04-23T18:38:39.118Z"
   },
   {
    "duration": 18,
    "start_time": "2025-04-23T18:38:39.124Z"
   },
   {
    "duration": 22,
    "start_time": "2025-04-23T18:38:39.144Z"
   },
   {
    "duration": 12,
    "start_time": "2025-04-23T18:38:39.167Z"
   },
   {
    "duration": 9,
    "start_time": "2025-04-23T18:38:39.180Z"
   },
   {
    "duration": 5,
    "start_time": "2025-04-23T18:38:39.190Z"
   },
   {
    "duration": 7,
    "start_time": "2025-04-23T18:38:39.197Z"
   },
   {
    "duration": 544,
    "start_time": "2025-04-23T18:38:39.238Z"
   },
   {
    "duration": 270,
    "start_time": "2025-04-23T18:38:39.784Z"
   },
   {
    "duration": 6,
    "start_time": "2025-04-23T18:38:40.056Z"
   },
   {
    "duration": 87,
    "start_time": "2025-04-23T18:38:40.063Z"
   },
   {
    "duration": 5,
    "start_time": "2025-04-23T18:38:40.152Z"
   },
   {
    "duration": 7,
    "start_time": "2025-04-23T18:38:40.159Z"
   },
   {
    "duration": 12,
    "start_time": "2025-04-23T18:38:40.168Z"
   },
   {
    "duration": 17,
    "start_time": "2025-04-23T18:38:40.181Z"
   },
   {
    "duration": 306,
    "start_time": "2025-04-23T18:38:40.199Z"
   },
   {
    "duration": 56,
    "start_time": "2025-04-24T05:21:02.247Z"
   },
   {
    "duration": 3347,
    "start_time": "2025-04-24T05:21:20.349Z"
   },
   {
    "duration": 1384,
    "start_time": "2025-04-24T05:21:23.698Z"
   },
   {
    "duration": 2403,
    "start_time": "2025-04-24T05:21:25.086Z"
   },
   {
    "duration": 6,
    "start_time": "2025-04-24T05:21:27.491Z"
   },
   {
    "duration": 26,
    "start_time": "2025-04-24T05:21:27.498Z"
   },
   {
    "duration": 221,
    "start_time": "2025-04-24T05:21:27.527Z"
   },
   {
    "duration": 7,
    "start_time": "2025-04-24T05:21:27.750Z"
   },
   {
    "duration": 156,
    "start_time": "2025-04-24T05:21:27.759Z"
   },
   {
    "duration": 23,
    "start_time": "2025-04-24T05:21:27.916Z"
   },
   {
    "duration": 28,
    "start_time": "2025-04-24T05:21:27.943Z"
   },
   {
    "duration": 27,
    "start_time": "2025-04-24T05:21:27.973Z"
   },
   {
    "duration": 36,
    "start_time": "2025-04-24T05:21:28.001Z"
   },
   {
    "duration": 44,
    "start_time": "2025-04-24T05:21:28.043Z"
   },
   {
    "duration": 183,
    "start_time": "2025-04-24T05:21:28.089Z"
   },
   {
    "duration": 44,
    "start_time": "2025-04-24T05:21:28.273Z"
   },
   {
    "duration": 50,
    "start_time": "2025-04-24T05:21:28.319Z"
   },
   {
    "duration": 11,
    "start_time": "2025-04-24T05:21:28.370Z"
   },
   {
    "duration": 9,
    "start_time": "2025-04-24T05:21:28.382Z"
   },
   {
    "duration": 18,
    "start_time": "2025-04-24T05:21:28.392Z"
   },
   {
    "duration": 47,
    "start_time": "2025-04-24T05:21:28.411Z"
   },
   {
    "duration": 5,
    "start_time": "2025-04-24T05:21:28.460Z"
   },
   {
    "duration": 15,
    "start_time": "2025-04-24T05:21:28.466Z"
   },
   {
    "duration": 56,
    "start_time": "2025-04-24T05:21:28.483Z"
   },
   {
    "duration": 43,
    "start_time": "2025-04-24T05:21:28.542Z"
   },
   {
    "duration": 19,
    "start_time": "2025-04-24T05:21:28.587Z"
   },
   {
    "duration": 18,
    "start_time": "2025-04-24T05:21:28.608Z"
   },
   {
    "duration": 52,
    "start_time": "2025-04-24T05:21:28.627Z"
   },
   {
    "duration": 77,
    "start_time": "2025-04-24T05:21:28.681Z"
   },
   {
    "duration": 60,
    "start_time": "2025-04-24T05:21:28.761Z"
   },
   {
    "duration": 34,
    "start_time": "2025-04-24T05:21:28.822Z"
   },
   {
    "duration": 47,
    "start_time": "2025-04-24T05:21:28.859Z"
   },
   {
    "duration": 20,
    "start_time": "2025-04-24T05:21:28.907Z"
   },
   {
    "duration": 39,
    "start_time": "2025-04-24T05:21:28.928Z"
   },
   {
    "duration": 7,
    "start_time": "2025-04-24T05:21:28.969Z"
   },
   {
    "duration": 41,
    "start_time": "2025-04-24T05:21:28.978Z"
   },
   {
    "duration": 44,
    "start_time": "2025-04-24T05:21:29.021Z"
   },
   {
    "duration": 6,
    "start_time": "2025-04-24T05:21:29.067Z"
   },
   {
    "duration": 40,
    "start_time": "2025-04-24T05:21:29.075Z"
   },
   {
    "duration": 20,
    "start_time": "2025-04-24T05:21:29.117Z"
   },
   {
    "duration": 15,
    "start_time": "2025-04-24T05:21:29.144Z"
   },
   {
    "duration": 9,
    "start_time": "2025-04-24T05:21:29.162Z"
   },
   {
    "duration": 6,
    "start_time": "2025-04-24T05:21:29.172Z"
   },
   {
    "duration": 13,
    "start_time": "2025-04-24T05:21:29.179Z"
   },
   {
    "duration": 460,
    "start_time": "2025-04-24T05:21:29.193Z"
   },
   {
    "duration": 289,
    "start_time": "2025-04-24T05:21:29.656Z"
   },
   {
    "duration": 5,
    "start_time": "2025-04-24T05:21:29.947Z"
   },
   {
    "duration": 29,
    "start_time": "2025-04-24T05:21:29.955Z"
   },
   {
    "duration": 7,
    "start_time": "2025-04-24T05:21:29.985Z"
   },
   {
    "duration": 7,
    "start_time": "2025-04-24T05:21:29.993Z"
   },
   {
    "duration": 56,
    "start_time": "2025-04-24T05:21:30.002Z"
   },
   {
    "duration": 67,
    "start_time": "2025-04-24T05:21:30.060Z"
   },
   {
    "duration": 295,
    "start_time": "2025-04-24T05:21:30.129Z"
   },
   {
    "duration": 38,
    "start_time": "2025-04-24T05:21:30.426Z"
   },
   {
    "duration": 11,
    "start_time": "2025-04-24T05:21:49.730Z"
   },
   {
    "duration": 14,
    "start_time": "2025-04-24T05:22:00.725Z"
   },
   {
    "duration": 7,
    "start_time": "2025-04-24T05:44:21.690Z"
   },
   {
    "duration": 102,
    "start_time": "2025-04-24T06:01:32.273Z"
   },
   {
    "duration": 11,
    "start_time": "2025-04-24T06:01:57.297Z"
   },
   {
    "duration": 6,
    "start_time": "2025-04-24T06:01:57.953Z"
   },
   {
    "duration": 8,
    "start_time": "2025-04-24T06:06:39.163Z"
   },
   {
    "duration": 6,
    "start_time": "2025-04-24T06:06:39.987Z"
   },
   {
    "duration": 2504,
    "start_time": "2025-04-24T06:14:42.079Z"
   },
   {
    "duration": 1242,
    "start_time": "2025-04-24T06:14:44.585Z"
   },
   {
    "duration": 2481,
    "start_time": "2025-04-24T06:14:45.830Z"
   },
   {
    "duration": 5,
    "start_time": "2025-04-24T06:14:48.313Z"
   },
   {
    "duration": 11,
    "start_time": "2025-04-24T06:14:48.320Z"
   },
   {
    "duration": 193,
    "start_time": "2025-04-24T06:14:48.333Z"
   },
   {
    "duration": 12,
    "start_time": "2025-04-24T06:14:48.528Z"
   },
   {
    "duration": 154,
    "start_time": "2025-04-24T06:14:48.541Z"
   },
   {
    "duration": 19,
    "start_time": "2025-04-24T06:14:48.697Z"
   },
   {
    "duration": 34,
    "start_time": "2025-04-24T06:14:48.718Z"
   },
   {
    "duration": 29,
    "start_time": "2025-04-24T06:14:48.754Z"
   },
   {
    "duration": 9,
    "start_time": "2025-04-24T06:14:48.785Z"
   },
   {
    "duration": 9,
    "start_time": "2025-04-24T06:14:48.796Z"
   },
   {
    "duration": 187,
    "start_time": "2025-04-24T06:14:48.808Z"
   },
   {
    "duration": 53,
    "start_time": "2025-04-24T06:14:48.997Z"
   },
   {
    "duration": 35,
    "start_time": "2025-04-24T06:14:49.051Z"
   },
   {
    "duration": 11,
    "start_time": "2025-04-24T06:14:49.088Z"
   },
   {
    "duration": 10,
    "start_time": "2025-04-24T06:14:49.100Z"
   },
   {
    "duration": 27,
    "start_time": "2025-04-24T06:14:49.112Z"
   },
   {
    "duration": 32,
    "start_time": "2025-04-24T06:14:49.141Z"
   },
   {
    "duration": 4,
    "start_time": "2025-04-24T06:14:49.175Z"
   },
   {
    "duration": 22,
    "start_time": "2025-04-24T06:14:49.181Z"
   },
   {
    "duration": 69,
    "start_time": "2025-04-24T06:14:49.205Z"
   },
   {
    "duration": 45,
    "start_time": "2025-04-24T06:14:49.275Z"
   },
   {
    "duration": 31,
    "start_time": "2025-04-24T06:14:49.322Z"
   },
   {
    "duration": 5,
    "start_time": "2025-04-24T06:14:49.355Z"
   },
   {
    "duration": 64,
    "start_time": "2025-04-24T06:14:49.361Z"
   },
   {
    "duration": 75,
    "start_time": "2025-04-24T06:14:49.427Z"
   },
   {
    "duration": 78,
    "start_time": "2025-04-24T06:14:49.504Z"
   },
   {
    "duration": 15,
    "start_time": "2025-04-24T06:14:49.584Z"
   },
   {
    "duration": 46,
    "start_time": "2025-04-24T06:14:49.601Z"
   },
   {
    "duration": 22,
    "start_time": "2025-04-24T06:14:49.649Z"
   },
   {
    "duration": 27,
    "start_time": "2025-04-24T06:14:49.673Z"
   },
   {
    "duration": 4,
    "start_time": "2025-04-24T06:14:49.702Z"
   },
   {
    "duration": 48,
    "start_time": "2025-04-24T06:14:49.708Z"
   },
   {
    "duration": 36,
    "start_time": "2025-04-24T06:14:49.758Z"
   },
   {
    "duration": 6,
    "start_time": "2025-04-24T06:14:49.796Z"
   },
   {
    "duration": 10,
    "start_time": "2025-04-24T06:14:49.804Z"
   },
   {
    "duration": 26,
    "start_time": "2025-04-24T06:14:49.840Z"
   },
   {
    "duration": 10,
    "start_time": "2025-04-24T06:14:49.867Z"
   },
   {
    "duration": 11,
    "start_time": "2025-04-24T06:14:49.881Z"
   },
   {
    "duration": 6,
    "start_time": "2025-04-24T06:14:49.893Z"
   },
   {
    "duration": 7,
    "start_time": "2025-04-24T06:14:49.900Z"
   },
   {
    "duration": 396,
    "start_time": "2025-04-24T06:14:49.908Z"
   },
   {
    "duration": 299,
    "start_time": "2025-04-24T06:14:50.306Z"
   },
   {
    "duration": 4,
    "start_time": "2025-04-24T06:14:50.607Z"
   },
   {
    "duration": 32,
    "start_time": "2025-04-24T06:14:50.613Z"
   },
   {
    "duration": 6,
    "start_time": "2025-04-24T06:14:50.646Z"
   },
   {
    "duration": 22,
    "start_time": "2025-04-24T06:14:50.653Z"
   },
   {
    "duration": 8,
    "start_time": "2025-04-24T06:14:50.677Z"
   },
   {
    "duration": 21,
    "start_time": "2025-04-24T06:14:50.687Z"
   },
   {
    "duration": 311,
    "start_time": "2025-04-24T06:14:50.710Z"
   },
   {
    "duration": 121,
    "start_time": "2025-04-24T06:14:51.023Z"
   },
   {
    "duration": 0,
    "start_time": "2025-04-24T06:14:51.146Z"
   },
   {
    "duration": 0,
    "start_time": "2025-04-24T06:14:51.148Z"
   },
   {
    "duration": 53,
    "start_time": "2025-04-24T06:15:16.877Z"
   },
   {
    "duration": 7,
    "start_time": "2025-04-24T06:15:18.169Z"
   },
   {
    "duration": 207,
    "start_time": "2025-04-24T06:15:18.758Z"
   },
   {
    "duration": 5,
    "start_time": "2025-04-24T06:31:22.653Z"
   },
   {
    "duration": 70,
    "start_time": "2025-04-24T06:31:24.918Z"
   },
   {
    "duration": 5,
    "start_time": "2025-04-24T06:31:26.359Z"
   },
   {
    "duration": 359,
    "start_time": "2025-04-24T06:31:27.245Z"
   },
   {
    "duration": 67,
    "start_time": "2025-04-24T06:33:20.173Z"
   },
   {
    "duration": 57,
    "start_time": "2025-04-24T06:33:33.759Z"
   },
   {
    "duration": 24,
    "start_time": "2025-04-24T06:42:31.160Z"
   },
   {
    "duration": 16,
    "start_time": "2025-04-24T06:42:50.354Z"
   },
   {
    "duration": 27,
    "start_time": "2025-04-24T06:48:57.903Z"
   },
   {
    "duration": 2468,
    "start_time": "2025-04-24T07:03:46.271Z"
   },
   {
    "duration": 1273,
    "start_time": "2025-04-24T07:03:48.741Z"
   },
   {
    "duration": 2026,
    "start_time": "2025-04-24T07:03:50.016Z"
   },
   {
    "duration": 5,
    "start_time": "2025-04-24T07:03:52.044Z"
   },
   {
    "duration": 16,
    "start_time": "2025-04-24T07:03:52.050Z"
   },
   {
    "duration": 196,
    "start_time": "2025-04-24T07:03:52.067Z"
   },
   {
    "duration": 7,
    "start_time": "2025-04-24T07:03:52.265Z"
   },
   {
    "duration": 171,
    "start_time": "2025-04-24T07:03:52.274Z"
   },
   {
    "duration": 19,
    "start_time": "2025-04-24T07:03:52.446Z"
   },
   {
    "duration": 39,
    "start_time": "2025-04-24T07:03:52.468Z"
   },
   {
    "duration": 38,
    "start_time": "2025-04-24T07:03:52.509Z"
   },
   {
    "duration": 19,
    "start_time": "2025-04-24T07:03:52.548Z"
   },
   {
    "duration": 11,
    "start_time": "2025-04-24T07:03:52.568Z"
   },
   {
    "duration": 171,
    "start_time": "2025-04-24T07:03:52.580Z"
   },
   {
    "duration": 44,
    "start_time": "2025-04-24T07:03:52.753Z"
   },
   {
    "duration": 53,
    "start_time": "2025-04-24T07:03:52.799Z"
   },
   {
    "duration": 10,
    "start_time": "2025-04-24T07:03:52.854Z"
   },
   {
    "duration": 6,
    "start_time": "2025-04-24T07:03:52.865Z"
   },
   {
    "duration": 6,
    "start_time": "2025-04-24T07:03:52.873Z"
   },
   {
    "duration": 28,
    "start_time": "2025-04-24T07:03:52.881Z"
   },
   {
    "duration": 28,
    "start_time": "2025-04-24T07:03:52.911Z"
   },
   {
    "duration": 13,
    "start_time": "2025-04-24T07:03:52.941Z"
   },
   {
    "duration": 44,
    "start_time": "2025-04-24T07:03:52.955Z"
   },
   {
    "duration": 62,
    "start_time": "2025-04-24T07:03:53.000Z"
   },
   {
    "duration": 22,
    "start_time": "2025-04-24T07:03:53.063Z"
   },
   {
    "duration": 5,
    "start_time": "2025-04-24T07:03:53.087Z"
   },
   {
    "duration": 56,
    "start_time": "2025-04-24T07:03:53.094Z"
   },
   {
    "duration": 68,
    "start_time": "2025-04-24T07:03:53.153Z"
   },
   {
    "duration": 80,
    "start_time": "2025-04-24T07:03:53.222Z"
   },
   {
    "duration": 15,
    "start_time": "2025-04-24T07:03:53.304Z"
   },
   {
    "duration": 35,
    "start_time": "2025-04-24T07:03:53.321Z"
   },
   {
    "duration": 22,
    "start_time": "2025-04-24T07:03:53.357Z"
   },
   {
    "duration": 25,
    "start_time": "2025-04-24T07:03:53.381Z"
   },
   {
    "duration": 3,
    "start_time": "2025-04-24T07:03:53.408Z"
   },
   {
    "duration": 22,
    "start_time": "2025-04-24T07:03:53.440Z"
   },
   {
    "duration": 35,
    "start_time": "2025-04-24T07:03:53.463Z"
   },
   {
    "duration": 5,
    "start_time": "2025-04-24T07:03:53.500Z"
   },
   {
    "duration": 31,
    "start_time": "2025-04-24T07:03:53.506Z"
   },
   {
    "duration": 24,
    "start_time": "2025-04-24T07:03:53.539Z"
   },
   {
    "duration": 12,
    "start_time": "2025-04-24T07:03:53.564Z"
   },
   {
    "duration": 9,
    "start_time": "2025-04-24T07:03:53.578Z"
   },
   {
    "duration": 6,
    "start_time": "2025-04-24T07:03:53.589Z"
   },
   {
    "duration": 46,
    "start_time": "2025-04-24T07:03:53.597Z"
   },
   {
    "duration": 364,
    "start_time": "2025-04-24T07:03:53.645Z"
   },
   {
    "duration": 298,
    "start_time": "2025-04-24T07:03:54.011Z"
   },
   {
    "duration": 4,
    "start_time": "2025-04-24T07:03:54.310Z"
   },
   {
    "duration": 33,
    "start_time": "2025-04-24T07:03:54.316Z"
   },
   {
    "duration": 6,
    "start_time": "2025-04-24T07:03:54.351Z"
   },
   {
    "duration": 15,
    "start_time": "2025-04-24T07:03:54.359Z"
   },
   {
    "duration": 11,
    "start_time": "2025-04-24T07:03:54.376Z"
   },
   {
    "duration": 6,
    "start_time": "2025-04-24T07:03:54.388Z"
   },
   {
    "duration": 302,
    "start_time": "2025-04-24T07:03:54.395Z"
   },
   {
    "duration": 28,
    "start_time": "2025-04-24T07:03:54.699Z"
   },
   {
    "duration": 20,
    "start_time": "2025-04-24T07:03:54.729Z"
   },
   {
    "duration": 51,
    "start_time": "2025-04-24T07:03:54.751Z"
   },
   {
    "duration": 5,
    "start_time": "2025-04-24T07:03:54.804Z"
   },
   {
    "duration": 412,
    "start_time": "2025-04-24T07:03:54.811Z"
   },
   {
    "duration": 8,
    "start_time": "2025-04-24T07:04:29.444Z"
   },
   {
    "duration": 6,
    "start_time": "2025-04-24T07:04:41.723Z"
   },
   {
    "duration": 6,
    "start_time": "2025-04-24T07:05:08.668Z"
   },
   {
    "duration": 30,
    "start_time": "2025-04-24T07:15:23.738Z"
   },
   {
    "duration": 13,
    "start_time": "2025-04-24T07:19:30.931Z"
   },
   {
    "duration": 8,
    "start_time": "2025-04-24T07:29:00.685Z"
   },
   {
    "duration": 30,
    "start_time": "2025-04-24T07:44:55.181Z"
   },
   {
    "duration": 11,
    "start_time": "2025-04-24T07:44:58.036Z"
   },
   {
    "duration": 9,
    "start_time": "2025-04-24T07:46:10.324Z"
   },
   {
    "duration": 6,
    "start_time": "2025-04-24T08:02:58.612Z"
   },
   {
    "duration": 55,
    "start_time": "2025-04-24T08:03:29.322Z"
   },
   {
    "duration": 31,
    "start_time": "2025-04-24T08:37:32.747Z"
   },
   {
    "duration": 11,
    "start_time": "2025-04-24T08:37:33.602Z"
   },
   {
    "duration": 15,
    "start_time": "2025-04-24T08:39:45.212Z"
   },
   {
    "duration": 6,
    "start_time": "2025-04-24T08:46:28.453Z"
   },
   {
    "duration": 95,
    "start_time": "2025-04-24T08:46:52.279Z"
   },
   {
    "duration": 264,
    "start_time": "2025-04-24T08:47:44.023Z"
   },
   {
    "duration": 232,
    "start_time": "2025-04-24T09:08:19.153Z"
   },
   {
    "duration": 802,
    "start_time": "2025-04-24T09:08:58.880Z"
   },
   {
    "duration": 48,
    "start_time": "2025-04-24T15:17:05.327Z"
   },
   {
    "duration": 3466,
    "start_time": "2025-04-24T15:17:11.048Z"
   },
   {
    "duration": 1500,
    "start_time": "2025-04-24T15:17:14.516Z"
   },
   {
    "duration": 1841,
    "start_time": "2025-04-24T15:17:16.017Z"
   },
   {
    "duration": 6,
    "start_time": "2025-04-24T15:17:17.859Z"
   },
   {
    "duration": 14,
    "start_time": "2025-04-24T15:17:17.868Z"
   },
   {
    "duration": 198,
    "start_time": "2025-04-24T15:17:17.884Z"
   },
   {
    "duration": 8,
    "start_time": "2025-04-24T15:17:18.083Z"
   },
   {
    "duration": 160,
    "start_time": "2025-04-24T15:17:18.093Z"
   },
   {
    "duration": 18,
    "start_time": "2025-04-24T15:17:18.255Z"
   },
   {
    "duration": 22,
    "start_time": "2025-04-24T15:17:18.274Z"
   },
   {
    "duration": 50,
    "start_time": "2025-04-24T15:17:18.297Z"
   },
   {
    "duration": 11,
    "start_time": "2025-04-24T15:17:18.349Z"
   },
   {
    "duration": 9,
    "start_time": "2025-04-24T15:17:18.362Z"
   },
   {
    "duration": 180,
    "start_time": "2025-04-24T15:17:18.375Z"
   },
   {
    "duration": 46,
    "start_time": "2025-04-24T15:17:18.557Z"
   },
   {
    "duration": 57,
    "start_time": "2025-04-24T15:17:18.605Z"
   },
   {
    "duration": 9,
    "start_time": "2025-04-24T15:17:18.664Z"
   },
   {
    "duration": 5,
    "start_time": "2025-04-24T15:17:18.675Z"
   },
   {
    "duration": 15,
    "start_time": "2025-04-24T15:17:18.681Z"
   },
   {
    "duration": 47,
    "start_time": "2025-04-24T15:17:18.698Z"
   },
   {
    "duration": 5,
    "start_time": "2025-04-24T15:17:18.746Z"
   },
   {
    "duration": 11,
    "start_time": "2025-04-24T15:17:18.752Z"
   },
   {
    "duration": 45,
    "start_time": "2025-04-24T15:17:18.765Z"
   },
   {
    "duration": 36,
    "start_time": "2025-04-24T15:17:18.838Z"
   },
   {
    "duration": 22,
    "start_time": "2025-04-24T15:17:18.876Z"
   },
   {
    "duration": 6,
    "start_time": "2025-04-24T15:17:18.899Z"
   },
   {
    "duration": 57,
    "start_time": "2025-04-24T15:17:18.906Z"
   },
   {
    "duration": 79,
    "start_time": "2025-04-24T15:17:18.965Z"
   },
   {
    "duration": 65,
    "start_time": "2025-04-24T15:17:19.046Z"
   },
   {
    "duration": 27,
    "start_time": "2025-04-24T15:17:19.113Z"
   },
   {
    "duration": 58,
    "start_time": "2025-04-24T15:17:19.142Z"
   },
   {
    "duration": 21,
    "start_time": "2025-04-24T15:17:19.201Z"
   },
   {
    "duration": 24,
    "start_time": "2025-04-24T15:17:19.224Z"
   },
   {
    "duration": 3,
    "start_time": "2025-04-24T15:17:19.250Z"
   },
   {
    "duration": 107,
    "start_time": "2025-04-24T15:17:19.255Z"
   },
   {
    "duration": 34,
    "start_time": "2025-04-24T15:17:19.364Z"
   },
   {
    "duration": 6,
    "start_time": "2025-04-24T15:17:19.400Z"
   },
   {
    "duration": 21,
    "start_time": "2025-04-24T15:17:19.407Z"
   },
   {
    "duration": 24,
    "start_time": "2025-04-24T15:17:19.430Z"
   },
   {
    "duration": 12,
    "start_time": "2025-04-24T15:17:19.456Z"
   },
   {
    "duration": 10,
    "start_time": "2025-04-24T15:17:19.473Z"
   },
   {
    "duration": 7,
    "start_time": "2025-04-24T15:17:19.485Z"
   },
   {
    "duration": 44,
    "start_time": "2025-04-24T15:17:19.494Z"
   },
   {
    "duration": 442,
    "start_time": "2025-04-24T15:17:19.540Z"
   },
   {
    "duration": 284,
    "start_time": "2025-04-24T15:17:19.985Z"
   },
   {
    "duration": 5,
    "start_time": "2025-04-24T15:17:20.271Z"
   },
   {
    "duration": 41,
    "start_time": "2025-04-24T15:17:20.278Z"
   },
   {
    "duration": 7,
    "start_time": "2025-04-24T15:17:20.320Z"
   },
   {
    "duration": 18,
    "start_time": "2025-04-24T15:17:20.328Z"
   },
   {
    "duration": 32,
    "start_time": "2025-04-24T15:17:20.347Z"
   },
   {
    "duration": 17,
    "start_time": "2025-04-24T15:17:20.381Z"
   },
   {
    "duration": 276,
    "start_time": "2025-04-24T15:17:20.400Z"
   },
   {
    "duration": 31,
    "start_time": "2025-04-24T15:17:20.678Z"
   },
   {
    "duration": 29,
    "start_time": "2025-04-24T15:17:20.710Z"
   },
   {
    "duration": 16,
    "start_time": "2025-04-24T15:17:20.741Z"
   },
   {
    "duration": 8,
    "start_time": "2025-04-24T15:17:20.758Z"
   },
   {
    "duration": 234,
    "start_time": "2025-04-24T15:17:20.768Z"
   },
   {
    "duration": 11,
    "start_time": "2025-04-24T15:17:39.470Z"
   },
   {
    "duration": 10,
    "start_time": "2025-04-24T15:26:51.230Z"
   },
   {
    "duration": 15,
    "start_time": "2025-04-24T15:28:16.978Z"
   },
   {
    "duration": 9,
    "start_time": "2025-04-24T15:28:45.196Z"
   },
   {
    "duration": 8,
    "start_time": "2025-04-24T15:29:19.049Z"
   },
   {
    "duration": 11,
    "start_time": "2025-04-24T15:29:31.733Z"
   },
   {
    "duration": 17,
    "start_time": "2025-04-24T15:29:40.817Z"
   },
   {
    "duration": 9,
    "start_time": "2025-04-24T15:30:00.882Z"
   },
   {
    "duration": 112,
    "start_time": "2025-04-24T15:30:45.526Z"
   },
   {
    "duration": 12,
    "start_time": "2025-04-24T15:31:22.002Z"
   },
   {
    "duration": 10,
    "start_time": "2025-04-24T15:32:21.251Z"
   },
   {
    "duration": 11,
    "start_time": "2025-04-24T15:32:40.075Z"
   },
   {
    "duration": 12,
    "start_time": "2025-04-24T15:33:00.346Z"
   },
   {
    "duration": 9,
    "start_time": "2025-04-24T15:33:23.211Z"
   },
   {
    "duration": 1362,
    "start_time": "2025-04-24T15:33:38.740Z"
   },
   {
    "duration": 362,
    "start_time": "2025-04-24T15:33:55.570Z"
   },
   {
    "duration": 20,
    "start_time": "2025-04-24T15:36:10.276Z"
   },
   {
    "duration": 168,
    "start_time": "2025-04-24T15:36:27.131Z"
   },
   {
    "duration": 310,
    "start_time": "2025-04-24T15:36:56.668Z"
   },
   {
    "duration": 156,
    "start_time": "2025-04-24T15:37:24.526Z"
   },
   {
    "duration": 23,
    "start_time": "2025-04-24T15:39:18.709Z"
   },
   {
    "duration": 171,
    "start_time": "2025-04-24T15:39:33.687Z"
   },
   {
    "duration": 168,
    "start_time": "2025-04-24T15:41:00.087Z"
   },
   {
    "duration": 1101,
    "start_time": "2025-04-24T15:45:01.722Z"
   },
   {
    "duration": 300,
    "start_time": "2025-04-24T15:45:13.328Z"
   },
   {
    "duration": 169,
    "start_time": "2025-04-24T15:45:43.503Z"
   },
   {
    "duration": 260,
    "start_time": "2025-04-24T15:45:54.343Z"
   },
   {
    "duration": 164,
    "start_time": "2025-04-24T15:46:46.335Z"
   },
   {
    "duration": 172,
    "start_time": "2025-04-24T15:46:54.351Z"
   },
   {
    "duration": 2462,
    "start_time": "2025-04-24T16:08:22.718Z"
   },
   {
    "duration": 1178,
    "start_time": "2025-04-24T16:08:25.183Z"
   },
   {
    "duration": 2045,
    "start_time": "2025-04-24T16:08:26.365Z"
   },
   {
    "duration": 7,
    "start_time": "2025-04-24T16:08:28.412Z"
   },
   {
    "duration": 10,
    "start_time": "2025-04-24T16:08:28.422Z"
   },
   {
    "duration": 200,
    "start_time": "2025-04-24T16:08:28.438Z"
   },
   {
    "duration": 8,
    "start_time": "2025-04-24T16:08:28.639Z"
   },
   {
    "duration": 165,
    "start_time": "2025-04-24T16:08:28.649Z"
   },
   {
    "duration": 25,
    "start_time": "2025-04-24T16:08:28.815Z"
   },
   {
    "duration": 28,
    "start_time": "2025-04-24T16:08:28.842Z"
   },
   {
    "duration": 30,
    "start_time": "2025-04-24T16:08:28.871Z"
   },
   {
    "duration": 12,
    "start_time": "2025-04-24T16:08:28.903Z"
   },
   {
    "duration": 28,
    "start_time": "2025-04-24T16:08:28.917Z"
   },
   {
    "duration": 181,
    "start_time": "2025-04-24T16:08:28.950Z"
   },
   {
    "duration": 47,
    "start_time": "2025-04-24T16:08:29.137Z"
   },
   {
    "duration": 56,
    "start_time": "2025-04-24T16:08:29.186Z"
   },
   {
    "duration": 11,
    "start_time": "2025-04-24T16:08:29.244Z"
   },
   {
    "duration": 4,
    "start_time": "2025-04-24T16:08:29.257Z"
   },
   {
    "duration": 12,
    "start_time": "2025-04-24T16:08:29.263Z"
   },
   {
    "duration": 30,
    "start_time": "2025-04-24T16:08:29.277Z"
   },
   {
    "duration": 4,
    "start_time": "2025-04-24T16:08:29.309Z"
   },
   {
    "duration": 88,
    "start_time": "2025-04-24T16:08:29.339Z"
   },
   {
    "duration": 44,
    "start_time": "2025-04-24T16:08:29.429Z"
   },
   {
    "duration": 34,
    "start_time": "2025-04-24T16:08:29.475Z"
   },
   {
    "duration": 110,
    "start_time": "2025-04-24T16:08:29.511Z"
   },
   {
    "duration": 5,
    "start_time": "2025-04-24T16:08:29.623Z"
   },
   {
    "duration": 40,
    "start_time": "2025-04-24T16:08:29.630Z"
   },
   {
    "duration": 90,
    "start_time": "2025-04-24T16:08:29.672Z"
   },
   {
    "duration": 62,
    "start_time": "2025-04-24T16:08:29.764Z"
   },
   {
    "duration": 24,
    "start_time": "2025-04-24T16:08:29.827Z"
   },
   {
    "duration": 39,
    "start_time": "2025-04-24T16:08:29.853Z"
   },
   {
    "duration": 30,
    "start_time": "2025-04-24T16:08:29.894Z"
   },
   {
    "duration": 27,
    "start_time": "2025-04-24T16:08:29.926Z"
   },
   {
    "duration": 3,
    "start_time": "2025-04-24T16:08:29.955Z"
   },
   {
    "duration": 28,
    "start_time": "2025-04-24T16:08:29.960Z"
   },
   {
    "duration": 48,
    "start_time": "2025-04-24T16:08:29.990Z"
   },
   {
    "duration": 31,
    "start_time": "2025-04-24T16:08:30.039Z"
   },
   {
    "duration": 35,
    "start_time": "2025-04-24T16:08:30.072Z"
   },
   {
    "duration": 72,
    "start_time": "2025-04-24T16:08:30.109Z"
   },
   {
    "duration": 13,
    "start_time": "2025-04-24T16:08:30.182Z"
   },
   {
    "duration": 52,
    "start_time": "2025-04-24T16:08:30.199Z"
   },
   {
    "duration": 45,
    "start_time": "2025-04-24T16:08:30.253Z"
   },
   {
    "duration": 63,
    "start_time": "2025-04-24T16:08:30.299Z"
   },
   {
    "duration": 416,
    "start_time": "2025-04-24T16:08:30.363Z"
   },
   {
    "duration": 263,
    "start_time": "2025-04-24T16:08:30.780Z"
   },
   {
    "duration": 5,
    "start_time": "2025-04-24T16:08:31.044Z"
   },
   {
    "duration": 24,
    "start_time": "2025-04-24T16:08:31.051Z"
   },
   {
    "duration": 6,
    "start_time": "2025-04-24T16:08:31.077Z"
   },
   {
    "duration": 6,
    "start_time": "2025-04-24T16:08:31.085Z"
   },
   {
    "duration": 7,
    "start_time": "2025-04-24T16:08:31.093Z"
   },
   {
    "duration": 37,
    "start_time": "2025-04-24T16:08:31.102Z"
   },
   {
    "duration": 269,
    "start_time": "2025-04-24T16:08:31.141Z"
   },
   {
    "duration": 44,
    "start_time": "2025-04-24T16:08:31.411Z"
   },
   {
    "duration": 9,
    "start_time": "2025-04-24T16:08:31.458Z"
   },
   {
    "duration": 19,
    "start_time": "2025-04-24T16:08:31.469Z"
   },
   {
    "duration": 138,
    "start_time": "2025-04-24T16:08:31.490Z"
   },
   {
    "duration": 180,
    "start_time": "2025-04-24T16:08:31.630Z"
   },
   {
    "duration": 11,
    "start_time": "2025-04-24T16:08:31.811Z"
   },
   {
    "duration": 190,
    "start_time": "2025-04-24T16:08:31.823Z"
   },
   {
    "duration": 240,
    "start_time": "2025-04-24T16:09:29.609Z"
   },
   {
    "duration": 23,
    "start_time": "2025-04-24T16:17:08.893Z"
   },
   {
    "duration": 17,
    "start_time": "2025-04-24T16:19:24.254Z"
   },
   {
    "duration": 9,
    "start_time": "2025-04-24T16:20:50.558Z"
   },
   {
    "duration": 34,
    "start_time": "2025-04-24T16:36:20.556Z"
   },
   {
    "duration": 11,
    "start_time": "2025-04-24T16:39:10.207Z"
   },
   {
    "duration": 14,
    "start_time": "2025-04-24T16:44:11.476Z"
   },
   {
    "duration": 22,
    "start_time": "2025-04-24T16:56:15.855Z"
   },
   {
    "duration": 2495,
    "start_time": "2025-04-24T17:11:07.808Z"
   },
   {
    "duration": 1210,
    "start_time": "2025-04-24T17:11:10.306Z"
   },
   {
    "duration": 2069,
    "start_time": "2025-04-24T17:11:11.518Z"
   },
   {
    "duration": 6,
    "start_time": "2025-04-24T17:11:13.589Z"
   },
   {
    "duration": 85,
    "start_time": "2025-04-24T17:11:13.597Z"
   },
   {
    "duration": 184,
    "start_time": "2025-04-24T17:11:13.683Z"
   },
   {
    "duration": 7,
    "start_time": "2025-04-24T17:11:13.869Z"
   },
   {
    "duration": 204,
    "start_time": "2025-04-24T17:11:13.878Z"
   },
   {
    "duration": 18,
    "start_time": "2025-04-24T17:11:14.084Z"
   },
   {
    "duration": 36,
    "start_time": "2025-04-24T17:11:14.105Z"
   },
   {
    "duration": 35,
    "start_time": "2025-04-24T17:11:14.143Z"
   },
   {
    "duration": 13,
    "start_time": "2025-04-24T17:11:14.179Z"
   },
   {
    "duration": 12,
    "start_time": "2025-04-24T17:11:14.194Z"
   },
   {
    "duration": 171,
    "start_time": "2025-04-24T17:11:14.239Z"
   },
   {
    "duration": 54,
    "start_time": "2025-04-24T17:11:14.412Z"
   },
   {
    "duration": 38,
    "start_time": "2025-04-24T17:11:14.467Z"
   },
   {
    "duration": 11,
    "start_time": "2025-04-24T17:11:14.506Z"
   },
   {
    "duration": 21,
    "start_time": "2025-04-24T17:11:14.518Z"
   },
   {
    "duration": 59,
    "start_time": "2025-04-24T17:11:14.541Z"
   },
   {
    "duration": 29,
    "start_time": "2025-04-24T17:11:14.602Z"
   },
   {
    "duration": 4,
    "start_time": "2025-04-24T17:11:14.633Z"
   },
   {
    "duration": 16,
    "start_time": "2025-04-24T17:11:14.638Z"
   },
   {
    "duration": 61,
    "start_time": "2025-04-24T17:11:14.656Z"
   },
   {
    "duration": 56,
    "start_time": "2025-04-24T17:11:14.720Z"
   },
   {
    "duration": 22,
    "start_time": "2025-04-24T17:11:14.778Z"
   },
   {
    "duration": 5,
    "start_time": "2025-04-24T17:11:14.802Z"
   },
   {
    "duration": 59,
    "start_time": "2025-04-24T17:11:14.809Z"
   },
   {
    "duration": 75,
    "start_time": "2025-04-24T17:11:14.870Z"
   },
   {
    "duration": 69,
    "start_time": "2025-04-24T17:11:14.947Z"
   },
   {
    "duration": 29,
    "start_time": "2025-04-24T17:11:15.018Z"
   },
   {
    "duration": 90,
    "start_time": "2025-04-24T17:11:15.049Z"
   },
   {
    "duration": 33,
    "start_time": "2025-04-24T17:11:15.141Z"
   },
   {
    "duration": 40,
    "start_time": "2025-04-24T17:11:15.176Z"
   },
   {
    "duration": 20,
    "start_time": "2025-04-24T17:11:15.218Z"
   },
   {
    "duration": 28,
    "start_time": "2025-04-24T17:11:15.241Z"
   },
   {
    "duration": 36,
    "start_time": "2025-04-24T17:11:15.271Z"
   },
   {
    "duration": 30,
    "start_time": "2025-04-24T17:11:15.308Z"
   },
   {
    "duration": 11,
    "start_time": "2025-04-24T17:11:15.339Z"
   },
   {
    "duration": 39,
    "start_time": "2025-04-24T17:11:15.351Z"
   },
   {
    "duration": 29,
    "start_time": "2025-04-24T17:11:15.392Z"
   },
   {
    "duration": 9,
    "start_time": "2025-04-24T17:11:15.425Z"
   },
   {
    "duration": 6,
    "start_time": "2025-04-24T17:11:15.436Z"
   },
   {
    "duration": 6,
    "start_time": "2025-04-24T17:11:15.444Z"
   },
   {
    "duration": 364,
    "start_time": "2025-04-24T17:11:15.452Z"
   },
   {
    "duration": 292,
    "start_time": "2025-04-24T17:11:15.818Z"
   },
   {
    "duration": 6,
    "start_time": "2025-04-24T17:11:16.112Z"
   },
   {
    "duration": 40,
    "start_time": "2025-04-24T17:11:16.119Z"
   },
   {
    "duration": 7,
    "start_time": "2025-04-24T17:11:16.160Z"
   },
   {
    "duration": 8,
    "start_time": "2025-04-24T17:11:16.169Z"
   },
   {
    "duration": 10,
    "start_time": "2025-04-24T17:11:16.178Z"
   },
   {
    "duration": 9,
    "start_time": "2025-04-24T17:11:16.190Z"
   },
   {
    "duration": 303,
    "start_time": "2025-04-24T17:11:16.201Z"
   },
   {
    "duration": 44,
    "start_time": "2025-04-24T17:11:16.506Z"
   },
   {
    "duration": 8,
    "start_time": "2025-04-24T17:11:16.551Z"
   },
   {
    "duration": 18,
    "start_time": "2025-04-24T17:11:16.562Z"
   },
   {
    "duration": 9,
    "start_time": "2025-04-24T17:11:16.582Z"
   },
   {
    "duration": 184,
    "start_time": "2025-04-24T17:11:16.593Z"
   },
   {
    "duration": 11,
    "start_time": "2025-04-24T17:11:16.779Z"
   },
   {
    "duration": 176,
    "start_time": "2025-04-24T17:11:16.792Z"
   },
   {
    "duration": 34,
    "start_time": "2025-04-24T17:11:16.970Z"
   },
   {
    "duration": 8,
    "start_time": "2025-04-24T17:11:17.006Z"
   },
   {
    "duration": 9,
    "start_time": "2025-04-24T17:12:53.488Z"
   },
   {
    "duration": 5,
    "start_time": "2025-04-24T17:13:47.651Z"
   },
   {
    "duration": 106,
    "start_time": "2025-04-24T17:18:24.747Z"
   },
   {
    "duration": 31,
    "start_time": "2025-04-24T17:18:38.288Z"
   },
   {
    "duration": 29,
    "start_time": "2025-04-24T17:24:01.086Z"
   },
   {
    "duration": 15,
    "start_time": "2025-04-24T17:27:15.695Z"
   },
   {
    "duration": 11,
    "start_time": "2025-04-24T17:27:36.703Z"
   },
   {
    "duration": 113,
    "start_time": "2025-04-24T17:30:43.808Z"
   },
   {
    "duration": 26,
    "start_time": "2025-04-24T17:31:07.896Z"
   },
   {
    "duration": 18,
    "start_time": "2025-04-24T17:41:52.624Z"
   },
   {
    "duration": 17,
    "start_time": "2025-04-24T17:42:53.873Z"
   },
   {
    "duration": 20,
    "start_time": "2025-04-24T17:42:56.579Z"
   },
   {
    "duration": 33,
    "start_time": "2025-04-24T17:44:32.183Z"
   },
   {
    "duration": 22,
    "start_time": "2025-04-24T17:44:59.721Z"
   },
   {
    "duration": 191,
    "start_time": "2025-04-24T17:48:56.737Z"
   },
   {
    "duration": 33,
    "start_time": "2025-04-24T17:54:58.367Z"
   },
   {
    "duration": 2487,
    "start_time": "2025-04-24T17:57:41.541Z"
   },
   {
    "duration": 1304,
    "start_time": "2025-04-24T17:57:44.031Z"
   },
   {
    "duration": 2331,
    "start_time": "2025-04-24T17:57:45.336Z"
   },
   {
    "duration": 6,
    "start_time": "2025-04-24T17:57:47.668Z"
   },
   {
    "duration": 8,
    "start_time": "2025-04-24T17:57:47.676Z"
   },
   {
    "duration": 207,
    "start_time": "2025-04-24T17:57:47.686Z"
   },
   {
    "duration": 8,
    "start_time": "2025-04-24T17:57:47.894Z"
   },
   {
    "duration": 169,
    "start_time": "2025-04-24T17:57:47.903Z"
   },
   {
    "duration": 18,
    "start_time": "2025-04-24T17:57:48.073Z"
   },
   {
    "duration": 23,
    "start_time": "2025-04-24T17:57:48.093Z"
   },
   {
    "duration": 47,
    "start_time": "2025-04-24T17:57:48.117Z"
   },
   {
    "duration": 10,
    "start_time": "2025-04-24T17:57:48.167Z"
   },
   {
    "duration": 12,
    "start_time": "2025-04-24T17:57:48.178Z"
   },
   {
    "duration": 181,
    "start_time": "2025-04-24T17:57:48.193Z"
   },
   {
    "duration": 45,
    "start_time": "2025-04-24T17:57:48.376Z"
   },
   {
    "duration": 51,
    "start_time": "2025-04-24T17:57:48.422Z"
   },
   {
    "duration": 9,
    "start_time": "2025-04-24T17:57:48.475Z"
   },
   {
    "duration": 5,
    "start_time": "2025-04-24T17:57:48.486Z"
   },
   {
    "duration": 6,
    "start_time": "2025-04-24T17:57:48.493Z"
   },
   {
    "duration": 61,
    "start_time": "2025-04-24T17:57:48.501Z"
   },
   {
    "duration": 4,
    "start_time": "2025-04-24T17:57:48.563Z"
   },
   {
    "duration": 18,
    "start_time": "2025-04-24T17:57:48.569Z"
   },
   {
    "duration": 57,
    "start_time": "2025-04-24T17:57:48.589Z"
   },
   {
    "duration": 38,
    "start_time": "2025-04-24T17:57:48.647Z"
   },
   {
    "duration": 21,
    "start_time": "2025-04-24T17:57:48.687Z"
   },
   {
    "duration": 6,
    "start_time": "2025-04-24T17:57:48.710Z"
   },
   {
    "duration": 37,
    "start_time": "2025-04-24T17:57:48.738Z"
   },
   {
    "duration": 90,
    "start_time": "2025-04-24T17:57:48.777Z"
   },
   {
    "duration": 70,
    "start_time": "2025-04-24T17:57:48.868Z"
   },
   {
    "duration": 16,
    "start_time": "2025-04-24T17:57:48.940Z"
   },
   {
    "duration": 31,
    "start_time": "2025-04-24T17:57:48.957Z"
   },
   {
    "duration": 23,
    "start_time": "2025-04-24T17:57:48.990Z"
   },
   {
    "duration": 45,
    "start_time": "2025-04-24T17:57:49.015Z"
   },
   {
    "duration": 3,
    "start_time": "2025-04-24T17:57:49.062Z"
   },
   {
    "duration": 27,
    "start_time": "2025-04-24T17:57:49.067Z"
   },
   {
    "duration": 54,
    "start_time": "2025-04-24T17:57:49.096Z"
   },
   {
    "duration": 5,
    "start_time": "2025-04-24T17:57:49.151Z"
   },
   {
    "duration": 12,
    "start_time": "2025-04-24T17:57:49.158Z"
   },
   {
    "duration": 109,
    "start_time": "2025-04-24T17:57:49.171Z"
   },
   {
    "duration": 11,
    "start_time": "2025-04-24T17:57:49.282Z"
   },
   {
    "duration": 8,
    "start_time": "2025-04-24T17:57:49.297Z"
   },
   {
    "duration": 7,
    "start_time": "2025-04-24T17:57:49.307Z"
   },
   {
    "duration": 7,
    "start_time": "2025-04-24T17:57:49.315Z"
   },
   {
    "duration": 384,
    "start_time": "2025-04-24T17:57:49.323Z"
   },
   {
    "duration": 300,
    "start_time": "2025-04-24T17:57:49.708Z"
   },
   {
    "duration": 5,
    "start_time": "2025-04-24T17:57:50.009Z"
   },
   {
    "duration": 90,
    "start_time": "2025-04-24T17:57:50.016Z"
   },
   {
    "duration": 6,
    "start_time": "2025-04-24T17:57:50.108Z"
   },
   {
    "duration": 35,
    "start_time": "2025-04-24T17:57:50.115Z"
   },
   {
    "duration": 9,
    "start_time": "2025-04-24T17:57:50.152Z"
   },
   {
    "duration": 6,
    "start_time": "2025-04-24T17:57:50.163Z"
   },
   {
    "duration": 299,
    "start_time": "2025-04-24T17:57:50.172Z"
   },
   {
    "duration": 30,
    "start_time": "2025-04-24T17:57:50.474Z"
   },
   {
    "duration": 10,
    "start_time": "2025-04-24T17:57:50.506Z"
   },
   {
    "duration": 37,
    "start_time": "2025-04-24T17:57:50.518Z"
   },
   {
    "duration": 9,
    "start_time": "2025-04-24T17:57:50.557Z"
   },
   {
    "duration": 180,
    "start_time": "2025-04-24T17:57:50.568Z"
   },
   {
    "duration": 11,
    "start_time": "2025-04-24T17:57:50.750Z"
   },
   {
    "duration": 185,
    "start_time": "2025-04-24T17:57:50.763Z"
   },
   {
    "duration": 21,
    "start_time": "2025-04-24T17:57:50.949Z"
   },
   {
    "duration": 249,
    "start_time": "2025-04-24T17:57:50.972Z"
   },
   {
    "duration": 2511,
    "start_time": "2025-04-24T17:58:25.571Z"
   },
   {
    "duration": 1239,
    "start_time": "2025-04-24T17:58:28.084Z"
   },
   {
    "duration": 1832,
    "start_time": "2025-04-24T17:58:29.325Z"
   },
   {
    "duration": 6,
    "start_time": "2025-04-24T17:58:31.159Z"
   },
   {
    "duration": 13,
    "start_time": "2025-04-24T17:58:31.167Z"
   },
   {
    "duration": 200,
    "start_time": "2025-04-24T17:58:31.182Z"
   },
   {
    "duration": 8,
    "start_time": "2025-04-24T17:58:31.383Z"
   },
   {
    "duration": 171,
    "start_time": "2025-04-24T17:58:31.393Z"
   },
   {
    "duration": 19,
    "start_time": "2025-04-24T17:58:31.565Z"
   },
   {
    "duration": 31,
    "start_time": "2025-04-24T17:58:31.585Z"
   },
   {
    "duration": 40,
    "start_time": "2025-04-24T17:58:31.618Z"
   },
   {
    "duration": 10,
    "start_time": "2025-04-24T17:58:31.659Z"
   },
   {
    "duration": 13,
    "start_time": "2025-04-24T17:58:31.671Z"
   },
   {
    "duration": 194,
    "start_time": "2025-04-24T17:58:31.689Z"
   },
   {
    "duration": 58,
    "start_time": "2025-04-24T17:58:31.885Z"
   },
   {
    "duration": 39,
    "start_time": "2025-04-24T17:58:31.945Z"
   },
   {
    "duration": 10,
    "start_time": "2025-04-24T17:58:31.986Z"
   },
   {
    "duration": 83,
    "start_time": "2025-04-24T17:58:31.998Z"
   },
   {
    "duration": 7,
    "start_time": "2025-04-24T17:58:32.083Z"
   },
   {
    "duration": 45,
    "start_time": "2025-04-24T17:58:32.091Z"
   },
   {
    "duration": 4,
    "start_time": "2025-04-24T17:58:32.138Z"
   },
   {
    "duration": 13,
    "start_time": "2025-04-24T17:58:32.144Z"
   },
   {
    "duration": 44,
    "start_time": "2025-04-24T17:58:32.159Z"
   },
   {
    "duration": 52,
    "start_time": "2025-04-24T17:58:32.205Z"
   },
   {
    "duration": 22,
    "start_time": "2025-04-24T17:58:32.259Z"
   },
   {
    "duration": 5,
    "start_time": "2025-04-24T17:58:32.283Z"
   },
   {
    "duration": 55,
    "start_time": "2025-04-24T17:58:32.290Z"
   },
   {
    "duration": 67,
    "start_time": "2025-04-24T17:58:32.347Z"
   },
   {
    "duration": 79,
    "start_time": "2025-04-24T17:58:32.415Z"
   },
   {
    "duration": 16,
    "start_time": "2025-04-24T17:58:32.495Z"
   },
   {
    "duration": 41,
    "start_time": "2025-04-24T17:58:32.513Z"
   },
   {
    "duration": 23,
    "start_time": "2025-04-24T17:58:32.556Z"
   },
   {
    "duration": 27,
    "start_time": "2025-04-24T17:58:32.581Z"
   },
   {
    "duration": 3,
    "start_time": "2025-04-24T17:58:32.610Z"
   },
   {
    "duration": 22,
    "start_time": "2025-04-24T17:58:32.638Z"
   },
   {
    "duration": 36,
    "start_time": "2025-04-24T17:58:32.662Z"
   },
   {
    "duration": 5,
    "start_time": "2025-04-24T17:58:32.699Z"
   },
   {
    "duration": 35,
    "start_time": "2025-04-24T17:58:32.706Z"
   },
   {
    "duration": 27,
    "start_time": "2025-04-24T17:58:32.742Z"
   },
   {
    "duration": 11,
    "start_time": "2025-04-24T17:58:32.770Z"
   },
   {
    "duration": 9,
    "start_time": "2025-04-24T17:58:32.784Z"
   },
   {
    "duration": 62,
    "start_time": "2025-04-24T17:58:32.794Z"
   },
   {
    "duration": 21,
    "start_time": "2025-04-24T17:58:32.858Z"
   },
   {
    "duration": 407,
    "start_time": "2025-04-24T17:58:32.881Z"
   },
   {
    "duration": 309,
    "start_time": "2025-04-24T17:58:33.290Z"
   },
   {
    "duration": 6,
    "start_time": "2025-04-24T17:58:33.601Z"
   },
   {
    "duration": 40,
    "start_time": "2025-04-24T17:58:33.608Z"
   },
   {
    "duration": 8,
    "start_time": "2025-04-24T17:58:33.650Z"
   },
   {
    "duration": 9,
    "start_time": "2025-04-24T17:58:33.659Z"
   },
   {
    "duration": 14,
    "start_time": "2025-04-24T17:58:33.670Z"
   },
   {
    "duration": 6,
    "start_time": "2025-04-24T17:58:33.686Z"
   },
   {
    "duration": 307,
    "start_time": "2025-04-24T17:58:33.694Z"
   },
   {
    "duration": 44,
    "start_time": "2025-04-24T17:58:34.004Z"
   },
   {
    "duration": 9,
    "start_time": "2025-04-24T17:58:34.051Z"
   },
   {
    "duration": 32,
    "start_time": "2025-04-24T17:58:34.062Z"
   },
   {
    "duration": 12,
    "start_time": "2025-04-24T17:58:34.096Z"
   },
   {
    "duration": 201,
    "start_time": "2025-04-24T17:58:34.110Z"
   },
   {
    "duration": 11,
    "start_time": "2025-04-24T17:58:34.313Z"
   },
   {
    "duration": 178,
    "start_time": "2025-04-24T17:58:34.338Z"
   },
   {
    "duration": 44,
    "start_time": "2025-04-24T17:58:34.518Z"
   },
   {
    "duration": 296,
    "start_time": "2025-04-24T17:58:34.563Z"
   },
   {
    "duration": 10,
    "start_time": "2025-04-24T17:59:50.519Z"
   },
   {
    "duration": 1628,
    "start_time": "2025-04-25T04:43:19.613Z"
   },
   {
    "duration": 8,
    "start_time": "2025-04-25T04:43:34.883Z"
   },
   {
    "duration": 3423,
    "start_time": "2025-04-25T04:43:41.816Z"
   },
   {
    "duration": 1248,
    "start_time": "2025-04-25T04:43:45.242Z"
   },
   {
    "duration": 2111,
    "start_time": "2025-04-25T04:43:46.492Z"
   },
   {
    "duration": 5,
    "start_time": "2025-04-25T04:43:48.605Z"
   },
   {
    "duration": 11,
    "start_time": "2025-04-25T04:43:48.612Z"
   },
   {
    "duration": 185,
    "start_time": "2025-04-25T04:43:48.625Z"
   },
   {
    "duration": 8,
    "start_time": "2025-04-25T04:43:48.811Z"
   },
   {
    "duration": 175,
    "start_time": "2025-04-25T04:43:48.820Z"
   },
   {
    "duration": 26,
    "start_time": "2025-04-25T04:43:48.997Z"
   },
   {
    "duration": 22,
    "start_time": "2025-04-25T04:43:49.026Z"
   },
   {
    "duration": 27,
    "start_time": "2025-04-25T04:43:49.050Z"
   },
   {
    "duration": 10,
    "start_time": "2025-04-25T04:43:49.079Z"
   },
   {
    "duration": 18,
    "start_time": "2025-04-25T04:43:49.090Z"
   },
   {
    "duration": 184,
    "start_time": "2025-04-25T04:43:49.110Z"
   },
   {
    "duration": 50,
    "start_time": "2025-04-25T04:43:49.295Z"
   },
   {
    "duration": 33,
    "start_time": "2025-04-25T04:43:49.347Z"
   },
   {
    "duration": 9,
    "start_time": "2025-04-25T04:43:49.382Z"
   },
   {
    "duration": 4,
    "start_time": "2025-04-25T04:43:49.393Z"
   },
   {
    "duration": 16,
    "start_time": "2025-04-25T04:43:49.398Z"
   },
   {
    "duration": 50,
    "start_time": "2025-04-25T04:43:49.416Z"
   },
   {
    "duration": 4,
    "start_time": "2025-04-25T04:43:49.467Z"
   },
   {
    "duration": 15,
    "start_time": "2025-04-25T04:43:49.473Z"
   },
   {
    "duration": 55,
    "start_time": "2025-04-25T04:43:49.489Z"
   },
   {
    "duration": 35,
    "start_time": "2025-04-25T04:43:49.546Z"
   },
   {
    "duration": 20,
    "start_time": "2025-04-25T04:43:49.583Z"
   },
   {
    "duration": 7,
    "start_time": "2025-04-25T04:43:49.605Z"
   },
   {
    "duration": 56,
    "start_time": "2025-04-25T04:43:49.613Z"
   },
   {
    "duration": 73,
    "start_time": "2025-04-25T04:43:49.673Z"
   },
   {
    "duration": 66,
    "start_time": "2025-04-25T04:43:49.748Z"
   },
   {
    "duration": 29,
    "start_time": "2025-04-25T04:43:49.815Z"
   },
   {
    "duration": 27,
    "start_time": "2025-04-25T04:43:49.846Z"
   },
   {
    "duration": 20,
    "start_time": "2025-04-25T04:43:49.875Z"
   },
   {
    "duration": 41,
    "start_time": "2025-04-25T04:43:49.896Z"
   },
   {
    "duration": 14,
    "start_time": "2025-04-25T04:43:49.939Z"
   },
   {
    "duration": 38,
    "start_time": "2025-04-25T04:43:49.955Z"
   },
   {
    "duration": 30,
    "start_time": "2025-04-25T04:43:49.995Z"
   },
   {
    "duration": 5,
    "start_time": "2025-04-25T04:43:50.027Z"
   },
   {
    "duration": 22,
    "start_time": "2025-04-25T04:43:50.033Z"
   },
   {
    "duration": 31,
    "start_time": "2025-04-25T04:43:50.056Z"
   },
   {
    "duration": 14,
    "start_time": "2025-04-25T04:43:50.089Z"
   },
   {
    "duration": 49,
    "start_time": "2025-04-25T04:43:50.104Z"
   },
   {
    "duration": 49,
    "start_time": "2025-04-25T04:43:50.154Z"
   },
   {
    "duration": 7,
    "start_time": "2025-04-25T04:43:50.205Z"
   },
   {
    "duration": 364,
    "start_time": "2025-04-25T04:43:50.213Z"
   },
   {
    "duration": 247,
    "start_time": "2025-04-25T04:43:50.579Z"
   },
   {
    "duration": 10,
    "start_time": "2025-04-25T04:43:50.828Z"
   },
   {
    "duration": 22,
    "start_time": "2025-04-25T04:43:50.840Z"
   },
   {
    "duration": 6,
    "start_time": "2025-04-25T04:43:50.864Z"
   },
   {
    "duration": 19,
    "start_time": "2025-04-25T04:43:50.871Z"
   },
   {
    "duration": 15,
    "start_time": "2025-04-25T04:43:50.891Z"
   },
   {
    "duration": 5,
    "start_time": "2025-04-25T04:43:50.908Z"
   },
   {
    "duration": 290,
    "start_time": "2025-04-25T04:43:50.914Z"
   },
   {
    "duration": 35,
    "start_time": "2025-04-25T04:43:51.206Z"
   },
   {
    "duration": 7,
    "start_time": "2025-04-25T04:43:51.243Z"
   },
   {
    "duration": 17,
    "start_time": "2025-04-25T04:43:51.251Z"
   },
   {
    "duration": 8,
    "start_time": "2025-04-25T04:43:51.270Z"
   },
   {
    "duration": 176,
    "start_time": "2025-04-25T04:43:51.279Z"
   },
   {
    "duration": 10,
    "start_time": "2025-04-25T04:43:51.457Z"
   },
   {
    "duration": 261,
    "start_time": "2025-04-25T04:43:51.468Z"
   },
   {
    "duration": 32,
    "start_time": "2025-04-25T04:43:51.730Z"
   },
   {
    "duration": 249,
    "start_time": "2025-04-25T04:43:51.763Z"
   },
   {
    "duration": 123,
    "start_time": "2025-04-25T04:43:52.014Z"
   },
   {
    "duration": 2396,
    "start_time": "2025-04-25T04:56:43.696Z"
   },
   {
    "duration": 1196,
    "start_time": "2025-04-25T04:56:46.094Z"
   },
   {
    "duration": 2213,
    "start_time": "2025-04-25T04:56:47.292Z"
   },
   {
    "duration": 5,
    "start_time": "2025-04-25T04:56:49.508Z"
   },
   {
    "duration": 31,
    "start_time": "2025-04-25T04:56:49.514Z"
   },
   {
    "duration": 192,
    "start_time": "2025-04-25T04:56:49.547Z"
   },
   {
    "duration": 7,
    "start_time": "2025-04-25T04:56:49.741Z"
   },
   {
    "duration": 158,
    "start_time": "2025-04-25T04:56:49.749Z"
   },
   {
    "duration": 18,
    "start_time": "2025-04-25T04:56:49.909Z"
   },
   {
    "duration": 21,
    "start_time": "2025-04-25T04:56:49.935Z"
   },
   {
    "duration": 29,
    "start_time": "2025-04-25T04:56:49.957Z"
   },
   {
    "duration": 36,
    "start_time": "2025-04-25T04:56:49.987Z"
   },
   {
    "duration": 53,
    "start_time": "2025-04-25T04:56:50.025Z"
   },
   {
    "duration": 166,
    "start_time": "2025-04-25T04:56:50.080Z"
   },
   {
    "duration": 44,
    "start_time": "2025-04-25T04:56:50.247Z"
   },
   {
    "duration": 54,
    "start_time": "2025-04-25T04:56:50.292Z"
   },
   {
    "duration": 10,
    "start_time": "2025-04-25T04:56:50.348Z"
   },
   {
    "duration": 4,
    "start_time": "2025-04-25T04:56:50.359Z"
   },
   {
    "duration": 5,
    "start_time": "2025-04-25T04:56:50.365Z"
   },
   {
    "duration": 29,
    "start_time": "2025-04-25T04:56:50.371Z"
   },
   {
    "duration": 4,
    "start_time": "2025-04-25T04:56:50.402Z"
   },
   {
    "duration": 37,
    "start_time": "2025-04-25T04:56:50.407Z"
   },
   {
    "duration": 43,
    "start_time": "2025-04-25T04:56:50.445Z"
   },
   {
    "duration": 51,
    "start_time": "2025-04-25T04:56:50.490Z"
   },
   {
    "duration": 20,
    "start_time": "2025-04-25T04:56:50.543Z"
   },
   {
    "duration": 7,
    "start_time": "2025-04-25T04:56:50.564Z"
   },
   {
    "duration": 34,
    "start_time": "2025-04-25T04:56:50.573Z"
   },
   {
    "duration": 87,
    "start_time": "2025-04-25T04:56:50.611Z"
   },
   {
    "duration": 72,
    "start_time": "2025-04-25T04:56:50.700Z"
   },
   {
    "duration": 15,
    "start_time": "2025-04-25T04:56:50.773Z"
   },
   {
    "duration": 26,
    "start_time": "2025-04-25T04:56:50.789Z"
   },
   {
    "duration": 35,
    "start_time": "2025-04-25T04:56:50.817Z"
   },
   {
    "duration": 25,
    "start_time": "2025-04-25T04:56:50.854Z"
   },
   {
    "duration": 2,
    "start_time": "2025-04-25T04:56:50.881Z"
   },
   {
    "duration": 37,
    "start_time": "2025-04-25T04:56:50.885Z"
   },
   {
    "duration": 54,
    "start_time": "2025-04-25T04:56:50.924Z"
   },
   {
    "duration": 5,
    "start_time": "2025-04-25T04:56:50.979Z"
   },
   {
    "duration": 27,
    "start_time": "2025-04-25T04:56:50.985Z"
   },
   {
    "duration": 30,
    "start_time": "2025-04-25T04:56:51.014Z"
   },
   {
    "duration": 10,
    "start_time": "2025-04-25T04:56:51.045Z"
   },
   {
    "duration": 8,
    "start_time": "2025-04-25T04:56:51.056Z"
   },
   {
    "duration": 22,
    "start_time": "2025-04-25T04:56:51.065Z"
   },
   {
    "duration": 14,
    "start_time": "2025-04-25T04:56:51.089Z"
   },
   {
    "duration": 382,
    "start_time": "2025-04-25T04:56:51.105Z"
   },
   {
    "duration": 261,
    "start_time": "2025-04-25T04:56:51.489Z"
   },
   {
    "duration": 4,
    "start_time": "2025-04-25T04:56:51.752Z"
   },
   {
    "duration": 37,
    "start_time": "2025-04-25T04:56:51.758Z"
   },
   {
    "duration": 5,
    "start_time": "2025-04-25T04:56:51.797Z"
   },
   {
    "duration": 7,
    "start_time": "2025-04-25T04:56:51.804Z"
   },
   {
    "duration": 14,
    "start_time": "2025-04-25T04:56:51.812Z"
   },
   {
    "duration": 4,
    "start_time": "2025-04-25T04:56:51.837Z"
   },
   {
    "duration": 258,
    "start_time": "2025-04-25T04:56:51.843Z"
   },
   {
    "duration": 36,
    "start_time": "2025-04-25T04:56:52.102Z"
   },
   {
    "duration": 8,
    "start_time": "2025-04-25T04:56:52.139Z"
   },
   {
    "duration": 16,
    "start_time": "2025-04-25T04:56:52.148Z"
   },
   {
    "duration": 11,
    "start_time": "2025-04-25T04:56:52.166Z"
   },
   {
    "duration": 225,
    "start_time": "2025-04-25T04:56:52.178Z"
   },
   {
    "duration": 10,
    "start_time": "2025-04-25T04:56:52.404Z"
   },
   {
    "duration": 170,
    "start_time": "2025-04-25T04:56:52.416Z"
   },
   {
    "duration": 33,
    "start_time": "2025-04-25T04:56:52.588Z"
   },
   {
    "duration": 262,
    "start_time": "2025-04-25T04:56:52.637Z"
   },
   {
    "duration": 1318,
    "start_time": "2025-04-25T05:20:27.669Z"
   }
  ],
  "colab": {
   "provenance": []
  },
  "kernelspec": {
   "display_name": "Python [conda env:base] *",
   "language": "python",
   "name": "conda-base-py"
  },
  "language_info": {
   "codemirror_mode": {
    "name": "ipython",
    "version": 3
   },
   "file_extension": ".py",
   "mimetype": "text/x-python",
   "name": "python",
   "nbconvert_exporter": "python",
   "pygments_lexer": "ipython3",
   "version": "3.12.7"
  },
  "toc": {
   "base_numbering": 1,
   "nav_menu": {},
   "number_sections": true,
   "sideBar": true,
   "skip_h1_title": true,
   "title_cell": "Table of Contents",
   "title_sidebar": "Contents",
   "toc_cell": false,
   "toc_position": {},
   "toc_section_display": true,
   "toc_window_display": false
  }
 },
 "nbformat": 4,
 "nbformat_minor": 4
}
