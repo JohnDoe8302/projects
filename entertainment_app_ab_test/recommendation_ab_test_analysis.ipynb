{
 "cells": [
  {
   "cell_type": "markdown",
   "metadata": {
    "id": "u98L9TgH0eMk"
   },
   "source": [
    "# Разработка A/B-тестирования и анализ результатов\n",
    "\n",
    "Мы работаем продуктовым аналитиком в компании, которая разрабатывает развлекательное приложение с функцией «бесконечной» ленты, как, например, в приложениях с короткими видео. В нашем приложении существует две модели монетизации: первая — ежемесячная платная подписка, которая позволяет пользователям смотреть ленту без рекламы, вторая — демонстрация рекламы для пользователей, которые ещё не оформили подписку.\n",
    "\n",
    "Команда разработчиков рекомендательных систем создала новый алгоритм рекомендаций, который, по их мнению, будет показывать более интересный контент для каждого пользователя. Нас, как аналитика, просят помочь рассчитать параметры A/B-теста, который позволит проверить эту гипотезу, и проанализировать его результаты."
   ]
  },
  {
   "cell_type": "markdown",
   "metadata": {
    "id": "LJBRALHs0eMf"
   },
   "source": [
    "## Описание данных\n",
    "\n",
    "Мы будем работать с тремя таблицами:\n",
    "\n",
    "- `sessions_project_history.csv` — таблица с историческими данными по сессиям пользователей на период с 2025-08-15 по 2025-09-23. Путь к файлу: `/datasets/sessions_project_history.csv`.\n",
    "\n",
    "- `sessions_project_test_part.csv` — таблица с данными за первый день проведения A/B-теста, то есть за 2025-10-14. Путь к файлу: `/datasets/sessions_project_test_part.csv`.\n",
    "\n",
    "- `sessions_project_test.csv` — таблица с данными за весь период проведения A/B-теста, то есть с 2025-10-14 по 2025-11-02. Путь к файлу: `/datasets/sessions_project_test.csv`.\n",
    "\n",
    "У этих таблиц почти совпадает структура и содержание колонок, различаются лишь периоды наблюдения.\n",
    "\n",
    "Поля таблиц `sessions_project_history.csv`, `sessions_project_test.csv`, `sessions_project_test_part.csv`:\n",
    "\n",
    "- `user_id` — идентификатор пользователя;\n",
    "\n",
    "- `session_id` — идентификатор сессии в приложении;\n",
    "\n",
    "- `session_date` — дата сессии;\n",
    "\n",
    "- `session_start_ts` — дата и время начала сессии;\n",
    "\n",
    "- `install_date` — дата установки приложения;\n",
    "\n",
    "- `session_number` — порядковый номер сессии для конкретного пользователя;\n",
    "\n",
    "- `registration_flag` — является ли пользователь зарегистрированным;\n",
    "\n",
    "- `page_counter` — количество просмотренных страниц во время сессии;\n",
    "\n",
    "- `region` — регион пользователя;\n",
    "\n",
    "- `device` — тип устройства пользователя;\n",
    "\n",
    "- `test_group` — тестовая группа (в таблице с историческими данными этого столбца нет).\n",
    "\n",
    "\n",
    "## Что нужно сделать\n",
    "Наши задачи: рассчитать параметры теста, оценить корректность его проведения и проанализировать результаты эксперимента."
   ]
  },
  {
   "cell_type": "markdown",
   "metadata": {
    "id": "UpOucjID0eMl"
   },
   "source": [
    "### 1. Работа с историческими данными (EDA)"
   ]
  },
  {
   "cell_type": "markdown",
   "metadata": {
    "id": "8iJMtL-30eMl"
   },
   "source": [
    "#### 1.1. Загрузка исторических данных\n",
    "На первом этапе поработаем с историческими данными приложения:\n",
    "\n",
    "- Импортируем библиотеку pandas.\n",
    "\n",
    "- Считаем и сохраним в датафрейм `sessions_history` CSV-файл с историческими данными о сессиях пользователей `sessions_project_history.csv`.\n",
    "\n",
    "Выведем на экран первые пять строк полученного датафрейма."
   ]
  },
  {
   "cell_type": "code",
   "execution_count": 1,
   "metadata": {
    "id": "6TPR2-1RPboT"
   },
   "outputs": [],
   "source": [
    "# Импортируем библиотеки\n",
    "import pandas as pd"
   ]
  },
  {
   "cell_type": "code",
   "execution_count": 2,
   "metadata": {},
   "outputs": [],
   "source": [
    "## Сохраняем датафрейм\n",
    "df_sessions_history = pd.read_csv('https://code.s3.yandex.net/datasets/sessions_project_history.csv')"
   ]
  },
  {
   "cell_type": "code",
   "execution_count": 3,
   "metadata": {},
   "outputs": [
    {
     "data": {
      "text/html": [
       "<div>\n",
       "<style scoped>\n",
       "    .dataframe tbody tr th:only-of-type {\n",
       "        vertical-align: middle;\n",
       "    }\n",
       "\n",
       "    .dataframe tbody tr th {\n",
       "        vertical-align: top;\n",
       "    }\n",
       "\n",
       "    .dataframe thead th {\n",
       "        text-align: right;\n",
       "    }\n",
       "</style>\n",
       "<table border=\"1\" class=\"dataframe\">\n",
       "  <thead>\n",
       "    <tr style=\"text-align: right;\">\n",
       "      <th></th>\n",
       "      <th>user_id</th>\n",
       "      <th>session_id</th>\n",
       "      <th>session_date</th>\n",
       "      <th>session_start_ts</th>\n",
       "      <th>install_date</th>\n",
       "      <th>session_number</th>\n",
       "      <th>registration_flag</th>\n",
       "      <th>page_counter</th>\n",
       "      <th>region</th>\n",
       "      <th>device</th>\n",
       "    </tr>\n",
       "  </thead>\n",
       "  <tbody>\n",
       "    <tr>\n",
       "      <th>0</th>\n",
       "      <td>E302123B7000BFE4</td>\n",
       "      <td>F9AF61A0C2023832</td>\n",
       "      <td>2025-08-15</td>\n",
       "      <td>2025-08-15 17:47:35</td>\n",
       "      <td>2025-08-15</td>\n",
       "      <td>1</td>\n",
       "      <td>0</td>\n",
       "      <td>3</td>\n",
       "      <td>CIS</td>\n",
       "      <td>iPhone</td>\n",
       "    </tr>\n",
       "    <tr>\n",
       "      <th>1</th>\n",
       "      <td>2530F72E221829FB</td>\n",
       "      <td>85003A206CBDAC6F</td>\n",
       "      <td>2025-08-15</td>\n",
       "      <td>2025-08-15 16:42:14</td>\n",
       "      <td>2025-08-15</td>\n",
       "      <td>1</td>\n",
       "      <td>0</td>\n",
       "      <td>4</td>\n",
       "      <td>MENA</td>\n",
       "      <td>Android</td>\n",
       "    </tr>\n",
       "    <tr>\n",
       "      <th>2</th>\n",
       "      <td>876E020A4FC512F5</td>\n",
       "      <td>3677423E49D72DEE</td>\n",
       "      <td>2025-08-15</td>\n",
       "      <td>2025-08-15 12:30:00</td>\n",
       "      <td>2025-08-15</td>\n",
       "      <td>1</td>\n",
       "      <td>0</td>\n",
       "      <td>4</td>\n",
       "      <td>EU</td>\n",
       "      <td>PC</td>\n",
       "    </tr>\n",
       "    <tr>\n",
       "      <th>3</th>\n",
       "      <td>2640B349E1D81584</td>\n",
       "      <td>956B45F5915CA225</td>\n",
       "      <td>2025-08-15</td>\n",
       "      <td>2025-08-15 15:31:31</td>\n",
       "      <td>2025-08-15</td>\n",
       "      <td>1</td>\n",
       "      <td>0</td>\n",
       "      <td>4</td>\n",
       "      <td>CIS</td>\n",
       "      <td>Android</td>\n",
       "    </tr>\n",
       "    <tr>\n",
       "      <th>4</th>\n",
       "      <td>94E1CBFAEF1F5EE9</td>\n",
       "      <td>83BF0DA35F9F1F40</td>\n",
       "      <td>2025-08-15</td>\n",
       "      <td>2025-08-15 21:33:53</td>\n",
       "      <td>2025-08-15</td>\n",
       "      <td>1</td>\n",
       "      <td>0</td>\n",
       "      <td>3</td>\n",
       "      <td>CIS</td>\n",
       "      <td>Android</td>\n",
       "    </tr>\n",
       "  </tbody>\n",
       "</table>\n",
       "</div>"
      ],
      "text/plain": [
       "            user_id        session_id session_date     session_start_ts  \\\n",
       "0  E302123B7000BFE4  F9AF61A0C2023832   2025-08-15  2025-08-15 17:47:35   \n",
       "1  2530F72E221829FB  85003A206CBDAC6F   2025-08-15  2025-08-15 16:42:14   \n",
       "2  876E020A4FC512F5  3677423E49D72DEE   2025-08-15  2025-08-15 12:30:00   \n",
       "3  2640B349E1D81584  956B45F5915CA225   2025-08-15  2025-08-15 15:31:31   \n",
       "4  94E1CBFAEF1F5EE9  83BF0DA35F9F1F40   2025-08-15  2025-08-15 21:33:53   \n",
       "\n",
       "  install_date  session_number  registration_flag  page_counter region  \\\n",
       "0   2025-08-15               1                  0             3    CIS   \n",
       "1   2025-08-15               1                  0             4   MENA   \n",
       "2   2025-08-15               1                  0             4     EU   \n",
       "3   2025-08-15               1                  0             4    CIS   \n",
       "4   2025-08-15               1                  0             3    CIS   \n",
       "\n",
       "    device  \n",
       "0   iPhone  \n",
       "1  Android  \n",
       "2       PC  \n",
       "3  Android  \n",
       "4  Android  "
      ]
     },
     "execution_count": 3,
     "metadata": {},
     "output_type": "execute_result"
    }
   ],
   "source": [
    "df_sessions_history.head()"
   ]
  },
  {
   "cell_type": "code",
   "execution_count": 4,
   "metadata": {},
   "outputs": [
    {
     "data": {
      "text/html": [
       "<div>\n",
       "<style scoped>\n",
       "    .dataframe tbody tr th:only-of-type {\n",
       "        vertical-align: middle;\n",
       "    }\n",
       "\n",
       "    .dataframe tbody tr th {\n",
       "        vertical-align: top;\n",
       "    }\n",
       "\n",
       "    .dataframe thead th {\n",
       "        text-align: right;\n",
       "    }\n",
       "</style>\n",
       "<table border=\"1\" class=\"dataframe\">\n",
       "  <thead>\n",
       "    <tr style=\"text-align: right;\">\n",
       "      <th></th>\n",
       "      <th>session_number</th>\n",
       "      <th>registration_flag</th>\n",
       "      <th>page_counter</th>\n",
       "    </tr>\n",
       "  </thead>\n",
       "  <tbody>\n",
       "    <tr>\n",
       "      <th>count</th>\n",
       "      <td>435924.000000</td>\n",
       "      <td>435924.000000</td>\n",
       "      <td>435924.000000</td>\n",
       "    </tr>\n",
       "    <tr>\n",
       "      <th>mean</th>\n",
       "      <td>2.382908</td>\n",
       "      <td>0.077325</td>\n",
       "      <td>3.005561</td>\n",
       "    </tr>\n",
       "    <tr>\n",
       "      <th>std</th>\n",
       "      <td>1.288487</td>\n",
       "      <td>0.267107</td>\n",
       "      <td>1.024625</td>\n",
       "    </tr>\n",
       "    <tr>\n",
       "      <th>min</th>\n",
       "      <td>1.000000</td>\n",
       "      <td>0.000000</td>\n",
       "      <td>1.000000</td>\n",
       "    </tr>\n",
       "    <tr>\n",
       "      <th>25%</th>\n",
       "      <td>1.000000</td>\n",
       "      <td>0.000000</td>\n",
       "      <td>2.000000</td>\n",
       "    </tr>\n",
       "    <tr>\n",
       "      <th>50%</th>\n",
       "      <td>2.000000</td>\n",
       "      <td>0.000000</td>\n",
       "      <td>3.000000</td>\n",
       "    </tr>\n",
       "    <tr>\n",
       "      <th>75%</th>\n",
       "      <td>3.000000</td>\n",
       "      <td>0.000000</td>\n",
       "      <td>4.000000</td>\n",
       "    </tr>\n",
       "    <tr>\n",
       "      <th>max</th>\n",
       "      <td>10.000000</td>\n",
       "      <td>1.000000</td>\n",
       "      <td>7.000000</td>\n",
       "    </tr>\n",
       "  </tbody>\n",
       "</table>\n",
       "</div>"
      ],
      "text/plain": [
       "       session_number  registration_flag   page_counter\n",
       "count   435924.000000      435924.000000  435924.000000\n",
       "mean         2.382908           0.077325       3.005561\n",
       "std          1.288487           0.267107       1.024625\n",
       "min          1.000000           0.000000       1.000000\n",
       "25%          1.000000           0.000000       2.000000\n",
       "50%          2.000000           0.000000       3.000000\n",
       "75%          3.000000           0.000000       4.000000\n",
       "max         10.000000           1.000000       7.000000"
      ]
     },
     "execution_count": 4,
     "metadata": {},
     "output_type": "execute_result"
    }
   ],
   "source": [
    "df_sessions_history.describe()"
   ]
  },
  {
   "cell_type": "markdown",
   "metadata": {},
   "source": [
    " - Средний пользователь совершает 2.38 сессии при медиане = 2\n",
    " - Максимум 10 сессий.Вероятно активные пользователи\n",
    " - Только 7.7% сессий от зарегистрированных пользователей.Большинство анонимные пользователи."
   ]
  },
  {
   "cell_type": "markdown",
   "metadata": {
    "id": "qTDoiODz0eMo"
   },
   "source": [
    "#### 1.2. Знакомство с данными\n",
    "- Для каждого уникального пользователя `user_id` рассчитаем количество уникальных сессий `session_id`.\n",
    "\n",
    "- Выведем на экран все данные из таблицы `sessions_history` для одного пользователя с наибольшим количеством сессий. Если таких пользователей несколько, выберем любого из них.\n",
    "\n",
    "- Изучим таблицу для одного пользователя, чтобы лучше понять логику формирования каждого столбца данных.\n",
    "\n"
   ]
  },
  {
   "cell_type": "code",
   "execution_count": 5,
   "metadata": {},
   "outputs": [
    {
     "name": "stdout",
     "output_type": "stream",
     "text": [
      "Общее кол-во строк - 435924\n",
      "Кол-во дубликатов - 0\n"
     ]
    }
   ],
   "source": [
    "# Проверим датафрейм на дубликаты\n",
    "print(f'Общее кол-во строк - {len(df_sessions_history)}')\n",
    "print(f\"Кол-во дубликатов - {df_sessions_history['session_id'].duplicated().sum()}\")"
   ]
  },
  {
   "cell_type": "code",
   "execution_count": 6,
   "metadata": {
    "id": "PWZO9vTIPbPN"
   },
   "outputs": [],
   "source": [
    "# Считаем кол-во уникальных сессий для каждого пользователя\n",
    "user_sessions_count = df_sessions_history.groupby('user_id')['session_id'].nunique().reset_index()"
   ]
  },
  {
   "cell_type": "markdown",
   "metadata": {},
   "source": [
    "Выведем на экран все данные из таблицы `sessions_history` для одного пользователя с наибольшим количеством сессий. Если таких пользователей несколько, выберем любого из них"
   ]
  },
  {
   "cell_type": "code",
   "execution_count": 7,
   "metadata": {},
   "outputs": [
    {
     "data": {
      "text/html": [
       "<div>\n",
       "<style scoped>\n",
       "    .dataframe tbody tr th:only-of-type {\n",
       "        vertical-align: middle;\n",
       "    }\n",
       "\n",
       "    .dataframe tbody tr th {\n",
       "        vertical-align: top;\n",
       "    }\n",
       "\n",
       "    .dataframe thead th {\n",
       "        text-align: right;\n",
       "    }\n",
       "</style>\n",
       "<table border=\"1\" class=\"dataframe\">\n",
       "  <thead>\n",
       "    <tr style=\"text-align: right;\">\n",
       "      <th></th>\n",
       "      <th>user_id</th>\n",
       "      <th>session_id</th>\n",
       "    </tr>\n",
       "  </thead>\n",
       "  <tbody>\n",
       "    <tr>\n",
       "      <th>8948</th>\n",
       "      <td>10E0DEFC1ABDBBE0</td>\n",
       "      <td>10</td>\n",
       "    </tr>\n",
       "    <tr>\n",
       "      <th>55627</th>\n",
       "      <td>6A73CB5566BB494D</td>\n",
       "      <td>10</td>\n",
       "    </tr>\n",
       "  </tbody>\n",
       "</table>\n",
       "</div>"
      ],
      "text/plain": [
       "                user_id  session_id\n",
       "8948   10E0DEFC1ABDBBE0          10\n",
       "55627  6A73CB5566BB494D          10"
      ]
     },
     "execution_count": 7,
     "metadata": {},
     "output_type": "execute_result"
    }
   ],
   "source": [
    "max_sessions = user_sessions_count['session_id'].max()\n",
    "top_users = user_sessions_count[user_sessions_count['session_id'] == max_sessions]\n",
    "top_users"
   ]
  },
  {
   "cell_type": "code",
   "execution_count": 8,
   "metadata": {},
   "outputs": [
    {
     "data": {
      "text/html": [
       "<div>\n",
       "<style scoped>\n",
       "    .dataframe tbody tr th:only-of-type {\n",
       "        vertical-align: middle;\n",
       "    }\n",
       "\n",
       "    .dataframe tbody tr th {\n",
       "        vertical-align: top;\n",
       "    }\n",
       "\n",
       "    .dataframe thead th {\n",
       "        text-align: right;\n",
       "    }\n",
       "</style>\n",
       "<table border=\"1\" class=\"dataframe\">\n",
       "  <thead>\n",
       "    <tr style=\"text-align: right;\">\n",
       "      <th></th>\n",
       "      <th>user_id</th>\n",
       "      <th>session_id</th>\n",
       "      <th>session_date</th>\n",
       "      <th>session_start_ts</th>\n",
       "      <th>install_date</th>\n",
       "      <th>session_number</th>\n",
       "      <th>registration_flag</th>\n",
       "      <th>page_counter</th>\n",
       "      <th>region</th>\n",
       "      <th>device</th>\n",
       "    </tr>\n",
       "  </thead>\n",
       "  <tbody>\n",
       "    <tr>\n",
       "      <th>115558</th>\n",
       "      <td>10E0DEFC1ABDBBE0</td>\n",
       "      <td>B8F0423BBFFCF5DC</td>\n",
       "      <td>2025-08-14</td>\n",
       "      <td>2025-08-14 13:57:39</td>\n",
       "      <td>2025-08-14</td>\n",
       "      <td>1</td>\n",
       "      <td>0</td>\n",
       "      <td>4</td>\n",
       "      <td>CIS</td>\n",
       "      <td>Android</td>\n",
       "    </tr>\n",
       "    <tr>\n",
       "      <th>191751</th>\n",
       "      <td>10E0DEFC1ABDBBE0</td>\n",
       "      <td>87CA2FA549473837</td>\n",
       "      <td>2025-08-15</td>\n",
       "      <td>2025-08-15 16:42:10</td>\n",
       "      <td>2025-08-14</td>\n",
       "      <td>2</td>\n",
       "      <td>0</td>\n",
       "      <td>3</td>\n",
       "      <td>CIS</td>\n",
       "      <td>Android</td>\n",
       "    </tr>\n",
       "    <tr>\n",
       "      <th>239370</th>\n",
       "      <td>10E0DEFC1ABDBBE0</td>\n",
       "      <td>4ADD8011DCDCE318</td>\n",
       "      <td>2025-08-16</td>\n",
       "      <td>2025-08-16 19:53:21</td>\n",
       "      <td>2025-08-14</td>\n",
       "      <td>3</td>\n",
       "      <td>0</td>\n",
       "      <td>3</td>\n",
       "      <td>CIS</td>\n",
       "      <td>Android</td>\n",
       "    </tr>\n",
       "    <tr>\n",
       "      <th>274629</th>\n",
       "      <td>10E0DEFC1ABDBBE0</td>\n",
       "      <td>DF0FD0E09BF1F3D7</td>\n",
       "      <td>2025-08-17</td>\n",
       "      <td>2025-08-17 15:03:43</td>\n",
       "      <td>2025-08-14</td>\n",
       "      <td>4</td>\n",
       "      <td>0</td>\n",
       "      <td>1</td>\n",
       "      <td>CIS</td>\n",
       "      <td>Android</td>\n",
       "    </tr>\n",
       "    <tr>\n",
       "      <th>302501</th>\n",
       "      <td>10E0DEFC1ABDBBE0</td>\n",
       "      <td>3C221774B4DE6885</td>\n",
       "      <td>2025-08-18</td>\n",
       "      <td>2025-08-18 17:29:14</td>\n",
       "      <td>2025-08-14</td>\n",
       "      <td>5</td>\n",
       "      <td>0</td>\n",
       "      <td>4</td>\n",
       "      <td>CIS</td>\n",
       "      <td>Android</td>\n",
       "    </tr>\n",
       "    <tr>\n",
       "      <th>325557</th>\n",
       "      <td>10E0DEFC1ABDBBE0</td>\n",
       "      <td>031BD7A67048105B</td>\n",
       "      <td>2025-08-19</td>\n",
       "      <td>2025-08-19 13:23:55</td>\n",
       "      <td>2025-08-14</td>\n",
       "      <td>6</td>\n",
       "      <td>0</td>\n",
       "      <td>2</td>\n",
       "      <td>CIS</td>\n",
       "      <td>Android</td>\n",
       "    </tr>\n",
       "    <tr>\n",
       "      <th>345336</th>\n",
       "      <td>10E0DEFC1ABDBBE0</td>\n",
       "      <td>FF4315CF4AD4B100</td>\n",
       "      <td>2025-08-20</td>\n",
       "      <td>2025-08-20 19:31:54</td>\n",
       "      <td>2025-08-14</td>\n",
       "      <td>7</td>\n",
       "      <td>0</td>\n",
       "      <td>2</td>\n",
       "      <td>CIS</td>\n",
       "      <td>Android</td>\n",
       "    </tr>\n",
       "    <tr>\n",
       "      <th>377532</th>\n",
       "      <td>10E0DEFC1ABDBBE0</td>\n",
       "      <td>4045FEA0747203B4</td>\n",
       "      <td>2025-08-22</td>\n",
       "      <td>2025-08-22 17:54:13</td>\n",
       "      <td>2025-08-14</td>\n",
       "      <td>8</td>\n",
       "      <td>0</td>\n",
       "      <td>2</td>\n",
       "      <td>CIS</td>\n",
       "      <td>Android</td>\n",
       "    </tr>\n",
       "    <tr>\n",
       "      <th>403538</th>\n",
       "      <td>10E0DEFC1ABDBBE0</td>\n",
       "      <td>344B086C421C7F37</td>\n",
       "      <td>2025-08-24</td>\n",
       "      <td>2025-08-24 14:46:13</td>\n",
       "      <td>2025-08-14</td>\n",
       "      <td>9</td>\n",
       "      <td>0</td>\n",
       "      <td>2</td>\n",
       "      <td>CIS</td>\n",
       "      <td>Android</td>\n",
       "    </tr>\n",
       "    <tr>\n",
       "      <th>414743</th>\n",
       "      <td>10E0DEFC1ABDBBE0</td>\n",
       "      <td>054F20BA371E4C9D</td>\n",
       "      <td>2025-08-25</td>\n",
       "      <td>2025-08-25 18:36:41</td>\n",
       "      <td>2025-08-14</td>\n",
       "      <td>10</td>\n",
       "      <td>0</td>\n",
       "      <td>3</td>\n",
       "      <td>CIS</td>\n",
       "      <td>Android</td>\n",
       "    </tr>\n",
       "  </tbody>\n",
       "</table>\n",
       "</div>"
      ],
      "text/plain": [
       "                 user_id        session_id session_date     session_start_ts  \\\n",
       "115558  10E0DEFC1ABDBBE0  B8F0423BBFFCF5DC   2025-08-14  2025-08-14 13:57:39   \n",
       "191751  10E0DEFC1ABDBBE0  87CA2FA549473837   2025-08-15  2025-08-15 16:42:10   \n",
       "239370  10E0DEFC1ABDBBE0  4ADD8011DCDCE318   2025-08-16  2025-08-16 19:53:21   \n",
       "274629  10E0DEFC1ABDBBE0  DF0FD0E09BF1F3D7   2025-08-17  2025-08-17 15:03:43   \n",
       "302501  10E0DEFC1ABDBBE0  3C221774B4DE6885   2025-08-18  2025-08-18 17:29:14   \n",
       "325557  10E0DEFC1ABDBBE0  031BD7A67048105B   2025-08-19  2025-08-19 13:23:55   \n",
       "345336  10E0DEFC1ABDBBE0  FF4315CF4AD4B100   2025-08-20  2025-08-20 19:31:54   \n",
       "377532  10E0DEFC1ABDBBE0  4045FEA0747203B4   2025-08-22  2025-08-22 17:54:13   \n",
       "403538  10E0DEFC1ABDBBE0  344B086C421C7F37   2025-08-24  2025-08-24 14:46:13   \n",
       "414743  10E0DEFC1ABDBBE0  054F20BA371E4C9D   2025-08-25  2025-08-25 18:36:41   \n",
       "\n",
       "       install_date  session_number  registration_flag  page_counter region  \\\n",
       "115558   2025-08-14               1                  0             4    CIS   \n",
       "191751   2025-08-14               2                  0             3    CIS   \n",
       "239370   2025-08-14               3                  0             3    CIS   \n",
       "274629   2025-08-14               4                  0             1    CIS   \n",
       "302501   2025-08-14               5                  0             4    CIS   \n",
       "325557   2025-08-14               6                  0             2    CIS   \n",
       "345336   2025-08-14               7                  0             2    CIS   \n",
       "377532   2025-08-14               8                  0             2    CIS   \n",
       "403538   2025-08-14               9                  0             2    CIS   \n",
       "414743   2025-08-14              10                  0             3    CIS   \n",
       "\n",
       "         device  \n",
       "115558  Android  \n",
       "191751  Android  \n",
       "239370  Android  \n",
       "274629  Android  \n",
       "302501  Android  \n",
       "325557  Android  \n",
       "345336  Android  \n",
       "377532  Android  \n",
       "403538  Android  \n",
       "414743  Android  "
      ]
     },
     "execution_count": 8,
     "metadata": {},
     "output_type": "execute_result"
    }
   ],
   "source": [
    "# Выберем все сессии одного пользователя\n",
    "top_user_id = '10E0DEFC1ABDBBE0'\n",
    "top_user_sessions = df_sessions_history[df_sessions_history['user_id'] == top_user_id]\n",
    "top_user_sessions"
   ]
  },
  {
   "cell_type": "markdown",
   "metadata": {},
   "source": [
    "Пользователь `10E0DEFC1ABDBBE0` был активен с 14 по 25 августа 2025 года(10 сессий за 12 дней ).Активность ежедневная кроме 21 и 23 августа. По характеристикам пользователь незарегистрирован(`registration_flag=0`) подключался с устройства Android,установил приложение 14.08.2025.Сессии преимущественно во второй половине дня."
   ]
  },
  {
   "cell_type": "markdown",
   "metadata": {
    "id": "CmcGpJTP0eMq"
   },
   "source": [
    "#### 1.3. Анализ числа регистраций\n",
    "Одна из важнейших метрик продукта — число зарегистрированных пользователей. Используя исторические данные, визуализируем, как менялось число регистраций в приложении за время его существования.\n",
    "\n",
    "- Агрегируем исторические данные и рассчитаем число уникальных пользователей и число зарегистрированных пользователей для каждого дня наблюдения. Для простоты считаем, что у пользователя в течение дня бывает одна сессия максимум и статус регистрации в течение одного дня не может измениться.\n",
    "\n",
    "- Построим линейные графики общего числа пользователей и общего числа зарегистрированных пользователей по дням. Отобразим их на одном графике.\n",
    "\n",
    "- Построим отдельный линейный график доли зарегистрированных пользователей от всех пользователей по дням.\n",
    "\n",
    "- На обоих графиках должны быть заголовок, подписанные оси X и Y, сетка и легенда."
   ]
  },
  {
   "cell_type": "code",
   "execution_count": 9,
   "metadata": {
    "id": "tN_6Ml3EPatS"
   },
   "outputs": [],
   "source": [
    "## Преобразуем session_date в datetime\n",
    "df_sessions_history['session_date'] = pd.to_datetime(df_sessions_history['session_date'])\n",
    "\n",
    "# Агрегируем по дням\n",
    "daily_stats = df_sessions_history.groupby('session_date').agg(\n",
    "    total_users=('user_id', 'nunique'),\n",
    "    registered_users=('registration_flag', 'sum')\n",
    ").reset_index()\n",
    "\n",
    "# Считаем доли зарегистрированных пользователей\n",
    "daily_stats['registration_ratio'] = daily_stats['registered_users'] / daily_stats['total_users']"
   ]
  },
  {
   "cell_type": "code",
   "execution_count": 10,
   "metadata": {},
   "outputs": [
    {
     "data": {
      "image/png": "[encoded data removed]",
      "text/plain": [
       "<Figure size 864x432 with 2 Axes>"
      ]
     },
     "metadata": {
      "needs_background": "light"
     },
     "output_type": "display_data"
    }
   ],
   "source": [
    "# Импортируем библиотеки для визуализации\n",
    "import matplotlib.pyplot as plt\n",
    "import seaborn as sns\n",
    "\n",
    "# Создаём контейнер графика matplotlib и задаём его размер\n",
    "plt.figure(figsize=(12, 6))\n",
    "\n",
    "# Строим график общего числа пользователей и зарегистрирванных\n",
    "plt.subplot(2, 1, 1)\n",
    "plt.plot(daily_stats['session_date'], daily_stats['total_users'], label='Все пользователи')\n",
    "plt.plot(daily_stats['session_date'], daily_stats['registered_users'], label='Зарегистрированные')\n",
    "\n",
    "# Настраиваем оформление графика\n",
    "plt.title('Динамика регистраций пользователей')\n",
    "plt.xlabel('Дата')\n",
    "plt.ylabel('Кол-во пользователей')\n",
    "plt.grid(True)\n",
    "plt.legend()\n",
    "\n",
    "\n",
    "# Строим график доли зарегистрированных\n",
    "plt.subplot(2, 1, 2)\n",
    "plt.plot(daily_stats['session_date'], daily_stats['registration_ratio'], color='green')\n",
    "\n",
    "# Настраиваем оформление графика\n",
    "plt.title('Доля зарегистрированных пользователей')\n",
    "plt.xlabel('Дата')\n",
    "plt.ylabel('Доля зарегистрированных')\n",
    "plt.grid(True)\n",
    "\n",
    "plt.show()"
   ]
  },
  {
   "cell_type": "markdown",
   "metadata": {},
   "source": [
    "На графиках видим что пик активности приходится на 22 августа. Далее резкий спад после 10 сентября.\n",
    "Максимум регистраций приходится на 23 августа а минимум регистраций на 23 сентября"
   ]
  },
  {
   "cell_type": "markdown",
   "metadata": {
    "id": "UR7D7RhF0eMr"
   },
   "source": [
    "#### 1.4. Анализ числа просмотренных страниц\n",
    "Другая важная метрика продукта — число просмотренных страниц в приложении. Чем больше страниц просмотрено, тем сильнее пользователь увлечён контентом, а значит, выше шансы, что он зарегистрируется и оплатит подписку.\n",
    "\n",
    "- Найдем количество сессий для каждого значения количества просмотренных страниц. Например: одну страницу просмотрели в 29 160 сессиях, две страницы — в 105 536 сессиях и так далее.\n",
    "\n",
    "- Построим столбчатую диаграмму, где по оси X будет число просмотренных страниц, по оси Y — количество сессий.\n",
    "\n",
    "- На диаграмме должны быть заголовок, подписанные оси X и Y."
   ]
  },
  {
   "cell_type": "code",
   "execution_count": 11,
   "metadata": {
    "id": "cb6hPlVzPaSf"
   },
   "outputs": [
    {
     "data": {
      "text/plain": [
       "1     29160\n",
       "2    105536\n",
       "3    166690\n",
       "4    105569\n",
       "5     26288\n",
       "6      2589\n",
       "7        92\n",
       "Name: page_counter, dtype: int64"
      ]
     },
     "execution_count": 11,
     "metadata": {},
     "output_type": "execute_result"
    }
   ],
   "source": [
    "# Считаем кол-во сессий для каждого значения page_counter\n",
    "page_counts = df_sessions_history['page_counter'].value_counts().sort_index()\n",
    "page_counts"
   ]
  },
  {
   "cell_type": "code",
   "execution_count": 12,
   "metadata": {},
   "outputs": [
    {
     "data": {
      "image/png": "[encoded data removed]",
      "text/plain": [
       "<Figure size 864x432 with 1 Axes>"
      ]
     },
     "metadata": {
      "needs_background": "light"
     },
     "output_type": "display_data"
    }
   ],
   "source": [
    "# Создаём контейнер графика matplotlib и задаём его размер\n",
    "plt.figure(figsize=(12, 6))\n",
    "\n",
    "# Создаем столбчатую диаграмму\n",
    "bars = plt.bar(page_counts.index, page_counts.values)\n",
    "\n",
    "# Настраиваем оформление графика\n",
    "plt.title('Распределение сессий по кол-ву просмотренных страниц')\n",
    "plt.xlabel('Кол-во просмотренных страниц')\n",
    "plt.ylabel('Кол-во сессий')\n",
    "plt.grid(axis='y', alpha=0.4)\n",
    "\n",
    "plt.show()"
   ]
  },
  {
   "cell_type": "markdown",
   "metadata": {},
   "source": [
    "На графике наблюдаем что типичное поведение пользователей это 3 страницы. По 2 и 4 страницы распределени одинаковое"
   ]
  },
  {
   "cell_type": "markdown",
   "metadata": {
    "id": "xDltSpVP0eMr"
   },
   "source": [
    "#### 1.5. Доля пользователей, просмотревших более четырёх страниц\n",
    "Продуктовая команда продукта считает, что сессии, в рамках которых пользователь просмотрел 4 и более страниц, говорят об удовлетворённости контентом и алгоритмами рекомендаций. Этот показатель является важной прокси-метрикой для продукта.\n",
    "\n",
    "- В датафрейме `sessions_history` создадим дополнительный столбец `good_session`. В него войдёт значение `1`, если за одну сессию было просмотрено 4 и более страниц, и значение `0`, если было просмотрено меньше.\n",
    "\n",
    "- Построим график со средним значением доли успешных сессий от всех сессий по дням за весь период наблюдения."
   ]
  },
  {
   "cell_type": "code",
   "execution_count": 13,
   "metadata": {
    "id": "iygaPfixPYMW"
   },
   "outputs": [],
   "source": [
    "# Создаем столбец good_session\n",
    "df_sessions_history['good_session'] = (df_sessions_history['page_counter'] >= 4).astype(int)"
   ]
  },
  {
   "cell_type": "code",
   "execution_count": 14,
   "metadata": {},
   "outputs": [],
   "source": [
    "# Агрегируем данные успешных сессий по дням\n",
    "daily_value = df_sessions_history.groupby('session_date')['good_session'].agg(\n",
    "    ['mean', 'count']\n",
    ").reset_index()\n",
    "daily_value.columns = ['session_date', 'good_session_ratio', 'total_sessions']"
   ]
  },
  {
   "cell_type": "code",
   "execution_count": 15,
   "metadata": {},
   "outputs": [
    {
     "data": {
      "image/png": "[encoded data removed]",
      "text/plain": [
       "<Figure size 720x432 with 1 Axes>"
      ]
     },
     "metadata": {
      "needs_background": "light"
     },
     "output_type": "display_data"
    }
   ],
   "source": [
    "# Создаём контейнер графика matplotlib и задаём его размер\n",
    "plt.figure(figsize=(10, 6))\n",
    "\n",
    "# Строим график\n",
    "plt.plot(daily_value['session_date'], \n",
    "         daily_value['good_session_ratio']*100,\n",
    "         marker='o',\n",
    "         linestyle='-')\n",
    "\n",
    "# Настраиваем оформление графика\n",
    "plt.title('Доля успешных сессий (4 и более страниц) по дням')\n",
    "plt.xlabel('Дата')\n",
    "plt.ylabel('Доля успешных сессий')\n",
    "plt.grid(True, alpha=0.3)\n",
    "plt.ylim(20, 40) \n",
    "\n",
    "\n",
    "plt.show()"
   ]
  },
  {
   "cell_type": "markdown",
   "metadata": {},
   "source": [
    "На графике видим четкую  стабильность.В период высокой активности (15-25 августа) метрика стабильна. При снижении количества сессий (в сентябре) появляются более выраженные колебания."
   ]
  },
  {
   "cell_type": "markdown",
   "metadata": {
    "id": "21JcG77Y0eMt"
   },
   "source": [
    "### 2. Подготовка к тесту\n",
    "При планировании теста необходимо проделать несколько важных шагов:\n",
    "\n",
    "- Сформулировать нулевую и альтернативную гипотезы\n",
    "\n",
    "- Определиться с целевой метрикой.\n",
    "\n",
    "- Рассчитать необходимый размер выборки.\n",
    "\n",
    "- Исходя из текущих значений трафика рассчитать необходимую длительность проведения теста."
   ]
  },
  {
   "cell_type": "markdown",
   "metadata": {
    "id": "uzaeln270eMt"
   },
   "source": [
    "#### 2.2. Расчёт размера выборки\n",
    "\n",
    "Установим в коде ниже следующие параметры:\n",
    "\n",
    "- Уровень значимости — 0.05.\n",
    "\n",
    "- Вероятность ошибки второго рода — 0.2.\n",
    "\n",
    "- Мощность теста.\n",
    "\n",
    "- Минимальный детектируемый эффект, или MDE, — 3%. Обратите внимание, что здесь нужно указать десятичную дробь, а не процент.\n",
    "\n",
    "При расчёте размера выборки используем метод `solve_power()` из класса `power.NormalIndPower` модуля `statsmodels.stats`.\n",
    "\n",
    "Запустим ячейку и изучите полученное значение."
   ]
  },
  {
   "cell_type": "code",
   "execution_count": 16,
   "metadata": {
    "id": "zSxJyPGPNdaI"
   },
   "outputs": [
    {
     "name": "stdout",
     "output_type": "stream",
     "text": [
      "Необходимый размер выборки для каждой группы: 17441\n"
     ]
    }
   ],
   "source": [
    "from statsmodels.stats.power import NormalIndPower\n",
    "\n",
    "# Задаём параметры\n",
    "alpha = 0.05  # Уровень значимости\n",
    "beta = 0.2  # Ошибка второго рода, часто 1 - мощность\n",
    "power = 1-beta  # Мощность теста\n",
    "mde = 0.03  # Минимальный детектируемый эффект\n",
    "\n",
    "# Инициализируем класс NormalIndPower\n",
    "power_analysis = NormalIndPower()\n",
    "\n",
    "# Рассчитываем размер выборки\n",
    "sample_size = power_analysis.solve_power(\n",
    "    effect_size = mde,\n",
    "    power = power,\n",
    "    alpha = alpha,\n",
    "    ratio = 1 # Равномерное распределение выборок\n",
    ")\n",
    "\n",
    "print(f\"Необходимый размер выборки для каждой группы: {int(sample_size)}\")"
   ]
  },
  {
   "cell_type": "markdown",
   "metadata": {
    "id": "qLEv4RoV0eMu"
   },
   "source": [
    "#### 2.3. Расчёт длительности A/B-теста\n",
    "\n",
    "Используем данные о количестве пользователей в каждой выборке и среднем количестве пользователей приложения. Рассчитаем длительность теста, разделив одно на другое.\n",
    "\n",
    "- Рассчитаем среднее количество уникальных пользователей приложения в день.\n",
    "\n",
    "- Определимдлительность теста исходя из рассчитанного значения размера выборок и среднего дневного трафика приложения. Количество дней округлим в большую сторону."
   ]
  },
  {
   "cell_type": "code",
   "execution_count": 17,
   "metadata": {
    "id": "KZDRbryDOGHa"
   },
   "outputs": [
    {
     "name": "stdout",
     "output_type": "stream",
     "text": [
      "Рассчитанная длительность A/B-теста при текущем уровене трафика в 9907.363636363636 пользователей в день составит 4 дней\n"
     ]
    }
   ],
   "source": [
    "from math import ceil\n",
    "\n",
    "# Среднее количество пользователей приложения в день по историческим данным\n",
    "avg_daily_users = df_sessions_history.groupby('session_date')['user_id'].nunique().mean()\n",
    "\n",
    "# Размер выборки для каждой группы\n",
    "size_per_group = 17441\n",
    "\n",
    "# Общее количество пользователей для теста (обе группы)\n",
    "total_size = size_per_group * 2\n",
    "\n",
    "# Рассчитываем длительность теста в днях\n",
    "test_duration = ceil(total_size / avg_daily_users)\n",
    "\n",
    "print(f\"Рассчитанная длительность A/B-теста при текущем уровене трафика в {avg_daily_users} пользователей в день составит {test_duration} дней\")"
   ]
  },
  {
   "cell_type": "markdown",
   "metadata": {
    "id": "ZuvtAdha0eMv"
   },
   "source": [
    "### 3. Мониторинг А/В-теста"
   ]
  },
  {
   "cell_type": "markdown",
   "metadata": {
    "id": "jq5sE3Ya0eMv"
   },
   "source": [
    "#### 3.1. Проверка распределения пользователей\n",
    "\n",
    "A/B-тест успешно запущен, и уже доступны данные за первые три дня. На этом этапе нужно убедиться, что всё идёт хорошо: пользователи разделены правильным образом, а интересующие нас метрики корректно считаются.\n",
    "\n",
    "- Считаем и сохраните в датафрейм `sessions_test_part` CSV-файл с историческими данными о сессиях пользователей `sessions_project_test_part.csv`.\n",
    "\n",
    "- Рассчитаем количество уникальных пользователей в каждой из экспериментальных групп для одного дня наблюдения.\n",
    "\n",
    "- Рассчитаем и выведем на экран процентную разницу в количестве пользователей в группах A и B. Построим любую удобную визуализацию, на которой будет видно возможное различие двух групп.\n",
    "\n",
    "Для расчёта процентной разницы воспользуемся формулой:\n",
    "$$P = 100 \\cdot  \\frac{|A − B|}{A}$$"
   ]
  },
  {
   "cell_type": "code",
   "execution_count": 18,
   "metadata": {
    "id": "G1bqIzDJOUiz"
   },
   "outputs": [],
   "source": [
    "# Сохраним датафрейм\n",
    "df_sessions_test_part = pd.read_csv('https://code.s3.yandex.net/datasets/sessions_project_test_part.csv')"
   ]
  },
  {
   "cell_type": "code",
   "execution_count": 19,
   "metadata": {},
   "outputs": [],
   "source": [
    "# Считаем уникальных пользователей по группам\n",
    "group_counts = df_sessions_test_part.groupby('test_group')['user_id'].nunique()"
   ]
  },
  {
   "cell_type": "code",
   "execution_count": 20,
   "metadata": {},
   "outputs": [],
   "source": [
    "# Извлекаем значения для групп A и B\n",
    "group_a = group_counts['A']\n",
    "group_b = group_counts['B']"
   ]
  },
  {
   "cell_type": "code",
   "execution_count": 21,
   "metadata": {},
   "outputs": [
    {
     "name": "stdout",
     "output_type": "stream",
     "text": [
      "Группа A: 1477 пользователей\n",
      "Группа B: 1466 пользователей\n",
      "\n",
      "Процентная разница: 0.74%\n"
     ]
    }
   ],
   "source": [
    "# Считаем процентную разницу\n",
    "percent_diff = 100 * abs(group_a - group_b) / group_a\n",
    "\n",
    "print(f'Группа A: {group_a} пользователей')\n",
    "print(f'Группа B: {group_b} пользователей')\n",
    "print(f'\\nПроцентная разница: {percent_diff:.2f}%')"
   ]
  },
  {
   "cell_type": "code",
   "execution_count": 22,
   "metadata": {},
   "outputs": [
    {
     "data": {
      "image/png": "[encoded data removed]",
      "text/plain": [
       "<Figure size 864x432 with 1 Axes>"
      ]
     },
     "metadata": {
      "needs_background": "light"
     },
     "output_type": "display_data"
    }
   ],
   "source": [
    "# Создаём контейнер графика matplotlib и задаём его размер\n",
    "plt.figure(figsize=(12, 6))\n",
    "\n",
    "# Создаем столбчатую диаграмму\n",
    "ax = group_counts.plot(kind='bar',color=['lightgreen', 'lightblue'],rot=0)\n",
    "\n",
    "# Настраиваем оформление графика\n",
    "plt.title('Распределение пользователей по тестовым группам')\n",
    "plt.xlabel('Тестовая группа')\n",
    "plt.ylabel('Кол-во уникальных пользователей')\n",
    "plt.grid(axis='y',alpha=0.3)\n",
    "\n",
    "plt.show()"
   ]
  },
  {
   "cell_type": "markdown",
   "metadata": {},
   "source": [
    "Тест запущен корректно.Распределение пользователей между группами не имеет значимого отклонения"
   ]
  },
  {
   "cell_type": "markdown",
   "metadata": {
    "id": "sgpNY5bv0eM0"
   },
   "source": [
    "#### 3.2. Проверка пересечений пользователей\n",
    "Помимо проверки равенства количества пользователей в группах, полезно убедиться в том, что группы независимы. Для этого нужно убедиться, что никто из пользователей случайно не попал в обе группы одновременно.\n",
    "\n",
    "- Рассчитаем количество пользователей, которые встречаются одновременно в группах A и B, или убедимся, что таких нет."
   ]
  },
  {
   "cell_type": "code",
   "execution_count": 23,
   "metadata": {
    "id": "E72ozN9FOX1u"
   },
   "outputs": [],
   "source": [
    "# Уникальные пользователи группы A\n",
    "users_a = set(df_sessions_test_part[df_sessions_test_part['test_group'] == 'A']['user_id'])\n",
    "\n",
    "# Уникальные пользователи группы B\n",
    "users_b = set(df_sessions_test_part[df_sessions_test_part['test_group'] == 'B']['user_id'])"
   ]
  },
  {
   "cell_type": "code",
   "execution_count": 24,
   "metadata": {},
   "outputs": [],
   "source": [
    "# Пользователи которые есть и в группе A и в группе B\n",
    "common_users = users_a & users_b\n",
    "num_common_users = len(common_users)"
   ]
  },
  {
   "cell_type": "code",
   "execution_count": 25,
   "metadata": {},
   "outputs": [
    {
     "name": "stdout",
     "output_type": "stream",
     "text": [
      "Пересечений нет\n"
     ]
    }
   ],
   "source": [
    "if num_common_users == 0:\n",
    "    print('Пересечений нет')\n",
    "else:\n",
    "    print(f'Найдено {num_common_users} пользователей в обеих группах:')\n",
    "    print(common_users)"
   ]
  },
  {
   "cell_type": "markdown",
   "metadata": {},
   "source": [
    "Все пользователи уникальны для своих групп. Пересечений между группами A и B не обнаружено."
   ]
  },
  {
   "cell_type": "markdown",
   "metadata": {
    "id": "6RvkNLrg0eM1"
   },
   "source": [
    "#### 3.3. Равномерность разделения пользователей по устройствам\n",
    "Полезно также убедиться в том, что пользователи равномерно распределены по всем доступным категориальным переменным — типам устройств и регионам.\n",
    "\n",
    "Построим две диаграммы:\n",
    "\n",
    "- доля каждого типа устройства для пользователей из группы A,\n",
    "\n",
    "- доля каждого типа устройства для пользователей из группы B.\n",
    "\n",
    "Добавим на диаграммы все необходимые подписи, пояснения и заголовки, которые позволят сделать вывод о том, совпадает ли распределение устройств в группах A и B.\n"
   ]
  },
  {
   "cell_type": "code",
   "execution_count": 26,
   "metadata": {
    "id": "x_IP6PUNPWHC"
   },
   "outputs": [
    {
     "data": {
      "image/png": "[encoded data removed]",
      "text/plain": [
       "<Figure size 1152x288 with 2 Axes>"
      ]
     },
     "metadata": {
      "needs_background": "light"
     },
     "output_type": "display_data"
    }
   ],
   "source": [
    "# Создаем подграфики\n",
    "fig, (ax1, ax2) = plt.subplots(1, 2, figsize=(16, 4))\n",
    "\n",
    "# Распределение устройств в группе A (по уникальным пользователям)\n",
    "device_a = (df_sessions_test_part[df_sessions_test_part['test_group'] == 'A'].drop_duplicates('user_id')['device']\n",
    "            .value_counts(normalize=True))\n",
    "device_a.plot(kind='bar', ax=ax1, color='lightgreen', alpha=0.7)\n",
    "\n",
    "# Настраиваем оформление графика\n",
    "ax1.set_title('Группа A')\n",
    "ax1.set_xlabel('Тип устройства')\n",
    "ax1.set_ylabel('Доля пользователей')\n",
    "ax1.grid(axis='y', alpha=0.3)\n",
    "\n",
    "# Распределение устройств в группе B (по уникальным пользователям)\n",
    "device_b = (df_sessions_test_part[df_sessions_test_part['test_group'] == 'B'].drop_duplicates('user_id')['device']\n",
    "            .value_counts(normalize=True))\n",
    "device_b.plot(kind='bar', ax=ax2, color='lightblue', alpha=0.7)\n",
    "\n",
    "# Настраиваем оформление графика\n",
    "ax2.set_title('Группа B')\n",
    "ax2.set_xlabel('Тип устройства')\n",
    "ax2.set_ylabel('Доля пользователей')\n",
    "ax2.grid(axis='y', alpha=0.3)\n",
    "\n",
    "plt.show()"
   ]
  },
  {
   "cell_type": "markdown",
   "metadata": {},
   "source": [
    "Распределение устройств между тестовыми группами практически одинаково.Что подтверждает корректность проведения A/B-теста с точки зрения равномерного распределения пользователей по типам устройств."
   ]
  },
  {
   "cell_type": "markdown",
   "metadata": {
    "id": "gAgmP6vo0eM1"
   },
   "source": [
    "#### 3.4. Равномерность распределения пользователей по регионам\n",
    "Теперь убедимся, что пользователи равномерно распределены по регионам.\n",
    "\n",
    "Построим две диаграммы:\n",
    "\n",
    "- доля каждого региона для пользователей из группы A,\n",
    "\n",
    "- доля каждого региона для пользователей из группы B.\n",
    "\n",
    "Добавим на диаграммы все необходимые подписи, пояснения и заголовки, которые позволят сделать вывод о том, совпадает ли распределение регионов в группах A и B. \n"
   ]
  },
  {
   "cell_type": "code",
   "execution_count": 27,
   "metadata": {
    "id": "3hAq-FG4OdYM"
   },
   "outputs": [
    {
     "data": {
      "image/png": "[encoded data removed]",
      "text/plain": [
       "<Figure size 1152x288 with 2 Axes>"
      ]
     },
     "metadata": {},
     "output_type": "display_data"
    }
   ],
   "source": [
    "# Создаем подграфики\n",
    "fig, (ax1, ax2) = plt.subplots(1, 2, figsize=(16, 4))\n",
    "\n",
    "# Группа A (по уникальным пользователям)\n",
    "region_a = (df_sessions_test_part[df_sessions_test_part['test_group'] == 'A'].drop_duplicates('user_id')['region']\n",
    "            .value_counts(normalize=True))\n",
    "ax1.pie(region_a, labels=region_a.index, autopct='%1.1f%%')\n",
    "ax1.set_title('Группа A')\n",
    "\n",
    "# Группа B (по уникальным пользователям)\n",
    "region_b = (df_sessions_test_part[df_sessions_test_part['test_group'] == 'B'].drop_duplicates('user_id')['region']\n",
    "            .value_counts(normalize=True))\n",
    "ax2.pie(region_b, labels=region_b.index, autopct='%1.1f%%')\n",
    "ax2.set_title('Группа B')\n",
    "\n",
    "plt.tight_layout()\n",
    "plt.show()"
   ]
  },
  {
   "cell_type": "markdown",
   "metadata": {},
   "source": [
    "Доля пользователей по регионам примерно одинакова"
   ]
  },
  {
   "cell_type": "markdown",
   "metadata": {},
   "source": [
    "**Вывод по результатам проверки A/B-теста**\n",
    "\n",
    "1.Распределение количества пользователей между группами\n",
    "\n",
    " - Группа A — 1477 пользователей\n",
    " - Группа B — 1466 пользователей.\n",
    "\n",
    "Количество пользователей распределено равномерно. Cтатистически значимых различий нет.\n",
    "\n",
    "2.Независимость выборок \n",
    "\n",
    " - Пересечений пользователей между группами не обнаружено.\n",
    "    \n",
    "Выборки независимы что соответствует корректному A/B-тесту.\n",
    "\n",
    "3.Равномерность распределения по категориальным переменным\n",
    "\n",
    "По устройствам:\n",
    "\n",
    " - Группа A: Android (43.7%), PC (25.2%), iPhone (20.4%), Mac (10.7%).\n",
    "\n",
    " - Группа B: Android (44.4%), PC (24.7%), iPhone (18.8%), Mac (12.1%).\n",
    "\n",
    "Различия не значимы.\n",
    "\n",
    "По регионам:\n",
    "\n",
    " - Группа A: CIS (43.7%), MENA (40.8%), EU (15.5%).\n",
    "\n",
    " - Группа B: MENA (46.9%), CIS (39.6%), EU (13.5%).\n",
    "\n",
    "Есть статистически значимые различия 6% по MENA.Есть риск неверной интерпретации результатов изза регональных различий в поведении пользователей."
   ]
  },
  {
   "cell_type": "markdown",
   "metadata": {
    "id": "nudRr_BQ0eM2"
   },
   "source": [
    "### 4. Проверка результатов A/B-теста\n",
    "\n",
    "A/B-тест завершён, и у вас есть результаты за все дни проведения эксперимента. Необходимо убедиться в корректности теста и верно интерпретировать результаты."
   ]
  },
  {
   "cell_type": "markdown",
   "metadata": {
    "id": "JVve-YBB0eM2"
   },
   "source": [
    "#### 4.1. Получение результатов теста и подсчёт основной метрики\n",
    "\n",
    "- Считаем и сохраним в датафрейм `sessions_test` CSV-файл с историческими данными о сессиях пользователей `sessions_project_test.csv`.\n",
    "\n",
    "- В датафрейме `sessions_test` создадим дополнительный столбец `good_session`. В него войдёт значение `1`, если за одну сессию было просмотрено 4 и более страниц, и значение `0`, если просмотрено меньше."
   ]
  },
  {
   "cell_type": "code",
   "execution_count": 28,
   "metadata": {
    "id": "EqRlwMtKPTir"
   },
   "outputs": [],
   "source": [
    "# Сохраним датафрейм\n",
    "df_sessions_test = pd.read_csv('https://code.s3.yandex.net/datasets/sessions_project_test.csv')"
   ]
  },
  {
   "cell_type": "code",
   "execution_count": 29,
   "metadata": {},
   "outputs": [
    {
     "name": "stdout",
     "output_type": "stream",
     "text": [
      "<class 'pandas.core.frame.DataFrame'>\n",
      "RangeIndex: 100005 entries, 0 to 100004\n",
      "Data columns (total 11 columns):\n",
      " #   Column             Non-Null Count   Dtype \n",
      "---  ------             --------------   ----- \n",
      " 0   user_id            100005 non-null  object\n",
      " 1   session_id         100005 non-null  object\n",
      " 2   session_date       100005 non-null  object\n",
      " 3   session_start_ts   100005 non-null  object\n",
      " 4   install_date       100005 non-null  object\n",
      " 5   session_number     100005 non-null  int64 \n",
      " 6   registration_flag  100005 non-null  int64 \n",
      " 7   page_counter       100005 non-null  int64 \n",
      " 8   region             100005 non-null  object\n",
      " 9   device             100005 non-null  object\n",
      " 10  test_group         100005 non-null  object\n",
      "dtypes: int64(3), object(8)\n",
      "memory usage: 8.4+ MB\n"
     ]
    }
   ],
   "source": [
    "# Выведем основную инфрмацию по данным\n",
    "df_sessions_test.info()"
   ]
  },
  {
   "cell_type": "code",
   "execution_count": 30,
   "metadata": {},
   "outputs": [
    {
     "name": "stdout",
     "output_type": "stream",
     "text": [
      "Начало теста 2025-10-14\n",
      "Конец теста 2025-11-02\n"
     ]
    }
   ],
   "source": [
    "# Выведем временной диапазон теста\n",
    "print(\"Начало теста\", df_sessions_test['session_date'].min())\n",
    "print(\"Конец теста\", df_sessions_test['session_date'].max())"
   ]
  },
  {
   "cell_type": "code",
   "execution_count": 31,
   "metadata": {},
   "outputs": [
    {
     "data": {
      "text/plain": [
       "count    100005.000000\n",
       "mean          3.023349\n",
       "std           1.042987\n",
       "min           1.000000\n",
       "25%           2.000000\n",
       "50%           3.000000\n",
       "75%           4.000000\n",
       "max           7.000000\n",
       "Name: page_counter, dtype: float64"
      ]
     },
     "execution_count": 31,
     "metadata": {},
     "output_type": "execute_result"
    }
   ],
   "source": [
    "# Посомтрим статистику по `page_counter`\n",
    "df_sessions_test['page_counter'].describe()"
   ]
  },
  {
   "cell_type": "markdown",
   "metadata": {},
   "source": [
    "Средний пользователь просматривает 3 страницы за сессию при медиане равной 3.Наиболее частые значения 2-4 страницы.Максимальное значение ограничено 7 страницами"
   ]
  },
  {
   "cell_type": "code",
   "execution_count": 32,
   "metadata": {},
   "outputs": [],
   "source": [
    "# Создаем столбец good_session\n",
    "df_sessions_test['good_session'] = (df_sessions_test['page_counter'] >= 4).astype(int)"
   ]
  },
  {
   "cell_type": "markdown",
   "metadata": {
    "id": "aeYhrMYy0eM2"
   },
   "source": [
    "#### 4.2. Проверка корректности результатов теста\n",
    "\n",
    "Прежде чем приступать к анализу ключевых продуктовых метрик, необходимо убедиться, что тест проведён корректно и вы будете сравнивать две сопоставимые группы.\n",
    "\n",
    "- Рассчитаем количество уникальных сессий для каждого дня и обеих тестовых групп, используя группировку.\n",
    "\n",
    "- Проверим, что количество уникальных дневных сессий в двух выборках не различается или различия не статистически значимыми. Используем статистический тест, который позволит сделать вывод о равенстве средних двух выборок.\n",
    "\n",
    "- В качестве ответа выведем на экран полученное значение p-value и интерпретируем его."
   ]
  },
  {
   "cell_type": "code",
   "execution_count": 33,
   "metadata": {
    "id": "5NUlcltkTTSU"
   },
   "outputs": [],
   "source": [
    "# Импортируем библиотеки\n",
    "from scipy import stats as st"
   ]
  },
  {
   "cell_type": "code",
   "execution_count": 34,
   "metadata": {},
   "outputs": [],
   "source": [
    "# Группируем по дням и тестовым группам\n",
    "daily_sessions = df_sessions_test.groupby(['session_date', 'test_group'])['session_id'].nunique().unstack()"
   ]
  },
  {
   "cell_type": "code",
   "execution_count": 35,
   "metadata": {},
   "outputs": [
    {
     "name": "stdout",
     "output_type": "stream",
     "text": [
      "p-значение: 0.938219304859116\n",
      "Нет статистически значимых различий в количестве сессий между группами\n"
     ]
    }
   ],
   "source": [
    "# Т-тест для независимых выборок\n",
    "group_a = daily_sessions['A'].dropna()\n",
    "group_b = daily_sessions['B'].dropna()\n",
    "\n",
    "# Уровень статистической значимости\n",
    "alpha = 0.05 \n",
    "\n",
    "results = st.ttest_ind(\n",
    "    group_a, \n",
    "    group_b)\n",
    "\n",
    "print('p-значение:', results.pvalue)\n",
    "\n",
    "if results.pvalue > alpha:\n",
    "    print('Нет статистически значимых различий в количестве сессий между группами')\n",
    "else:\n",
    "    print('Обнаружены статистически значимые различия')"
   ]
  },
  {
   "cell_type": "markdown",
   "metadata": {
    "id": "7kwRxzg70eM3"
   },
   "source": [
    "#### 4.3. Сравнение доли успешных сессий\n",
    "\n",
    "Когда мы убедились, что количество сессий в обеих выборках не различалось, можно переходить к анализу ключевой метрики — доли успешных сессий.\n",
    "\n",
    "Используем созданный на первом шаге задания столбец `good_session` и рассчитаем долю успешных сессий для выборок A и B, а также разницу в этом показателе. Полученный вывод отобразим на экране."
   ]
  },
  {
   "cell_type": "code",
   "execution_count": 36,
   "metadata": {
    "id": "Uku-V1CpPRCz"
   },
   "outputs": [],
   "source": [
    "# Импортируем библиотеки\n",
    "from statsmodels.stats.proportion import proportions_ztest"
   ]
  },
  {
   "cell_type": "code",
   "execution_count": 37,
   "metadata": {},
   "outputs": [],
   "source": [
    "# Расчитаем доли good_session по группам\n",
    "grouped = df_sessions_test.groupby('test_group')['good_session'].agg(['sum', 'count'])\n",
    "m_a, n_a = grouped.loc['A', 'sum'], grouped.loc['A', 'count']\n",
    "m_b, n_b = grouped.loc['B', 'sum'], grouped.loc['B', 'count']"
   ]
  },
  {
   "cell_type": "code",
   "execution_count": 38,
   "metadata": {},
   "outputs": [
    {
     "name": "stdout",
     "output_type": "stream",
     "text": [
      "Разница долей 1.06%\n"
     ]
    }
   ],
   "source": [
    "# Считаем доли успешных сессий\n",
    "prop_a = m_a / n_a\n",
    "prop_b = m_b / n_b\n",
    "diff = prop_b - prop_a\n",
    "print(f'Разница долей {diff*100:.2f}%')"
   ]
  },
  {
   "cell_type": "code",
   "execution_count": 39,
   "metadata": {},
   "outputs": [],
   "source": [
    "# Уровень статистической значимости\n",
    "alpha = 0.05"
   ]
  },
  {
   "cell_type": "code",
   "execution_count": 40,
   "metadata": {},
   "outputs": [
    {
     "name": "stdout",
     "output_type": "stream",
     "text": [
      "pvalue=0.0003149479976072246\n"
     ]
    }
   ],
   "source": [
    "# Z-тест для пропорций\n",
    "z_stat, p_value = proportions_ztest(\n",
    "    [m_a, m_b],\n",
    "    [n_a, n_b],\n",
    "    alternative='two-sided'\n",
    ")\n",
    "\n",
    "print(f'pvalue={p_value}')"
   ]
  },
  {
   "cell_type": "code",
   "execution_count": 41,
   "metadata": {},
   "outputs": [
    {
     "name": "stdout",
     "output_type": "stream",
     "text": [
      "Различие в долях статистически значимое (p < 0.05)\n"
     ]
    }
   ],
   "source": [
    "if p_value < alpha:\n",
    "    print('Различие в долях статистически значимое (p < 0.05)')\n",
    "else:\n",
    "    print('Различие в долях статистически не значимо (p >= 0.05)')"
   ]
  },
  {
   "cell_type": "markdown",
   "metadata": {
    "id": "9fMFuja10eM4"
   },
   "source": [
    "#### 4.4. Насколько статистически значимо изменение ключевой метрики\n",
    "\n",
    "На предыдущем шаге мы убедились, что количество успешных сессий в тестовой выборке примерно на 1.1% выше, чем в контрольной, но делать выводы только на основе этого значения будет некорректно. Для принятия решения всегда необходимо отвечать на вопрос: является ли это изменение статистически значимым.\n",
    "\n",
    "- Используя статистический тест, рассчитаем, является ли изменение в метрике доли успешных сессий статистически значимым.\n",
    "\n",
    "- Выведем на экран полученное значение p-value и свои выводы о статистической значимости."
   ]
  },
  {
   "cell_type": "code",
   "execution_count": 42,
   "metadata": {
    "id": "gFvhRGwlPLS0"
   },
   "outputs": [],
   "source": [
    "# Расчитаем доли good_session по группам\n",
    "grouped = df_sessions_test.groupby('test_group')['good_session'].agg(['sum', 'count'])\n",
    "m_a, n_a = grouped.loc['A', 'sum'], grouped.loc['A', 'count']\n",
    "m_b, n_b = grouped.loc['B', 'sum'], grouped.loc['B', 'count']"
   ]
  },
  {
   "cell_type": "code",
   "execution_count": 43,
   "metadata": {},
   "outputs": [],
   "source": [
    "# Считаем доли успешных сессий\n",
    "prop_a = m_a / n_a\n",
    "prop_b = m_b / n_b\n",
    "diff = prop_b - prop_a"
   ]
  },
  {
   "cell_type": "code",
   "execution_count": 44,
   "metadata": {},
   "outputs": [],
   "source": [
    "# Уровень статистической значимости\n",
    "alpha = 0.05"
   ]
  },
  {
   "cell_type": "code",
   "execution_count": 45,
   "metadata": {},
   "outputs": [
    {
     "name": "stdout",
     "output_type": "stream",
     "text": [
      "pvalue=0.0003149479976072246\n"
     ]
    }
   ],
   "source": [
    "# Z-тест для пропорций\n",
    "z_stat, p_value = proportions_ztest(\n",
    "    [m_a, m_b],\n",
    "    [n_a, n_b],\n",
    "    alternative='two-sided'\n",
    ")\n",
    "\n",
    "print(f'pvalue={p_value}')"
   ]
  },
  {
   "cell_type": "code",
   "execution_count": 46,
   "metadata": {},
   "outputs": [
    {
     "name": "stdout",
     "output_type": "stream",
     "text": [
      "Изменение статистически значимое (p < 0.05)\n",
      "Новый алгоритм увеличил долю успешных сессий\n"
     ]
    }
   ],
   "source": [
    "if p_value < alpha:\n",
    "    print('Изменение статистически значимое (p < 0.05)')\n",
    "    print('Новый алгоритм увеличил долю успешных сессий')\n",
    "else:\n",
    "    print('Изменение статистически не значимо (p >= 0.05)')\n",
    "    print('Нет влияния нового алгоритма на метрику')"
   ]
  },
  {
   "cell_type": "markdown",
   "metadata": {},
   "source": [
    "**Вывод по результатам A/B-эксперимента**\n",
    "\n",
    "1. Характеристики эксперимента\n",
    "\n",
    " - Планируемый размер выборки 17,441 пользователей на группу (всего 34,882)\n",
    "\n",
    " - Расчетная длительность 4 дня (при трафике 9907 пользователей в день)\n",
    "\n",
    "Фактический охват по первым дням теста:\n",
    "\n",
    " - Группа A - 1,477 пользователей\n",
    "\n",
    " - Группа B - 1,466 пользователей\n",
    "\n",
    "Разница: 0.74% (распределение корректное)\n",
    "\n",
    "2. Результаты теста\n",
    "\n",
    "Равномерность распределения:\n",
    "\n",
    " - p-value = 0.938 (сессии распределены равномерно).\n",
    "\n",
    "Доля успешных сессий (`good_session`):\n",
    "\n",
    " - p-value = 0.0003 (различие статистически значимо).\n",
    "\n",
    "Вывод: Новый алгоритм увеличил долю успешных сессий.\n",
    "\n",
    "3. Рекомендации\n",
    "\n",
    "Внедрить новый алгоритм так как cтатистическая значимость p-value < 0.05 (вероятность ошибки < 0.03%).\n",
    "\n",
    "Даже на малой выборке около 1500 пользователей на группу обнаружен эффект.\n"
   ]
  }
 ],
 "metadata": {
  "ExecuteTimeLog": [
   {
    "duration": 387,
    "start_time": "2025-06-17T04:44:50.483Z"
   },
   {
    "duration": 1721,
    "start_time": "2025-06-17T04:44:50.873Z"
   },
   {
    "duration": 17,
    "start_time": "2025-06-17T04:44:52.595Z"
   },
   {
    "duration": 552,
    "start_time": "2025-06-17T04:44:52.614Z"
   },
   {
    "duration": 9,
    "start_time": "2025-06-17T04:44:53.169Z"
   },
   {
    "duration": 37,
    "start_time": "2025-06-17T04:44:53.179Z"
   },
   {
    "duration": 315,
    "start_time": "2025-06-17T04:44:53.217Z"
   },
   {
    "duration": 1404,
    "start_time": "2025-06-17T04:44:53.534Z"
   },
   {
    "duration": 19,
    "start_time": "2025-06-17T04:44:54.940Z"
   },
   {
    "duration": 170,
    "start_time": "2025-06-17T04:44:54.960Z"
   },
   {
    "duration": 8,
    "start_time": "2025-06-17T04:44:55.132Z"
   },
   {
    "duration": 31,
    "start_time": "2025-06-17T04:44:55.141Z"
   },
   {
    "duration": 188,
    "start_time": "2025-06-17T04:44:55.175Z"
   },
   {
    "duration": 18,
    "start_time": "2025-06-17T04:44:55.365Z"
   },
   {
    "duration": 80,
    "start_time": "2025-06-17T04:44:55.385Z"
   },
   {
    "duration": 156,
    "start_time": "2025-06-17T04:45:26.009Z"
   },
   {
    "duration": 351,
    "start_time": "2025-06-17T04:52:26.713Z"
   },
   {
    "duration": 1600,
    "start_time": "2025-06-17T04:52:27.066Z"
   },
   {
    "duration": 16,
    "start_time": "2025-06-17T04:52:28.670Z"
   },
   {
    "duration": 568,
    "start_time": "2025-06-17T04:52:28.689Z"
   },
   {
    "duration": 9,
    "start_time": "2025-06-17T04:52:29.259Z"
   },
   {
    "duration": 56,
    "start_time": "2025-06-17T04:52:29.269Z"
   },
   {
    "duration": 255,
    "start_time": "2025-06-17T04:52:29.327Z"
   },
   {
    "duration": 1159,
    "start_time": "2025-06-17T04:52:29.584Z"
   },
   {
    "duration": 18,
    "start_time": "2025-06-17T04:52:30.745Z"
   },
   {
    "duration": 174,
    "start_time": "2025-06-17T04:52:30.765Z"
   },
   {
    "duration": 17,
    "start_time": "2025-06-17T04:52:30.941Z"
   },
   {
    "duration": 18,
    "start_time": "2025-06-17T04:52:30.960Z"
   },
   {
    "duration": 181,
    "start_time": "2025-06-17T04:52:30.981Z"
   },
   {
    "duration": 19,
    "start_time": "2025-06-17T04:52:31.164Z"
   },
   {
    "duration": 163,
    "start_time": "2025-06-17T04:52:31.185Z"
   },
   {
    "duration": 93,
    "start_time": "2025-06-17T04:52:31.358Z"
   },
   {
    "duration": 5,
    "start_time": "2025-06-17T04:52:31.453Z"
   },
   {
    "duration": 76,
    "start_time": "2025-06-17T04:52:31.459Z"
   },
   {
    "duration": 59,
    "start_time": "2025-06-17T04:52:31.536Z"
   },
   {
    "duration": 182,
    "start_time": "2025-06-17T04:52:31.597Z"
   },
   {
    "duration": 6,
    "start_time": "2025-06-17T04:52:31.781Z"
   },
   {
    "duration": 21,
    "start_time": "2025-06-17T04:52:31.788Z"
   },
   {
    "duration": 11,
    "start_time": "2025-06-17T04:52:31.811Z"
   },
   {
    "duration": 237,
    "start_time": "2025-06-17T04:52:31.823Z"
   },
   {
    "duration": 273,
    "start_time": "2025-06-17T04:52:32.062Z"
   },
   {
    "duration": 423,
    "start_time": "2025-06-17T04:56:58.761Z"
   },
   {
    "duration": 2507,
    "start_time": "2025-06-17T04:56:59.186Z"
   },
   {
    "duration": 18,
    "start_time": "2025-06-17T04:57:01.694Z"
   },
   {
    "duration": 602,
    "start_time": "2025-06-17T04:57:01.714Z"
   },
   {
    "duration": 9,
    "start_time": "2025-06-17T04:57:02.317Z"
   },
   {
    "duration": 56,
    "start_time": "2025-06-17T04:57:02.328Z"
   },
   {
    "duration": 312,
    "start_time": "2025-06-17T04:57:02.386Z"
   },
   {
    "duration": 1122,
    "start_time": "2025-06-17T04:57:02.699Z"
   },
   {
    "duration": 9,
    "start_time": "2025-06-17T04:57:03.822Z"
   },
   {
    "duration": 177,
    "start_time": "2025-06-17T04:57:03.834Z"
   },
   {
    "duration": 8,
    "start_time": "2025-06-17T04:57:04.013Z"
   },
   {
    "duration": 28,
    "start_time": "2025-06-17T04:57:04.022Z"
   },
   {
    "duration": 164,
    "start_time": "2025-06-17T04:57:04.059Z"
   },
   {
    "duration": 18,
    "start_time": "2025-06-17T04:57:04.224Z"
   },
   {
    "duration": 148,
    "start_time": "2025-06-17T04:57:04.244Z"
   },
   {
    "duration": 36,
    "start_time": "2025-06-17T04:57:04.394Z"
   },
   {
    "duration": 5,
    "start_time": "2025-06-17T04:57:04.432Z"
   },
   {
    "duration": 9,
    "start_time": "2025-06-17T04:57:04.438Z"
   },
   {
    "duration": 12,
    "start_time": "2025-06-17T04:57:04.448Z"
   },
   {
    "duration": 166,
    "start_time": "2025-06-17T04:57:04.462Z"
   },
   {
    "duration": 6,
    "start_time": "2025-06-17T04:57:04.629Z"
   },
   {
    "duration": 12,
    "start_time": "2025-06-17T04:57:04.637Z"
   },
   {
    "duration": 7,
    "start_time": "2025-06-17T04:57:04.651Z"
   },
   {
    "duration": 211,
    "start_time": "2025-06-17T04:57:04.660Z"
   },
   {
    "duration": 244,
    "start_time": "2025-06-17T04:57:04.873Z"
   },
   {
    "duration": 510,
    "start_time": "2025-06-17T04:57:05.118Z"
   },
   {
    "duration": 5,
    "start_time": "2025-06-17T04:57:05.629Z"
   },
   {
    "duration": 21,
    "start_time": "2025-06-17T04:57:05.637Z"
   },
   {
    "duration": 58,
    "start_time": "2025-06-17T04:57:05.659Z"
   },
   {
    "duration": 6,
    "start_time": "2025-06-17T04:57:05.718Z"
   },
   {
    "duration": 24,
    "start_time": "2025-06-17T04:57:05.726Z"
   },
   {
    "duration": 13,
    "start_time": "2025-06-17T04:57:05.751Z"
   },
   {
    "duration": 9,
    "start_time": "2025-06-17T04:57:05.765Z"
   },
   {
    "duration": 5,
    "start_time": "2025-06-17T04:57:05.776Z"
   },
   {
    "duration": 10,
    "start_time": "2025-06-17T04:57:05.782Z"
   },
   {
    "duration": 12,
    "start_time": "2025-06-17T04:57:05.793Z"
   },
   {
    "duration": 39,
    "start_time": "2025-06-17T04:57:05.806Z"
   },
   {
    "duration": 4,
    "start_time": "2025-06-17T04:57:05.847Z"
   },
   {
    "duration": 7,
    "start_time": "2025-06-17T04:57:05.853Z"
   },
   {
    "duration": 34,
    "start_time": "2025-06-17T04:57:05.862Z"
   },
   {
    "duration": 80,
    "start_time": "2025-06-17T04:57:05.898Z"
   },
   {
    "duration": 446,
    "start_time": "2025-06-17T05:55:00.364Z"
   },
   {
    "duration": 2423,
    "start_time": "2025-06-17T05:55:00.812Z"
   },
   {
    "duration": 17,
    "start_time": "2025-06-17T05:55:03.237Z"
   },
   {
    "duration": 661,
    "start_time": "2025-06-17T05:55:03.257Z"
   },
   {
    "duration": 9,
    "start_time": "2025-06-17T05:55:03.920Z"
   },
   {
    "duration": 129,
    "start_time": "2025-06-17T05:55:03.931Z"
   },
   {
    "duration": 272,
    "start_time": "2025-06-17T05:55:04.062Z"
   },
   {
    "duration": 1558,
    "start_time": "2025-06-17T05:55:04.336Z"
   },
   {
    "duration": 11,
    "start_time": "2025-06-17T05:55:05.896Z"
   },
   {
    "duration": 268,
    "start_time": "2025-06-17T05:55:05.911Z"
   },
   {
    "duration": 9,
    "start_time": "2025-06-17T05:55:06.181Z"
   },
   {
    "duration": 30,
    "start_time": "2025-06-17T05:55:06.191Z"
   },
   {
    "duration": 183,
    "start_time": "2025-06-17T05:55:06.223Z"
   },
   {
    "duration": 19,
    "start_time": "2025-06-17T05:55:06.408Z"
   },
   {
    "duration": 465,
    "start_time": "2025-06-17T05:55:06.428Z"
   },
   {
    "duration": 86,
    "start_time": "2025-06-17T05:55:06.894Z"
   },
   {
    "duration": 4,
    "start_time": "2025-06-17T05:55:06.982Z"
   },
   {
    "duration": 54,
    "start_time": "2025-06-17T05:55:06.988Z"
   },
   {
    "duration": 28,
    "start_time": "2025-06-17T05:55:07.043Z"
   },
   {
    "duration": 170,
    "start_time": "2025-06-17T05:55:07.072Z"
   },
   {
    "duration": 7,
    "start_time": "2025-06-17T05:55:07.244Z"
   },
   {
    "duration": 6,
    "start_time": "2025-06-17T05:55:07.252Z"
   },
   {
    "duration": 97,
    "start_time": "2025-06-17T05:55:07.259Z"
   },
   {
    "duration": 240,
    "start_time": "2025-06-17T05:55:07.358Z"
   },
   {
    "duration": 348,
    "start_time": "2025-06-17T05:55:07.601Z"
   },
   {
    "duration": 548,
    "start_time": "2025-06-17T05:55:07.951Z"
   },
   {
    "duration": 5,
    "start_time": "2025-06-17T05:55:08.501Z"
   },
   {
    "duration": 156,
    "start_time": "2025-06-17T05:55:08.510Z"
   },
   {
    "duration": 50,
    "start_time": "2025-06-17T05:55:08.668Z"
   },
   {
    "duration": 7,
    "start_time": "2025-06-17T05:55:08.719Z"
   },
   {
    "duration": 138,
    "start_time": "2025-06-17T05:55:08.728Z"
   },
   {
    "duration": 13,
    "start_time": "2025-06-17T05:55:08.868Z"
   },
   {
    "duration": 4,
    "start_time": "2025-06-17T05:55:08.883Z"
   },
   {
    "duration": 5,
    "start_time": "2025-06-17T05:55:08.888Z"
   },
   {
    "duration": 8,
    "start_time": "2025-06-17T05:55:08.895Z"
   },
   {
    "duration": 56,
    "start_time": "2025-06-17T05:55:08.905Z"
   },
   {
    "duration": 19,
    "start_time": "2025-06-17T05:55:08.963Z"
   },
   {
    "duration": 3,
    "start_time": "2025-06-17T05:55:08.984Z"
   },
   {
    "duration": 10,
    "start_time": "2025-06-17T05:55:08.988Z"
   },
   {
    "duration": 11,
    "start_time": "2025-06-17T05:55:08.999Z"
   },
   {
    "duration": 6,
    "start_time": "2025-06-17T05:55:09.011Z"
   },
   {
    "duration": 5,
    "start_time": "2025-06-17T05:58:10.468Z"
   },
   {
    "duration": 412,
    "start_time": "2025-06-18T05:02:30.486Z"
   },
   {
    "duration": 2702,
    "start_time": "2025-06-18T05:02:30.901Z"
   },
   {
    "duration": 16,
    "start_time": "2025-06-18T05:02:33.604Z"
   },
   {
    "duration": 136,
    "start_time": "2025-06-18T05:02:33.622Z"
   },
   {
    "duration": 0,
    "start_time": "2025-06-18T05:02:33.761Z"
   },
   {
    "duration": 0,
    "start_time": "2025-06-18T05:02:33.762Z"
   },
   {
    "duration": 0,
    "start_time": "2025-06-18T05:02:33.763Z"
   },
   {
    "duration": 0,
    "start_time": "2025-06-18T05:02:33.764Z"
   },
   {
    "duration": 1,
    "start_time": "2025-06-18T05:02:33.765Z"
   },
   {
    "duration": 0,
    "start_time": "2025-06-18T05:02:33.767Z"
   },
   {
    "duration": 0,
    "start_time": "2025-06-18T05:02:33.768Z"
   },
   {
    "duration": 0,
    "start_time": "2025-06-18T05:02:33.769Z"
   },
   {
    "duration": 0,
    "start_time": "2025-06-18T05:02:33.770Z"
   },
   {
    "duration": 0,
    "start_time": "2025-06-18T05:02:33.771Z"
   },
   {
    "duration": 0,
    "start_time": "2025-06-18T05:02:33.772Z"
   },
   {
    "duration": 0,
    "start_time": "2025-06-18T05:02:33.773Z"
   },
   {
    "duration": 0,
    "start_time": "2025-06-18T05:02:33.774Z"
   },
   {
    "duration": 0,
    "start_time": "2025-06-18T05:02:33.776Z"
   },
   {
    "duration": 0,
    "start_time": "2025-06-18T05:02:33.777Z"
   },
   {
    "duration": 0,
    "start_time": "2025-06-18T05:02:33.779Z"
   },
   {
    "duration": 0,
    "start_time": "2025-06-18T05:02:33.781Z"
   },
   {
    "duration": 0,
    "start_time": "2025-06-18T05:02:33.782Z"
   },
   {
    "duration": 0,
    "start_time": "2025-06-18T05:02:33.782Z"
   },
   {
    "duration": 0,
    "start_time": "2025-06-18T05:02:33.784Z"
   },
   {
    "duration": 0,
    "start_time": "2025-06-18T05:02:33.784Z"
   },
   {
    "duration": 0,
    "start_time": "2025-06-18T05:02:33.785Z"
   },
   {
    "duration": 0,
    "start_time": "2025-06-18T05:02:33.787Z"
   },
   {
    "duration": 0,
    "start_time": "2025-06-18T05:02:33.787Z"
   },
   {
    "duration": 0,
    "start_time": "2025-06-18T05:02:33.789Z"
   },
   {
    "duration": 0,
    "start_time": "2025-06-18T05:02:33.789Z"
   },
   {
    "duration": 0,
    "start_time": "2025-06-18T05:02:33.790Z"
   },
   {
    "duration": 0,
    "start_time": "2025-06-18T05:02:33.791Z"
   },
   {
    "duration": 0,
    "start_time": "2025-06-18T05:02:33.792Z"
   },
   {
    "duration": 0,
    "start_time": "2025-06-18T05:02:33.793Z"
   },
   {
    "duration": 0,
    "start_time": "2025-06-18T05:02:33.794Z"
   },
   {
    "duration": 0,
    "start_time": "2025-06-18T05:02:33.795Z"
   },
   {
    "duration": 0,
    "start_time": "2025-06-18T05:02:33.796Z"
   },
   {
    "duration": 0,
    "start_time": "2025-06-18T05:02:33.797Z"
   },
   {
    "duration": 0,
    "start_time": "2025-06-18T05:02:33.798Z"
   },
   {
    "duration": 0,
    "start_time": "2025-06-18T05:02:33.800Z"
   },
   {
    "duration": 0,
    "start_time": "2025-06-18T05:02:33.800Z"
   },
   {
    "duration": 0,
    "start_time": "2025-06-18T05:02:33.802Z"
   },
   {
    "duration": 77,
    "start_time": "2025-06-18T05:03:12.883Z"
   },
   {
    "duration": 74,
    "start_time": "2025-06-18T05:03:54.134Z"
   },
   {
    "duration": 52,
    "start_time": "2025-06-18T05:04:02.748Z"
   },
   {
    "duration": 39,
    "start_time": "2025-06-18T05:04:16.243Z"
   },
   {
    "duration": 46,
    "start_time": "2025-06-18T05:05:03.731Z"
   },
   {
    "duration": 176,
    "start_time": "2025-06-18T05:09:52.286Z"
   },
   {
    "duration": 66,
    "start_time": "2025-06-18T05:10:53.191Z"
   },
   {
    "duration": 171,
    "start_time": "2025-06-18T05:11:30.609Z"
   },
   {
    "duration": 432,
    "start_time": "2025-06-18T05:16:57.179Z"
   },
   {
    "duration": 2009,
    "start_time": "2025-06-18T05:16:57.613Z"
   },
   {
    "duration": 20,
    "start_time": "2025-06-18T05:16:59.623Z"
   },
   {
    "duration": 180,
    "start_time": "2025-06-18T05:16:59.645Z"
   },
   {
    "duration": 212,
    "start_time": "2025-06-18T05:16:59.828Z"
   },
   {
    "duration": 661,
    "start_time": "2025-06-18T05:17:00.042Z"
   },
   {
    "duration": 11,
    "start_time": "2025-06-18T05:17:00.705Z"
   },
   {
    "duration": 60,
    "start_time": "2025-06-18T05:17:00.718Z"
   },
   {
    "duration": 286,
    "start_time": "2025-06-18T05:17:00.780Z"
   },
   {
    "duration": 1419,
    "start_time": "2025-06-18T05:17:01.068Z"
   },
   {
    "duration": 9,
    "start_time": "2025-06-18T05:17:02.489Z"
   },
   {
    "duration": 392,
    "start_time": "2025-06-18T05:17:02.499Z"
   },
   {
    "duration": 15,
    "start_time": "2025-06-18T05:17:02.892Z"
   },
   {
    "duration": 198,
    "start_time": "2025-06-18T05:17:02.911Z"
   },
   {
    "duration": 261,
    "start_time": "2025-06-18T05:17:03.111Z"
   },
   {
    "duration": 21,
    "start_time": "2025-06-18T05:17:03.374Z"
   },
   {
    "duration": 510,
    "start_time": "2025-06-18T05:17:03.397Z"
   },
   {
    "duration": 74,
    "start_time": "2025-06-18T05:17:03.909Z"
   },
   {
    "duration": 70,
    "start_time": "2025-06-18T05:17:03.985Z"
   },
   {
    "duration": 101,
    "start_time": "2025-06-18T05:17:04.057Z"
   },
   {
    "duration": 80,
    "start_time": "2025-06-18T05:17:04.160Z"
   },
   {
    "duration": 225,
    "start_time": "2025-06-18T05:17:04.241Z"
   },
   {
    "duration": 8,
    "start_time": "2025-06-18T05:17:04.476Z"
   },
   {
    "duration": 8,
    "start_time": "2025-06-18T05:17:04.485Z"
   },
   {
    "duration": 5,
    "start_time": "2025-06-18T05:17:04.495Z"
   },
   {
    "duration": 245,
    "start_time": "2025-06-18T05:17:04.502Z"
   },
   {
    "duration": 332,
    "start_time": "2025-06-18T05:17:04.749Z"
   },
   {
    "duration": 602,
    "start_time": "2025-06-18T05:17:05.083Z"
   },
   {
    "duration": 6,
    "start_time": "2025-06-18T05:17:05.686Z"
   },
   {
    "duration": 72,
    "start_time": "2025-06-18T05:17:05.693Z"
   },
   {
    "duration": 79,
    "start_time": "2025-06-18T05:17:05.767Z"
   },
   {
    "duration": 6,
    "start_time": "2025-06-18T05:17:05.849Z"
   },
   {
    "duration": 161,
    "start_time": "2025-06-18T05:17:05.858Z"
   },
   {
    "duration": 22,
    "start_time": "2025-06-18T05:17:06.022Z"
   },
   {
    "duration": 40,
    "start_time": "2025-06-18T05:17:06.047Z"
   },
   {
    "duration": 126,
    "start_time": "2025-06-18T05:17:06.089Z"
   },
   {
    "duration": 64,
    "start_time": "2025-06-18T05:17:06.217Z"
   },
   {
    "duration": 11,
    "start_time": "2025-06-18T05:17:06.283Z"
   },
   {
    "duration": 14,
    "start_time": "2025-06-18T05:17:06.296Z"
   },
   {
    "duration": 7,
    "start_time": "2025-06-18T05:17:06.312Z"
   },
   {
    "duration": 5,
    "start_time": "2025-06-18T05:17:06.323Z"
   },
   {
    "duration": 33,
    "start_time": "2025-06-18T05:17:06.330Z"
   },
   {
    "duration": 43,
    "start_time": "2025-06-18T05:17:06.365Z"
   },
   {
    "duration": 257,
    "start_time": "2025-06-18T05:19:02.962Z"
   },
   {
    "duration": 146,
    "start_time": "2025-06-18T05:19:59.148Z"
   },
   {
    "duration": 148,
    "start_time": "2025-06-18T05:21:03.746Z"
   },
   {
    "duration": 256,
    "start_time": "2025-06-18T05:33:41.906Z"
   },
   {
    "duration": 280,
    "start_time": "2025-06-18T05:36:06.576Z"
   },
   {
    "duration": 69,
    "start_time": "2025-06-18T05:42:45.434Z"
   },
   {
    "duration": 412,
    "start_time": "2025-06-18T05:43:40.793Z"
   },
   {
    "duration": 1996,
    "start_time": "2025-06-18T05:43:41.207Z"
   },
   {
    "duration": 20,
    "start_time": "2025-06-18T05:43:43.205Z"
   },
   {
    "duration": 98,
    "start_time": "2025-06-18T05:43:43.227Z"
   },
   {
    "duration": 197,
    "start_time": "2025-06-18T05:43:43.327Z"
   },
   {
    "duration": 609,
    "start_time": "2025-06-18T05:43:43.526Z"
   },
   {
    "duration": 11,
    "start_time": "2025-06-18T05:43:44.136Z"
   },
   {
    "duration": 51,
    "start_time": "2025-06-18T05:43:44.148Z"
   },
   {
    "duration": 350,
    "start_time": "2025-06-18T05:43:44.201Z"
   },
   {
    "duration": 1177,
    "start_time": "2025-06-18T05:43:44.554Z"
   },
   {
    "duration": 9,
    "start_time": "2025-06-18T05:43:45.733Z"
   },
   {
    "duration": 245,
    "start_time": "2025-06-18T05:43:45.743Z"
   },
   {
    "duration": 5,
    "start_time": "2025-06-18T05:43:45.990Z"
   },
   {
    "duration": 23,
    "start_time": "2025-06-18T05:43:45.997Z"
   },
   {
    "duration": 202,
    "start_time": "2025-06-18T05:43:46.022Z"
   },
   {
    "duration": 19,
    "start_time": "2025-06-18T05:43:46.225Z"
   },
   {
    "duration": 206,
    "start_time": "2025-06-18T05:43:46.246Z"
   },
   {
    "duration": 43,
    "start_time": "2025-06-18T05:43:46.453Z"
   },
   {
    "duration": 6,
    "start_time": "2025-06-18T05:43:46.498Z"
   },
   {
    "duration": 3,
    "start_time": "2025-06-18T05:43:46.506Z"
   },
   {
    "duration": 6,
    "start_time": "2025-06-18T05:43:46.511Z"
   },
   {
    "duration": 186,
    "start_time": "2025-06-18T05:43:46.519Z"
   },
   {
    "duration": 12,
    "start_time": "2025-06-18T05:43:46.708Z"
   },
   {
    "duration": 11,
    "start_time": "2025-06-18T05:43:46.722Z"
   },
   {
    "duration": 16,
    "start_time": "2025-06-18T05:43:46.735Z"
   },
   {
    "duration": 261,
    "start_time": "2025-06-18T05:43:46.754Z"
   },
   {
    "duration": 306,
    "start_time": "2025-06-18T05:43:47.017Z"
   },
   {
    "duration": 453,
    "start_time": "2025-06-18T05:43:47.328Z"
   },
   {
    "duration": 6,
    "start_time": "2025-06-18T05:43:47.783Z"
   },
   {
    "duration": 25,
    "start_time": "2025-06-18T05:43:47.790Z"
   },
   {
    "duration": 51,
    "start_time": "2025-06-18T05:43:47.817Z"
   },
   {
    "duration": 7,
    "start_time": "2025-06-18T05:43:47.870Z"
   },
   {
    "duration": 32,
    "start_time": "2025-06-18T05:43:47.879Z"
   },
   {
    "duration": 17,
    "start_time": "2025-06-18T05:43:47.913Z"
   },
   {
    "duration": 19,
    "start_time": "2025-06-18T05:43:47.932Z"
   },
   {
    "duration": 8,
    "start_time": "2025-06-18T05:43:47.953Z"
   },
   {
    "duration": 13,
    "start_time": "2025-06-18T05:43:47.963Z"
   },
   {
    "duration": 11,
    "start_time": "2025-06-18T05:43:47.978Z"
   },
   {
    "duration": 24,
    "start_time": "2025-06-18T05:43:47.991Z"
   },
   {
    "duration": 4,
    "start_time": "2025-06-18T05:43:48.017Z"
   },
   {
    "duration": 13,
    "start_time": "2025-06-18T05:43:48.022Z"
   },
   {
    "duration": 14,
    "start_time": "2025-06-18T05:43:48.037Z"
   },
   {
    "duration": 7,
    "start_time": "2025-06-18T05:43:48.053Z"
   },
   {
    "duration": 519,
    "start_time": "2025-06-18T05:52:10.478Z"
   },
   {
    "duration": 47,
    "start_time": "2025-06-18T05:52:10.999Z"
   },
   {
    "duration": 19,
    "start_time": "2025-06-18T05:52:28.783Z"
   },
   {
    "duration": 11,
    "start_time": "2025-06-18T05:52:50.194Z"
   },
   {
    "duration": 11,
    "start_time": "2025-06-18T05:52:56.978Z"
   },
   {
    "duration": 18,
    "start_time": "2025-06-18T05:54:10.518Z"
   },
   {
    "duration": 18,
    "start_time": "2025-06-18T05:54:29.726Z"
   },
   {
    "duration": 10,
    "start_time": "2025-06-18T05:55:50.111Z"
   },
   {
    "duration": 459,
    "start_time": "2025-06-18T05:57:45.666Z"
   },
   {
    "duration": 1798,
    "start_time": "2025-06-18T05:57:46.127Z"
   },
   {
    "duration": 19,
    "start_time": "2025-06-18T05:57:47.927Z"
   },
   {
    "duration": 100,
    "start_time": "2025-06-18T05:57:47.947Z"
   },
   {
    "duration": 203,
    "start_time": "2025-06-18T05:57:48.050Z"
   },
   {
    "duration": 652,
    "start_time": "2025-06-18T05:57:48.255Z"
   },
   {
    "duration": 10,
    "start_time": "2025-06-18T05:57:48.909Z"
   },
   {
    "duration": 61,
    "start_time": "2025-06-18T05:57:48.921Z"
   },
   {
    "duration": 288,
    "start_time": "2025-06-18T05:57:48.984Z"
   },
   {
    "duration": 1234,
    "start_time": "2025-06-18T05:57:49.277Z"
   },
   {
    "duration": 10,
    "start_time": "2025-06-18T05:57:50.512Z"
   },
   {
    "duration": 202,
    "start_time": "2025-06-18T05:57:50.524Z"
   },
   {
    "duration": 7,
    "start_time": "2025-06-18T05:57:50.728Z"
   },
   {
    "duration": 40,
    "start_time": "2025-06-18T05:57:50.740Z"
   },
   {
    "duration": 201,
    "start_time": "2025-06-18T05:57:50.782Z"
   },
   {
    "duration": 21,
    "start_time": "2025-06-18T05:57:50.985Z"
   },
   {
    "duration": 188,
    "start_time": "2025-06-18T05:57:51.008Z"
   },
   {
    "duration": 40,
    "start_time": "2025-06-18T05:57:51.198Z"
   },
   {
    "duration": 46,
    "start_time": "2025-06-18T05:57:51.240Z"
   },
   {
    "duration": 5,
    "start_time": "2025-06-18T05:57:51.288Z"
   },
   {
    "duration": 15,
    "start_time": "2025-06-18T05:57:51.295Z"
   },
   {
    "duration": 160,
    "start_time": "2025-06-18T05:57:51.312Z"
   },
   {
    "duration": 8,
    "start_time": "2025-06-18T05:57:51.476Z"
   },
   {
    "duration": 7,
    "start_time": "2025-06-18T05:57:51.486Z"
   },
   {
    "duration": 28,
    "start_time": "2025-06-18T05:57:51.495Z"
   },
   {
    "duration": 240,
    "start_time": "2025-06-18T05:57:51.525Z"
   },
   {
    "duration": 304,
    "start_time": "2025-06-18T05:57:51.766Z"
   },
   {
    "duration": 483,
    "start_time": "2025-06-18T05:57:52.080Z"
   },
   {
    "duration": 50,
    "start_time": "2025-06-18T05:57:52.565Z"
   },
   {
    "duration": 18,
    "start_time": "2025-06-18T05:57:52.617Z"
   },
   {
    "duration": 37,
    "start_time": "2025-06-18T05:57:52.637Z"
   },
   {
    "duration": 5,
    "start_time": "2025-06-18T05:57:52.675Z"
   },
   {
    "duration": 3,
    "start_time": "2025-06-18T05:57:52.682Z"
   },
   {
    "duration": 47,
    "start_time": "2025-06-18T05:57:52.687Z"
   },
   {
    "duration": 7,
    "start_time": "2025-06-18T05:57:52.735Z"
   },
   {
    "duration": 8,
    "start_time": "2025-06-18T05:57:52.776Z"
   },
   {
    "duration": 25,
    "start_time": "2025-06-18T05:57:52.786Z"
   },
   {
    "duration": 5,
    "start_time": "2025-06-18T05:57:52.813Z"
   },
   {
    "duration": 35,
    "start_time": "2025-06-18T05:57:52.819Z"
   },
   {
    "duration": 18,
    "start_time": "2025-06-18T05:57:52.856Z"
   },
   {
    "duration": 16,
    "start_time": "2025-06-18T05:57:52.878Z"
   },
   {
    "duration": 35,
    "start_time": "2025-06-18T05:57:52.896Z"
   },
   {
    "duration": 59,
    "start_time": "2025-06-18T05:57:52.933Z"
   },
   {
    "duration": 43,
    "start_time": "2025-06-18T05:57:52.994Z"
   },
   {
    "duration": 46,
    "start_time": "2025-06-18T05:57:53.039Z"
   },
   {
    "duration": 53,
    "start_time": "2025-06-18T05:57:53.087Z"
   },
   {
    "duration": 424,
    "start_time": "2025-06-18T07:11:31.737Z"
   },
   {
    "duration": 2258,
    "start_time": "2025-06-18T07:11:32.164Z"
   },
   {
    "duration": 21,
    "start_time": "2025-06-18T07:11:34.424Z"
   },
   {
    "duration": 88,
    "start_time": "2025-06-18T07:11:34.448Z"
   },
   {
    "duration": 180,
    "start_time": "2025-06-18T07:11:34.538Z"
   },
   {
    "duration": 571,
    "start_time": "2025-06-18T07:11:34.720Z"
   },
   {
    "duration": 11,
    "start_time": "2025-06-18T07:11:35.292Z"
   },
   {
    "duration": 54,
    "start_time": "2025-06-18T07:11:35.305Z"
   },
   {
    "duration": 291,
    "start_time": "2025-06-18T07:11:35.361Z"
   },
   {
    "duration": 1407,
    "start_time": "2025-06-18T07:11:35.656Z"
   },
   {
    "duration": 14,
    "start_time": "2025-06-18T07:11:37.066Z"
   },
   {
    "duration": 408,
    "start_time": "2025-06-18T07:11:37.083Z"
   },
   {
    "duration": 8,
    "start_time": "2025-06-18T07:11:37.492Z"
   },
   {
    "duration": 68,
    "start_time": "2025-06-18T07:11:37.502Z"
   },
   {
    "duration": 201,
    "start_time": "2025-06-18T07:11:37.572Z"
   },
   {
    "duration": 21,
    "start_time": "2025-06-18T07:11:37.774Z"
   },
   {
    "duration": 177,
    "start_time": "2025-06-18T07:11:37.796Z"
   },
   {
    "duration": 64,
    "start_time": "2025-06-18T07:11:37.975Z"
   },
   {
    "duration": 6,
    "start_time": "2025-06-18T07:11:38.041Z"
   },
   {
    "duration": 13,
    "start_time": "2025-06-18T07:11:38.049Z"
   },
   {
    "duration": 13,
    "start_time": "2025-06-18T07:11:38.064Z"
   },
   {
    "duration": 156,
    "start_time": "2025-06-18T07:11:38.079Z"
   },
   {
    "duration": 6,
    "start_time": "2025-06-18T07:11:38.237Z"
   },
   {
    "duration": 13,
    "start_time": "2025-06-18T07:11:38.244Z"
   },
   {
    "duration": 9,
    "start_time": "2025-06-18T07:11:38.259Z"
   },
   {
    "duration": 224,
    "start_time": "2025-06-18T07:11:38.269Z"
   },
   {
    "duration": 324,
    "start_time": "2025-06-18T07:11:38.495Z"
   },
   {
    "duration": 638,
    "start_time": "2025-06-18T07:11:38.822Z"
   },
   {
    "duration": 44,
    "start_time": "2025-06-18T07:11:39.461Z"
   },
   {
    "duration": 56,
    "start_time": "2025-06-18T07:11:39.506Z"
   },
   {
    "duration": 61,
    "start_time": "2025-06-18T07:11:39.564Z"
   },
   {
    "duration": 4,
    "start_time": "2025-06-18T07:11:39.627Z"
   },
   {
    "duration": 11,
    "start_time": "2025-06-18T07:11:39.633Z"
   },
   {
    "duration": 112,
    "start_time": "2025-06-18T07:11:39.645Z"
   },
   {
    "duration": 6,
    "start_time": "2025-06-18T07:11:39.759Z"
   },
   {
    "duration": 7,
    "start_time": "2025-06-18T07:11:39.766Z"
   },
   {
    "duration": 11,
    "start_time": "2025-06-18T07:11:39.776Z"
   },
   {
    "duration": 8,
    "start_time": "2025-06-18T07:11:39.789Z"
   },
   {
    "duration": 27,
    "start_time": "2025-06-18T07:11:39.798Z"
   },
   {
    "duration": 4,
    "start_time": "2025-06-18T07:11:39.827Z"
   },
   {
    "duration": 7,
    "start_time": "2025-06-18T07:11:39.835Z"
   },
   {
    "duration": 13,
    "start_time": "2025-06-18T07:11:39.844Z"
   },
   {
    "duration": 3,
    "start_time": "2025-06-18T07:11:39.858Z"
   },
   {
    "duration": 5,
    "start_time": "2025-06-18T07:11:39.862Z"
   },
   {
    "duration": 10,
    "start_time": "2025-06-18T07:11:39.868Z"
   },
   {
    "duration": 8,
    "start_time": "2025-06-18T07:11:39.880Z"
   }
  ],
  "colab": {
   "provenance": []
  },
  "kernelspec": {
   "display_name": "Python [conda env:base] *",
   "language": "python",
   "name": "conda-base-py"
  },
  "language_info": {
   "codemirror_mode": {
    "name": "ipython",
    "version": 3
   },
   "file_extension": ".py",
   "mimetype": "text/x-python",
   "name": "python",
   "nbconvert_exporter": "python",
   "pygments_lexer": "ipython3",
   "version": "3.12.7"
  },
  "toc": {
   "base_numbering": 1,
   "nav_menu": {},
   "number_sections": true,
   "sideBar": true,
   "skip_h1_title": true,
   "title_cell": "Table of Contents",
   "title_sidebar": "Contents",
   "toc_cell": false,
   "toc_position": {},
   "toc_section_display": true,
   "toc_window_display": false
  }
 },
 "nbformat": 4,
 "nbformat_minor": 4
}
