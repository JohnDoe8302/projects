{
 "cells": [
  {
   "cell_type": "markdown",
   "id": "e06910dd",
   "metadata": {
    "id": "e06910dd"
   },
   "source": [
    "# Изучение развития игровой индустрии с 2000 по 2013 год\n",
    "\n",
    "- Автор: Нарыжный В.В.\n",
    "- Дата: 22.03.2025"
   ]
  },
  {
   "cell_type": "markdown",
   "id": "4149134c",
   "metadata": {
    "id": "4149134c"
   },
   "source": [
    "### Цели и задачи проекта\n",
    "\n",
    " В данном блокноте Jupiter Notebook мы будем работать с датасетом new_games.csv, содержащим информацию о продажах игр разных жанров и платформ, а также пользовательские и экспертные оценки игр. На основе этого датасета мы изучим объёмы продаж игр разных жанров и региональные предпочтения игроков c 2000 по 2013 год. Мы будем работать с данными которые собрали из открытых источников. Наша задача познакомиться с данными, проверить их корректность и провести предобработку, получив необходимый срез данных."
   ]
  },
  {
   "cell_type": "markdown",
   "id": "728986ea",
   "metadata": {
    "id": "728986ea"
   },
   "source": [
    "### Описание данных\n",
    "\n",
    "В проекте будут использованы данные датасета `new_games.csv` с таким описанием:\n",
    "- `Name` — название игры;\n",
    "- `Platform` — название платформы;\n",
    "- `Year of Release` — год выпуска игры;\n",
    "- `Genre` — жанр игры;\n",
    "- `NA sales` — продажи в Северной Америке (в миллионах проданных копий);\n",
    "- `EU sales` — продажи в Европе (в миллионах проданных копий);\n",
    "- `JP sales` — продажи в Японии (в миллионах проданных копий);\n",
    "- `Other sales` — продажи в других странах (в миллионах проданных копий);\n",
    "- `Critic Score` — оценка критиков (от 0 до 100);\n",
    "- `User Score` — оценка пользователей (от 0 до 10);\n",
    "- `Rating` — рейтинг организации ESRB (англ. Entertainment Software Rating Board). Эта ассоциация определяет рейтинг компьютерных игр и присваивает им подходящую возрастную категорию;"
   ]
  },
  {
   "cell_type": "markdown",
   "id": "4fecaf95",
   "metadata": {
    "id": "4fecaf95"
   },
   "source": [
    "### Содержимое проекта\n",
    "\n",
    "1. Загрузка и знакомство с данными\n",
    "2. Проверка ошибок в данных и их предобработка\n",
    "3. Фильтрация данных\n",
    "4. Категоризация данных\n",
    "5. Итоговый вывод\n",
    "\n",
    "\n",
    "---"
   ]
  },
  {
   "cell_type": "markdown",
   "id": "6f7d21d6",
   "metadata": {
    "id": "6f7d21d6"
   },
   "source": [
    "## 1. Загрузка данных и знакомство с ними\n",
    "\n",
    "- Загружаем необходимые библиотеки Python и данные датасета `/datasets/new_games.csv`.\n"
   ]
  },
  {
   "cell_type": "code",
   "execution_count": 1,
   "id": "10df3237",
   "metadata": {},
   "outputs": [],
   "source": [
    "# Импортируем библиотеку pandas\n",
    "import pandas as pd"
   ]
  },
  {
   "cell_type": "code",
   "execution_count": 2,
   "id": "a5819b60",
   "metadata": {},
   "outputs": [],
   "source": [
    "# Выгружаем данные из датасета new_games.csv в датафрейм games\n",
    "games = pd.read_csv('https://code.s3.yandex.net//datasets/new_games.csv')"
   ]
  },
  {
   "cell_type": "markdown",
   "id": "e0a8705f",
   "metadata": {
    "id": "e0a8705f"
   },
   "source": [
    "- Знакомимся с данными: выведим первые строки и результат метода `info()`.\n"
   ]
  },
  {
   "cell_type": "code",
   "execution_count": 3,
   "id": "fc561cac",
   "metadata": {
    "id": "fc561cac"
   },
   "outputs": [
    {
     "name": "stdout",
     "output_type": "stream",
     "text": [
      "<class 'pandas.core.frame.DataFrame'>\n",
      "RangeIndex: 16956 entries, 0 to 16955\n",
      "Data columns (total 11 columns):\n",
      " #   Column           Non-Null Count  Dtype  \n",
      "---  ------           --------------  -----  \n",
      " 0   Name             16954 non-null  object \n",
      " 1   Platform         16956 non-null  object \n",
      " 2   Year of Release  16681 non-null  float64\n",
      " 3   Genre            16954 non-null  object \n",
      " 4   NA sales         16956 non-null  float64\n",
      " 5   EU sales         16956 non-null  object \n",
      " 6   JP sales         16956 non-null  object \n",
      " 7   Other sales      16956 non-null  float64\n",
      " 8   Critic Score     8242 non-null   float64\n",
      " 9   User Score       10152 non-null  object \n",
      " 10  Rating           10085 non-null  object \n",
      "dtypes: float64(4), object(7)\n",
      "memory usage: 1.4+ MB\n"
     ]
    }
   ],
   "source": [
    "# Выводим информацию о датафрейме\n",
    "games.info()"
   ]
  },
  {
   "cell_type": "code",
   "execution_count": 4,
   "id": "6f8718a9",
   "metadata": {
    "id": "05f55eb6",
    "scrolled": true
   },
   "outputs": [
    {
     "data": {
      "text/html": [
       "<div>\n",
       "<style scoped>\n",
       "    .dataframe tbody tr th:only-of-type {\n",
       "        vertical-align: middle;\n",
       "    }\n",
       "\n",
       "    .dataframe tbody tr th {\n",
       "        vertical-align: top;\n",
       "    }\n",
       "\n",
       "    .dataframe thead th {\n",
       "        text-align: right;\n",
       "    }\n",
       "</style>\n",
       "<table border=\"1\" class=\"dataframe\">\n",
       "  <thead>\n",
       "    <tr style=\"text-align: right;\">\n",
       "      <th></th>\n",
       "      <th>Name</th>\n",
       "      <th>Platform</th>\n",
       "      <th>Year of Release</th>\n",
       "      <th>Genre</th>\n",
       "      <th>NA sales</th>\n",
       "      <th>EU sales</th>\n",
       "      <th>JP sales</th>\n",
       "      <th>Other sales</th>\n",
       "      <th>Critic Score</th>\n",
       "      <th>User Score</th>\n",
       "      <th>Rating</th>\n",
       "    </tr>\n",
       "  </thead>\n",
       "  <tbody>\n",
       "    <tr>\n",
       "      <th>0</th>\n",
       "      <td>Wii Sports</td>\n",
       "      <td>Wii</td>\n",
       "      <td>2006.0</td>\n",
       "      <td>Sports</td>\n",
       "      <td>41.36</td>\n",
       "      <td>28.96</td>\n",
       "      <td>3.77</td>\n",
       "      <td>8.45</td>\n",
       "      <td>76.0</td>\n",
       "      <td>8</td>\n",
       "      <td>E</td>\n",
       "    </tr>\n",
       "    <tr>\n",
       "      <th>1</th>\n",
       "      <td>Super Mario Bros.</td>\n",
       "      <td>NES</td>\n",
       "      <td>1985.0</td>\n",
       "      <td>Platform</td>\n",
       "      <td>29.08</td>\n",
       "      <td>3.58</td>\n",
       "      <td>6.81</td>\n",
       "      <td>0.77</td>\n",
       "      <td>NaN</td>\n",
       "      <td>NaN</td>\n",
       "      <td>NaN</td>\n",
       "    </tr>\n",
       "    <tr>\n",
       "      <th>2</th>\n",
       "      <td>Mario Kart Wii</td>\n",
       "      <td>Wii</td>\n",
       "      <td>2008.0</td>\n",
       "      <td>Racing</td>\n",
       "      <td>15.68</td>\n",
       "      <td>12.76</td>\n",
       "      <td>3.79</td>\n",
       "      <td>3.29</td>\n",
       "      <td>82.0</td>\n",
       "      <td>8.3</td>\n",
       "      <td>E</td>\n",
       "    </tr>\n",
       "    <tr>\n",
       "      <th>3</th>\n",
       "      <td>Wii Sports Resort</td>\n",
       "      <td>Wii</td>\n",
       "      <td>2009.0</td>\n",
       "      <td>Sports</td>\n",
       "      <td>15.61</td>\n",
       "      <td>10.93</td>\n",
       "      <td>3.28</td>\n",
       "      <td>2.95</td>\n",
       "      <td>80.0</td>\n",
       "      <td>8</td>\n",
       "      <td>E</td>\n",
       "    </tr>\n",
       "    <tr>\n",
       "      <th>4</th>\n",
       "      <td>Pokemon Red/Pokemon Blue</td>\n",
       "      <td>GB</td>\n",
       "      <td>1996.0</td>\n",
       "      <td>Role-Playing</td>\n",
       "      <td>11.27</td>\n",
       "      <td>8.89</td>\n",
       "      <td>10.22</td>\n",
       "      <td>1.00</td>\n",
       "      <td>NaN</td>\n",
       "      <td>NaN</td>\n",
       "      <td>NaN</td>\n",
       "    </tr>\n",
       "  </tbody>\n",
       "</table>\n",
       "</div>"
      ],
      "text/plain": [
       "                       Name Platform  Year of Release         Genre  NA sales  \\\n",
       "0                Wii Sports      Wii           2006.0        Sports     41.36   \n",
       "1         Super Mario Bros.      NES           1985.0      Platform     29.08   \n",
       "2            Mario Kart Wii      Wii           2008.0        Racing     15.68   \n",
       "3         Wii Sports Resort      Wii           2009.0        Sports     15.61   \n",
       "4  Pokemon Red/Pokemon Blue       GB           1996.0  Role-Playing     11.27   \n",
       "\n",
       "  EU sales JP sales  Other sales  Critic Score User Score Rating  \n",
       "0    28.96     3.77         8.45          76.0          8      E  \n",
       "1     3.58     6.81         0.77           NaN        NaN    NaN  \n",
       "2    12.76     3.79         3.29          82.0        8.3      E  \n",
       "3    10.93     3.28         2.95          80.0          8      E  \n",
       "4     8.89    10.22         1.00           NaN        NaN    NaN  "
      ]
     },
     "execution_count": 4,
     "metadata": {},
     "output_type": "execute_result"
    }
   ],
   "source": [
    "# Выводим первые строки датафрейма на экран\n",
    "games.head()"
   ]
  },
  {
   "cell_type": "markdown",
   "id": "f030a024",
   "metadata": {
    "id": "81651b8d"
   },
   "source": [
    "Датасет `new_games.csv` содержит 11 столбцов и 16956 строк, в которых представлена информация о продажах игр разных жанров и платформ, а также пользовательские и экспертные оценки игр.\n",
    "Изучим типы данных и их корректность:\n",
    "- **Числовые значения с плавающей запятой (float64).** Четыре столбца имеют тип данных `float64`:\n",
    "   - Один столбец, `Year of Release`, содержит год выпуска и представлен типом `float64`. Логичнее было бы использовать целочисленный тип (int).\n",
    "- **Строковые данные (object).** Семь столбцов имеют тип данных `object`:\n",
    "   - Столбцы `EU sales` и `JP sales` имеют тип `object`, хотя это должны быть числовые данные c типом `float64` (продажи в Европе и Японии)\n",
    "   - `User Score` (оценка пользователей) также имеет тип `object`, хотя это должна быть с числовым типом данных\n",
    "   - В столбце `Rating` могут быть категориальные данные , которые нужно будет преобразовать в категориальный тип `category`.\n",
    "- **Пропуски в данных.** \n",
    "   - В столбце `Name` пропущено 2 значения,в столбце `Year of Release` пропущено 275 значений,в столбце `Genre` пропущено 2 значения,в столбце `Critic Score` пропущено 8714 значений (более половины данных),в столбце `User Score` пропущено 6804 значения,в столбце `Rating` пропущено 6871 значение. Так как пропуски могут повлиять на анализ, их нужно будет обработать.\n",
    "- **Названия столбцов.**    \n",
    "   - После анализа типов данных видно, что большинство столбцов корректно представлены. Названия столбцов в целом отражают содержимое данных, но их можно сделать более удобным для работы(привести к нижнему регистру, пробелы заменить на нижние подчеркивания)"
   ]
  },
  {
   "cell_type": "markdown",
   "id": "774bf76e",
   "metadata": {
    "id": "774bf76e"
   },
   "source": [
    "---\n",
    "\n",
    "## 2.  Проверка ошибок в данных и их предобработка\n",
    "\n",
    "\n",
    "### 2.1. Названия, или метки, столбцов датафрейма\n",
    "\n",
    "- Внимательно изучим данные и проведем предобработку"
   ]
  },
  {
   "cell_type": "code",
   "execution_count": 5,
   "id": "b9276a2b",
   "metadata": {
    "id": "b9276a2b"
   },
   "outputs": [
    {
     "name": "stdout",
     "output_type": "stream",
     "text": [
      "Name\n",
      "Platform\n",
      "Year of Release\n",
      "Genre\n",
      "NA sales\n",
      "EU sales\n",
      "JP sales\n",
      "Other sales\n",
      "Critic Score\n",
      "User Score\n",
      "Rating\n"
     ]
    }
   ],
   "source": [
    "# Выведем на экран названия всех столбцов датафрейма\n",
    "for game in games:\n",
    "    print(game)"
   ]
  },
  {
   "cell_type": "markdown",
   "id": "459b8827",
   "metadata": {
    "id": "d554563c"
   },
   "source": [
    "- Названия столбцов содержат пробелы. Это не соответствует стилю snake_case."
   ]
  },
  {
   "cell_type": "code",
   "execution_count": 6,
   "id": "dc11cdde",
   "metadata": {},
   "outputs": [],
   "source": [
    "# Приведем названия к нижнему регистру\n",
    "games.columns = games.columns.str.lower()"
   ]
  },
  {
   "cell_type": "code",
   "execution_count": 7,
   "id": "87b573dd",
   "metadata": {
    "id": "87b573dd"
   },
   "outputs": [],
   "source": [
    "# Приведем названия столбцов к стилю snake_case\n",
    "games.columns = games.columns.str.replace(' ', '_')"
   ]
  },
  {
   "cell_type": "code",
   "execution_count": 8,
   "id": "c11cb981",
   "metadata": {},
   "outputs": [
    {
     "name": "stdout",
     "output_type": "stream",
     "text": [
      "name\n",
      "platform\n",
      "year_of_release\n",
      "genre\n",
      "na_sales\n",
      "eu_sales\n",
      "jp_sales\n",
      "other_sales\n",
      "critic_score\n",
      "user_score\n",
      "rating\n"
     ]
    }
   ],
   "source": [
    "# Выведем результат \n",
    "for game in games:\n",
    "    print(game)"
   ]
  },
  {
   "cell_type": "markdown",
   "id": "41bc6bf8",
   "metadata": {
    "id": "41bc6bf8"
   },
   "source": [
    "### 2.2. Типы данных\n",
    "\n",
    "- Из описания видно что в данных встречаются некорректные типы данных:\n",
    "   - `eu_sales` и `jp_sales` имеют тип `object` хотя должны быть числовыми `float64`.\n",
    "   - `user_score` имеет тип `object` хотя должен быть числовым `float64`.\n",
    "   - `year_of_release` имеет тип `float64`, хотя должен быть `int64`.\n",
    "- Возможно в столбцах могут быть нечисловые значения, пропуски в данных не позволяют преобразовать к типу `int64`, в числовых столбцах могут встречаться строковые значения например `unknown` или другие."
   ]
  },
  {
   "cell_type": "code",
   "execution_count": 9,
   "id": "8adaac81",
   "metadata": {
    "id": "8adaac81"
   },
   "outputs": [],
   "source": [
    "# Преобразуем eu_sales и jp_sales в числовой тип заменив строковые значения на пропуски\n",
    "games['eu_sales'] = pd.to_numeric(games['eu_sales'], errors='coerce')\n",
    "games['jp_sales'] = pd.to_numeric(games['jp_sales'], errors='coerce')"
   ]
  },
  {
   "cell_type": "code",
   "execution_count": 10,
   "id": "e8412c01",
   "metadata": {
    "id": "e8412c01"
   },
   "outputs": [],
   "source": [
    "# Преобразуем user_score в числовой тип заменив строковые значения на пропуски\n",
    "games['user_score'] = pd.to_numeric(games['user_score'], errors='coerce')"
   ]
  },
  {
   "cell_type": "markdown",
   "id": "d681a834",
   "metadata": {},
   "source": [
    "  - Столбец `year_of_release` с числовыми данными и пропусками нельзя преобразовать к типу `int64`. Сначала нам понадобится обработать пропуски а затем преобразовать тип данных в `int64`."
   ]
  },
  {
   "cell_type": "code",
   "execution_count": 11,
   "id": "9e53cff4",
   "metadata": {
    "id": "9e53cff4"
   },
   "outputs": [],
   "source": [
    "# Удалим пропуски в year_of_release\n",
    "games = games.dropna(subset=['year_of_release'])"
   ]
  },
  {
   "cell_type": "code",
   "execution_count": 12,
   "id": "5033ee32",
   "metadata": {
    "id": "5033ee32"
   },
   "outputs": [],
   "source": [
    "# Преобразуем в тип int64\n",
    "games['year_of_release'] = games['year_of_release'].astype(int)"
   ]
  },
  {
   "cell_type": "markdown",
   "id": "989f7927",
   "metadata": {},
   "source": [
    "  - Проверим результат по типам данных"
   ]
  },
  {
   "cell_type": "code",
   "execution_count": 13,
   "id": "3a26fb26",
   "metadata": {
    "id": "3a26fb26"
   },
   "outputs": [
    {
     "data": {
      "text/plain": [
       "name                object\n",
       "platform            object\n",
       "year_of_release      int64\n",
       "genre               object\n",
       "na_sales           float64\n",
       "eu_sales           float64\n",
       "jp_sales           float64\n",
       "other_sales        float64\n",
       "critic_score       float64\n",
       "user_score         float64\n",
       "rating              object\n",
       "dtype: object"
      ]
     },
     "execution_count": 13,
     "metadata": {},
     "output_type": "execute_result"
    }
   ],
   "source": [
    "games.dtypes"
   ]
  },
  {
   "cell_type": "markdown",
   "id": "af4818d6",
   "metadata": {},
   "source": [
    "   - Проверим результат по пропускам"
   ]
  },
  {
   "cell_type": "code",
   "execution_count": 14,
   "id": "11003d69",
   "metadata": {
    "id": "11003d69"
   },
   "outputs": [
    {
     "data": {
      "text/plain": [
       "name                  2\n",
       "platform              0\n",
       "year_of_release       0\n",
       "genre                 2\n",
       "na_sales              0\n",
       "eu_sales              6\n",
       "jp_sales              4\n",
       "other_sales           0\n",
       "critic_score       8596\n",
       "user_score         9123\n",
       "rating             6780\n",
       "dtype: int64"
      ]
     },
     "execution_count": 14,
     "metadata": {},
     "output_type": "execute_result"
    }
   ],
   "source": [
    "games.isna().sum()"
   ]
  },
  {
   "cell_type": "markdown",
   "id": "b39893cb",
   "metadata": {
    "id": "b39893cb"
   },
   "source": [
    "### 2.3. Наличие пропусков в данных\n",
    "\n",
    "- Посчитаем количество пропусков в каждом столбце в абсолютных и относительных значениях.\n"
   ]
  },
  {
   "cell_type": "code",
   "execution_count": 15,
   "id": "0f1c91a8",
   "metadata": {
    "id": "0f1c91a8"
   },
   "outputs": [],
   "source": [
    "# Считаем количество пропусков\n",
    "missing_count = games.isna().sum()"
   ]
  },
  {
   "cell_type": "code",
   "execution_count": 16,
   "id": "06443d7f",
   "metadata": {},
   "outputs": [
    {
     "data": {
      "text/plain": [
       "name                  2\n",
       "platform              0\n",
       "year_of_release       0\n",
       "genre                 2\n",
       "na_sales              0\n",
       "eu_sales              6\n",
       "jp_sales              4\n",
       "other_sales           0\n",
       "critic_score       8596\n",
       "user_score         9123\n",
       "rating             6780\n",
       "dtype: int64"
      ]
     },
     "execution_count": 16,
     "metadata": {},
     "output_type": "execute_result"
    }
   ],
   "source": [
    "# Выводим результат\n",
    "missing_count"
   ]
  },
  {
   "cell_type": "code",
   "execution_count": 17,
   "id": "86cd1cc1",
   "metadata": {
    "id": "86cd1cc1"
   },
   "outputs": [],
   "source": [
    "# Считаем количество пропусков в процентах\n",
    "missing_percent = round((games.isna().sum() / len(games)) * 100,2)"
   ]
  },
  {
   "cell_type": "code",
   "execution_count": 18,
   "id": "367831ac",
   "metadata": {},
   "outputs": [
    {
     "data": {
      "text/plain": [
       "name                0.01\n",
       "platform            0.00\n",
       "year_of_release     0.00\n",
       "genre               0.01\n",
       "na_sales            0.00\n",
       "eu_sales            0.04\n",
       "jp_sales            0.02\n",
       "other_sales         0.00\n",
       "critic_score       51.53\n",
       "user_score         54.69\n",
       "rating             40.65\n",
       "dtype: float64"
      ]
     },
     "execution_count": 18,
     "metadata": {},
     "output_type": "execute_result"
    }
   ],
   "source": [
    "# Выводим результат\n",
    "missing_percent"
   ]
  },
  {
   "cell_type": "markdown",
   "id": "2aafd1f8",
   "metadata": {
    "id": "b6965b19"
   },
   "source": [
    "- **Столбцы с пропусками.**\n",
    "  - `name`2 пропуска (0.01%).\n",
    "\n",
    "  - `genre`2 пропуска (0.01%).\n",
    "\n",
    "  - `eu_sales` 6 пропусков (0.04%).\n",
    "\n",
    "  - `jp_sales` 4 пропуска (0.02%).\n",
    "\n",
    "  - `critic_score` 8596 пропусков (51.53%).\n",
    "\n",
    "  - `user_score` 9123 пропусков (54.69%).\n",
    "\n",
    "  - `rating` 6780 пропусков (40.65%)."
   ]
  },
  {
   "cell_type": "markdown",
   "id": "52b2d3b5",
   "metadata": {
    "id": "cc2d1374"
   },
   "source": [
    "  - Пропуски могут быть связаны с отсутствием данных или ошибками при их сборе.\n",
    "  - Для маленьких показателей применим удаление пропусков так как их количество незначительно повлияет на анализ.Пропуски в данных с количеством проданных копий игры замнеим на среднее значение.Для остальных заменим на индикатор "
   ]
  },
  {
   "cell_type": "code",
   "execution_count": 19,
   "id": "154be65d",
   "metadata": {
    "id": "154be65d"
   },
   "outputs": [],
   "source": [
    "# Удаляем пропуски в name и genre\n",
    "games = games.dropna(subset=['name', 'genre'])"
   ]
  },
  {
   "cell_type": "code",
   "execution_count": 20,
   "id": "2784c760",
   "metadata": {
    "id": "2784c760"
   },
   "outputs": [],
   "source": [
    "# Заменяем пропуски на среднее значение в eu_sales и jp_sales\n",
    "games['eu_sales'] = games['eu_sales'].fillna(games['eu_sales'].mean())\n",
    "games['jp_sales'] = games['jp_sales'].fillna(games['jp_sales'].mean())"
   ]
  },
  {
   "cell_type": "code",
   "execution_count": 21,
   "id": "c45c072e",
   "metadata": {},
   "outputs": [],
   "source": [
    "# Заменяем пропуски на индикатор в critic_score и user_score\n",
    "games['critic_score'] = games['critic_score'].fillna(-1)\n",
    "games['user_score'] = games['user_score'].fillna(-1)"
   ]
  },
  {
   "cell_type": "code",
   "execution_count": 22,
   "id": "cd64be24",
   "metadata": {},
   "outputs": [],
   "source": [
    "# Заменим пропуски в rating на значение \"unknown\"\n",
    "games['rating'] = games['rating'].fillna('unknown')"
   ]
  },
  {
   "cell_type": "markdown",
   "id": "bed4dba0",
   "metadata": {},
   "source": [
    " - Проверяем результат"
   ]
  },
  {
   "cell_type": "code",
   "execution_count": 23,
   "id": "ce2c0984",
   "metadata": {},
   "outputs": [
    {
     "data": {
      "text/plain": [
       "name               0\n",
       "platform           0\n",
       "year_of_release    0\n",
       "genre              0\n",
       "na_sales           0\n",
       "eu_sales           0\n",
       "jp_sales           0\n",
       "other_sales        0\n",
       "critic_score       0\n",
       "user_score         0\n",
       "rating             0\n",
       "dtype: int64"
      ]
     },
     "execution_count": 23,
     "metadata": {},
     "output_type": "execute_result"
    }
   ],
   "source": [
    "games.isna().sum()"
   ]
  },
  {
   "cell_type": "markdown",
   "id": "a63363fd",
   "metadata": {
    "id": "a63363fd"
   },
   "source": [
    "### 2.4. Явные и неявные дубликаты в данных\n",
    "\n",
    "- Изучим уникальные значения в категориальных данных, например с названиями жанра игры, платформы, рейтинга и года выпуска. Проверим, встречаются ли среди данных неявные дубликаты, связанные с опечатками или разным способом написания.\n",
    "- При необходимости проведем нормализацию данных с текстовыми значениями. Названия или жанры игр можно привести к нижнему регистру, а названия рейтинга — к верхнему."
   ]
  },
  {
   "cell_type": "markdown",
   "id": "5a72b88e",
   "metadata": {
    "id": "491c9c39"
   },
   "source": [
    "  - Для начала изучим уникальные значения в столбцах с категориальными данными year_of_release, genre, platform, rating."
   ]
  },
  {
   "cell_type": "code",
   "execution_count": 24,
   "id": "f1627198",
   "metadata": {
    "id": "f1627198"
   },
   "outputs": [
    {
     "name": "stdout",
     "output_type": "stream",
     "text": [
      "Год выпуска [2006 1985 2008 2009 1996 1989 1984 2005 1999 2007 2010 2013 2004 1990\n",
      " 1988 2002 2001 2011 1998 2015 2012 2014 1992 1997 1993 1994 1982 2016\n",
      " 2003 1986 2000 1995 1991 1981 1987 1980 1983]\n",
      "Жанры ['Sports' 'Platform' 'Racing' 'Role-Playing' 'Puzzle' 'Misc' 'Shooter'\n",
      " 'Simulation' 'Action' 'Fighting' 'Adventure' 'Strategy' 'MISC'\n",
      " 'ROLE-PLAYING' 'RACING' 'ACTION' 'SHOOTER' 'FIGHTING' 'SPORTS' 'PLATFORM'\n",
      " 'ADVENTURE' 'SIMULATION' 'PUZZLE' 'STRATEGY']\n",
      "Платформы ['Wii' 'NES' 'GB' 'DS' 'X360' 'PS3' 'PS2' 'SNES' 'GBA' 'PS4' '3DS' 'N64'\n",
      " 'PS' 'XB' 'PC' '2600' 'PSP' 'XOne' 'WiiU' 'GC' 'GEN' 'DC' 'PSV' 'SAT'\n",
      " 'SCD' 'WS' 'NG' 'TG16' '3DO' 'GG' 'PCFX']\n",
      "Рейтинг ['E' 'unknown' 'M' 'T' 'E10+' 'K-A' 'AO' 'EC' 'RP']\n"
     ]
    }
   ],
   "source": [
    "print('Год выпуска', games['year_of_release'].unique())\n",
    "print('Жанры', games['genre'].unique())\n",
    "print('Платформы', games['platform'].unique())\n",
    "print('Рейтинг', games['rating'].unique())"
   ]
  },
  {
   "cell_type": "markdown",
   "id": "d3c0d45b",
   "metadata": {
    "id": "a0cac80c"
   },
   "source": [
    " - Видим наличие дубликатов в данных. Например `ROLE-PLAYING` и `Role-Playing`, `ACTION` и `Action`"
   ]
  },
  {
   "cell_type": "markdown",
   "id": "8c8b2468",
   "metadata": {},
   "source": [
    "  - Проведем нормализацию данных. Названия платформ и жанров приведем к нижнему регистру а названия рейтинга к верхнему."
   ]
  },
  {
   "cell_type": "code",
   "execution_count": 25,
   "id": "3bd46b42",
   "metadata": {},
   "outputs": [],
   "source": [
    "games['genre'] = games['genre'].str.lower()\n",
    "games['platform'] = games['platform'].str.lower()\n",
    "games['rating'] = games['rating'].str.upper()"
   ]
  },
  {
   "cell_type": "code",
   "execution_count": 26,
   "id": "b4aab53d",
   "metadata": {},
   "outputs": [
    {
     "name": "stdout",
     "output_type": "stream",
     "text": [
      "Жанры ['sports' 'platform' 'racing' 'role-playing' 'puzzle' 'misc' 'shooter'\n",
      " 'simulation' 'action' 'fighting' 'adventure' 'strategy']\n",
      "Платформы ['wii' 'nes' 'gb' 'ds' 'x360' 'ps3' 'ps2' 'snes' 'gba' 'ps4' '3ds' 'n64'\n",
      " 'ps' 'xb' 'pc' '2600' 'psp' 'xone' 'wiiu' 'gc' 'gen' 'dc' 'psv' 'sat'\n",
      " 'scd' 'ws' 'ng' 'tg16' '3do' 'gg' 'pcfx']\n",
      "Рейтинг ['E' 'UNKNOWN' 'M' 'T' 'E10+' 'K-A' 'AO' 'EC' 'RP']\n"
     ]
    }
   ],
   "source": [
    "# Проверим результат\n",
    "print('Жанры', games['genre'].unique())\n",
    "print('Платформы', games['platform'].unique())\n",
    "print('Рейтинг', games['rating'].unique())"
   ]
  },
  {
   "cell_type": "markdown",
   "id": "fc3d3db4",
   "metadata": {
    "id": "fc3d3db4"
   },
   "source": [
    "- После того как нормализуем данные и устраним неявные дубликаты, проверим наличие явных дубликатов в данных."
   ]
  },
  {
   "cell_type": "code",
   "execution_count": 27,
   "id": "fc5c91b5",
   "metadata": {
    "id": "fc5c91b5"
   },
   "outputs": [
    {
     "data": {
      "text/plain": [
       "235"
      ]
     },
     "execution_count": 27,
     "metadata": {},
     "output_type": "execute_result"
    }
   ],
   "source": [
    "# Проверяем наличие явных дубликатов\n",
    "duplicates = games.duplicated()\n",
    "duplicates.sum()"
   ]
  },
  {
   "cell_type": "markdown",
   "id": "da952d0e",
   "metadata": {
    "id": "2f61e076"
   },
   "source": [
    " - 235 строк"
   ]
  },
  {
   "cell_type": "code",
   "execution_count": 28,
   "id": "29e57705",
   "metadata": {
    "id": "29e57705"
   },
   "outputs": [],
   "source": [
    "# Удаляем дубликаты\n",
    "games = games.drop_duplicates()"
   ]
  },
  {
   "cell_type": "markdown",
   "id": "54616bae",
   "metadata": {
    "id": "54616bae"
   },
   "source": [
    "- Напишем промежуточный вывод: укажем количество найденных дубликатов и действия по их обработке."
   ]
  },
  {
   "cell_type": "markdown",
   "id": "e353ea88",
   "metadata": {
    "id": "8548f894"
   },
   "source": [
    "- **Неявные дубликаты.** \n",
    "  - Устранили. Привели к нижнему и верхнему регистру\n",
    "- **Явные дубликаты.** \n",
    "  - Найшли и удалили 235 строк\n",
    "  \n",
    "- Данные нормализовали.Текстовые значения привели к общему формату,неявные дубликаты устранили,явные дубликаты удалили."
   ]
  },
  {
   "cell_type": "markdown",
   "id": "72645ae9",
   "metadata": {
    "id": "72645ae9"
   },
   "source": [
    "- В процессе подготовки данных мы могли что-либо удалять, например строки с пропусками или ошибками, дубликаты и прочее. В этом случае посчитаем количество удалённых строк в абсолютном и относительном значениях."
   ]
  },
  {
   "cell_type": "code",
   "execution_count": 29,
   "id": "f9d8ee19",
   "metadata": {
    "id": "f9d8ee19"
   },
   "outputs": [],
   "source": [
    "# Изначальное количество строк \n",
    "original = 16956"
   ]
  },
  {
   "cell_type": "code",
   "execution_count": 30,
   "id": "3d7a9d8e",
   "metadata": {
    "id": "3d7a9d8e"
   },
   "outputs": [],
   "source": [
    "# Количество строк после нормализации\n",
    "final = len(games)"
   ]
  },
  {
   "cell_type": "code",
   "execution_count": 31,
   "id": "1e48a7ce",
   "metadata": {
    "id": "1e48a7ce"
   },
   "outputs": [],
   "source": [
    "# Считаем количество удаленных строк \n",
    "deleted = original - final"
   ]
  },
  {
   "cell_type": "code",
   "execution_count": 32,
   "id": "5b217435",
   "metadata": {},
   "outputs": [],
   "source": [
    "# Считаем в относительном значении\n",
    "deleted_percent = round((deleted / original) * 100,2)"
   ]
  },
  {
   "cell_type": "code",
   "execution_count": 33,
   "id": "471b7390",
   "metadata": {},
   "outputs": [
    {
     "data": {
      "text/plain": [
       "(512, 3.02)"
      ]
     },
     "execution_count": 33,
     "metadata": {},
     "output_type": "execute_result"
    }
   ],
   "source": [
    "# Выводим результат\n",
    "deleted,deleted_percent"
   ]
  },
  {
   "cell_type": "markdown",
   "id": "47613d75",
   "metadata": {
    "id": "47613d75"
   },
   "source": [
    "- После проведения предобработки данных напишем общий промежуточный вывод."
   ]
  },
  {
   "cell_type": "markdown",
   "id": "34494582",
   "metadata": {
    "id": "5166fdf8"
   },
   "source": [
    "- ***Данные нормализовали.Текстовые значения привели к общему формату,неявные дубликаты устранили,явные дубликаты удалили.***\n",
    "- ***Удалено строк с пропусками 277, удалено дубликатов 235. Общее количество 512 строк, что составляет 3,02% от изначального количества строк***"
   ]
  },
  {
   "cell_type": "markdown",
   "id": "613f0eb0",
   "metadata": {
    "id": "613f0eb0"
   },
   "source": [
    "---\n",
    "\n",
    "## 3. Фильтрация данных\n",
    "\n",
    "Коллеги хотят изучить историю продаж игр в начале XXI века, и их интересует период с 2000 по 2013 год включительно. Отберем данные по этому показателю. Сохраним новый срез данных в отдельном датафрейме, например `df_actual`."
   ]
  },
  {
   "cell_type": "code",
   "execution_count": 34,
   "id": "906577e8",
   "metadata": {
    "id": "906577e8"
   },
   "outputs": [],
   "source": [
    "# Отбираем данные за период с 2000 по 2013 год \n",
    "df_actual = pd.DataFrame(games[(games['year_of_release'] >= 2000) & (games['year_of_release'] <= 2013)])"
   ]
  },
  {
   "cell_type": "code",
   "execution_count": 35,
   "id": "44d7529f",
   "metadata": {
    "id": "44d7529f"
   },
   "outputs": [
    {
     "name": "stdout",
     "output_type": "stream",
     "text": [
      "[2006 2008 2009 2005 2007 2010 2013 2004 2002 2001 2011 2012 2003 2000]\n"
     ]
    }
   ],
   "source": [
    "# Выводим результат\n",
    "print(df_actual['year_of_release'].unique())"
   ]
  },
  {
   "cell_type": "markdown",
   "id": "a6f10b01",
   "metadata": {
    "id": "a6f10b01"
   },
   "source": [
    "---\n",
    "\n",
    "## 4. Категоризация данных\n",
    "    \n",
    "Проведем категоризацию данных:\n",
    "- Разделим все игры по оценкам пользователей и выделим такие категории: высокая оценка (от 8 до 10 включительно), средняя оценка (от 3 до 8, не включая правую границу интервала) и низкая оценка (от 0 до 3, не включая правую границу интервала)."
   ]
  },
  {
   "cell_type": "code",
   "execution_count": 36,
   "id": "3db87229",
   "metadata": {
    "id": "3db87229"
   },
   "outputs": [],
   "source": [
    "# Выделяем категории\n",
    "df_actual['user_category'] = pd.cut(\n",
    "df_actual['user_score'],\n",
    "bins = [0, 3, 8, 10],\n",
    "labels = ['низкая оценка','средняя оценка','высокая оценка'],\n",
    "right = False)"
   ]
  },
  {
   "cell_type": "code",
   "execution_count": 37,
   "id": "9b0ca0f2",
   "metadata": {
    "id": "9b0ca0f2"
   },
   "outputs": [
    {
     "data": {
      "text/html": [
       "<div>\n",
       "<style scoped>\n",
       "    .dataframe tbody tr th:only-of-type {\n",
       "        vertical-align: middle;\n",
       "    }\n",
       "\n",
       "    .dataframe tbody tr th {\n",
       "        vertical-align: top;\n",
       "    }\n",
       "\n",
       "    .dataframe thead th {\n",
       "        text-align: right;\n",
       "    }\n",
       "</style>\n",
       "<table border=\"1\" class=\"dataframe\">\n",
       "  <thead>\n",
       "    <tr style=\"text-align: right;\">\n",
       "      <th></th>\n",
       "      <th>user_category</th>\n",
       "      <th>user_score</th>\n",
       "    </tr>\n",
       "  </thead>\n",
       "  <tbody>\n",
       "    <tr>\n",
       "      <th>0</th>\n",
       "      <td>высокая оценка</td>\n",
       "      <td>8.0</td>\n",
       "    </tr>\n",
       "    <tr>\n",
       "      <th>2</th>\n",
       "      <td>высокая оценка</td>\n",
       "      <td>8.3</td>\n",
       "    </tr>\n",
       "    <tr>\n",
       "      <th>3</th>\n",
       "      <td>высокая оценка</td>\n",
       "      <td>8.0</td>\n",
       "    </tr>\n",
       "    <tr>\n",
       "      <th>6</th>\n",
       "      <td>высокая оценка</td>\n",
       "      <td>8.5</td>\n",
       "    </tr>\n",
       "    <tr>\n",
       "      <th>7</th>\n",
       "      <td>средняя оценка</td>\n",
       "      <td>6.6</td>\n",
       "    </tr>\n",
       "  </tbody>\n",
       "</table>\n",
       "</div>"
      ],
      "text/plain": [
       "    user_category  user_score\n",
       "0  высокая оценка         8.0\n",
       "2  высокая оценка         8.3\n",
       "3  высокая оценка         8.0\n",
       "6  высокая оценка         8.5\n",
       "7  средняя оценка         6.6"
      ]
     },
     "execution_count": 37,
     "metadata": {},
     "output_type": "execute_result"
    }
   ],
   "source": [
    "# Проверяем результат\n",
    "df_actual[['user_category','user_score']].head()"
   ]
  },
  {
   "cell_type": "markdown",
   "id": "f8f34b40",
   "metadata": {
    "id": "f8f34b40"
   },
   "source": [
    "- Разделим все игры по оценкам критиков и выделим такие категории: высокая оценка (от 80 до 100 включительно), средняя оценка (от 30 до 80, не включая правую границу интервала) и низкая оценка (от 0 до 30, не включая правую границу интервала)."
   ]
  },
  {
   "cell_type": "code",
   "execution_count": 38,
   "id": "e3f7acb0",
   "metadata": {
    "id": "e3f7acb0"
   },
   "outputs": [],
   "source": [
    "# Выделяем категории\n",
    "df_actual['critic_category'] = pd.cut(\n",
    "df_actual['critic_score'],\n",
    "bins = [0, 30, 80, 100],\n",
    "labels = ['низкая оценка','средняя оценка','высокая оценка'],\n",
    "right = False)"
   ]
  },
  {
   "cell_type": "code",
   "execution_count": 39,
   "id": "548fde17",
   "metadata": {
    "id": "548fde17"
   },
   "outputs": [
    {
     "data": {
      "text/html": [
       "<div>\n",
       "<style scoped>\n",
       "    .dataframe tbody tr th:only-of-type {\n",
       "        vertical-align: middle;\n",
       "    }\n",
       "\n",
       "    .dataframe tbody tr th {\n",
       "        vertical-align: top;\n",
       "    }\n",
       "\n",
       "    .dataframe thead th {\n",
       "        text-align: right;\n",
       "    }\n",
       "</style>\n",
       "<table border=\"1\" class=\"dataframe\">\n",
       "  <thead>\n",
       "    <tr style=\"text-align: right;\">\n",
       "      <th></th>\n",
       "      <th>critic_category</th>\n",
       "      <th>critic_score</th>\n",
       "    </tr>\n",
       "  </thead>\n",
       "  <tbody>\n",
       "    <tr>\n",
       "      <th>0</th>\n",
       "      <td>средняя оценка</td>\n",
       "      <td>76.0</td>\n",
       "    </tr>\n",
       "    <tr>\n",
       "      <th>2</th>\n",
       "      <td>высокая оценка</td>\n",
       "      <td>82.0</td>\n",
       "    </tr>\n",
       "    <tr>\n",
       "      <th>3</th>\n",
       "      <td>высокая оценка</td>\n",
       "      <td>80.0</td>\n",
       "    </tr>\n",
       "    <tr>\n",
       "      <th>6</th>\n",
       "      <td>высокая оценка</td>\n",
       "      <td>89.0</td>\n",
       "    </tr>\n",
       "    <tr>\n",
       "      <th>7</th>\n",
       "      <td>средняя оценка</td>\n",
       "      <td>58.0</td>\n",
       "    </tr>\n",
       "  </tbody>\n",
       "</table>\n",
       "</div>"
      ],
      "text/plain": [
       "  critic_category  critic_score\n",
       "0  средняя оценка          76.0\n",
       "2  высокая оценка          82.0\n",
       "3  высокая оценка          80.0\n",
       "6  высокая оценка          89.0\n",
       "7  средняя оценка          58.0"
      ]
     },
     "execution_count": 39,
     "metadata": {},
     "output_type": "execute_result"
    }
   ],
   "source": [
    "# Проверяем результат\n",
    "df_actual[['critic_category','critic_score']].head()"
   ]
  },
  {
   "cell_type": "markdown",
   "id": "olkTlTlAUDR9",
   "metadata": {
    "id": "olkTlTlAUDR9"
   },
   "source": [
    "- После категоризации данных проверим результат: сгруппируем данные по выделенным категориям и посчитаем количество игр в каждой категории."
   ]
  },
  {
   "cell_type": "code",
   "execution_count": 40,
   "id": "HW0Nsp-4UMSL",
   "metadata": {
    "id": "HW0Nsp-4UMSL"
   },
   "outputs": [],
   "source": [
    "# Группируем данные по двум категориям и считаем количество строк в каждой группе\n",
    "games_categories = df_actual[['user_category', 'critic_category']].value_counts()"
   ]
  },
  {
   "cell_type": "code",
   "execution_count": 41,
   "id": "x2ne0HIpUMMD",
   "metadata": {
    "id": "x2ne0HIpUMMD"
   },
   "outputs": [
    {
     "data": {
      "text/plain": [
       "user_category   critic_category\n",
       "средняя оценка  средняя оценка     3157\n",
       "высокая оценка  средняя оценка     1167\n",
       "                высокая оценка     1017\n",
       "средняя оценка  высокая оценка      641\n",
       "низкая оценка   средняя оценка       77\n",
       "средняя оценка  низкая оценка        30\n",
       "низкая оценка   низкая оценка        17\n",
       "                высокая оценка        1\n",
       "высокая оценка  низкая оценка         1\n",
       "dtype: int64"
      ]
     },
     "execution_count": 41,
     "metadata": {},
     "output_type": "execute_result"
    }
   ],
   "source": [
    "# Проверяем результат\n",
    "games_categories"
   ]
  },
  {
   "cell_type": "markdown",
   "id": "6a98444c",
   "metadata": {
    "id": "6a98444c"
   },
   "source": [
    "- Выделим топ-7 платформ по количеству игр, выпущенных за весь актуальный период."
   ]
  },
  {
   "cell_type": "code",
   "execution_count": 42,
   "id": "003caa2c",
   "metadata": {
    "id": "003caa2c"
   },
   "outputs": [],
   "source": [
    "# Сгруппируем данные по платформе и посчитаем количество игр\n",
    "platforms = df_actual.groupby('platform')['name'].count()"
   ]
  },
  {
   "cell_type": "code",
   "execution_count": 43,
   "id": "e8d8a1d0",
   "metadata": {
    "id": "e8d8a1d0"
   },
   "outputs": [],
   "source": [
    "# Отсортируем по убыванию \n",
    "platforms = platforms.sort_values(ascending=False)"
   ]
  },
  {
   "cell_type": "code",
   "execution_count": 44,
   "id": "f240904a",
   "metadata": {
    "id": "f240904a"
   },
   "outputs": [
    {
     "data": {
      "text/plain": [
       "platform\n",
       "ps2     2127\n",
       "ds      2120\n",
       "wii     1275\n",
       "psp     1180\n",
       "x360    1121\n",
       "ps3     1087\n",
       "gba      811\n",
       "Name: name, dtype: int64"
      ]
     },
     "execution_count": 44,
     "metadata": {},
     "output_type": "execute_result"
    }
   ],
   "source": [
    "# Проверяем результат\n",
    "platforms.head(7)"
   ]
  },
  {
   "cell_type": "markdown",
   "id": "c0158881",
   "metadata": {
    "id": "c0158881"
   },
   "source": [
    "---\n",
    "\n",
    "## 5. Итоговый вывод\n"
   ]
  },
  {
   "cell_type": "markdown",
   "id": "224b4465",
   "metadata": {
    "id": "20175f5b"
   },
   "source": [
    "  - В данной работе мы изучили историю продаж игр в начале XXI века за период с 2000 по 2013 год включительно.Были выполнены задачи:\n",
    "- **Предобработка данных.** Удалили пропуски в столбцах `name`, `year_of_release`, `genre`, привели названия столбцов к нижнему регистру и стилю snake_case, преобразовали типы данных, заменили пропуски на индикаторы в столбцах `critic_score` и`user_score`,устранили дубликаты.\n",
    "- **Фильтрация данных.** Отфильтровали данные по годам. Сохранили новый срез данных в отдельном датафрейме `df_actual`\n",
    "- **Категоризация данных.** Разделили все игры по оценкам пользователей и выделили такие категории: `высокая оценка` (от 8 до 10 включительно), `средняя оценка` (от 3 до 8, не включая правую границу интервала) и `низкая оценка` (от 0 до 3, не включая правую границу интервала).Также Разделили все игры по оценкам критиков и выделили такие категории: `высокая оценка` (от 80 до 100 включительно), `средняя оценка` (от 30 до 80, не включая правую границу интервала) и `низкая оценка` (от 0 до 30, не включая правую границу интервала).\n",
    "- **Анализ данных.** Выделили топ-7 платформ по количеству игр, выпущенных за весь актуальный период.Добавлены новые столбцы `user_category`: оценки пользователей и `critic_category`: оценки критиков в срез данных `df_actual` "
   ]
  },
  {
   "cell_type": "markdown",
   "id": "414b3d54",
   "metadata": {
    "id": "0c1afc40"
   },
   "source": [
    "- ***Основной вывод***\n",
    "   - Большее число игр получают средние оценки как от критиков так и от пользователей. Игр с высокими оценками меньше.Самыми популярными платформами за 2000-2013 годы являются `ps2`,`ds` "
   ]
  }
 ],
 "metadata": {
  "ExecuteTimeLog": [
   {
    "duration": 46,
    "start_time": "2025-03-22T06:20:20.265Z"
   },
   {
    "duration": 443,
    "start_time": "2025-03-22T06:20:43.095Z"
   },
   {
    "duration": 110,
    "start_time": "2025-03-22T06:20:44.958Z"
   },
   {
    "duration": 17,
    "start_time": "2025-03-22T06:20:46.334Z"
   },
   {
    "duration": 3,
    "start_time": "2025-03-22T06:30:57.114Z"
   },
   {
    "duration": 107,
    "start_time": "2025-03-22T06:30:58.641Z"
   },
   {
    "duration": 15,
    "start_time": "2025-03-22T06:31:01.562Z"
   },
   {
    "duration": 25,
    "start_time": "2025-03-22T06:58:21.661Z"
   },
   {
    "duration": 87,
    "start_time": "2025-03-22T12:02:24.220Z"
   },
   {
    "duration": 6,
    "start_time": "2025-03-22T12:03:00.448Z"
   },
   {
    "duration": 6,
    "start_time": "2025-03-22T12:04:15.337Z"
   },
   {
    "duration": 7,
    "start_time": "2025-03-22T12:05:48.043Z"
   },
   {
    "duration": 353,
    "start_time": "2025-03-22T12:06:50.918Z"
   },
   {
    "duration": 87,
    "start_time": "2025-03-22T12:06:52.367Z"
   },
   {
    "duration": 22,
    "start_time": "2025-03-22T12:06:55.834Z"
   },
   {
    "duration": 27,
    "start_time": "2025-03-22T12:06:59.315Z"
   },
   {
    "duration": 4,
    "start_time": "2025-03-22T12:07:02.995Z"
   },
   {
    "duration": 4,
    "start_time": "2025-03-22T12:13:43.178Z"
   },
   {
    "duration": 36,
    "start_time": "2025-03-22T12:13:46.278Z"
   },
   {
    "duration": 4,
    "start_time": "2025-03-22T12:14:20.598Z"
   },
   {
    "duration": 3,
    "start_time": "2025-03-22T12:14:28.022Z"
   },
   {
    "duration": 6,
    "start_time": "2025-03-22T12:14:52.213Z"
   },
   {
    "duration": 3,
    "start_time": "2025-03-22T12:16:36.686Z"
   },
   {
    "duration": 82,
    "start_time": "2025-03-22T12:17:35.792Z"
   },
   {
    "duration": 4,
    "start_time": "2025-03-22T12:17:44.566Z"
   },
   {
    "duration": 4,
    "start_time": "2025-03-22T12:17:58.489Z"
   },
   {
    "duration": 45,
    "start_time": "2025-03-22T16:37:53.661Z"
   },
   {
    "duration": 6,
    "start_time": "2025-03-22T16:37:57.962Z"
   },
   {
    "duration": 437,
    "start_time": "2025-03-22T16:38:09.284Z"
   },
   {
    "duration": 161,
    "start_time": "2025-03-22T16:38:11.140Z"
   },
   {
    "duration": 16,
    "start_time": "2025-03-22T16:38:15.092Z"
   },
   {
    "duration": 18,
    "start_time": "2025-03-22T16:38:19.720Z"
   },
   {
    "duration": 4,
    "start_time": "2025-03-22T16:38:23.406Z"
   },
   {
    "duration": 4,
    "start_time": "2025-03-22T16:38:26.876Z"
   },
   {
    "duration": 3,
    "start_time": "2025-03-22T16:38:31.825Z"
   },
   {
    "duration": 28,
    "start_time": "2025-03-22T16:38:35.860Z"
   },
   {
    "duration": 14,
    "start_time": "2025-03-22T16:38:56.702Z"
   },
   {
    "duration": 7,
    "start_time": "2025-03-22T16:40:34.283Z"
   },
   {
    "duration": 5,
    "start_time": "2025-03-22T16:50:47.700Z"
   },
   {
    "duration": 3,
    "start_time": "2025-03-22T16:55:58.237Z"
   },
   {
    "duration": 3,
    "start_time": "2025-03-22T16:56:01.085Z"
   },
   {
    "duration": 4,
    "start_time": "2025-03-22T16:56:49.087Z"
   },
   {
    "duration": 65,
    "start_time": "2025-03-22T16:57:35.124Z"
   },
   {
    "duration": 7,
    "start_time": "2025-03-22T17:01:59.271Z"
   },
   {
    "duration": 13,
    "start_time": "2025-03-22T17:02:10.892Z"
   },
   {
    "duration": 100,
    "start_time": "2025-03-22T17:03:26.660Z"
   },
   {
    "duration": 8,
    "start_time": "2025-03-22T17:11:04.475Z"
   },
   {
    "duration": 8,
    "start_time": "2025-03-22T17:11:11.340Z"
   },
   {
    "duration": 14,
    "start_time": "2025-03-22T17:12:08.047Z"
   },
   {
    "duration": 7,
    "start_time": "2025-03-22T17:16:04.217Z"
   },
   {
    "duration": 7,
    "start_time": "2025-03-22T17:16:12.050Z"
   },
   {
    "duration": 7,
    "start_time": "2025-03-22T17:18:36.419Z"
   },
   {
    "duration": 8,
    "start_time": "2025-03-22T17:18:39.523Z"
   },
   {
    "duration": 4,
    "start_time": "2025-03-22T17:18:41.122Z"
   },
   {
    "duration": 4,
    "start_time": "2025-03-22T17:19:01.841Z"
   },
   {
    "duration": 4,
    "start_time": "2025-03-22T17:22:15.683Z"
   },
   {
    "duration": 4,
    "start_time": "2025-03-22T17:22:56.574Z"
   },
   {
    "duration": 8,
    "start_time": "2025-03-22T17:23:30.813Z"
   },
   {
    "duration": 4,
    "start_time": "2025-03-22T17:23:35.847Z"
   },
   {
    "duration": 109,
    "start_time": "2025-03-22T17:27:00.239Z"
   },
   {
    "duration": 9,
    "start_time": "2025-03-22T17:47:26.094Z"
   },
   {
    "duration": 8,
    "start_time": "2025-03-22T17:58:54.611Z"
   },
   {
    "duration": 114,
    "start_time": "2025-03-22T18:01:58.305Z"
   },
   {
    "duration": 8,
    "start_time": "2025-03-22T18:02:20.147Z"
   },
   {
    "duration": 141,
    "start_time": "2025-03-22T18:03:15.411Z"
   },
   {
    "duration": 4,
    "start_time": "2025-03-22T18:03:16.427Z"
   },
   {
    "duration": 7,
    "start_time": "2025-03-22T18:03:27.233Z"
   },
   {
    "duration": 8,
    "start_time": "2025-03-22T18:03:52.253Z"
   },
   {
    "duration": 103,
    "start_time": "2025-03-22T18:03:53.216Z"
   },
   {
    "duration": 8,
    "start_time": "2025-03-22T18:03:53.970Z"
   },
   {
    "duration": 8,
    "start_time": "2025-03-22T18:05:09.433Z"
   },
   {
    "duration": 5,
    "start_time": "2025-03-22T18:05:10.757Z"
   },
   {
    "duration": 7,
    "start_time": "2025-03-22T18:06:52.611Z"
   },
   {
    "duration": 5,
    "start_time": "2025-03-22T18:07:03.762Z"
   },
   {
    "duration": 4,
    "start_time": "2025-03-22T18:08:47.385Z"
   },
   {
    "duration": 4,
    "start_time": "2025-03-22T18:08:49.216Z"
   },
   {
    "duration": 4,
    "start_time": "2025-03-22T18:11:48.572Z"
   },
   {
    "duration": 4,
    "start_time": "2025-03-22T18:12:01.178Z"
   },
   {
    "duration": 7,
    "start_time": "2025-03-22T18:12:21.488Z"
   },
   {
    "duration": 4,
    "start_time": "2025-03-22T18:12:27.391Z"
   },
   {
    "duration": 4,
    "start_time": "2025-03-22T18:12:28.047Z"
   },
   {
    "duration": 8,
    "start_time": "2025-03-22T18:12:31.766Z"
   },
   {
    "duration": 8,
    "start_time": "2025-03-22T18:12:41.408Z"
   },
   {
    "duration": 5,
    "start_time": "2025-03-22T18:12:42.372Z"
   },
   {
    "duration": 4,
    "start_time": "2025-03-22T18:12:43.213Z"
   },
   {
    "duration": 4,
    "start_time": "2025-03-22T18:12:44.031Z"
   },
   {
    "duration": 9,
    "start_time": "2025-03-22T18:12:45.255Z"
   },
   {
    "duration": 5,
    "start_time": "2025-03-22T18:15:22.391Z"
   },
   {
    "duration": 5,
    "start_time": "2025-03-22T18:15:40.062Z"
   },
   {
    "duration": 5,
    "start_time": "2025-03-22T18:16:07.837Z"
   },
   {
    "duration": 8,
    "start_time": "2025-03-22T18:16:33.941Z"
   },
   {
    "duration": 10,
    "start_time": "2025-03-22T18:17:35.984Z"
   },
   {
    "duration": 5,
    "start_time": "2025-03-22T18:17:36.840Z"
   },
   {
    "duration": 4,
    "start_time": "2025-03-22T18:17:37.483Z"
   },
   {
    "duration": 4,
    "start_time": "2025-03-22T18:17:38.379Z"
   },
   {
    "duration": 8,
    "start_time": "2025-03-22T18:18:46.891Z"
   },
   {
    "duration": 414,
    "start_time": "2025-03-22T18:20:27.881Z"
   },
   {
    "duration": 92,
    "start_time": "2025-03-22T18:20:28.297Z"
   },
   {
    "duration": 15,
    "start_time": "2025-03-22T18:20:28.391Z"
   },
   {
    "duration": 19,
    "start_time": "2025-03-22T18:20:28.407Z"
   },
   {
    "duration": 3,
    "start_time": "2025-03-22T18:20:28.428Z"
   },
   {
    "duration": 3,
    "start_time": "2025-03-22T18:20:28.433Z"
   },
   {
    "duration": 7,
    "start_time": "2025-03-22T18:20:28.437Z"
   },
   {
    "duration": 13,
    "start_time": "2025-03-22T18:20:28.445Z"
   },
   {
    "duration": 18,
    "start_time": "2025-03-22T18:20:28.460Z"
   },
   {
    "duration": 3,
    "start_time": "2025-03-22T18:20:28.480Z"
   },
   {
    "duration": 23,
    "start_time": "2025-03-22T18:20:28.485Z"
   },
   {
    "duration": 4,
    "start_time": "2025-03-22T18:20:28.510Z"
   },
   {
    "duration": 11,
    "start_time": "2025-03-22T18:20:28.515Z"
   },
   {
    "duration": 7,
    "start_time": "2025-03-22T18:20:28.528Z"
   },
   {
    "duration": 4,
    "start_time": "2025-03-22T18:20:28.536Z"
   },
   {
    "duration": 10,
    "start_time": "2025-03-22T18:20:28.541Z"
   },
   {
    "duration": 4,
    "start_time": "2025-03-22T18:20:28.552Z"
   },
   {
    "duration": 16,
    "start_time": "2025-03-22T18:20:28.557Z"
   },
   {
    "duration": 35,
    "start_time": "2025-03-22T18:20:28.574Z"
   },
   {
    "duration": 4,
    "start_time": "2025-03-22T18:20:28.610Z"
   },
   {
    "duration": 4,
    "start_time": "2025-03-22T18:20:28.615Z"
   },
   {
    "duration": 9,
    "start_time": "2025-03-22T18:20:28.620Z"
   },
   {
    "duration": 367,
    "start_time": "2025-03-22T18:26:43.929Z"
   },
   {
    "duration": 114,
    "start_time": "2025-03-22T18:26:44.298Z"
   },
   {
    "duration": 15,
    "start_time": "2025-03-22T18:26:44.413Z"
   },
   {
    "duration": 9,
    "start_time": "2025-03-22T18:26:44.430Z"
   },
   {
    "duration": 6,
    "start_time": "2025-03-22T18:26:44.441Z"
   },
   {
    "duration": 4,
    "start_time": "2025-03-22T18:26:44.449Z"
   },
   {
    "duration": 7,
    "start_time": "2025-03-22T18:26:44.454Z"
   },
   {
    "duration": 24,
    "start_time": "2025-03-22T18:26:44.462Z"
   },
   {
    "duration": 20,
    "start_time": "2025-03-22T18:26:44.487Z"
   },
   {
    "duration": 25,
    "start_time": "2025-03-22T18:26:44.509Z"
   },
   {
    "duration": 7,
    "start_time": "2025-03-22T18:26:44.535Z"
   },
   {
    "duration": 4,
    "start_time": "2025-03-22T18:26:44.544Z"
   },
   {
    "duration": 8,
    "start_time": "2025-03-22T18:26:44.549Z"
   },
   {
    "duration": 7,
    "start_time": "2025-03-22T18:26:44.558Z"
   },
   {
    "duration": 3,
    "start_time": "2025-03-22T18:26:44.566Z"
   },
   {
    "duration": 14,
    "start_time": "2025-03-22T18:26:44.570Z"
   },
   {
    "duration": 3,
    "start_time": "2025-03-22T18:26:44.586Z"
   },
   {
    "duration": 7,
    "start_time": "2025-03-22T18:26:44.590Z"
   },
   {
    "duration": 9,
    "start_time": "2025-03-22T18:26:44.599Z"
   },
   {
    "duration": 3,
    "start_time": "2025-03-22T18:26:44.609Z"
   },
   {
    "duration": 7,
    "start_time": "2025-03-22T18:26:44.613Z"
   },
   {
    "duration": 11,
    "start_time": "2025-03-22T18:26:44.621Z"
   },
   {
    "duration": 8,
    "start_time": "2025-03-22T18:26:57.694Z"
   },
   {
    "duration": 4,
    "start_time": "2025-03-22T18:31:26.195Z"
   },
   {
    "duration": 339,
    "start_time": "2025-03-22T18:31:37.057Z"
   },
   {
    "duration": 80,
    "start_time": "2025-03-22T18:31:37.398Z"
   },
   {
    "duration": 15,
    "start_time": "2025-03-22T18:31:37.479Z"
   },
   {
    "duration": 25,
    "start_time": "2025-03-22T18:31:37.495Z"
   },
   {
    "duration": 20,
    "start_time": "2025-03-22T18:31:37.522Z"
   },
   {
    "duration": 15,
    "start_time": "2025-03-22T18:31:37.543Z"
   },
   {
    "duration": 20,
    "start_time": "2025-03-22T18:31:37.559Z"
   },
   {
    "duration": 34,
    "start_time": "2025-03-22T18:31:37.581Z"
   },
   {
    "duration": 27,
    "start_time": "2025-03-22T18:31:37.616Z"
   },
   {
    "duration": 29,
    "start_time": "2025-03-22T18:31:37.644Z"
   },
   {
    "duration": 5,
    "start_time": "2025-03-22T18:31:37.675Z"
   },
   {
    "duration": 4,
    "start_time": "2025-03-22T18:31:37.681Z"
   },
   {
    "duration": 8,
    "start_time": "2025-03-22T18:31:37.687Z"
   },
   {
    "duration": 9,
    "start_time": "2025-03-22T18:31:37.697Z"
   },
   {
    "duration": 11,
    "start_time": "2025-03-22T18:31:37.707Z"
   },
   {
    "duration": 11,
    "start_time": "2025-03-22T18:31:37.719Z"
   },
   {
    "duration": 4,
    "start_time": "2025-03-22T18:31:37.731Z"
   },
   {
    "duration": 9,
    "start_time": "2025-03-22T18:31:37.736Z"
   },
   {
    "duration": 12,
    "start_time": "2025-03-22T18:31:37.746Z"
   },
   {
    "duration": 3,
    "start_time": "2025-03-22T18:31:37.760Z"
   },
   {
    "duration": 4,
    "start_time": "2025-03-22T18:31:37.764Z"
   },
   {
    "duration": 10,
    "start_time": "2025-03-22T18:31:37.769Z"
   },
   {
    "duration": 44,
    "start_time": "2025-03-23T04:29:12.012Z"
   },
   {
    "duration": 6,
    "start_time": "2025-03-23T04:29:20.292Z"
   },
   {
    "duration": 368,
    "start_time": "2025-03-23T04:29:29.440Z"
   },
   {
    "duration": 104,
    "start_time": "2025-03-23T04:29:29.811Z"
   },
   {
    "duration": 17,
    "start_time": "2025-03-23T04:29:29.917Z"
   },
   {
    "duration": 10,
    "start_time": "2025-03-23T04:29:29.935Z"
   },
   {
    "duration": 10,
    "start_time": "2025-03-23T04:29:29.947Z"
   },
   {
    "duration": 3,
    "start_time": "2025-03-23T04:29:29.958Z"
   },
   {
    "duration": 4,
    "start_time": "2025-03-23T04:29:29.963Z"
   },
   {
    "duration": 43,
    "start_time": "2025-03-23T04:29:29.968Z"
   },
   {
    "duration": 8,
    "start_time": "2025-03-23T04:29:30.013Z"
   },
   {
    "duration": 80,
    "start_time": "2025-03-23T04:29:30.022Z"
   },
   {
    "duration": 103,
    "start_time": "2025-03-23T04:29:30.103Z"
   },
   {
    "duration": 31,
    "start_time": "2025-03-23T04:29:30.207Z"
   },
   {
    "duration": 61,
    "start_time": "2025-03-23T04:29:30.240Z"
   },
   {
    "duration": 25,
    "start_time": "2025-03-23T04:29:30.303Z"
   },
   {
    "duration": 44,
    "start_time": "2025-03-23T04:29:30.330Z"
   },
   {
    "duration": 35,
    "start_time": "2025-03-23T04:29:30.376Z"
   },
   {
    "duration": 19,
    "start_time": "2025-03-23T04:29:30.412Z"
   },
   {
    "duration": 81,
    "start_time": "2025-03-23T04:29:30.433Z"
   },
   {
    "duration": 14,
    "start_time": "2025-03-23T04:29:30.516Z"
   },
   {
    "duration": 7,
    "start_time": "2025-03-23T04:29:30.532Z"
   },
   {
    "duration": 8,
    "start_time": "2025-03-23T04:29:30.541Z"
   },
   {
    "duration": 22,
    "start_time": "2025-03-23T04:29:30.551Z"
   },
   {
    "duration": 32,
    "start_time": "2025-03-23T04:29:30.576Z"
   },
   {
    "duration": 73,
    "start_time": "2025-03-23T04:50:24.486Z"
   },
   {
    "duration": 7,
    "start_time": "2025-03-23T04:50:46.072Z"
   },
   {
    "duration": 73,
    "start_time": "2025-03-23T04:50:50.752Z"
   },
   {
    "duration": 4,
    "start_time": "2025-03-23T04:51:47.460Z"
   },
   {
    "duration": 4,
    "start_time": "2025-03-23T04:53:06.345Z"
   },
   {
    "duration": 7,
    "start_time": "2025-03-23T04:54:13.738Z"
   },
   {
    "duration": 69,
    "start_time": "2025-03-23T05:07:29.326Z"
   },
   {
    "duration": 8,
    "start_time": "2025-03-23T05:08:04.644Z"
   },
   {
    "duration": 19,
    "start_time": "2025-03-23T05:09:18.564Z"
   },
   {
    "duration": 10,
    "start_time": "2025-03-23T05:09:36.724Z"
   },
   {
    "duration": 7,
    "start_time": "2025-03-23T05:11:29.458Z"
   },
   {
    "duration": 10,
    "start_time": "2025-03-23T05:11:38.989Z"
   },
   {
    "duration": 8,
    "start_time": "2025-03-23T05:12:35.476Z"
   },
   {
    "duration": 6,
    "start_time": "2025-03-23T05:14:03.967Z"
   },
   {
    "duration": 367,
    "start_time": "2025-03-23T05:14:36.456Z"
   },
   {
    "duration": 140,
    "start_time": "2025-03-23T05:14:36.826Z"
   },
   {
    "duration": 15,
    "start_time": "2025-03-23T05:14:36.968Z"
   },
   {
    "duration": 43,
    "start_time": "2025-03-23T05:14:36.984Z"
   },
   {
    "duration": 5,
    "start_time": "2025-03-23T05:14:37.029Z"
   },
   {
    "duration": 28,
    "start_time": "2025-03-23T05:14:37.035Z"
   },
   {
    "duration": 30,
    "start_time": "2025-03-23T05:14:37.065Z"
   },
   {
    "duration": 36,
    "start_time": "2025-03-23T05:14:37.097Z"
   },
   {
    "duration": 21,
    "start_time": "2025-03-23T05:14:37.134Z"
   },
   {
    "duration": 9,
    "start_time": "2025-03-23T05:14:37.156Z"
   },
   {
    "duration": 5,
    "start_time": "2025-03-23T05:14:37.167Z"
   },
   {
    "duration": 8,
    "start_time": "2025-03-23T05:14:37.174Z"
   },
   {
    "duration": 45,
    "start_time": "2025-03-23T05:14:37.184Z"
   },
   {
    "duration": 7,
    "start_time": "2025-03-23T05:14:37.232Z"
   },
   {
    "duration": 5,
    "start_time": "2025-03-23T05:14:37.240Z"
   },
   {
    "duration": 11,
    "start_time": "2025-03-23T05:14:37.246Z"
   },
   {
    "duration": 23,
    "start_time": "2025-03-23T05:14:37.258Z"
   },
   {
    "duration": 18,
    "start_time": "2025-03-23T05:14:37.282Z"
   },
   {
    "duration": 4,
    "start_time": "2025-03-23T05:14:37.301Z"
   },
   {
    "duration": 16,
    "start_time": "2025-03-23T05:14:37.319Z"
   },
   {
    "duration": 15,
    "start_time": "2025-03-23T05:14:37.337Z"
   },
   {
    "duration": 25,
    "start_time": "2025-03-23T05:14:37.353Z"
   },
   {
    "duration": 9,
    "start_time": "2025-03-23T05:14:37.379Z"
   },
   {
    "duration": 29,
    "start_time": "2025-03-23T05:14:37.389Z"
   },
   {
    "duration": 7,
    "start_time": "2025-03-23T05:14:37.420Z"
   },
   {
    "duration": 18,
    "start_time": "2025-03-23T05:15:36.780Z"
   },
   {
    "duration": 7,
    "start_time": "2025-03-23T05:15:38.339Z"
   },
   {
    "duration": 18,
    "start_time": "2025-03-23T05:16:00.076Z"
   },
   {
    "duration": 19,
    "start_time": "2025-03-23T05:16:05.875Z"
   },
   {
    "duration": 8,
    "start_time": "2025-03-23T05:16:06.828Z"
   },
   {
    "duration": 397,
    "start_time": "2025-03-23T05:16:37.330Z"
   },
   {
    "duration": 113,
    "start_time": "2025-03-23T05:16:37.729Z"
   },
   {
    "duration": 15,
    "start_time": "2025-03-23T05:16:37.843Z"
   },
   {
    "duration": 8,
    "start_time": "2025-03-23T05:16:37.859Z"
   },
   {
    "duration": 4,
    "start_time": "2025-03-23T05:16:37.869Z"
   },
   {
    "duration": 9,
    "start_time": "2025-03-23T05:16:37.874Z"
   },
   {
    "duration": 36,
    "start_time": "2025-03-23T05:16:37.884Z"
   },
   {
    "duration": 54,
    "start_time": "2025-03-23T05:16:37.922Z"
   },
   {
    "duration": 8,
    "start_time": "2025-03-23T05:16:37.978Z"
   },
   {
    "duration": 4,
    "start_time": "2025-03-23T05:16:37.988Z"
   },
   {
    "duration": 3,
    "start_time": "2025-03-23T05:16:37.994Z"
   },
   {
    "duration": 4,
    "start_time": "2025-03-23T05:16:37.999Z"
   },
   {
    "duration": 18,
    "start_time": "2025-03-23T05:16:38.004Z"
   },
   {
    "duration": 7,
    "start_time": "2025-03-23T05:16:38.025Z"
   },
   {
    "duration": 4,
    "start_time": "2025-03-23T05:16:38.033Z"
   },
   {
    "duration": 9,
    "start_time": "2025-03-23T05:16:38.038Z"
   },
   {
    "duration": 3,
    "start_time": "2025-03-23T05:16:38.048Z"
   },
   {
    "duration": 8,
    "start_time": "2025-03-23T05:16:38.053Z"
   },
   {
    "duration": 5,
    "start_time": "2025-03-23T05:16:38.062Z"
   },
   {
    "duration": 4,
    "start_time": "2025-03-23T05:16:38.068Z"
   },
   {
    "duration": 46,
    "start_time": "2025-03-23T05:16:38.073Z"
   },
   {
    "duration": 8,
    "start_time": "2025-03-23T05:16:38.120Z"
   },
   {
    "duration": 9,
    "start_time": "2025-03-23T05:16:38.129Z"
   },
   {
    "duration": 19,
    "start_time": "2025-03-23T05:16:38.139Z"
   },
   {
    "duration": 6,
    "start_time": "2025-03-23T05:16:38.160Z"
   },
   {
    "duration": 13,
    "start_time": "2025-03-23T05:26:42.577Z"
   },
   {
    "duration": 14,
    "start_time": "2025-03-23T05:28:20.453Z"
   },
   {
    "duration": 7,
    "start_time": "2025-03-23T05:29:00.902Z"
   },
   {
    "duration": 20,
    "start_time": "2025-03-23T05:29:04.921Z"
   },
   {
    "duration": 13,
    "start_time": "2025-03-23T05:29:11.374Z"
   },
   {
    "duration": 8,
    "start_time": "2025-03-23T05:29:11.922Z"
   },
   {
    "duration": 8,
    "start_time": "2025-03-23T05:29:31.031Z"
   },
   {
    "duration": 19,
    "start_time": "2025-03-23T05:29:32.815Z"
   },
   {
    "duration": 397,
    "start_time": "2025-03-23T05:29:54.995Z"
   },
   {
    "duration": 122,
    "start_time": "2025-03-23T05:29:55.394Z"
   },
   {
    "duration": 23,
    "start_time": "2025-03-23T05:29:55.520Z"
   },
   {
    "duration": 9,
    "start_time": "2025-03-23T05:29:55.545Z"
   },
   {
    "duration": 4,
    "start_time": "2025-03-23T05:29:55.556Z"
   },
   {
    "duration": 6,
    "start_time": "2025-03-23T05:29:55.561Z"
   },
   {
    "duration": 6,
    "start_time": "2025-03-23T05:29:55.568Z"
   },
   {
    "duration": 43,
    "start_time": "2025-03-23T05:29:55.576Z"
   },
   {
    "duration": 15,
    "start_time": "2025-03-23T05:29:55.626Z"
   },
   {
    "duration": 22,
    "start_time": "2025-03-23T05:29:55.643Z"
   },
   {
    "duration": 6,
    "start_time": "2025-03-23T05:29:55.667Z"
   },
   {
    "duration": 3,
    "start_time": "2025-03-23T05:29:55.675Z"
   },
   {
    "duration": 8,
    "start_time": "2025-03-23T05:29:55.680Z"
   },
   {
    "duration": 6,
    "start_time": "2025-03-23T05:29:55.691Z"
   },
   {
    "duration": 4,
    "start_time": "2025-03-23T05:29:55.699Z"
   },
   {
    "duration": 36,
    "start_time": "2025-03-23T05:29:55.704Z"
   },
   {
    "duration": 3,
    "start_time": "2025-03-23T05:29:55.742Z"
   },
   {
    "duration": 9,
    "start_time": "2025-03-23T05:29:55.746Z"
   },
   {
    "duration": 4,
    "start_time": "2025-03-23T05:29:55.756Z"
   },
   {
    "duration": 6,
    "start_time": "2025-03-23T05:29:55.761Z"
   },
   {
    "duration": 4,
    "start_time": "2025-03-23T05:29:55.768Z"
   },
   {
    "duration": 8,
    "start_time": "2025-03-23T05:29:55.773Z"
   },
   {
    "duration": 9,
    "start_time": "2025-03-23T05:29:55.782Z"
   },
   {
    "duration": 40,
    "start_time": "2025-03-23T05:29:55.792Z"
   },
   {
    "duration": 6,
    "start_time": "2025-03-23T05:29:55.834Z"
   },
   {
    "duration": 14,
    "start_time": "2025-03-23T05:29:55.842Z"
   },
   {
    "duration": 11,
    "start_time": "2025-03-23T05:29:55.857Z"
   },
   {
    "duration": 15,
    "start_time": "2025-03-23T05:30:23.254Z"
   },
   {
    "duration": 372,
    "start_time": "2025-03-23T05:30:29.667Z"
   },
   {
    "duration": 117,
    "start_time": "2025-03-23T05:30:30.042Z"
   },
   {
    "duration": 16,
    "start_time": "2025-03-23T05:30:30.160Z"
   },
   {
    "duration": 30,
    "start_time": "2025-03-23T05:30:30.178Z"
   },
   {
    "duration": 18,
    "start_time": "2025-03-23T05:30:30.211Z"
   },
   {
    "duration": 50,
    "start_time": "2025-03-23T05:30:30.231Z"
   },
   {
    "duration": 13,
    "start_time": "2025-03-23T05:30:30.283Z"
   },
   {
    "duration": 26,
    "start_time": "2025-03-23T05:30:30.298Z"
   },
   {
    "duration": 72,
    "start_time": "2025-03-23T05:30:30.326Z"
   },
   {
    "duration": 59,
    "start_time": "2025-03-23T05:30:30.400Z"
   },
   {
    "duration": 19,
    "start_time": "2025-03-23T05:30:30.461Z"
   },
   {
    "duration": 19,
    "start_time": "2025-03-23T05:30:30.482Z"
   },
   {
    "duration": 21,
    "start_time": "2025-03-23T05:30:30.503Z"
   },
   {
    "duration": 7,
    "start_time": "2025-03-23T05:30:30.526Z"
   },
   {
    "duration": 14,
    "start_time": "2025-03-23T05:30:30.535Z"
   },
   {
    "duration": 27,
    "start_time": "2025-03-23T05:30:30.550Z"
   },
   {
    "duration": 4,
    "start_time": "2025-03-23T05:30:30.579Z"
   },
   {
    "duration": 25,
    "start_time": "2025-03-23T05:30:30.584Z"
   },
   {
    "duration": 11,
    "start_time": "2025-03-23T05:30:30.611Z"
   },
   {
    "duration": 28,
    "start_time": "2025-03-23T05:30:30.624Z"
   },
   {
    "duration": 103,
    "start_time": "2025-03-23T05:30:30.653Z"
   },
   {
    "duration": 20,
    "start_time": "2025-03-23T05:30:30.758Z"
   },
   {
    "duration": 25,
    "start_time": "2025-03-23T05:30:30.780Z"
   },
   {
    "duration": 21,
    "start_time": "2025-03-23T05:30:30.806Z"
   },
   {
    "duration": 11,
    "start_time": "2025-03-23T05:30:30.828Z"
   },
   {
    "duration": 33,
    "start_time": "2025-03-23T05:30:30.841Z"
   },
   {
    "duration": 16,
    "start_time": "2025-03-23T05:30:30.876Z"
   },
   {
    "duration": 15,
    "start_time": "2025-03-23T05:30:44.578Z"
   },
   {
    "duration": 442,
    "start_time": "2025-03-23T05:37:29.481Z"
   },
   {
    "duration": 99,
    "start_time": "2025-03-23T05:37:29.927Z"
   },
   {
    "duration": 18,
    "start_time": "2025-03-23T05:37:30.028Z"
   },
   {
    "duration": 57,
    "start_time": "2025-03-23T05:37:30.048Z"
   },
   {
    "duration": 44,
    "start_time": "2025-03-23T05:37:30.112Z"
   },
   {
    "duration": 5,
    "start_time": "2025-03-23T05:37:30.158Z"
   },
   {
    "duration": 10,
    "start_time": "2025-03-23T05:37:30.165Z"
   },
   {
    "duration": 32,
    "start_time": "2025-03-23T05:37:30.177Z"
   },
   {
    "duration": 33,
    "start_time": "2025-03-23T05:37:30.210Z"
   },
   {
    "duration": 17,
    "start_time": "2025-03-23T05:37:30.244Z"
   },
   {
    "duration": 23,
    "start_time": "2025-03-23T05:37:30.263Z"
   },
   {
    "duration": 27,
    "start_time": "2025-03-23T05:37:30.287Z"
   },
   {
    "duration": 17,
    "start_time": "2025-03-23T05:37:30.321Z"
   },
   {
    "duration": 84,
    "start_time": "2025-03-23T05:37:30.342Z"
   },
   {
    "duration": 12,
    "start_time": "2025-03-23T05:37:30.428Z"
   },
   {
    "duration": 26,
    "start_time": "2025-03-23T05:37:30.442Z"
   },
   {
    "duration": 13,
    "start_time": "2025-03-23T05:37:30.470Z"
   },
   {
    "duration": 42,
    "start_time": "2025-03-23T05:37:30.484Z"
   },
   {
    "duration": 19,
    "start_time": "2025-03-23T05:37:30.528Z"
   },
   {
    "duration": 10,
    "start_time": "2025-03-23T05:37:30.549Z"
   },
   {
    "duration": 7,
    "start_time": "2025-03-23T05:37:30.560Z"
   },
   {
    "duration": 16,
    "start_time": "2025-03-23T05:37:30.568Z"
   },
   {
    "duration": 13,
    "start_time": "2025-03-23T05:37:30.586Z"
   },
   {
    "duration": 45,
    "start_time": "2025-03-23T05:37:30.601Z"
   },
   {
    "duration": 38,
    "start_time": "2025-03-23T05:37:30.648Z"
   },
   {
    "duration": 95,
    "start_time": "2025-03-23T05:37:30.688Z"
   },
   {
    "duration": 19,
    "start_time": "2025-03-23T05:37:30.786Z"
   },
   {
    "duration": 16,
    "start_time": "2025-03-23T05:37:30.811Z"
   },
   {
    "duration": 4,
    "start_time": "2025-03-23T05:37:42.479Z"
   },
   {
    "duration": 4,
    "start_time": "2025-03-23T05:38:17.199Z"
   },
   {
    "duration": 405,
    "start_time": "2025-03-23T05:42:30.179Z"
   },
   {
    "duration": 102,
    "start_time": "2025-03-23T05:42:30.586Z"
   },
   {
    "duration": 22,
    "start_time": "2025-03-23T05:42:30.690Z"
   },
   {
    "duration": 127,
    "start_time": "2025-03-23T05:42:30.716Z"
   },
   {
    "duration": 19,
    "start_time": "2025-03-23T05:42:30.846Z"
   },
   {
    "duration": 16,
    "start_time": "2025-03-23T05:42:30.867Z"
   },
   {
    "duration": 32,
    "start_time": "2025-03-23T05:42:30.884Z"
   },
   {
    "duration": 10,
    "start_time": "2025-03-23T05:42:30.918Z"
   },
   {
    "duration": 34,
    "start_time": "2025-03-23T05:42:30.930Z"
   },
   {
    "duration": 29,
    "start_time": "2025-03-23T05:42:30.966Z"
   },
   {
    "duration": 39,
    "start_time": "2025-03-23T05:42:30.996Z"
   },
   {
    "duration": 12,
    "start_time": "2025-03-23T05:42:31.037Z"
   },
   {
    "duration": 13,
    "start_time": "2025-03-23T05:42:31.051Z"
   },
   {
    "duration": 13,
    "start_time": "2025-03-23T05:42:31.067Z"
   },
   {
    "duration": 10,
    "start_time": "2025-03-23T05:42:31.082Z"
   },
   {
    "duration": 28,
    "start_time": "2025-03-23T05:42:31.093Z"
   },
   {
    "duration": 21,
    "start_time": "2025-03-23T05:42:31.124Z"
   },
   {
    "duration": 18,
    "start_time": "2025-03-23T05:42:31.147Z"
   },
   {
    "duration": 17,
    "start_time": "2025-03-23T05:42:31.167Z"
   },
   {
    "duration": 5,
    "start_time": "2025-03-23T05:42:31.185Z"
   },
   {
    "duration": 29,
    "start_time": "2025-03-23T05:42:31.191Z"
   },
   {
    "duration": 20,
    "start_time": "2025-03-23T05:42:31.222Z"
   },
   {
    "duration": 19,
    "start_time": "2025-03-23T05:42:31.244Z"
   },
   {
    "duration": 25,
    "start_time": "2025-03-23T05:42:31.265Z"
   },
   {
    "duration": 45,
    "start_time": "2025-03-23T05:42:31.291Z"
   },
   {
    "duration": 8,
    "start_time": "2025-03-23T05:42:31.340Z"
   },
   {
    "duration": 23,
    "start_time": "2025-03-23T05:42:31.349Z"
   },
   {
    "duration": 35,
    "start_time": "2025-03-23T05:42:31.374Z"
   },
   {
    "duration": 4,
    "start_time": "2025-03-23T05:53:13.713Z"
   },
   {
    "duration": 3,
    "start_time": "2025-03-23T05:53:14.578Z"
   },
   {
    "duration": 2,
    "start_time": "2025-03-23T05:53:15.445Z"
   },
   {
    "duration": 3,
    "start_time": "2025-03-23T05:53:16.222Z"
   },
   {
    "duration": 3,
    "start_time": "2025-03-23T05:53:17.070Z"
   },
   {
    "duration": 2,
    "start_time": "2025-03-23T05:53:32.459Z"
   },
   {
    "duration": 2,
    "start_time": "2025-03-23T05:53:33.187Z"
   },
   {
    "duration": 2,
    "start_time": "2025-03-23T05:53:33.667Z"
   },
   {
    "duration": 2,
    "start_time": "2025-03-23T05:53:34.284Z"
   },
   {
    "duration": 7,
    "start_time": "2025-03-23T05:53:35.115Z"
   },
   {
    "duration": 2,
    "start_time": "2025-03-23T05:53:57.547Z"
   },
   {
    "duration": 2,
    "start_time": "2025-03-23T05:53:58.133Z"
   },
   {
    "duration": 2,
    "start_time": "2025-03-23T05:53:58.713Z"
   },
   {
    "duration": 4,
    "start_time": "2025-03-23T05:53:59.304Z"
   },
   {
    "duration": 4,
    "start_time": "2025-03-23T05:53:59.920Z"
   },
   {
    "duration": 2,
    "start_time": "2025-03-23T05:54:57.468Z"
   },
   {
    "duration": 2,
    "start_time": "2025-03-23T05:54:58.043Z"
   },
   {
    "duration": 9,
    "start_time": "2025-03-23T05:54:58.605Z"
   },
   {
    "duration": 2,
    "start_time": "2025-03-23T05:54:59.131Z"
   },
   {
    "duration": 3,
    "start_time": "2025-03-23T05:54:59.852Z"
   },
   {
    "duration": 385,
    "start_time": "2025-03-23T06:03:11.060Z"
   },
   {
    "duration": 122,
    "start_time": "2025-03-23T06:03:11.447Z"
   },
   {
    "duration": 16,
    "start_time": "2025-03-23T06:03:11.571Z"
   },
   {
    "duration": 10,
    "start_time": "2025-03-23T06:03:11.588Z"
   },
   {
    "duration": 29,
    "start_time": "2025-03-23T06:03:11.600Z"
   },
   {
    "duration": 8,
    "start_time": "2025-03-23T06:03:11.631Z"
   },
   {
    "duration": 4,
    "start_time": "2025-03-23T06:03:11.641Z"
   },
   {
    "duration": 6,
    "start_time": "2025-03-23T06:03:11.646Z"
   },
   {
    "duration": 22,
    "start_time": "2025-03-23T06:03:11.653Z"
   },
   {
    "duration": 9,
    "start_time": "2025-03-23T06:03:11.677Z"
   },
   {
    "duration": 9,
    "start_time": "2025-03-23T06:03:11.688Z"
   },
   {
    "duration": 21,
    "start_time": "2025-03-23T06:03:11.699Z"
   },
   {
    "duration": 8,
    "start_time": "2025-03-23T06:03:11.729Z"
   },
   {
    "duration": 11,
    "start_time": "2025-03-23T06:03:11.741Z"
   },
   {
    "duration": 11,
    "start_time": "2025-03-23T06:03:11.754Z"
   },
   {
    "duration": 17,
    "start_time": "2025-03-23T06:03:11.767Z"
   },
   {
    "duration": 15,
    "start_time": "2025-03-23T06:03:11.786Z"
   },
   {
    "duration": 6,
    "start_time": "2025-03-23T06:03:11.803Z"
   },
   {
    "duration": 44,
    "start_time": "2025-03-23T06:03:11.810Z"
   },
   {
    "duration": 28,
    "start_time": "2025-03-23T06:03:11.856Z"
   },
   {
    "duration": 4,
    "start_time": "2025-03-23T06:03:11.886Z"
   },
   {
    "duration": 4,
    "start_time": "2025-03-23T06:03:11.891Z"
   },
   {
    "duration": 10,
    "start_time": "2025-03-23T06:03:11.897Z"
   },
   {
    "duration": 31,
    "start_time": "2025-03-23T06:03:11.908Z"
   },
   {
    "duration": 21,
    "start_time": "2025-03-23T06:03:11.941Z"
   },
   {
    "duration": 6,
    "start_time": "2025-03-23T06:03:11.964Z"
   },
   {
    "duration": 75,
    "start_time": "2025-03-23T06:03:11.972Z"
   },
   {
    "duration": 13,
    "start_time": "2025-03-23T06:03:12.049Z"
   },
   {
    "duration": 2,
    "start_time": "2025-03-23T06:03:12.063Z"
   },
   {
    "duration": 4,
    "start_time": "2025-03-23T06:03:12.067Z"
   },
   {
    "duration": 3,
    "start_time": "2025-03-23T06:03:12.073Z"
   },
   {
    "duration": 3,
    "start_time": "2025-03-23T06:03:12.078Z"
   },
   {
    "duration": 8,
    "start_time": "2025-03-23T06:03:12.082Z"
   },
   {
    "duration": 14,
    "start_time": "2025-03-23T06:04:49.941Z"
   },
   {
    "duration": 417,
    "start_time": "2025-03-23T06:18:08.588Z"
   },
   {
    "duration": 132,
    "start_time": "2025-03-23T06:18:09.016Z"
   },
   {
    "duration": 15,
    "start_time": "2025-03-23T06:18:09.150Z"
   },
   {
    "duration": 9,
    "start_time": "2025-03-23T06:18:09.166Z"
   },
   {
    "duration": 4,
    "start_time": "2025-03-23T06:18:09.177Z"
   },
   {
    "duration": 6,
    "start_time": "2025-03-23T06:18:09.182Z"
   },
   {
    "duration": 10,
    "start_time": "2025-03-23T06:18:09.189Z"
   },
   {
    "duration": 28,
    "start_time": "2025-03-23T06:18:09.200Z"
   },
   {
    "duration": 15,
    "start_time": "2025-03-23T06:18:09.229Z"
   },
   {
    "duration": 7,
    "start_time": "2025-03-23T06:18:09.245Z"
   },
   {
    "duration": 10,
    "start_time": "2025-03-23T06:18:09.253Z"
   },
   {
    "duration": 3,
    "start_time": "2025-03-23T06:18:09.264Z"
   },
   {
    "duration": 6,
    "start_time": "2025-03-23T06:18:09.268Z"
   },
   {
    "duration": 7,
    "start_time": "2025-03-23T06:18:09.277Z"
   },
   {
    "duration": 7,
    "start_time": "2025-03-23T06:18:09.285Z"
   },
   {
    "duration": 27,
    "start_time": "2025-03-23T06:18:09.293Z"
   },
   {
    "duration": 19,
    "start_time": "2025-03-23T06:18:09.321Z"
   },
   {
    "duration": 4,
    "start_time": "2025-03-23T06:18:09.341Z"
   },
   {
    "duration": 7,
    "start_time": "2025-03-23T06:18:09.346Z"
   },
   {
    "duration": 7,
    "start_time": "2025-03-23T06:18:09.354Z"
   },
   {
    "duration": 5,
    "start_time": "2025-03-23T06:18:09.362Z"
   },
   {
    "duration": 4,
    "start_time": "2025-03-23T06:18:09.368Z"
   },
   {
    "duration": 8,
    "start_time": "2025-03-23T06:18:09.373Z"
   },
   {
    "duration": 7,
    "start_time": "2025-03-23T06:18:09.382Z"
   },
   {
    "duration": 32,
    "start_time": "2025-03-23T06:18:09.390Z"
   },
   {
    "duration": 6,
    "start_time": "2025-03-23T06:18:09.424Z"
   },
   {
    "duration": 12,
    "start_time": "2025-03-23T06:18:09.431Z"
   },
   {
    "duration": 36,
    "start_time": "2025-03-23T06:18:09.445Z"
   },
   {
    "duration": 2,
    "start_time": "2025-03-23T06:18:09.483Z"
   },
   {
    "duration": 4,
    "start_time": "2025-03-23T06:18:09.487Z"
   },
   {
    "duration": 6,
    "start_time": "2025-03-23T06:18:09.492Z"
   },
   {
    "duration": 18,
    "start_time": "2025-03-23T06:18:09.500Z"
   },
   {
    "duration": 3,
    "start_time": "2025-03-23T06:18:09.520Z"
   },
   {
    "duration": 366,
    "start_time": "2025-03-23T06:24:31.640Z"
   },
   {
    "duration": 91,
    "start_time": "2025-03-23T06:24:32.009Z"
   },
   {
    "duration": 15,
    "start_time": "2025-03-23T06:24:32.102Z"
   },
   {
    "duration": 10,
    "start_time": "2025-03-23T06:24:32.119Z"
   },
   {
    "duration": 26,
    "start_time": "2025-03-23T06:24:32.131Z"
   },
   {
    "duration": 23,
    "start_time": "2025-03-23T06:24:32.159Z"
   },
   {
    "duration": 18,
    "start_time": "2025-03-23T06:24:32.183Z"
   },
   {
    "duration": 78,
    "start_time": "2025-03-23T06:24:32.202Z"
   },
   {
    "duration": 48,
    "start_time": "2025-03-23T06:24:32.282Z"
   },
   {
    "duration": 33,
    "start_time": "2025-03-23T06:24:32.332Z"
   },
   {
    "duration": 15,
    "start_time": "2025-03-23T06:24:32.366Z"
   },
   {
    "duration": 21,
    "start_time": "2025-03-23T06:24:32.383Z"
   },
   {
    "duration": 15,
    "start_time": "2025-03-23T06:24:32.406Z"
   },
   {
    "duration": 26,
    "start_time": "2025-03-23T06:24:32.424Z"
   },
   {
    "duration": 17,
    "start_time": "2025-03-23T06:24:32.452Z"
   },
   {
    "duration": 14,
    "start_time": "2025-03-23T06:24:32.471Z"
   },
   {
    "duration": 65,
    "start_time": "2025-03-23T06:24:32.487Z"
   },
   {
    "duration": 26,
    "start_time": "2025-03-23T06:24:32.554Z"
   },
   {
    "duration": 13,
    "start_time": "2025-03-23T06:24:32.581Z"
   },
   {
    "duration": 21,
    "start_time": "2025-03-23T06:24:32.596Z"
   },
   {
    "duration": 5,
    "start_time": "2025-03-23T06:24:32.619Z"
   },
   {
    "duration": 22,
    "start_time": "2025-03-23T06:24:32.625Z"
   },
   {
    "duration": 23,
    "start_time": "2025-03-23T06:24:32.648Z"
   },
   {
    "duration": 43,
    "start_time": "2025-03-23T06:24:32.673Z"
   },
   {
    "duration": 21,
    "start_time": "2025-03-23T06:24:32.717Z"
   },
   {
    "duration": 16,
    "start_time": "2025-03-23T06:24:32.740Z"
   },
   {
    "duration": 22,
    "start_time": "2025-03-23T06:24:32.758Z"
   },
   {
    "duration": 23,
    "start_time": "2025-03-23T06:24:32.782Z"
   },
   {
    "duration": 6,
    "start_time": "2025-03-23T06:24:32.807Z"
   },
   {
    "duration": 12,
    "start_time": "2025-03-23T06:24:32.815Z"
   },
   {
    "duration": 19,
    "start_time": "2025-03-23T06:24:32.828Z"
   },
   {
    "duration": 14,
    "start_time": "2025-03-23T06:24:32.848Z"
   },
   {
    "duration": 10,
    "start_time": "2025-03-23T06:24:32.864Z"
   },
   {
    "duration": 7,
    "start_time": "2025-03-23T06:34:21.101Z"
   },
   {
    "duration": 14,
    "start_time": "2025-03-23T06:34:22.243Z"
   },
   {
    "duration": 4,
    "start_time": "2025-03-23T06:35:03.275Z"
   },
   {
    "duration": 46,
    "start_time": "2025-03-23T16:35:37.614Z"
   },
   {
    "duration": 7,
    "start_time": "2025-03-23T16:35:41.775Z"
   },
   {
    "duration": 353,
    "start_time": "2025-03-23T16:35:50.314Z"
   },
   {
    "duration": 160,
    "start_time": "2025-03-23T16:35:50.669Z"
   },
   {
    "duration": 16,
    "start_time": "2025-03-23T16:35:50.831Z"
   },
   {
    "duration": 14,
    "start_time": "2025-03-23T16:35:50.848Z"
   },
   {
    "duration": 4,
    "start_time": "2025-03-23T16:35:50.865Z"
   },
   {
    "duration": 16,
    "start_time": "2025-03-23T16:35:50.870Z"
   },
   {
    "duration": 4,
    "start_time": "2025-03-23T16:35:50.887Z"
   },
   {
    "duration": 7,
    "start_time": "2025-03-23T16:35:50.893Z"
   },
   {
    "duration": 22,
    "start_time": "2025-03-23T16:35:50.901Z"
   },
   {
    "duration": 22,
    "start_time": "2025-03-23T16:35:50.924Z"
   },
   {
    "duration": 18,
    "start_time": "2025-03-23T16:35:50.947Z"
   },
   {
    "duration": 5,
    "start_time": "2025-03-23T16:35:50.966Z"
   },
   {
    "duration": 21,
    "start_time": "2025-03-23T16:35:50.972Z"
   },
   {
    "duration": 46,
    "start_time": "2025-03-23T16:35:50.996Z"
   },
   {
    "duration": 23,
    "start_time": "2025-03-23T16:35:51.044Z"
   },
   {
    "duration": 22,
    "start_time": "2025-03-23T16:35:51.068Z"
   },
   {
    "duration": 14,
    "start_time": "2025-03-23T16:35:51.091Z"
   },
   {
    "duration": 32,
    "start_time": "2025-03-23T16:35:51.107Z"
   },
   {
    "duration": 13,
    "start_time": "2025-03-23T16:35:51.141Z"
   },
   {
    "duration": 17,
    "start_time": "2025-03-23T16:35:51.155Z"
   },
   {
    "duration": 4,
    "start_time": "2025-03-23T16:35:51.174Z"
   },
   {
    "duration": 6,
    "start_time": "2025-03-23T16:35:51.179Z"
   },
   {
    "duration": 17,
    "start_time": "2025-03-23T16:35:51.186Z"
   },
   {
    "duration": 29,
    "start_time": "2025-03-23T16:35:51.205Z"
   },
   {
    "duration": 41,
    "start_time": "2025-03-23T16:35:51.235Z"
   },
   {
    "duration": 7,
    "start_time": "2025-03-23T16:35:51.278Z"
   },
   {
    "duration": 14,
    "start_time": "2025-03-23T16:35:51.286Z"
   },
   {
    "duration": 12,
    "start_time": "2025-03-23T16:35:51.302Z"
   },
   {
    "duration": 2,
    "start_time": "2025-03-23T16:35:51.315Z"
   },
   {
    "duration": 7,
    "start_time": "2025-03-23T16:35:51.318Z"
   },
   {
    "duration": 3,
    "start_time": "2025-03-23T16:35:51.327Z"
   },
   {
    "duration": 8,
    "start_time": "2025-03-23T16:35:51.332Z"
   },
   {
    "duration": 37,
    "start_time": "2025-03-23T16:35:51.342Z"
   },
   {
    "duration": 6,
    "start_time": "2025-03-23T16:35:51.383Z"
   },
   {
    "duration": 5,
    "start_time": "2025-03-23T16:35:51.390Z"
   },
   {
    "duration": 15,
    "start_time": "2025-03-23T16:35:51.397Z"
   },
   {
    "duration": 13,
    "start_time": "2025-03-23T16:36:24.479Z"
   },
   {
    "duration": 6,
    "start_time": "2025-03-23T16:58:26.121Z"
   },
   {
    "duration": 435,
    "start_time": "2025-03-23T16:58:41.849Z"
   },
   {
    "duration": 119,
    "start_time": "2025-03-23T16:58:42.290Z"
   },
   {
    "duration": 17,
    "start_time": "2025-03-23T16:58:42.410Z"
   },
   {
    "duration": 9,
    "start_time": "2025-03-23T16:58:42.429Z"
   },
   {
    "duration": 8,
    "start_time": "2025-03-23T16:58:42.439Z"
   },
   {
    "duration": 20,
    "start_time": "2025-03-23T16:58:42.448Z"
   },
   {
    "duration": 4,
    "start_time": "2025-03-23T16:58:42.469Z"
   },
   {
    "duration": 6,
    "start_time": "2025-03-23T16:58:42.475Z"
   },
   {
    "duration": 20,
    "start_time": "2025-03-23T16:58:42.482Z"
   },
   {
    "duration": 8,
    "start_time": "2025-03-23T16:58:42.507Z"
   },
   {
    "duration": 22,
    "start_time": "2025-03-23T16:58:42.516Z"
   },
   {
    "duration": 6,
    "start_time": "2025-03-23T16:58:42.540Z"
   },
   {
    "duration": 26,
    "start_time": "2025-03-23T16:58:42.547Z"
   },
   {
    "duration": 13,
    "start_time": "2025-03-23T16:58:42.575Z"
   },
   {
    "duration": 7,
    "start_time": "2025-03-23T16:58:42.589Z"
   },
   {
    "duration": 11,
    "start_time": "2025-03-23T16:58:42.598Z"
   },
   {
    "duration": 9,
    "start_time": "2025-03-23T16:58:42.611Z"
   },
   {
    "duration": 9,
    "start_time": "2025-03-23T16:58:42.622Z"
   },
   {
    "duration": 8,
    "start_time": "2025-03-23T16:58:42.633Z"
   },
   {
    "duration": 25,
    "start_time": "2025-03-23T16:58:42.642Z"
   },
   {
    "duration": 3,
    "start_time": "2025-03-23T16:58:42.669Z"
   },
   {
    "duration": 4,
    "start_time": "2025-03-23T16:58:42.674Z"
   },
   {
    "duration": 8,
    "start_time": "2025-03-23T16:58:42.680Z"
   },
   {
    "duration": 12,
    "start_time": "2025-03-23T16:58:42.690Z"
   },
   {
    "duration": 19,
    "start_time": "2025-03-23T16:58:42.704Z"
   },
   {
    "duration": 45,
    "start_time": "2025-03-23T16:58:42.724Z"
   },
   {
    "duration": 20,
    "start_time": "2025-03-23T16:58:42.772Z"
   },
   {
    "duration": 12,
    "start_time": "2025-03-23T16:58:42.795Z"
   },
   {
    "duration": 2,
    "start_time": "2025-03-23T16:58:42.809Z"
   },
   {
    "duration": 3,
    "start_time": "2025-03-23T16:58:42.813Z"
   },
   {
    "duration": 3,
    "start_time": "2025-03-23T16:58:42.818Z"
   },
   {
    "duration": 6,
    "start_time": "2025-03-23T16:58:42.823Z"
   },
   {
    "duration": 26,
    "start_time": "2025-03-23T16:58:42.831Z"
   },
   {
    "duration": 22,
    "start_time": "2025-03-23T16:58:42.868Z"
   },
   {
    "duration": 5,
    "start_time": "2025-03-23T16:58:42.893Z"
   },
   {
    "duration": 6,
    "start_time": "2025-03-23T16:58:42.900Z"
   },
   {
    "duration": 7,
    "start_time": "2025-03-23T16:59:32.497Z"
   },
   {
    "duration": 6,
    "start_time": "2025-03-23T17:02:00.466Z"
   },
   {
    "duration": 6,
    "start_time": "2025-03-23T17:02:05.281Z"
   },
   {
    "duration": 6,
    "start_time": "2025-03-23T17:04:33.427Z"
   },
   {
    "duration": 6,
    "start_time": "2025-03-23T17:04:37.721Z"
   },
   {
    "duration": 6,
    "start_time": "2025-03-23T17:05:07.024Z"
   },
   {
    "duration": 4,
    "start_time": "2025-03-23T17:05:10.152Z"
   },
   {
    "duration": 7,
    "start_time": "2025-03-23T17:05:16.617Z"
   },
   {
    "duration": 7,
    "start_time": "2025-03-23T17:05:20.393Z"
   },
   {
    "duration": 381,
    "start_time": "2025-03-23T17:05:27.126Z"
   },
   {
    "duration": 101,
    "start_time": "2025-03-23T17:05:27.509Z"
   },
   {
    "duration": 15,
    "start_time": "2025-03-23T17:05:27.612Z"
   },
   {
    "duration": 8,
    "start_time": "2025-03-23T17:05:27.629Z"
   },
   {
    "duration": 4,
    "start_time": "2025-03-23T17:05:27.639Z"
   },
   {
    "duration": 3,
    "start_time": "2025-03-23T17:05:27.645Z"
   },
   {
    "duration": 19,
    "start_time": "2025-03-23T17:05:27.650Z"
   },
   {
    "duration": 4,
    "start_time": "2025-03-23T17:05:27.671Z"
   },
   {
    "duration": 22,
    "start_time": "2025-03-23T17:05:27.676Z"
   },
   {
    "duration": 10,
    "start_time": "2025-03-23T17:05:27.699Z"
   },
   {
    "duration": 9,
    "start_time": "2025-03-23T17:05:27.711Z"
   },
   {
    "duration": 3,
    "start_time": "2025-03-23T17:05:27.721Z"
   },
   {
    "duration": 6,
    "start_time": "2025-03-23T17:05:27.725Z"
   },
   {
    "duration": 36,
    "start_time": "2025-03-23T17:05:27.734Z"
   },
   {
    "duration": 7,
    "start_time": "2025-03-23T17:05:27.771Z"
   },
   {
    "duration": 11,
    "start_time": "2025-03-23T17:05:27.780Z"
   },
   {
    "duration": 7,
    "start_time": "2025-03-23T17:05:27.793Z"
   },
   {
    "duration": 8,
    "start_time": "2025-03-23T17:05:27.801Z"
   },
   {
    "duration": 17,
    "start_time": "2025-03-23T17:05:27.810Z"
   },
   {
    "duration": 5,
    "start_time": "2025-03-23T17:05:27.828Z"
   },
   {
    "duration": 3,
    "start_time": "2025-03-23T17:05:27.835Z"
   },
   {
    "duration": 4,
    "start_time": "2025-03-23T17:05:27.840Z"
   },
   {
    "duration": 28,
    "start_time": "2025-03-23T17:05:27.845Z"
   },
   {
    "duration": 8,
    "start_time": "2025-03-23T17:05:27.874Z"
   },
   {
    "duration": 19,
    "start_time": "2025-03-23T17:05:27.883Z"
   },
   {
    "duration": 7,
    "start_time": "2025-03-23T17:05:27.903Z"
   },
   {
    "duration": 14,
    "start_time": "2025-03-23T17:05:27.911Z"
   },
   {
    "duration": 47,
    "start_time": "2025-03-23T17:05:27.926Z"
   },
   {
    "duration": 3,
    "start_time": "2025-03-23T17:05:27.974Z"
   },
   {
    "duration": 3,
    "start_time": "2025-03-23T17:05:27.978Z"
   },
   {
    "duration": 7,
    "start_time": "2025-03-23T17:05:27.983Z"
   },
   {
    "duration": 3,
    "start_time": "2025-03-23T17:05:27.991Z"
   },
   {
    "duration": 5,
    "start_time": "2025-03-23T17:05:27.995Z"
   },
   {
    "duration": 81,
    "start_time": "2025-03-23T17:05:28.002Z"
   },
   {
    "duration": 0,
    "start_time": "2025-03-23T17:05:28.084Z"
   },
   {
    "duration": 0,
    "start_time": "2025-03-23T17:05:28.086Z"
   },
   {
    "duration": 0,
    "start_time": "2025-03-23T17:05:28.087Z"
   },
   {
    "duration": 396,
    "start_time": "2025-03-23T17:06:27.535Z"
   },
   {
    "duration": 94,
    "start_time": "2025-03-23T17:06:27.933Z"
   },
   {
    "duration": 16,
    "start_time": "2025-03-23T17:06:28.030Z"
   },
   {
    "duration": 8,
    "start_time": "2025-03-23T17:06:28.048Z"
   },
   {
    "duration": 9,
    "start_time": "2025-03-23T17:06:28.057Z"
   },
   {
    "duration": 14,
    "start_time": "2025-03-23T17:06:28.068Z"
   },
   {
    "duration": 6,
    "start_time": "2025-03-23T17:06:28.083Z"
   },
   {
    "duration": 7,
    "start_time": "2025-03-23T17:06:28.091Z"
   },
   {
    "duration": 22,
    "start_time": "2025-03-23T17:06:28.099Z"
   },
   {
    "duration": 13,
    "start_time": "2025-03-23T17:06:28.122Z"
   },
   {
    "duration": 8,
    "start_time": "2025-03-23T17:06:28.136Z"
   },
   {
    "duration": 4,
    "start_time": "2025-03-23T17:06:28.145Z"
   },
   {
    "duration": 3,
    "start_time": "2025-03-23T17:06:28.153Z"
   },
   {
    "duration": 18,
    "start_time": "2025-03-23T17:06:28.158Z"
   },
   {
    "duration": 7,
    "start_time": "2025-03-23T17:06:28.178Z"
   },
   {
    "duration": 3,
    "start_time": "2025-03-23T17:06:28.187Z"
   },
   {
    "duration": 7,
    "start_time": "2025-03-23T17:06:28.192Z"
   },
   {
    "duration": 15,
    "start_time": "2025-03-23T17:06:28.201Z"
   },
   {
    "duration": 10,
    "start_time": "2025-03-23T17:06:28.218Z"
   },
   {
    "duration": 6,
    "start_time": "2025-03-23T17:06:28.230Z"
   },
   {
    "duration": 32,
    "start_time": "2025-03-23T17:06:28.238Z"
   },
   {
    "duration": 4,
    "start_time": "2025-03-23T17:06:28.271Z"
   },
   {
    "duration": 10,
    "start_time": "2025-03-23T17:06:28.277Z"
   },
   {
    "duration": 8,
    "start_time": "2025-03-23T17:06:28.288Z"
   },
   {
    "duration": 19,
    "start_time": "2025-03-23T17:06:28.297Z"
   },
   {
    "duration": 7,
    "start_time": "2025-03-23T17:06:28.318Z"
   },
   {
    "duration": 43,
    "start_time": "2025-03-23T17:06:28.326Z"
   },
   {
    "duration": 12,
    "start_time": "2025-03-23T17:06:28.372Z"
   },
   {
    "duration": 30,
    "start_time": "2025-03-23T17:06:28.386Z"
   },
   {
    "duration": 6,
    "start_time": "2025-03-23T17:06:28.417Z"
   },
   {
    "duration": 27,
    "start_time": "2025-03-23T17:06:28.424Z"
   },
   {
    "duration": 32,
    "start_time": "2025-03-23T17:06:28.453Z"
   },
   {
    "duration": 3,
    "start_time": "2025-03-23T17:06:28.487Z"
   },
   {
    "duration": 6,
    "start_time": "2025-03-23T17:06:28.491Z"
   },
   {
    "duration": 4,
    "start_time": "2025-03-23T17:06:28.499Z"
   },
   {
    "duration": 7,
    "start_time": "2025-03-23T17:06:28.504Z"
   },
   {
    "duration": 75,
    "start_time": "2025-03-23T17:06:28.513Z"
   },
   {
    "duration": 421,
    "start_time": "2025-03-23T17:07:10.152Z"
   },
   {
    "duration": 93,
    "start_time": "2025-03-23T17:07:10.574Z"
   },
   {
    "duration": 16,
    "start_time": "2025-03-23T17:07:10.669Z"
   },
   {
    "duration": 32,
    "start_time": "2025-03-23T17:07:10.687Z"
   },
   {
    "duration": 6,
    "start_time": "2025-03-23T17:07:10.721Z"
   },
   {
    "duration": 4,
    "start_time": "2025-03-23T17:07:10.728Z"
   },
   {
    "duration": 5,
    "start_time": "2025-03-23T17:07:10.733Z"
   },
   {
    "duration": 7,
    "start_time": "2025-03-23T17:07:10.740Z"
   },
   {
    "duration": 19,
    "start_time": "2025-03-23T17:07:10.748Z"
   },
   {
    "duration": 8,
    "start_time": "2025-03-23T17:07:10.769Z"
   },
   {
    "duration": 7,
    "start_time": "2025-03-23T17:07:10.778Z"
   },
   {
    "duration": 4,
    "start_time": "2025-03-23T17:07:10.786Z"
   },
   {
    "duration": 4,
    "start_time": "2025-03-23T17:07:10.791Z"
   },
   {
    "duration": 7,
    "start_time": "2025-03-23T17:07:10.798Z"
   },
   {
    "duration": 7,
    "start_time": "2025-03-23T17:07:10.807Z"
   },
   {
    "duration": 3,
    "start_time": "2025-03-23T17:07:10.816Z"
   },
   {
    "duration": 52,
    "start_time": "2025-03-23T17:07:10.820Z"
   },
   {
    "duration": 7,
    "start_time": "2025-03-23T17:07:10.873Z"
   },
   {
    "duration": 25,
    "start_time": "2025-03-23T17:07:10.881Z"
   },
   {
    "duration": 5,
    "start_time": "2025-03-23T17:07:10.907Z"
   },
   {
    "duration": 4,
    "start_time": "2025-03-23T17:07:10.913Z"
   },
   {
    "duration": 4,
    "start_time": "2025-03-23T17:07:10.919Z"
   },
   {
    "duration": 8,
    "start_time": "2025-03-23T17:07:10.924Z"
   },
   {
    "duration": 14,
    "start_time": "2025-03-23T17:07:10.933Z"
   },
   {
    "duration": 36,
    "start_time": "2025-03-23T17:07:10.948Z"
   },
   {
    "duration": 9,
    "start_time": "2025-03-23T17:07:10.986Z"
   },
   {
    "duration": 13,
    "start_time": "2025-03-23T17:07:10.997Z"
   },
   {
    "duration": 13,
    "start_time": "2025-03-23T17:07:11.012Z"
   },
   {
    "duration": 3,
    "start_time": "2025-03-23T17:07:11.026Z"
   },
   {
    "duration": 38,
    "start_time": "2025-03-23T17:07:11.030Z"
   },
   {
    "duration": 4,
    "start_time": "2025-03-23T17:07:11.069Z"
   },
   {
    "duration": 6,
    "start_time": "2025-03-23T17:07:11.075Z"
   },
   {
    "duration": 4,
    "start_time": "2025-03-23T17:07:11.082Z"
   },
   {
    "duration": 6,
    "start_time": "2025-03-23T17:07:11.088Z"
   },
   {
    "duration": 7,
    "start_time": "2025-03-23T17:07:11.096Z"
   },
   {
    "duration": 6,
    "start_time": "2025-03-23T17:07:11.104Z"
   },
   {
    "duration": 6,
    "start_time": "2025-03-23T17:07:11.112Z"
   },
   {
    "duration": 7,
    "start_time": "2025-03-23T17:15:16.257Z"
   },
   {
    "duration": 420,
    "start_time": "2025-03-23T17:15:24.855Z"
   },
   {
    "duration": 127,
    "start_time": "2025-03-23T17:15:25.277Z"
   },
   {
    "duration": 16,
    "start_time": "2025-03-23T17:15:25.406Z"
   },
   {
    "duration": 8,
    "start_time": "2025-03-23T17:15:25.424Z"
   },
   {
    "duration": 3,
    "start_time": "2025-03-23T17:15:25.434Z"
   },
   {
    "duration": 25,
    "start_time": "2025-03-23T17:15:25.439Z"
   },
   {
    "duration": 14,
    "start_time": "2025-03-23T17:15:25.466Z"
   },
   {
    "duration": 14,
    "start_time": "2025-03-23T17:15:25.482Z"
   },
   {
    "duration": 18,
    "start_time": "2025-03-23T17:15:25.498Z"
   },
   {
    "duration": 8,
    "start_time": "2025-03-23T17:15:25.518Z"
   },
   {
    "duration": 29,
    "start_time": "2025-03-23T17:15:25.527Z"
   },
   {
    "duration": 15,
    "start_time": "2025-03-23T17:15:25.558Z"
   },
   {
    "duration": 14,
    "start_time": "2025-03-23T17:15:25.574Z"
   },
   {
    "duration": 19,
    "start_time": "2025-03-23T17:15:25.591Z"
   },
   {
    "duration": 8,
    "start_time": "2025-03-23T17:15:25.612Z"
   },
   {
    "duration": 15,
    "start_time": "2025-03-23T17:15:25.621Z"
   },
   {
    "duration": 11,
    "start_time": "2025-03-23T17:15:25.637Z"
   },
   {
    "duration": 5,
    "start_time": "2025-03-23T17:15:25.649Z"
   },
   {
    "duration": 8,
    "start_time": "2025-03-23T17:15:25.655Z"
   },
   {
    "duration": 5,
    "start_time": "2025-03-23T17:15:25.667Z"
   },
   {
    "duration": 4,
    "start_time": "2025-03-23T17:15:25.673Z"
   },
   {
    "duration": 4,
    "start_time": "2025-03-23T17:15:25.679Z"
   },
   {
    "duration": 11,
    "start_time": "2025-03-23T17:15:25.685Z"
   },
   {
    "duration": 8,
    "start_time": "2025-03-23T17:15:25.697Z"
   },
   {
    "duration": 20,
    "start_time": "2025-03-23T17:15:25.707Z"
   },
   {
    "duration": 43,
    "start_time": "2025-03-23T17:15:25.728Z"
   },
   {
    "duration": 14,
    "start_time": "2025-03-23T17:15:25.772Z"
   },
   {
    "duration": 33,
    "start_time": "2025-03-23T17:15:25.788Z"
   },
   {
    "duration": 2,
    "start_time": "2025-03-23T17:15:25.823Z"
   },
   {
    "duration": 3,
    "start_time": "2025-03-23T17:15:25.827Z"
   },
   {
    "duration": 3,
    "start_time": "2025-03-23T17:15:25.831Z"
   },
   {
    "duration": 4,
    "start_time": "2025-03-23T17:15:25.836Z"
   },
   {
    "duration": 4,
    "start_time": "2025-03-23T17:15:25.841Z"
   },
   {
    "duration": 27,
    "start_time": "2025-03-23T17:15:25.847Z"
   },
   {
    "duration": 5,
    "start_time": "2025-03-23T17:15:25.876Z"
   },
   {
    "duration": 9,
    "start_time": "2025-03-23T17:15:25.883Z"
   },
   {
    "duration": 87,
    "start_time": "2025-03-23T17:15:25.894Z"
   },
   {
    "duration": 418,
    "start_time": "2025-03-23T17:15:52.650Z"
   },
   {
    "duration": 87,
    "start_time": "2025-03-23T17:15:53.070Z"
   },
   {
    "duration": 15,
    "start_time": "2025-03-23T17:15:53.158Z"
   },
   {
    "duration": 9,
    "start_time": "2025-03-23T17:15:53.175Z"
   },
   {
    "duration": 4,
    "start_time": "2025-03-23T17:15:53.186Z"
   },
   {
    "duration": 4,
    "start_time": "2025-03-23T17:15:53.191Z"
   },
   {
    "duration": 7,
    "start_time": "2025-03-23T17:15:53.196Z"
   },
   {
    "duration": 5,
    "start_time": "2025-03-23T17:15:53.204Z"
   },
   {
    "duration": 13,
    "start_time": "2025-03-23T17:15:53.211Z"
   },
   {
    "duration": 10,
    "start_time": "2025-03-23T17:15:53.225Z"
   },
   {
    "duration": 34,
    "start_time": "2025-03-23T17:15:53.237Z"
   },
   {
    "duration": 4,
    "start_time": "2025-03-23T17:15:53.272Z"
   },
   {
    "duration": 4,
    "start_time": "2025-03-23T17:15:53.278Z"
   },
   {
    "duration": 7,
    "start_time": "2025-03-23T17:15:53.284Z"
   },
   {
    "duration": 6,
    "start_time": "2025-03-23T17:15:53.293Z"
   },
   {
    "duration": 4,
    "start_time": "2025-03-23T17:15:53.301Z"
   },
   {
    "duration": 11,
    "start_time": "2025-03-23T17:15:53.306Z"
   },
   {
    "duration": 7,
    "start_time": "2025-03-23T17:15:53.318Z"
   },
   {
    "duration": 41,
    "start_time": "2025-03-23T17:15:53.326Z"
   },
   {
    "duration": 5,
    "start_time": "2025-03-23T17:15:53.369Z"
   },
   {
    "duration": 10,
    "start_time": "2025-03-23T17:15:53.375Z"
   },
   {
    "duration": 5,
    "start_time": "2025-03-23T17:15:53.386Z"
   },
   {
    "duration": 12,
    "start_time": "2025-03-23T17:15:53.392Z"
   },
   {
    "duration": 8,
    "start_time": "2025-03-23T17:15:53.406Z"
   },
   {
    "duration": 20,
    "start_time": "2025-03-23T17:15:53.415Z"
   },
   {
    "duration": 35,
    "start_time": "2025-03-23T17:15:53.436Z"
   },
   {
    "duration": 13,
    "start_time": "2025-03-23T17:15:53.473Z"
   },
   {
    "duration": 12,
    "start_time": "2025-03-23T17:15:53.487Z"
   },
   {
    "duration": 2,
    "start_time": "2025-03-23T17:15:53.501Z"
   },
   {
    "duration": 7,
    "start_time": "2025-03-23T17:15:53.504Z"
   },
   {
    "duration": 5,
    "start_time": "2025-03-23T17:15:53.512Z"
   },
   {
    "duration": 3,
    "start_time": "2025-03-23T17:15:53.518Z"
   },
   {
    "duration": 3,
    "start_time": "2025-03-23T17:15:53.523Z"
   },
   {
    "duration": 40,
    "start_time": "2025-03-23T17:15:53.528Z"
   },
   {
    "duration": 4,
    "start_time": "2025-03-23T17:15:53.569Z"
   },
   {
    "duration": 6,
    "start_time": "2025-03-23T17:15:53.575Z"
   },
   {
    "duration": 6,
    "start_time": "2025-03-23T17:15:53.583Z"
   },
   {
    "duration": 362,
    "start_time": "2025-03-23T17:17:00.229Z"
   },
   {
    "duration": 77,
    "start_time": "2025-03-23T17:17:00.593Z"
   },
   {
    "duration": 15,
    "start_time": "2025-03-23T17:17:00.672Z"
   },
   {
    "duration": 26,
    "start_time": "2025-03-23T17:17:00.689Z"
   },
   {
    "duration": 5,
    "start_time": "2025-03-23T17:17:00.716Z"
   },
   {
    "duration": 29,
    "start_time": "2025-03-23T17:17:00.722Z"
   },
   {
    "duration": 21,
    "start_time": "2025-03-23T17:17:00.752Z"
   },
   {
    "duration": 19,
    "start_time": "2025-03-23T17:17:00.774Z"
   },
   {
    "duration": 22,
    "start_time": "2025-03-23T17:17:00.795Z"
   },
   {
    "duration": 22,
    "start_time": "2025-03-23T17:17:00.820Z"
   },
   {
    "duration": 14,
    "start_time": "2025-03-23T17:17:00.844Z"
   },
   {
    "duration": 27,
    "start_time": "2025-03-23T17:17:00.860Z"
   },
   {
    "duration": 5,
    "start_time": "2025-03-23T17:17:00.888Z"
   },
   {
    "duration": 30,
    "start_time": "2025-03-23T17:17:00.895Z"
   },
   {
    "duration": 18,
    "start_time": "2025-03-23T17:17:00.927Z"
   },
   {
    "duration": 6,
    "start_time": "2025-03-23T17:17:00.947Z"
   },
   {
    "duration": 28,
    "start_time": "2025-03-23T17:17:00.955Z"
   },
   {
    "duration": 13,
    "start_time": "2025-03-23T17:17:00.985Z"
   },
   {
    "duration": 12,
    "start_time": "2025-03-23T17:17:01.000Z"
   },
   {
    "duration": 13,
    "start_time": "2025-03-23T17:17:01.014Z"
   },
   {
    "duration": 6,
    "start_time": "2025-03-23T17:17:01.028Z"
   },
   {
    "duration": 5,
    "start_time": "2025-03-23T17:17:01.035Z"
   },
   {
    "duration": 26,
    "start_time": "2025-03-23T17:17:01.041Z"
   },
   {
    "duration": 9,
    "start_time": "2025-03-23T17:17:01.068Z"
   },
   {
    "duration": 20,
    "start_time": "2025-03-23T17:17:01.078Z"
   },
   {
    "duration": 6,
    "start_time": "2025-03-23T17:17:01.100Z"
   },
   {
    "duration": 22,
    "start_time": "2025-03-23T17:17:01.108Z"
   },
   {
    "duration": 34,
    "start_time": "2025-03-23T17:17:01.133Z"
   },
   {
    "duration": 2,
    "start_time": "2025-03-23T17:17:01.169Z"
   },
   {
    "duration": 14,
    "start_time": "2025-03-23T17:17:01.172Z"
   },
   {
    "duration": 2,
    "start_time": "2025-03-23T17:17:01.188Z"
   },
   {
    "duration": 22,
    "start_time": "2025-03-23T17:17:01.192Z"
   },
   {
    "duration": 19,
    "start_time": "2025-03-23T17:17:01.215Z"
   },
   {
    "duration": 11,
    "start_time": "2025-03-23T17:17:01.235Z"
   },
   {
    "duration": 25,
    "start_time": "2025-03-23T17:17:01.248Z"
   },
   {
    "duration": 35,
    "start_time": "2025-03-23T17:17:01.274Z"
   },
   {
    "duration": 9,
    "start_time": "2025-03-23T17:17:01.311Z"
   },
   {
    "duration": 414,
    "start_time": "2025-03-23T17:18:07.553Z"
   },
   {
    "duration": 94,
    "start_time": "2025-03-23T17:18:07.969Z"
   },
   {
    "duration": 15,
    "start_time": "2025-03-23T17:18:08.065Z"
   },
   {
    "duration": 9,
    "start_time": "2025-03-23T17:18:08.081Z"
   },
   {
    "duration": 5,
    "start_time": "2025-03-23T17:18:08.091Z"
   },
   {
    "duration": 3,
    "start_time": "2025-03-23T17:18:08.097Z"
   },
   {
    "duration": 3,
    "start_time": "2025-03-23T17:18:08.101Z"
   },
   {
    "duration": 16,
    "start_time": "2025-03-23T17:18:08.106Z"
   },
   {
    "duration": 47,
    "start_time": "2025-03-23T17:18:08.124Z"
   },
   {
    "duration": 16,
    "start_time": "2025-03-23T17:18:08.173Z"
   },
   {
    "duration": 20,
    "start_time": "2025-03-23T17:18:08.190Z"
   },
   {
    "duration": 4,
    "start_time": "2025-03-23T17:18:08.212Z"
   },
   {
    "duration": 4,
    "start_time": "2025-03-23T17:18:08.218Z"
   },
   {
    "duration": 8,
    "start_time": "2025-03-23T17:18:08.224Z"
   },
   {
    "duration": 18,
    "start_time": "2025-03-23T17:18:08.233Z"
   },
   {
    "duration": 6,
    "start_time": "2025-03-23T17:18:08.252Z"
   },
   {
    "duration": 15,
    "start_time": "2025-03-23T17:18:08.259Z"
   },
   {
    "duration": 6,
    "start_time": "2025-03-23T17:18:08.275Z"
   },
   {
    "duration": 13,
    "start_time": "2025-03-23T17:18:08.282Z"
   },
   {
    "duration": 7,
    "start_time": "2025-03-23T17:18:08.297Z"
   },
   {
    "duration": 3,
    "start_time": "2025-03-23T17:18:08.305Z"
   },
   {
    "duration": 11,
    "start_time": "2025-03-23T17:18:08.310Z"
   },
   {
    "duration": 8,
    "start_time": "2025-03-23T17:18:08.323Z"
   },
   {
    "duration": 38,
    "start_time": "2025-03-23T17:18:08.332Z"
   },
   {
    "duration": 18,
    "start_time": "2025-03-23T17:18:08.372Z"
   },
   {
    "duration": 6,
    "start_time": "2025-03-23T17:18:08.391Z"
   },
   {
    "duration": 21,
    "start_time": "2025-03-23T17:18:08.398Z"
   },
   {
    "duration": 34,
    "start_time": "2025-03-23T17:18:08.420Z"
   },
   {
    "duration": 2,
    "start_time": "2025-03-23T17:18:08.456Z"
   },
   {
    "duration": 34,
    "start_time": "2025-03-23T17:18:08.459Z"
   },
   {
    "duration": 2,
    "start_time": "2025-03-23T17:18:08.495Z"
   },
   {
    "duration": 3,
    "start_time": "2025-03-23T17:18:08.499Z"
   },
   {
    "duration": 4,
    "start_time": "2025-03-23T17:18:08.504Z"
   },
   {
    "duration": 9,
    "start_time": "2025-03-23T17:18:08.509Z"
   },
   {
    "duration": 4,
    "start_time": "2025-03-23T17:18:08.519Z"
   },
   {
    "duration": 3,
    "start_time": "2025-03-23T17:18:08.524Z"
   },
   {
    "duration": 6,
    "start_time": "2025-03-23T17:18:08.528Z"
   },
   {
    "duration": 6,
    "start_time": "2025-03-23T17:18:08.536Z"
   },
   {
    "duration": 348,
    "start_time": "2025-03-23T17:18:51.722Z"
   },
   {
    "duration": 136,
    "start_time": "2025-03-23T17:18:52.072Z"
   },
   {
    "duration": 21,
    "start_time": "2025-03-23T17:18:52.209Z"
   },
   {
    "duration": 12,
    "start_time": "2025-03-23T17:18:52.231Z"
   },
   {
    "duration": 5,
    "start_time": "2025-03-23T17:18:52.246Z"
   },
   {
    "duration": 3,
    "start_time": "2025-03-23T17:18:52.268Z"
   },
   {
    "duration": 13,
    "start_time": "2025-03-23T17:18:52.272Z"
   },
   {
    "duration": 25,
    "start_time": "2025-03-23T17:18:52.287Z"
   },
   {
    "duration": 14,
    "start_time": "2025-03-23T17:18:52.313Z"
   },
   {
    "duration": 18,
    "start_time": "2025-03-23T17:18:52.328Z"
   },
   {
    "duration": 9,
    "start_time": "2025-03-23T17:18:52.348Z"
   },
   {
    "duration": 12,
    "start_time": "2025-03-23T17:18:52.359Z"
   },
   {
    "duration": 5,
    "start_time": "2025-03-23T17:18:52.372Z"
   },
   {
    "duration": 8,
    "start_time": "2025-03-23T17:18:52.379Z"
   },
   {
    "duration": 8,
    "start_time": "2025-03-23T17:18:52.388Z"
   },
   {
    "duration": 4,
    "start_time": "2025-03-23T17:18:52.398Z"
   },
   {
    "duration": 8,
    "start_time": "2025-03-23T17:18:52.403Z"
   },
   {
    "duration": 5,
    "start_time": "2025-03-23T17:18:52.413Z"
   },
   {
    "duration": 67,
    "start_time": "2025-03-23T17:18:52.419Z"
   },
   {
    "duration": 34,
    "start_time": "2025-03-23T17:18:52.488Z"
   },
   {
    "duration": 4,
    "start_time": "2025-03-23T17:18:52.523Z"
   },
   {
    "duration": 5,
    "start_time": "2025-03-23T17:18:52.529Z"
   },
   {
    "duration": 11,
    "start_time": "2025-03-23T17:18:52.535Z"
   },
   {
    "duration": 9,
    "start_time": "2025-03-23T17:18:52.547Z"
   },
   {
    "duration": 19,
    "start_time": "2025-03-23T17:18:52.557Z"
   },
   {
    "duration": 7,
    "start_time": "2025-03-23T17:18:52.577Z"
   },
   {
    "duration": 33,
    "start_time": "2025-03-23T17:18:52.586Z"
   },
   {
    "duration": 13,
    "start_time": "2025-03-23T17:18:52.621Z"
   },
   {
    "duration": 3,
    "start_time": "2025-03-23T17:18:52.635Z"
   },
   {
    "duration": 11,
    "start_time": "2025-03-23T17:18:52.639Z"
   },
   {
    "duration": 12,
    "start_time": "2025-03-23T17:18:52.651Z"
   },
   {
    "duration": 4,
    "start_time": "2025-03-23T17:18:52.664Z"
   },
   {
    "duration": 4,
    "start_time": "2025-03-23T17:18:52.669Z"
   },
   {
    "duration": 5,
    "start_time": "2025-03-23T17:18:52.675Z"
   },
   {
    "duration": 3,
    "start_time": "2025-03-23T17:18:52.682Z"
   },
   {
    "duration": 72,
    "start_time": "2025-03-23T17:18:52.687Z"
   },
   {
    "duration": 7,
    "start_time": "2025-03-23T17:18:52.761Z"
   },
   {
    "duration": 383,
    "start_time": "2025-03-23T17:23:07.108Z"
   },
   {
    "duration": 80,
    "start_time": "2025-03-23T17:23:07.493Z"
   },
   {
    "duration": 15,
    "start_time": "2025-03-23T17:23:07.574Z"
   },
   {
    "duration": 8,
    "start_time": "2025-03-23T17:23:07.591Z"
   },
   {
    "duration": 3,
    "start_time": "2025-03-23T17:23:07.601Z"
   },
   {
    "duration": 5,
    "start_time": "2025-03-23T17:23:07.605Z"
   },
   {
    "duration": 4,
    "start_time": "2025-03-23T17:23:07.612Z"
   },
   {
    "duration": 4,
    "start_time": "2025-03-23T17:23:07.617Z"
   },
   {
    "duration": 16,
    "start_time": "2025-03-23T17:23:07.623Z"
   },
   {
    "duration": 7,
    "start_time": "2025-03-23T17:23:07.641Z"
   },
   {
    "duration": 8,
    "start_time": "2025-03-23T17:23:07.650Z"
   },
   {
    "duration": 7,
    "start_time": "2025-03-23T17:23:07.660Z"
   },
   {
    "duration": 4,
    "start_time": "2025-03-23T17:23:07.668Z"
   },
   {
    "duration": 8,
    "start_time": "2025-03-23T17:23:07.673Z"
   },
   {
    "duration": 6,
    "start_time": "2025-03-23T17:23:07.682Z"
   },
   {
    "duration": 4,
    "start_time": "2025-03-23T17:23:07.689Z"
   },
   {
    "duration": 10,
    "start_time": "2025-03-23T17:23:07.694Z"
   },
   {
    "duration": 8,
    "start_time": "2025-03-23T17:23:07.705Z"
   },
   {
    "duration": 13,
    "start_time": "2025-03-23T17:23:07.715Z"
   },
   {
    "duration": 6,
    "start_time": "2025-03-23T17:23:07.767Z"
   },
   {
    "duration": 8,
    "start_time": "2025-03-23T17:23:07.774Z"
   },
   {
    "duration": 4,
    "start_time": "2025-03-23T17:23:07.783Z"
   },
   {
    "duration": 16,
    "start_time": "2025-03-23T17:23:07.788Z"
   },
   {
    "duration": 7,
    "start_time": "2025-03-23T17:23:07.806Z"
   },
   {
    "duration": 18,
    "start_time": "2025-03-23T17:23:07.815Z"
   },
   {
    "duration": 8,
    "start_time": "2025-03-23T17:23:07.834Z"
   },
   {
    "duration": 34,
    "start_time": "2025-03-23T17:23:07.843Z"
   },
   {
    "duration": 13,
    "start_time": "2025-03-23T17:23:07.880Z"
   },
   {
    "duration": 2,
    "start_time": "2025-03-23T17:23:07.895Z"
   },
   {
    "duration": 3,
    "start_time": "2025-03-23T17:23:07.899Z"
   },
   {
    "duration": 3,
    "start_time": "2025-03-23T17:23:07.903Z"
   },
   {
    "duration": 2,
    "start_time": "2025-03-23T17:23:07.908Z"
   },
   {
    "duration": 4,
    "start_time": "2025-03-23T17:23:07.912Z"
   },
   {
    "duration": 61,
    "start_time": "2025-03-23T17:23:07.918Z"
   },
   {
    "duration": 3,
    "start_time": "2025-03-23T17:23:07.981Z"
   },
   {
    "duration": 28,
    "start_time": "2025-03-23T17:23:07.986Z"
   },
   {
    "duration": 153,
    "start_time": "2025-03-23T17:23:08.016Z"
   },
   {
    "duration": 403,
    "start_time": "2025-03-23T17:23:35.759Z"
   },
   {
    "duration": 99,
    "start_time": "2025-03-23T17:23:36.166Z"
   },
   {
    "duration": 19,
    "start_time": "2025-03-23T17:23:36.266Z"
   },
   {
    "duration": 46,
    "start_time": "2025-03-23T17:23:36.287Z"
   },
   {
    "duration": 5,
    "start_time": "2025-03-23T17:23:36.334Z"
   },
   {
    "duration": 6,
    "start_time": "2025-03-23T17:23:36.340Z"
   },
   {
    "duration": 9,
    "start_time": "2025-03-23T17:23:36.348Z"
   },
   {
    "duration": 5,
    "start_time": "2025-03-23T17:23:36.359Z"
   },
   {
    "duration": 15,
    "start_time": "2025-03-23T17:23:36.365Z"
   },
   {
    "duration": 10,
    "start_time": "2025-03-23T17:23:36.383Z"
   },
   {
    "duration": 9,
    "start_time": "2025-03-23T17:23:36.394Z"
   },
   {
    "duration": 4,
    "start_time": "2025-03-23T17:23:36.405Z"
   },
   {
    "duration": 26,
    "start_time": "2025-03-23T17:23:36.412Z"
   },
   {
    "duration": 43,
    "start_time": "2025-03-23T17:23:36.439Z"
   },
   {
    "duration": 34,
    "start_time": "2025-03-23T17:23:36.483Z"
   },
   {
    "duration": 35,
    "start_time": "2025-03-23T17:23:36.519Z"
   },
   {
    "duration": 8,
    "start_time": "2025-03-23T17:23:36.556Z"
   },
   {
    "duration": 19,
    "start_time": "2025-03-23T17:23:36.566Z"
   },
   {
    "duration": 28,
    "start_time": "2025-03-23T17:23:36.587Z"
   },
   {
    "duration": 8,
    "start_time": "2025-03-23T17:23:36.617Z"
   },
   {
    "duration": 11,
    "start_time": "2025-03-23T17:23:36.627Z"
   },
   {
    "duration": 5,
    "start_time": "2025-03-23T17:23:36.640Z"
   },
   {
    "duration": 14,
    "start_time": "2025-03-23T17:23:36.647Z"
   },
   {
    "duration": 11,
    "start_time": "2025-03-23T17:23:36.663Z"
   },
   {
    "duration": 43,
    "start_time": "2025-03-23T17:23:36.676Z"
   },
   {
    "duration": 44,
    "start_time": "2025-03-23T17:23:36.721Z"
   },
   {
    "duration": 17,
    "start_time": "2025-03-23T17:23:36.767Z"
   },
   {
    "duration": 22,
    "start_time": "2025-03-23T17:23:36.787Z"
   },
   {
    "duration": 11,
    "start_time": "2025-03-23T17:23:36.810Z"
   },
   {
    "duration": 11,
    "start_time": "2025-03-23T17:23:36.823Z"
   },
   {
    "duration": 5,
    "start_time": "2025-03-23T17:23:36.835Z"
   },
   {
    "duration": 7,
    "start_time": "2025-03-23T17:23:36.841Z"
   },
   {
    "duration": 4,
    "start_time": "2025-03-23T17:23:36.850Z"
   },
   {
    "duration": 7,
    "start_time": "2025-03-23T17:23:36.855Z"
   },
   {
    "duration": 10,
    "start_time": "2025-03-23T17:23:36.863Z"
   },
   {
    "duration": 92,
    "start_time": "2025-03-23T17:23:36.875Z"
   },
   {
    "duration": 0,
    "start_time": "2025-03-23T17:23:36.969Z"
   },
   {
    "duration": 431,
    "start_time": "2025-03-23T17:24:22.845Z"
   },
   {
    "duration": 92,
    "start_time": "2025-03-23T17:24:23.278Z"
   },
   {
    "duration": 25,
    "start_time": "2025-03-23T17:24:23.372Z"
   },
   {
    "duration": 13,
    "start_time": "2025-03-23T17:24:23.399Z"
   },
   {
    "duration": 17,
    "start_time": "2025-03-23T17:24:23.415Z"
   },
   {
    "duration": 15,
    "start_time": "2025-03-23T17:24:23.433Z"
   },
   {
    "duration": 28,
    "start_time": "2025-03-23T17:24:23.450Z"
   },
   {
    "duration": 7,
    "start_time": "2025-03-23T17:24:23.479Z"
   },
   {
    "duration": 14,
    "start_time": "2025-03-23T17:24:23.487Z"
   },
   {
    "duration": 9,
    "start_time": "2025-03-23T17:24:23.502Z"
   },
   {
    "duration": 16,
    "start_time": "2025-03-23T17:24:23.513Z"
   },
   {
    "duration": 4,
    "start_time": "2025-03-23T17:24:23.530Z"
   },
   {
    "duration": 5,
    "start_time": "2025-03-23T17:24:23.536Z"
   },
   {
    "duration": 25,
    "start_time": "2025-03-23T17:24:23.544Z"
   },
   {
    "duration": 13,
    "start_time": "2025-03-23T17:24:23.571Z"
   },
   {
    "duration": 13,
    "start_time": "2025-03-23T17:24:23.585Z"
   },
   {
    "duration": 8,
    "start_time": "2025-03-23T17:24:23.599Z"
   },
   {
    "duration": 4,
    "start_time": "2025-03-23T17:24:23.608Z"
   },
   {
    "duration": 9,
    "start_time": "2025-03-23T17:24:23.613Z"
   },
   {
    "duration": 6,
    "start_time": "2025-03-23T17:24:23.623Z"
   },
   {
    "duration": 4,
    "start_time": "2025-03-23T17:24:23.631Z"
   },
   {
    "duration": 13,
    "start_time": "2025-03-23T17:24:23.636Z"
   },
   {
    "duration": 8,
    "start_time": "2025-03-23T17:24:23.668Z"
   },
   {
    "duration": 8,
    "start_time": "2025-03-23T17:24:23.677Z"
   },
   {
    "duration": 18,
    "start_time": "2025-03-23T17:24:23.687Z"
   },
   {
    "duration": 8,
    "start_time": "2025-03-23T17:24:23.707Z"
   },
   {
    "duration": 15,
    "start_time": "2025-03-23T17:24:23.716Z"
   },
   {
    "duration": 41,
    "start_time": "2025-03-23T17:24:23.733Z"
   },
   {
    "duration": 2,
    "start_time": "2025-03-23T17:24:23.776Z"
   },
   {
    "duration": 2,
    "start_time": "2025-03-23T17:24:23.781Z"
   },
   {
    "duration": 3,
    "start_time": "2025-03-23T17:24:23.785Z"
   },
   {
    "duration": 3,
    "start_time": "2025-03-23T17:24:23.790Z"
   },
   {
    "duration": 6,
    "start_time": "2025-03-23T17:24:23.794Z"
   },
   {
    "duration": 22,
    "start_time": "2025-03-23T17:24:23.801Z"
   },
   {
    "duration": 4,
    "start_time": "2025-03-23T17:24:23.825Z"
   },
   {
    "duration": 36,
    "start_time": "2025-03-23T17:24:23.831Z"
   },
   {
    "duration": 8,
    "start_time": "2025-03-23T17:24:23.870Z"
   },
   {
    "duration": 394,
    "start_time": "2025-03-23T17:24:49.183Z"
   },
   {
    "duration": 98,
    "start_time": "2025-03-23T17:24:49.579Z"
   },
   {
    "duration": 15,
    "start_time": "2025-03-23T17:24:49.679Z"
   },
   {
    "duration": 10,
    "start_time": "2025-03-23T17:24:49.695Z"
   },
   {
    "duration": 4,
    "start_time": "2025-03-23T17:24:49.707Z"
   },
   {
    "duration": 7,
    "start_time": "2025-03-23T17:24:49.712Z"
   },
   {
    "duration": 6,
    "start_time": "2025-03-23T17:24:49.721Z"
   },
   {
    "duration": 6,
    "start_time": "2025-03-23T17:24:49.728Z"
   },
   {
    "duration": 38,
    "start_time": "2025-03-23T17:24:49.735Z"
   },
   {
    "duration": 27,
    "start_time": "2025-03-23T17:24:49.775Z"
   },
   {
    "duration": 20,
    "start_time": "2025-03-23T17:24:49.804Z"
   },
   {
    "duration": 4,
    "start_time": "2025-03-23T17:24:49.826Z"
   },
   {
    "duration": 7,
    "start_time": "2025-03-23T17:24:49.831Z"
   },
   {
    "duration": 8,
    "start_time": "2025-03-23T17:24:49.841Z"
   },
   {
    "duration": 6,
    "start_time": "2025-03-23T17:24:49.851Z"
   },
   {
    "duration": 10,
    "start_time": "2025-03-23T17:24:49.859Z"
   },
   {
    "duration": 13,
    "start_time": "2025-03-23T17:24:49.870Z"
   },
   {
    "duration": 9,
    "start_time": "2025-03-23T17:24:49.885Z"
   },
   {
    "duration": 9,
    "start_time": "2025-03-23T17:24:49.896Z"
   },
   {
    "duration": 18,
    "start_time": "2025-03-23T17:24:49.907Z"
   },
   {
    "duration": 6,
    "start_time": "2025-03-23T17:24:49.927Z"
   },
   {
    "duration": 10,
    "start_time": "2025-03-23T17:24:49.934Z"
   },
   {
    "duration": 11,
    "start_time": "2025-03-23T17:24:49.945Z"
   },
   {
    "duration": 20,
    "start_time": "2025-03-23T17:24:49.958Z"
   },
   {
    "duration": 35,
    "start_time": "2025-03-23T17:24:49.979Z"
   },
   {
    "duration": 9,
    "start_time": "2025-03-23T17:24:50.016Z"
   },
   {
    "duration": 32,
    "start_time": "2025-03-23T17:24:50.027Z"
   },
   {
    "duration": 14,
    "start_time": "2025-03-23T17:24:50.061Z"
   },
   {
    "duration": 11,
    "start_time": "2025-03-23T17:24:50.076Z"
   },
   {
    "duration": 27,
    "start_time": "2025-03-23T17:24:50.089Z"
   },
   {
    "duration": 8,
    "start_time": "2025-03-23T17:24:50.118Z"
   },
   {
    "duration": 5,
    "start_time": "2025-03-23T17:24:50.127Z"
   },
   {
    "duration": 16,
    "start_time": "2025-03-23T17:24:50.134Z"
   },
   {
    "duration": 6,
    "start_time": "2025-03-23T17:24:50.152Z"
   },
   {
    "duration": 10,
    "start_time": "2025-03-23T17:24:50.160Z"
   },
   {
    "duration": 11,
    "start_time": "2025-03-23T17:24:50.171Z"
   },
   {
    "duration": 6,
    "start_time": "2025-03-23T17:24:50.184Z"
   },
   {
    "duration": 414,
    "start_time": "2025-03-23T17:26:18.666Z"
   },
   {
    "duration": 85,
    "start_time": "2025-03-23T17:26:19.082Z"
   },
   {
    "duration": 17,
    "start_time": "2025-03-23T17:26:19.169Z"
   },
   {
    "duration": 9,
    "start_time": "2025-03-23T17:26:19.187Z"
   },
   {
    "duration": 4,
    "start_time": "2025-03-23T17:26:19.198Z"
   },
   {
    "duration": 4,
    "start_time": "2025-03-23T17:26:19.203Z"
   },
   {
    "duration": 8,
    "start_time": "2025-03-23T17:26:19.208Z"
   },
   {
    "duration": 5,
    "start_time": "2025-03-23T17:26:19.218Z"
   },
   {
    "duration": 44,
    "start_time": "2025-03-23T17:26:19.224Z"
   },
   {
    "duration": 8,
    "start_time": "2025-03-23T17:26:19.269Z"
   },
   {
    "duration": 20,
    "start_time": "2025-03-23T17:26:19.279Z"
   },
   {
    "duration": 4,
    "start_time": "2025-03-23T17:26:19.301Z"
   },
   {
    "duration": 4,
    "start_time": "2025-03-23T17:26:19.307Z"
   },
   {
    "duration": 11,
    "start_time": "2025-03-23T17:26:19.315Z"
   },
   {
    "duration": 10,
    "start_time": "2025-03-23T17:26:19.328Z"
   },
   {
    "duration": 29,
    "start_time": "2025-03-23T17:26:19.339Z"
   },
   {
    "duration": 8,
    "start_time": "2025-03-23T17:26:19.369Z"
   },
   {
    "duration": 3,
    "start_time": "2025-03-23T17:26:19.379Z"
   },
   {
    "duration": 8,
    "start_time": "2025-03-23T17:26:19.384Z"
   },
   {
    "duration": 4,
    "start_time": "2025-03-23T17:26:19.393Z"
   },
   {
    "duration": 6,
    "start_time": "2025-03-23T17:26:19.398Z"
   },
   {
    "duration": 3,
    "start_time": "2025-03-23T17:26:19.406Z"
   },
   {
    "duration": 8,
    "start_time": "2025-03-23T17:26:19.411Z"
   },
   {
    "duration": 48,
    "start_time": "2025-03-23T17:26:19.420Z"
   },
   {
    "duration": 24,
    "start_time": "2025-03-23T17:26:19.470Z"
   },
   {
    "duration": 10,
    "start_time": "2025-03-23T17:26:19.496Z"
   },
   {
    "duration": 18,
    "start_time": "2025-03-23T17:26:19.509Z"
   },
   {
    "duration": 45,
    "start_time": "2025-03-23T17:26:19.529Z"
   },
   {
    "duration": 3,
    "start_time": "2025-03-23T17:26:19.576Z"
   },
   {
    "duration": 6,
    "start_time": "2025-03-23T17:26:19.580Z"
   },
   {
    "duration": 2,
    "start_time": "2025-03-23T17:26:19.588Z"
   },
   {
    "duration": 3,
    "start_time": "2025-03-23T17:26:19.591Z"
   },
   {
    "duration": 4,
    "start_time": "2025-03-23T17:26:19.596Z"
   },
   {
    "duration": 7,
    "start_time": "2025-03-23T17:26:19.602Z"
   },
   {
    "duration": 3,
    "start_time": "2025-03-23T17:26:19.610Z"
   },
   {
    "duration": 896,
    "start_time": "2025-03-23T17:26:19.615Z"
   },
   {
    "duration": 0,
    "start_time": "2025-03-23T17:26:20.512Z"
   },
   {
    "duration": 6,
    "start_time": "2025-03-23T17:26:31.255Z"
   },
   {
    "duration": 6,
    "start_time": "2025-03-23T17:26:35.048Z"
   },
   {
    "duration": 6,
    "start_time": "2025-03-23T17:29:28.336Z"
   },
   {
    "duration": 6,
    "start_time": "2025-03-23T17:29:31.946Z"
   },
   {
    "duration": 360,
    "start_time": "2025-03-23T17:29:44.411Z"
   },
   {
    "duration": 84,
    "start_time": "2025-03-23T17:29:44.773Z"
   },
   {
    "duration": 16,
    "start_time": "2025-03-23T17:29:44.858Z"
   },
   {
    "duration": 10,
    "start_time": "2025-03-23T17:29:44.875Z"
   },
   {
    "duration": 3,
    "start_time": "2025-03-23T17:29:44.887Z"
   },
   {
    "duration": 3,
    "start_time": "2025-03-23T17:29:44.891Z"
   },
   {
    "duration": 4,
    "start_time": "2025-03-23T17:29:44.895Z"
   },
   {
    "duration": 4,
    "start_time": "2025-03-23T17:29:44.900Z"
   },
   {
    "duration": 13,
    "start_time": "2025-03-23T17:29:44.906Z"
   },
   {
    "duration": 8,
    "start_time": "2025-03-23T17:29:44.920Z"
   },
   {
    "duration": 44,
    "start_time": "2025-03-23T17:29:44.930Z"
   },
   {
    "duration": 4,
    "start_time": "2025-03-23T17:29:44.975Z"
   },
   {
    "duration": 5,
    "start_time": "2025-03-23T17:29:44.981Z"
   },
   {
    "duration": 9,
    "start_time": "2025-03-23T17:29:44.988Z"
   },
   {
    "duration": 11,
    "start_time": "2025-03-23T17:29:44.999Z"
   },
   {
    "duration": 17,
    "start_time": "2025-03-23T17:29:45.011Z"
   },
   {
    "duration": 30,
    "start_time": "2025-03-23T17:29:45.030Z"
   },
   {
    "duration": 33,
    "start_time": "2025-03-23T17:29:45.062Z"
   },
   {
    "duration": 37,
    "start_time": "2025-03-23T17:29:45.097Z"
   },
   {
    "duration": 23,
    "start_time": "2025-03-23T17:29:45.136Z"
   },
   {
    "duration": 30,
    "start_time": "2025-03-23T17:29:45.160Z"
   },
   {
    "duration": 26,
    "start_time": "2025-03-23T17:29:45.192Z"
   },
   {
    "duration": 13,
    "start_time": "2025-03-23T17:29:45.220Z"
   },
   {
    "duration": 22,
    "start_time": "2025-03-23T17:29:45.236Z"
   },
   {
    "duration": 45,
    "start_time": "2025-03-23T17:29:45.260Z"
   },
   {
    "duration": 24,
    "start_time": "2025-03-23T17:29:45.307Z"
   },
   {
    "duration": 25,
    "start_time": "2025-03-23T17:29:45.332Z"
   },
   {
    "duration": 14,
    "start_time": "2025-03-23T17:29:45.359Z"
   },
   {
    "duration": 3,
    "start_time": "2025-03-23T17:29:45.374Z"
   },
   {
    "duration": 17,
    "start_time": "2025-03-23T17:29:45.379Z"
   },
   {
    "duration": 5,
    "start_time": "2025-03-23T17:29:45.398Z"
   },
   {
    "duration": 3,
    "start_time": "2025-03-23T17:29:45.404Z"
   },
   {
    "duration": 4,
    "start_time": "2025-03-23T17:29:45.409Z"
   },
   {
    "duration": 17,
    "start_time": "2025-03-23T17:29:45.415Z"
   },
   {
    "duration": 6,
    "start_time": "2025-03-23T17:29:45.433Z"
   },
   {
    "duration": 8,
    "start_time": "2025-03-23T17:29:45.440Z"
   },
   {
    "duration": 6,
    "start_time": "2025-03-23T17:29:45.449Z"
   },
   {
    "duration": 363,
    "start_time": "2025-03-23T17:36:20.798Z"
   },
   {
    "duration": 133,
    "start_time": "2025-03-23T17:36:21.162Z"
   },
   {
    "duration": 14,
    "start_time": "2025-03-23T17:36:21.297Z"
   },
   {
    "duration": 8,
    "start_time": "2025-03-23T17:36:21.313Z"
   },
   {
    "duration": 6,
    "start_time": "2025-03-23T17:36:21.322Z"
   },
   {
    "duration": 10,
    "start_time": "2025-03-23T17:36:21.329Z"
   },
   {
    "duration": 4,
    "start_time": "2025-03-23T17:36:21.340Z"
   },
   {
    "duration": 23,
    "start_time": "2025-03-23T17:36:21.345Z"
   },
   {
    "duration": 12,
    "start_time": "2025-03-23T17:36:21.370Z"
   },
   {
    "duration": 8,
    "start_time": "2025-03-23T17:36:21.384Z"
   },
   {
    "duration": 8,
    "start_time": "2025-03-23T17:36:21.393Z"
   },
   {
    "duration": 5,
    "start_time": "2025-03-23T17:36:21.402Z"
   },
   {
    "duration": 13,
    "start_time": "2025-03-23T17:36:21.408Z"
   },
   {
    "duration": 9,
    "start_time": "2025-03-23T17:36:21.423Z"
   },
   {
    "duration": 8,
    "start_time": "2025-03-23T17:36:21.434Z"
   },
   {
    "duration": 29,
    "start_time": "2025-03-23T17:36:21.443Z"
   },
   {
    "duration": 10,
    "start_time": "2025-03-23T17:36:21.474Z"
   },
   {
    "duration": 15,
    "start_time": "2025-03-23T17:36:21.486Z"
   },
   {
    "duration": 16,
    "start_time": "2025-03-23T17:36:21.502Z"
   },
   {
    "duration": 5,
    "start_time": "2025-03-23T17:36:21.519Z"
   },
   {
    "duration": 5,
    "start_time": "2025-03-23T17:36:21.525Z"
   },
   {
    "duration": 7,
    "start_time": "2025-03-23T17:36:21.531Z"
   },
   {
    "duration": 10,
    "start_time": "2025-03-23T17:36:21.539Z"
   },
   {
    "duration": 19,
    "start_time": "2025-03-23T17:36:21.550Z"
   },
   {
    "duration": 17,
    "start_time": "2025-03-23T17:36:21.571Z"
   },
   {
    "duration": 8,
    "start_time": "2025-03-23T17:36:21.590Z"
   },
   {
    "duration": 28,
    "start_time": "2025-03-23T17:36:21.599Z"
   },
   {
    "duration": 14,
    "start_time": "2025-03-23T17:36:21.629Z"
   },
   {
    "duration": 2,
    "start_time": "2025-03-23T17:36:21.644Z"
   },
   {
    "duration": 23,
    "start_time": "2025-03-23T17:36:21.648Z"
   },
   {
    "duration": 4,
    "start_time": "2025-03-23T17:36:21.672Z"
   },
   {
    "duration": 5,
    "start_time": "2025-03-23T17:36:21.678Z"
   },
   {
    "duration": 18,
    "start_time": "2025-03-23T17:36:21.685Z"
   },
   {
    "duration": 8,
    "start_time": "2025-03-23T17:36:21.704Z"
   },
   {
    "duration": 5,
    "start_time": "2025-03-23T17:36:21.713Z"
   },
   {
    "duration": 13,
    "start_time": "2025-03-23T17:36:21.719Z"
   },
   {
    "duration": 19,
    "start_time": "2025-03-23T17:36:21.733Z"
   },
   {
    "duration": 373,
    "start_time": "2025-03-23T17:37:18.809Z"
   },
   {
    "duration": 174,
    "start_time": "2025-03-23T17:37:19.184Z"
   },
   {
    "duration": 16,
    "start_time": "2025-03-23T17:37:19.360Z"
   },
   {
    "duration": 9,
    "start_time": "2025-03-23T17:37:19.378Z"
   },
   {
    "duration": 13,
    "start_time": "2025-03-23T17:37:19.389Z"
   },
   {
    "duration": 15,
    "start_time": "2025-03-23T17:37:19.404Z"
   },
   {
    "duration": 4,
    "start_time": "2025-03-23T17:37:19.421Z"
   },
   {
    "duration": 4,
    "start_time": "2025-03-23T17:37:19.426Z"
   },
   {
    "duration": 14,
    "start_time": "2025-03-23T17:37:19.432Z"
   },
   {
    "duration": 21,
    "start_time": "2025-03-23T17:37:19.447Z"
   },
   {
    "duration": 8,
    "start_time": "2025-03-23T17:37:19.469Z"
   },
   {
    "duration": 3,
    "start_time": "2025-03-23T17:37:19.478Z"
   },
   {
    "duration": 11,
    "start_time": "2025-03-23T17:37:19.483Z"
   },
   {
    "duration": 7,
    "start_time": "2025-03-23T17:37:19.497Z"
   },
   {
    "duration": 16,
    "start_time": "2025-03-23T17:37:19.505Z"
   },
   {
    "duration": 3,
    "start_time": "2025-03-23T17:37:19.522Z"
   },
   {
    "duration": 8,
    "start_time": "2025-03-23T17:37:19.526Z"
   },
   {
    "duration": 4,
    "start_time": "2025-03-23T17:37:19.535Z"
   },
   {
    "duration": 27,
    "start_time": "2025-03-23T17:37:19.540Z"
   },
   {
    "duration": 5,
    "start_time": "2025-03-23T17:37:19.568Z"
   },
   {
    "duration": 4,
    "start_time": "2025-03-23T17:37:19.574Z"
   },
   {
    "duration": 15,
    "start_time": "2025-03-23T17:37:19.579Z"
   },
   {
    "duration": 8,
    "start_time": "2025-03-23T17:37:19.595Z"
   },
   {
    "duration": 9,
    "start_time": "2025-03-23T17:37:19.605Z"
   },
   {
    "duration": 22,
    "start_time": "2025-03-23T17:37:19.616Z"
   },
   {
    "duration": 28,
    "start_time": "2025-03-23T17:37:19.640Z"
   },
   {
    "duration": 14,
    "start_time": "2025-03-23T17:37:19.669Z"
   },
   {
    "duration": 13,
    "start_time": "2025-03-23T17:37:19.684Z"
   },
   {
    "duration": 2,
    "start_time": "2025-03-23T17:37:19.699Z"
   },
   {
    "duration": 6,
    "start_time": "2025-03-23T17:37:19.703Z"
   },
   {
    "duration": 4,
    "start_time": "2025-03-23T17:37:19.710Z"
   },
   {
    "duration": 3,
    "start_time": "2025-03-23T17:37:19.715Z"
   },
   {
    "duration": 7,
    "start_time": "2025-03-23T17:37:19.719Z"
   },
   {
    "duration": 6,
    "start_time": "2025-03-23T17:37:19.728Z"
   },
   {
    "duration": 4,
    "start_time": "2025-03-23T17:37:19.767Z"
   },
   {
    "duration": 5,
    "start_time": "2025-03-23T17:37:19.773Z"
   },
   {
    "duration": 8,
    "start_time": "2025-03-23T17:37:19.780Z"
   },
   {
    "duration": 389,
    "start_time": "2025-03-23T17:38:34.971Z"
   },
   {
    "duration": 95,
    "start_time": "2025-03-23T17:38:35.367Z"
   },
   {
    "duration": 16,
    "start_time": "2025-03-23T17:38:35.464Z"
   },
   {
    "duration": 18,
    "start_time": "2025-03-23T17:38:35.482Z"
   },
   {
    "duration": 22,
    "start_time": "2025-03-23T17:38:35.503Z"
   },
   {
    "duration": 5,
    "start_time": "2025-03-23T17:38:35.527Z"
   },
   {
    "duration": 4,
    "start_time": "2025-03-23T17:38:35.534Z"
   },
   {
    "duration": 32,
    "start_time": "2025-03-23T17:38:35.540Z"
   },
   {
    "duration": 17,
    "start_time": "2025-03-23T17:38:35.574Z"
   },
   {
    "duration": 8,
    "start_time": "2025-03-23T17:38:35.593Z"
   },
   {
    "duration": 14,
    "start_time": "2025-03-23T17:38:35.602Z"
   },
   {
    "duration": 3,
    "start_time": "2025-03-23T17:38:35.618Z"
   },
   {
    "duration": 10,
    "start_time": "2025-03-23T17:38:35.622Z"
   },
   {
    "duration": 8,
    "start_time": "2025-03-23T17:38:35.635Z"
   },
   {
    "duration": 19,
    "start_time": "2025-03-23T17:38:35.644Z"
   },
   {
    "duration": 10,
    "start_time": "2025-03-23T17:38:35.667Z"
   },
   {
    "duration": 12,
    "start_time": "2025-03-23T17:38:35.679Z"
   },
   {
    "duration": 7,
    "start_time": "2025-03-23T17:38:35.693Z"
   },
   {
    "duration": 16,
    "start_time": "2025-03-23T17:38:35.701Z"
   },
   {
    "duration": 4,
    "start_time": "2025-03-23T17:38:35.719Z"
   },
   {
    "duration": 12,
    "start_time": "2025-03-23T17:38:35.725Z"
   },
   {
    "duration": 12,
    "start_time": "2025-03-23T17:38:35.738Z"
   },
   {
    "duration": 12,
    "start_time": "2025-03-23T17:38:35.752Z"
   },
   {
    "duration": 20,
    "start_time": "2025-03-23T17:38:35.766Z"
   },
   {
    "duration": 25,
    "start_time": "2025-03-23T17:38:35.787Z"
   },
   {
    "duration": 12,
    "start_time": "2025-03-23T17:38:35.813Z"
   },
   {
    "duration": 37,
    "start_time": "2025-03-23T17:38:35.826Z"
   },
   {
    "duration": 23,
    "start_time": "2025-03-23T17:38:35.865Z"
   },
   {
    "duration": 9,
    "start_time": "2025-03-23T17:38:35.890Z"
   },
   {
    "duration": 35,
    "start_time": "2025-03-23T17:38:35.901Z"
   },
   {
    "duration": 16,
    "start_time": "2025-03-23T17:38:35.938Z"
   },
   {
    "duration": 3,
    "start_time": "2025-03-23T17:38:35.956Z"
   },
   {
    "duration": 10,
    "start_time": "2025-03-23T17:38:35.960Z"
   },
   {
    "duration": 13,
    "start_time": "2025-03-23T17:38:35.971Z"
   },
   {
    "duration": 7,
    "start_time": "2025-03-23T17:38:35.986Z"
   },
   {
    "duration": 17,
    "start_time": "2025-03-23T17:38:35.995Z"
   },
   {
    "duration": 7,
    "start_time": "2025-03-23T17:38:36.014Z"
   },
   {
    "duration": 413,
    "start_time": "2025-03-23T17:38:50.857Z"
   },
   {
    "duration": 156,
    "start_time": "2025-03-23T17:38:51.272Z"
   },
   {
    "duration": 16,
    "start_time": "2025-03-23T17:38:51.429Z"
   },
   {
    "duration": 17,
    "start_time": "2025-03-23T17:38:51.446Z"
   },
   {
    "duration": 4,
    "start_time": "2025-03-23T17:38:51.464Z"
   },
   {
    "duration": 22,
    "start_time": "2025-03-23T17:38:51.469Z"
   },
   {
    "duration": 30,
    "start_time": "2025-03-23T17:38:51.492Z"
   },
   {
    "duration": 5,
    "start_time": "2025-03-23T17:38:51.523Z"
   },
   {
    "duration": 12,
    "start_time": "2025-03-23T17:38:51.530Z"
   },
   {
    "duration": 7,
    "start_time": "2025-03-23T17:38:51.543Z"
   },
   {
    "duration": 7,
    "start_time": "2025-03-23T17:38:51.551Z"
   },
   {
    "duration": 7,
    "start_time": "2025-03-23T17:38:51.559Z"
   },
   {
    "duration": 4,
    "start_time": "2025-03-23T17:38:51.568Z"
   },
   {
    "duration": 19,
    "start_time": "2025-03-23T17:38:51.574Z"
   },
   {
    "duration": 14,
    "start_time": "2025-03-23T17:38:51.595Z"
   },
   {
    "duration": 17,
    "start_time": "2025-03-23T17:38:51.610Z"
   },
   {
    "duration": 7,
    "start_time": "2025-03-23T17:38:51.629Z"
   },
   {
    "duration": 9,
    "start_time": "2025-03-23T17:38:51.637Z"
   },
   {
    "duration": 13,
    "start_time": "2025-03-23T17:38:51.647Z"
   },
   {
    "duration": 5,
    "start_time": "2025-03-23T17:38:51.661Z"
   },
   {
    "duration": 3,
    "start_time": "2025-03-23T17:38:51.667Z"
   },
   {
    "duration": 6,
    "start_time": "2025-03-23T17:38:51.671Z"
   },
   {
    "duration": 13,
    "start_time": "2025-03-23T17:38:51.678Z"
   },
   {
    "duration": 14,
    "start_time": "2025-03-23T17:38:51.692Z"
   },
   {
    "duration": 21,
    "start_time": "2025-03-23T17:38:51.707Z"
   },
   {
    "duration": 7,
    "start_time": "2025-03-23T17:38:51.729Z"
   },
   {
    "duration": 30,
    "start_time": "2025-03-23T17:38:51.737Z"
   },
   {
    "duration": 13,
    "start_time": "2025-03-23T17:38:51.768Z"
   },
   {
    "duration": 7,
    "start_time": "2025-03-23T17:38:51.782Z"
   },
   {
    "duration": 16,
    "start_time": "2025-03-23T17:38:51.791Z"
   },
   {
    "duration": 18,
    "start_time": "2025-03-23T17:38:51.808Z"
   },
   {
    "duration": 3,
    "start_time": "2025-03-23T17:38:51.828Z"
   },
   {
    "duration": 9,
    "start_time": "2025-03-23T17:38:51.832Z"
   },
   {
    "duration": 8,
    "start_time": "2025-03-23T17:38:51.842Z"
   },
   {
    "duration": 3,
    "start_time": "2025-03-23T17:38:51.852Z"
   },
   {
    "duration": 5,
    "start_time": "2025-03-23T17:38:51.856Z"
   },
   {
    "duration": 11,
    "start_time": "2025-03-23T17:38:51.863Z"
   },
   {
    "duration": 405,
    "start_time": "2025-03-23T17:39:08.051Z"
   },
   {
    "duration": 96,
    "start_time": "2025-03-23T17:39:08.457Z"
   },
   {
    "duration": 15,
    "start_time": "2025-03-23T17:39:08.555Z"
   },
   {
    "duration": 9,
    "start_time": "2025-03-23T17:39:08.571Z"
   },
   {
    "duration": 3,
    "start_time": "2025-03-23T17:39:08.582Z"
   },
   {
    "duration": 2,
    "start_time": "2025-03-23T17:39:08.587Z"
   },
   {
    "duration": 5,
    "start_time": "2025-03-23T17:39:08.590Z"
   },
   {
    "duration": 12,
    "start_time": "2025-03-23T17:39:08.596Z"
   },
   {
    "duration": 12,
    "start_time": "2025-03-23T17:39:08.609Z"
   },
   {
    "duration": 7,
    "start_time": "2025-03-23T17:39:08.623Z"
   },
   {
    "duration": 7,
    "start_time": "2025-03-23T17:39:08.631Z"
   },
   {
    "duration": 28,
    "start_time": "2025-03-23T17:39:08.640Z"
   },
   {
    "duration": 4,
    "start_time": "2025-03-23T17:39:08.670Z"
   },
   {
    "duration": 7,
    "start_time": "2025-03-23T17:39:08.677Z"
   },
   {
    "duration": 6,
    "start_time": "2025-03-23T17:39:08.685Z"
   },
   {
    "duration": 4,
    "start_time": "2025-03-23T17:39:08.692Z"
   },
   {
    "duration": 12,
    "start_time": "2025-03-23T17:39:08.697Z"
   },
   {
    "duration": 4,
    "start_time": "2025-03-23T17:39:08.710Z"
   },
   {
    "duration": 8,
    "start_time": "2025-03-23T17:39:08.715Z"
   },
   {
    "duration": 4,
    "start_time": "2025-03-23T17:39:08.724Z"
   },
   {
    "duration": 40,
    "start_time": "2025-03-23T17:39:08.729Z"
   },
   {
    "duration": 24,
    "start_time": "2025-03-23T17:39:08.770Z"
   },
   {
    "duration": 12,
    "start_time": "2025-03-23T17:39:08.796Z"
   },
   {
    "duration": 8,
    "start_time": "2025-03-23T17:39:08.809Z"
   },
   {
    "duration": 18,
    "start_time": "2025-03-23T17:39:08.818Z"
   },
   {
    "duration": 7,
    "start_time": "2025-03-23T17:39:08.837Z"
   },
   {
    "duration": 22,
    "start_time": "2025-03-23T17:39:08.845Z"
   },
   {
    "duration": 13,
    "start_time": "2025-03-23T17:39:08.868Z"
   },
   {
    "duration": 2,
    "start_time": "2025-03-23T17:39:08.883Z"
   },
   {
    "duration": 3,
    "start_time": "2025-03-23T17:39:08.886Z"
   },
   {
    "duration": 5,
    "start_time": "2025-03-23T17:39:08.890Z"
   },
   {
    "duration": 4,
    "start_time": "2025-03-23T17:39:08.896Z"
   },
   {
    "duration": 4,
    "start_time": "2025-03-23T17:39:08.901Z"
   },
   {
    "duration": 5,
    "start_time": "2025-03-23T17:39:08.907Z"
   },
   {
    "duration": 4,
    "start_time": "2025-03-23T17:39:08.913Z"
   },
   {
    "duration": 5,
    "start_time": "2025-03-23T17:39:08.918Z"
   },
   {
    "duration": 46,
    "start_time": "2025-03-23T17:39:08.925Z"
   },
   {
    "duration": 413,
    "start_time": "2025-03-23T17:40:23.737Z"
   },
   {
    "duration": 100,
    "start_time": "2025-03-23T17:40:24.152Z"
   },
   {
    "duration": 15,
    "start_time": "2025-03-23T17:40:24.253Z"
   },
   {
    "duration": 11,
    "start_time": "2025-03-23T17:40:24.269Z"
   },
   {
    "duration": 3,
    "start_time": "2025-03-23T17:40:24.283Z"
   },
   {
    "duration": 11,
    "start_time": "2025-03-23T17:40:24.288Z"
   },
   {
    "duration": 19,
    "start_time": "2025-03-23T17:40:24.300Z"
   },
   {
    "duration": 5,
    "start_time": "2025-03-23T17:40:24.321Z"
   },
   {
    "duration": 14,
    "start_time": "2025-03-23T17:40:24.327Z"
   },
   {
    "duration": 10,
    "start_time": "2025-03-23T17:40:24.343Z"
   },
   {
    "duration": 12,
    "start_time": "2025-03-23T17:40:24.355Z"
   },
   {
    "duration": 14,
    "start_time": "2025-03-23T17:40:24.369Z"
   },
   {
    "duration": 6,
    "start_time": "2025-03-23T17:40:24.385Z"
   },
   {
    "duration": 24,
    "start_time": "2025-03-23T17:40:24.395Z"
   },
   {
    "duration": 7,
    "start_time": "2025-03-23T17:40:24.421Z"
   },
   {
    "duration": 4,
    "start_time": "2025-03-23T17:40:24.429Z"
   },
   {
    "duration": 9,
    "start_time": "2025-03-23T17:40:24.434Z"
   },
   {
    "duration": 11,
    "start_time": "2025-03-23T17:40:24.444Z"
   },
   {
    "duration": 16,
    "start_time": "2025-03-23T17:40:24.456Z"
   },
   {
    "duration": 5,
    "start_time": "2025-03-23T17:40:24.474Z"
   },
   {
    "duration": 4,
    "start_time": "2025-03-23T17:40:24.481Z"
   },
   {
    "duration": 5,
    "start_time": "2025-03-23T17:40:24.487Z"
   },
   {
    "duration": 31,
    "start_time": "2025-03-23T17:40:24.494Z"
   },
   {
    "duration": 65,
    "start_time": "2025-03-23T17:40:24.527Z"
   },
   {
    "duration": 38,
    "start_time": "2025-03-23T17:40:24.593Z"
   },
   {
    "duration": 7,
    "start_time": "2025-03-23T17:40:24.632Z"
   },
   {
    "duration": 16,
    "start_time": "2025-03-23T17:40:24.641Z"
   },
   {
    "duration": 14,
    "start_time": "2025-03-23T17:40:24.658Z"
   },
   {
    "duration": 2,
    "start_time": "2025-03-23T17:40:24.674Z"
   },
   {
    "duration": 4,
    "start_time": "2025-03-23T17:40:24.677Z"
   },
   {
    "duration": 3,
    "start_time": "2025-03-23T17:40:24.683Z"
   },
   {
    "duration": 4,
    "start_time": "2025-03-23T17:40:24.687Z"
   },
   {
    "duration": 7,
    "start_time": "2025-03-23T17:40:24.692Z"
   },
   {
    "duration": 7,
    "start_time": "2025-03-23T17:40:24.700Z"
   },
   {
    "duration": 17,
    "start_time": "2025-03-23T17:40:24.708Z"
   },
   {
    "duration": 7,
    "start_time": "2025-03-23T17:40:24.727Z"
   },
   {
    "duration": 15,
    "start_time": "2025-03-23T17:40:24.735Z"
   },
   {
    "duration": 413,
    "start_time": "2025-03-23T17:41:06.754Z"
   },
   {
    "duration": 99,
    "start_time": "2025-03-23T17:41:07.169Z"
   },
   {
    "duration": 14,
    "start_time": "2025-03-23T17:41:07.270Z"
   },
   {
    "duration": 19,
    "start_time": "2025-03-23T17:41:07.285Z"
   },
   {
    "duration": 3,
    "start_time": "2025-03-23T17:41:07.306Z"
   },
   {
    "duration": 3,
    "start_time": "2025-03-23T17:41:07.311Z"
   },
   {
    "duration": 3,
    "start_time": "2025-03-23T17:41:07.316Z"
   },
   {
    "duration": 5,
    "start_time": "2025-03-23T17:41:07.321Z"
   },
   {
    "duration": 13,
    "start_time": "2025-03-23T17:41:07.327Z"
   },
   {
    "duration": 11,
    "start_time": "2025-03-23T17:41:07.341Z"
   },
   {
    "duration": 6,
    "start_time": "2025-03-23T17:41:07.354Z"
   },
   {
    "duration": 20,
    "start_time": "2025-03-23T17:41:07.361Z"
   },
   {
    "duration": 10,
    "start_time": "2025-03-23T17:41:07.383Z"
   },
   {
    "duration": 19,
    "start_time": "2025-03-23T17:41:07.395Z"
   },
   {
    "duration": 8,
    "start_time": "2025-03-23T17:41:07.415Z"
   },
   {
    "duration": 7,
    "start_time": "2025-03-23T17:41:07.424Z"
   },
   {
    "duration": 6,
    "start_time": "2025-03-23T17:41:07.433Z"
   },
   {
    "duration": 4,
    "start_time": "2025-03-23T17:41:07.441Z"
   },
   {
    "duration": 10,
    "start_time": "2025-03-23T17:41:07.446Z"
   },
   {
    "duration": 5,
    "start_time": "2025-03-23T17:41:07.457Z"
   },
   {
    "duration": 6,
    "start_time": "2025-03-23T17:41:07.463Z"
   },
   {
    "duration": 7,
    "start_time": "2025-03-23T17:41:07.471Z"
   },
   {
    "duration": 25,
    "start_time": "2025-03-23T17:41:07.479Z"
   },
   {
    "duration": 30,
    "start_time": "2025-03-23T17:41:07.505Z"
   },
   {
    "duration": 19,
    "start_time": "2025-03-23T17:41:07.536Z"
   },
   {
    "duration": 7,
    "start_time": "2025-03-23T17:41:07.556Z"
   },
   {
    "duration": 14,
    "start_time": "2025-03-23T17:41:07.565Z"
   },
   {
    "duration": 14,
    "start_time": "2025-03-23T17:41:07.580Z"
   },
   {
    "duration": 11,
    "start_time": "2025-03-23T17:41:07.596Z"
   },
   {
    "duration": 15,
    "start_time": "2025-03-23T17:41:07.609Z"
   },
   {
    "duration": 5,
    "start_time": "2025-03-23T17:41:07.625Z"
   },
   {
    "duration": 5,
    "start_time": "2025-03-23T17:41:07.631Z"
   },
   {
    "duration": 4,
    "start_time": "2025-03-23T17:41:07.637Z"
   },
   {
    "duration": 5,
    "start_time": "2025-03-23T17:41:07.643Z"
   },
   {
    "duration": 17,
    "start_time": "2025-03-23T17:41:07.650Z"
   },
   {
    "duration": 5,
    "start_time": "2025-03-23T17:41:07.669Z"
   },
   {
    "duration": 15,
    "start_time": "2025-03-23T17:41:07.675Z"
   },
   {
    "duration": 15,
    "start_time": "2025-03-23T17:42:56.812Z"
   },
   {
    "duration": 3,
    "start_time": "2025-03-23T17:43:10.476Z"
   },
   {
    "duration": 416,
    "start_time": "2025-03-23T17:43:16.833Z"
   },
   {
    "duration": 93,
    "start_time": "2025-03-23T17:43:17.251Z"
   },
   {
    "duration": 15,
    "start_time": "2025-03-23T17:43:17.346Z"
   },
   {
    "duration": 9,
    "start_time": "2025-03-23T17:43:17.363Z"
   },
   {
    "duration": 3,
    "start_time": "2025-03-23T17:43:17.374Z"
   },
   {
    "duration": 10,
    "start_time": "2025-03-23T17:43:17.379Z"
   },
   {
    "duration": 4,
    "start_time": "2025-03-23T17:43:17.390Z"
   },
   {
    "duration": 4,
    "start_time": "2025-03-23T17:43:17.396Z"
   },
   {
    "duration": 13,
    "start_time": "2025-03-23T17:43:17.401Z"
   },
   {
    "duration": 7,
    "start_time": "2025-03-23T17:43:17.416Z"
   },
   {
    "duration": 14,
    "start_time": "2025-03-23T17:43:17.424Z"
   },
   {
    "duration": 3,
    "start_time": "2025-03-23T17:43:17.440Z"
   },
   {
    "duration": 6,
    "start_time": "2025-03-23T17:43:17.467Z"
   },
   {
    "duration": 9,
    "start_time": "2025-03-23T17:43:17.476Z"
   },
   {
    "duration": 7,
    "start_time": "2025-03-23T17:43:17.487Z"
   },
   {
    "duration": 7,
    "start_time": "2025-03-23T17:43:17.496Z"
   },
   {
    "duration": 9,
    "start_time": "2025-03-23T17:43:17.504Z"
   },
   {
    "duration": 4,
    "start_time": "2025-03-23T17:43:17.514Z"
   },
   {
    "duration": 15,
    "start_time": "2025-03-23T17:43:17.519Z"
   },
   {
    "duration": 36,
    "start_time": "2025-03-23T17:43:17.535Z"
   },
   {
    "duration": 4,
    "start_time": "2025-03-23T17:43:17.572Z"
   },
   {
    "duration": 4,
    "start_time": "2025-03-23T17:43:17.577Z"
   },
   {
    "duration": 12,
    "start_time": "2025-03-23T17:43:17.583Z"
   },
   {
    "duration": 9,
    "start_time": "2025-03-23T17:43:17.596Z"
   },
   {
    "duration": 19,
    "start_time": "2025-03-23T17:43:17.607Z"
   },
   {
    "duration": 19,
    "start_time": "2025-03-23T17:43:17.628Z"
   },
   {
    "duration": 15,
    "start_time": "2025-03-23T17:43:17.668Z"
   },
   {
    "duration": 15,
    "start_time": "2025-03-23T17:43:17.684Z"
   },
   {
    "duration": 3,
    "start_time": "2025-03-23T17:43:17.700Z"
   },
   {
    "duration": 4,
    "start_time": "2025-03-23T17:43:17.704Z"
   },
   {
    "duration": 7,
    "start_time": "2025-03-23T17:43:17.709Z"
   },
   {
    "duration": 6,
    "start_time": "2025-03-23T17:43:17.717Z"
   },
   {
    "duration": 3,
    "start_time": "2025-03-23T17:43:17.725Z"
   },
   {
    "duration": 6,
    "start_time": "2025-03-23T17:43:17.730Z"
   },
   {
    "duration": 37,
    "start_time": "2025-03-23T17:43:17.737Z"
   },
   {
    "duration": 6,
    "start_time": "2025-03-23T17:43:17.775Z"
   },
   {
    "duration": 12,
    "start_time": "2025-03-23T17:43:17.782Z"
   },
   {
    "duration": 371,
    "start_time": "2025-03-23T17:43:48.505Z"
   },
   {
    "duration": 87,
    "start_time": "2025-03-23T17:43:48.878Z"
   },
   {
    "duration": 22,
    "start_time": "2025-03-23T17:43:48.966Z"
   },
   {
    "duration": 16,
    "start_time": "2025-03-23T17:43:48.991Z"
   },
   {
    "duration": 23,
    "start_time": "2025-03-23T17:43:49.010Z"
   },
   {
    "duration": 5,
    "start_time": "2025-03-23T17:43:49.034Z"
   },
   {
    "duration": 3,
    "start_time": "2025-03-23T17:43:49.040Z"
   },
   {
    "duration": 6,
    "start_time": "2025-03-23T17:43:49.045Z"
   },
   {
    "duration": 26,
    "start_time": "2025-03-23T17:43:49.052Z"
   },
   {
    "duration": 8,
    "start_time": "2025-03-23T17:43:49.080Z"
   },
   {
    "duration": 21,
    "start_time": "2025-03-23T17:43:49.089Z"
   },
   {
    "duration": 3,
    "start_time": "2025-03-23T17:43:49.112Z"
   },
   {
    "duration": 8,
    "start_time": "2025-03-23T17:43:49.116Z"
   },
   {
    "duration": 9,
    "start_time": "2025-03-23T17:43:49.127Z"
   },
   {
    "duration": 8,
    "start_time": "2025-03-23T17:43:49.137Z"
   },
   {
    "duration": 4,
    "start_time": "2025-03-23T17:43:49.146Z"
   },
   {
    "duration": 16,
    "start_time": "2025-03-23T17:43:49.152Z"
   },
   {
    "duration": 3,
    "start_time": "2025-03-23T17:43:49.169Z"
   },
   {
    "duration": 13,
    "start_time": "2025-03-23T17:43:49.173Z"
   },
   {
    "duration": 4,
    "start_time": "2025-03-23T17:43:49.188Z"
   },
   {
    "duration": 3,
    "start_time": "2025-03-23T17:43:49.194Z"
   },
   {
    "duration": 5,
    "start_time": "2025-03-23T17:43:49.199Z"
   },
   {
    "duration": 9,
    "start_time": "2025-03-23T17:43:49.205Z"
   },
   {
    "duration": 8,
    "start_time": "2025-03-23T17:43:49.215Z"
   },
   {
    "duration": 55,
    "start_time": "2025-03-23T17:43:49.225Z"
   },
   {
    "duration": 7,
    "start_time": "2025-03-23T17:43:49.281Z"
   },
   {
    "duration": 16,
    "start_time": "2025-03-23T17:43:49.289Z"
   },
   {
    "duration": 13,
    "start_time": "2025-03-23T17:43:49.306Z"
   },
   {
    "duration": 2,
    "start_time": "2025-03-23T17:43:49.321Z"
   },
   {
    "duration": 4,
    "start_time": "2025-03-23T17:43:49.324Z"
   },
   {
    "duration": 6,
    "start_time": "2025-03-23T17:43:49.329Z"
   },
   {
    "duration": 7,
    "start_time": "2025-03-23T17:43:49.337Z"
   },
   {
    "duration": 24,
    "start_time": "2025-03-23T17:43:49.345Z"
   },
   {
    "duration": 6,
    "start_time": "2025-03-23T17:43:49.370Z"
   },
   {
    "duration": 3,
    "start_time": "2025-03-23T17:43:49.377Z"
   },
   {
    "duration": 5,
    "start_time": "2025-03-23T17:43:49.381Z"
   },
   {
    "duration": 5,
    "start_time": "2025-03-23T17:43:49.388Z"
   },
   {
    "duration": 391,
    "start_time": "2025-03-24T04:49:00.086Z"
   },
   {
    "duration": 167,
    "start_time": "2025-03-24T04:49:00.479Z"
   },
   {
    "duration": 16,
    "start_time": "2025-03-24T04:49:00.647Z"
   },
   {
    "duration": 59,
    "start_time": "2025-03-24T04:49:00.665Z"
   },
   {
    "duration": 4,
    "start_time": "2025-03-24T04:49:00.726Z"
   },
   {
    "duration": 7,
    "start_time": "2025-03-24T04:49:00.732Z"
   },
   {
    "duration": 13,
    "start_time": "2025-03-24T04:49:00.741Z"
   },
   {
    "duration": 11,
    "start_time": "2025-03-24T04:49:00.755Z"
   },
   {
    "duration": 17,
    "start_time": "2025-03-24T04:49:00.767Z"
   },
   {
    "duration": 7,
    "start_time": "2025-03-24T04:49:00.785Z"
   },
   {
    "duration": 34,
    "start_time": "2025-03-24T04:49:00.794Z"
   },
   {
    "duration": 62,
    "start_time": "2025-03-24T04:49:00.829Z"
   },
   {
    "duration": 0,
    "start_time": "2025-03-24T04:49:00.893Z"
   },
   {
    "duration": 0,
    "start_time": "2025-03-24T04:49:00.894Z"
   },
   {
    "duration": 0,
    "start_time": "2025-03-24T04:49:00.895Z"
   },
   {
    "duration": 0,
    "start_time": "2025-03-24T04:49:00.897Z"
   },
   {
    "duration": 0,
    "start_time": "2025-03-24T04:49:00.898Z"
   },
   {
    "duration": 0,
    "start_time": "2025-03-24T04:49:00.899Z"
   },
   {
    "duration": 0,
    "start_time": "2025-03-24T04:49:00.900Z"
   },
   {
    "duration": 0,
    "start_time": "2025-03-24T04:49:00.901Z"
   },
   {
    "duration": 0,
    "start_time": "2025-03-24T04:49:00.902Z"
   },
   {
    "duration": 0,
    "start_time": "2025-03-24T04:49:00.903Z"
   },
   {
    "duration": 0,
    "start_time": "2025-03-24T04:49:00.904Z"
   },
   {
    "duration": 0,
    "start_time": "2025-03-24T04:49:00.905Z"
   },
   {
    "duration": 0,
    "start_time": "2025-03-24T04:49:00.906Z"
   },
   {
    "duration": 0,
    "start_time": "2025-03-24T04:49:00.907Z"
   },
   {
    "duration": 0,
    "start_time": "2025-03-24T04:49:00.908Z"
   },
   {
    "duration": 0,
    "start_time": "2025-03-24T04:49:00.909Z"
   },
   {
    "duration": 0,
    "start_time": "2025-03-24T04:49:00.910Z"
   },
   {
    "duration": 0,
    "start_time": "2025-03-24T04:49:00.911Z"
   },
   {
    "duration": 0,
    "start_time": "2025-03-24T04:49:00.912Z"
   },
   {
    "duration": 0,
    "start_time": "2025-03-24T04:49:00.913Z"
   },
   {
    "duration": 0,
    "start_time": "2025-03-24T04:49:00.914Z"
   },
   {
    "duration": 0,
    "start_time": "2025-03-24T04:49:00.915Z"
   },
   {
    "duration": 0,
    "start_time": "2025-03-24T04:49:00.916Z"
   },
   {
    "duration": 0,
    "start_time": "2025-03-24T04:49:00.917Z"
   },
   {
    "duration": 0,
    "start_time": "2025-03-24T04:49:00.918Z"
   },
   {
    "duration": 4,
    "start_time": "2025-03-24T04:49:14.156Z"
   },
   {
    "duration": 359,
    "start_time": "2025-03-24T04:49:20.698Z"
   },
   {
    "duration": 123,
    "start_time": "2025-03-24T04:49:21.058Z"
   },
   {
    "duration": 15,
    "start_time": "2025-03-24T04:49:21.183Z"
   },
   {
    "duration": 15,
    "start_time": "2025-03-24T04:49:21.200Z"
   },
   {
    "duration": 4,
    "start_time": "2025-03-24T04:49:21.218Z"
   },
   {
    "duration": 3,
    "start_time": "2025-03-24T04:49:21.224Z"
   },
   {
    "duration": 8,
    "start_time": "2025-03-24T04:49:21.228Z"
   },
   {
    "duration": 4,
    "start_time": "2025-03-24T04:49:21.237Z"
   },
   {
    "duration": 14,
    "start_time": "2025-03-24T04:49:21.268Z"
   },
   {
    "duration": 13,
    "start_time": "2025-03-24T04:49:21.283Z"
   },
   {
    "duration": 12,
    "start_time": "2025-03-24T04:49:21.297Z"
   },
   {
    "duration": 4,
    "start_time": "2025-03-24T04:49:21.310Z"
   },
   {
    "duration": 4,
    "start_time": "2025-03-24T04:49:21.316Z"
   },
   {
    "duration": 15,
    "start_time": "2025-03-24T04:49:21.324Z"
   },
   {
    "duration": 7,
    "start_time": "2025-03-24T04:49:21.341Z"
   },
   {
    "duration": 4,
    "start_time": "2025-03-24T04:49:21.366Z"
   },
   {
    "duration": 8,
    "start_time": "2025-03-24T04:49:21.372Z"
   },
   {
    "duration": 4,
    "start_time": "2025-03-24T04:49:21.382Z"
   },
   {
    "duration": 15,
    "start_time": "2025-03-24T04:49:21.387Z"
   },
   {
    "duration": 5,
    "start_time": "2025-03-24T04:49:21.404Z"
   },
   {
    "duration": 8,
    "start_time": "2025-03-24T04:49:21.410Z"
   },
   {
    "duration": 8,
    "start_time": "2025-03-24T04:49:21.420Z"
   },
   {
    "duration": 11,
    "start_time": "2025-03-24T04:49:21.430Z"
   },
   {
    "duration": 30,
    "start_time": "2025-03-24T04:49:21.443Z"
   },
   {
    "duration": 30,
    "start_time": "2025-03-24T04:49:21.474Z"
   },
   {
    "duration": 7,
    "start_time": "2025-03-24T04:49:21.505Z"
   },
   {
    "duration": 12,
    "start_time": "2025-03-24T04:49:21.513Z"
   },
   {
    "duration": 18,
    "start_time": "2025-03-24T04:49:21.527Z"
   },
   {
    "duration": 2,
    "start_time": "2025-03-24T04:49:21.547Z"
   },
   {
    "duration": 31,
    "start_time": "2025-03-24T04:49:21.551Z"
   },
   {
    "duration": 12,
    "start_time": "2025-03-24T04:49:21.583Z"
   },
   {
    "duration": 12,
    "start_time": "2025-03-24T04:49:21.597Z"
   },
   {
    "duration": 4,
    "start_time": "2025-03-24T04:49:21.610Z"
   },
   {
    "duration": 5,
    "start_time": "2025-03-24T04:49:21.615Z"
   },
   {
    "duration": 3,
    "start_time": "2025-03-24T04:49:21.622Z"
   },
   {
    "duration": 6,
    "start_time": "2025-03-24T04:49:21.626Z"
   },
   {
    "duration": 5,
    "start_time": "2025-03-24T04:49:21.633Z"
   },
   {
    "duration": 418,
    "start_time": "2025-03-24T04:50:00.345Z"
   },
   {
    "duration": 169,
    "start_time": "2025-03-24T04:50:00.767Z"
   },
   {
    "duration": 18,
    "start_time": "2025-03-24T04:50:00.937Z"
   },
   {
    "duration": 30,
    "start_time": "2025-03-24T04:50:00.956Z"
   },
   {
    "duration": 5,
    "start_time": "2025-03-24T04:50:00.989Z"
   },
   {
    "duration": 4,
    "start_time": "2025-03-24T04:50:00.995Z"
   },
   {
    "duration": 13,
    "start_time": "2025-03-24T04:50:01.000Z"
   },
   {
    "duration": 7,
    "start_time": "2025-03-24T04:50:01.014Z"
   },
   {
    "duration": 15,
    "start_time": "2025-03-24T04:50:01.023Z"
   },
   {
    "duration": 21,
    "start_time": "2025-03-24T04:50:01.040Z"
   },
   {
    "duration": 27,
    "start_time": "2025-03-24T04:50:01.067Z"
   },
   {
    "duration": 4,
    "start_time": "2025-03-24T04:50:01.095Z"
   },
   {
    "duration": 16,
    "start_time": "2025-03-24T04:50:01.100Z"
   },
   {
    "duration": 12,
    "start_time": "2025-03-24T04:50:01.119Z"
   },
   {
    "duration": 24,
    "start_time": "2025-03-24T04:50:01.133Z"
   },
   {
    "duration": 30,
    "start_time": "2025-03-24T04:50:01.158Z"
   },
   {
    "duration": 17,
    "start_time": "2025-03-24T04:50:01.190Z"
   },
   {
    "duration": 7,
    "start_time": "2025-03-24T04:50:01.208Z"
   },
   {
    "duration": 24,
    "start_time": "2025-03-24T04:50:01.217Z"
   },
   {
    "duration": 22,
    "start_time": "2025-03-24T04:50:01.243Z"
   },
   {
    "duration": 27,
    "start_time": "2025-03-24T04:50:01.266Z"
   },
   {
    "duration": 16,
    "start_time": "2025-03-24T04:50:01.294Z"
   },
   {
    "duration": 16,
    "start_time": "2025-03-24T04:50:01.311Z"
   },
   {
    "duration": 13,
    "start_time": "2025-03-24T04:50:01.329Z"
   },
   {
    "duration": 27,
    "start_time": "2025-03-24T04:50:01.343Z"
   },
   {
    "duration": 20,
    "start_time": "2025-03-24T04:50:01.372Z"
   },
   {
    "duration": 17,
    "start_time": "2025-03-24T04:50:01.394Z"
   },
   {
    "duration": 12,
    "start_time": "2025-03-24T04:50:01.413Z"
   },
   {
    "duration": 2,
    "start_time": "2025-03-24T04:50:01.426Z"
   },
   {
    "duration": 3,
    "start_time": "2025-03-24T04:50:01.430Z"
   },
   {
    "duration": 20,
    "start_time": "2025-03-24T04:50:01.434Z"
   },
   {
    "duration": 34,
    "start_time": "2025-03-24T04:50:01.455Z"
   },
   {
    "duration": 7,
    "start_time": "2025-03-24T04:50:01.491Z"
   },
   {
    "duration": 24,
    "start_time": "2025-03-24T04:50:01.500Z"
   },
   {
    "duration": 3,
    "start_time": "2025-03-24T04:50:01.526Z"
   },
   {
    "duration": 9,
    "start_time": "2025-03-24T04:50:01.530Z"
   },
   {
    "duration": 9,
    "start_time": "2025-03-24T04:50:01.540Z"
   },
   {
    "duration": 384,
    "start_time": "2025-03-24T04:55:54.784Z"
   },
   {
    "duration": 82,
    "start_time": "2025-03-24T04:55:55.170Z"
   },
   {
    "duration": 15,
    "start_time": "2025-03-24T04:55:55.254Z"
   },
   {
    "duration": 19,
    "start_time": "2025-03-24T04:55:55.271Z"
   },
   {
    "duration": 4,
    "start_time": "2025-03-24T04:55:55.292Z"
   },
   {
    "duration": 5,
    "start_time": "2025-03-24T04:55:55.297Z"
   },
   {
    "duration": 4,
    "start_time": "2025-03-24T04:55:55.303Z"
   },
   {
    "duration": 9,
    "start_time": "2025-03-24T04:55:55.308Z"
   },
   {
    "duration": 12,
    "start_time": "2025-03-24T04:55:55.319Z"
   },
   {
    "duration": 11,
    "start_time": "2025-03-24T04:55:55.332Z"
   },
   {
    "duration": 8,
    "start_time": "2025-03-24T04:55:55.366Z"
   },
   {
    "duration": 10,
    "start_time": "2025-03-24T04:55:55.375Z"
   },
   {
    "duration": 17,
    "start_time": "2025-03-24T04:55:55.386Z"
   },
   {
    "duration": 7,
    "start_time": "2025-03-24T04:55:55.406Z"
   },
   {
    "duration": 9,
    "start_time": "2025-03-24T04:55:55.414Z"
   },
   {
    "duration": 10,
    "start_time": "2025-03-24T04:55:55.424Z"
   },
   {
    "duration": 7,
    "start_time": "2025-03-24T04:55:55.436Z"
   },
   {
    "duration": 4,
    "start_time": "2025-03-24T04:55:55.444Z"
   },
   {
    "duration": 18,
    "start_time": "2025-03-24T04:55:55.449Z"
   },
   {
    "duration": 4,
    "start_time": "2025-03-24T04:55:55.469Z"
   },
   {
    "duration": 4,
    "start_time": "2025-03-24T04:55:55.474Z"
   },
   {
    "duration": 5,
    "start_time": "2025-03-24T04:55:55.479Z"
   },
   {
    "duration": 10,
    "start_time": "2025-03-24T04:55:55.485Z"
   },
   {
    "duration": 7,
    "start_time": "2025-03-24T04:55:55.497Z"
   },
   {
    "duration": 19,
    "start_time": "2025-03-24T04:55:55.505Z"
   },
   {
    "duration": 42,
    "start_time": "2025-03-24T04:55:55.526Z"
   },
   {
    "duration": 13,
    "start_time": "2025-03-24T04:55:55.569Z"
   },
   {
    "duration": 11,
    "start_time": "2025-03-24T04:55:55.584Z"
   },
   {
    "duration": 2,
    "start_time": "2025-03-24T04:55:55.597Z"
   },
   {
    "duration": 8,
    "start_time": "2025-03-24T04:55:55.601Z"
   },
   {
    "duration": 5,
    "start_time": "2025-03-24T04:55:55.610Z"
   },
   {
    "duration": 4,
    "start_time": "2025-03-24T04:55:55.616Z"
   },
   {
    "duration": 4,
    "start_time": "2025-03-24T04:55:55.621Z"
   },
   {
    "duration": 8,
    "start_time": "2025-03-24T04:55:55.626Z"
   },
   {
    "duration": 3,
    "start_time": "2025-03-24T04:55:55.635Z"
   },
   {
    "duration": 6,
    "start_time": "2025-03-24T04:55:55.668Z"
   },
   {
    "duration": 6,
    "start_time": "2025-03-24T04:55:55.675Z"
   },
   {
    "duration": 437,
    "start_time": "2025-03-24T05:10:03.279Z"
   },
   {
    "duration": 166,
    "start_time": "2025-03-24T05:10:03.717Z"
   },
   {
    "duration": 15,
    "start_time": "2025-03-24T05:10:03.885Z"
   },
   {
    "duration": 19,
    "start_time": "2025-03-24T05:10:03.902Z"
   },
   {
    "duration": 3,
    "start_time": "2025-03-24T05:10:03.923Z"
   },
   {
    "duration": 12,
    "start_time": "2025-03-24T05:10:03.927Z"
   },
   {
    "duration": 6,
    "start_time": "2025-03-24T05:10:03.941Z"
   },
   {
    "duration": 20,
    "start_time": "2025-03-24T05:10:03.948Z"
   },
   {
    "duration": 21,
    "start_time": "2025-03-24T05:10:03.970Z"
   },
   {
    "duration": 7,
    "start_time": "2025-03-24T05:10:03.992Z"
   },
   {
    "duration": 7,
    "start_time": "2025-03-24T05:10:04.001Z"
   },
   {
    "duration": 21,
    "start_time": "2025-03-24T05:10:04.010Z"
   },
   {
    "duration": 6,
    "start_time": "2025-03-24T05:10:04.033Z"
   },
   {
    "duration": 9,
    "start_time": "2025-03-24T05:10:04.043Z"
   },
   {
    "duration": 15,
    "start_time": "2025-03-24T05:10:04.053Z"
   },
   {
    "duration": 21,
    "start_time": "2025-03-24T05:10:04.069Z"
   },
   {
    "duration": 26,
    "start_time": "2025-03-24T05:10:04.091Z"
   },
   {
    "duration": 22,
    "start_time": "2025-03-24T05:10:04.118Z"
   },
   {
    "duration": 11,
    "start_time": "2025-03-24T05:10:04.141Z"
   },
   {
    "duration": 18,
    "start_time": "2025-03-24T05:10:04.153Z"
   },
   {
    "duration": 15,
    "start_time": "2025-03-24T05:10:04.172Z"
   },
   {
    "duration": 4,
    "start_time": "2025-03-24T05:10:04.189Z"
   },
   {
    "duration": 17,
    "start_time": "2025-03-24T05:10:04.195Z"
   },
   {
    "duration": 26,
    "start_time": "2025-03-24T05:10:04.213Z"
   },
   {
    "duration": 19,
    "start_time": "2025-03-24T05:10:04.241Z"
   },
   {
    "duration": 16,
    "start_time": "2025-03-24T05:10:04.261Z"
   },
   {
    "duration": 23,
    "start_time": "2025-03-24T05:10:04.278Z"
   },
   {
    "duration": 14,
    "start_time": "2025-03-24T05:10:04.303Z"
   },
   {
    "duration": 15,
    "start_time": "2025-03-24T05:10:04.319Z"
   },
   {
    "duration": 4,
    "start_time": "2025-03-24T05:10:04.336Z"
   },
   {
    "duration": 29,
    "start_time": "2025-03-24T05:10:04.342Z"
   },
   {
    "duration": 4,
    "start_time": "2025-03-24T05:10:04.373Z"
   },
   {
    "duration": 8,
    "start_time": "2025-03-24T05:10:04.378Z"
   },
   {
    "duration": 6,
    "start_time": "2025-03-24T05:10:04.388Z"
   },
   {
    "duration": 4,
    "start_time": "2025-03-24T05:10:04.395Z"
   },
   {
    "duration": 21,
    "start_time": "2025-03-24T05:10:04.401Z"
   },
   {
    "duration": 12,
    "start_time": "2025-03-24T05:10:04.424Z"
   },
   {
    "duration": 21,
    "start_time": "2025-03-24T05:10:04.438Z"
   },
   {
    "duration": 20,
    "start_time": "2025-03-24T05:10:04.461Z"
   },
   {
    "duration": 395,
    "start_time": "2025-03-24T05:25:52.577Z"
   },
   {
    "duration": 132,
    "start_time": "2025-03-24T05:25:52.974Z"
   },
   {
    "duration": 16,
    "start_time": "2025-03-24T05:25:53.107Z"
   },
   {
    "duration": 20,
    "start_time": "2025-03-24T05:25:53.125Z"
   },
   {
    "duration": 4,
    "start_time": "2025-03-24T05:25:53.147Z"
   },
   {
    "duration": 15,
    "start_time": "2025-03-24T05:25:53.152Z"
   },
   {
    "duration": 8,
    "start_time": "2025-03-24T05:25:53.169Z"
   },
   {
    "duration": 5,
    "start_time": "2025-03-24T05:25:53.178Z"
   },
   {
    "duration": 14,
    "start_time": "2025-03-24T05:25:53.184Z"
   },
   {
    "duration": 10,
    "start_time": "2025-03-24T05:25:53.199Z"
   },
   {
    "duration": 7,
    "start_time": "2025-03-24T05:25:53.211Z"
   },
   {
    "duration": 4,
    "start_time": "2025-03-24T05:25:53.219Z"
   },
   {
    "duration": 6,
    "start_time": "2025-03-24T05:25:53.224Z"
   },
   {
    "duration": 39,
    "start_time": "2025-03-24T05:25:53.232Z"
   },
   {
    "duration": 11,
    "start_time": "2025-03-24T05:25:53.272Z"
   },
   {
    "duration": 4,
    "start_time": "2025-03-24T05:25:53.284Z"
   },
   {
    "duration": 8,
    "start_time": "2025-03-24T05:25:53.289Z"
   },
   {
    "duration": 4,
    "start_time": "2025-03-24T05:25:53.298Z"
   },
   {
    "duration": 8,
    "start_time": "2025-03-24T05:25:53.304Z"
   },
   {
    "duration": 5,
    "start_time": "2025-03-24T05:25:53.313Z"
   },
   {
    "duration": 4,
    "start_time": "2025-03-24T05:25:53.320Z"
   },
   {
    "duration": 46,
    "start_time": "2025-03-24T05:25:53.326Z"
   },
   {
    "duration": 13,
    "start_time": "2025-03-24T05:25:53.373Z"
   },
   {
    "duration": 8,
    "start_time": "2025-03-24T05:25:53.388Z"
   },
   {
    "duration": 19,
    "start_time": "2025-03-24T05:25:53.398Z"
   },
   {
    "duration": 7,
    "start_time": "2025-03-24T05:25:53.419Z"
   },
   {
    "duration": 40,
    "start_time": "2025-03-24T05:25:53.427Z"
   },
   {
    "duration": 14,
    "start_time": "2025-03-24T05:25:53.469Z"
   },
   {
    "duration": 3,
    "start_time": "2025-03-24T05:25:53.484Z"
   },
   {
    "duration": 5,
    "start_time": "2025-03-24T05:25:53.489Z"
   },
   {
    "duration": 3,
    "start_time": "2025-03-24T05:25:53.496Z"
   },
   {
    "duration": 5,
    "start_time": "2025-03-24T05:25:53.500Z"
   },
   {
    "duration": 3,
    "start_time": "2025-03-24T05:25:53.507Z"
   },
   {
    "duration": 8,
    "start_time": "2025-03-24T05:25:53.512Z"
   },
   {
    "duration": 10,
    "start_time": "2025-03-24T05:25:53.522Z"
   },
   {
    "duration": 7,
    "start_time": "2025-03-24T05:25:53.533Z"
   },
   {
    "duration": 6,
    "start_time": "2025-03-24T05:25:53.568Z"
   },
   {
    "duration": 8,
    "start_time": "2025-03-24T05:25:53.575Z"
   },
   {
    "duration": 9,
    "start_time": "2025-03-24T05:25:53.584Z"
   },
   {
    "duration": 6,
    "start_time": "2025-03-24T05:25:53.594Z"
   },
   {
    "duration": 3,
    "start_time": "2025-03-24T05:25:53.604Z"
   },
   {
    "duration": 5,
    "start_time": "2025-03-24T05:26:13.371Z"
   },
   {
    "duration": 451,
    "start_time": "2025-03-24T05:26:18.746Z"
   },
   {
    "duration": 87,
    "start_time": "2025-03-24T05:26:19.198Z"
   },
   {
    "duration": 16,
    "start_time": "2025-03-24T05:26:19.287Z"
   },
   {
    "duration": 19,
    "start_time": "2025-03-24T05:26:19.305Z"
   },
   {
    "duration": 4,
    "start_time": "2025-03-24T05:26:19.327Z"
   },
   {
    "duration": 3,
    "start_time": "2025-03-24T05:26:19.333Z"
   },
   {
    "duration": 30,
    "start_time": "2025-03-24T05:26:19.337Z"
   },
   {
    "duration": 4,
    "start_time": "2025-03-24T05:26:19.369Z"
   },
   {
    "duration": 20,
    "start_time": "2025-03-24T05:26:19.374Z"
   },
   {
    "duration": 8,
    "start_time": "2025-03-24T05:26:19.395Z"
   },
   {
    "duration": 12,
    "start_time": "2025-03-24T05:26:19.404Z"
   },
   {
    "duration": 8,
    "start_time": "2025-03-24T05:26:19.418Z"
   },
   {
    "duration": 6,
    "start_time": "2025-03-24T05:26:19.427Z"
   },
   {
    "duration": 7,
    "start_time": "2025-03-24T05:26:19.436Z"
   },
   {
    "duration": 28,
    "start_time": "2025-03-24T05:26:19.445Z"
   },
   {
    "duration": 4,
    "start_time": "2025-03-24T05:26:19.475Z"
   },
   {
    "duration": 8,
    "start_time": "2025-03-24T05:26:19.480Z"
   },
   {
    "duration": 3,
    "start_time": "2025-03-24T05:26:19.490Z"
   },
   {
    "duration": 8,
    "start_time": "2025-03-24T05:26:19.495Z"
   },
   {
    "duration": 5,
    "start_time": "2025-03-24T05:26:19.504Z"
   },
   {
    "duration": 4,
    "start_time": "2025-03-24T05:26:19.510Z"
   },
   {
    "duration": 5,
    "start_time": "2025-03-24T05:26:19.515Z"
   },
   {
    "duration": 49,
    "start_time": "2025-03-24T05:26:19.521Z"
   },
   {
    "duration": 21,
    "start_time": "2025-03-24T05:26:19.571Z"
   },
   {
    "duration": 20,
    "start_time": "2025-03-24T05:26:19.593Z"
   },
   {
    "duration": 8,
    "start_time": "2025-03-24T05:26:19.615Z"
   },
   {
    "duration": 14,
    "start_time": "2025-03-24T05:26:19.625Z"
   },
   {
    "duration": 29,
    "start_time": "2025-03-24T05:26:19.641Z"
   },
   {
    "duration": 3,
    "start_time": "2025-03-24T05:26:19.671Z"
   },
   {
    "duration": 3,
    "start_time": "2025-03-24T05:26:19.676Z"
   },
   {
    "duration": 5,
    "start_time": "2025-03-24T05:26:19.680Z"
   },
   {
    "duration": 3,
    "start_time": "2025-03-24T05:26:19.686Z"
   },
   {
    "duration": 4,
    "start_time": "2025-03-24T05:26:19.691Z"
   },
   {
    "duration": 6,
    "start_time": "2025-03-24T05:26:19.696Z"
   },
   {
    "duration": 4,
    "start_time": "2025-03-24T05:26:19.704Z"
   },
   {
    "duration": 8,
    "start_time": "2025-03-24T05:26:19.709Z"
   },
   {
    "duration": 52,
    "start_time": "2025-03-24T05:26:19.719Z"
   },
   {
    "duration": 7,
    "start_time": "2025-03-24T05:26:19.773Z"
   },
   {
    "duration": 17,
    "start_time": "2025-03-24T05:26:19.782Z"
   },
   {
    "duration": 8,
    "start_time": "2025-03-24T05:26:19.801Z"
   },
   {
    "duration": 5,
    "start_time": "2025-03-24T05:26:19.813Z"
   },
   {
    "duration": 6,
    "start_time": "2025-03-24T05:28:33.102Z"
   },
   {
    "duration": 372,
    "start_time": "2025-03-24T05:28:38.505Z"
   },
   {
    "duration": 103,
    "start_time": "2025-03-24T05:28:38.879Z"
   },
   {
    "duration": 24,
    "start_time": "2025-03-24T05:28:38.984Z"
   },
   {
    "duration": 31,
    "start_time": "2025-03-24T05:28:39.010Z"
   },
   {
    "duration": 26,
    "start_time": "2025-03-24T05:28:39.044Z"
   },
   {
    "duration": 3,
    "start_time": "2025-03-24T05:28:39.072Z"
   },
   {
    "duration": 3,
    "start_time": "2025-03-24T05:28:39.077Z"
   },
   {
    "duration": 5,
    "start_time": "2025-03-24T05:28:39.081Z"
   },
   {
    "duration": 14,
    "start_time": "2025-03-24T05:28:39.087Z"
   },
   {
    "duration": 8,
    "start_time": "2025-03-24T05:28:39.103Z"
   },
   {
    "duration": 17,
    "start_time": "2025-03-24T05:28:39.113Z"
   },
   {
    "duration": 4,
    "start_time": "2025-03-24T05:28:39.131Z"
   },
   {
    "duration": 7,
    "start_time": "2025-03-24T05:28:39.167Z"
   },
   {
    "duration": 7,
    "start_time": "2025-03-24T05:28:39.178Z"
   },
   {
    "duration": 6,
    "start_time": "2025-03-24T05:28:39.187Z"
   },
   {
    "duration": 4,
    "start_time": "2025-03-24T05:28:39.195Z"
   },
   {
    "duration": 11,
    "start_time": "2025-03-24T05:28:39.200Z"
   },
   {
    "duration": 7,
    "start_time": "2025-03-24T05:28:39.212Z"
   },
   {
    "duration": 9,
    "start_time": "2025-03-24T05:28:39.220Z"
   },
   {
    "duration": 38,
    "start_time": "2025-03-24T05:28:39.230Z"
   },
   {
    "duration": 5,
    "start_time": "2025-03-24T05:28:39.270Z"
   },
   {
    "duration": 10,
    "start_time": "2025-03-24T05:28:39.276Z"
   },
   {
    "duration": 8,
    "start_time": "2025-03-24T05:28:39.288Z"
   },
   {
    "duration": 20,
    "start_time": "2025-03-24T05:28:39.297Z"
   },
   {
    "duration": 22,
    "start_time": "2025-03-24T05:28:39.318Z"
   },
   {
    "duration": 9,
    "start_time": "2025-03-24T05:28:39.341Z"
   },
   {
    "duration": 14,
    "start_time": "2025-03-24T05:28:39.367Z"
   },
   {
    "duration": 13,
    "start_time": "2025-03-24T05:28:39.383Z"
   },
   {
    "duration": 3,
    "start_time": "2025-03-24T05:28:39.397Z"
   },
   {
    "duration": 4,
    "start_time": "2025-03-24T05:28:39.402Z"
   },
   {
    "duration": 4,
    "start_time": "2025-03-24T05:28:39.407Z"
   },
   {
    "duration": 4,
    "start_time": "2025-03-24T05:28:39.412Z"
   },
   {
    "duration": 4,
    "start_time": "2025-03-24T05:28:39.418Z"
   },
   {
    "duration": 44,
    "start_time": "2025-03-24T05:28:39.424Z"
   },
   {
    "duration": 7,
    "start_time": "2025-03-24T05:28:39.469Z"
   },
   {
    "duration": 12,
    "start_time": "2025-03-24T05:28:39.478Z"
   },
   {
    "duration": 6,
    "start_time": "2025-03-24T05:28:39.491Z"
   },
   {
    "duration": 16,
    "start_time": "2025-03-24T05:28:39.499Z"
   },
   {
    "duration": 7,
    "start_time": "2025-03-24T05:28:39.517Z"
   },
   {
    "duration": 14,
    "start_time": "2025-03-24T05:28:39.526Z"
   },
   {
    "duration": 6,
    "start_time": "2025-03-24T05:28:39.568Z"
   },
   {
    "duration": 460,
    "start_time": "2025-03-24T05:29:20.300Z"
   },
   {
    "duration": 92,
    "start_time": "2025-03-24T05:29:20.762Z"
   },
   {
    "duration": 15,
    "start_time": "2025-03-24T05:29:20.856Z"
   },
   {
    "duration": 28,
    "start_time": "2025-03-24T05:29:20.872Z"
   },
   {
    "duration": 4,
    "start_time": "2025-03-24T05:29:20.902Z"
   },
   {
    "duration": 4,
    "start_time": "2025-03-24T05:29:20.907Z"
   },
   {
    "duration": 13,
    "start_time": "2025-03-24T05:29:20.912Z"
   },
   {
    "duration": 22,
    "start_time": "2025-03-24T05:29:20.926Z"
   },
   {
    "duration": 15,
    "start_time": "2025-03-24T05:29:20.949Z"
   },
   {
    "duration": 7,
    "start_time": "2025-03-24T05:29:20.965Z"
   },
   {
    "duration": 18,
    "start_time": "2025-03-24T05:29:20.974Z"
   },
   {
    "duration": 4,
    "start_time": "2025-03-24T05:29:20.993Z"
   },
   {
    "duration": 32,
    "start_time": "2025-03-24T05:29:20.998Z"
   },
   {
    "duration": 26,
    "start_time": "2025-03-24T05:29:21.034Z"
   },
   {
    "duration": 21,
    "start_time": "2025-03-24T05:29:21.061Z"
   },
   {
    "duration": 8,
    "start_time": "2025-03-24T05:29:21.083Z"
   },
   {
    "duration": 10,
    "start_time": "2025-03-24T05:29:21.093Z"
   },
   {
    "duration": 3,
    "start_time": "2025-03-24T05:29:21.105Z"
   },
   {
    "duration": 12,
    "start_time": "2025-03-24T05:29:21.110Z"
   },
   {
    "duration": 6,
    "start_time": "2025-03-24T05:29:21.123Z"
   },
   {
    "duration": 6,
    "start_time": "2025-03-24T05:29:21.130Z"
   },
   {
    "duration": 19,
    "start_time": "2025-03-24T05:29:21.138Z"
   },
   {
    "duration": 10,
    "start_time": "2025-03-24T05:29:21.158Z"
   },
   {
    "duration": 15,
    "start_time": "2025-03-24T05:29:21.169Z"
   },
   {
    "duration": 19,
    "start_time": "2025-03-24T05:29:21.185Z"
   },
   {
    "duration": 7,
    "start_time": "2025-03-24T05:29:21.206Z"
   },
   {
    "duration": 12,
    "start_time": "2025-03-24T05:29:21.215Z"
   },
   {
    "duration": 12,
    "start_time": "2025-03-24T05:29:21.229Z"
   },
   {
    "duration": 2,
    "start_time": "2025-03-24T05:29:21.242Z"
   },
   {
    "duration": 2,
    "start_time": "2025-03-24T05:29:21.267Z"
   },
   {
    "duration": 17,
    "start_time": "2025-03-24T05:29:21.271Z"
   },
   {
    "duration": 3,
    "start_time": "2025-03-24T05:29:21.289Z"
   },
   {
    "duration": 10,
    "start_time": "2025-03-24T05:29:21.293Z"
   },
   {
    "duration": 14,
    "start_time": "2025-03-24T05:29:21.304Z"
   },
   {
    "duration": 4,
    "start_time": "2025-03-24T05:29:21.319Z"
   },
   {
    "duration": 7,
    "start_time": "2025-03-24T05:29:21.325Z"
   },
   {
    "duration": 6,
    "start_time": "2025-03-24T05:29:21.334Z"
   },
   {
    "duration": 27,
    "start_time": "2025-03-24T05:29:21.341Z"
   },
   {
    "duration": 6,
    "start_time": "2025-03-24T05:29:21.369Z"
   },
   {
    "duration": 7,
    "start_time": "2025-03-24T05:29:21.376Z"
   },
   {
    "duration": 4,
    "start_time": "2025-03-24T05:29:21.386Z"
   },
   {
    "duration": 409,
    "start_time": "2025-03-24T05:31:35.467Z"
   },
   {
    "duration": 116,
    "start_time": "2025-03-24T05:31:35.878Z"
   },
   {
    "duration": 15,
    "start_time": "2025-03-24T05:31:35.996Z"
   },
   {
    "duration": 18,
    "start_time": "2025-03-24T05:31:36.013Z"
   },
   {
    "duration": 14,
    "start_time": "2025-03-24T05:31:36.033Z"
   },
   {
    "duration": 18,
    "start_time": "2025-03-24T05:31:36.049Z"
   },
   {
    "duration": 26,
    "start_time": "2025-03-24T05:31:36.069Z"
   },
   {
    "duration": 9,
    "start_time": "2025-03-24T05:31:36.097Z"
   },
   {
    "duration": 17,
    "start_time": "2025-03-24T05:31:36.107Z"
   },
   {
    "duration": 8,
    "start_time": "2025-03-24T05:31:36.125Z"
   },
   {
    "duration": 25,
    "start_time": "2025-03-24T05:31:36.134Z"
   },
   {
    "duration": 32,
    "start_time": "2025-03-24T05:31:36.161Z"
   },
   {
    "duration": 9,
    "start_time": "2025-03-24T05:31:36.195Z"
   },
   {
    "duration": 16,
    "start_time": "2025-03-24T05:31:36.208Z"
   },
   {
    "duration": 21,
    "start_time": "2025-03-24T05:31:36.226Z"
   },
   {
    "duration": 28,
    "start_time": "2025-03-24T05:31:36.248Z"
   },
   {
    "duration": 10,
    "start_time": "2025-03-24T05:31:36.277Z"
   },
   {
    "duration": 8,
    "start_time": "2025-03-24T05:31:36.288Z"
   },
   {
    "duration": 16,
    "start_time": "2025-03-24T05:31:36.298Z"
   },
   {
    "duration": 5,
    "start_time": "2025-03-24T05:31:36.316Z"
   },
   {
    "duration": 50,
    "start_time": "2025-03-24T05:31:36.322Z"
   },
   {
    "duration": 6,
    "start_time": "2025-03-24T05:31:36.374Z"
   },
   {
    "duration": 12,
    "start_time": "2025-03-24T05:31:36.382Z"
   },
   {
    "duration": 8,
    "start_time": "2025-03-24T05:31:36.395Z"
   },
   {
    "duration": 20,
    "start_time": "2025-03-24T05:31:36.405Z"
   },
   {
    "duration": 8,
    "start_time": "2025-03-24T05:31:36.426Z"
   },
   {
    "duration": 39,
    "start_time": "2025-03-24T05:31:36.436Z"
   },
   {
    "duration": 13,
    "start_time": "2025-03-24T05:31:36.476Z"
   },
   {
    "duration": 17,
    "start_time": "2025-03-24T05:31:36.491Z"
   },
   {
    "duration": 3,
    "start_time": "2025-03-24T05:31:36.510Z"
   },
   {
    "duration": 4,
    "start_time": "2025-03-24T05:31:36.515Z"
   },
   {
    "duration": 3,
    "start_time": "2025-03-24T05:31:36.521Z"
   },
   {
    "duration": 58,
    "start_time": "2025-03-24T05:31:36.526Z"
   },
   {
    "duration": 7,
    "start_time": "2025-03-24T05:31:36.586Z"
   },
   {
    "duration": 17,
    "start_time": "2025-03-24T05:31:36.594Z"
   },
   {
    "duration": 9,
    "start_time": "2025-03-24T05:31:36.612Z"
   },
   {
    "duration": 5,
    "start_time": "2025-03-24T05:31:36.623Z"
   },
   {
    "duration": 14,
    "start_time": "2025-03-24T05:31:36.630Z"
   },
   {
    "duration": 10,
    "start_time": "2025-03-24T05:31:36.645Z"
   },
   {
    "duration": 88,
    "start_time": "2025-03-24T05:31:36.657Z"
   },
   {
    "duration": 0,
    "start_time": "2025-03-24T05:31:36.747Z"
   },
   {
    "duration": 10,
    "start_time": "2025-03-24T05:31:53.412Z"
   },
   {
    "duration": 7,
    "start_time": "2025-03-24T05:32:04.011Z"
   },
   {
    "duration": 4,
    "start_time": "2025-03-24T05:32:07.643Z"
   },
   {
    "duration": 432,
    "start_time": "2025-03-24T05:40:21.447Z"
   },
   {
    "duration": 154,
    "start_time": "2025-03-24T05:40:21.881Z"
   },
   {
    "duration": 17,
    "start_time": "2025-03-24T05:40:22.036Z"
   },
   {
    "duration": 24,
    "start_time": "2025-03-24T05:40:22.055Z"
   },
   {
    "duration": 4,
    "start_time": "2025-03-24T05:40:22.081Z"
   },
   {
    "duration": 9,
    "start_time": "2025-03-24T05:40:22.086Z"
   },
   {
    "duration": 20,
    "start_time": "2025-03-24T05:40:22.096Z"
   },
   {
    "duration": 9,
    "start_time": "2025-03-24T05:40:22.118Z"
   },
   {
    "duration": 22,
    "start_time": "2025-03-24T05:40:22.129Z"
   },
   {
    "duration": 23,
    "start_time": "2025-03-24T05:40:22.153Z"
   },
   {
    "duration": 9,
    "start_time": "2025-03-24T05:40:22.178Z"
   },
   {
    "duration": 4,
    "start_time": "2025-03-24T05:40:22.188Z"
   },
   {
    "duration": 8,
    "start_time": "2025-03-24T05:40:22.193Z"
   },
   {
    "duration": 13,
    "start_time": "2025-03-24T05:40:22.205Z"
   },
   {
    "duration": 8,
    "start_time": "2025-03-24T05:40:22.220Z"
   },
   {
    "duration": 4,
    "start_time": "2025-03-24T05:40:22.230Z"
   },
   {
    "duration": 40,
    "start_time": "2025-03-24T05:40:22.236Z"
   },
   {
    "duration": 6,
    "start_time": "2025-03-24T05:40:22.278Z"
   },
   {
    "duration": 17,
    "start_time": "2025-03-24T05:40:22.285Z"
   },
   {
    "duration": 6,
    "start_time": "2025-03-24T05:40:22.305Z"
   },
   {
    "duration": 4,
    "start_time": "2025-03-24T05:40:22.313Z"
   },
   {
    "duration": 11,
    "start_time": "2025-03-24T05:40:22.319Z"
   },
   {
    "duration": 36,
    "start_time": "2025-03-24T05:40:22.332Z"
   },
   {
    "duration": 12,
    "start_time": "2025-03-24T05:40:22.371Z"
   },
   {
    "duration": 35,
    "start_time": "2025-03-24T05:40:22.385Z"
   },
   {
    "duration": 6,
    "start_time": "2025-03-24T05:40:22.422Z"
   },
   {
    "duration": 14,
    "start_time": "2025-03-24T05:40:22.430Z"
   },
   {
    "duration": 26,
    "start_time": "2025-03-24T05:40:22.445Z"
   },
   {
    "duration": 2,
    "start_time": "2025-03-24T05:40:22.473Z"
   },
   {
    "duration": 4,
    "start_time": "2025-03-24T05:40:22.476Z"
   },
   {
    "duration": 3,
    "start_time": "2025-03-24T05:40:22.481Z"
   },
   {
    "duration": 3,
    "start_time": "2025-03-24T05:40:22.486Z"
   },
   {
    "duration": 12,
    "start_time": "2025-03-24T05:40:22.490Z"
   },
   {
    "duration": 8,
    "start_time": "2025-03-24T05:40:22.503Z"
   },
   {
    "duration": 7,
    "start_time": "2025-03-24T05:40:22.513Z"
   },
   {
    "duration": 11,
    "start_time": "2025-03-24T05:40:22.521Z"
   },
   {
    "duration": 6,
    "start_time": "2025-03-24T05:40:22.535Z"
   },
   {
    "duration": 52,
    "start_time": "2025-03-24T05:40:22.542Z"
   },
   {
    "duration": 7,
    "start_time": "2025-03-24T05:40:22.596Z"
   },
   {
    "duration": 5,
    "start_time": "2025-03-24T05:40:22.605Z"
   },
   {
    "duration": 6,
    "start_time": "2025-03-24T05:40:22.613Z"
   },
   {
    "duration": 357,
    "start_time": "2025-03-24T05:41:14.210Z"
   },
   {
    "duration": 107,
    "start_time": "2025-03-24T05:41:14.569Z"
   },
   {
    "duration": 18,
    "start_time": "2025-03-24T05:41:14.678Z"
   },
   {
    "duration": 20,
    "start_time": "2025-03-24T05:41:14.697Z"
   },
   {
    "duration": 4,
    "start_time": "2025-03-24T05:41:14.719Z"
   },
   {
    "duration": 4,
    "start_time": "2025-03-24T05:41:14.724Z"
   },
   {
    "duration": 17,
    "start_time": "2025-03-24T05:41:14.729Z"
   },
   {
    "duration": 6,
    "start_time": "2025-03-24T05:41:14.766Z"
   },
   {
    "duration": 14,
    "start_time": "2025-03-24T05:41:14.773Z"
   },
   {
    "duration": 7,
    "start_time": "2025-03-24T05:41:14.788Z"
   },
   {
    "duration": 12,
    "start_time": "2025-03-24T05:41:14.797Z"
   },
   {
    "duration": 6,
    "start_time": "2025-03-24T05:41:14.810Z"
   },
   {
    "duration": 7,
    "start_time": "2025-03-24T05:41:14.818Z"
   },
   {
    "duration": 51,
    "start_time": "2025-03-24T05:41:14.827Z"
   },
   {
    "duration": 9,
    "start_time": "2025-03-24T05:41:14.880Z"
   },
   {
    "duration": 13,
    "start_time": "2025-03-24T05:41:14.891Z"
   },
   {
    "duration": 14,
    "start_time": "2025-03-24T05:41:14.905Z"
   },
   {
    "duration": 4,
    "start_time": "2025-03-24T05:41:14.921Z"
   },
   {
    "duration": 12,
    "start_time": "2025-03-24T05:41:14.927Z"
   },
   {
    "duration": 11,
    "start_time": "2025-03-24T05:41:14.942Z"
   },
   {
    "duration": 17,
    "start_time": "2025-03-24T05:41:14.955Z"
   },
   {
    "duration": 6,
    "start_time": "2025-03-24T05:41:14.974Z"
   },
   {
    "duration": 15,
    "start_time": "2025-03-24T05:41:14.982Z"
   },
   {
    "duration": 14,
    "start_time": "2025-03-24T05:41:14.999Z"
   },
   {
    "duration": 24,
    "start_time": "2025-03-24T05:41:15.015Z"
   },
   {
    "duration": 31,
    "start_time": "2025-03-24T05:41:15.041Z"
   },
   {
    "duration": 69,
    "start_time": "2025-03-24T05:41:15.074Z"
   },
   {
    "duration": 14,
    "start_time": "2025-03-24T05:41:15.145Z"
   },
   {
    "duration": 13,
    "start_time": "2025-03-24T05:41:15.161Z"
   },
   {
    "duration": 10,
    "start_time": "2025-03-24T05:41:15.176Z"
   },
   {
    "duration": 26,
    "start_time": "2025-03-24T05:41:15.188Z"
   },
   {
    "duration": 25,
    "start_time": "2025-03-24T05:41:15.215Z"
   },
   {
    "duration": 10,
    "start_time": "2025-03-24T05:41:15.242Z"
   },
   {
    "duration": 19,
    "start_time": "2025-03-24T05:41:15.253Z"
   },
   {
    "duration": 10,
    "start_time": "2025-03-24T05:41:15.274Z"
   },
   {
    "duration": 25,
    "start_time": "2025-03-24T05:41:15.285Z"
   },
   {
    "duration": 11,
    "start_time": "2025-03-24T05:41:15.311Z"
   },
   {
    "duration": 13,
    "start_time": "2025-03-24T05:41:15.324Z"
   },
   {
    "duration": 21,
    "start_time": "2025-03-24T05:41:15.338Z"
   },
   {
    "duration": 10,
    "start_time": "2025-03-24T05:41:15.360Z"
   },
   {
    "duration": 28,
    "start_time": "2025-03-24T05:41:15.373Z"
   },
   {
    "duration": 420,
    "start_time": "2025-03-24T05:44:25.546Z"
   },
   {
    "duration": 109,
    "start_time": "2025-03-24T05:44:25.968Z"
   },
   {
    "duration": 19,
    "start_time": "2025-03-24T05:44:26.079Z"
   },
   {
    "duration": 25,
    "start_time": "2025-03-24T05:44:26.100Z"
   },
   {
    "duration": 5,
    "start_time": "2025-03-24T05:44:26.128Z"
   },
   {
    "duration": 41,
    "start_time": "2025-03-24T05:44:26.135Z"
   },
   {
    "duration": 4,
    "start_time": "2025-03-24T05:44:26.178Z"
   },
   {
    "duration": 5,
    "start_time": "2025-03-24T05:44:26.184Z"
   },
   {
    "duration": 14,
    "start_time": "2025-03-24T05:44:26.191Z"
   },
   {
    "duration": 8,
    "start_time": "2025-03-24T05:44:26.206Z"
   },
   {
    "duration": 9,
    "start_time": "2025-03-24T05:44:26.216Z"
   },
   {
    "duration": 4,
    "start_time": "2025-03-24T05:44:26.226Z"
   },
   {
    "duration": 6,
    "start_time": "2025-03-24T05:44:26.232Z"
   },
   {
    "duration": 9,
    "start_time": "2025-03-24T05:44:26.269Z"
   },
   {
    "duration": 7,
    "start_time": "2025-03-24T05:44:26.280Z"
   },
   {
    "duration": 8,
    "start_time": "2025-03-24T05:44:26.289Z"
   },
   {
    "duration": 9,
    "start_time": "2025-03-24T05:44:26.299Z"
   },
   {
    "duration": 4,
    "start_time": "2025-03-24T05:44:26.310Z"
   },
   {
    "duration": 55,
    "start_time": "2025-03-24T05:44:26.315Z"
   },
   {
    "duration": 5,
    "start_time": "2025-03-24T05:44:26.372Z"
   },
   {
    "duration": 4,
    "start_time": "2025-03-24T05:44:26.378Z"
   },
   {
    "duration": 4,
    "start_time": "2025-03-24T05:44:26.384Z"
   },
   {
    "duration": 11,
    "start_time": "2025-03-24T05:44:26.390Z"
   },
   {
    "duration": 15,
    "start_time": "2025-03-24T05:44:26.403Z"
   },
   {
    "duration": 48,
    "start_time": "2025-03-24T05:44:26.420Z"
   },
   {
    "duration": 8,
    "start_time": "2025-03-24T05:44:26.470Z"
   },
   {
    "duration": 28,
    "start_time": "2025-03-24T05:44:26.480Z"
   },
   {
    "duration": 22,
    "start_time": "2025-03-24T05:44:26.510Z"
   },
   {
    "duration": 3,
    "start_time": "2025-03-24T05:44:26.534Z"
   },
   {
    "duration": 3,
    "start_time": "2025-03-24T05:44:26.539Z"
   },
   {
    "duration": 48,
    "start_time": "2025-03-24T05:44:26.568Z"
   },
   {
    "duration": 3,
    "start_time": "2025-03-24T05:44:26.618Z"
   },
   {
    "duration": 5,
    "start_time": "2025-03-24T05:44:26.623Z"
   },
   {
    "duration": 6,
    "start_time": "2025-03-24T05:44:26.630Z"
   },
   {
    "duration": 4,
    "start_time": "2025-03-24T05:44:26.638Z"
   },
   {
    "duration": 6,
    "start_time": "2025-03-24T05:44:26.644Z"
   },
   {
    "duration": 7,
    "start_time": "2025-03-24T05:44:26.652Z"
   },
   {
    "duration": 6,
    "start_time": "2025-03-24T05:44:26.661Z"
   },
   {
    "duration": 6,
    "start_time": "2025-03-24T05:44:26.669Z"
   },
   {
    "duration": 11,
    "start_time": "2025-03-24T05:44:26.677Z"
   },
   {
    "duration": 5,
    "start_time": "2025-03-24T05:44:26.692Z"
   },
   {
    "duration": 6,
    "start_time": "2025-03-24T05:44:26.698Z"
   },
   {
    "duration": 84,
    "start_time": "2025-03-24T05:44:26.706Z"
   },
   {
    "duration": 0,
    "start_time": "2025-03-24T05:44:26.791Z"
   },
   {
    "duration": 408,
    "start_time": "2025-03-24T05:46:32.958Z"
   },
   {
    "duration": 89,
    "start_time": "2025-03-24T05:46:33.368Z"
   },
   {
    "duration": 26,
    "start_time": "2025-03-24T05:46:33.459Z"
   },
   {
    "duration": 20,
    "start_time": "2025-03-24T05:46:33.487Z"
   },
   {
    "duration": 5,
    "start_time": "2025-03-24T05:46:33.509Z"
   },
   {
    "duration": 4,
    "start_time": "2025-03-24T05:46:33.516Z"
   },
   {
    "duration": 4,
    "start_time": "2025-03-24T05:46:33.521Z"
   },
   {
    "duration": 5,
    "start_time": "2025-03-24T05:46:33.527Z"
   },
   {
    "duration": 28,
    "start_time": "2025-03-24T05:46:33.534Z"
   },
   {
    "duration": 18,
    "start_time": "2025-03-24T05:46:33.566Z"
   },
   {
    "duration": 8,
    "start_time": "2025-03-24T05:46:33.585Z"
   },
   {
    "duration": 19,
    "start_time": "2025-03-24T05:46:33.594Z"
   },
   {
    "duration": 9,
    "start_time": "2025-03-24T05:46:33.615Z"
   },
   {
    "duration": 8,
    "start_time": "2025-03-24T05:46:33.628Z"
   },
   {
    "duration": 44,
    "start_time": "2025-03-24T05:46:33.637Z"
   },
   {
    "duration": 8,
    "start_time": "2025-03-24T05:46:33.682Z"
   },
   {
    "duration": 35,
    "start_time": "2025-03-24T05:46:33.691Z"
   },
   {
    "duration": 24,
    "start_time": "2025-03-24T05:46:33.727Z"
   },
   {
    "duration": 53,
    "start_time": "2025-03-24T05:46:33.753Z"
   },
   {
    "duration": 26,
    "start_time": "2025-03-24T05:46:33.807Z"
   },
   {
    "duration": 22,
    "start_time": "2025-03-24T05:46:33.835Z"
   },
   {
    "duration": 27,
    "start_time": "2025-03-24T05:46:33.858Z"
   },
   {
    "duration": 9,
    "start_time": "2025-03-24T05:46:33.887Z"
   },
   {
    "duration": 22,
    "start_time": "2025-03-24T05:46:33.898Z"
   },
   {
    "duration": 20,
    "start_time": "2025-03-24T05:46:33.922Z"
   },
   {
    "duration": 48,
    "start_time": "2025-03-24T05:46:33.944Z"
   },
   {
    "duration": 46,
    "start_time": "2025-03-24T05:46:33.994Z"
   },
   {
    "duration": 16,
    "start_time": "2025-03-24T05:46:34.043Z"
   },
   {
    "duration": 2,
    "start_time": "2025-03-24T05:46:34.061Z"
   },
   {
    "duration": 18,
    "start_time": "2025-03-24T05:46:34.064Z"
   },
   {
    "duration": 3,
    "start_time": "2025-03-24T05:46:34.084Z"
   },
   {
    "duration": 3,
    "start_time": "2025-03-24T05:46:34.088Z"
   },
   {
    "duration": 6,
    "start_time": "2025-03-24T05:46:34.093Z"
   },
   {
    "duration": 21,
    "start_time": "2025-03-24T05:46:34.101Z"
   },
   {
    "duration": 5,
    "start_time": "2025-03-24T05:46:34.125Z"
   },
   {
    "duration": 14,
    "start_time": "2025-03-24T05:46:34.132Z"
   },
   {
    "duration": 20,
    "start_time": "2025-03-24T05:46:34.148Z"
   },
   {
    "duration": 11,
    "start_time": "2025-03-24T05:46:34.171Z"
   },
   {
    "duration": 9,
    "start_time": "2025-03-24T05:46:34.184Z"
   },
   {
    "duration": 6,
    "start_time": "2025-03-24T05:46:34.195Z"
   },
   {
    "duration": 4,
    "start_time": "2025-03-24T05:46:34.204Z"
   },
   {
    "duration": 10,
    "start_time": "2025-03-24T05:46:34.209Z"
   },
   {
    "duration": 3,
    "start_time": "2025-03-24T05:46:34.220Z"
   },
   {
    "duration": 7,
    "start_time": "2025-03-24T05:46:34.224Z"
   },
   {
    "duration": 6,
    "start_time": "2025-03-24T05:46:50.480Z"
   },
   {
    "duration": 362,
    "start_time": "2025-03-24T05:46:56.614Z"
   },
   {
    "duration": 86,
    "start_time": "2025-03-24T05:46:56.978Z"
   },
   {
    "duration": 15,
    "start_time": "2025-03-24T05:46:57.066Z"
   },
   {
    "duration": 19,
    "start_time": "2025-03-24T05:46:57.083Z"
   },
   {
    "duration": 4,
    "start_time": "2025-03-24T05:46:57.104Z"
   },
   {
    "duration": 4,
    "start_time": "2025-03-24T05:46:57.110Z"
   },
   {
    "duration": 4,
    "start_time": "2025-03-24T05:46:57.116Z"
   },
   {
    "duration": 6,
    "start_time": "2025-03-24T05:46:57.122Z"
   },
   {
    "duration": 45,
    "start_time": "2025-03-24T05:46:57.130Z"
   },
   {
    "duration": 14,
    "start_time": "2025-03-24T05:46:57.177Z"
   },
   {
    "duration": 10,
    "start_time": "2025-03-24T05:46:57.192Z"
   },
   {
    "duration": 4,
    "start_time": "2025-03-24T05:46:57.203Z"
   },
   {
    "duration": 11,
    "start_time": "2025-03-24T05:46:57.208Z"
   },
   {
    "duration": 7,
    "start_time": "2025-03-24T05:46:57.223Z"
   },
   {
    "duration": 7,
    "start_time": "2025-03-24T05:46:57.232Z"
   },
   {
    "duration": 4,
    "start_time": "2025-03-24T05:46:57.241Z"
   },
   {
    "duration": 8,
    "start_time": "2025-03-24T05:46:57.267Z"
   },
   {
    "duration": 5,
    "start_time": "2025-03-24T05:46:57.276Z"
   },
   {
    "duration": 9,
    "start_time": "2025-03-24T05:46:57.283Z"
   },
   {
    "duration": 5,
    "start_time": "2025-03-24T05:46:57.294Z"
   },
   {
    "duration": 4,
    "start_time": "2025-03-24T05:46:57.301Z"
   },
   {
    "duration": 24,
    "start_time": "2025-03-24T05:46:57.306Z"
   },
   {
    "duration": 13,
    "start_time": "2025-03-24T05:46:57.331Z"
   },
   {
    "duration": 22,
    "start_time": "2025-03-24T05:46:57.346Z"
   },
   {
    "duration": 23,
    "start_time": "2025-03-24T05:46:57.369Z"
   },
   {
    "duration": 9,
    "start_time": "2025-03-24T05:46:57.394Z"
   },
   {
    "duration": 16,
    "start_time": "2025-03-24T05:46:57.405Z"
   },
   {
    "duration": 50,
    "start_time": "2025-03-24T05:46:57.423Z"
   },
   {
    "duration": 2,
    "start_time": "2025-03-24T05:46:57.475Z"
   },
   {
    "duration": 5,
    "start_time": "2025-03-24T05:46:57.478Z"
   },
   {
    "duration": 8,
    "start_time": "2025-03-24T05:46:57.485Z"
   },
   {
    "duration": 4,
    "start_time": "2025-03-24T05:46:57.494Z"
   },
   {
    "duration": 16,
    "start_time": "2025-03-24T05:46:57.499Z"
   },
   {
    "duration": 6,
    "start_time": "2025-03-24T05:46:57.517Z"
   },
   {
    "duration": 4,
    "start_time": "2025-03-24T05:46:57.525Z"
   },
   {
    "duration": 6,
    "start_time": "2025-03-24T05:46:57.530Z"
   },
   {
    "duration": 32,
    "start_time": "2025-03-24T05:46:57.537Z"
   },
   {
    "duration": 14,
    "start_time": "2025-03-24T05:46:57.571Z"
   },
   {
    "duration": 6,
    "start_time": "2025-03-24T05:46:57.587Z"
   },
   {
    "duration": 6,
    "start_time": "2025-03-24T05:46:57.595Z"
   },
   {
    "duration": 4,
    "start_time": "2025-03-24T05:46:57.605Z"
   },
   {
    "duration": 7,
    "start_time": "2025-03-24T05:46:57.610Z"
   },
   {
    "duration": 3,
    "start_time": "2025-03-24T05:46:57.618Z"
   },
   {
    "duration": 45,
    "start_time": "2025-03-24T05:46:57.623Z"
   },
   {
    "duration": 410,
    "start_time": "2025-03-24T05:50:08.060Z"
   },
   {
    "duration": 86,
    "start_time": "2025-03-24T05:50:08.472Z"
   },
   {
    "duration": 16,
    "start_time": "2025-03-24T05:50:08.560Z"
   },
   {
    "duration": 20,
    "start_time": "2025-03-24T05:50:08.577Z"
   },
   {
    "duration": 41,
    "start_time": "2025-03-24T05:50:08.598Z"
   },
   {
    "duration": 4,
    "start_time": "2025-03-24T05:50:08.640Z"
   },
   {
    "duration": 5,
    "start_time": "2025-03-24T05:50:08.645Z"
   },
   {
    "duration": 6,
    "start_time": "2025-03-24T05:50:08.651Z"
   },
   {
    "duration": 12,
    "start_time": "2025-03-24T05:50:08.659Z"
   },
   {
    "duration": 7,
    "start_time": "2025-03-24T05:50:08.672Z"
   },
   {
    "duration": 8,
    "start_time": "2025-03-24T05:50:08.680Z"
   },
   {
    "duration": 3,
    "start_time": "2025-03-24T05:50:08.689Z"
   },
   {
    "duration": 5,
    "start_time": "2025-03-24T05:50:08.694Z"
   },
   {
    "duration": 8,
    "start_time": "2025-03-24T05:50:08.702Z"
   },
   {
    "duration": 6,
    "start_time": "2025-03-24T05:50:08.711Z"
   },
   {
    "duration": 4,
    "start_time": "2025-03-24T05:50:08.718Z"
   },
   {
    "duration": 44,
    "start_time": "2025-03-24T05:50:08.723Z"
   },
   {
    "duration": 5,
    "start_time": "2025-03-24T05:50:08.769Z"
   },
   {
    "duration": 8,
    "start_time": "2025-03-24T05:50:08.776Z"
   },
   {
    "duration": 5,
    "start_time": "2025-03-24T05:50:08.785Z"
   },
   {
    "duration": 12,
    "start_time": "2025-03-24T05:50:08.791Z"
   },
   {
    "duration": 4,
    "start_time": "2025-03-24T05:50:08.804Z"
   },
   {
    "duration": 9,
    "start_time": "2025-03-24T05:50:08.809Z"
   },
   {
    "duration": 7,
    "start_time": "2025-03-24T05:50:08.819Z"
   },
   {
    "duration": 46,
    "start_time": "2025-03-24T05:50:08.828Z"
   },
   {
    "duration": 35,
    "start_time": "2025-03-24T05:50:08.876Z"
   },
   {
    "duration": 15,
    "start_time": "2025-03-24T05:50:08.912Z"
   },
   {
    "duration": 13,
    "start_time": "2025-03-24T05:50:08.928Z"
   },
   {
    "duration": 4,
    "start_time": "2025-03-24T05:50:08.943Z"
   },
   {
    "duration": 11,
    "start_time": "2025-03-24T05:50:08.949Z"
   },
   {
    "duration": 12,
    "start_time": "2025-03-24T05:50:08.961Z"
   },
   {
    "duration": 9,
    "start_time": "2025-03-24T05:50:08.976Z"
   },
   {
    "duration": 8,
    "start_time": "2025-03-24T05:50:08.987Z"
   },
   {
    "duration": 7,
    "start_time": "2025-03-24T05:50:08.997Z"
   },
   {
    "duration": 6,
    "start_time": "2025-03-24T05:50:09.007Z"
   },
   {
    "duration": 8,
    "start_time": "2025-03-24T05:50:09.015Z"
   },
   {
    "duration": 17,
    "start_time": "2025-03-24T05:50:09.025Z"
   },
   {
    "duration": 23,
    "start_time": "2025-03-24T05:50:09.044Z"
   },
   {
    "duration": 8,
    "start_time": "2025-03-24T05:50:09.069Z"
   },
   {
    "duration": 6,
    "start_time": "2025-03-24T05:50:09.079Z"
   },
   {
    "duration": 4,
    "start_time": "2025-03-24T05:50:09.088Z"
   },
   {
    "duration": 5,
    "start_time": "2025-03-24T05:50:09.094Z"
   },
   {
    "duration": 4,
    "start_time": "2025-03-24T05:50:09.101Z"
   },
   {
    "duration": 11,
    "start_time": "2025-03-24T05:50:09.107Z"
   },
   {
    "duration": 10,
    "start_time": "2025-03-24T05:55:11.210Z"
   },
   {
    "duration": 8,
    "start_time": "2025-03-24T05:55:35.434Z"
   },
   {
    "duration": 7,
    "start_time": "2025-03-24T05:56:07.747Z"
   },
   {
    "duration": 417,
    "start_time": "2025-03-24T06:28:37.560Z"
   },
   {
    "duration": 105,
    "start_time": "2025-03-24T06:28:37.979Z"
   },
   {
    "duration": 15,
    "start_time": "2025-03-24T06:28:38.086Z"
   },
   {
    "duration": 20,
    "start_time": "2025-03-24T06:28:38.103Z"
   },
   {
    "duration": 3,
    "start_time": "2025-03-24T06:28:38.125Z"
   },
   {
    "duration": 6,
    "start_time": "2025-03-24T06:28:38.129Z"
   },
   {
    "duration": 5,
    "start_time": "2025-03-24T06:28:38.136Z"
   },
   {
    "duration": 25,
    "start_time": "2025-03-24T06:28:38.142Z"
   },
   {
    "duration": 14,
    "start_time": "2025-03-24T06:28:38.169Z"
   },
   {
    "duration": 17,
    "start_time": "2025-03-24T06:28:38.184Z"
   },
   {
    "duration": 40,
    "start_time": "2025-03-24T06:28:38.202Z"
   },
   {
    "duration": 3,
    "start_time": "2025-03-24T06:28:38.244Z"
   },
   {
    "duration": 6,
    "start_time": "2025-03-24T06:28:38.249Z"
   },
   {
    "duration": 14,
    "start_time": "2025-03-24T06:28:38.258Z"
   },
   {
    "duration": 6,
    "start_time": "2025-03-24T06:28:38.274Z"
   },
   {
    "duration": 4,
    "start_time": "2025-03-24T06:28:38.281Z"
   },
   {
    "duration": 8,
    "start_time": "2025-03-24T06:28:38.286Z"
   },
   {
    "duration": 6,
    "start_time": "2025-03-24T06:28:38.296Z"
   },
   {
    "duration": 7,
    "start_time": "2025-03-24T06:28:38.304Z"
   },
   {
    "duration": 5,
    "start_time": "2025-03-24T06:28:38.312Z"
   },
   {
    "duration": 4,
    "start_time": "2025-03-24T06:28:38.318Z"
   },
   {
    "duration": 3,
    "start_time": "2025-03-24T06:28:38.323Z"
   },
   {
    "duration": 43,
    "start_time": "2025-03-24T06:28:38.328Z"
   },
   {
    "duration": 8,
    "start_time": "2025-03-24T06:28:38.372Z"
   },
   {
    "duration": 23,
    "start_time": "2025-03-24T06:28:38.382Z"
   },
   {
    "duration": 6,
    "start_time": "2025-03-24T06:28:38.407Z"
   },
   {
    "duration": 15,
    "start_time": "2025-03-24T06:28:38.415Z"
   },
   {
    "duration": 38,
    "start_time": "2025-03-24T06:28:38.431Z"
   },
   {
    "duration": 3,
    "start_time": "2025-03-24T06:28:38.470Z"
   },
   {
    "duration": 4,
    "start_time": "2025-03-24T06:28:38.474Z"
   },
   {
    "duration": 16,
    "start_time": "2025-03-24T06:28:38.479Z"
   },
   {
    "duration": 6,
    "start_time": "2025-03-24T06:28:38.497Z"
   },
   {
    "duration": 5,
    "start_time": "2025-03-24T06:28:38.504Z"
   },
   {
    "duration": 6,
    "start_time": "2025-03-24T06:28:38.511Z"
   },
   {
    "duration": 5,
    "start_time": "2025-03-24T06:28:38.519Z"
   },
   {
    "duration": 5,
    "start_time": "2025-03-24T06:28:38.526Z"
   },
   {
    "duration": 8,
    "start_time": "2025-03-24T06:28:38.533Z"
   },
   {
    "duration": 25,
    "start_time": "2025-03-24T06:28:38.543Z"
   },
   {
    "duration": 8,
    "start_time": "2025-03-24T06:28:38.570Z"
   },
   {
    "duration": 5,
    "start_time": "2025-03-24T06:28:38.579Z"
   },
   {
    "duration": 4,
    "start_time": "2025-03-24T06:28:38.588Z"
   },
   {
    "duration": 7,
    "start_time": "2025-03-24T06:28:38.593Z"
   },
   {
    "duration": 8,
    "start_time": "2025-03-24T06:28:38.601Z"
   },
   {
    "duration": 13,
    "start_time": "2025-03-24T06:28:38.611Z"
   }
  ],
  "colab": {
   "provenance": []
  },
  "kernelspec": {
   "display_name": "Python [conda env:base] *",
   "language": "python",
   "name": "conda-base-py"
  },
  "language_info": {
   "codemirror_mode": {
    "name": "ipython",
    "version": 3
   },
   "file_extension": ".py",
   "mimetype": "text/x-python",
   "name": "python",
   "nbconvert_exporter": "python",
   "pygments_lexer": "ipython3",
   "version": "3.12.7"
  },
  "toc": {
   "base_numbering": 1,
   "nav_menu": {},
   "number_sections": true,
   "sideBar": true,
   "skip_h1_title": true,
   "title_cell": "Table of Contents",
   "title_sidebar": "Contents",
   "toc_cell": false,
   "toc_position": {},
   "toc_section_display": true,
   "toc_window_display": false
  }
 },
 "nbformat": 4,
 "nbformat_minor": 5
}
